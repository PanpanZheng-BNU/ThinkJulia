{
 "cells": [
  {
   "cell_type": "markdown",
   "id": "c3f48a60-c2df-423e-b52a-b891b2759a53",
   "metadata": {},
   "source": [
    "# The Goodies: Base and Standard Library\n",
    "## Measure Performance"
   ]
  },
  {
   "cell_type": "code",
   "execution_count": 1,
   "id": "c481db28-dad6-4af5-911c-b959288cb75c",
   "metadata": {
    "execution": {
     "iopub.execute_input": "2021-04-26T03:33:10.782000-07:00",
     "iopub.status.busy": "2021-04-26T03:33:10.153000-07:00",
     "iopub.status.idle": "2021-04-26T03:33:11.081000-07:00",
     "shell.execute_reply": "2021-04-26T03:33:11.050000-07:00"
    },
    "tags": []
   },
   "outputs": [
    {
     "name": "stdout",
     "output_type": "stream",
     "text": [
      "1  0.009283 seconds (13.62 k allocations: 908.861 KiB, 98.09% compilation time)\n"
     ]
    }
   ],
   "source": [
    "@time print(1)"
   ]
  },
  {
   "cell_type": "markdown",
   "id": "cfa077b9-eacd-4676-8b9c-a4b99123ff3a",
   "metadata": {},
   "source": [
    "## Collections and Data Structures\n",
    "* `::set` like a dictionary without value\n",
    "    * `setdiff()`\n",
    "    * **no repeat**"
   ]
  },
  {
   "cell_type": "code",
   "execution_count": 66,
   "id": "6abeb65b-5bf0-404a-9148-58bb735504cc",
   "metadata": {
    "execution": {
     "iopub.execute_input": "2021-04-26T03:58:48.492000-07:00",
     "iopub.status.busy": "2021-04-26T03:58:48.492000-07:00",
     "iopub.status.idle": "2021-04-26T03:58:48.494000-07:00",
     "shell.execute_reply": "2021-04-26T03:58:48.494000-07:00"
    },
    "tags": []
   },
   "outputs": [
    {
     "data": {
      "text/plain": [
       "Set{String} with 3 elements:\n",
       "  \"julia\"\n",
       "  \"orange\"\n",
       "  \"python\""
      ]
     },
     "execution_count": 66,
     "metadata": {},
     "output_type": "execute_result"
    }
   ],
   "source": [
    "s1 = Set{String}([\"mokey\",\"python\",\"julia\"])\n",
    "s2 = Set{String}([\"orange\",\"python\",\"julia\"])"
   ]
  },
  {
   "cell_type": "code",
   "execution_count": 67,
   "id": "07e2645e-ee82-4a2e-9d8c-94a57505a2bd",
   "metadata": {
    "execution": {
     "iopub.execute_input": "2021-04-26T03:58:49.497000-07:00",
     "iopub.status.busy": "2021-04-26T03:58:49.497000-07:00",
     "iopub.status.idle": "2021-04-26T03:58:49.499000-07:00",
     "shell.execute_reply": "2021-04-26T03:58:49.499000-07:00"
    },
    "tags": []
   },
   "outputs": [
    {
     "data": {
      "text/plain": [
       "Set{String} with 1 element:\n",
       "  \"mokey\""
      ]
     },
     "execution_count": 67,
     "metadata": {},
     "output_type": "execute_result"
    }
   ],
   "source": [
    "setdiff(s1,s2)"
   ]
  },
  {
   "cell_type": "code",
   "execution_count": 68,
   "id": "ed6f9a98-a83c-49f1-980e-9d53753a8d25",
   "metadata": {
    "execution": {
     "iopub.execute_input": "2021-04-26T03:58:50.709000-07:00",
     "iopub.status.busy": "2021-04-26T03:58:50.709000-07:00",
     "iopub.status.idle": "2021-04-26T03:58:50.711000-07:00",
     "shell.execute_reply": "2021-04-26T03:58:50.711000-07:00"
    },
    "tags": []
   },
   "outputs": [
    {
     "data": {
      "text/plain": [
       "hasduplicates (generic function with 1 method)"
      ]
     },
     "execution_count": 68,
     "metadata": {},
     "output_type": "execute_result"
    }
   ],
   "source": [
    "function hasduplicates(a::Array)\n",
    "    compare_set = Set{Any}()\n",
    "    for i in a\n",
    "        if i ∈ compare_set\n",
    "            return true\n",
    "        end\n",
    "        push!(compare_set,i)\n",
    "    end\n",
    "    false\n",
    "end"
   ]
  },
  {
   "cell_type": "code",
   "execution_count": 69,
   "id": "30c240cb-c495-4794-96ba-2b1ed2143b6a",
   "metadata": {
    "execution": {
     "iopub.execute_input": "2021-04-26T03:58:52.661000-07:00",
     "iopub.status.busy": "2021-04-26T03:58:52.661000-07:00",
     "iopub.status.idle": "2021-04-26T03:58:52.680000-07:00",
     "shell.execute_reply": "2021-04-26T03:58:52.679000-07:00"
    },
    "tags": []
   },
   "outputs": [
    {
     "data": {
      "text/plain": [
       "true"
      ]
     },
     "execution_count": 69,
     "metadata": {},
     "output_type": "execute_result"
    }
   ],
   "source": [
    "hasduplicates(ceil.(1000000*collect(rand(1000))))"
   ]
  },
  {
   "cell_type": "code",
   "execution_count": 71,
   "id": "43892037-36ae-43b9-a5fd-82d44e58d69f",
   "metadata": {
    "execution": {
     "iopub.execute_input": "2021-04-26T03:59:31.473000-07:00",
     "iopub.status.busy": "2021-04-26T03:59:31.473000-07:00",
     "iopub.status.idle": "2021-04-26T03:59:31.475000-07:00",
     "shell.execute_reply": "2021-04-26T03:59:31.475000-07:00"
    },
    "tags": []
   },
   "outputs": [
    {
     "data": {
      "text/plain": [
       "Set{Int64} with 5 elements:\n",
       "  4\n",
       "  2\n",
       "  10\n",
       "  3\n",
       "  1"
      ]
     },
     "execution_count": 71,
     "metadata": {},
     "output_type": "execute_result"
    }
   ],
   "source": [
    "Set([1,2,3,4,4,1,10])"
   ]
  },
  {
   "cell_type": "code",
   "execution_count": 73,
   "id": "7263d277-c0fb-498e-9bb7-22dbd95d9372",
   "metadata": {
    "execution": {
     "iopub.execute_input": "2021-04-26T04:01:31.394000-07:00",
     "iopub.status.busy": "2021-04-26T04:01:31.394000-07:00",
     "iopub.status.idle": "2021-04-26T04:01:31.396000-07:00",
     "shell.execute_reply": "2021-04-26T04:01:31.396000-07:00"
    },
    "tags": []
   },
   "outputs": [
    {
     "data": {
      "text/plain": [
       "useonly (generic function with 1 method)"
      ]
     },
     "execution_count": 73,
     "metadata": {},
     "output_type": "execute_result"
    }
   ],
   "source": [
    "function useonly(words::Array,available::Array)\n",
    "    Set(words) ⊆ Set(available)\n",
    "end"
   ]
  },
  {
   "cell_type": "markdown",
   "id": "6c3aed8d-d934-48e3-a82b-bd7434c723bd",
   "metadata": {},
   "source": [
    "* `intersect()` === `∩`\n",
    "* `union()` === `∪`"
   ]
  },
  {
   "cell_type": "code",
   "execution_count": 103,
   "id": "386be577-f58b-4ba3-9e97-71080b908bb5",
   "metadata": {
    "execution": {
     "iopub.execute_input": "2021-04-26T04:23:32.209000-07:00",
     "iopub.status.busy": "2021-04-26T04:23:32.209000-07:00",
     "iopub.status.idle": "2021-04-26T04:23:32.213000-07:00",
     "shell.execute_reply": "2021-04-26T04:23:32.213000-07:00"
    },
    "tags": []
   },
   "outputs": [
    {
     "data": {
      "text/plain": [
       "avoid (generic function with 1 method)"
      ]
     },
     "execution_count": 103,
     "metadata": {},
     "output_type": "execute_result"
    }
   ],
   "source": [
    "function avoid(word::String, forbidden::Array{Char})\n",
    "    isempty(Set([word...]) ∩ Set(forbidden))\n",
    "end"
   ]
  },
  {
   "cell_type": "code",
   "execution_count": 104,
   "id": "a8daf63a-65ad-4304-b09d-ffc153dfd27a",
   "metadata": {
    "execution": {
     "iopub.execute_input": "2021-04-26T04:23:33.332000-07:00",
     "iopub.status.busy": "2021-04-26T04:23:33.332000-07:00",
     "iopub.status.idle": "2021-04-26T04:23:33.336000-07:00",
     "shell.execute_reply": "2021-04-26T04:23:33.336000-07:00"
    },
    "tags": []
   },
   "outputs": [
    {
     "data": {
      "text/plain": [
       "6-element Vector{Char}:\n",
       " 'b': ASCII/Unicode U+0062 (category Ll: Letter, lowercase)\n",
       " 'a': ASCII/Unicode U+0061 (category Ll: Letter, lowercase)\n",
       " 'n': ASCII/Unicode U+006E (category Ll: Letter, lowercase)\n",
       " 'a': ASCII/Unicode U+0061 (category Ll: Letter, lowercase)\n",
       " 'n': ASCII/Unicode U+006E (category Ll: Letter, lowercase)\n",
       " 'a': ASCII/Unicode U+0061 (category Ll: Letter, lowercase)"
      ]
     },
     "execution_count": 104,
     "metadata": {},
     "output_type": "execute_result"
    }
   ],
   "source": [
    "a = \"apple\"\n",
    "forbidden = [\"banana\"...]"
   ]
  },
  {
   "cell_type": "code",
   "execution_count": 107,
   "id": "ec864d1e-6e0c-4661-8f95-efee5dabc552",
   "metadata": {
    "execution": {
     "iopub.execute_input": "2021-04-26T04:23:41.123000-07:00",
     "iopub.status.busy": "2021-04-26T04:23:41.123000-07:00",
     "iopub.status.idle": "2021-04-26T04:23:41.124000-07:00",
     "shell.execute_reply": "2021-04-26T04:23:41.124000-07:00"
    },
    "tags": []
   },
   "outputs": [
    {
     "data": {
      "text/plain": [
       "false"
      ]
     },
     "execution_count": 107,
     "metadata": {},
     "output_type": "execute_result"
    }
   ],
   "source": [
    "avoid(\"ipsav\",forbidden)"
   ]
  },
  {
   "cell_type": "markdown",
   "id": "e23ff400-1a58-4a12-9464-2872a5adac4a",
   "metadata": {},
   "source": [
    "## Mathematics\n",
    "* `ℯ` (`\\euler Tab`)"
   ]
  },
  {
   "cell_type": "code",
   "execution_count": 86,
   "id": "06f80800-0421-438a-985e-93192d2e742c",
   "metadata": {
    "execution": {
     "iopub.execute_input": "2021-04-26T04:10:20.498000-07:00",
     "iopub.status.busy": "2021-04-26T04:10:20.497000-07:00",
     "iopub.status.idle": "2021-04-26T04:10:21.084000-07:00",
     "shell.execute_reply": "2021-04-26T04:10:21.082000-07:00"
    },
    "tags": []
   },
   "outputs": [
    {
     "data": {
      "text/plain": [
       "ℯ = 2.7182818284590..."
      ]
     },
     "execution_count": 86,
     "metadata": {},
     "output_type": "execute_result"
    }
   ],
   "source": [
    "ℯ"
   ]
  },
  {
   "cell_type": "code",
   "execution_count": 88,
   "id": "4d2cb03a-1caf-45b0-b8f5-2af662f10d93",
   "metadata": {
    "execution": {
     "iopub.execute_input": "2021-04-26T04:13:03.637000-07:00",
     "iopub.status.busy": "2021-04-26T04:13:03.637000-07:00",
     "iopub.status.idle": "2021-04-26T04:13:04.387000-07:00",
     "shell.execute_reply": "2021-04-26T04:13:04.387000-07:00"
    },
    "tags": []
   },
   "outputs": [
    {
     "data": {
      "text/plain": [
       "1.5403023058681398 + 0.8414709848078965im"
      ]
     },
     "execution_count": 88,
     "metadata": {},
     "output_type": "execute_result"
    }
   ],
   "source": [
    "ℯ^(im*1) + 1"
   ]
  },
  {
   "cell_type": "code",
   "execution_count": 89,
   "id": "916a3e1f-b156-450f-8320-dace45812e49",
   "metadata": {
    "execution": {
     "iopub.execute_input": "2021-04-26T04:14:27.741000-07:00",
     "iopub.status.busy": "2021-04-26T04:14:27.741000-07:00",
     "iopub.status.idle": "2021-04-26T04:14:27.886000-07:00",
     "shell.execute_reply": "2021-04-26T04:14:27.886000-07:00"
    },
    "tags": []
   },
   "outputs": [
    {
     "data": {
      "text/plain": [
       "cos_self (generic function with 1 method)"
      ]
     },
     "execution_count": 89,
     "metadata": {},
     "output_type": "execute_result"
    }
   ],
   "source": [
    "cos_self(x) = (ℯ^(im*x) + ℯ^(-im*x))/2"
   ]
  },
  {
   "cell_type": "code",
   "execution_count": 90,
   "id": "ab6e9cb6-1bf1-4fa8-ae8c-5091a0ab473d",
   "metadata": {
    "execution": {
     "iopub.execute_input": "2021-04-26T04:14:38.443000-07:00",
     "iopub.status.busy": "2021-04-26T04:14:38.442000-07:00",
     "iopub.status.idle": "2021-04-26T04:14:38.568000-07:00",
     "shell.execute_reply": "2021-04-26T04:14:38.567000-07:00"
    },
    "tags": []
   },
   "outputs": [
    {
     "data": {
      "text/plain": [
       "-1.0 + 0.0im"
      ]
     },
     "execution_count": 90,
     "metadata": {},
     "output_type": "execute_result"
    }
   ],
   "source": [
    "cos_self(pi)"
   ]
  },
  {
   "cell_type": "markdown",
   "id": "37ad4780-c33d-4479-827d-577760ec1571",
   "metadata": {},
   "source": [
    "## Strings\n",
    "* regexes"
   ]
  },
  {
   "cell_type": "code",
   "execution_count": 91,
   "id": "c5b868a9-01bd-4ddd-86ac-f6964ba336b9",
   "metadata": {
    "execution": {
     "iopub.execute_input": "2021-04-26T04:17:03.627000-07:00",
     "iopub.status.busy": "2021-04-26T04:17:03.627000-07:00",
     "iopub.status.idle": "2021-04-26T04:17:03.628000-07:00",
     "shell.execute_reply": "2021-04-26T04:17:03.628000-07:00"
    },
    "tags": []
   },
   "outputs": [
    {
     "data": {
      "text/plain": [
       "useonly (generic function with 2 methods)"
      ]
     },
     "execution_count": 91,
     "metadata": {},
     "output_type": "execute_result"
    }
   ],
   "source": [
    "function useonly(word, available)\n",
    "    r = Regex(\"[^$(available)]\")\n",
    "    !occursin(r,word)\n",
    "end"
   ]
  },
  {
   "cell_type": "code",
   "execution_count": 92,
   "id": "7895fa28-8b51-4bd5-b101-2c778f782b25",
   "metadata": {
    "execution": {
     "iopub.execute_input": "2021-04-26T04:17:22.386000-07:00",
     "iopub.status.busy": "2021-04-26T04:17:22.386000-07:00",
     "iopub.status.idle": "2021-04-26T04:17:22.413000-07:00",
     "shell.execute_reply": "2021-04-26T04:17:22.412000-07:00"
    },
    "tags": []
   },
   "outputs": [
    {
     "data": {
      "text/plain": [
       "true"
      ]
     },
     "execution_count": 92,
     "metadata": {},
     "output_type": "execute_result"
    }
   ],
   "source": [
    "useonly(\"banana\",\"abn\")"
   ]
  },
  {
   "cell_type": "code",
   "execution_count": 94,
   "id": "36af9070-e590-42e2-9ba8-8771d0f1409d",
   "metadata": {
    "execution": {
     "iopub.execute_input": "2021-04-26T04:18:48.124000-07:00",
     "iopub.status.busy": "2021-04-26T04:18:48.123000-07:00",
     "iopub.status.idle": "2021-04-26T04:18:48.159000-07:00",
     "shell.execute_reply": "2021-04-26T04:18:48.159000-07:00"
    },
    "tags": []
   },
   "outputs": [
    {
     "data": {
      "text/latex": [
       "\\begin{verbatim}\n",
       "occursin(needle::Union{AbstractString,AbstractPattern,AbstractChar}, haystack::AbstractString)\n",
       "\\end{verbatim}\n",
       "Determine whether the first argument is a substring of the second. If \\texttt{needle} is a regular expression, checks whether \\texttt{haystack} contains a match.\n",
       "\n",
       "\\section{Examples}\n",
       "\\begin{verbatim}\n",
       "julia> occursin(\"Julia\", \"JuliaLang is pretty cool!\")\n",
       "true\n",
       "\n",
       "julia> occursin('a', \"JuliaLang is pretty cool!\")\n",
       "true\n",
       "\n",
       "julia> occursin(r\"a.a\", \"aba\")\n",
       "true\n",
       "\n",
       "julia> occursin(r\"a.a\", \"abba\")\n",
       "false\n",
       "\\end{verbatim}\n",
       "See also: \\href{@ref}{\\texttt{contains}}.\n",
       "\n",
       "\\rule{\\textwidth}{1pt}\n",
       "\\begin{verbatim}\n",
       "occursin(haystack)\n",
       "\\end{verbatim}\n",
       "Create a function that checks whether its argument occurs in \\texttt{haystack}, i.e. a function equivalent to \\texttt{needle -> occursin(needle, haystack)}.\n",
       "\n",
       "The returned function is of type \\texttt{Base.Fix2\\{typeof(occursin)\\}}.\n",
       "\n",
       "\\begin{quote}\n",
       "\\textbf{compat}\n",
       "\n",
       "Julia 1.6\n",
       "\n",
       "This method requires Julia 1.6 or later.\n",
       "\n",
       "\\end{quote}\n"
      ],
      "text/markdown": [
       "```\n",
       "occursin(needle::Union{AbstractString,AbstractPattern,AbstractChar}, haystack::AbstractString)\n",
       "```\n",
       "\n",
       "Determine whether the first argument is a substring of the second. If `needle` is a regular expression, checks whether `haystack` contains a match.\n",
       "\n",
       "# Examples\n",
       "\n",
       "```jldoctest\n",
       "julia> occursin(\"Julia\", \"JuliaLang is pretty cool!\")\n",
       "true\n",
       "\n",
       "julia> occursin('a', \"JuliaLang is pretty cool!\")\n",
       "true\n",
       "\n",
       "julia> occursin(r\"a.a\", \"aba\")\n",
       "true\n",
       "\n",
       "julia> occursin(r\"a.a\", \"abba\")\n",
       "false\n",
       "```\n",
       "\n",
       "See also: [`contains`](@ref).\n",
       "\n",
       "---\n",
       "\n",
       "```\n",
       "occursin(haystack)\n",
       "```\n",
       "\n",
       "Create a function that checks whether its argument occurs in `haystack`, i.e. a function equivalent to `needle -> occursin(needle, haystack)`.\n",
       "\n",
       "The returned function is of type `Base.Fix2{typeof(occursin)}`.\n",
       "\n",
       "!!! compat \"Julia 1.6\"\n",
       "    This method requires Julia 1.6 or later.\n",
       "\n"
      ],
      "text/plain": [
       "\u001b[36m  occursin(needle::Union{AbstractString,AbstractPattern,AbstractChar}, haystack::AbstractString)\u001b[39m\n",
       "\n",
       "  Determine whether the first argument is a substring of the second. If \u001b[36mneedle\u001b[39m\n",
       "  is a regular expression, checks whether \u001b[36mhaystack\u001b[39m contains a match.\n",
       "\n",
       "\u001b[1m  Examples\u001b[22m\n",
       "\u001b[1m  ≡≡≡≡≡≡≡≡≡≡\u001b[22m\n",
       "\n",
       "\u001b[36m  julia> occursin(\"Julia\", \"JuliaLang is pretty cool!\")\u001b[39m\n",
       "\u001b[36m  true\u001b[39m\n",
       "\u001b[36m  \u001b[39m\n",
       "\u001b[36m  julia> occursin('a', \"JuliaLang is pretty cool!\")\u001b[39m\n",
       "\u001b[36m  true\u001b[39m\n",
       "\u001b[36m  \u001b[39m\n",
       "\u001b[36m  julia> occursin(r\"a.a\", \"aba\")\u001b[39m\n",
       "\u001b[36m  true\u001b[39m\n",
       "\u001b[36m  \u001b[39m\n",
       "\u001b[36m  julia> occursin(r\"a.a\", \"abba\")\u001b[39m\n",
       "\u001b[36m  false\u001b[39m\n",
       "\n",
       "  See also: \u001b[36mcontains\u001b[39m.\n",
       "\n",
       "  ────────────────────────────────────────────────────────────────────────────\n",
       "\n",
       "\u001b[36m  occursin(haystack)\u001b[39m\n",
       "\n",
       "  Create a function that checks whether its argument occurs in \u001b[36mhaystack\u001b[39m, i.e.\n",
       "  a function equivalent to \u001b[36mneedle -> occursin(needle, haystack)\u001b[39m.\n",
       "\n",
       "  The returned function is of type \u001b[36mBase.Fix2{typeof(occursin)}\u001b[39m.\n",
       "\n",
       "\u001b[39m\u001b[1m  │ \u001b[22m\u001b[39m\u001b[1mJulia 1.6\u001b[22m\n",
       "\u001b[39m\u001b[1m  │\u001b[22m\n",
       "\u001b[39m\u001b[1m  │\u001b[22m  This method requires Julia 1.6 or later."
      ]
     },
     "execution_count": 94,
     "metadata": {},
     "output_type": "execute_result"
    }
   ],
   "source": [
    "?occursin()\n"
   ]
  },
  {
   "cell_type": "code",
   "execution_count": 102,
   "id": "032cf8ee-4b5d-4945-9828-459e80fa4494",
   "metadata": {
    "execution": {
     "iopub.execute_input": "2021-04-26T04:22:13.647000-07:00",
     "iopub.status.busy": "2021-04-26T04:22:13.647000-07:00",
     "iopub.status.idle": "2021-04-26T04:22:13.649000-07:00",
     "shell.execute_reply": "2021-04-26T04:22:13.649000-07:00"
    },
    "tags": []
   },
   "outputs": [
    {
     "data": {
      "text/plain": [
       "1-element Vector{Int64}:\n",
       " 1"
      ]
     },
     "execution_count": 102,
     "metadata": {},
     "output_type": "execute_result"
    }
   ],
   "source": [
    "[1,3] ∩ [1,2]"
   ]
  },
  {
   "cell_type": "code",
   "execution_count": 100,
   "id": "635edcb4-eb14-47ad-b781-0fbaf2e37cc8",
   "metadata": {
    "execution": {
     "iopub.execute_input": "2021-04-26T04:20:20.430000-07:00",
     "iopub.status.busy": "2021-04-26T04:20:20.430000-07:00",
     "iopub.status.idle": "2021-04-26T04:20:20.436000-07:00",
     "shell.execute_reply": "2021-04-26T04:20:20.435000-07:00"
    },
    "tags": []
   },
   "outputs": [
    {
     "data": {
      "text/plain": [
       "2-element Vector{UnitRange{Int64}}:\n",
       " 1:4\n",
       " 5:7"
      ]
     },
     "execution_count": 100,
     "metadata": {},
     "output_type": "execute_result"
    }
   ],
   "source": [
    "findall(r\"a(.*?)a\",\"assaasabbbba\")"
   ]
  },
  {
   "cell_type": "code",
   "execution_count": 115,
   "id": "edffd174-d161-47ee-a119-2d5048b9238a",
   "metadata": {
    "execution": {
     "iopub.execute_input": "2021-04-26T04:32:47.952000-07:00",
     "iopub.status.busy": "2021-04-26T04:32:47.952000-07:00",
     "iopub.status.idle": "2021-04-26T04:32:48.852000-07:00",
     "shell.execute_reply": "2021-04-26T04:32:48.851000-07:00"
    },
    "tags": []
   },
   "outputs": [
    {
     "data": {
      "text/plain": [
       "1-element Vector{Vector{Char}}:\n",
       " ['h', 'w', '2', '1', '3']"
      ]
     },
     "execution_count": 115,
     "metadata": {},
     "output_type": "execute_result"
    }
   ],
   "source": [
    "[\"hw21hh\" ∪ \"21hh3\"]"
   ]
  },
  {
   "cell_type": "code",
   "execution_count": 116,
   "id": "956e9e8a-253c-4a4d-90b6-50ec543e24f7",
   "metadata": {
    "execution": {
     "iopub.execute_input": "2021-04-26T04:33:33.352000-07:00",
     "iopub.status.busy": "2021-04-26T04:33:33.352000-07:00",
     "iopub.status.idle": "2021-04-26T04:33:33.741000-07:00",
     "shell.execute_reply": "2021-04-26T04:33:33.741000-07:00"
    },
    "tags": []
   },
   "outputs": [
    {
     "data": {
      "text/plain": [
       "r\"[^abc]\""
      ]
     },
     "execution_count": 116,
     "metadata": {},
     "output_type": "execute_result"
    }
   ],
   "source": [
    "r\"[^abc]\""
   ]
  },
  {
   "cell_type": "code",
   "execution_count": 133,
   "id": "4d826bfe-8ff5-4201-9538-290ca5e4d65d",
   "metadata": {
    "execution": {
     "iopub.execute_input": "2021-04-26T04:39:20.197000-07:00",
     "iopub.status.busy": "2021-04-26T04:39:20.197000-07:00",
     "iopub.status.idle": "2021-04-26T04:39:20.198000-07:00",
     "shell.execute_reply": "2021-04-26T04:39:20.198000-07:00"
    },
    "tags": []
   },
   "outputs": [
    {
     "data": {
      "text/plain": [
       "true"
      ]
     },
     "execution_count": 133,
     "metadata": {},
     "output_type": "execute_result"
    }
   ],
   "source": [
    "occursin(Regex(\"[^cbs]\"),\"sbns\")"
   ]
  },
  {
   "cell_type": "code",
   "execution_count": 7,
   "id": "41a3f6f0-e173-4880-ba93-c54a78585c27",
   "metadata": {
    "execution": {
     "iopub.execute_input": "2021-04-26T05:04:14.765000-07:00",
     "iopub.status.busy": "2021-04-26T05:04:14.765000-07:00",
     "iopub.status.idle": "2021-04-26T05:04:16.263000-07:00",
     "shell.execute_reply": "2021-04-26T05:04:16.262000-07:00"
    },
    "tags": []
   },
   "outputs": [
    {
     "data": {
      "text/plain": [
       "4-element Vector{UnitRange{Int64}}:\n",
       " 5:5\n",
       " 6:6\n",
       " 7:7\n",
       " 11:11"
      ]
     },
     "execution_count": 7,
     "metadata": {},
     "output_type": "execute_result"
    }
   ],
   "source": [
    "m = findall(r\"[^nab]\",\"banadsxanas\")"
   ]
  },
  {
   "cell_type": "code",
   "execution_count": 9,
   "id": "a2922f4a-4804-4d85-ad5e-95bb7741607b",
   "metadata": {
    "execution": {
     "iopub.execute_input": "2021-04-26T05:05:13.208000-07:00",
     "iopub.status.busy": "2021-04-26T05:05:13.207000-07:00",
     "iopub.status.idle": "2021-04-26T05:05:13.266000-07:00",
     "shell.execute_reply": "2021-04-26T05:05:13.266000-07:00"
    },
    "tags": []
   },
   "outputs": [
    {
     "name": "stdout",
     "output_type": "stream",
     "text": [
      "d\n",
      "s\n",
      "x\n",
      "s\n"
     ]
    }
   ],
   "source": [
    "for i in m\n",
    "    println(\"banadsxanas\"[i])\n",
    "end"
   ]
  },
  {
   "cell_type": "code",
   "execution_count": 6,
   "id": "56cfa71f-5387-49ab-be81-1a2165c3cc2e",
   "metadata": {
    "execution": {
     "iopub.execute_input": "2021-04-26T05:04:03.758000-07:00",
     "iopub.status.busy": "2021-04-26T05:04:03.757000-07:00",
     "iopub.status.idle": "2021-04-26T05:04:03.766000-07:00",
     "shell.execute_reply": "2021-04-26T05:04:03.766000-07:00"
    },
    "tags": []
   },
   "outputs": [
    {
     "data": {
      "text/plain": [
       "Union{Nothing, SubString{String}}[]"
      ]
     },
     "execution_count": 6,
     "metadata": {},
     "output_type": "execute_result"
    }
   ],
   "source": [
    "m.captures"
   ]
  },
  {
   "cell_type": "code",
   "execution_count": null,
   "id": "adb45e26-41f0-4f94-997e-371ba5a873f2",
   "metadata": {
    "execution": {
     "iopub.execute_input": "2021-04-26T04:50:37.733000-07:00",
     "iopub.status.busy": "2021-04-26T04:50:37.733000-07:00",
     "iopub.status.idle": "2021-04-26T04:50:38.072000-07:00",
     "shell.execute_reply": "2021-04-26T04:50:38.072000-07:00"
    },
    "tags": []
   },
   "outputs": [],
   "source": [
    "m.offset"
   ]
  },
  {
   "cell_type": "markdown",
   "id": "d059e9e4-222f-4b1a-a183-9a58940c9b35",
   "metadata": {},
   "source": [
    "## Arrays"
   ]
  },
  {
   "cell_type": "code",
   "execution_count": 10,
   "id": "686e4c92-01fd-41b0-ae13-a33b2e94c0c8",
   "metadata": {
    "execution": {
     "iopub.execute_input": "2021-04-26T05:06:49.669000-07:00",
     "iopub.status.busy": "2021-04-26T05:06:49.669000-07:00",
     "iopub.status.idle": "2021-04-26T05:06:50.629000-07:00",
     "shell.execute_reply": "2021-04-26T05:06:50.628000-07:00"
    },
    "tags": []
   },
   "outputs": [
    {
     "data": {
      "text/plain": [
       "2×3 Matrix{Float64}:\n",
       " 0.0  0.0  0.0\n",
       " 0.0  0.0  0.0"
      ]
     },
     "execution_count": 10,
     "metadata": {},
     "output_type": "execute_result"
    }
   ],
   "source": [
    "z = zeros(Float64, 2,3)"
   ]
  },
  {
   "cell_type": "code",
   "execution_count": 18,
   "id": "5fa5cc80-3dac-43ef-9482-5d69f6e4e0f5",
   "metadata": {
    "execution": {
     "iopub.execute_input": "2021-04-26T05:08:06.825000-07:00",
     "iopub.status.busy": "2021-04-26T05:08:06.825000-07:00",
     "iopub.status.idle": "2021-04-26T05:08:07.429000-07:00",
     "shell.execute_reply": "2021-04-26T05:08:07.428000-07:00"
    },
    "tags": []
   },
   "outputs": [
    {
     "data": {
      "text/plain": [
       "Matrix{Float64} (alias for Array{Float64, 2})"
      ]
     },
     "execution_count": 18,
     "metadata": {},
     "output_type": "execute_result"
    }
   ],
   "source": [
    "typeof(z)"
   ]
  },
  {
   "cell_type": "code",
   "execution_count": 22,
   "id": "22593688-73f2-425e-97db-56e144fe68d5",
   "metadata": {
    "execution": {
     "iopub.execute_input": "2021-04-26T05:08:55.074000-07:00",
     "iopub.status.busy": "2021-04-26T05:08:55.074000-07:00",
     "iopub.status.idle": "2021-04-26T05:08:55.079000-07:00",
     "shell.execute_reply": "2021-04-26T05:08:55.079000-07:00"
    },
    "tags": []
   },
   "outputs": [
    {
     "data": {
      "text/plain": [
       "Matrix{Int64} (alias for Array{Int64, 2})"
      ]
     },
     "execution_count": 22,
     "metadata": {},
     "output_type": "execute_result"
    }
   ],
   "source": [
    "Matrix{Int64}(1,2,)"
   ]
  },
  {
   "cell_type": "code",
   "execution_count": 23,
   "id": "f7067c91-b77d-484f-8dd5-c01eec76b77d",
   "metadata": {
    "execution": {
     "iopub.execute_input": "2021-04-26T05:12:10.491000-07:00",
     "iopub.status.busy": "2021-04-26T05:12:10.490000-07:00",
     "iopub.status.idle": "2021-04-26T05:12:11.731000-07:00",
     "shell.execute_reply": "2021-04-26T05:12:11.730000-07:00"
    },
    "tags": []
   },
   "outputs": [
    {
     "data": {
      "text/plain": [
       "1×3 Matrix{String}:\n",
       " \"\"  \"\"  \"\""
      ]
     },
     "execution_count": 23,
     "metadata": {},
     "output_type": "execute_result"
    }
   ],
   "source": [
    "s = ones(String,1,3)"
   ]
  },
  {
   "cell_type": "code",
   "execution_count": 25,
   "id": "6195a2d7-ad59-4eef-95c9-efce33ed2aa1",
   "metadata": {
    "execution": {
     "iopub.execute_input": "2021-04-26T05:12:23.845000-07:00",
     "iopub.status.busy": "2021-04-26T05:12:23.845000-07:00",
     "iopub.status.idle": "2021-04-26T05:12:24.637000-07:00",
     "shell.execute_reply": "2021-04-26T05:12:24.637000-07:00"
    },
    "tags": []
   },
   "outputs": [
    {
     "data": {
      "text/plain": [
       "1×3 Matrix{Int64}:\n",
       " 1  1  1"
      ]
     },
     "execution_count": 25,
     "metadata": {},
     "output_type": "execute_result"
    }
   ],
   "source": [
    "ones(Int64,1,3)"
   ]
  },
  {
   "cell_type": "code",
   "execution_count": 30,
   "id": "1a99e8c0-62f5-4b7a-88e3-63495e63d47a",
   "metadata": {
    "execution": {
     "iopub.execute_input": "2021-04-26T05:13:14.400000-07:00",
     "iopub.status.busy": "2021-04-26T05:13:14.400000-07:00",
     "iopub.status.idle": "2021-04-26T05:13:14.402000-07:00",
     "shell.execute_reply": "2021-04-26T05:13:14.401000-07:00"
    },
    "tags": []
   },
   "outputs": [
    {
     "data": {
      "text/plain": [
       "false"
      ]
     },
     "execution_count": 30,
     "metadata": {},
     "output_type": "execute_result"
    }
   ],
   "source": [
    "s == [\"\", \"\",\"\"]"
   ]
  },
  {
   "cell_type": "code",
   "execution_count": 31,
   "id": "0fe81a2c-7055-4303-ac76-9f3ced2d85ed",
   "metadata": {
    "execution": {
     "iopub.execute_input": "2021-04-26T05:13:35.372000-07:00",
     "iopub.status.busy": "2021-04-26T05:13:35.372000-07:00",
     "iopub.status.idle": "2021-04-26T05:13:35.374000-07:00",
     "shell.execute_reply": "2021-04-26T05:13:35.374000-07:00"
    },
    "tags": []
   },
   "outputs": [
    {
     "data": {
      "text/plain": [
       "2×3 Matrix{Int64}:\n",
       " 1  2  3\n",
       " 4  5  6"
      ]
     },
     "execution_count": 31,
     "metadata": {},
     "output_type": "execute_result"
    }
   ],
   "source": [
    "a = [1 2 3; 4 5 6]"
   ]
  },
  {
   "cell_type": "code",
   "execution_count": 32,
   "id": "d69a0467-e476-4f3e-89e0-c327559b764a",
   "metadata": {
    "execution": {
     "iopub.execute_input": "2021-04-26T05:14:48.307000-07:00",
     "iopub.status.busy": "2021-04-26T05:14:48.307000-07:00",
     "iopub.status.idle": "2021-04-26T05:14:48.632000-07:00",
     "shell.execute_reply": "2021-04-26T05:14:48.631000-07:00"
    }
   },
   "outputs": [
    {
     "data": {
      "text/plain": [
       "1"
      ]
     },
     "execution_count": 32,
     "metadata": {},
     "output_type": "execute_result"
    }
   ],
   "source": [
    "z[1,2]=1\n",
    "z[2,3]=1"
   ]
  },
  {
   "cell_type": "code",
   "execution_count": 33,
   "id": "3c5738e0-3b00-4855-8c20-c3d6d3b987e2",
   "metadata": {
    "execution": {
     "iopub.execute_input": "2021-04-26T05:15:06.760000-07:00",
     "iopub.status.busy": "2021-04-26T05:15:06.758000-07:00",
     "iopub.status.idle": "2021-04-26T05:15:06.863000-07:00",
     "shell.execute_reply": "2021-04-26T05:15:06.862000-07:00"
    },
    "tags": []
   },
   "outputs": [
    {
     "data": {
      "text/plain": [
       "2×2 Matrix{Float64}:\n",
       " 1.0  0.0\n",
       " 0.0  1.0"
      ]
     },
     "execution_count": 33,
     "metadata": {},
     "output_type": "execute_result"
    }
   ],
   "source": [
    "u = z[:,2:end]"
   ]
  },
  {
   "cell_type": "code",
   "execution_count": 38,
   "id": "cd5eb13d-43df-4810-919c-a7a987417e52",
   "metadata": {
    "execution": {
     "iopub.execute_input": "2021-04-26T05:16:09.891000-07:00",
     "iopub.status.busy": "2021-04-26T05:16:09.891000-07:00",
     "iopub.status.idle": "2021-04-26T05:16:09.895000-07:00",
     "shell.execute_reply": "2021-04-26T05:16:09.895000-07:00"
    },
    "tags": []
   },
   "outputs": [
    {
     "data": {
      "text/plain": [
       "2×2 Matrix{Float64}:\n",
       " 2.0  1.0\n",
       " 1.0  2.0"
      ]
     },
     "execution_count": 38,
     "metadata": {},
     "output_type": "execute_result"
    }
   ],
   "source": [
    "2 .^ u"
   ]
  },
  {
   "cell_type": "markdown",
   "id": "e240cf6a-b6ca-4e88-8e84-bc4695a5de74",
   "metadata": {},
   "source": [
    "## Interfaces"
   ]
  },
  {
   "cell_type": "code",
   "execution_count": 39,
   "id": "c9a732f6-a9af-41e6-9ca1-be531743360c",
   "metadata": {
    "execution": {
     "iopub.execute_input": "2021-04-26T05:20:40.074000-07:00",
     "iopub.status.busy": "2021-04-26T05:20:40.074000-07:00",
     "iopub.status.idle": "2021-04-26T05:20:40.077000-07:00",
     "shell.execute_reply": "2021-04-26T05:20:40.077000-07:00"
    },
    "tags": []
   },
   "outputs": [],
   "source": [
    "struct Fibonacci{T<:Real} end"
   ]
  },
  {
   "cell_type": "code",
   "execution_count": 70,
   "id": "0d6c4258-fe1c-45f1-a565-9e56a642790f",
   "metadata": {
    "execution": {
     "iopub.execute_input": "2021-04-26T05:41:42.308000-07:00",
     "iopub.status.busy": "2021-04-26T05:41:42.308000-07:00",
     "iopub.status.idle": "2021-04-26T05:41:42.315000-07:00",
     "shell.execute_reply": "2021-04-26T05:41:42.313000-07:00"
    },
    "tags": []
   },
   "outputs": [],
   "source": [
    "Fibonacci(d::DataType) = d<:Real ? Fibonacci{d}() : error(\"No Real Type!\")\n",
    "\n",
    "Base.iterate(::Fibonacci{T}) where {T<:Real} = (zero(T),(one(T),one(T)))\n",
    "Base.iterate(::Fibonacci{T}, state::Tuple{T,T}) where {T<:Real} = (state[1],(state[2], state[1] + state[2]))"
   ]
  },
  {
   "cell_type": "code",
   "execution_count": 69,
   "id": "df70b233-4e5f-4d46-9caa-8de8c8621de5",
   "metadata": {
    "execution": {
     "iopub.execute_input": "2021-04-26T05:41:24.636000-07:00",
     "iopub.status.busy": "2021-04-26T05:41:24.635000-07:00",
     "iopub.status.idle": "2021-04-26T05:41:24.655000-07:00",
     "shell.execute_reply": "2021-04-26T05:41:24.654000-07:00"
    },
    "tags": []
   },
   "outputs": [
    {
     "ename": "LoadError",
     "evalue": "MethodError: no method matching fact(::Type{Float64})",
     "output_type": "error",
     "traceback": [
      "MethodError: no method matching fact(::Type{Float64})",
      "",
      "Stacktrace:",
      " [1] top-level scope",
      "   @ ./In[69]:1",
      " [2] eval",
      "   @ ./boot.jl:360 [inlined]",
      " [3] include_string(mapexpr::typeof(REPL.softscope), mod::Module, code::String, filename::String)",
      "   @ Base ./loading.jl:1094"
     ]
    }
   ],
   "source": []
  },
  {
   "cell_type": "code",
   "execution_count": 48,
   "id": "3b432f9e-8c55-4419-8f0e-546044ebb128",
   "metadata": {
    "execution": {
     "iopub.execute_input": "2021-04-26T05:25:58.319000-07:00",
     "iopub.status.busy": "2021-04-26T05:25:58.319000-07:00",
     "iopub.status.idle": "2021-04-26T05:25:58.484000-07:00",
     "shell.execute_reply": "2021-04-26T05:25:58.483000-07:00"
    },
    "tags": []
   },
   "outputs": [
    {
     "name": "stdout",
     "output_type": "stream",
     "text": [
      "0.0\n",
      "1.0\n",
      "1.0\n",
      "2.0\n",
      "3.0\n",
      "5.0\n",
      "8.0\n"
     ]
    }
   ],
   "source": [
    "for e in Fibonacci(Float64)\n",
    "    e > 10 && break\n",
    "    println(e)\n",
    "end"
   ]
  },
  {
   "cell_type": "code",
   "execution_count": 67,
   "id": "00123c20-bdbb-463c-a49b-0d2fb035ed2b",
   "metadata": {
    "execution": {
     "iopub.execute_input": "2021-04-26T05:38:24.124000-07:00",
     "iopub.status.busy": "2021-04-26T05:38:24.124000-07:00",
     "iopub.status.idle": "2021-04-26T05:38:24.125000-07:00",
     "shell.execute_reply": "2021-04-26T05:38:24.125000-07:00"
    },
    "tags": []
   },
   "outputs": [
    {
     "data": {
      "text/plain": [
       "(0.0, (1.0, 1.0))"
      ]
     },
     "execution_count": 67,
     "metadata": {},
     "output_type": "execute_result"
    }
   ],
   "source": [
    "iterate(Fibonacci(Float64))"
   ]
  },
  {
   "cell_type": "code",
   "execution_count": 49,
   "id": "ff254496-593a-4320-927d-7cd0ce89269b",
   "metadata": {
    "execution": {
     "iopub.execute_input": "2021-04-26T05:29:50.182000-07:00",
     "iopub.status.busy": "2021-04-26T05:29:50.181000-07:00",
     "iopub.status.idle": "2021-04-26T05:29:50.184000-07:00",
     "shell.execute_reply": "2021-04-26T05:29:50.184000-07:00"
    },
    "tags": []
   },
   "outputs": [],
   "source": [
    "struct fact{T<:Real} end"
   ]
  },
  {
   "cell_type": "code",
   "execution_count": 76,
   "id": "cd3e47e4-5db9-4728-b448-b4c3c7cbed1e",
   "metadata": {
    "execution": {
     "iopub.execute_input": "2021-04-26T05:43:05.344000-07:00",
     "iopub.status.busy": "2021-04-26T05:43:05.344000-07:00",
     "iopub.status.idle": "2021-04-26T05:43:05.349000-07:00",
     "shell.execute_reply": "2021-04-26T05:43:05.348000-07:00"
    },
    "tags": []
   },
   "outputs": [],
   "source": [
    "fact(d::DataType) = d<:Real ? fact{d}() : error(\"No Real Type!\")\n",
    "\n",
    "Base.iterate(::fact{T}) where {T<:Real} = (one(T),(one(T),2*one(T)))\n",
    "Base.iterate(::fact{T},state::Tuple) where {T<:Real} = (state[1],(state[1]*state[2],state[2]+1))"
   ]
  },
  {
   "cell_type": "code",
   "execution_count": 88,
   "id": "c02739c2-8258-4db4-b4e3-550fab737d5f",
   "metadata": {
    "execution": {
     "iopub.execute_input": "2021-04-26T05:49:22.842000-07:00",
     "iopub.status.busy": "2021-04-26T05:49:22.842000-07:00",
     "iopub.status.idle": "2021-04-26T05:49:22.868000-07:00",
     "shell.execute_reply": "2021-04-26T05:49:22.867000-07:00"
    },
    "tags": []
   },
   "outputs": [
    {
     "name": "stdout",
     "output_type": "stream",
     "text": [
      "1\n",
      "1\n",
      "2\n",
      "6\n",
      "24\n",
      "120\n",
      "720\n",
      "5040\n",
      "40320\n",
      "362880\n",
      "3628800\n",
      "39916800\n"
     ]
    }
   ],
   "source": [
    "i = 0\n",
    "num =11\n",
    "for e in fact(Int64)\n",
    "    i += 1\n",
    "    i > num+1 && break\n",
    "    println(e)\n",
    "end"
   ]
  },
  {
   "cell_type": "code",
   "execution_count": 55,
   "id": "11c5925a-2347-4541-8439-cdf3e58dd633",
   "metadata": {
    "execution": {
     "iopub.execute_input": "2021-04-26T05:36:30.875000-07:00",
     "iopub.status.busy": "2021-04-26T05:36:30.875000-07:00",
     "iopub.status.idle": "2021-04-26T05:36:31.688000-07:00",
     "shell.execute_reply": "2021-04-26T05:36:31.687000-07:00"
    },
    "tags": []
   },
   "outputs": [
    {
     "data": {
      "text/plain": [
       "10-element Vector{Int64}:\n",
       "  1\n",
       "  2\n",
       "  3\n",
       "  4\n",
       "  5\n",
       "  6\n",
       "  7\n",
       "  8\n",
       "  9\n",
       " 10"
      ]
     },
     "execution_count": 55,
     "metadata": {},
     "output_type": "execute_result"
    }
   ],
   "source": [
    "t= [x for x in 1:10]"
   ]
  },
  {
   "cell_type": "code",
   "execution_count": 64,
   "id": "3c70bf4e-e969-4aa6-8bb1-89abbbdc5907",
   "metadata": {
    "execution": {
     "iopub.execute_input": "2021-04-26T05:37:28.886000-07:00",
     "iopub.status.busy": "2021-04-26T05:37:28.886000-07:00",
     "iopub.status.idle": "2021-04-26T05:37:28.887000-07:00",
     "shell.execute_reply": "2021-04-26T05:37:28.886000-07:00"
    },
    "tags": []
   },
   "outputs": [
    {
     "data": {
      "text/plain": [
       "(5, 6)"
      ]
     },
     "execution_count": 64,
     "metadata": {},
     "output_type": "execute_result"
    }
   ],
   "source": [
    "iterate(t,5)"
   ]
  },
  {
   "cell_type": "code",
   "execution_count": 54,
   "id": "1fbfdc26-bfba-42fe-9caf-25d9dcfdb409",
   "metadata": {
    "execution": {
     "iopub.execute_input": "2021-04-26T05:32:20.721000-07:00",
     "iopub.status.busy": "2021-04-26T05:32:20.721000-07:00",
     "iopub.status.idle": "2021-04-26T05:32:20.991000-07:00",
     "shell.execute_reply": "2021-04-26T05:32:20.991000-07:00"
    },
    "tags": []
   },
   "outputs": [
    {
     "data": {
      "text/plain": [
       "1.0"
      ]
     },
     "execution_count": 54,
     "metadata": {},
     "output_type": "execute_result"
    }
   ],
   "source": [
    "one(Float64)"
   ]
  },
  {
   "cell_type": "code",
   "execution_count": 89,
   "id": "9bf275e7-d333-4fbe-8a25-ad8033f08aaf",
   "metadata": {
    "execution": {
     "iopub.execute_input": "2021-04-26T05:56:54.494000-07:00",
     "iopub.status.busy": "2021-04-26T05:56:54.494000-07:00",
     "iopub.status.idle": "2021-04-26T05:56:54.511000-07:00",
     "shell.execute_reply": "2021-04-26T05:56:54.510000-07:00"
    },
    "tags": []
   },
   "outputs": [
    {
     "ename": "LoadError",
     "evalue": "UndefVarError: iter not defined",
     "output_type": "error",
     "traceback": [
      "UndefVarError: iter not defined",
      "",
      "Stacktrace:",
      " [1] top-level scope",
      "   @ In[89]:1",
      " [2] eval",
      "   @ ./boot.jl:360 [inlined]",
      " [3] include_string(mapexpr::typeof(REPL.softscope), mod::Module, code::String, filename::String)",
      "   @ Base ./loading.jl:1094"
     ]
    }
   ],
   "source": [
    "next = iterate(iter)\n",
    "while next != nothing\n",
    "    (i,state) = next\n",
    "    next = iterate(iter,state)\n",
    "end"
   ]
  },
  {
   "cell_type": "markdown",
   "id": "02ce1956-22df-469a-9d11-bde45f7a7239",
   "metadata": {},
   "source": [
    "## Interactive Utilities\n",
    "* `using InteractiveUtils`"
   ]
  },
  {
   "cell_type": "code",
   "execution_count": 90,
   "id": "d0c62ab9-b9bd-4b45-acf5-18033cc49675",
   "metadata": {
    "execution": {
     "iopub.execute_input": "2021-04-26T06:00:23.073000-07:00",
     "iopub.status.busy": "2021-04-26T06:00:23.072000-07:00",
     "iopub.status.idle": "2021-04-26T06:00:23.074000-07:00",
     "shell.execute_reply": "2021-04-26T06:00:23.074000-07:00"
    },
    "tags": []
   },
   "outputs": [],
   "source": [
    "using InteractiveUtils"
   ]
  },
  {
   "cell_type": "code",
   "execution_count": 91,
   "id": "2be0e781-f69b-4fed-aaea-076336ed0e42",
   "metadata": {
    "execution": {
     "iopub.execute_input": "2021-04-26T06:00:52.728000-07:00",
     "iopub.status.busy": "2021-04-26T06:00:52.728000-07:00",
     "iopub.status.idle": "2021-04-26T06:00:53.101000-07:00",
     "shell.execute_reply": "2021-04-26T06:00:53.101000-07:00"
    },
    "tags": []
   },
   "outputs": [
    {
     "data": {
      "text/plain": [
       "squaresum (generic function with 1 method)"
      ]
     },
     "execution_count": 91,
     "metadata": {},
     "output_type": "execute_result"
    }
   ],
   "source": [
    "function squaresum(a::Float64, b::Float64)\n",
    "    a^2 + b^2\n",
    "end"
   ]
  },
  {
   "cell_type": "code",
   "execution_count": 93,
   "id": "4e90b894-fe23-4f9d-b579-3eb62e27fa01",
   "metadata": {
    "execution": {
     "iopub.execute_input": "2021-04-26T06:01:20.344000-07:00",
     "iopub.status.busy": "2021-04-26T06:01:20.344000-07:00",
     "iopub.status.idle": "2021-04-26T06:01:21.701000-07:00",
     "shell.execute_reply": "2021-04-26T06:01:21.700000-07:00"
    },
    "tags": []
   },
   "outputs": [
    {
     "data": {
      "text/plain": [
       "CodeInfo(\n",
       "\u001b[90m1 ─\u001b[39m %1 = Core.apply_type(Base.Val, 2)\n",
       "\u001b[90m│  \u001b[39m %2 = (%1)()\n",
       "\u001b[90m│  \u001b[39m %3 = Base.literal_pow(Main.:^, a, %2)\n",
       "\u001b[90m│  \u001b[39m %4 = Core.apply_type(Base.Val, 2)\n",
       "\u001b[90m│  \u001b[39m %5 = (%4)()\n",
       "\u001b[90m│  \u001b[39m %6 = Base.literal_pow(Main.:^, b, %5)\n",
       "\u001b[90m│  \u001b[39m %7 = %3 + %6\n",
       "\u001b[90m└──\u001b[39m      return %7\n",
       ")"
      ]
     },
     "execution_count": 93,
     "metadata": {},
     "output_type": "execute_result"
    }
   ],
   "source": [
    "@code_lowered squaresum(3.0,4.0)"
   ]
  },
  {
   "cell_type": "code",
   "execution_count": 94,
   "id": "f0c21c9b-3057-4c9c-a002-885a3718cd84",
   "metadata": {
    "execution": {
     "iopub.execute_input": "2021-04-26T06:02:16.251000-07:00",
     "iopub.status.busy": "2021-04-26T06:02:16.251000-07:00",
     "iopub.status.idle": "2021-04-26T06:02:16.904000-07:00",
     "shell.execute_reply": "2021-04-26T06:02:16.904000-07:00"
    },
    "tags": []
   },
   "outputs": [
    {
     "data": {
      "text/plain": [
       "CodeInfo(\n",
       "\u001b[90m1 ─\u001b[39m %1 = Base.mul_float(a, a)\u001b[36m::Float64\u001b[39m\n",
       "\u001b[90m│  \u001b[39m %2 = Base.mul_float(b, b)\u001b[36m::Float64\u001b[39m\n",
       "\u001b[90m│  \u001b[39m %3 = Base.add_float(%1, %2)\u001b[36m::Float64\u001b[39m\n",
       "\u001b[90m└──\u001b[39m      return %3\n",
       ") => Float64"
      ]
     },
     "execution_count": 94,
     "metadata": {},
     "output_type": "execute_result"
    }
   ],
   "source": [
    "@code_typed squaresum(3.0,4.0)"
   ]
  },
  {
   "cell_type": "code",
   "execution_count": 95,
   "id": "cdd36e94-89de-4877-bda7-c7185a3010a2",
   "metadata": {
    "execution": {
     "iopub.execute_input": "2021-04-26T06:03:33.697000-07:00",
     "iopub.status.busy": "2021-04-26T06:03:33.697000-07:00",
     "iopub.status.idle": "2021-04-26T06:03:34.128000-07:00",
     "shell.execute_reply": "2021-04-26T06:03:34.127000-07:00"
    },
    "tags": []
   },
   "outputs": [
    {
     "name": "stdout",
     "output_type": "stream",
     "text": [
      "\u001b[90m;  @ In[91]:1 within `squaresum'\u001b[39m\n",
      "\u001b[95mdefine\u001b[39m \u001b[36mdouble\u001b[39m \u001b[93m@julia_squaresum_2999\u001b[39m\u001b[33m(\u001b[39m\u001b[36mdouble\u001b[39m \u001b[0m%0\u001b[0m, \u001b[36mdouble\u001b[39m \u001b[0m%1\u001b[33m)\u001b[39m \u001b[33m{\u001b[39m\n",
      "\u001b[91mtop:\u001b[39m\n",
      "\u001b[90m;  @ In[91]:2 within `squaresum'\u001b[39m\n",
      "\u001b[90m; ┌ @ intfuncs.jl:312 within `literal_pow'\u001b[39m\n",
      "\u001b[90m; │┌ @ float.jl:332 within `*'\u001b[39m\n",
      "    \u001b[0m%2 \u001b[0m= \u001b[96m\u001b[1mfmul\u001b[22m\u001b[39m \u001b[36mdouble\u001b[39m \u001b[0m%0\u001b[0m, \u001b[0m%0\n",
      "    \u001b[0m%3 \u001b[0m= \u001b[96m\u001b[1mfmul\u001b[22m\u001b[39m \u001b[36mdouble\u001b[39m \u001b[0m%1\u001b[0m, \u001b[0m%1\n",
      "\u001b[90m; └└\u001b[39m\n",
      "\u001b[90m; ┌ @ float.jl:326 within `+'\u001b[39m\n",
      "   \u001b[0m%4 \u001b[0m= \u001b[96m\u001b[1mfadd\u001b[22m\u001b[39m \u001b[36mdouble\u001b[39m \u001b[0m%2\u001b[0m, \u001b[0m%3\n",
      "\u001b[90m; └\u001b[39m\n",
      "  \u001b[96m\u001b[1mret\u001b[22m\u001b[39m \u001b[36mdouble\u001b[39m \u001b[0m%4\n",
      "\u001b[33m}\u001b[39m\n"
     ]
    }
   ],
   "source": [
    "@code_llvm squaresum(3.0,4.0)"
   ]
  },
  {
   "cell_type": "code",
   "execution_count": 96,
   "id": "888c6705-7611-4353-8c94-245fde5a7cfe",
   "metadata": {
    "execution": {
     "iopub.execute_input": "2021-04-26T06:06:35.121000-07:00",
     "iopub.status.busy": "2021-04-26T06:06:35.121000-07:00",
     "iopub.status.idle": "2021-04-26T06:06:35.259000-07:00",
     "shell.execute_reply": "2021-04-26T06:06:35.259000-07:00"
    },
    "tags": []
   },
   "outputs": [
    {
     "name": "stdout",
     "output_type": "stream",
     "text": [
      "\t\u001b[0m.text\n",
      "\u001b[90m; ┌ @ In[91]:2 within `squaresum'\u001b[39m\n",
      "\u001b[90m; │┌ @ intfuncs.jl:312 within `literal_pow'\u001b[39m\n",
      "\u001b[90m; ││┌ @ float.jl:332 within `*'\u001b[39m\n",
      "\t\u001b[96m\u001b[1mvmulsd\u001b[22m\u001b[39m\t\u001b[0m%xmm0\u001b[0m, \u001b[0m%xmm0\u001b[0m, \u001b[0m%xmm0\n",
      "\t\u001b[96m\u001b[1mvmulsd\u001b[22m\u001b[39m\t\u001b[0m%xmm1\u001b[0m, \u001b[0m%xmm1\u001b[0m, \u001b[0m%xmm1\n",
      "\u001b[90m; │└└\u001b[39m\n",
      "\u001b[90m; │┌ @ float.jl:326 within `+'\u001b[39m\n",
      "\t\u001b[96m\u001b[1mvaddsd\u001b[22m\u001b[39m\t\u001b[0m%xmm1\u001b[0m, \u001b[0m%xmm0\u001b[0m, \u001b[0m%xmm0\n",
      "\u001b[90m; │└\u001b[39m\n",
      "\t\u001b[96m\u001b[1mretq\u001b[22m\u001b[39m\n",
      "\t\u001b[96m\u001b[1mnopl\u001b[22m\u001b[39m\t\u001b[33m(\u001b[39m\u001b[0m%rax\u001b[33m)\u001b[39m\n",
      "\u001b[90m; └\u001b[39m\n"
     ]
    }
   ],
   "source": [
    "@code_native squaresum(3.0,4.0)"
   ]
  },
  {
   "cell_type": "markdown",
   "id": "5070774b-d813-4e37-88d6-a7e94b22c84c",
   "metadata": {},
   "source": [
    "## Debugging"
   ]
  },
  {
   "cell_type": "code",
   "execution_count": 98,
   "id": "9d6c49aa-e67d-4f14-81b7-ddca3dff041d",
   "metadata": {
    "execution": {
     "iopub.execute_input": "2021-04-26T06:07:54.301000-07:00",
     "iopub.status.busy": "2021-04-26T06:07:54.301000-07:00",
     "iopub.status.idle": "2021-04-26T06:07:54.306000-07:00",
     "shell.execute_reply": "2021-04-26T06:07:54.304000-07:00"
    },
    "tags": []
   },
   "outputs": [],
   "source": [
    "@debug \"the sum of some values $(sum(rand(10)))\""
   ]
  },
  {
   "cell_type": "code",
   "execution_count": 99,
   "id": "f2ad42b8-e5c5-4c21-9610-e996a7b4a95a",
   "metadata": {
    "execution": {
     "iopub.execute_input": "2021-04-26T06:08:05.314000-07:00",
     "iopub.status.busy": "2021-04-26T06:08:05.314000-07:00",
     "iopub.status.idle": "2021-04-26T06:08:05.422000-07:00",
     "shell.execute_reply": "2021-04-26T06:08:05.421000-07:00"
    },
    "tags": []
   },
   "outputs": [
    {
     "data": {
      "text/plain": [
       "5.54637836605643"
      ]
     },
     "execution_count": 99,
     "metadata": {},
     "output_type": "execute_result"
    }
   ],
   "source": [
    "sum(rand(10))"
   ]
  }
 ],
 "metadata": {
  "kernelspec": {
   "display_name": "Julia 1.6.0",
   "language": "julia",
   "name": "julia-1.6"
  },
  "language_info": {
   "file_extension": ".jl",
   "mimetype": "application/julia",
   "name": "julia",
   "version": "1.6.0"
  }
 },
 "nbformat": 4,
 "nbformat_minor": 5
}
