{
 "cells": [
  {
   "cell_type": "markdown",
   "id": "b491317b-30ba-4c18-b9f0-0505687b3629",
   "metadata": {},
   "source": [
    "# Files\n",
    "* `w+`"
   ]
  },
  {
   "cell_type": "code",
   "execution_count": 5,
   "id": "714948c7-191d-4124-9fa9-6584b7b9a9f7",
   "metadata": {
    "execution": {
     "iopub.execute_input": "2021-04-23T23:27:14.058000-07:00",
     "iopub.status.busy": "2021-04-23T23:27:14.058000-07:00",
     "iopub.status.idle": "2021-04-23T23:27:14.060000-07:00",
     "shell.execute_reply": "2021-04-23T23:27:14.060000-07:00"
    },
    "tags": []
   },
   "outputs": [],
   "source": [
    "fout = open(\"Chap14/output.txt\",\"w+\")\n",
    "line1 = \"This here's the wattle.\\n\"\n",
    "write(fout,line1)\n",
    "close(fout)"
   ]
  },
  {
   "cell_type": "markdown",
   "id": "b881f999-40a9-41d2-9c97-3a30888c929c",
   "metadata": {
    "execution": {
     "iopub.execute_input": "2021-04-23T23:26:37.112000-07:00",
     "iopub.status.busy": "2021-04-23T23:26:37.112000-07:00",
     "iopub.status.idle": "2021-04-23T23:26:37.113000-07:00",
     "shell.execute_reply": "2021-04-23T23:26:37.113000-07:00"
    },
    "tags": []
   },
   "source": [
    "## Formatting\n",
    "* the argument of `write()` has to be a <mark>String</mark>"
   ]
  },
  {
   "cell_type": "code",
   "execution_count": 18,
   "id": "13b083b9-dacd-4dca-b54e-fbfe54f6780d",
   "metadata": {
    "execution": {
     "iopub.execute_input": "2021-04-23T23:31:26.961000-07:00",
     "iopub.status.busy": "2021-04-23T23:31:26.961000-07:00",
     "iopub.status.idle": "2021-04-23T23:31:26.963000-07:00",
     "shell.execute_reply": "2021-04-23T23:31:26.963000-07:00"
    },
    "tags": []
   },
   "outputs": [],
   "source": [
    "fout = open(\"Chap14/output_1.txt\",\"w+\")\n",
    "line1 = 100\n",
    "\n",
    "write(fout,line1)\n",
    "\n",
    "close(fout)"
   ]
  },
  {
   "cell_type": "code",
   "execution_count": 23,
   "id": "2b46a05d-a502-44b1-8f04-6e1e5fd6e520",
   "metadata": {
    "execution": {
     "iopub.execute_input": "2021-04-23T23:32:56.790000-07:00",
     "iopub.status.busy": "2021-04-23T23:32:56.790000-07:00",
     "iopub.status.idle": "2021-04-23T23:32:56.867000-07:00",
     "shell.execute_reply": "2021-04-23T23:32:56.866000-07:00"
    },
    "tags": []
   },
   "outputs": [],
   "source": [
    "fout = open(\"Chap14/output_2.txt\",\"w+\")\n",
    "line1 = (100,20)\n",
    "\n",
    "write(fout,\"$(line1...)\\n\")\n",
    "write(fout,\"$(line1)\")\n",
    "\n",
    "close(fout)"
   ]
  }
 ],
 "metadata": {
  "kernelspec": {
   "display_name": "Julia 1.6.0",
   "language": "julia",
   "name": "julia-1.6"
  },
  "language_info": {
   "file_extension": ".jl",
   "mimetype": "application/julia",
   "name": "julia",
   "version": "1.6.0"
  }
 },
 "nbformat": 4,
 "nbformat_minor": 5
}
