{
 "cells": [
  {
   "cell_type": "markdown",
   "id": "b8189e54-3323-45cd-a1a8-b46347352d49",
   "metadata": {},
   "source": [
    "# Iteration\n",
    "## `while` Statement"
   ]
  },
  {
   "cell_type": "code",
   "execution_count": 1,
   "id": "9cd44765-61e3-4fac-b0a8-bc04338e43d5",
   "metadata": {
    "execution": {
     "iopub.execute_input": "2021-04-21T20:01:22.748000-07:00",
     "iopub.status.busy": "2021-04-21T20:01:22.081000-07:00",
     "iopub.status.idle": "2021-04-21T20:01:23.791000-07:00",
     "shell.execute_reply": "2021-04-21T20:01:23.765000-07:00"
    },
    "tags": []
   },
   "outputs": [
    {
     "data": {
      "text/plain": [
       "countdown (generic function with 1 method)"
      ]
     },
     "execution_count": 1,
     "metadata": {},
     "output_type": "execute_result"
    }
   ],
   "source": [
    "function countdown(n)\n",
    "    while n > 0\n",
    "        print(n,\" \")\n",
    "        n -= 1\n",
    "    end\n",
    "    print(\"Blastoff!\")\n",
    "end"
   ]
  },
  {
   "cell_type": "code",
   "execution_count": 2,
   "id": "5bce2a16-4e16-4717-a474-358a8884cafd",
   "metadata": {
    "execution": {
     "iopub.execute_input": "2021-04-21T20:01:23.792000-07:00",
     "iopub.status.busy": "2021-04-21T20:01:23.792000-07:00",
     "iopub.status.idle": "2021-04-21T20:01:23.850000-07:00",
     "shell.execute_reply": "2021-04-21T20:01:23.850000-07:00"
    },
    "tags": []
   },
   "outputs": [
    {
     "name": "stdout",
     "output_type": "stream",
     "text": [
      "1 Blastoff!"
     ]
    }
   ],
   "source": [
    "countdown(1)"
   ]
  },
  {
   "cell_type": "code",
   "execution_count": 3,
   "id": "17b21308-5f82-47ae-84b2-f8985ee162f1",
   "metadata": {
    "execution": {
     "iopub.execute_input": "2021-04-21T20:01:23.850000-07:00",
     "iopub.status.busy": "2021-04-21T20:01:23.850000-07:00",
     "iopub.status.idle": "2021-04-21T20:01:23.971000-07:00",
     "shell.execute_reply": "2021-04-21T20:01:23.970000-07:00"
    },
    "tags": []
   },
   "outputs": [
    {
     "data": {
      "text/plain": [
       "seq (generic function with 1 method)"
      ]
     },
     "execution_count": 3,
     "metadata": {},
     "output_type": "execute_result"
    }
   ],
   "source": [
    "function seq(n)\n",
    "    while n != 1\n",
    "        println(n)\n",
    "        if n % 2 == 0\n",
    "            n = n/2\n",
    "        else\n",
    "            n = n*3 +1\n",
    "        end\n",
    "    end\n",
    "end"
   ]
  },
  {
   "cell_type": "code",
   "execution_count": 4,
   "id": "f433bba3-7f30-43a9-9998-98580eabc26d",
   "metadata": {
    "execution": {
     "iopub.execute_input": "2021-04-21T20:01:23.972000-07:00",
     "iopub.status.busy": "2021-04-21T20:01:23.972000-07:00",
     "iopub.status.idle": "2021-04-21T20:01:24.127000-07:00",
     "shell.execute_reply": "2021-04-21T20:01:24.126000-07:00"
    },
    "tags": []
   },
   "outputs": [
    {
     "name": "stdout",
     "output_type": "stream",
     "text": [
      "2909\n",
      "8728\n",
      "4364.0\n",
      "2182.0\n",
      "1091.0\n",
      "3274.0\n",
      "1637.0\n",
      "4912.0\n",
      "2456.0\n",
      "1228.0\n",
      "614.0\n",
      "307.0\n",
      "922.0\n",
      "461.0\n",
      "1384.0\n",
      "692.0\n",
      "346.0\n",
      "173.0\n",
      "520.0\n",
      "260.0\n",
      "130.0\n",
      "65.0\n",
      "196.0\n",
      "98.0\n",
      "49.0\n",
      "148.0\n",
      "74.0\n",
      "37.0\n",
      "112.0\n",
      "56.0\n",
      "28.0\n",
      "14.0\n",
      "7.0\n",
      "22.0\n",
      "11.0\n",
      "34.0\n",
      "17.0\n",
      "52.0\n",
      "26.0\n",
      "13.0\n",
      "40.0\n",
      "20.0\n",
      "10.0\n",
      "5.0\n",
      "16.0\n",
      "8.0\n",
      "4.0\n",
      "2.0\n"
     ]
    }
   ],
   "source": [
    "seq(2909)"
   ]
  },
  {
   "cell_type": "markdown",
   "id": "ab5c2a67-7c95-4857-bac5-4923235b6142",
   "metadata": {},
   "source": [
    "## `break`"
   ]
  },
  {
   "cell_type": "code",
   "execution_count": 1,
   "id": "79b06743-5881-41a8-a06c-7e6a10be916a",
   "metadata": {
    "execution": {
     "iopub.execute_input": "2021-04-21T20:02:30.689000-07:00",
     "iopub.status.busy": "2021-04-21T20:02:30.017000-07:00",
     "iopub.status.idle": "2021-04-21T20:03:53.183000-07:00",
     "shell.execute_reply": "2021-04-21T20:03:53.099000-07:00"
    },
    "tags": []
   },
   "outputs": [
    {
     "name": "stdout",
     "output_type": "stream",
     "text": [
      ">"
     ]
    },
    {
     "name": "stdin",
     "output_type": "stream",
     "text": [
      "stdin>  done\n"
     ]
    },
    {
     "name": "stdout",
     "output_type": "stream",
     "text": [
      "Done!\n"
     ]
    }
   ],
   "source": [
    "while true\n",
    "    print(\">\")\n",
    "    line = readline()\n",
    "    if line == \"done\"\n",
    "        break \n",
    "    end\n",
    "    println(line)\n",
    "end\n",
    "println(\"Done!\")"
   ]
  },
  {
   "cell_type": "markdown",
   "id": "17e9145e-9942-4d49-b216-087e8741f907",
   "metadata": {},
   "source": [
    "## `continue`"
   ]
  },
  {
   "cell_type": "code",
   "execution_count": 4,
   "id": "d9d50309-d224-44b2-b3ba-5d5df4436d83",
   "metadata": {
    "execution": {
     "iopub.execute_input": "2021-04-21T20:05:42.227000-07:00",
     "iopub.status.busy": "2021-04-21T20:05:42.227000-07:00",
     "iopub.status.idle": "2021-04-21T20:05:42.247000-07:00",
     "shell.execute_reply": "2021-04-21T20:05:42.247000-07:00"
    },
    "tags": []
   },
   "outputs": [
    {
     "name": "stdout",
     "output_type": "stream",
     "text": [
      "1 2 4 5 7 8 10 "
     ]
    }
   ],
   "source": [
    "for i in 1:10\n",
    "    if i % 3 == 0\n",
    "        continue\n",
    "    end\n",
    "    print(i, \" \")\n",
    "end"
   ]
  },
  {
   "cell_type": "markdown",
   "id": "da9c3045-eb11-465d-a270-d300689767a1",
   "metadata": {},
   "source": [
    "## Compute Square Root\n",
    "* Newton's Metod\n",
    "$$\n",
    "y = \\frac{1}{2}\\bigg(x+\\frac{a}{x}\\bigg)\n",
    "$$\n",
    "$a$ is the value we want to know its root, $x$ is the estimation of $a$'s root"
   ]
  },
  {
   "cell_type": "markdown",
   "id": "9fb07214-4b23-497f-a9ea-7ebf41be599a",
   "metadata": {},
   "source": [
    "$$\n",
    "\\begin{array}{ll}\n",
    "\\because & df(x_{n}) = f(x_{n})+f'(x_{n})(x-x_{n})\\\\\n",
    "\\therefore & f(x_{n})+f'(x_{n})(x_{n+1}-x_{n})=0\\\\\n",
    "\\therefore & x_{n+1} = \\frac{f'(x_{n})x_{n}-f(x_{n})}{f'(x_{n})}\\\\\n",
    "\\because & f(x) = x^{2} - N\\\\\n",
    "\\therefore & x_{n+1} = \\frac{2x^{2}_{n}-x^{2}_{n}+N}{2x_{n}} = \\frac{1}{2}\\big(x_{n} + \\frac{N}{x_{n}}\\big)\n",
    "\\end{array}\n",
    "$$"
   ]
  },
  {
   "cell_type": "code",
   "execution_count": 2,
   "id": "34f42ac5-2227-465d-b9e7-651a9636a82c",
   "metadata": {
    "execution": {
     "iopub.execute_input": "2021-04-21T20:39:07.952000-07:00",
     "iopub.status.busy": "2021-04-21T20:39:07.952000-07:00",
     "iopub.status.idle": "2021-04-21T20:39:08.742000-07:00",
     "shell.execute_reply": "2021-04-21T20:39:08.710000-07:00"
    },
    "tags": []
   },
   "outputs": [
    {
     "data": {
      "text/plain": [
       "4"
      ]
     },
     "execution_count": 2,
     "metadata": {},
     "output_type": "execute_result"
    }
   ],
   "source": [
    "a = 4"
   ]
  },
  {
   "cell_type": "code",
   "execution_count": 3,
   "id": "c9953ec6-b74e-4da8-a812-c97229c7a4bb",
   "metadata": {
    "execution": {
     "iopub.execute_input": "2021-04-21T20:39:08.744000-07:00",
     "iopub.status.busy": "2021-04-21T20:39:08.743000-07:00",
     "iopub.status.idle": "2021-04-21T20:39:08.747000-07:00",
     "shell.execute_reply": "2021-04-21T20:39:08.747000-07:00"
    },
    "tags": []
   },
   "outputs": [
    {
     "data": {
      "text/plain": [
       "3"
      ]
     },
     "execution_count": 3,
     "metadata": {},
     "output_type": "execute_result"
    }
   ],
   "source": [
    "x = 3"
   ]
  },
  {
   "cell_type": "code",
   "execution_count": 4,
   "id": "4d94c859-13ff-4b76-9bed-378438e1e23c",
   "metadata": {
    "execution": {
     "iopub.execute_input": "2021-04-21T20:39:08.748000-07:00",
     "iopub.status.busy": "2021-04-21T20:39:08.748000-07:00",
     "iopub.status.idle": "2021-04-21T20:39:09.104000-07:00",
     "shell.execute_reply": "2021-04-21T20:39:09.103000-07:00"
    },
    "tags": []
   },
   "outputs": [
    {
     "data": {
      "text/plain": [
       "2.1666666666666665"
      ]
     },
     "execution_count": 4,
     "metadata": {},
     "output_type": "execute_result"
    }
   ],
   "source": [
    "y = (x + a/x)/2"
   ]
  },
  {
   "cell_type": "code",
   "execution_count": 5,
   "id": "143c6272-391b-44f1-bf72-8b8a2fa61fed",
   "metadata": {
    "execution": {
     "iopub.execute_input": "2021-04-21T20:39:09.106000-07:00",
     "iopub.status.busy": "2021-04-21T20:39:09.105000-07:00",
     "iopub.status.idle": "2021-04-21T20:39:09.108000-07:00",
     "shell.execute_reply": "2021-04-21T20:39:09.108000-07:00"
    },
    "tags": []
   },
   "outputs": [
    {
     "data": {
      "text/plain": [
       "2.1666666666666665"
      ]
     },
     "execution_count": 5,
     "metadata": {},
     "output_type": "execute_result"
    }
   ],
   "source": [
    "x = y"
   ]
  },
  {
   "cell_type": "code",
   "execution_count": 6,
   "id": "0ac96c17-8adc-40e3-b5ec-a736e30016d2",
   "metadata": {
    "execution": {
     "iopub.execute_input": "2021-04-21T20:39:09.109000-07:00",
     "iopub.status.busy": "2021-04-21T20:39:09.108000-07:00",
     "iopub.status.idle": "2021-04-21T20:39:09.119000-07:00",
     "shell.execute_reply": "2021-04-21T20:39:09.118000-07:00"
    },
    "tags": []
   },
   "outputs": [
    {
     "data": {
      "text/plain": [
       "2.0064102564102564"
      ]
     },
     "execution_count": 6,
     "metadata": {},
     "output_type": "execute_result"
    }
   ],
   "source": [
    "y = (x + a/x)/2"
   ]
  },
  {
   "cell_type": "code",
   "execution_count": 7,
   "id": "1897068a-bb24-4cad-8d4b-8735d26325e8",
   "metadata": {
    "execution": {
     "iopub.execute_input": "2021-04-21T20:39:09.121000-07:00",
     "iopub.status.busy": "2021-04-21T20:39:09.120000-07:00",
     "iopub.status.idle": "2021-04-21T20:39:09.123000-07:00",
     "shell.execute_reply": "2021-04-21T20:39:09.122000-07:00"
    },
    "tags": []
   },
   "outputs": [
    {
     "data": {
      "text/plain": [
       "2.0064102564102564"
      ]
     },
     "execution_count": 7,
     "metadata": {},
     "output_type": "execute_result"
    }
   ],
   "source": [
    "x = y"
   ]
  },
  {
   "cell_type": "code",
   "execution_count": 8,
   "id": "5f25728e-41ad-48ea-b7b1-ae63c92e33a5",
   "metadata": {
    "execution": {
     "iopub.execute_input": "2021-04-21T20:39:09.123000-07:00",
     "iopub.status.busy": "2021-04-21T20:39:09.123000-07:00",
     "iopub.status.idle": "2021-04-21T20:39:09.125000-07:00",
     "shell.execute_reply": "2021-04-21T20:39:09.125000-07:00"
    },
    "tags": []
   },
   "outputs": [
    {
     "data": {
      "text/plain": [
       "2.0000102400262145"
      ]
     },
     "execution_count": 8,
     "metadata": {},
     "output_type": "execute_result"
    }
   ],
   "source": [
    "y = (x + a/x)/2"
   ]
  },
  {
   "cell_type": "code",
   "execution_count": 9,
   "id": "05b0cf25-2c0f-4097-9261-46259658481b",
   "metadata": {
    "execution": {
     "iopub.execute_input": "2021-04-21T20:39:26.946000-07:00",
     "iopub.status.busy": "2021-04-21T20:39:26.946000-07:00",
     "iopub.status.idle": "2021-04-21T20:39:26.947000-07:00",
     "shell.execute_reply": "2021-04-21T20:39:26.947000-07:00"
    },
    "tags": []
   },
   "outputs": [
    {
     "data": {
      "text/plain": [
       "2.0000102400262145"
      ]
     },
     "execution_count": 9,
     "metadata": {},
     "output_type": "execute_result"
    }
   ],
   "source": [
    "x = y"
   ]
  },
  {
   "cell_type": "code",
   "execution_count": 10,
   "id": "6a91d3a1-8371-4db5-b67f-e7dd368f355d",
   "metadata": {
    "execution": {
     "iopub.execute_input": "2021-04-21T20:39:27.625000-07:00",
     "iopub.status.busy": "2021-04-21T20:39:27.625000-07:00",
     "iopub.status.idle": "2021-04-21T20:39:27.626000-07:00",
     "shell.execute_reply": "2021-04-21T20:39:27.626000-07:00"
    },
    "tags": []
   },
   "outputs": [
    {
     "data": {
      "text/plain": [
       "2.0000000000262146"
      ]
     },
     "execution_count": 10,
     "metadata": {},
     "output_type": "execute_result"
    }
   ],
   "source": [
    "y = (x + a/x)/2"
   ]
  },
  {
   "cell_type": "code",
   "execution_count": 11,
   "id": "16805cc7-09aa-4c7e-a0d0-41e438dbcaff",
   "metadata": {
    "execution": {
     "iopub.execute_input": "2021-04-21T20:39:38.514000-07:00",
     "iopub.status.busy": "2021-04-21T20:39:38.514000-07:00",
     "iopub.status.idle": "2021-04-21T20:39:38.515000-07:00",
     "shell.execute_reply": "2021-04-21T20:39:38.515000-07:00"
    },
    "tags": []
   },
   "outputs": [
    {
     "data": {
      "text/plain": [
       "2.0000000000262146"
      ]
     },
     "execution_count": 11,
     "metadata": {},
     "output_type": "execute_result"
    }
   ],
   "source": [
    "x = y"
   ]
  },
  {
   "cell_type": "code",
   "execution_count": 12,
   "id": "b1fb95e2-8353-460a-bd00-bb5a0e0b7572",
   "metadata": {
    "execution": {
     "iopub.execute_input": "2021-04-21T20:39:39.361000-07:00",
     "iopub.status.busy": "2021-04-21T20:39:39.361000-07:00",
     "iopub.status.idle": "2021-04-21T20:39:39.362000-07:00",
     "shell.execute_reply": "2021-04-21T20:39:39.362000-07:00"
    },
    "tags": []
   },
   "outputs": [
    {
     "data": {
      "text/plain": [
       "2.0"
      ]
     },
     "execution_count": 12,
     "metadata": {},
     "output_type": "execute_result"
    }
   ],
   "source": [
    "y = (x + a/x)/2"
   ]
  },
  {
   "cell_type": "code",
   "execution_count": 13,
   "id": "621563ca-cfa5-4e3b-b2e8-f23dd2986bd5",
   "metadata": {
    "execution": {
     "iopub.execute_input": "2021-04-21T20:39:45.569000-07:00",
     "iopub.status.busy": "2021-04-21T20:39:45.569000-07:00",
     "iopub.status.idle": "2021-04-21T20:39:45.570000-07:00",
     "shell.execute_reply": "2021-04-21T20:39:45.570000-07:00"
    },
    "tags": []
   },
   "outputs": [
    {
     "data": {
      "text/plain": [
       "2.0"
      ]
     },
     "execution_count": 13,
     "metadata": {},
     "output_type": "execute_result"
    }
   ],
   "source": [
    "x = y"
   ]
  },
  {
   "cell_type": "code",
   "execution_count": 14,
   "id": "a4eb749f-7e4e-4821-8018-d87cca82ca30",
   "metadata": {
    "execution": {
     "iopub.execute_input": "2021-04-21T20:39:45.575000-07:00",
     "iopub.status.busy": "2021-04-21T20:39:45.575000-07:00",
     "iopub.status.idle": "2021-04-21T20:39:45.576000-07:00",
     "shell.execute_reply": "2021-04-21T20:39:45.576000-07:00"
    },
    "tags": []
   },
   "outputs": [
    {
     "data": {
      "text/plain": [
       "2.0"
      ]
     },
     "execution_count": 14,
     "metadata": {},
     "output_type": "execute_result"
    }
   ],
   "source": [
    "y = (x + a/x)/2"
   ]
  },
  {
   "cell_type": "code",
   "execution_count": 29,
   "id": "dd4462df-d079-4cfe-a173-de56a1cb5315",
   "metadata": {
    "execution": {
     "iopub.execute_input": "2021-04-21T20:50:21.075000-07:00",
     "iopub.status.busy": "2021-04-21T20:50:21.075000-07:00",
     "iopub.status.idle": "2021-04-21T20:50:21.101000-07:00",
     "shell.execute_reply": "2021-04-21T20:50:21.101000-07:00"
    },
    "tags": []
   },
   "outputs": [
    {
     "name": "stdout",
     "output_type": "stream",
     "text": [
      "0.5912529874727346\n",
      "3.6782732496518786\n",
      "2.382870019344491\n",
      "2.030759011302089\n",
      "2.000232946590663\n",
      "2.0000000135644487\n",
      "2.0\n"
     ]
    }
   ],
   "source": [
    "x = rand()\n",
    "while true\n",
    "    println(x)\n",
    "    y = (x + a/x)/2\n",
    "    if y == x\n",
    "        break\n",
    "    end\n",
    "    x = y \n",
    "end"
   ]
  },
  {
   "cell_type": "markdown",
   "id": "2122786f-ff85-41b9-8741-28ab4424b120",
   "metadata": {},
   "source": [
    "* but some number such as $\\sqrt{2}$ can't be represented by Float64 excactly, therefore, we use $|y-a|\\le\\epsilon$ to check it"
   ]
  },
  {
   "cell_type": "code",
   "execution_count": 69,
   "id": "1808f988-dacf-48cd-bf35-15a87b14ddbb",
   "metadata": {
    "execution": {
     "iopub.execute_input": "2021-04-21T20:52:38.298000-07:00",
     "iopub.status.busy": "2021-04-21T20:52:38.298000-07:00",
     "iopub.status.idle": "2021-04-21T20:52:38.300000-07:00",
     "shell.execute_reply": "2021-04-21T20:52:38.300000-07:00"
    },
    "tags": []
   },
   "outputs": [
    {
     "data": {
      "text/plain": [
       "sqrt_by_myself (generic function with 1 method)"
      ]
     },
     "execution_count": 69,
     "metadata": {},
     "output_type": "execute_result"
    }
   ],
   "source": [
    "function sqrt_by_myself(a)\n",
    "    x = rand()\n",
    "    while true\n",
    "        println(x)\n",
    "        y = (x+a/x)/2\n",
    "        \n",
    "        if abs(x-y) < 0.0000001\n",
    "            break\n",
    "        end\n",
    "        x = y \n",
    "    end\n",
    "    return x\n",
    "end"
   ]
  },
  {
   "cell_type": "code",
   "execution_count": 73,
   "id": "b307a306-ba57-4ecf-a42b-37e188226e16",
   "metadata": {
    "execution": {
     "iopub.execute_input": "2021-04-21T20:52:46.414000-07:00",
     "iopub.status.busy": "2021-04-21T20:52:46.414000-07:00",
     "iopub.status.idle": "2021-04-21T20:52:46.415000-07:00",
     "shell.execute_reply": "2021-04-21T20:52:46.415000-07:00"
    },
    "tags": []
   },
   "outputs": [
    {
     "name": "stdout",
     "output_type": "stream",
     "text": [
      "0.8303094104597839\n",
      "1.619525012735199\n",
      "1.427227498965096\n",
      "1.4142728950813506\n",
      "1.4142135636176816\n"
     ]
    },
    {
     "data": {
      "text/plain": [
       "1.4142135636176816"
      ]
     },
     "execution_count": 73,
     "metadata": {},
     "output_type": "execute_result"
    }
   ],
   "source": [
    "sqrt_by_myself(2)"
   ]
  },
  {
   "cell_type": "code",
   "execution_count": 74,
   "id": "b6577e69-6c45-43da-a0e9-02d005c4ebdf",
   "metadata": {
    "execution": {
     "iopub.execute_input": "2021-04-21T20:52:48.514000-07:00",
     "iopub.status.busy": "2021-04-21T20:52:48.514000-07:00",
     "iopub.status.idle": "2021-04-21T20:52:48.517000-07:00",
     "shell.execute_reply": "2021-04-21T20:52:48.515000-07:00"
    },
    "tags": []
   },
   "outputs": [
    {
     "data": {
      "text/plain": [
       "1.4142135623730951"
      ]
     },
     "execution_count": 74,
     "metadata": {},
     "output_type": "execute_result"
    }
   ],
   "source": [
    "sqrt(2)"
   ]
  },
  {
   "cell_type": "code",
   "execution_count": 96,
   "id": "b25f94b5-35b1-4666-be40-39eb0df9d115",
   "metadata": {
    "execution": {
     "iopub.execute_input": "2021-04-21T21:10:32.127000-07:00",
     "iopub.status.busy": "2021-04-21T21:10:32.126000-07:00",
     "iopub.status.idle": "2021-04-21T21:10:32.131000-07:00",
     "shell.execute_reply": "2021-04-21T21:10:32.130000-07:00"
    },
    "tags": []
   },
   "outputs": [
    {
     "data": {
      "text/plain": [
       "estimatepi (generic function with 1 method)"
      ]
     },
     "execution_count": 96,
     "metadata": {},
     "output_type": "execute_result"
    }
   ],
   "source": [
    "function fact(n)\n",
    "    if n == 0\n",
    "        return 1\n",
    "    else\n",
    "        return fact(n-1)*n\n",
    "    end\n",
    "end\n",
    "\n",
    "function estimatepi()\n",
    "    n = 0\n",
    "    estipi = float(0)\n",
    "    while true\n",
    "        estipi += (2*sqrt(2)*fact(4*n)(1103+26390*n))/(9801*(fact(n)^4*396^(3*n)))\n",
    "        print(estipi)\n",
    "        if abs(estipi-pi) < 1e-15\n",
    "            break\n",
    "        end\n",
    "    end\n",
    "end"
   ]
  },
  {
   "cell_type": "code",
   "execution_count": 97,
   "id": "d546cf49-2b13-499d-96f0-10bc154e2170",
   "metadata": {
    "execution": {
     "iopub.execute_input": "2021-04-21T21:10:34.586000-07:00",
     "iopub.status.busy": "2021-04-21T21:10:34.586000-07:00",
     "iopub.status.idle": "2021-04-21T21:10:34.627000-07:00",
     "shell.execute_reply": "2021-04-21T21:10:34.626000-07:00"
    },
    "tags": []
   },
   "outputs": [
    {
     "ename": "LoadError",
     "evalue": "MethodError: objects of type Int64 are not callable",
     "output_type": "error",
     "traceback": [
      "MethodError: objects of type Int64 are not callable",
      "",
      "Stacktrace:",
      " [1] estimatepi()",
      "   @ Main ./In[96]:13",
      " [2] top-level scope",
      "   @ In[97]:1",
      " [3] eval",
      "   @ ./boot.jl:360 [inlined]",
      " [4] include_string(mapexpr::typeof(REPL.softscope), mod::Module, code::String, filename::String)",
      "   @ Base ./loading.jl:1094"
     ]
    }
   ],
   "source": [
    "estimatepi()"
   ]
  },
  {
   "cell_type": "code",
   "execution_count": 93,
   "id": "90db3725-1690-4b14-91d0-c838f7e34d2f",
   "metadata": {
    "execution": {
     "iopub.execute_input": "2021-04-21T21:09:28.345000-07:00",
     "iopub.status.busy": "2021-04-21T21:09:28.345000-07:00",
     "iopub.status.idle": "2021-04-21T21:09:28.346000-07:00",
     "shell.execute_reply": "2021-04-21T21:09:28.346000-07:00"
    },
    "tags": []
   },
   "outputs": [
    {
     "data": {
      "text/plain": [
       "false"
      ]
     },
     "execution_count": 93,
     "metadata": {},
     "output_type": "execute_result"
    }
   ],
   "source": [
    "abs(2 - 2.01) <=1e-10"
   ]
  },
  {
   "cell_type": "code",
   "execution_count": 84,
   "id": "14ef370d-7770-46d0-932a-eb3ee169a9e8",
   "metadata": {
    "execution": {
     "iopub.execute_input": "2021-04-21T21:07:44.140000-07:00",
     "iopub.status.busy": "2021-04-21T21:07:44.139000-07:00",
     "iopub.status.idle": "2021-04-21T21:07:44.739000-07:00",
     "shell.execute_reply": "2021-04-21T21:07:44.738000-07:00"
    },
    "tags": []
   },
   "outputs": [
    {
     "data": {
      "text/plain": [
       "π = 3.1415926535897..."
      ]
     },
     "execution_count": 84,
     "metadata": {},
     "output_type": "execute_result"
    }
   ],
   "source": [
    "pi"
   ]
  },
  {
   "cell_type": "code",
   "execution_count": 81,
   "id": "234a3d51-b7e8-4442-9a8e-2675b7309938",
   "metadata": {
    "execution": {
     "iopub.execute_input": "2021-04-21T21:05:21.132000-07:00",
     "iopub.status.busy": "2021-04-21T21:05:21.131000-07:00",
     "iopub.status.idle": "2021-04-21T21:05:21.133000-07:00",
     "shell.execute_reply": "2021-04-21T21:05:21.133000-07:00"
    },
    "tags": []
   },
   "outputs": [
    {
     "data": {
      "text/plain": [
       "120"
      ]
     },
     "execution_count": 81,
     "metadata": {},
     "output_type": "execute_result"
    }
   ],
   "source": []
  }
 ],
 "metadata": {
  "kernelspec": {
   "display_name": "Julia 1.6.0",
   "language": "julia",
   "name": "julia-1.6"
  },
  "language_info": {
   "file_extension": ".jl",
   "mimetype": "application/julia",
   "name": "julia",
   "version": "1.6.0"
  }
 },
 "nbformat": 4,
 "nbformat_minor": 5
}
