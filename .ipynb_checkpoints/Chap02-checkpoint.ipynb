{
 "cells": [
  {
   "cell_type": "markdown",
   "id": "1a495b50-f27a-4255-96fa-2f4b02d4d44b",
   "metadata": {},
   "source": [
    "# Variables, Expressions, and Statements\n",
    "## Variable Names\n",
    "* can't begin with a number\n",
    "* use \"\\_\" to seperatre words.\n",
    "* advised to use lowercase words."
   ]
  },
  {
   "cell_type": "code",
   "execution_count": 3,
   "id": "74a32a78-5b14-4a28-afaa-84d6a96b5f10",
   "metadata": {
    "execution": {
     "iopub.execute_input": "2021-04-20T20:58:49.192000-07:00",
     "iopub.status.busy": "2021-04-20T20:58:49.192000-07:00",
     "iopub.status.idle": "2021-04-20T20:58:49.554000-07:00",
     "shell.execute_reply": "2021-04-20T20:58:49.553000-07:00"
    },
    "tags": []
   },
   "outputs": [
    {
     "data": {
      "text/plain": [
       "\"zpp\""
      ]
     },
     "execution_count": 3,
     "metadata": {},
     "output_type": "execute_result"
    }
   ],
   "source": [
    "my_name = \"zpp\""
   ]
  },
  {
   "cell_type": "markdown",
   "id": "04acac88-4bc8-4dcf-bfcd-5c6aaf0d1cb4",
   "metadata": {},
   "source": [
    "## Operator Precedence\n",
    "> **Highest**\n",
    "> > Parentheses\n",
    ">\n",
    "> **Next Highest**\n",
    "> > Exponentiation\n",
    ">\n",
    "> **Third Highest**\n",
    "> > Multiplication\n",
    "> > Division\n",
    ">\n",
    "> **Lowest**\n",
    "> > Addition\n",
    "> > Subtraction"
   ]
  },
  {
   "cell_type": "code",
   "execution_count": 4,
   "id": "0981c5f4-e868-4c6a-b120-28fb5d538f74",
   "metadata": {
    "execution": {
     "iopub.execute_input": "2021-04-20T21:09:39.345000-07:00",
     "iopub.status.busy": "2021-04-20T21:09:39.345000-07:00",
     "iopub.status.idle": "2021-04-20T21:09:39.712000-07:00",
     "shell.execute_reply": "2021-04-20T21:09:39.711000-07:00"
    },
    "tags": []
   },
   "outputs": [
    {
     "data": {
      "text/plain": [
       "true"
      ]
     },
     "execution_count": 4,
     "metadata": {},
     "output_type": "execute_result"
    }
   ],
   "source": [
    "(1+3)/8 == 0.5"
   ]
  },
  {
   "cell_type": "code",
   "execution_count": 5,
   "id": "29f8ae97-83e6-4c12-b64f-4ec32b4fa5f2",
   "metadata": {
    "execution": {
     "iopub.execute_input": "2021-04-20T21:10:00.480000-07:00",
     "iopub.status.busy": "2021-04-20T21:10:00.480000-07:00",
     "iopub.status.idle": "2021-04-20T21:10:00.493000-07:00",
     "shell.execute_reply": "2021-04-20T21:10:00.493000-07:00"
    },
    "tags": []
   },
   "outputs": [
    {
     "data": {
      "text/plain": [
       "true"
      ]
     },
     "execution_count": 5,
     "metadata": {},
     "output_type": "execute_result"
    }
   ],
   "source": [
    "2*3^2 == 18"
   ]
  },
  {
   "cell_type": "markdown",
   "id": "f04aee89-0b2b-4607-a705-dcc810390d9e",
   "metadata": {},
   "source": [
    "## String Operations\n",
    "* __\\*__\n",
    "    * String Concatenaion\n",
    "* __^__\n",
    "    * repetition"
   ]
  },
  {
   "cell_type": "code",
   "execution_count": 9,
   "id": "b184bb0d-8a61-44f8-b6b1-0b937e8957a4",
   "metadata": {
    "execution": {
     "iopub.execute_input": "2021-04-20T21:13:32.565000-07:00",
     "iopub.status.busy": "2021-04-20T21:13:32.565000-07:00",
     "iopub.status.idle": "2021-04-20T21:13:32.566000-07:00",
     "shell.execute_reply": "2021-04-20T21:13:32.566000-07:00"
    },
    "tags": []
   },
   "outputs": [
    {
     "name": "stdout",
     "output_type": "stream",
     "text": [
      "hello, world!"
     ]
    }
   ],
   "source": [
    "string_1 = \"hello\";\n",
    "string_2 = \", world!\";\n",
    "\n",
    "string_all = string_1 * string_2;\n",
    "print(string_all)"
   ]
  },
  {
   "cell_type": "code",
   "execution_count": 11,
   "id": "73656cc9-7a12-45b3-971b-0a4b1db64a0a",
   "metadata": {
    "execution": {
     "iopub.execute_input": "2021-04-20T21:14:03.476000-07:00",
     "iopub.status.busy": "2021-04-20T21:14:03.476000-07:00",
     "iopub.status.idle": "2021-04-20T21:14:03.477000-07:00",
     "shell.execute_reply": "2021-04-20T21:14:03.477000-07:00"
    },
    "tags": []
   },
   "outputs": [
    {
     "name": "stdout",
     "output_type": "stream",
     "text": [
      "hellohellohello"
     ]
    }
   ],
   "source": [
    "repeat_str = string_1^3;\n",
    "print(repeat_str)"
   ]
  },
  {
   "cell_type": "markdown",
   "id": "030c2d98-f8f1-413b-ab01-0197fe6248d8",
   "metadata": {
    "execution": {
     "iopub.execute_input": "2021-04-20T21:16:40.649000-07:00",
     "iopub.status.busy": "2021-04-20T21:16:40.648000-07:00",
     "iopub.status.idle": "2021-04-20T21:16:40.668000-07:00",
     "shell.execute_reply": "2021-04-20T21:16:40.668000-07:00"
    },
    "tags": []
   },
   "source": [
    "## Debugging\n",
    "* **Syntax Error**\n",
    "    * the bug because the false structure\n",
    "    * be finded before runing\n",
    "* **Runtime Error**\n",
    "    * ***exceptions***\n",
    "* **Semantic Error**\n",
    "    * not report error\n",
    "    * need to find out by looking output"
   ]
  },
  {
   "cell_type": "markdown",
   "id": "890c48be-bba0-4dfe-ac4b-7bcab5b1f7d7",
   "metadata": {},
   "source": [
    "## Number type transfer\n",
    "* **str2num**\n",
    "    * parse(TypeofNumber, str)"
   ]
  },
  {
   "cell_type": "code",
   "execution_count": 25,
   "id": "b07f4c40-a4e5-4952-a95d-73eaf4121888",
   "metadata": {
    "execution": {
     "iopub.execute_input": "2021-04-20T22:37:11.723000-07:00",
     "iopub.status.busy": "2021-04-20T22:37:11.723000-07:00",
     "iopub.status.idle": "2021-04-20T22:37:11.724000-07:00",
     "shell.execute_reply": "2021-04-20T22:37:11.724000-07:00"
    },
    "tags": []
   },
   "outputs": [
    {
     "data": {
      "text/plain": [
       "31"
      ]
     },
     "execution_count": 25,
     "metadata": {},
     "output_type": "execute_result"
    }
   ],
   "source": [
    "parse(Int64,\"31\")"
   ]
  },
  {
   "cell_type": "code",
   "execution_count": 18,
   "id": "4c39b8a9-d59f-4703-be63-2c34ff219ce3",
   "metadata": {
    "execution": {
     "iopub.execute_input": "2021-04-20T22:35:14.282000-07:00",
     "iopub.status.busy": "2021-04-20T22:35:14.282000-07:00",
     "iopub.status.idle": "2021-04-20T22:35:14.297000-07:00",
     "shell.execute_reply": "2021-04-20T22:35:14.296000-07:00"
    },
    "tags": []
   },
   "outputs": [
    {
     "data": {
      "text/plain": [
       "true"
      ]
     },
     "execution_count": 18,
     "metadata": {},
     "output_type": "execute_result"
    }
   ],
   "source": [
    "parse(Float64,\"31\") == parse(Int64,\"31\")"
   ]
  },
  {
   "cell_type": "code",
   "execution_count": 19,
   "id": "081fb577-2e29-4754-b156-ce539a2d0d9d",
   "metadata": {
    "execution": {
     "iopub.execute_input": "2021-04-20T22:35:19.858000-07:00",
     "iopub.status.busy": "2021-04-20T22:35:19.857000-07:00",
     "iopub.status.idle": "2021-04-20T22:35:19.858000-07:00",
     "shell.execute_reply": "2021-04-20T22:35:19.858000-07:00"
    },
    "tags": []
   },
   "outputs": [
    {
     "data": {
      "text/plain": [
       "false"
      ]
     },
     "execution_count": 19,
     "metadata": {},
     "output_type": "execute_result"
    }
   ],
   "source": [
    "parse(Float64,\"31\") === parse(Int64,\"31\")"
   ]
  },
  {
   "cell_type": "markdown",
   "id": "b597cf8a-a3f6-4dd7-9420-39035bab4a3f",
   "metadata": {},
   "source": [
    "* **Num2Int**\n",
    "    * trunc(Int8/32/64,Float)"
   ]
  },
  {
   "cell_type": "code",
   "execution_count": 20,
   "id": "135f8dfa-d3f1-40cb-ae6d-8b345592cd73",
   "metadata": {
    "execution": {
     "iopub.execute_input": "2021-04-20T22:36:18.536000-07:00",
     "iopub.status.busy": "2021-04-20T22:36:18.536000-07:00",
     "iopub.status.idle": "2021-04-20T22:36:18.550000-07:00",
     "shell.execute_reply": "2021-04-20T22:36:18.549000-07:00"
    },
    "tags": []
   },
   "outputs": [
    {
     "data": {
      "text/plain": [
       "3"
      ]
     },
     "execution_count": 20,
     "metadata": {},
     "output_type": "execute_result"
    }
   ],
   "source": [
    "trunc(Int64, 3.21321)"
   ]
  },
  {
   "cell_type": "code",
   "execution_count": 21,
   "id": "a53ede4f-b4a5-4c75-af51-e26460e8f3c7",
   "metadata": {
    "execution": {
     "iopub.execute_input": "2021-04-20T22:36:30.917000-07:00",
     "iopub.status.busy": "2021-04-20T22:36:30.917000-07:00",
     "iopub.status.idle": "2021-04-20T22:36:30.918000-07:00",
     "shell.execute_reply": "2021-04-20T22:36:30.918000-07:00"
    },
    "tags": []
   },
   "outputs": [
    {
     "data": {
      "text/plain": [
       "3"
      ]
     },
     "execution_count": 21,
     "metadata": {},
     "output_type": "execute_result"
    }
   ],
   "source": [
    "trunc(Int64, 3.99999)"
   ]
  },
  {
   "cell_type": "code",
   "execution_count": 22,
   "id": "f661bd61-c20d-43cd-a37e-6510011fdb07",
   "metadata": {
    "execution": {
     "iopub.execute_input": "2021-04-20T22:36:38.055000-07:00",
     "iopub.status.busy": "2021-04-20T22:36:38.055000-07:00",
     "iopub.status.idle": "2021-04-20T22:36:38.056000-07:00",
     "shell.execute_reply": "2021-04-20T22:36:38.055000-07:00"
    },
    "tags": []
   },
   "outputs": [
    {
     "data": {
      "text/plain": [
       "-3"
      ]
     },
     "execution_count": 22,
     "metadata": {},
     "output_type": "execute_result"
    }
   ],
   "source": [
    "trunc(Int64, -3.99999)"
   ]
  },
  {
   "cell_type": "markdown",
   "id": "ca835425-215f-484d-895a-cae3ac6af7d6",
   "metadata": {},
   "source": [
    "* **Num2Float**\n",
    "    * float(Num)"
   ]
  },
  {
   "cell_type": "code",
   "execution_count": 27,
   "id": "5981366b-4dc9-40f9-b17a-55b6b5140786",
   "metadata": {
    "execution": {
     "iopub.execute_input": "2021-04-20T22:40:52.600000-07:00",
     "iopub.status.busy": "2021-04-20T22:40:52.600000-07:00",
     "iopub.status.idle": "2021-04-20T22:40:52.609000-07:00",
     "shell.execute_reply": "2021-04-20T22:40:52.609000-07:00"
    },
    "tags": []
   },
   "outputs": [
    {
     "data": {
      "text/plain": [
       "32.0"
      ]
     },
     "execution_count": 27,
     "metadata": {},
     "output_type": "execute_result"
    }
   ],
   "source": [
    "float(32)"
   ]
  },
  {
   "cell_type": "markdown",
   "id": "4f715eb9-61ec-4fef-b5c7-d3ddaa5fe65e",
   "metadata": {},
   "source": [
    "* Num2String\n",
    "    * string(Num)"
   ]
  },
  {
   "cell_type": "code",
   "execution_count": 28,
   "id": "a43d7279-af00-4fee-abef-5dd22d703a73",
   "metadata": {
    "execution": {
     "iopub.execute_input": "2021-04-20T22:41:25.584000-07:00",
     "iopub.status.busy": "2021-04-20T22:41:25.584000-07:00",
     "iopub.status.idle": "2021-04-20T22:41:25.597000-07:00",
     "shell.execute_reply": "2021-04-20T22:41:25.597000-07:00"
    },
    "tags": []
   },
   "outputs": [
    {
     "data": {
      "text/plain": [
       "\"32\""
      ]
     },
     "execution_count": 28,
     "metadata": {},
     "output_type": "execute_result"
    }
   ],
   "source": [
    "string(\\pi)"
   ]
  }
 ],
 "metadata": {
  "kernelspec": {
   "display_name": "Julia 1.6.0",
   "language": "julia",
   "name": "julia-1.6"
  },
  "language_info": {
   "file_extension": ".jl",
   "mimetype": "application/julia",
   "name": "julia",
   "version": "1.6.0"
  }
 },
 "nbformat": 4,
 "nbformat_minor": 5
}
