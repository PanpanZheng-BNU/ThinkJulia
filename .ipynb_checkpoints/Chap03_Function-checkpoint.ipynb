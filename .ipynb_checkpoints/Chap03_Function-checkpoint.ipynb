{
 "cells": [
  {
   "cell_type": "markdown",
   "id": "77f7a4fa-5464-4272-8a2f-08d984ade503",
   "metadata": {},
   "source": [
    "# Function\n",
    "## Function Definition\n",
    "### simple definition"
   ]
  },
  {
   "cell_type": "code",
   "execution_count": 5,
   "id": "a72e4bac-00a1-460d-93a2-a41af283c077",
   "metadata": {
    "execution": {
     "iopub.execute_input": "2021-04-20T23:20:29.062000-07:00",
     "iopub.status.busy": "2021-04-20T23:20:29.062000-07:00",
     "iopub.status.idle": "2021-04-20T23:20:29.182000-07:00",
     "shell.execute_reply": "2021-04-20T23:20:29.181000-07:00"
    },
    "tags": []
   },
   "outputs": [
    {
     "data": {
      "text/plain": [
       "printlyrics (generic function with 1 method)"
      ]
     },
     "execution_count": 5,
     "metadata": {},
     "output_type": "execute_result"
    }
   ],
   "source": [
    "function printlyrics()\n",
    "    println(\"I'm a lumberjack, and I'm OK\")\n",
    "    println(\"I sleep all ngiht and I work all day.\")\n",
    "end"
   ]
  },
  {
   "cell_type": "code",
   "execution_count": 6,
   "id": "4aeea4a2-5be5-4fbe-831d-4a7c69ff4317",
   "metadata": {
    "execution": {
     "iopub.execute_input": "2021-04-20T23:20:29.495000-07:00",
     "iopub.status.busy": "2021-04-20T23:20:29.495000-07:00",
     "iopub.status.idle": "2021-04-20T23:20:29.546000-07:00",
     "shell.execute_reply": "2021-04-20T23:20:29.544000-07:00"
    },
    "tags": []
   },
   "outputs": [
    {
     "name": "stdout",
     "output_type": "stream",
     "text": [
      "I'm a lumberjack, and I'm OK\n",
      "I sleep all ngiht and I work all day.\n"
     ]
    }
   ],
   "source": [
    "printlyrics()"
   ]
  },
  {
   "cell_type": "code",
   "execution_count": 7,
   "id": "7daa07d8-8895-4534-ad7a-a635b8d8672d",
   "metadata": {
    "execution": {
     "iopub.execute_input": "2021-04-20T23:20:29.982000-07:00",
     "iopub.status.busy": "2021-04-20T23:20:29.982000-07:00",
     "iopub.status.idle": "2021-04-20T23:20:30.113000-07:00",
     "shell.execute_reply": "2021-04-20T23:20:30.113000-07:00"
    },
    "tags": []
   },
   "outputs": [
    {
     "data": {
      "text/plain": [
       "repeatlyrics (generic function with 1 method)"
      ]
     },
     "execution_count": 7,
     "metadata": {},
     "output_type": "execute_result"
    }
   ],
   "source": [
    "function repeatlyrics()\n",
    "    printlyrics()\n",
    "    printlyrics()\n",
    "end"
   ]
  },
  {
   "cell_type": "code",
   "execution_count": 8,
   "id": "9f99dfd5-f0e3-4a8f-ab59-f4b3f8842b84",
   "metadata": {
    "execution": {
     "iopub.execute_input": "2021-04-20T23:20:30.569000-07:00",
     "iopub.status.busy": "2021-04-20T23:20:30.569000-07:00",
     "iopub.status.idle": "2021-04-20T23:20:30.581000-07:00",
     "shell.execute_reply": "2021-04-20T23:20:30.581000-07:00"
    },
    "tags": []
   },
   "outputs": [
    {
     "name": "stdout",
     "output_type": "stream",
     "text": [
      "I'm a lumberjack, and I'm OK\n",
      "I sleep all ngiht and I work all day.\n",
      "I'm a lumberjack, and I'm OK\n",
      "I sleep all ngiht and I work all day.\n"
     ]
    }
   ],
   "source": [
    "repeatlyrics()"
   ]
  },
  {
   "cell_type": "markdown",
   "id": "3650ca87-17d3-4e63-94b5-d3ab65281b73",
   "metadata": {},
   "source": [
    "### Parameters and Arguments\n",
    "* **Parameters**: the arguments be assigned to variables.\n",
    "\n",
    "### Fruitful Function and Void Function\n",
    "* **Fruitful Function**: return some results.\n",
    "* **Void Function**: not return any results."
   ]
  },
  {
   "cell_type": "code",
   "execution_count": 1,
   "id": "3ecf2d39-9ef0-4183-9ac4-3331fc4dbd01",
   "metadata": {
    "execution": {
     "iopub.execute_input": "2021-04-20T23:19:58.727000-07:00",
     "iopub.status.busy": "2021-04-20T23:19:57.969000-07:00",
     "iopub.status.idle": "2021-04-20T23:19:59.690000-07:00",
     "shell.execute_reply": "2021-04-20T23:19:59.655000-07:00"
    },
    "tags": []
   },
   "outputs": [
    {
     "data": {
      "text/plain": [
       "add (generic function with 1 method)"
      ]
     },
     "execution_count": 1,
     "metadata": {},
     "output_type": "execute_result"
    }
   ],
   "source": [
    "function add(x,y)\n",
    "    return x+y\n",
    "end"
   ]
  },
  {
   "cell_type": "code",
   "execution_count": 16,
   "id": "abfae91e-96be-441e-ba23-eb64074b4bcc",
   "metadata": {
    "execution": {
     "iopub.execute_input": "2021-04-20T23:21:59.891000-07:00",
     "iopub.status.busy": "2021-04-20T23:21:59.891000-07:00",
     "iopub.status.idle": "2021-04-20T23:21:59.892000-07:00",
     "shell.execute_reply": "2021-04-20T23:21:59.892000-07:00"
    },
    "tags": []
   },
   "outputs": [
    {
     "name": "stdout",
     "output_type": "stream",
     "text": [
      "3"
     ]
    }
   ],
   "source": [
    "fruitful_result = add(1,2)\n",
    "print(fruitful_result)"
   ]
  },
  {
   "cell_type": "code",
   "execution_count": 18,
   "id": "b5ae0561-28c8-41f2-a098-cc6133f7f544",
   "metadata": {
    "execution": {
     "iopub.execute_input": "2021-04-20T23:22:07.499000-07:00",
     "iopub.status.busy": "2021-04-20T23:22:07.499000-07:00",
     "iopub.status.idle": "2021-04-20T23:22:07.500000-07:00",
     "shell.execute_reply": "2021-04-20T23:22:07.500000-07:00"
    },
    "tags": []
   },
   "outputs": [
    {
     "name": "stdout",
     "output_type": "stream",
     "text": [
      "I'm a lumberjack, and I'm OK\n",
      "I sleep all ngiht and I work all day.\n",
      "I'm a lumberjack, and I'm OK\n",
      "I sleep all ngiht and I work all day.\n",
      "nothing"
     ]
    }
   ],
   "source": [
    "void_result = repeatlyrics()\n",
    "print(void_result)"
   ]
  }
 ],
 "metadata": {
  "kernelspec": {
   "display_name": "Julia 1.6.0",
   "language": "julia",
   "name": "julia-1.6"
  },
  "language_info": {
   "file_extension": ".jl",
   "mimetype": "application/julia",
   "name": "julia",
   "version": "1.6.0"
  }
 },
 "nbformat": 4,
 "nbformat_minor": 5
}
