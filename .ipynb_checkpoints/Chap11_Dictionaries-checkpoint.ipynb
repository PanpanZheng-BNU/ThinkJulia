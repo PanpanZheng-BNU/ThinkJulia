{
 "cells": [
  {
   "cell_type": "markdown",
   "id": "dac38deb-7d52-4d9b-a123-f3bc4d3017e9",
   "metadata": {},
   "source": [
    "# Dictionaries\n",
    "* **key-value pair**\n",
    "    * **keys**\n",
    "    * **values**\n",
    "    \n",
    "* `Dict()`"
   ]
  },
  {
   "cell_type": "code",
   "execution_count": 1,
   "id": "d269444b-3c54-4208-963d-09c273db9635",
   "metadata": {
    "execution": {
     "iopub.execute_input": "2021-04-22T21:15:44.182000-07:00",
     "iopub.status.busy": "2021-04-22T21:15:43.498000-07:00",
     "iopub.status.idle": "2021-04-22T21:15:44.477000-07:00",
     "shell.execute_reply": "2021-04-22T21:15:44.403000-07:00"
    },
    "tags": []
   },
   "outputs": [],
   "source": [
    "eng2sp = Dict()\n",
    "eng2sp[\"one\"] = \"uno\";"
   ]
  },
  {
   "cell_type": "code",
   "execution_count": 2,
   "id": "6b17fd76-5931-4d35-9d40-d7398a3e13ae",
   "metadata": {
    "execution": {
     "iopub.execute_input": "2021-04-22T21:15:44.479000-07:00",
     "iopub.status.busy": "2021-04-22T21:15:44.478000-07:00",
     "iopub.status.idle": "2021-04-22T21:15:44.937000-07:00",
     "shell.execute_reply": "2021-04-22T21:15:44.936000-07:00"
    },
    "tags": []
   },
   "outputs": [
    {
     "name": "stdout",
     "output_type": "stream",
     "text": [
      "Dict{Any, Any}(\"one\" => \"uno\")"
     ]
    }
   ],
   "source": [
    "print(eng2sp)"
   ]
  },
  {
   "cell_type": "markdown",
   "id": "a62546a2-ebba-4b9a-af0a-355471d3c48e",
   "metadata": {},
   "source": [
    "* `Dict(key1 => value1, key2 => value2,...)`"
   ]
  },
  {
   "cell_type": "code",
   "execution_count": 3,
   "id": "47ffb2e7-aea4-4fe3-a167-d2d2e1dde303",
   "metadata": {
    "execution": {
     "iopub.execute_input": "2021-04-22T21:15:44.939000-07:00",
     "iopub.status.busy": "2021-04-22T21:15:44.938000-07:00",
     "iopub.status.idle": "2021-04-22T21:15:46.171000-07:00",
     "shell.execute_reply": "2021-04-22T21:15:46.171000-07:00"
    },
    "tags": []
   },
   "outputs": [
    {
     "data": {
      "text/plain": [
       "Dict{String, String} with 3 entries:\n",
       "  \"two\"   => \"dos\"\n",
       "  \"one\"   => \"uno\"\n",
       "  \"three\" => \"tres\""
      ]
     },
     "execution_count": 3,
     "metadata": {},
     "output_type": "execute_result"
    }
   ],
   "source": [
    "eng2sp = Dict(\"one\" => \"uno\", \"two\" => \"dos\", \"three\" => \"tres\")"
   ]
  },
  {
   "cell_type": "code",
   "execution_count": 4,
   "id": "771695b1-048a-430c-9a08-95e369154fa6",
   "metadata": {
    "execution": {
     "iopub.execute_input": "2021-04-22T21:15:46.172000-07:00",
     "iopub.status.busy": "2021-04-22T21:15:46.171000-07:00",
     "iopub.status.idle": "2021-04-22T21:15:46.420000-07:00",
     "shell.execute_reply": "2021-04-22T21:15:46.419000-07:00"
    },
    "tags": []
   },
   "outputs": [
    {
     "data": {
      "text/plain": [
       "\"dos\""
      ]
     },
     "execution_count": 4,
     "metadata": {},
     "output_type": "execute_result"
    }
   ],
   "source": [
    "eng2sp[\"two\"]"
   ]
  },
  {
   "cell_type": "code",
   "execution_count": 5,
   "id": "29e1e985-e0bd-45e3-9bbc-12495437fcb6",
   "metadata": {
    "execution": {
     "iopub.execute_input": "2021-04-22T21:15:46.421000-07:00",
     "iopub.status.busy": "2021-04-22T21:15:46.421000-07:00",
     "iopub.status.idle": "2021-04-22T21:15:47.488000-07:00",
     "shell.execute_reply": "2021-04-22T21:15:47.487000-07:00"
    },
    "tags": []
   },
   "outputs": [
    {
     "ename": "LoadError",
     "evalue": "KeyError: key \"four\" not found",
     "output_type": "error",
     "traceback": [
      "KeyError: key \"four\" not found",
      "",
      "Stacktrace:",
      " [1] getindex(h::Dict{String, String}, key::String)",
      "   @ Base ./dict.jl:482",
      " [2] top-level scope",
      "   @ In[5]:1",
      " [3] eval",
      "   @ ./boot.jl:360 [inlined]",
      " [4] include_string(mapexpr::typeof(REPL.softscope), mod::Module, code::String, filename::String)",
      "   @ Base ./loading.jl:1094"
     ]
    }
   ],
   "source": [
    "eng2sp[\"four\"]"
   ]
  },
  {
   "cell_type": "code",
   "execution_count": 6,
   "id": "a3c38d9f-8016-47c5-863b-6e15016a1279",
   "metadata": {
    "execution": {
     "iopub.execute_input": "2021-04-22T21:15:47.490000-07:00",
     "iopub.status.busy": "2021-04-22T21:15:47.489000-07:00",
     "iopub.status.idle": "2021-04-22T21:15:47.750000-07:00",
     "shell.execute_reply": "2021-04-22T21:15:47.749000-07:00"
    },
    "tags": []
   },
   "outputs": [
    {
     "data": {
      "text/plain": [
       "3"
      ]
     },
     "execution_count": 6,
     "metadata": {},
     "output_type": "execute_result"
    }
   ],
   "source": [
    "length(eng2sp)"
   ]
  },
  {
   "cell_type": "markdown",
   "id": "f9331fd1-c093-4351-8066-beb845144f98",
   "metadata": {},
   "source": [
    "* `keys()`"
   ]
  },
  {
   "cell_type": "code",
   "execution_count": 7,
   "id": "68842ca4-bdf1-4297-95d3-5d8889afb599",
   "metadata": {
    "execution": {
     "iopub.execute_input": "2021-04-22T21:15:47.752000-07:00",
     "iopub.status.busy": "2021-04-22T21:15:47.751000-07:00",
     "iopub.status.idle": "2021-04-22T21:15:48.136000-07:00",
     "shell.execute_reply": "2021-04-22T21:15:48.136000-07:00"
    },
    "tags": []
   },
   "outputs": [
    {
     "name": "stdout",
     "output_type": "stream",
     "text": [
      "[\"two\", \"one\", \"three\"]"
     ]
    }
   ],
   "source": [
    "ks = keys(eng2sp);\n",
    "print(ks)"
   ]
  },
  {
   "cell_type": "code",
   "execution_count": 8,
   "id": "bc4b4f0c-0ba9-40be-a1fc-676d9b1c2d9d",
   "metadata": {
    "execution": {
     "iopub.execute_input": "2021-04-22T21:15:48.136000-07:00",
     "iopub.status.busy": "2021-04-22T21:15:48.136000-07:00",
     "iopub.status.idle": "2021-04-22T21:15:48.472000-07:00",
     "shell.execute_reply": "2021-04-22T21:15:48.471000-07:00"
    },
    "tags": []
   },
   "outputs": [
    {
     "data": {
      "text/plain": [
       "true"
      ]
     },
     "execution_count": 8,
     "metadata": {},
     "output_type": "execute_result"
    }
   ],
   "source": [
    "\"one\" ∈ ks"
   ]
  },
  {
   "cell_type": "code",
   "execution_count": 9,
   "id": "a5539296-108e-47c5-a0fe-f34b603e4337",
   "metadata": {
    "execution": {
     "iopub.execute_input": "2021-04-22T21:15:48.475000-07:00",
     "iopub.status.busy": "2021-04-22T21:15:48.473000-07:00",
     "iopub.status.idle": "2021-04-22T21:15:48.477000-07:00",
     "shell.execute_reply": "2021-04-22T21:15:48.477000-07:00"
    },
    "tags": []
   },
   "outputs": [
    {
     "data": {
      "text/plain": [
       "false"
      ]
     },
     "execution_count": 9,
     "metadata": {},
     "output_type": "execute_result"
    }
   ],
   "source": [
    "\"uno\" ∈ ks"
   ]
  },
  {
   "cell_type": "markdown",
   "id": "398b62cf-653c-470f-9df8-23bbd48a68f2",
   "metadata": {},
   "source": [
    "* `values()`"
   ]
  },
  {
   "cell_type": "code",
   "execution_count": 10,
   "id": "8c47e22b-e623-4de0-a6bc-d03ea5f437f2",
   "metadata": {
    "execution": {
     "iopub.execute_input": "2021-04-22T21:15:48.477000-07:00",
     "iopub.status.busy": "2021-04-22T21:15:48.477000-07:00",
     "iopub.status.idle": "2021-04-22T21:15:49.311000-07:00",
     "shell.execute_reply": "2021-04-22T21:15:49.310000-07:00"
    },
    "tags": []
   },
   "outputs": [
    {
     "data": {
      "text/plain": [
       "ValueIterator for a Dict{String, String} with 3 entries. Values:\n",
       "  \"dos\"\n",
       "  \"uno\"\n",
       "  \"tres\""
      ]
     },
     "execution_count": 10,
     "metadata": {},
     "output_type": "execute_result"
    }
   ],
   "source": [
    "vs = values(eng2sp)"
   ]
  },
  {
   "cell_type": "code",
   "execution_count": 11,
   "id": "fdbc2f20-0a28-49a0-86e8-5c59cb51ba39",
   "metadata": {
    "execution": {
     "iopub.execute_input": "2021-04-22T21:15:49.313000-07:00",
     "iopub.status.busy": "2021-04-22T21:15:49.312000-07:00",
     "iopub.status.idle": "2021-04-22T21:15:49.338000-07:00",
     "shell.execute_reply": "2021-04-22T21:15:49.337000-07:00"
    },
    "tags": []
   },
   "outputs": [
    {
     "data": {
      "text/plain": [
       "true"
      ]
     },
     "execution_count": 11,
     "metadata": {},
     "output_type": "execute_result"
    }
   ],
   "source": [
    "\"tres\" ∈ vs"
   ]
  },
  {
   "cell_type": "markdown",
   "id": "9b1691d4-2ebb-4270-9d28-e4f8bbe89341",
   "metadata": {},
   "source": [
    "**※** `∈` takes about the **same amount of time no matter how many items are in the dictionaries**; but for arrays, it searches the elements of the array in order, As the array gets longer, the search time get longer."
   ]
  },
  {
   "cell_type": "code",
   "execution_count": 12,
   "id": "654f2c96-e07e-40bd-8f39-6461556b778a",
   "metadata": {
    "execution": {
     "iopub.execute_input": "2021-04-22T21:15:49.340000-07:00",
     "iopub.status.busy": "2021-04-22T21:15:49.339000-07:00",
     "iopub.status.idle": "2021-04-22T21:15:49.734000-07:00",
     "shell.execute_reply": "2021-04-22T21:15:49.733000-07:00"
    },
    "tags": []
   },
   "outputs": [
    {
     "data": {
      "text/plain": [
       "histogram (generic function with 1 method)"
      ]
     },
     "execution_count": 12,
     "metadata": {},
     "output_type": "execute_result"
    }
   ],
   "source": [
    "# counter the number of each elements apearing in array \n",
    "function histogram(s)\n",
    "    d = Dict()\n",
    "    for i in s\n",
    "        if i ∉ keys(d)\n",
    "            d[i] = 1;\n",
    "        else\n",
    "            d[i] += 1;\n",
    "        end\n",
    "    end\n",
    "    d\n",
    "end"
   ]
  },
  {
   "cell_type": "markdown",
   "id": "1d8f61c5-66a3-4512-acbb-d273ff6ce5d9",
   "metadata": {},
   "source": [
    "* `get(Dic, key, default value(if there isn't key))`"
   ]
  },
  {
   "cell_type": "code",
   "execution_count": 13,
   "id": "4046d090-9529-443b-abc4-3432bcdfa79c",
   "metadata": {
    "execution": {
     "iopub.execute_input": "2021-04-22T21:15:49.736000-07:00",
     "iopub.status.busy": "2021-04-22T21:15:49.735000-07:00",
     "iopub.status.idle": "2021-04-22T21:15:51.018000-07:00",
     "shell.execute_reply": "2021-04-22T21:15:51.017000-07:00"
    },
    "tags": []
   },
   "outputs": [
    {
     "data": {
      "text/plain": [
       "Dict{Any, Any} with 3 entries:\n",
       "  'n' => 2\n",
       "  'a' => 3\n",
       "  'b' => 1"
      ]
     },
     "execution_count": 13,
     "metadata": {},
     "output_type": "execute_result"
    }
   ],
   "source": [
    "h = histogram(\"banana\")"
   ]
  },
  {
   "cell_type": "code",
   "execution_count": 14,
   "id": "1061bf1b-1bd7-42cf-9cb0-3dbbc323afef",
   "metadata": {
    "execution": {
     "iopub.execute_input": "2021-04-22T21:15:51.020000-07:00",
     "iopub.status.busy": "2021-04-22T21:15:51.019000-07:00",
     "iopub.status.idle": "2021-04-22T21:15:51.030000-07:00",
     "shell.execute_reply": "2021-04-22T21:15:51.030000-07:00"
    },
    "tags": []
   },
   "outputs": [
    {
     "data": {
      "text/plain": [
       "3"
      ]
     },
     "execution_count": 14,
     "metadata": {},
     "output_type": "execute_result"
    }
   ],
   "source": [
    "get(h,'a',0)"
   ]
  },
  {
   "cell_type": "code",
   "execution_count": 15,
   "id": "2a44360d-a266-45b5-8c73-f151c67b9477",
   "metadata": {
    "execution": {
     "iopub.execute_input": "2021-04-22T21:15:51.031000-07:00",
     "iopub.status.busy": "2021-04-22T21:15:51.030000-07:00",
     "iopub.status.idle": "2021-04-22T21:15:51.037000-07:00",
     "shell.execute_reply": "2021-04-22T21:15:51.037000-07:00"
    },
    "tags": []
   },
   "outputs": [
    {
     "data": {
      "text/plain": [
       "0"
      ]
     },
     "execution_count": 15,
     "metadata": {},
     "output_type": "execute_result"
    }
   ],
   "source": [
    "get(h,\"a\",0)"
   ]
  },
  {
   "cell_type": "code",
   "execution_count": 16,
   "id": "0d53e494-19d8-4f0c-bec0-346aaa736348",
   "metadata": {
    "execution": {
     "iopub.execute_input": "2021-04-22T21:15:51.037000-07:00",
     "iopub.status.busy": "2021-04-22T21:15:51.037000-07:00",
     "iopub.status.idle": "2021-04-22T21:15:51.044000-07:00",
     "shell.execute_reply": "2021-04-22T21:15:51.044000-07:00"
    },
    "tags": []
   },
   "outputs": [
    {
     "data": {
      "text/plain": [
       "\"哈\""
      ]
     },
     "execution_count": 16,
     "metadata": {},
     "output_type": "execute_result"
    }
   ],
   "source": [
    "get(h,'c', \"哈\")"
   ]
  },
  {
   "cell_type": "code",
   "execution_count": 17,
   "id": "6eb4df75-a34f-4eff-94c5-c9e7fb860f86",
   "metadata": {
    "execution": {
     "iopub.execute_input": "2021-04-22T21:15:51.045000-07:00",
     "iopub.status.busy": "2021-04-22T21:15:51.045000-07:00",
     "iopub.status.idle": "2021-04-22T21:15:51.047000-07:00",
     "shell.execute_reply": "2021-04-22T21:15:51.046000-07:00"
    },
    "tags": []
   },
   "outputs": [
    {
     "data": {
      "text/plain": [
       "histogram (generic function with 1 method)"
      ]
     },
     "execution_count": 17,
     "metadata": {},
     "output_type": "execute_result"
    }
   ],
   "source": [
    "# counter the number of each elements apearing in array \n",
    "function histogram(s)\n",
    "    d = Dict()\n",
    "    for i in s\n",
    "        d[i] = get(d,i,0) + 1;\n",
    "    end\n",
    "    d\n",
    "end"
   ]
  },
  {
   "cell_type": "code",
   "execution_count": 18,
   "id": "43fcd9ff-3c35-4284-b3b7-02a8c029b49a",
   "metadata": {
    "execution": {
     "iopub.execute_input": "2021-04-22T21:15:51.047000-07:00",
     "iopub.status.busy": "2021-04-22T21:15:51.047000-07:00",
     "iopub.status.idle": "2021-04-22T21:15:51.062000-07:00",
     "shell.execute_reply": "2021-04-22T21:15:51.062000-07:00"
    },
    "tags": []
   },
   "outputs": [
    {
     "data": {
      "text/plain": [
       "Dict{Any, Any} with 3 entries:\n",
       "  'n' => 2\n",
       "  'a' => 3\n",
       "  'b' => 1"
      ]
     },
     "execution_count": 18,
     "metadata": {},
     "output_type": "execute_result"
    }
   ],
   "source": [
    "h = histogram(\"banana\")"
   ]
  },
  {
   "cell_type": "markdown",
   "id": "79d2414c-7dbb-4926-a2e0-fe56c078fe6a",
   "metadata": {},
   "source": [
    "## Looping"
   ]
  },
  {
   "cell_type": "code",
   "execution_count": 19,
   "id": "daae3f64-3030-4d37-b4ac-ad387ec409de",
   "metadata": {
    "execution": {
     "iopub.execute_input": "2021-04-22T21:15:51.063000-07:00",
     "iopub.status.busy": "2021-04-22T21:15:51.063000-07:00",
     "iopub.status.idle": "2021-04-22T21:15:51.133000-07:00",
     "shell.execute_reply": "2021-04-22T21:15:51.133000-07:00"
    },
    "tags": []
   },
   "outputs": [
    {
     "name": "stdout",
     "output_type": "stream",
     "text": [
      "a 1\n",
      "r 2\n",
      "p 1\n",
      "o 1\n",
      "t 1\n"
     ]
    }
   ],
   "source": [
    "function printhist(h)\n",
    "    for c in keys(h)\n",
    "        println(c,\" \",h[c])\n",
    "    end\n",
    "end\n",
    "\n",
    "printhist(histogram(\"parrot\"))"
   ]
  },
  {
   "cell_type": "code",
   "execution_count": 20,
   "id": "a2c43e31-88cb-4661-aa89-79e797301cb9",
   "metadata": {
    "execution": {
     "iopub.execute_input": "2021-04-22T21:15:51.133000-07:00",
     "iopub.status.busy": "2021-04-22T21:15:51.133000-07:00",
     "iopub.status.idle": "2021-04-22T21:15:51.260000-07:00",
     "shell.execute_reply": "2021-04-22T21:15:51.260000-07:00"
    },
    "tags": []
   },
   "outputs": [
    {
     "name": "stdout",
     "output_type": "stream",
     "text": [
      "a 1\n",
      "o 1\n",
      "p 1\n",
      "r 2\n",
      "t 1\n"
     ]
    }
   ],
   "source": [
    "function sortprinthist(h)\n",
    "    for c in sort!(collect(keys(h)))\n",
    "        println(c,\" \",h[c])\n",
    "    end\n",
    "end\n",
    "sortprinthist(histogram(\"parrot\"))"
   ]
  },
  {
   "cell_type": "markdown",
   "id": "6b4e4fb9-2764-4821-8b1d-464d281dfbb2",
   "metadata": {},
   "source": [
    "## Reverse Lookup\n",
    "* from *value* to *key*"
   ]
  },
  {
   "cell_type": "code",
   "execution_count": 21,
   "id": "969c0b96-c39d-42c5-91bc-ae16f2f7e330",
   "metadata": {
    "execution": {
     "iopub.execute_input": "2021-04-22T21:15:51.262000-07:00",
     "iopub.status.busy": "2021-04-22T21:15:51.261000-07:00",
     "iopub.status.idle": "2021-04-22T21:15:51.368000-07:00",
     "shell.execute_reply": "2021-04-22T21:15:51.367000-07:00"
    },
    "tags": []
   },
   "outputs": [
    {
     "data": {
      "text/plain": [
       "reverselookup (generic function with 1 method)"
      ]
     },
     "execution_count": 21,
     "metadata": {},
     "output_type": "execute_result"
    }
   ],
   "source": [
    "function reverselookup(d,v)\n",
    "    kv = []\n",
    "    for k in keys(d)\n",
    "        if d[k] == v\n",
    "            push!(kv,k)\n",
    "        end\n",
    "    end\n",
    "    return kv\n",
    "end"
   ]
  },
  {
   "cell_type": "code",
   "execution_count": 22,
   "id": "4b192075-5d68-4f36-8b1d-28891f75aef4",
   "metadata": {
    "execution": {
     "iopub.execute_input": "2021-04-22T21:15:51.370000-07:00",
     "iopub.status.busy": "2021-04-22T21:15:51.369000-07:00",
     "iopub.status.idle": "2021-04-22T21:15:52.644000-07:00",
     "shell.execute_reply": "2021-04-22T21:15:52.643000-07:00"
    },
    "tags": []
   },
   "outputs": [
    {
     "data": {
      "text/plain": [
       "1-element Vector{Any}:\n",
       " 'r': ASCII/Unicode U+0072 (category Ll: Letter, lowercase)"
      ]
     },
     "execution_count": 22,
     "metadata": {},
     "output_type": "execute_result"
    }
   ],
   "source": [
    "reverselookup(histogram(\"parrot\"),2)"
   ]
  },
  {
   "cell_type": "markdown",
   "id": "8f05960e-aa6f-4446-a422-62d5f1f4230a",
   "metadata": {},
   "source": [
    "* `findall(isequal(value),Dic)`"
   ]
  },
  {
   "cell_type": "code",
   "execution_count": 23,
   "id": "d3d3c25e-dbf8-40e9-be97-c39edb2c2061",
   "metadata": {
    "execution": {
     "iopub.execute_input": "2021-04-22T21:15:52.646000-07:00",
     "iopub.status.busy": "2021-04-22T21:15:52.645000-07:00",
     "iopub.status.idle": "2021-04-22T21:15:53.423000-07:00",
     "shell.execute_reply": "2021-04-22T21:15:53.423000-07:00"
    },
    "tags": []
   },
   "outputs": [
    {
     "data": {
      "text/plain": [
       "1-element Vector{Char}:\n",
       " 'b': ASCII/Unicode U+0062 (category Ll: Letter, lowercase)"
      ]
     },
     "execution_count": 23,
     "metadata": {},
     "output_type": "execute_result"
    }
   ],
   "source": [
    "findall(isequal(1),h)"
   ]
  },
  {
   "cell_type": "code",
   "execution_count": 24,
   "id": "2c05b7ce-9161-43f0-a3d6-376685cae2fb",
   "metadata": {
    "execution": {
     "iopub.execute_input": "2021-04-22T21:15:53.425000-07:00",
     "iopub.status.busy": "2021-04-22T21:15:53.424000-07:00",
     "iopub.status.idle": "2021-04-22T21:15:53.429000-07:00",
     "shell.execute_reply": "2021-04-22T21:15:53.429000-07:00"
    },
    "tags": []
   },
   "outputs": [
    {
     "data": {
      "text/plain": [
       "Dict{Any, Any} with 5 entries:\n",
       "  'a' => 1\n",
       "  'r' => 2\n",
       "  'p' => 1\n",
       "  'o' => 1\n",
       "  't' => 1"
      ]
     },
     "execution_count": 24,
     "metadata": {},
     "output_type": "execute_result"
    }
   ],
   "source": [
    "h = histogram(\"parrot\")"
   ]
  },
  {
   "cell_type": "code",
   "execution_count": 25,
   "id": "c843d4f0-047d-4765-aa5b-f8d85964cb3d",
   "metadata": {
    "execution": {
     "iopub.execute_input": "2021-04-22T21:15:53.430000-07:00",
     "iopub.status.busy": "2021-04-22T21:15:53.430000-07:00",
     "iopub.status.idle": "2021-04-22T21:15:53.539000-07:00",
     "shell.execute_reply": "2021-04-22T21:15:53.538000-07:00"
    },
    "tags": []
   },
   "outputs": [
    {
     "data": {
      "text/plain": [
       "invertdict (generic function with 1 method)"
      ]
     },
     "execution_count": 25,
     "metadata": {},
     "output_type": "execute_result"
    }
   ],
   "source": [
    "function invertdict(d)\n",
    "    inverse = Dict();\n",
    "    for key in keys(d)\n",
    "        val = d[key]\n",
    "        if val ∉ keys(inverse)\n",
    "            inverse[val] = [key]\n",
    "        else\n",
    "            push!(inverse[val],key)\n",
    "        end\n",
    "    end\n",
    "    inverse\n",
    "end"
   ]
  },
  {
   "cell_type": "code",
   "execution_count": 26,
   "id": "2908c3dc-0a4b-4fa5-a2a4-1866b917e1d3",
   "metadata": {
    "execution": {
     "iopub.execute_input": "2021-04-22T21:15:53.540000-07:00",
     "iopub.status.busy": "2021-04-22T21:15:53.540000-07:00",
     "iopub.status.idle": "2021-04-22T21:15:53.636000-07:00",
     "shell.execute_reply": "2021-04-22T21:15:53.635000-07:00"
    },
    "tags": []
   },
   "outputs": [
    {
     "data": {
      "text/plain": [
       "Dict{Any, Any} with 2 entries:\n",
       "  2 => ['r']\n",
       "  1 => ['a', 'p', 'o', 't']"
      ]
     },
     "execution_count": 26,
     "metadata": {},
     "output_type": "execute_result"
    }
   ],
   "source": [
    "invertdict(histogram(\"parrot\"))"
   ]
  },
  {
   "cell_type": "code",
   "execution_count": 27,
   "id": "4496d591-3721-4434-beb0-7105c93bed9e",
   "metadata": {
    "execution": {
     "iopub.execute_input": "2021-04-22T21:15:53.638000-07:00",
     "iopub.status.busy": "2021-04-22T21:15:53.637000-07:00",
     "iopub.status.idle": "2021-04-22T21:15:53.760000-07:00",
     "shell.execute_reply": "2021-04-22T21:15:53.759000-07:00"
    },
    "tags": []
   },
   "outputs": [
    {
     "data": {
      "text/plain": [
       "invertdict2 (generic function with 1 method)"
      ]
     },
     "execution_count": 27,
     "metadata": {},
     "output_type": "execute_result"
    }
   ],
   "source": [
    "function invertdict2(d)\n",
    "    inverse = Dict();\n",
    "    for key in keys(d)\n",
    "        val = d[key]\n",
    "        inverse[val] = push!(get(inverse,val,[]),key)\n",
    "    end\n",
    "    inverse\n",
    "end"
   ]
  },
  {
   "cell_type": "code",
   "execution_count": 28,
   "id": "1354c352-7387-4fd4-84e7-872da1e9b084",
   "metadata": {
    "execution": {
     "iopub.execute_input": "2021-04-22T21:15:53.762000-07:00",
     "iopub.status.busy": "2021-04-22T21:15:53.761000-07:00",
     "iopub.status.idle": "2021-04-22T21:15:53.830000-07:00",
     "shell.execute_reply": "2021-04-22T21:15:53.829000-07:00"
    },
    "tags": []
   },
   "outputs": [
    {
     "data": {
      "text/plain": [
       "Dict{Any, Any} with 4 entries:\n",
       "  4 => Any['r']\n",
       "  2 => Any['a']\n",
       "  3 => Any['o']\n",
       "  1 => Any['s', 'p', 't']"
      ]
     },
     "execution_count": 28,
     "metadata": {},
     "output_type": "execute_result"
    }
   ],
   "source": [
    "invertdict2(histogram(\"parrrroosaot\"))"
   ]
  },
  {
   "cell_type": "markdown",
   "id": "7b047df6-d8b6-49b6-879b-98e2591c4bea",
   "metadata": {},
   "source": [
    "## Memos\n",
    "* track the result we has known in Dictionary, to improve the effect of program"
   ]
  },
  {
   "cell_type": "code",
   "execution_count": 29,
   "id": "c9d91d46-d486-4b06-bf27-20cb184ae71f",
   "metadata": {
    "execution": {
     "iopub.execute_input": "2021-04-22T21:15:53.832000-07:00",
     "iopub.status.busy": "2021-04-22T21:15:53.831000-07:00",
     "iopub.status.idle": "2021-04-22T21:15:53.966000-07:00",
     "shell.execute_reply": "2021-04-22T21:15:53.965000-07:00"
    },
    "tags": []
   },
   "outputs": [
    {
     "data": {
      "text/plain": [
       "fibonacci (generic function with 1 method)"
      ]
     },
     "execution_count": 29,
     "metadata": {},
     "output_type": "execute_result"
    }
   ],
   "source": [
    "known = Dict(0=>0,1=>1);\n",
    "function fibonacci(n)\n",
    "    if n ∈ keys(known)\n",
    "        return known[n];\n",
    "    end\n",
    "    res = fibonacci(n-1) + fibonacci(n-2)\n",
    "    known[n] = res;\n",
    "    res\n",
    "end"
   ]
  },
  {
   "cell_type": "code",
   "execution_count": 30,
   "id": "d06749d7-b8e7-4f23-81b9-04310b1e2d9a",
   "metadata": {
    "execution": {
     "iopub.execute_input": "2021-04-22T21:15:53.968000-07:00",
     "iopub.status.busy": "2021-04-22T21:15:53.967000-07:00",
     "iopub.status.idle": "2021-04-22T21:15:54.090000-07:00",
     "shell.execute_reply": "2021-04-22T21:15:54.090000-07:00"
    },
    "tags": []
   },
   "outputs": [
    {
     "data": {
      "text/plain": [
       "fibonacci2 (generic function with 1 method)"
      ]
     },
     "execution_count": 30,
     "metadata": {},
     "output_type": "execute_result"
    }
   ],
   "source": [
    "function fibonacci2(n)\n",
    "    if n == 1\n",
    "        return 1\n",
    "    elseif n == 0\n",
    "        return 0\n",
    "    end\n",
    "    res = fibonacci2(n-1) + fibonacci2(n-2)\n",
    "    res\n",
    "end"
   ]
  },
  {
   "cell_type": "markdown",
   "id": "d4ce2841-b14b-4253-baba-cc73beefacc6",
   "metadata": {},
   "source": [
    "* test and plot"
   ]
  },
  {
   "cell_type": "code",
   "execution_count": 31,
   "id": "70a52e83-89e7-432f-a466-a35e475c975b",
   "metadata": {
    "execution": {
     "iopub.execute_input": "2021-04-22T21:15:54.090000-07:00",
     "iopub.status.busy": "2021-04-22T21:15:54.090000-07:00",
     "iopub.status.idle": "2021-04-22T21:16:30.061000-07:00",
     "shell.execute_reply": "2021-04-22T21:16:30.061000-07:00"
    },
    "tags": []
   },
   "outputs": [
    {
     "name": "stderr",
     "output_type": "stream",
     "text": [
      "WARNING: using Plots.histogram in module Main conflicts with an existing identifier.\n",
      "┌ Info: For saving to png with the Plotly backend ORCA has to be installed.\n",
      "└ @ Plots /home/me/.julia/packages/Plots/8GUYs/src/backends.jl:363\n"
     ]
    },
    {
     "data": {
      "text/html": [
       "    <script type=\"text/javascript\">\n",
       "        requirejs([\"https://cdn.plot.ly/plotly-latest.min.js\"], function(p) {\n",
       "            window.Plotly = p\n",
       "        });\n",
       "    </script>\n"
      ]
     },
     "metadata": {},
     "output_type": "display_data"
    },
    {
     "data": {
      "application/vnd.plotly.v1+json": {
       "data": [
        {
         "colorbar": {
          "title": {
           "text": ""
          }
         },
         "legendgroup": "fib Memo",
         "marker": {
          "color": "rgba(0, 154, 250, 1.000)",
          "line": {
           "color": "rgba(0, 0, 0, 1)",
           "width": 1
          },
          "size": 8,
          "symbol": "circle"
         },
         "mode": "markers",
         "name": "fib Memo",
         "showlegend": true,
         "type": "scatter",
         "x": [
          1,
          2,
          3,
          4,
          5,
          6,
          7,
          8,
          9,
          10,
          11,
          12,
          13,
          14,
          15,
          16,
          17,
          18,
          19,
          20,
          21,
          22,
          23,
          24,
          25,
          26,
          27,
          28,
          29,
          30,
          31,
          32,
          33,
          34,
          35,
          36,
          37,
          38,
          39,
          40,
          41,
          42,
          43,
          44,
          45
         ],
         "xaxis": "x",
         "y": [
          0.014439928,
          2.4636e-05,
          7.02e-07,
          2.6e-07,
          2.8e-07,
          4.3e-07,
          4e-07,
          3.5e-07,
          3.71e-07,
          1.3135e-05,
          5.51e-07,
          5.71e-07,
          6.61e-07,
          6.42e-07,
          4.81e-07,
          2.6e-07,
          3.41e-07,
          2.5e-07,
          3.01e-07,
          2.3e-07,
          3e-07,
          3.41e-07,
          1.522e-06,
          1.313e-06,
          1.052e-06,
          9.92e-07,
          1.092e-06,
          1.442e-06,
          2.034e-06,
          6.802e-06,
          4.889e-06,
          4.879e-06,
          5.169e-06,
          9.638e-06,
          1.2924e-05,
          1.4748e-05,
          1.1803e-05,
          1.1331e-05,
          1.2363e-05,
          1.3345e-05,
          1.2263e-05,
          2.6449e-05,
          1.2192e-05,
          1.3255e-05,
          1.3105e-05
         ],
         "yaxis": "y",
         "zmax": null,
         "zmin": null
        },
        {
         "colorbar": {
          "title": {
           "text": ""
          }
         },
         "legendgroup": "fib Origin",
         "marker": {
          "color": "rgba(227, 111, 71, 1.000)",
          "line": {
           "color": "rgba(0, 0, 0, 1)",
           "width": 1
          },
          "size": 8,
          "symbol": "circle"
         },
         "mode": "markers",
         "name": "fib Origin",
         "showlegend": true,
         "type": "scatter",
         "x": [
          1,
          2,
          3,
          4,
          5,
          6,
          7,
          8,
          9,
          10,
          11,
          12,
          13,
          14,
          15,
          16,
          17,
          18,
          19,
          20,
          21,
          22,
          23,
          24,
          25,
          26,
          27,
          28,
          29,
          30,
          31,
          32,
          33,
          34,
          35,
          36,
          37,
          38,
          39,
          40,
          41,
          42,
          43,
          44,
          45
         ],
         "xaxis": "x",
         "y": [
          1.9e-07,
          8e-08,
          6e-08,
          7e-08,
          1.1e-07,
          1.2e-07,
          1.7e-07,
          1.9e-07,
          2.81e-07,
          3.81e-07,
          5.91e-07,
          8.91e-07,
          1.423e-06,
          2.244e-06,
          3.566e-06,
          5.671e-06,
          9.117e-06,
          1.4698e-05,
          2.3744e-05,
          3.8393e-05,
          6.2097e-05,
          0.000127581,
          0.000205467,
          0.000251474,
          0.000417928,
          0.000703787,
          0.001054278,
          0.001772351,
          0.006598148,
          0.006062176,
          0.007903908,
          0.012109727,
          0.019062902,
          0.031499193,
          0.053114056,
          0.085633922,
          0.140515049,
          0.219452341,
          0.352269239,
          0.572102286,
          0.928605547,
          1.543076524,
          2.457808489,
          3.927941791,
          6.36227889
         ],
         "yaxis": "y",
         "zmax": null,
         "zmin": null
        }
       ],
       "layout": {
        "annotations": [],
        "height": 400,
        "legend": {
         "bgcolor": "rgba(255, 255, 255, 1.000)",
         "bordercolor": "rgba(0, 0, 0, 1)",
         "font": {
          "color": "rgba(0, 0, 0, 1)",
          "family": "sans-serif",
          "size": 11
         },
         "tracegroupgap": 0,
         "x": 1,
         "y": 1
        },
        "margin": {
         "b": 20,
         "l": 0,
         "r": 0,
         "t": 20
        },
        "paper_bgcolor": "rgba(255, 255, 255, 1.000)",
        "plot_bgcolor": "rgba(255, 255, 255, 1.000)",
        "showlegend": true,
        "width": 600,
        "xaxis": {
         "anchor": "y",
         "domain": [
          0.02137649460484106,
          0.9934383202099737
         ],
         "gridcolor": "rgba(0, 0, 0, 0.1)",
         "gridwidth": 0.5,
         "linecolor": "rgba(0, 0, 0, 1)",
         "mirror": false,
         "range": [
          -0.31999999999999984,
          46.32
         ],
         "showgrid": false,
         "showline": true,
         "showticklabels": true,
         "tickangle": 0,
         "tickcolor": "rgb(0, 0, 0)",
         "tickfont": {
          "color": "rgba(0, 0, 0, 1)",
          "family": "sans-serif",
          "size": 11
         },
         "tickmode": "array",
         "ticks": "inside",
         "ticktext": [
          "0",
          "10",
          "20",
          "30",
          "40"
         ],
         "tickvals": [
          0,
          10,
          20,
          30,
          40
         ],
         "title": {
          "font": {
           "color": "rgba(0, 0, 0, 1)",
           "family": "sans-serif",
           "size": 15
          },
          "text": ""
         },
         "type": "linear",
         "visible": true,
         "zeroline": false,
         "zerolinecolor": "rgba(0, 0, 0, 1)"
        },
        "yaxis": {
         "anchor": "x",
         "domain": [
          0.03762029746281716,
          0.9901574803149606
         ],
         "gridcolor": "rgba(0, 0, 0, 0.1)",
         "gridwidth": 0.5,
         "linecolor": "rgba(0, 0, 0, 1)",
         "mirror": false,
         "range": [
          -0.1908683049,
          6.5531472549
         ],
         "showgrid": false,
         "showline": true,
         "showticklabels": true,
         "tickangle": 0,
         "tickcolor": "rgb(0, 0, 0)",
         "tickfont": {
          "color": "rgba(0, 0, 0, 1)",
          "family": "sans-serif",
          "size": 11
         },
         "tickmode": "array",
         "ticks": "inside",
         "ticktext": [
          "0",
          "1",
          "2",
          "3",
          "4",
          "5",
          "6"
         ],
         "tickvals": [
          0,
          1,
          2,
          3,
          4,
          5,
          6
         ],
         "title": {
          "font": {
           "color": "rgba(0, 0, 0, 1)",
           "family": "sans-serif",
           "size": 15
          },
          "text": ""
         },
         "type": "linear",
         "visible": true,
         "zeroline": false,
         "zerolinecolor": "rgba(0, 0, 0, 1)"
        }
       }
      },
      "image/png": "[encoded data removed]",
      "text/html": [
       "<!DOCTYPE html>\n",
       "<html>\n",
       "    <head>\n",
       "        <title>Plots.jl</title>\n",
       "        <meta http-equiv=\"content-type\" content=\"text/html; charset=UTF-8\">\n",
       "        <script src=\"https://cdn.plot.ly/plotly-latest.min.js\"></script>\n",
       "    </head>\n",
       "    <body>\n",
       "            <div id=\"d0d2f5a3-509c-4ec5-bd9b-2878c83d8ba3\" style=\"width:600px;height:400px;\"></div>\n",
       "    <script>\n",
       "    PLOT = document.getElementById('d0d2f5a3-509c-4ec5-bd9b-2878c83d8ba3');\n",
       "    Plotly.plot(PLOT, [\n",
       "    {\n",
       "        \"xaxis\": \"x1\",\n",
       "        \"colorbar\": {\n",
       "            \"title\": \"\"\n",
       "        },\n",
       "        \"yaxis\": \"y1\",\n",
       "        \"x\": [\n",
       "            1,\n",
       "            2,\n",
       "            3,\n",
       "            4,\n",
       "            5,\n",
       "            6,\n",
       "            7,\n",
       "            8,\n",
       "            9,\n",
       "            10,\n",
       "            11,\n",
       "            12,\n",
       "            13,\n",
       "            14,\n",
       "            15,\n",
       "            16,\n",
       "            17,\n",
       "            18,\n",
       "            19,\n",
       "            20,\n",
       "            21,\n",
       "            22,\n",
       "            23,\n",
       "            24,\n",
       "            25,\n",
       "            26,\n",
       "            27,\n",
       "            28,\n",
       "            29,\n",
       "            30,\n",
       "            31,\n",
       "            32,\n",
       "            33,\n",
       "            34,\n",
       "            35,\n",
       "            36,\n",
       "            37,\n",
       "            38,\n",
       "            39,\n",
       "            40,\n",
       "            41,\n",
       "            42,\n",
       "            43,\n",
       "            44,\n",
       "            45\n",
       "        ],\n",
       "        \"showlegend\": true,\n",
       "        \"mode\": \"markers\",\n",
       "        \"name\": \"fib Memo\",\n",
       "        \"zmin\": null,\n",
       "        \"legendgroup\": \"fib Memo\",\n",
       "        \"marker\": {\n",
       "            \"symbol\": \"circle\",\n",
       "            \"color\": \"rgba(0, 154, 250, 1.000)\",\n",
       "            \"line\": {\n",
       "                \"color\": \"rgba(0, 0, 0, 1.000)\",\n",
       "                \"width\": 1\n",
       "            },\n",
       "            \"size\": 8\n",
       "        },\n",
       "        \"zmax\": null,\n",
       "        \"y\": [\n",
       "            0.014439928,\n",
       "            2.4636e-5,\n",
       "            7.02e-7,\n",
       "            2.6e-7,\n",
       "            2.8e-7,\n",
       "            4.3e-7,\n",
       "            4.0e-7,\n",
       "            3.5e-7,\n",
       "            3.71e-7,\n",
       "            1.3135e-5,\n",
       "            5.51e-7,\n",
       "            5.71e-7,\n",
       "            6.61e-7,\n",
       "            6.42e-7,\n",
       "            4.81e-7,\n",
       "            2.6e-7,\n",
       "            3.41e-7,\n",
       "            2.5e-7,\n",
       "            3.01e-7,\n",
       "            2.3e-7,\n",
       "            3.0e-7,\n",
       "            3.41e-7,\n",
       "            1.522e-6,\n",
       "            1.313e-6,\n",
       "            1.052e-6,\n",
       "            9.92e-7,\n",
       "            1.092e-6,\n",
       "            1.442e-6,\n",
       "            2.034e-6,\n",
       "            6.802e-6,\n",
       "            4.889e-6,\n",
       "            4.879e-6,\n",
       "            5.169e-6,\n",
       "            9.638e-6,\n",
       "            1.2924e-5,\n",
       "            1.4748e-5,\n",
       "            1.1803e-5,\n",
       "            1.1331e-5,\n",
       "            1.2363e-5,\n",
       "            1.3345e-5,\n",
       "            1.2263e-5,\n",
       "            2.6449e-5,\n",
       "            1.2192e-5,\n",
       "            1.3255e-5,\n",
       "            1.3105e-5\n",
       "        ],\n",
       "        \"type\": \"scatter\"\n",
       "    },\n",
       "    {\n",
       "        \"xaxis\": \"x1\",\n",
       "        \"colorbar\": {\n",
       "            \"title\": \"\"\n",
       "        },\n",
       "        \"yaxis\": \"y1\",\n",
       "        \"x\": [\n",
       "            1,\n",
       "            2,\n",
       "            3,\n",
       "            4,\n",
       "            5,\n",
       "            6,\n",
       "            7,\n",
       "            8,\n",
       "            9,\n",
       "            10,\n",
       "            11,\n",
       "            12,\n",
       "            13,\n",
       "            14,\n",
       "            15,\n",
       "            16,\n",
       "            17,\n",
       "            18,\n",
       "            19,\n",
       "            20,\n",
       "            21,\n",
       "            22,\n",
       "            23,\n",
       "            24,\n",
       "            25,\n",
       "            26,\n",
       "            27,\n",
       "            28,\n",
       "            29,\n",
       "            30,\n",
       "            31,\n",
       "            32,\n",
       "            33,\n",
       "            34,\n",
       "            35,\n",
       "            36,\n",
       "            37,\n",
       "            38,\n",
       "            39,\n",
       "            40,\n",
       "            41,\n",
       "            42,\n",
       "            43,\n",
       "            44,\n",
       "            45\n",
       "        ],\n",
       "        \"showlegend\": true,\n",
       "        \"mode\": \"markers\",\n",
       "        \"name\": \"fib Origin\",\n",
       "        \"zmin\": null,\n",
       "        \"legendgroup\": \"fib Origin\",\n",
       "        \"marker\": {\n",
       "            \"symbol\": \"circle\",\n",
       "            \"color\": \"rgba(227, 111, 71, 1.000)\",\n",
       "            \"line\": {\n",
       "                \"color\": \"rgba(0, 0, 0, 1.000)\",\n",
       "                \"width\": 1\n",
       "            },\n",
       "            \"size\": 8\n",
       "        },\n",
       "        \"zmax\": null,\n",
       "        \"y\": [\n",
       "            1.9e-7,\n",
       "            8.0e-8,\n",
       "            6.0e-8,\n",
       "            7.0e-8,\n",
       "            1.1e-7,\n",
       "            1.2e-7,\n",
       "            1.7e-7,\n",
       "            1.9e-7,\n",
       "            2.81e-7,\n",
       "            3.81e-7,\n",
       "            5.91e-7,\n",
       "            8.91e-7,\n",
       "            1.423e-6,\n",
       "            2.244e-6,\n",
       "            3.566e-6,\n",
       "            5.671e-6,\n",
       "            9.117e-6,\n",
       "            1.4698e-5,\n",
       "            2.3744e-5,\n",
       "            3.8393e-5,\n",
       "            6.2097e-5,\n",
       "            0.000127581,\n",
       "            0.000205467,\n",
       "            0.000251474,\n",
       "            0.000417928,\n",
       "            0.000703787,\n",
       "            0.001054278,\n",
       "            0.001772351,\n",
       "            0.006598148,\n",
       "            0.006062176,\n",
       "            0.007903908,\n",
       "            0.012109727,\n",
       "            0.019062902,\n",
       "            0.031499193,\n",
       "            0.053114056,\n",
       "            0.085633922,\n",
       "            0.140515049,\n",
       "            0.219452341,\n",
       "            0.352269239,\n",
       "            0.572102286,\n",
       "            0.928605547,\n",
       "            1.543076524,\n",
       "            2.457808489,\n",
       "            3.927941791,\n",
       "            6.36227889\n",
       "        ],\n",
       "        \"type\": \"scatter\"\n",
       "    }\n",
       "]\n",
       ", {\n",
       "    \"showlegend\": true,\n",
       "    \"xaxis\": {\n",
       "        \"showticklabels\": true,\n",
       "        \"gridwidth\": 0.5,\n",
       "        \"tickvals\": [\n",
       "            0.0,\n",
       "            10.0,\n",
       "            20.0,\n",
       "            30.0,\n",
       "            40.0\n",
       "        ],\n",
       "        \"range\": [\n",
       "            -0.31999999999999984,\n",
       "            46.32\n",
       "        ],\n",
       "        \"domain\": [\n",
       "            0.02137649460484106,\n",
       "            0.9934383202099737\n",
       "        ],\n",
       "        \"mirror\": false,\n",
       "        \"tickangle\": 0,\n",
       "        \"showline\": true,\n",
       "        \"ticktext\": [\n",
       "            \"0\",\n",
       "            \"10\",\n",
       "            \"20\",\n",
       "            \"30\",\n",
       "            \"40\"\n",
       "        ],\n",
       "        \"zeroline\": false,\n",
       "        \"tickfont\": {\n",
       "            \"color\": \"rgba(0, 0, 0, 1.000)\",\n",
       "            \"family\": \"sans-serif\",\n",
       "            \"size\": 11\n",
       "        },\n",
       "        \"zerolinecolor\": \"rgba(0, 0, 0, 1.000)\",\n",
       "        \"anchor\": \"y1\",\n",
       "        \"visible\": true,\n",
       "        \"ticks\": \"inside\",\n",
       "        \"tickmode\": \"array\",\n",
       "        \"linecolor\": \"rgba(0, 0, 0, 1.000)\",\n",
       "        \"showgrid\": false,\n",
       "        \"title\": \"\",\n",
       "        \"gridcolor\": \"rgba(0, 0, 0, 0.100)\",\n",
       "        \"titlefont\": {\n",
       "            \"color\": \"rgba(0, 0, 0, 1.000)\",\n",
       "            \"family\": \"sans-serif\",\n",
       "            \"size\": 15\n",
       "        },\n",
       "        \"tickcolor\": \"rgb(0, 0, 0)\",\n",
       "        \"type\": \"-\"\n",
       "    },\n",
       "    \"paper_bgcolor\": \"rgba(255, 255, 255, 1.000)\",\n",
       "    \"annotations\": [],\n",
       "    \"height\": 400,\n",
       "    \"margin\": {\n",
       "        \"l\": 0,\n",
       "        \"b\": 20,\n",
       "        \"r\": 0,\n",
       "        \"t\": 20\n",
       "    },\n",
       "    \"plot_bgcolor\": \"rgba(255, 255, 255, 1.000)\",\n",
       "    \"yaxis\": {\n",
       "        \"showticklabels\": true,\n",
       "        \"gridwidth\": 0.5,\n",
       "        \"tickvals\": [\n",
       "            0.0,\n",
       "            1.0,\n",
       "            2.0,\n",
       "            3.0,\n",
       "            4.0,\n",
       "            5.0,\n",
       "            6.0\n",
       "        ],\n",
       "        \"range\": [\n",
       "            -0.1908683049,\n",
       "            6.5531472549\n",
       "        ],\n",
       "        \"domain\": [\n",
       "            0.03762029746281716,\n",
       "            0.9901574803149606\n",
       "        ],\n",
       "        \"mirror\": false,\n",
       "        \"tickangle\": 0,\n",
       "        \"showline\": true,\n",
       "        \"ticktext\": [\n",
       "            \"0\",\n",
       "            \"1\",\n",
       "            \"2\",\n",
       "            \"3\",\n",
       "            \"4\",\n",
       "            \"5\",\n",
       "            \"6\"\n",
       "        ],\n",
       "        \"zeroline\": false,\n",
       "        \"tickfont\": {\n",
       "            \"color\": \"rgba(0, 0, 0, 1.000)\",\n",
       "            \"family\": \"sans-serif\",\n",
       "            \"size\": 11\n",
       "        },\n",
       "        \"zerolinecolor\": \"rgba(0, 0, 0, 1.000)\",\n",
       "        \"anchor\": \"x1\",\n",
       "        \"visible\": true,\n",
       "        \"ticks\": \"inside\",\n",
       "        \"tickmode\": \"array\",\n",
       "        \"linecolor\": \"rgba(0, 0, 0, 1.000)\",\n",
       "        \"showgrid\": false,\n",
       "        \"title\": \"\",\n",
       "        \"gridcolor\": \"rgba(0, 0, 0, 0.100)\",\n",
       "        \"titlefont\": {\n",
       "            \"color\": \"rgba(0, 0, 0, 1.000)\",\n",
       "            \"family\": \"sans-serif\",\n",
       "            \"size\": 15\n",
       "        },\n",
       "        \"tickcolor\": \"rgb(0, 0, 0)\",\n",
       "        \"type\": \"-\"\n",
       "    },\n",
       "    \"legend\": {\n",
       "        \"tracegroupgap\": 0,\n",
       "        \"bordercolor\": \"rgba(0, 0, 0, 1.000)\",\n",
       "        \"bgcolor\": \"rgba(255, 255, 255, 1.000)\",\n",
       "        \"font\": {\n",
       "            \"color\": \"rgba(0, 0, 0, 1.000)\",\n",
       "            \"family\": \"sans-serif\",\n",
       "            \"size\": 11\n",
       "        },\n",
       "        \"y\": 1.0,\n",
       "        \"x\": 1.0\n",
       "    },\n",
       "    \"width\": 600\n",
       "}\n",
       ");\n",
       "    </script>\n",
       "\n",
       "    </body>\n",
       "</html>\n"
      ]
     },
     "execution_count": 31,
     "metadata": {},
     "output_type": "execute_result"
    }
   ],
   "source": [
    "time1 = [];\n",
    "time2 = [];\n",
    "for i in 1:45\n",
    "    push!(time1, (@timed fibonacci(i)).time)\n",
    "    push!(time2, (@timed fibonacci2(i)).time)\n",
    "end\n",
    "\n",
    "using Plots\n",
    "plotly()\n",
    "plot(\n",
    "    [time1,time2],\n",
    "    seriestype=:scatter,\n",
    "    label=[\"fib Memo\" \"fib Origin\"], \n",
    "    legend=:outerbottomright,\n",
    "    grid = :none,\n",
    ")"
   ]
  },
  {
   "cell_type": "markdown",
   "id": "5cff6c5d-b28d-42a8-94dd-139a5a3c5924",
   "metadata": {},
   "source": [
    "## Global Variables"
   ]
  },
  {
   "cell_type": "code",
   "execution_count": 32,
   "id": "8ea851c6-359f-40b5-819d-56db4c49521e",
   "metadata": {
    "execution": {
     "iopub.execute_input": "2021-04-22T21:16:30.644000-07:00",
     "iopub.status.busy": "2021-04-22T21:16:30.061000-07:00",
     "iopub.status.idle": "2021-04-22T21:16:30.827000-07:00",
     "shell.execute_reply": "2021-04-22T21:16:30.826000-07:00"
    },
    "tags": []
   },
   "outputs": [
    {
     "data": {
      "text/plain": [
       "example1 (generic function with 1 method)"
      ]
     },
     "execution_count": 32,
     "metadata": {},
     "output_type": "execute_result"
    }
   ],
   "source": [
    "verbose = true\n",
    "function example1()\n",
    "    if verbose\n",
    "        print(\"Running Example1\")\n",
    "    end\n",
    "end"
   ]
  },
  {
   "cell_type": "code",
   "execution_count": 33,
   "id": "e4c8305d-862c-4c10-8083-8257a37b7305",
   "metadata": {
    "execution": {
     "iopub.execute_input": "2021-04-22T21:16:30.829000-07:00",
     "iopub.status.busy": "2021-04-22T21:16:30.828000-07:00",
     "iopub.status.idle": "2021-04-22T21:16:30.841000-07:00",
     "shell.execute_reply": "2021-04-22T21:16:30.840000-07:00"
    },
    "tags": []
   },
   "outputs": [
    {
     "name": "stdout",
     "output_type": "stream",
     "text": [
      "Running Example1"
     ]
    }
   ],
   "source": [
    "example1()"
   ]
  },
  {
   "cell_type": "markdown",
   "id": "3f533b73-9865-4404-af77-601cd93d3d50",
   "metadata": {},
   "source": [
    "* `global v_name`"
   ]
  },
  {
   "cell_type": "code",
   "execution_count": 34,
   "id": "f24d697d-deb3-4184-866d-35415da71fa4",
   "metadata": {
    "execution": {
     "iopub.execute_input": "2021-04-22T21:16:30.843000-07:00",
     "iopub.status.busy": "2021-04-22T21:16:30.842000-07:00",
     "iopub.status.idle": "2021-04-22T21:16:30.871000-07:00",
     "shell.execute_reply": "2021-04-22T21:16:30.870000-07:00"
    },
    "tags": []
   },
   "outputs": [
    {
     "name": "stdout",
     "output_type": "stream",
     "text": [
      "3"
     ]
    }
   ],
   "source": [
    "counter = 0\n",
    "function example3()\n",
    "    global counter\n",
    "    counter += 1\n",
    "end\n",
    "\n",
    "for i in 1:3\n",
    "    example3()\n",
    "end\n",
    "\n",
    "print(counter)"
   ]
  },
  {
   "cell_type": "markdown",
   "id": "ad75b06c-ff43-4a2c-88e0-8c9ae28fe7b2",
   "metadata": {},
   "source": [
    "* `const v_name`"
   ]
  },
  {
   "cell_type": "code",
   "execution_count": 35,
   "id": "1c06f698-0a9e-4912-9bb1-ae0af6c148e0",
   "metadata": {
    "execution": {
     "iopub.execute_input": "2021-04-22T21:16:30.873000-07:00",
     "iopub.status.busy": "2021-04-22T21:16:30.872000-07:00",
     "iopub.status.idle": "2021-04-22T21:16:31.161000-07:00",
     "shell.execute_reply": "2021-04-22T21:16:31.160000-07:00"
    },
    "tags": []
   },
   "outputs": [
    {
     "name": "stdout",
     "output_type": "stream",
     "text": [
      "Dict(0 => 0, 2 => 1, 1 => 1, 100 => 2)"
     ]
    }
   ],
   "source": [
    "const known2 = Dict(0 => 0,1 => 1)\n",
    "function example4()\n",
    "    known2[2] = 1\n",
    "    known2[100] = 2\n",
    "end\n",
    "\n",
    "example4()\n",
    "print(known2)"
   ]
  },
  {
   "cell_type": "code",
   "execution_count": 37,
   "id": "ae3d2777-17e0-474e-89da-79d5ecd5d4e7",
   "metadata": {
    "execution": {
     "iopub.execute_input": "2021-04-22T22:32:48.311000-07:00",
     "iopub.status.busy": "2021-04-22T22:32:48.311000-07:00",
     "iopub.status.idle": "2021-04-22T22:32:48.450000-07:00",
     "shell.execute_reply": "2021-04-22T22:32:48.449000-07:00"
    },
    "tags": []
   },
   "outputs": [
    {
     "data": {
      "text/plain": [
       "invertdict3 (generic function with 1 method)"
      ]
     },
     "execution_count": 37,
     "metadata": {},
     "output_type": "execute_result"
    }
   ],
   "source": [
    "function invertdict3(d)\n",
    "    inverse = Dict();\n",
    "    for key in keys(d)\n",
    "        val = d[key]\n",
    "        inverse[val] = push!(get!(inverse,val,[]),key)\n",
    "    end\n",
    "    inverse\n",
    "end"
   ]
  },
  {
   "cell_type": "code",
   "execution_count": 38,
   "id": "91b984df-b9c6-487f-94d8-aded04e88236",
   "metadata": {
    "execution": {
     "iopub.execute_input": "2021-04-22T22:33:26.680000-07:00",
     "iopub.status.busy": "2021-04-22T22:33:26.679000-07:00",
     "iopub.status.idle": "2021-04-22T22:33:26.788000-07:00",
     "shell.execute_reply": "2021-04-22T22:33:26.787000-07:00"
    }
   },
   "outputs": [
    {
     "data": {
      "text/plain": [
       "Dict{Any, Any} with 4 entries:\n",
       "  4 => Any['r']\n",
       "  2 => Any['a']\n",
       "  3 => Any['o']\n",
       "  1 => Any['s', 'p', 't']"
      ]
     },
     "execution_count": 38,
     "metadata": {},
     "output_type": "execute_result"
    }
   ],
   "source": [
    "invertdict3(histogram(\"parrrroosaot\"))"
   ]
  }
 ],
 "metadata": {
  "kernelspec": {
   "display_name": "Julia 1.6.0",
   "language": "julia",
   "name": "julia-1.6"
  },
  "language_info": {
   "file_extension": ".jl",
   "mimetype": "application/julia",
   "name": "julia",
   "version": "1.6.0"
  }
 },
 "nbformat": 4,
 "nbformat_minor": 5
}
