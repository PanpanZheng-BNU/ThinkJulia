{
 "cells": [
  {
   "cell_type": "markdown",
   "id": "a82e0603-295a-41bc-bded-61ff5162b382",
   "metadata": {},
   "source": [
    "# Strings\n",
    "* String\n",
    "* Char\n",
    "    * ${\\rm Char} \\neq {\\rm String}$: `\"a\" == 'a'` return `false`"
   ]
  },
  {
   "cell_type": "code",
   "execution_count": 1,
   "id": "e2197055-c165-46c3-a76c-b0f3d18d1e29",
   "metadata": {
    "execution": {
     "iopub.execute_input": "2021-04-22T01:19:49.514000-07:00",
     "iopub.status.busy": "2021-04-22T01:19:48.824000-07:00",
     "iopub.status.idle": "2021-04-22T01:19:50.483000-07:00",
     "shell.execute_reply": "2021-04-22T01:19:50.448000-07:00"
    },
    "tags": []
   },
   "outputs": [
    {
     "data": {
      "text/plain": [
       "'x': ASCII/Unicode U+0078 (category Ll: Letter, lowercase)"
      ]
     },
     "execution_count": 1,
     "metadata": {},
     "output_type": "execute_result"
    }
   ],
   "source": [
    "'x'"
   ]
  },
  {
   "cell_type": "code",
   "execution_count": 2,
   "id": "ffa23bec-4824-4fce-9b18-bd2a7dc274d4",
   "metadata": {
    "execution": {
     "iopub.execute_input": "2021-04-22T01:19:50.483000-07:00",
     "iopub.status.busy": "2021-04-22T01:19:50.483000-07:00",
     "iopub.status.idle": "2021-04-22T01:19:50.484000-07:00",
     "shell.execute_reply": "2021-04-22T01:19:50.484000-07:00"
    },
    "tags": []
   },
   "outputs": [
    {
     "data": {
      "text/plain": [
       "'🍌': Unicode U+1F34C (category So: Symbol, other)"
      ]
     },
     "execution_count": 2,
     "metadata": {},
     "output_type": "execute_result"
    }
   ],
   "source": [
    "'🍌'"
   ]
  },
  {
   "cell_type": "code",
   "execution_count": 3,
   "id": "ad32f40d-41d2-422d-8af1-cfc28e836993",
   "metadata": {
    "execution": {
     "iopub.execute_input": "2021-04-22T01:19:50.485000-07:00",
     "iopub.status.busy": "2021-04-22T01:19:50.484000-07:00",
     "iopub.status.idle": "2021-04-22T01:19:50.838000-07:00",
     "shell.execute_reply": "2021-04-22T01:19:50.838000-07:00"
    },
    "tags": []
   },
   "outputs": [
    {
     "data": {
      "text/plain": [
       "\"banana\""
      ]
     },
     "execution_count": 3,
     "metadata": {},
     "output_type": "execute_result"
    }
   ],
   "source": [
    "fruit = \"banana\""
   ]
  },
  {
   "cell_type": "code",
   "execution_count": 4,
   "id": "7c605c79-f9cc-4156-963b-713f677f9bab",
   "metadata": {
    "execution": {
     "iopub.execute_input": "2021-04-22T01:19:50.840000-07:00",
     "iopub.status.busy": "2021-04-22T01:19:50.840000-07:00",
     "iopub.status.idle": "2021-04-22T01:19:50.855000-07:00",
     "shell.execute_reply": "2021-04-22T01:19:50.854000-07:00"
    },
    "tags": []
   },
   "outputs": [
    {
     "data": {
      "text/plain": [
       "'b': ASCII/Unicode U+0062 (category Ll: Letter, lowercase)"
      ]
     },
     "execution_count": 4,
     "metadata": {},
     "output_type": "execute_result"
    }
   ],
   "source": [
    "letter = fruit[1]"
   ]
  },
  {
   "cell_type": "code",
   "execution_count": 5,
   "id": "80ee624c-a7f9-4516-8d1e-048e4906d335",
   "metadata": {
    "execution": {
     "iopub.execute_input": "2021-04-22T01:19:50.857000-07:00",
     "iopub.status.busy": "2021-04-22T01:19:50.857000-07:00",
     "iopub.status.idle": "2021-04-22T01:19:50.859000-07:00",
     "shell.execute_reply": "2021-04-22T01:19:50.859000-07:00"
    },
    "tags": []
   },
   "outputs": [
    {
     "data": {
      "text/plain": [
       "'a': ASCII/Unicode U+0061 (category Ll: Letter, lowercase)"
      ]
     },
     "execution_count": 5,
     "metadata": {},
     "output_type": "execute_result"
    }
   ],
   "source": [
    "fruit[end]"
   ]
  },
  {
   "cell_type": "code",
   "execution_count": 6,
   "id": "bb61eb86-dc41-4fe3-8be5-672368f8c7f2",
   "metadata": {
    "execution": {
     "iopub.execute_input": "2021-04-22T01:19:50.859000-07:00",
     "iopub.status.busy": "2021-04-22T01:19:50.859000-07:00",
     "iopub.status.idle": "2021-04-22T01:19:50.861000-07:00",
     "shell.execute_reply": "2021-04-22T01:19:50.861000-07:00"
    },
    "tags": []
   },
   "outputs": [
    {
     "data": {
      "text/plain": [
       "\"🍌 🍎 🍐\""
      ]
     },
     "execution_count": 6,
     "metadata": {},
     "output_type": "execute_result"
    }
   ],
   "source": [
    "fruits = \"🍌 🍎 🍐\""
   ]
  },
  {
   "cell_type": "code",
   "execution_count": 7,
   "id": "216bfbfc-ddda-4735-b0f3-49de2834537c",
   "metadata": {
    "execution": {
     "iopub.execute_input": "2021-04-22T01:19:50.861000-07:00",
     "iopub.status.busy": "2021-04-22T01:19:50.861000-07:00",
     "iopub.status.idle": "2021-04-22T01:19:51.149000-07:00",
     "shell.execute_reply": "2021-04-22T01:19:51.148000-07:00"
    },
    "tags": []
   },
   "outputs": [
    {
     "data": {
      "text/plain": [
       "5"
      ]
     },
     "execution_count": 7,
     "metadata": {},
     "output_type": "execute_result"
    }
   ],
   "source": [
    "len = length(fruits)"
   ]
  },
  {
   "cell_type": "markdown",
   "id": "1aa12af9-df56-4bfc-9dfc-810a31553ccd",
   "metadata": {},
   "source": [
    "### utf-8 different length"
   ]
  },
  {
   "cell_type": "code",
   "execution_count": 8,
   "id": "0d828b32-4990-445a-a7f2-7e5e6fb827ac",
   "metadata": {
    "execution": {
     "iopub.execute_input": "2021-04-22T01:19:51.151000-07:00",
     "iopub.status.busy": "2021-04-22T01:19:51.150000-07:00",
     "iopub.status.idle": "2021-04-22T01:19:51.216000-07:00",
     "shell.execute_reply": "2021-04-22T01:19:51.214000-07:00"
    },
    "tags": []
   },
   "outputs": [
    {
     "name": "stdout",
     "output_type": "stream",
     "text": [
      "🍌\t4\n",
      "哈\t3\n",
      "a\t3\n"
     ]
    }
   ],
   "source": [
    "println(\"🍌\\t\",sizeof(\"🍌\"))\n",
    "println(\"哈\\t\", sizeof(\"哈\"))\n",
    "println(\"a\\t\", sizeof(\"哈\"))"
   ]
  },
  {
   "cell_type": "code",
   "execution_count": 9,
   "id": "0dfbe756-fc3e-4b5d-9631-3a3453cb4c2f",
   "metadata": {
    "execution": {
     "iopub.execute_input": "2021-04-22T01:19:51.219000-07:00",
     "iopub.status.busy": "2021-04-22T01:19:51.219000-07:00",
     "iopub.status.idle": "2021-04-22T01:19:51.222000-07:00",
     "shell.execute_reply": "2021-04-22T01:19:51.222000-07:00"
    },
    "tags": []
   },
   "outputs": [
    {
     "data": {
      "text/plain": [
       "' ': ASCII/Unicode U+0020 (category Zs: Separator, space)"
      ]
     },
     "execution_count": 9,
     "metadata": {},
     "output_type": "execute_result"
    }
   ],
   "source": [
    "fruits[len]"
   ]
  },
  {
   "cell_type": "code",
   "execution_count": 10,
   "id": "23d602fb-b040-48a6-931a-27777c3c1bdc",
   "metadata": {
    "execution": {
     "iopub.execute_input": "2021-04-22T01:19:51.222000-07:00",
     "iopub.status.busy": "2021-04-22T01:19:51.222000-07:00",
     "iopub.status.idle": "2021-04-22T01:19:52.486000-07:00",
     "shell.execute_reply": "2021-04-22T01:19:52.486000-07:00"
    },
    "tags": []
   },
   "outputs": [
    {
     "ename": "LoadError",
     "evalue": "StringIndexError: invalid index [2], valid nearby indices [1]=>'🍌', [5]=>' '",
     "output_type": "error",
     "traceback": [
      "StringIndexError: invalid index [2], valid nearby indices [1]=>'🍌', [5]=>' '",
      "",
      "Stacktrace:",
      " [1] string_index_err(s::String, i::Int64)",
      "   @ Base ./strings/string.jl:12",
      " [2] getindex_continued(s::String, i::Int64, u::UInt32)",
      "   @ Base ./strings/string.jl:233",
      " [3] getindex(s::String, i::Int64)",
      "   @ Base ./strings/string.jl:226",
      " [4] top-level scope",
      "   @ In[10]:1",
      " [5] eval",
      "   @ ./boot.jl:360 [inlined]",
      " [6] include_string(mapexpr::typeof(REPL.softscope), mod::Module, code::String, filename::String)",
      "   @ Base ./loading.jl:1094"
     ]
    }
   ],
   "source": [
    "fruits[2]"
   ]
  },
  {
   "cell_type": "markdown",
   "id": "114a8ac3-2cdb-40c4-8745-a30a8a170a24",
   "metadata": {},
   "source": [
    "## `nextind`: find the next valid index"
   ]
  },
  {
   "cell_type": "code",
   "execution_count": 11,
   "id": "8c05acd9-82d8-4955-93fd-962c0f5c6f29",
   "metadata": {
    "execution": {
     "iopub.execute_input": "2021-04-22T01:19:52.487000-07:00",
     "iopub.status.busy": "2021-04-22T01:19:52.486000-07:00",
     "iopub.status.idle": "2021-04-22T01:19:52.887000-07:00",
     "shell.execute_reply": "2021-04-22T01:19:52.886000-07:00"
    },
    "tags": []
   },
   "outputs": [
    {
     "data": {
      "text/plain": [
       "indself (generic function with 1 method)"
      ]
     },
     "execution_count": 11,
     "metadata": {},
     "output_type": "execute_result"
    }
   ],
   "source": [
    "# Define a function to get the valid index by the index of string\n",
    "function indself(array,n)\n",
    "    if n == 1\n",
    "        return 1\n",
    "    else\n",
    "        return nextind(array,indself(array,n-1))\n",
    "    end\n",
    "end\n"
   ]
  },
  {
   "cell_type": "code",
   "execution_count": 12,
   "id": "c1b06fb9-d4a6-4eeb-bec1-bd43af83eeae",
   "metadata": {
    "execution": {
     "iopub.execute_input": "2021-04-22T01:19:52.888000-07:00",
     "iopub.status.busy": "2021-04-22T01:19:52.888000-07:00",
     "iopub.status.idle": "2021-04-22T01:19:52.956000-07:00",
     "shell.execute_reply": "2021-04-22T01:19:52.955000-07:00"
    },
    "tags": []
   },
   "outputs": [
    {
     "name": "stdout",
     "output_type": "stream",
     "text": [
      "🍌\n",
      " \n",
      "🍎\n",
      " \n",
      "🍐\n"
     ]
    }
   ],
   "source": [
    "for i in 1:length(fruits)\n",
    "    println(fruits[indself(fruits,i)])\n",
    "end"
   ]
  },
  {
   "cell_type": "code",
   "execution_count": 13,
   "id": "cce6eb26-65ac-4a6f-b5ed-481a27937edc",
   "metadata": {
    "execution": {
     "iopub.execute_input": "2021-04-22T01:19:52.958000-07:00",
     "iopub.status.busy": "2021-04-22T01:19:52.957000-07:00",
     "iopub.status.idle": "2021-04-22T01:19:52.961000-07:00",
     "shell.execute_reply": "2021-04-22T01:19:52.961000-07:00"
    },
    "tags": []
   },
   "outputs": [
    {
     "data": {
      "text/plain": [
       "\"生活中，若科学和人文谁更有意义出现了，我们就不得不考虑它出现了的事实。 既然如此， 我们都知道，只要有意义，那么就必须慎重考虑。 现在，解决科学和人文谁更有意义的问题，是非常非常重要的。 所以， 科学和人文谁更有意义，发生了会如何，不发生又会如何。 既然如此， 科学和人文谁更有意义的发生，到底需要如何做到，不科学和人文谁更有意义的发生，又会如何产生。 一般来讲，我们都必须务必慎重的考虑考虑。 科学和人文谁更有意义的发生，到底需要如何做到，不科学和人文谁更有意义的发生，又会如何产生。 现在，解决科学和人文谁更有意义的问题，是非常非常重要的。 所以， 所谓科学和人文谁更有意义，关键是科学和人文谁更有意义需要如何写。 罗素·贝克曾经说过，一个人即使已登上顶峰，也仍要自强不息。这启发了我， 我们一般认为，抓住了问题的关键，其他一切则会迎刃而解。 我们都知道，只要有意义，那么就必须慎重考虑。 了解清楚科学和人文谁更有意义到底是一种怎么样的存在，是解决一切问题的关键。 美华纳在不经意间这样说过，勿问成功的秘诀为何，且尽全力做你应该做的事吧。这不禁令我深思。 可是，即使是这样，科学和人文谁更有意义的出现仍然代表了一定的意义。 我们一般认为，抓住了问题的关键，其他一切则会迎刃而解。 每个人都不得不面对这些问题。 在面对这种问题时， 一般来说， 科学和人文谁更有意义，到底应该如何实现。 一般来说， 问题的关键究竟为何？ 克劳斯·莫瑟爵士说过一句富有哲理的话，教育需要花费钱，而无知也是一样。这启发了我， 这样看来， 从这个角度来看， 带着这些问题，我们来审视一下科学和人文谁更有意义。 一般来讲，我们都必须务必慎重的考虑考虑。 科学和人文谁更有意义，到底应该如何实现。 那么， 带着这些问题，我们来审视一下科学和人文谁更有意义。 带着这些问题，我们来审视一下科学和人文谁更有意义。 要想清楚，科学和人文谁更有意义，到底是一种怎么样的存在。 我们不得不面对一个非常尴尬的事实，那就是， 我们不得不面对一个非常尴尬的事实，那就是， 本人也是经过了深思熟虑，在每个日日夜夜思考这个问题。 富兰克林曾经说过，你热爱生命吗？那么别浪费时间，因为时间是组成生命的材料。这启发了我， 爱尔兰说过一句富有哲理的话，越是无能的人，越喜欢挑剔别人的错儿。带着这句话，我们还要更加慎重的审视这个问题： 而这些并不是完全重要，更加重要的问题是， 我们不得不面对一个非常尴尬的事实，那就是， 一般来说， 每个人都不得不面对这些问题。 在面对这种问题时， 而这些并不是完全重要，更加重要的问题是， 科学和人文谁更有意义，到底应该如何实现。 这样看来， 总结的来说， 现在，解决科学和人文谁更有意义的问题，是非常非常重要的。 所以， 一般来讲，我们都必须务必慎重的考虑考虑。 池田大作曾经说过，不要回避苦恼和困难，挺起身来向它挑战，进而克服它。带着这句话，我们还要更加慎重的审视这个问题： 总结的来说。\""
      ]
     },
     "execution_count": 13,
     "metadata": {},
     "output_type": "execute_result"
    }
   ],
   "source": [
    "chinese = \"生活中，若科学和人文谁更有意义出现了，我们就不得不考虑它出现了的事实。 既然如此， 我们都知道，只要有意义，那么就必须慎重考虑。 现在，解决科学和人文谁更有意义的问题，是非常非常重要的。 所以， 科学和人文谁更有意义，发生了会如何，不发生又会如何。 既然如此， 科学和人文谁更有意义的发生，到底需要如何做到，不科学和人文谁更有意义的发生，又会如何产生。 一般来讲，我们都必须务必慎重的考虑考虑。 科学和人文谁更有意义的发生，到底需要如何做到，不科学和人文谁更有意义的发生，又会如何产生。 现在，解决科学和人文谁更有意义的问题，是非常非常重要的。 所以， 所谓科学和人文谁更有意义，关键是科学和人文谁更有意义需要如何写。 罗素·贝克曾经说过，一个人即使已登上顶峰，也仍要自强不息。这启发了我， 我们一般认为，抓住了问题的关键，其他一切则会迎刃而解。 我们都知道，只要有意义，那么就必须慎重考虑。 了解清楚科学和人文谁更有意义到底是一种怎么样的存在，是解决一切问题的关键。 美华纳在不经意间这样说过，勿问成功的秘诀为何，且尽全力做你应该做的事吧。这不禁令我深思。 可是，即使是这样，科学和人文谁更有意义的出现仍然代表了一定的意义。 我们一般认为，抓住了问题的关键，其他一切则会迎刃而解。 每个人都不得不面对这些问题。 在面对这种问题时， 一般来说， 科学和人文谁更有意义，到底应该如何实现。 一般来说， 问题的关键究竟为何？ 克劳斯·莫瑟爵士说过一句富有哲理的话，教育需要花费钱，而无知也是一样。这启发了我， 这样看来， 从这个角度来看， 带着这些问题，我们来审视一下科学和人文谁更有意义。 一般来讲，我们都必须务必慎重的考虑考虑。 科学和人文谁更有意义，到底应该如何实现。 那么， 带着这些问题，我们来审视一下科学和人文谁更有意义。 带着这些问题，我们来审视一下科学和人文谁更有意义。 要想清楚，科学和人文谁更有意义，到底是一种怎么样的存在。 我们不得不面对一个非常尴尬的事实，那就是， 我们不得不面对一个非常尴尬的事实，那就是， 本人也是经过了深思熟虑，在每个日日夜夜思考这个问题。 富兰克林曾经说过，你热爱生命吗？那么别浪费时间，因为时间是组成生命的材料。这启发了我， 爱尔兰说过一句富有哲理的话，越是无能的人，越喜欢挑剔别人的错儿。带着这句话，我们还要更加慎重的审视这个问题： 而这些并不是完全重要，更加重要的问题是， 我们不得不面对一个非常尴尬的事实，那就是， 一般来说， 每个人都不得不面对这些问题。 在面对这种问题时， 而这些并不是完全重要，更加重要的问题是， 科学和人文谁更有意义，到底应该如何实现。 这样看来， 总结的来说， 现在，解决科学和人文谁更有意义的问题，是非常非常重要的。 所以， 一般来讲，我们都必须务必慎重的考虑考虑。 池田大作曾经说过，不要回避苦恼和困难，挺起身来向它挑战，进而克服它。带着这句话，我们还要更加慎重的审视这个问题： 总结的来说。\""
   ]
  },
  {
   "cell_type": "code",
   "execution_count": 14,
   "id": "9ab43247-e58d-4e25-b32e-d2ce62a7f5fe",
   "metadata": {
    "execution": {
     "iopub.execute_input": "2021-04-22T01:19:52.961000-07:00",
     "iopub.status.busy": "2021-04-22T01:19:52.961000-07:00",
     "iopub.status.idle": "2021-04-22T01:19:53.011000-07:00",
     "shell.execute_reply": "2021-04-22T01:19:53.011000-07:00"
    },
    "tags": []
   },
   "outputs": [
    {
     "name": "stdout",
     "output_type": "stream",
     "text": [
      "生活中，若科学和人文谁更有意义出现了，我们就不得不考虑它出现了的事实。 既然如此， 我们都知道，只要有意义，那么就必须慎重考虑。 现在，解决科学和人文谁更有意义的问题，是非常非常重要的。 所以， 科学和人文谁更有意义，发生了会如何，不发生又会如何。 既然如此， 科学和人文谁更有意义的发生，到底需要如何做到，不科学和人文谁更有意义的发生，又会如何产生。 一般来讲，我们都必须务必慎重的考虑考虑。 科学和人文谁更有意义的发生，到底需要如何做到，不科学和人文谁更有意义的发生，又会如何产生。 现在，解决科学和人文谁更有意义的问题，是非常非常重要的。 所以， 所谓科学和人文谁更有意义，关键是科学和人文谁更有意义需要如何写。 罗素·贝克曾经说过，一个人即使已登上顶峰，也仍要自强不息。这启发了我， 我们一般认为，抓住了问题的关键，其他一切则会迎刃而解。 我们都知道，只要有意义，那么就必须慎重考虑。 了解清楚科学和人文谁更有意义到底是一种怎么样的存在，是解决一切问题的关键。 美华纳在不经意间这样说过，勿问成功的秘诀为何，且尽全力做你应该做的事吧。这不禁令我深思。 可是，即使是这样，科学和人文谁更有意义的出现仍然代表了一定的意义。 我们一般认为，抓住了问题的关键，其他一切则会迎刃而解。 每个人都不得不面对这些问题。 在面对这种问题时， 一般来说， 科学和人文谁更有意义，到底应该如何实现。 一般来说， 问题的关键究竟为何？ 克劳斯·莫瑟爵士说过一句富有哲理的话，教育需要花费钱，而无知也是一样。这启发了我， 这样看来， 从这个角度来看， 带着这些问题，我们来审视一下科学和人文谁更有意义。 一般来讲，我们都必须务必慎重的考虑考虑。 科学和人文谁更有意义，到底应该如何实现。 那么， 带着这些问题，我们来审视一下科学和人文谁更有意义。 带着这些问题，我们来审视一下科学和人文谁更有意义。 要想清楚，科学和人文谁更有意义，到底是一种怎么样的存在。 我们不得不面对一个非常尴尬的事实，那就是， 我们不得不面对一个非常尴尬的事实，那就是， 本人也是经过了深思熟虑，在每个日日夜夜思考这个问题。 富兰克林曾经说过，你热爱生命吗？那么别浪费时间，因为时间是组成生命的材料。这启发了我， 爱尔兰说过一句富有哲理的话，越是无能的人，越喜欢挑剔别人的错儿。带着这句话，我们还要更加慎重的审视这个问题： 而这些并不是完全重要，更加重要的问题是， 我们不得不面对一个非常尴尬的事实，那就是， 一般来说， 每个人都不得不面对这些问题。 在面对这种问题时， 而这些并不是完全重要，更加重要的问题是， 科学和人文谁更有意义，到底应该如何实现。 这样看来， 总结的来说， 现在，解决科学和人文谁更有意义的问题，是非常非常重要的。 所以， 一般来讲，我们都必须务必慎重的考虑考虑。 池田大作曾经说过，不要回避苦恼和困难，挺起身来向它挑战，进而克服它。带着这句话，我们还要更加慎重的审视这个问题： 总结的来说。"
     ]
    }
   ],
   "source": [
    "for i in 1:length(chinese)\n",
    "    print(chinese[indself(chinese,i)])\n",
    "end"
   ]
  },
  {
   "cell_type": "markdown",
   "id": "a0331480-9724-4ebc-b5d6-e2e7e431f1c5",
   "metadata": {},
   "source": [
    "### Travelsoal"
   ]
  },
  {
   "cell_type": "code",
   "execution_count": 15,
   "id": "45a63d60-2957-40e7-a505-a0324cefaafd",
   "metadata": {
    "execution": {
     "iopub.execute_input": "2021-04-22T01:19:53.013000-07:00",
     "iopub.status.busy": "2021-04-22T01:19:53.013000-07:00",
     "iopub.status.idle": "2021-04-22T01:19:53.026000-07:00",
     "shell.execute_reply": "2021-04-22T01:19:53.026000-07:00"
    },
    "tags": []
   },
   "outputs": [
    {
     "name": "stdout",
     "output_type": "stream",
     "text": [
      "🍌\n",
      " \n",
      "🍎\n",
      " \n",
      "🍐\n"
     ]
    }
   ],
   "source": [
    "index = firstindex(fruits)\n",
    "while index <= sizeof(fruits)\n",
    "    letter = fruits[index]\n",
    "    println(letter)\n",
    "    global index = nextind(fruits,index)\n",
    "end"
   ]
  },
  {
   "cell_type": "code",
   "execution_count": 16,
   "id": "d1e5efb2-2525-4eeb-961f-0484e05ff126",
   "metadata": {
    "execution": {
     "iopub.execute_input": "2021-04-22T01:19:53.029000-07:00",
     "iopub.status.busy": "2021-04-22T01:19:53.028000-07:00",
     "iopub.status.idle": "2021-04-22T01:19:53.516000-07:00",
     "shell.execute_reply": "2021-04-22T01:19:53.516000-07:00"
    },
    "tags": []
   },
   "outputs": [
    {
     "name": "stdout",
     "output_type": "stream",
     "text": [
      "🍌\tChar\n",
      " \tChar\n",
      "🍎\tChar\n",
      " \tChar\n",
      "🍐\tChar\n"
     ]
    }
   ],
   "source": [
    "for i in fruits\n",
    "    println(i,\"\\t\",typeof(i))\n",
    "end"
   ]
  },
  {
   "cell_type": "code",
   "execution_count": 17,
   "id": "c2c2ba7f-430e-4e33-97c4-0e9870c62107",
   "metadata": {
    "execution": {
     "iopub.execute_input": "2021-04-22T01:19:53.517000-07:00",
     "iopub.status.busy": "2021-04-22T01:19:53.517000-07:00",
     "iopub.status.idle": "2021-04-22T01:19:53.579000-07:00",
     "shell.execute_reply": "2021-04-22T01:19:53.578000-07:00"
    },
    "tags": []
   },
   "outputs": [
    {
     "name": "stdout",
     "output_type": "stream",
     "text": [
      "Jack\n",
      "Kack\n",
      "Lack\n",
      "Mack\n",
      "Ouack\n",
      "Pack\n",
      "Quack\n"
     ]
    }
   ],
   "source": [
    "prefixes = \"JKLMOPQ\"\n",
    "suffix = \"ack\"\n",
    "\n",
    "for letter in prefixes\n",
    "    if letter == 'O' || letter == 'Q'\n",
    "        println(letter * \"u\" *suffix)\n",
    "    else\n",
    "        println(letter * suffix)\n",
    "    end\n",
    "end"
   ]
  },
  {
   "cell_type": "code",
   "execution_count": 18,
   "id": "44e7ba86-a76b-4ba0-ab56-99b4817ae9ba",
   "metadata": {
    "execution": {
     "iopub.execute_input": "2021-04-22T01:19:53.581000-07:00",
     "iopub.status.busy": "2021-04-22T01:19:53.580000-07:00",
     "iopub.status.idle": "2021-04-22T01:19:53.920000-07:00",
     "shell.execute_reply": "2021-04-22T01:19:53.919000-07:00"
    },
    "tags": []
   },
   "outputs": [
    {
     "data": {
      "text/plain": [
       "false"
      ]
     },
     "execution_count": 18,
     "metadata": {},
     "output_type": "execute_result"
    }
   ],
   "source": [
    "\"i\" == 'i'"
   ]
  },
  {
   "cell_type": "code",
   "execution_count": 19,
   "id": "a6289b03-81f6-493f-8f78-919497b275c7",
   "metadata": {
    "execution": {
     "iopub.execute_input": "2021-04-22T01:19:53.922000-07:00",
     "iopub.status.busy": "2021-04-22T01:19:53.921000-07:00",
     "iopub.status.idle": "2021-04-22T01:19:53.924000-07:00",
     "shell.execute_reply": "2021-04-22T01:19:53.923000-07:00"
    },
    "tags": []
   },
   "outputs": [
    {
     "data": {
      "text/plain": [
       "true"
      ]
     },
     "execution_count": 19,
     "metadata": {},
     "output_type": "execute_result"
    }
   ],
   "source": [
    "'i' == 'i'"
   ]
  },
  {
   "cell_type": "markdown",
   "id": "f16245c8-dbc9-46bf-8f51-a392c4459e71",
   "metadata": {},
   "source": [
    "## String Slice"
   ]
  },
  {
   "cell_type": "code",
   "execution_count": 20,
   "id": "d9522258-c3e5-45c3-b033-c6a68baf4da1",
   "metadata": {
    "execution": {
     "iopub.execute_input": "2021-04-22T01:19:53.924000-07:00",
     "iopub.status.busy": "2021-04-22T01:19:53.924000-07:00",
     "iopub.status.idle": "2021-04-22T01:19:53.925000-07:00",
     "shell.execute_reply": "2021-04-22T01:19:53.925000-07:00"
    },
    "tags": []
   },
   "outputs": [],
   "source": [
    "str = \"Julius Caesar\";"
   ]
  },
  {
   "cell_type": "code",
   "execution_count": 21,
   "id": "616854cb-9a77-4ed6-a3ea-ecc1e124a711",
   "metadata": {
    "execution": {
     "iopub.execute_input": "2021-04-22T01:19:53.926000-07:00",
     "iopub.status.busy": "2021-04-22T01:19:53.925000-07:00",
     "iopub.status.idle": "2021-04-22T01:19:53.927000-07:00",
     "shell.execute_reply": "2021-04-22T01:19:53.927000-07:00"
    },
    "tags": []
   },
   "outputs": [
    {
     "data": {
      "text/plain": [
       "\"Julius\""
      ]
     },
     "execution_count": 21,
     "metadata": {},
     "output_type": "execute_result"
    }
   ],
   "source": [
    "str[1:6]"
   ]
  },
  {
   "cell_type": "code",
   "execution_count": 22,
   "id": "387acb28-4998-4685-a24c-47a3b5ce6ec1",
   "metadata": {
    "execution": {
     "iopub.execute_input": "2021-04-22T01:19:53.928000-07:00",
     "iopub.status.busy": "2021-04-22T01:19:53.928000-07:00",
     "iopub.status.idle": "2021-04-22T01:19:53.930000-07:00",
     "shell.execute_reply": "2021-04-22T01:19:53.929000-07:00"
    },
    "tags": []
   },
   "outputs": [
    {
     "data": {
      "text/plain": [
       "\"Caesar\""
      ]
     },
     "execution_count": 22,
     "metadata": {},
     "output_type": "execute_result"
    }
   ],
   "source": [
    "str[8:end]"
   ]
  },
  {
   "cell_type": "code",
   "execution_count": 23,
   "id": "bc7c570a-fba1-45eb-b2ee-6dfbcf68900a",
   "metadata": {
    "execution": {
     "iopub.execute_input": "2021-04-22T01:19:53.930000-07:00",
     "iopub.status.busy": "2021-04-22T01:19:53.930000-07:00",
     "iopub.status.idle": "2021-04-22T01:19:53.937000-07:00",
     "shell.execute_reply": "2021-04-22T01:19:53.937000-07:00"
    },
    "tags": []
   },
   "outputs": [
    {
     "data": {
      "text/plain": [
       "\"Julius Caesar\""
      ]
     },
     "execution_count": 23,
     "metadata": {},
     "output_type": "execute_result"
    }
   ],
   "source": [
    "str[:]"
   ]
  },
  {
   "cell_type": "markdown",
   "id": "b7511cd3-9fbb-44f9-860a-b9c2cdf17749",
   "metadata": {},
   "source": [
    "## Immutable"
   ]
  },
  {
   "cell_type": "code",
   "execution_count": 24,
   "id": "5ef00ea0-5dc6-457b-b3a8-1fc5db7ff710",
   "metadata": {
    "execution": {
     "iopub.execute_input": "2021-04-22T01:19:53.937000-07:00",
     "iopub.status.busy": "2021-04-22T01:19:53.937000-07:00",
     "iopub.status.idle": "2021-04-22T01:19:53.938000-07:00",
     "shell.execute_reply": "2021-04-22T01:19:53.938000-07:00"
    },
    "tags": []
   },
   "outputs": [
    {
     "data": {
      "text/plain": [
       "\"Hello, World!\""
      ]
     },
     "execution_count": 24,
     "metadata": {},
     "output_type": "execute_result"
    }
   ],
   "source": [
    "greeting = \"Hello, World!\""
   ]
  },
  {
   "cell_type": "code",
   "execution_count": 25,
   "id": "66ef1847-832b-4644-a3bf-500db52fbbf4",
   "metadata": {
    "execution": {
     "iopub.execute_input": "2021-04-22T01:19:53.938000-07:00",
     "iopub.status.busy": "2021-04-22T01:19:53.938000-07:00",
     "iopub.status.idle": "2021-04-22T01:19:54.423000-07:00",
     "shell.execute_reply": "2021-04-22T01:19:54.423000-07:00"
    },
    "tags": []
   },
   "outputs": [
    {
     "ename": "LoadError",
     "evalue": "MethodError: no method matching setindex!(::String, ::Char, ::Int64)",
     "output_type": "error",
     "traceback": [
      "MethodError: no method matching setindex!(::String, ::Char, ::Int64)",
      "",
      "Stacktrace:",
      " [1] top-level scope",
      "   @ In[25]:1",
      " [2] eval",
      "   @ ./boot.jl:360 [inlined]",
      " [3] include_string(mapexpr::typeof(REPL.softscope), mod::Module, code::String, filename::String)",
      "   @ Base ./loading.jl:1094"
     ]
    }
   ],
   "source": [
    "greeting[1] = 'J'"
   ]
  },
  {
   "cell_type": "code",
   "execution_count": 26,
   "id": "8f349b1f-4254-49b7-9708-2085a29a6bf6",
   "metadata": {
    "execution": {
     "iopub.execute_input": "2021-04-22T01:19:54.423000-07:00",
     "iopub.status.busy": "2021-04-22T01:19:54.423000-07:00",
     "iopub.status.idle": "2021-04-22T01:19:54.424000-07:00",
     "shell.execute_reply": "2021-04-22T01:19:54.424000-07:00"
    },
    "tags": []
   },
   "outputs": [
    {
     "data": {
      "text/plain": [
       "\"Jello, World!\""
      ]
     },
     "execution_count": 26,
     "metadata": {},
     "output_type": "execute_result"
    }
   ],
   "source": [
    "greeting = 'J' * greeting[2:end]"
   ]
  },
  {
   "cell_type": "markdown",
   "id": "dd51bd7d-1ea6-4793-a0fa-b2737bcd1efc",
   "metadata": {},
   "source": [
    "## String Interpolation"
   ]
  },
  {
   "cell_type": "code",
   "execution_count": 27,
   "id": "b7ec4c7e-bcf5-496b-b495-ef8d8d794062",
   "metadata": {
    "execution": {
     "iopub.execute_input": "2021-04-22T01:19:54.424000-07:00",
     "iopub.status.busy": "2021-04-22T01:19:54.424000-07:00",
     "iopub.status.idle": "2021-04-22T01:19:54.425000-07:00",
     "shell.execute_reply": "2021-04-22T01:19:54.425000-07:00"
    },
    "tags": []
   },
   "outputs": [
    {
     "data": {
      "text/plain": [
       "\"World\""
      ]
     },
     "execution_count": 27,
     "metadata": {},
     "output_type": "execute_result"
    }
   ],
   "source": [
    "greet = \"Hello\"\n",
    "whom = \"World\""
   ]
  },
  {
   "cell_type": "code",
   "execution_count": 28,
   "id": "e78a0b2b-5f90-45cc-a477-1c5f52460331",
   "metadata": {
    "execution": {
     "iopub.execute_input": "2021-04-22T01:19:54.425000-07:00",
     "iopub.status.busy": "2021-04-22T01:19:54.425000-07:00",
     "iopub.status.idle": "2021-04-22T01:19:54.426000-07:00",
     "shell.execute_reply": "2021-04-22T01:19:54.425000-07:00"
    },
    "tags": []
   },
   "outputs": [
    {
     "data": {
      "text/plain": [
       "\"Hello, World!\""
      ]
     },
     "execution_count": 28,
     "metadata": {},
     "output_type": "execute_result"
    }
   ],
   "source": [
    "\"$greet, $(whom)!\""
   ]
  },
  {
   "cell_type": "code",
   "execution_count": 29,
   "id": "e52f30bc-91e8-4311-9f30-617181b0988f",
   "metadata": {
    "execution": {
     "iopub.execute_input": "2021-04-22T01:19:54.426000-07:00",
     "iopub.status.busy": "2021-04-22T01:19:54.426000-07:00",
     "iopub.status.idle": "2021-04-22T01:19:54.439000-07:00",
     "shell.execute_reply": "2021-04-22T01:19:54.439000-07:00"
    },
    "tags": []
   },
   "outputs": [
    {
     "data": {
      "text/plain": [
       "\"sqrt(2) = 1.4142135623730951\""
      ]
     },
     "execution_count": 29,
     "metadata": {},
     "output_type": "execute_result"
    }
   ],
   "source": [
    "\"sqrt(2) = $(sqrt(2))\""
   ]
  },
  {
   "cell_type": "markdown",
   "id": "ebf624d7-d4de-4a5f-a4a6-a5ddd370a716",
   "metadata": {},
   "source": [
    "## Searching"
   ]
  },
  {
   "cell_type": "code",
   "execution_count": 30,
   "id": "3fcb5cb3-ab42-4cce-b2e4-e63215536d48",
   "metadata": {
    "execution": {
     "iopub.execute_input": "2021-04-22T01:19:54.440000-07:00",
     "iopub.status.busy": "2021-04-22T01:19:54.440000-07:00",
     "iopub.status.idle": "2021-04-22T01:19:54.557000-07:00",
     "shell.execute_reply": "2021-04-22T01:19:54.557000-07:00"
    },
    "tags": []
   },
   "outputs": [
    {
     "data": {
      "text/plain": [
       "find (generic function with 1 method)"
      ]
     },
     "execution_count": 30,
     "metadata": {},
     "output_type": "execute_result"
    }
   ],
   "source": [
    "function indself(array,n)\n",
    "    if n == 1\n",
    "        return 1\n",
    "    else\n",
    "        return nextind(array,indself(array,n-1))\n",
    "    end\n",
    "end\n",
    "\n",
    "function find(word, letter,start)\n",
    "    index = indself(word,start)\n",
    "    while index <= sizeof(word)\n",
    "        if word[index] == letter\n",
    "            return index\n",
    "        end\n",
    "        index = nextind(word,index)\n",
    "    end\n",
    "    -1\n",
    "end\n",
    "            "
   ]
  },
  {
   "cell_type": "code",
   "execution_count": 31,
   "id": "b73e2104-6924-4073-a0be-0380c010c121",
   "metadata": {
    "execution": {
     "iopub.execute_input": "2021-04-22T01:19:54.558000-07:00",
     "iopub.status.busy": "2021-04-22T01:19:54.558000-07:00",
     "iopub.status.idle": "2021-04-22T01:19:54.597000-07:00",
     "shell.execute_reply": "2021-04-22T01:19:54.597000-07:00"
    },
    "tags": []
   },
   "outputs": [
    {
     "data": {
      "text/plain": [
       "5"
      ]
     },
     "execution_count": 31,
     "metadata": {},
     "output_type": "execute_result"
    }
   ],
   "source": [
    "find(\"🍌🍐 🍎 🍐\",'🍐',2)"
   ]
  },
  {
   "cell_type": "markdown",
   "id": "69c22177-1f6e-4556-881b-1666cf4728ab",
   "metadata": {},
   "source": [
    "## Looping and Counting"
   ]
  },
  {
   "cell_type": "code",
   "execution_count": 32,
   "id": "9bde9c7b-59a6-461d-99ff-b0145a218504",
   "metadata": {
    "execution": {
     "iopub.execute_input": "2021-04-22T01:19:54.600000-07:00",
     "iopub.status.busy": "2021-04-22T01:19:54.599000-07:00",
     "iopub.status.idle": "2021-04-22T01:19:54.646000-07:00",
     "shell.execute_reply": "2021-04-22T01:19:54.645000-07:00"
    },
    "tags": []
   },
   "outputs": [
    {
     "name": "stdout",
     "output_type": "stream",
     "text": [
      "3\n"
     ]
    }
   ],
   "source": [
    "word = \"banana\"\n",
    "counter = 0\n",
    "for letter in word\n",
    "    if letter == 'a'\n",
    "        global counter += 1\n",
    "    end\n",
    "end\n",
    "println(counter)"
   ]
  },
  {
   "cell_type": "code",
   "execution_count": 33,
   "id": "85026852-f8c9-4305-ba03-e9b214c1cd25",
   "metadata": {
    "execution": {
     "iopub.execute_input": "2021-04-22T01:19:54.648000-07:00",
     "iopub.status.busy": "2021-04-22T01:19:54.647000-07:00",
     "iopub.status.idle": "2021-04-22T01:19:54.765000-07:00",
     "shell.execute_reply": "2021-04-22T01:19:54.765000-07:00"
    },
    "tags": []
   },
   "outputs": [
    {
     "data": {
      "text/plain": [
       "countself (generic function with 1 method)"
      ]
     },
     "execution_count": 33,
     "metadata": {},
     "output_type": "execute_result"
    }
   ],
   "source": [
    "function countself(word, str)\n",
    "    counter = 0\n",
    "    for letter in word\n",
    "        if letter == str\n",
    "            counter += 1\n",
    "        end\n",
    "    end\n",
    "    return counter\n",
    "end\n",
    "            "
   ]
  },
  {
   "cell_type": "code",
   "execution_count": 34,
   "id": "3fd1058b-aea5-4d0f-81be-5d80e84284d5",
   "metadata": {
    "execution": {
     "iopub.execute_input": "2021-04-22T01:19:54.769000-07:00",
     "iopub.status.busy": "2021-04-22T01:19:54.769000-07:00",
     "iopub.status.idle": "2021-04-22T01:19:54.788000-07:00",
     "shell.execute_reply": "2021-04-22T01:19:54.788000-07:00"
    },
    "tags": []
   },
   "outputs": [
    {
     "data": {
      "text/plain": [
       "2"
      ]
     },
     "execution_count": 34,
     "metadata": {},
     "output_type": "execute_result"
    }
   ],
   "source": [
    "countself(\"banana\",'n')"
   ]
  },
  {
   "cell_type": "markdown",
   "id": "f7b4a030-733a-4c32-a85a-d10abd69ef4a",
   "metadata": {},
   "source": [
    "## String Library"
   ]
  },
  {
   "cell_type": "code",
   "execution_count": 35,
   "id": "288adac8-42b4-4c63-836e-bab3a6d0a005",
   "metadata": {
    "execution": {
     "iopub.execute_input": "2021-04-22T01:19:54.790000-07:00",
     "iopub.status.busy": "2021-04-22T01:19:54.790000-07:00",
     "iopub.status.idle": "2021-04-22T01:19:54.798000-07:00",
     "shell.execute_reply": "2021-04-22T01:19:54.798000-07:00"
    },
    "tags": []
   },
   "outputs": [
    {
     "data": {
      "text/plain": [
       "\"HELLO, WORLD!\""
      ]
     },
     "execution_count": 35,
     "metadata": {},
     "output_type": "execute_result"
    }
   ],
   "source": [
    "uppercase(\"hello, world!\")"
   ]
  },
  {
   "cell_type": "code",
   "execution_count": 36,
   "id": "abaa090d-d4d6-48ef-b542-bea926ce3588",
   "metadata": {
    "execution": {
     "iopub.execute_input": "2021-04-22T01:19:54.800000-07:00",
     "iopub.status.busy": "2021-04-22T01:19:54.799000-07:00",
     "iopub.status.idle": "2021-04-22T01:19:55.115000-07:00",
     "shell.execute_reply": "2021-04-22T01:19:55.115000-07:00"
    },
    "tags": []
   },
   "outputs": [
    {
     "data": {
      "text/plain": [
       "3:3"
      ]
     },
     "execution_count": 36,
     "metadata": {},
     "output_type": "execute_result"
    }
   ],
   "source": [
    "findfirst(\"a\", \"Bnanana\")"
   ]
  },
  {
   "cell_type": "code",
   "execution_count": 37,
   "id": "4209a597-9444-4db2-ad81-c692842065f7",
   "metadata": {
    "execution": {
     "iopub.execute_input": "2021-04-22T01:19:55.118000-07:00",
     "iopub.status.busy": "2021-04-22T01:19:55.117000-07:00",
     "iopub.status.idle": "2021-04-22T01:19:55.120000-07:00",
     "shell.execute_reply": "2021-04-22T01:19:55.119000-07:00"
    },
    "tags": []
   },
   "outputs": [
    {
     "data": {
      "text/plain": [
       "2:3"
      ]
     },
     "execution_count": 37,
     "metadata": {},
     "output_type": "execute_result"
    }
   ],
   "source": [
    "findfirst(\"an\",\"Banana\")"
   ]
  },
  {
   "cell_type": "code",
   "execution_count": 38,
   "id": "4a3601cb-b716-495f-82ca-a2f7d27f0127",
   "metadata": {
    "execution": {
     "iopub.execute_input": "2021-04-22T01:19:55.120000-07:00",
     "iopub.status.busy": "2021-04-22T01:19:55.120000-07:00",
     "iopub.status.idle": "2021-04-22T01:19:55.137000-07:00",
     "shell.execute_reply": "2021-04-22T01:19:55.136000-07:00"
    },
    "tags": []
   },
   "outputs": [
    {
     "data": {
      "text/plain": [
       "5:6"
      ]
     },
     "execution_count": 38,
     "metadata": {},
     "output_type": "execute_result"
    }
   ],
   "source": [
    "findnext(\"na\",\"Banana\",4)"
   ]
  },
  {
   "cell_type": "code",
   "execution_count": 39,
   "id": "2ad58cec-9bec-4446-a68b-ebffa8725969",
   "metadata": {
    "execution": {
     "iopub.execute_input": "2021-04-22T01:19:55.138000-07:00",
     "iopub.status.busy": "2021-04-22T01:19:55.138000-07:00",
     "iopub.status.idle": "2021-04-22T01:19:56.437000-07:00",
     "shell.execute_reply": "2021-04-22T01:19:56.437000-07:00"
    },
    "tags": []
   },
   "outputs": [
    {
     "data": {
      "text/plain": [
       "2-element Vector{UnitRange{Int64}}:\n",
       " 3:4\n",
       " 5:6"
      ]
     },
     "execution_count": 39,
     "metadata": {},
     "output_type": "execute_result"
    }
   ],
   "source": [
    "st = \"Banana\"\n",
    "findall(\"na\",st)"
   ]
  },
  {
   "cell_type": "markdown",
   "id": "b93bc0f8-c461-43dd-a38c-ffa693d9b853",
   "metadata": {},
   "source": [
    "## The $\\in$ Operator"
   ]
  },
  {
   "cell_type": "code",
   "execution_count": 40,
   "id": "8774c724-e751-4678-a354-093e459a1726",
   "metadata": {
    "execution": {
     "iopub.execute_input": "2021-04-22T01:19:56.437000-07:00",
     "iopub.status.busy": "2021-04-22T01:19:56.437000-07:00",
     "iopub.status.idle": "2021-04-22T01:19:56.442000-07:00",
     "shell.execute_reply": "2021-04-22T01:19:56.442000-07:00"
    },
    "tags": []
   },
   "outputs": [
    {
     "data": {
      "text/plain": [
       "true"
      ]
     },
     "execution_count": 40,
     "metadata": {},
     "output_type": "execute_result"
    }
   ],
   "source": [
    "'a' ∈ \"banana\""
   ]
  },
  {
   "cell_type": "code",
   "execution_count": 41,
   "id": "a16691bf-897c-4c41-8f08-7f380e006f2d",
   "metadata": {
    "execution": {
     "iopub.execute_input": "2021-04-22T01:19:56.442000-07:00",
     "iopub.status.busy": "2021-04-22T01:19:56.442000-07:00",
     "iopub.status.idle": "2021-04-22T01:19:56.443000-07:00",
     "shell.execute_reply": "2021-04-22T01:19:56.443000-07:00"
    },
    "tags": []
   },
   "outputs": [
    {
     "data": {
      "text/plain": [
       "true"
      ]
     },
     "execution_count": 41,
     "metadata": {},
     "output_type": "execute_result"
    }
   ],
   "source": [
    "'a' in \"banana\""
   ]
  },
  {
   "cell_type": "code",
   "execution_count": 42,
   "id": "352e8fc2-d450-4ad9-adb2-d6d4c88b956b",
   "metadata": {
    "execution": {
     "iopub.execute_input": "2021-04-22T01:19:56.443000-07:00",
     "iopub.status.busy": "2021-04-22T01:19:56.443000-07:00",
     "iopub.status.idle": "2021-04-22T01:19:56.577000-07:00",
     "shell.execute_reply": "2021-04-22T01:19:56.576000-07:00"
    },
    "tags": []
   },
   "outputs": [
    {
     "data": {
      "text/plain": [
       "inboth (generic function with 1 method)"
      ]
     },
     "execution_count": 42,
     "metadata": {},
     "output_type": "execute_result"
    }
   ],
   "source": [
    "function inboth(word1, word2)\n",
    "    for letter in word1\n",
    "        if letter ∈ word2\n",
    "            println(letter)\n",
    "        end\n",
    "    end\n",
    "end"
   ]
  },
  {
   "cell_type": "code",
   "execution_count": 43,
   "id": "9d03d3b3-1400-4d46-ad08-f74d4c9188fe",
   "metadata": {
    "execution": {
     "iopub.execute_input": "2021-04-22T01:19:56.579000-07:00",
     "iopub.status.busy": "2021-04-22T01:19:56.579000-07:00",
     "iopub.status.idle": "2021-04-22T01:19:56.602000-07:00",
     "shell.execute_reply": "2021-04-22T01:19:56.601000-07:00"
    },
    "tags": []
   },
   "outputs": [
    {
     "name": "stdout",
     "output_type": "stream",
     "text": [
      "a\n",
      "e\n"
     ]
    }
   ],
   "source": [
    "inboth(\"apple\",\"oranges\")"
   ]
  },
  {
   "cell_type": "markdown",
   "id": "74d3d24f-159d-490e-8421-d6c0ee5473aa",
   "metadata": {},
   "source": [
    "## String Comparison"
   ]
  },
  {
   "cell_type": "code",
   "execution_count": 44,
   "id": "41f557ef-178b-410d-9a09-50c946c2adf0",
   "metadata": {
    "execution": {
     "iopub.execute_input": "2021-04-22T01:19:56.604000-07:00",
     "iopub.status.busy": "2021-04-22T01:19:56.603000-07:00",
     "iopub.status.idle": "2021-04-22T01:19:56.607000-07:00",
     "shell.execute_reply": "2021-04-22T01:19:56.604000-07:00"
    },
    "tags": []
   },
   "outputs": [],
   "source": [
    "word = \"Pineapple\"\n",
    "if word == \"banana\"\n",
    "    println(\"All right, bananas,\")\n",
    "end"
   ]
  },
  {
   "cell_type": "markdown",
   "id": "d3719479-db67-4a95-87c7-1cfaaf95ea20",
   "metadata": {},
   "source": [
    "* Compare the ASCII\n",
    "    * Uppercase < Lowercase"
   ]
  },
  {
   "cell_type": "code",
   "execution_count": 45,
   "id": "d5abef41-33cb-4edc-b3b9-dc3f84c0a3ff",
   "metadata": {
    "execution": {
     "iopub.execute_input": "2021-04-22T01:19:56.607000-07:00",
     "iopub.status.busy": "2021-04-22T01:19:56.607000-07:00",
     "iopub.status.idle": "2021-04-22T01:19:56.619000-07:00",
     "shell.execute_reply": "2021-04-22T01:19:56.619000-07:00"
    },
    "tags": []
   },
   "outputs": [
    {
     "name": "stdout",
     "output_type": "stream",
     "text": [
      "Your word, Pineapple, comes before banana.\n"
     ]
    }
   ],
   "source": [
    "if word < \"banana\"\n",
    "    println(\"Your word, $word, comes before banana.\")\n",
    "elseif word > \"banana\"\n",
    "    println(\"Your word, $word, comes after banana.\")\n",
    "else\n",
    "    println(\"All right, bananas.\")\n",
    "end"
   ]
  },
  {
   "cell_type": "code",
   "execution_count": 46,
   "id": "346a6508-b21e-41fa-b666-f851fc2fa57c",
   "metadata": {
    "execution": {
     "iopub.execute_input": "2021-04-22T01:19:56.621000-07:00",
     "iopub.status.busy": "2021-04-22T01:19:56.621000-07:00",
     "iopub.status.idle": "2021-04-22T01:19:56.623000-07:00",
     "shell.execute_reply": "2021-04-22T01:19:56.623000-07:00"
    },
    "tags": []
   },
   "outputs": [
    {
     "data": {
      "text/plain": [
       "false"
      ]
     },
     "execution_count": 46,
     "metadata": {},
     "output_type": "execute_result"
    }
   ],
   "source": [
    "\"pineapple\" < \"banana\""
   ]
  },
  {
   "cell_type": "code",
   "execution_count": 47,
   "id": "eb9de9ea-c536-43c2-9736-7232478107fa",
   "metadata": {
    "execution": {
     "iopub.execute_input": "2021-04-22T01:19:56.624000-07:00",
     "iopub.status.busy": "2021-04-22T01:19:56.623000-07:00",
     "iopub.status.idle": "2021-04-22T01:19:56.624000-07:00",
     "shell.execute_reply": "2021-04-22T01:19:56.624000-07:00"
    },
    "tags": []
   },
   "outputs": [
    {
     "data": {
      "text/plain": [
       "true"
      ]
     },
     "execution_count": 47,
     "metadata": {},
     "output_type": "execute_result"
    }
   ],
   "source": [
    "\"Pineapple\" < \"banana\""
   ]
  },
  {
   "cell_type": "markdown",
   "id": "85ec5bce-a991-4930-8679-14fa0fa1fc30",
   "metadata": {},
   "source": [
    "## Debuggin"
   ]
  },
  {
   "cell_type": "code",
   "execution_count": 48,
   "id": "7ccf1405-7118-4607-ba4d-2ab16854ee03",
   "metadata": {
    "execution": {
     "iopub.execute_input": "2021-04-22T01:19:56.631000-07:00",
     "iopub.status.busy": "2021-04-22T01:19:56.624000-07:00",
     "iopub.status.idle": "2021-04-22T01:19:56.788000-07:00",
     "shell.execute_reply": "2021-04-22T01:19:56.788000-07:00"
    },
    "tags": []
   },
   "outputs": [
    {
     "data": {
      "text/plain": [
       "isreverse (generic function with 1 method)"
      ]
     },
     "execution_count": 48,
     "metadata": {},
     "output_type": "execute_result"
    }
   ],
   "source": [
    "function isreverse(word1,word2)\n",
    "    if length(word1) != length(word2)\n",
    "        return false\n",
    "    end\n",
    "    \n",
    "    i = firstindex(word1)\n",
    "    j = lastindex(word2)\n",
    "    \n",
    "#     @show i j\n",
    "    while j >= 0 && i<=sizeof(word1)\n",
    "        \n",
    "        @show i j\n",
    "        if word1[i] !=word2[j]\n",
    "            \n",
    "            @show i j\n",
    "            return false\n",
    "        end\n",
    "        i = nextind(word1,i)\n",
    "        j = prevind(word2,j)\n",
    "    end\n",
    "    true\n",
    "end"
   ]
  },
  {
   "cell_type": "code",
   "execution_count": 49,
   "id": "a79972e1-e23f-4029-9e71-604969ee0bf8",
   "metadata": {
    "execution": {
     "iopub.execute_input": "2021-04-22T01:19:56.790000-07:00",
     "iopub.status.busy": "2021-04-22T01:19:56.790000-07:00",
     "iopub.status.idle": "2021-04-22T01:19:56.794000-07:00",
     "shell.execute_reply": "2021-04-22T01:19:56.794000-07:00"
    },
    "tags": []
   },
   "outputs": [
    {
     "data": {
      "text/plain": [
       "'t': ASCII/Unicode U+0074 (category Ll: Letter, lowercase)"
      ]
     },
     "execution_count": 49,
     "metadata": {},
     "output_type": "execute_result"
    }
   ],
   "source": [
    "\"stop\"[2]"
   ]
  },
  {
   "cell_type": "code",
   "execution_count": 50,
   "id": "34a4eb6d-2326-4ddc-b711-67125f3897bb",
   "metadata": {
    "execution": {
     "iopub.execute_input": "2021-04-22T01:19:56.794000-07:00",
     "iopub.status.busy": "2021-04-22T01:19:56.794000-07:00",
     "iopub.status.idle": "2021-04-22T01:19:56.795000-07:00",
     "shell.execute_reply": "2021-04-22T01:19:56.795000-07:00"
    },
    "tags": []
   },
   "outputs": [
    {
     "data": {
      "text/plain": [
       "'t': ASCII/Unicode U+0074 (category Ll: Letter, lowercase)"
      ]
     },
     "execution_count": 50,
     "metadata": {},
     "output_type": "execute_result"
    }
   ],
   "source": [
    "\"pots\"[3]"
   ]
  },
  {
   "cell_type": "code",
   "execution_count": 51,
   "id": "3a2e1e55-1353-407c-b47b-5b44163431fe",
   "metadata": {
    "execution": {
     "iopub.execute_input": "2021-04-22T01:19:56.795000-07:00",
     "iopub.status.busy": "2021-04-22T01:19:56.795000-07:00",
     "iopub.status.idle": "2021-04-22T01:19:56.867000-07:00",
     "shell.execute_reply": "2021-04-22T01:19:56.867000-07:00"
    },
    "tags": []
   },
   "outputs": [
    {
     "name": "stdout",
     "output_type": "stream",
     "text": [
      "i = 1\n",
      "j = 4\n",
      "i = 2\n",
      "j = 3\n",
      "i = 3\n",
      "j = 2\n",
      "i = 4\n",
      "j = 1\n"
     ]
    },
    {
     "data": {
      "text/plain": [
       "true"
      ]
     },
     "execution_count": 51,
     "metadata": {},
     "output_type": "execute_result"
    }
   ],
   "source": [
    "isreverse(\"stop\",\"pots\")"
   ]
  },
  {
   "cell_type": "markdown",
   "id": "8892a9e5-dfa9-42fb-92ac-088b3bf58f4d",
   "metadata": {},
   "source": [
    "## Reverse String"
   ]
  },
  {
   "cell_type": "code",
   "execution_count": 52,
   "id": "99690ccc-e256-4ad0-b02c-682e831fb8c3",
   "metadata": {
    "execution": {
     "iopub.execute_input": "2021-04-22T01:19:56.870000-07:00",
     "iopub.status.busy": "2021-04-22T01:19:56.868000-07:00",
     "iopub.status.idle": "2021-04-22T01:19:56.870000-07:00",
     "shell.execute_reply": "2021-04-22T01:19:56.870000-07:00"
    },
    "tags": []
   },
   "outputs": [
    {
     "data": {
      "text/plain": [
       "\"apple\""
      ]
     },
     "execution_count": 52,
     "metadata": {},
     "output_type": "execute_result"
    }
   ],
   "source": [
    "fruit = \"apple\""
   ]
  },
  {
   "cell_type": "code",
   "execution_count": 53,
   "id": "014b77a3-b087-42d2-9175-2790750dfcfb",
   "metadata": {
    "execution": {
     "iopub.execute_input": "2021-04-22T01:19:56.871000-07:00",
     "iopub.status.busy": "2021-04-22T01:19:56.871000-07:00",
     "iopub.status.idle": "2021-04-22T01:19:56.903000-07:00",
     "shell.execute_reply": "2021-04-22T01:19:56.903000-07:00"
    },
    "tags": []
   },
   "outputs": [
    {
     "data": {
      "text/plain": [
       "\"elppa\""
      ]
     },
     "execution_count": 53,
     "metadata": {},
     "output_type": "execute_result"
    }
   ],
   "source": [
    "fruit[end:-1:1]"
   ]
  },
  {
   "cell_type": "code",
   "execution_count": 54,
   "id": "6bfc88af-b1b5-4a46-aeef-f92f1b698039",
   "metadata": {
    "execution": {
     "iopub.execute_input": "2021-04-22T01:19:56.905000-07:00",
     "iopub.status.busy": "2021-04-22T01:19:56.904000-07:00",
     "iopub.status.idle": "2021-04-22T01:19:57.106000-07:00",
     "shell.execute_reply": "2021-04-22T01:19:57.105000-07:00"
    },
    "tags": []
   },
   "outputs": [
    {
     "ename": "LoadError",
     "evalue": "StringIndexError: invalid index [9], valid nearby indices [6]=>'🍎', [10]=>' '",
     "output_type": "error",
     "traceback": [
      "StringIndexError: invalid index [9], valid nearby indices [6]=>'🍎', [10]=>' '",
      "",
      "Stacktrace:",
      " [1] string_index_err(s::String, i::Int64)",
      "   @ Base ./strings/string.jl:12",
      " [2] getindex_continued(s::String, i::Int64, u::UInt32)",
      "   @ Base ./strings/string.jl:233",
      " [3] getindex",
      "   @ ./strings/string.jl:226 [inlined]",
      " [4] (::Base.var\"#307#308\"{String, StepRange{Int64, Int64}})(io::IOBuffer)",
      "   @ Base ./strings/basic.jl:193",
      " [5] sprint(::Function; context::Nothing, sizehint::Int64)",
      "   @ Base ./strings/io.jl:105",
      " [6] getindex(s::String, v::StepRange{Int64, Int64})",
      "   @ Base ./strings/basic.jl:192",
      " [7] top-level scope",
      "   @ In[54]:1",
      " [8] eval",
      "   @ ./boot.jl:360 [inlined]",
      " [9] include_string(mapexpr::typeof(REPL.softscope), mod::Module, code::String, filename::String)",
      "   @ Base ./loading.jl:1094"
     ]
    }
   ],
   "source": [
    "fruits[end:-1:1]"
   ]
  },
  {
   "cell_type": "code",
   "execution_count": 55,
   "id": "c22762c4-b519-46c9-86a7-bdc382d4b79e",
   "metadata": {
    "execution": {
     "iopub.execute_input": "2021-04-22T01:20:43.646000-07:00",
     "iopub.status.busy": "2021-04-22T01:20:43.646000-07:00",
     "iopub.status.idle": "2021-04-22T01:20:43.647000-07:00",
     "shell.execute_reply": "2021-04-22T01:20:43.647000-07:00"
    },
    "tags": []
   },
   "outputs": [
    {
     "data": {
      "text/plain": [
       "\"🍐 🍎 🍌\""
      ]
     },
     "execution_count": 55,
     "metadata": {},
     "output_type": "execute_result"
    }
   ],
   "source": [
    "reverse(fruits)"
   ]
  }
 ],
 "metadata": {
  "kernelspec": {
   "display_name": "Julia 1.6.0",
   "language": "julia",
   "name": "julia-1.6"
  },
  "language_info": {
   "file_extension": ".jl",
   "mimetype": "application/julia",
   "name": "julia",
   "version": "1.6.0"
  }
 },
 "nbformat": 4,
 "nbformat_minor": 5
}
