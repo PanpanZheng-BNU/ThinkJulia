{
 "cells": [
  {
   "cell_type": "markdown",
   "id": "a82e0603-295a-41bc-bded-61ff5162b382",
   "metadata": {},
   "source": [
    "# Strings"
   ]
  },
  {
   "cell_type": "code",
   "execution_count": 1,
   "id": "e2197055-c165-46c3-a76c-b0f3d18d1e29",
   "metadata": {
    "execution": {
     "iopub.execute_input": "2021-04-21T23:07:59.648000-07:00",
     "iopub.status.busy": "2021-04-21T23:07:58.931000-07:00",
     "iopub.status.idle": "2021-04-21T23:08:00.638000-07:00",
     "shell.execute_reply": "2021-04-21T23:08:00.608000-07:00"
    },
    "tags": []
   },
   "outputs": [
    {
     "data": {
      "text/plain": [
       "'x': ASCII/Unicode U+0078 (category Ll: Letter, lowercase)"
      ]
     },
     "execution_count": 1,
     "metadata": {},
     "output_type": "execute_result"
    }
   ],
   "source": [
    "'x'"
   ]
  },
  {
   "cell_type": "code",
   "execution_count": 1,
   "id": "ffa23bec-4824-4fce-9b18-bd2a7dc274d4",
   "metadata": {
    "execution": {
     "iopub.execute_input": "2021-04-21T23:09:34.348000-07:00",
     "iopub.status.busy": "2021-04-21T23:09:32.509000-07:00",
     "iopub.status.idle": "2021-04-21T23:09:37.040000-07:00",
     "shell.execute_reply": "2021-04-21T23:09:36.949000-07:00"
    },
    "tags": []
   },
   "outputs": [
    {
     "data": {
      "text/plain": [
       "'🍌': Unicode U+1F34C (category So: Symbol, other)"
      ]
     },
     "execution_count": 1,
     "metadata": {},
     "output_type": "execute_result"
    }
   ],
   "source": [
    "'🍌'"
   ]
  },
  {
   "cell_type": "code",
   "execution_count": 3,
   "id": "ad32f40d-41d2-422d-8af1-cfc28e836993",
   "metadata": {
    "execution": {
     "iopub.execute_input": "2021-04-21T23:10:40.146000-07:00",
     "iopub.status.busy": "2021-04-21T23:10:40.146000-07:00",
     "iopub.status.idle": "2021-04-21T23:10:40.497000-07:00",
     "shell.execute_reply": "2021-04-21T23:10:40.497000-07:00"
    },
    "tags": []
   },
   "outputs": [
    {
     "data": {
      "text/plain": [
       "\"banana\""
      ]
     },
     "execution_count": 3,
     "metadata": {},
     "output_type": "execute_result"
    }
   ],
   "source": [
    "fruit = \"banana\""
   ]
  },
  {
   "cell_type": "code",
   "execution_count": 5,
   "id": "7c605c79-f9cc-4156-963b-713f677f9bab",
   "metadata": {
    "execution": {
     "iopub.execute_input": "2021-04-21T23:11:11.138000-07:00",
     "iopub.status.busy": "2021-04-21T23:11:11.138000-07:00",
     "iopub.status.idle": "2021-04-21T23:11:11.139000-07:00",
     "shell.execute_reply": "2021-04-21T23:11:11.139000-07:00"
    },
    "tags": []
   },
   "outputs": [
    {
     "data": {
      "text/plain": [
       "'b': ASCII/Unicode U+0062 (category Ll: Letter, lowercase)"
      ]
     },
     "execution_count": 5,
     "metadata": {},
     "output_type": "execute_result"
    }
   ],
   "source": [
    "letter = fruit[1]"
   ]
  },
  {
   "cell_type": "code",
   "execution_count": 9,
   "id": "80ee624c-a7f9-4516-8d1e-048e4906d335",
   "metadata": {
    "execution": {
     "iopub.execute_input": "2021-04-21T23:11:45.801000-07:00",
     "iopub.status.busy": "2021-04-21T23:11:45.801000-07:00",
     "iopub.status.idle": "2021-04-21T23:11:45.802000-07:00",
     "shell.execute_reply": "2021-04-21T23:11:45.802000-07:00"
    },
    "tags": []
   },
   "outputs": [
    {
     "data": {
      "text/plain": [
       "'a': ASCII/Unicode U+0061 (category Ll: Letter, lowercase)"
      ]
     },
     "execution_count": 9,
     "metadata": {},
     "output_type": "execute_result"
    }
   ],
   "source": [
    "fruit[end]"
   ]
  },
  {
   "cell_type": "code",
   "execution_count": 16,
   "id": "bb61eb86-dc41-4fe3-8be5-672368f8c7f2",
   "metadata": {
    "execution": {
     "iopub.execute_input": "2021-04-21T23:15:01.562000-07:00",
     "iopub.status.busy": "2021-04-21T23:15:01.562000-07:00",
     "iopub.status.idle": "2021-04-21T23:15:01.563000-07:00",
     "shell.execute_reply": "2021-04-21T23:15:01.563000-07:00"
    },
    "tags": []
   },
   "outputs": [
    {
     "data": {
      "text/plain": [
       "\"🍌 🍎 🍐\""
      ]
     },
     "execution_count": 16,
     "metadata": {},
     "output_type": "execute_result"
    }
   ],
   "source": [
    "fruits = \"🍌 🍎 🍐\""
   ]
  },
  {
   "cell_type": "code",
   "execution_count": 17,
   "id": "216bfbfc-ddda-4735-b0f3-49de2834537c",
   "metadata": {
    "execution": {
     "iopub.execute_input": "2021-04-21T23:15:02.762000-07:00",
     "iopub.status.busy": "2021-04-21T23:15:02.762000-07:00",
     "iopub.status.idle": "2021-04-21T23:15:02.764000-07:00",
     "shell.execute_reply": "2021-04-21T23:15:02.763000-07:00"
    },
    "tags": []
   },
   "outputs": [
    {
     "data": {
      "text/plain": [
       "5"
      ]
     },
     "execution_count": 17,
     "metadata": {},
     "output_type": "execute_result"
    }
   ],
   "source": [
    "len = length(fruits)"
   ]
  },
  {
   "cell_type": "code",
   "execution_count": 19,
   "id": "0d828b32-4990-445a-a7f2-7e5e6fb827ac",
   "metadata": {
    "execution": {
     "iopub.execute_input": "2021-04-21T23:15:42.841000-07:00",
     "iopub.status.busy": "2021-04-21T23:15:42.841000-07:00",
     "iopub.status.idle": "2021-04-21T23:15:42.872000-07:00",
     "shell.execute_reply": "2021-04-21T23:15:42.871000-07:00"
    },
    "tags": []
   },
   "outputs": [
    {
     "data": {
      "text/plain": [
       "4"
      ]
     },
     "execution_count": 19,
     "metadata": {},
     "output_type": "execute_result"
    }
   ],
   "source": [
    "sizeof(\"🍌\")"
   ]
  },
  {
   "cell_type": "code",
   "execution_count": 18,
   "id": "0dfbe756-fc3e-4b5d-9631-3a3453cb4c2f",
   "metadata": {
    "execution": {
     "iopub.execute_input": "2021-04-21T23:15:03.632000-07:00",
     "iopub.status.busy": "2021-04-21T23:15:03.632000-07:00",
     "iopub.status.idle": "2021-04-21T23:15:03.633000-07:00",
     "shell.execute_reply": "2021-04-21T23:15:03.633000-07:00"
    },
    "tags": []
   },
   "outputs": [
    {
     "data": {
      "text/plain": [
       "' ': ASCII/Unicode U+0020 (category Zs: Separator, space)"
      ]
     },
     "execution_count": 18,
     "metadata": {},
     "output_type": "execute_result"
    }
   ],
   "source": [
    "fruits[len]"
   ]
  },
  {
   "cell_type": "code",
   "execution_count": 61,
   "id": "21c46fc6-5ed8-4a24-86ec-fa6e965d818e",
   "metadata": {
    "execution": {
     "iopub.execute_input": "2021-04-21T23:30:21.476000-07:00",
     "iopub.status.busy": "2021-04-21T23:30:21.476000-07:00",
     "iopub.status.idle": "2021-04-21T23:30:21.498000-07:00",
     "shell.execute_reply": "2021-04-21T23:30:21.497000-07:00"
    },
    "tags": []
   },
   "outputs": [
    {
     "name": "stdout",
     "output_type": "stream",
     "text": [
      "🍌\n",
      " \n",
      "🍎\n",
      " \n",
      "🍐\n"
     ]
    }
   ],
   "source": [
    "function indself(array,n)\n",
    "    if n == 1\n",
    "        return 1\n",
    "    else\n",
    "        return nextind(array,indself(array,n-1))\n",
    "    end\n",
    "end\n",
    "\n",
    "for i in 1:length(fruits)\n",
    "    println(fruits[indself(fruits,i)])\n",
    "end"
   ]
  },
  {
   "cell_type": "code",
   "execution_count": 45,
   "id": "9d90bf28-11d7-4112-8fc1-4ce877bcaddf",
   "metadata": {
    "execution": {
     "iopub.execute_input": "2021-04-21T23:26:48.511000-07:00",
     "iopub.status.busy": "2021-04-21T23:26:48.511000-07:00",
     "iopub.status.idle": "2021-04-21T23:26:48.570000-07:00",
     "shell.execute_reply": "2021-04-21T23:26:48.569000-07:00"
    },
    "tags": []
   },
   "outputs": [
    {
     "data": {
      "text/plain": [
       "3-element Vector{Int64}:\n",
       " 5\n",
       " 5\n",
       " 5"
      ]
     },
     "execution_count": 45,
     "metadata": {},
     "output_type": "execute_result"
    }
   ],
   "source": [
    "[x = nextind(fruits,x) for x in 1:3]"
   ]
  },
  {
   "cell_type": "code",
   "execution_count": 51,
   "id": "7086139f-0ae7-4074-9414-2812ad0398ce",
   "metadata": {
    "execution": {
     "iopub.execute_input": "2021-04-21T23:29:12.023000-07:00",
     "iopub.status.busy": "2021-04-21T23:29:12.022000-07:00",
     "iopub.status.idle": "2021-04-21T23:29:12.024000-07:00",
     "shell.execute_reply": "2021-04-21T23:29:12.024000-07:00"
    },
    "tags": []
   },
   "outputs": [
    {
     "data": {
      "text/plain": [
       "indself (generic function with 1 method)"
      ]
     },
     "execution_count": 51,
     "metadata": {},
     "output_type": "execute_result"
    }
   ],
   "source": []
  },
  {
   "cell_type": "code",
   "execution_count": 57,
   "id": "e44b1fb5-90f6-4918-979d-559ea70d89bf",
   "metadata": {
    "execution": {
     "iopub.execute_input": "2021-04-21T23:29:25.102000-07:00",
     "iopub.status.busy": "2021-04-21T23:29:25.102000-07:00",
     "iopub.status.idle": "2021-04-21T23:29:25.103000-07:00",
     "shell.execute_reply": "2021-04-21T23:29:25.103000-07:00"
    },
    "tags": []
   },
   "outputs": [
    {
     "data": {
      "text/plain": [
       "11"
      ]
     },
     "execution_count": 57,
     "metadata": {},
     "output_type": "execute_result"
    }
   ],
   "source": [
    "indself(fruits,5)"
   ]
  },
  {
   "cell_type": "code",
   "execution_count": 36,
   "id": "5698301f-ee57-498d-87e4-4325e224a1b4",
   "metadata": {
    "execution": {
     "iopub.execute_input": "2021-04-21T23:21:42.745000-07:00",
     "iopub.status.busy": "2021-04-21T23:21:42.745000-07:00",
     "iopub.status.idle": "2021-04-21T23:21:42.746000-07:00",
     "shell.execute_reply": "2021-04-21T23:21:42.746000-07:00"
    },
    "tags": []
   },
   "outputs": [
    {
     "name": "stdout",
     "output_type": "stream",
     "text": [
      "🍎\n"
     ]
    }
   ],
   "source": [
    "        println(fruits[nextind(fruits,5)])"
   ]
  }
 ],
 "metadata": {
  "kernelspec": {
   "display_name": "Julia 1.6.0",
   "language": "julia",
   "name": "julia-1.6"
  },
  "language_info": {
   "file_extension": ".jl",
   "mimetype": "application/julia",
   "name": "julia",
   "version": "1.6.0"
  }
 },
 "nbformat": 4,
 "nbformat_minor": 5
}
