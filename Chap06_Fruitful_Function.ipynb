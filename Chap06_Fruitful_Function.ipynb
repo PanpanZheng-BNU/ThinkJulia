{
 "cells": [
  {
   "cell_type": "markdown",
   "id": "dda6fa59-c78d-4ae8-958e-1e4a3e1cb4ca",
   "metadata": {},
   "source": [
    "# Fruitful Function"
   ]
  },
  {
   "cell_type": "code",
   "execution_count": 1,
   "id": "58dd7b61-98e7-475c-b2e2-a065dac05d3c",
   "metadata": {
    "execution": {
     "iopub.execute_input": "2021-04-21T18:56:58.573000-07:00",
     "iopub.status.busy": "2021-04-21T18:56:56.114000-07:00",
     "iopub.status.idle": "2021-04-21T18:57:02.643000-07:00",
     "shell.execute_reply": "2021-04-21T18:57:02.502000-07:00"
    },
    "tags": []
   },
   "outputs": [
    {
     "data": {
      "text/plain": [
       "compare (generic function with 1 method)"
      ]
     },
     "execution_count": 1,
     "metadata": {},
     "output_type": "execute_result"
    }
   ],
   "source": [
    "function compare(x,y)\n",
    "    if x > y\n",
    "        return 1\n",
    "    elseif x < y\n",
    "        return -1\n",
    "    elseif x == y\n",
    "        return 0\n",
    "    end\n",
    "end"
   ]
  },
  {
   "cell_type": "code",
   "execution_count": 2,
   "id": "8907b4d6-123b-4b83-9739-f552cf2d1c6f",
   "metadata": {
    "execution": {
     "iopub.execute_input": "2021-04-21T18:57:02.646000-07:00",
     "iopub.status.busy": "2021-04-21T18:57:02.645000-07:00",
     "iopub.status.idle": "2021-04-21T18:57:03.478000-07:00",
     "shell.execute_reply": "2021-04-21T18:57:03.477000-07:00"
    },
    "tags": []
   },
   "outputs": [
    {
     "data": {
      "text/plain": [
       "-1"
      ]
     },
     "execution_count": 2,
     "metadata": {},
     "output_type": "execute_result"
    }
   ],
   "source": [
    "compare(1,2)"
   ]
  },
  {
   "cell_type": "code",
   "execution_count": 3,
   "id": "a837cf19-3f4d-4328-b48b-8afc20ac1d4e",
   "metadata": {
    "execution": {
     "iopub.execute_input": "2021-04-21T18:57:03.483000-07:00",
     "iopub.status.busy": "2021-04-21T18:57:03.479000-07:00",
     "iopub.status.idle": "2021-04-21T18:57:03.956000-07:00",
     "shell.execute_reply": "2021-04-21T18:57:03.956000-07:00"
    },
    "tags": []
   },
   "outputs": [
    {
     "data": {
      "text/plain": [
       "distance (generic function with 1 method)"
      ]
     },
     "execution_count": 3,
     "metadata": {},
     "output_type": "execute_result"
    }
   ],
   "source": [
    "function distance(x1,y1,x2,y2)\n",
    "    dx = x2 - x1\n",
    "    dy = y2 - y1\n",
    "    d2 = dx^2 + dy^2\n",
    "    @show d2\n",
    "    0.0\n",
    "end"
   ]
  },
  {
   "cell_type": "code",
   "execution_count": 4,
   "id": "61588832-af96-4b83-a73e-1874ed0a0802",
   "metadata": {
    "execution": {
     "iopub.execute_input": "2021-04-21T18:57:03.956000-07:00",
     "iopub.status.busy": "2021-04-21T18:57:03.956000-07:00",
     "iopub.status.idle": "2021-04-21T18:57:05.269000-07:00",
     "shell.execute_reply": "2021-04-21T18:57:05.268000-07:00"
    },
    "tags": []
   },
   "outputs": [
    {
     "name": "stdout",
     "output_type": "stream",
     "text": [
      "d2 = 25\n"
     ]
    },
    {
     "data": {
      "text/plain": [
       "0.0"
      ]
     },
     "execution_count": 4,
     "metadata": {},
     "output_type": "execute_result"
    }
   ],
   "source": [
    "distance(1,2,4,6)"
   ]
  },
  {
   "cell_type": "code",
   "execution_count": 5,
   "id": "a292516c-3bb0-485d-b828-4444b9cd1261",
   "metadata": {
    "execution": {
     "iopub.execute_input": "2021-04-21T18:57:05.271000-07:00",
     "iopub.status.busy": "2021-04-21T18:57:05.270000-07:00",
     "iopub.status.idle": "2021-04-21T18:57:05.285000-07:00",
     "shell.execute_reply": "2021-04-21T18:57:05.284000-07:00"
    },
    "tags": []
   },
   "outputs": [
    {
     "data": {
      "text/plain": [
       "distance (generic function with 1 method)"
      ]
     },
     "execution_count": 5,
     "metadata": {},
     "output_type": "execute_result"
    }
   ],
   "source": [
    "function distance(x1,y1,x2,y2)\n",
    "    dx = x2 - x1\n",
    "    dy = y2 - y1\n",
    "    d2 = dx^2 + dy^2\n",
    "    return sqrt(d2)\n",
    "end"
   ]
  },
  {
   "cell_type": "code",
   "execution_count": 6,
   "id": "1547b319-42c9-43b0-97cd-7819c4f9f558",
   "metadata": {
    "execution": {
     "iopub.execute_input": "2021-04-21T18:57:05.287000-07:00",
     "iopub.status.busy": "2021-04-21T18:57:05.285000-07:00",
     "iopub.status.idle": "2021-04-21T18:57:05.321000-07:00",
     "shell.execute_reply": "2021-04-21T18:57:05.320000-07:00"
    },
    "tags": []
   },
   "outputs": [
    {
     "data": {
      "text/plain": [
       "5.0"
      ]
     },
     "execution_count": 6,
     "metadata": {},
     "output_type": "execute_result"
    }
   ],
   "source": [
    "distance(1,2,4,6)"
   ]
  },
  {
   "cell_type": "markdown",
   "id": "b70c8f3b-0d63-4362-bc5d-7aa97d4690bc",
   "metadata": {},
   "source": [
    "## Boolean Functions"
   ]
  },
  {
   "cell_type": "code",
   "execution_count": 7,
   "id": "5eec4ddd-d5a5-4ebc-82a7-d5c8495ed665",
   "metadata": {
    "execution": {
     "iopub.execute_input": "2021-04-21T18:57:05.324000-07:00",
     "iopub.status.busy": "2021-04-21T18:57:05.323000-07:00",
     "iopub.status.idle": "2021-04-21T18:57:05.678000-07:00",
     "shell.execute_reply": "2021-04-21T18:57:05.677000-07:00"
    },
    "tags": []
   },
   "outputs": [
    {
     "data": {
      "text/plain": [
       "isdivisible (generic function with 1 method)"
      ]
     },
     "execution_count": 7,
     "metadata": {},
     "output_type": "execute_result"
    }
   ],
   "source": [
    "function isdivisible(x,y)\n",
    "    if x % y == 0\n",
    "        return true\n",
    "    else\n",
    "        return false\n",
    "    end\n",
    "end"
   ]
  },
  {
   "cell_type": "code",
   "execution_count": 8,
   "id": "162fc274-483a-4064-a4f7-a1431e4aebce",
   "metadata": {
    "execution": {
     "iopub.execute_input": "2021-04-21T18:57:05.681000-07:00",
     "iopub.status.busy": "2021-04-21T18:57:05.679000-07:00",
     "iopub.status.idle": "2021-04-21T18:57:06.967000-07:00",
     "shell.execute_reply": "2021-04-21T18:57:06.967000-07:00"
    },
    "tags": []
   },
   "outputs": [
    {
     "data": {
      "text/plain": [
       "true"
      ]
     },
     "execution_count": 8,
     "metadata": {},
     "output_type": "execute_result"
    }
   ],
   "source": [
    "isdivisible(3,1)"
   ]
  },
  {
   "cell_type": "code",
   "execution_count": 9,
   "id": "26f506bd-9d5f-440c-8f7d-7197a5a5aeb9",
   "metadata": {
    "execution": {
     "iopub.execute_input": "2021-04-21T18:57:06.967000-07:00",
     "iopub.status.busy": "2021-04-21T18:57:06.967000-07:00",
     "iopub.status.idle": "2021-04-21T18:57:06.971000-07:00",
     "shell.execute_reply": "2021-04-21T18:57:06.971000-07:00"
    },
    "tags": []
   },
   "outputs": [
    {
     "data": {
      "text/plain": [
       "isdivisible (generic function with 1 method)"
      ]
     },
     "execution_count": 9,
     "metadata": {},
     "output_type": "execute_result"
    }
   ],
   "source": [
    "function isdivisible(x,y)\n",
    "    x % y == 0\n",
    "end"
   ]
  },
  {
   "cell_type": "code",
   "execution_count": 10,
   "id": "a1c538c9-a0e3-4d40-aff3-e99dbc0a68cd",
   "metadata": {
    "execution": {
     "iopub.execute_input": "2021-04-21T18:57:06.971000-07:00",
     "iopub.status.busy": "2021-04-21T18:57:06.971000-07:00",
     "iopub.status.idle": "2021-04-21T18:57:07.425000-07:00",
     "shell.execute_reply": "2021-04-21T18:57:07.424000-07:00"
    },
    "tags": []
   },
   "outputs": [
    {
     "data": {
      "text/plain": [
       "isbetween (generic function with 1 method)"
      ]
     },
     "execution_count": 10,
     "metadata": {},
     "output_type": "execute_result"
    }
   ],
   "source": [
    "function isbetween(x,y,z)\n",
    "    x <= y <= z\n",
    "end"
   ]
  },
  {
   "cell_type": "code",
   "execution_count": 11,
   "id": "9ba73ab1-f61d-450f-8470-23f338d7e596",
   "metadata": {
    "execution": {
     "iopub.execute_input": "2021-04-21T18:57:07.427000-07:00",
     "iopub.status.busy": "2021-04-21T18:57:07.426000-07:00",
     "iopub.status.idle": "2021-04-21T18:57:07.609000-07:00",
     "shell.execute_reply": "2021-04-21T18:57:07.607000-07:00"
    },
    "tags": []
   },
   "outputs": [
    {
     "name": "stdout",
     "output_type": "stream",
     "text": [
      "false"
     ]
    }
   ],
   "source": [
    "c = isbetween(2,1,3)\n",
    "show(c)"
   ]
  },
  {
   "cell_type": "markdown",
   "id": "366289fa-07af-436f-866e-554e2c60fb5c",
   "metadata": {},
   "source": [
    "## More Recurision"
   ]
  },
  {
   "cell_type": "code",
   "execution_count": 12,
   "id": "8d88e713-f2c6-40b8-a2a2-353fb279413c",
   "metadata": {
    "execution": {
     "iopub.execute_input": "2021-04-21T18:57:07.611000-07:00",
     "iopub.status.busy": "2021-04-21T18:57:07.610000-07:00",
     "iopub.status.idle": "2021-04-21T18:57:08.005000-07:00",
     "shell.execute_reply": "2021-04-21T18:57:08.004000-07:00"
    },
    "tags": []
   },
   "outputs": [
    {
     "data": {
      "text/plain": [
       "fact (generic function with 1 method)"
      ]
     },
     "execution_count": 12,
     "metadata": {},
     "output_type": "execute_result"
    }
   ],
   "source": [
    "function fact(n)\n",
    "    if n == 0\n",
    "        return 1\n",
    "    end\n",
    "    return n*fact(n-1)\n",
    "end"
   ]
  },
  {
   "cell_type": "code",
   "execution_count": 13,
   "id": "674d7162-1f54-4845-8dc8-bf35d74b5e19",
   "metadata": {
    "execution": {
     "iopub.execute_input": "2021-04-21T18:57:08.008000-07:00",
     "iopub.status.busy": "2021-04-21T18:57:08.006000-07:00",
     "iopub.status.idle": "2021-04-21T18:57:08.044000-07:00",
     "shell.execute_reply": "2021-04-21T18:57:08.044000-07:00"
    },
    "tags": []
   },
   "outputs": [
    {
     "data": {
      "text/plain": [
       "true"
      ]
     },
     "execution_count": 13,
     "metadata": {},
     "output_type": "execute_result"
    }
   ],
   "source": [
    "fact(6) == 6*5*4*3*2*1"
   ]
  },
  {
   "cell_type": "code",
   "execution_count": 14,
   "id": "424dd418-ad90-47fc-9713-9bde226d0ef1",
   "metadata": {
    "execution": {
     "iopub.execute_input": "2021-04-21T18:57:08.046000-07:00",
     "iopub.status.busy": "2021-04-21T18:57:08.045000-07:00",
     "iopub.status.idle": "2021-04-21T18:57:08.389000-07:00",
     "shell.execute_reply": "2021-04-21T18:57:08.388000-07:00"
    },
    "tags": []
   },
   "outputs": [
    {
     "data": {
      "text/plain": [
       "fib (generic function with 1 method)"
      ]
     },
     "execution_count": 14,
     "metadata": {},
     "output_type": "execute_result"
    }
   ],
   "source": [
    "function fib(n)\n",
    "    if n == 0 \n",
    "        return 0\n",
    "    elseif n == 1\n",
    "        return 1\n",
    "    else\n",
    "        return fib(n-1) + fib(n-2)\n",
    "    end\n",
    "end"
   ]
  },
  {
   "cell_type": "code",
   "execution_count": 15,
   "id": "41e043f2-678d-478a-8e4a-d0ac0d15aaf2",
   "metadata": {
    "execution": {
     "iopub.execute_input": "2021-04-21T18:57:08.391000-07:00",
     "iopub.status.busy": "2021-04-21T18:57:08.390000-07:00",
     "iopub.status.idle": "2021-04-21T18:57:08.569000-07:00",
     "shell.execute_reply": "2021-04-21T18:57:08.568000-07:00"
    },
    "tags": []
   },
   "outputs": [
    {
     "name": "stdout",
     "output_type": "stream",
     "text": [
      "1\n",
      "1\n",
      "2\n",
      "3\n",
      "5\n",
      "8\n",
      "13\n",
      "21\n",
      "34\n",
      "55\n"
     ]
    }
   ],
   "source": [
    "for i in 1:10\n",
    "    println(fib(i))\n",
    "end"
   ]
  },
  {
   "cell_type": "markdown",
   "id": "63d24058-85a9-4276-a6e8-05e81796f250",
   "metadata": {},
   "source": [
    "## Checking Types"
   ]
  },
  {
   "cell_type": "code",
   "execution_count": 16,
   "id": "ecc2d0fc-9c30-4c4c-8a55-55e48e0f3e72",
   "metadata": {
    "execution": {
     "iopub.execute_input": "2021-04-21T18:57:08.572000-07:00",
     "iopub.status.busy": "2021-04-21T18:57:08.571000-07:00",
     "iopub.status.idle": "2021-04-21T18:57:08.584000-07:00",
     "shell.execute_reply": "2021-04-21T18:57:08.578000-07:00"
    },
    "tags": []
   },
   "outputs": [
    {
     "data": {
      "text/plain": [
       "fact (generic function with 1 method)"
      ]
     },
     "execution_count": 16,
     "metadata": {},
     "output_type": "execute_result"
    }
   ],
   "source": [
    "function fact(n)\n",
    "    if !(n isa Int64)\n",
    "        error(\"Factorial is only defined for integers.\")\n",
    "    elseif n < 0\n",
    "        error(\"Factorial is not defined for negative integers.\")\n",
    "    elseif n == 0\n",
    "        return 1\n",
    "    else\n",
    "        return n * fact(n-1)\n",
    "    end\n",
    "end"
   ]
  },
  {
   "cell_type": "code",
   "execution_count": 17,
   "id": "d76f33e3-3397-410c-b1cf-4fc537e2e899",
   "metadata": {
    "execution": {
     "iopub.execute_input": "2021-04-21T18:57:08.584000-07:00",
     "iopub.status.busy": "2021-04-21T18:57:08.584000-07:00",
     "iopub.status.idle": "2021-04-21T18:57:08.646000-07:00",
     "shell.execute_reply": "2021-04-21T18:57:08.646000-07:00"
    },
    "tags": []
   },
   "outputs": [
    {
     "data": {
      "text/plain": [
       "true"
      ]
     },
     "execution_count": 17,
     "metadata": {},
     "output_type": "execute_result"
    }
   ],
   "source": [
    "fact(5) == 5*4*3*2*1"
   ]
  },
  {
   "cell_type": "code",
   "execution_count": 18,
   "id": "23eea6e6-3880-4556-80b0-7fa0c9f5e88c",
   "metadata": {
    "execution": {
     "iopub.execute_input": "2021-04-21T18:57:08.647000-07:00",
     "iopub.status.busy": "2021-04-21T18:57:08.647000-07:00",
     "iopub.status.idle": "2021-04-21T18:57:16.282000-07:00",
     "shell.execute_reply": "2021-04-21T18:57:16.281000-07:00"
    },
    "tags": []
   },
   "outputs": [
    {
     "ename": "LoadError",
     "evalue": "Factorial is only defined for integers.",
     "output_type": "error",
     "traceback": [
      "Factorial is only defined for integers.",
      "",
      "Stacktrace:",
      " [1] error(s::String)",
      "   @ Base ./error.jl:33",
      " [2] fact(n::Float64)",
      "   @ Main ./In[16]:3",
      " [3] top-level scope",
      "   @ In[18]:1",
      " [4] eval",
      "   @ ./boot.jl:360 [inlined]",
      " [5] include_string(mapexpr::typeof(REPL.softscope), mod::Module, code::String, filename::String)",
      "   @ Base ./loading.jl:1094"
     ]
    }
   ],
   "source": [
    "fact(1.2)"
   ]
  },
  {
   "cell_type": "code",
   "execution_count": 19,
   "id": "aa5cee31-0bc0-442e-b163-235e589a2112",
   "metadata": {
    "execution": {
     "iopub.execute_input": "2021-04-21T18:57:16.284000-07:00",
     "iopub.status.busy": "2021-04-21T18:57:16.283000-07:00",
     "iopub.status.idle": "2021-04-21T18:57:16.323000-07:00",
     "shell.execute_reply": "2021-04-21T18:57:16.322000-07:00"
    },
    "tags": []
   },
   "outputs": [
    {
     "ename": "LoadError",
     "evalue": "Factorial is not defined for negative integers.",
     "output_type": "error",
     "traceback": [
      "Factorial is not defined for negative integers.",
      "",
      "Stacktrace:",
      " [1] error(s::String)",
      "   @ Base ./error.jl:33",
      " [2] fact(n::Int64)",
      "   @ Main ./In[16]:5",
      " [3] top-level scope",
      "   @ In[19]:1",
      " [4] eval",
      "   @ ./boot.jl:360 [inlined]",
      " [5] include_string(mapexpr::typeof(REPL.softscope), mod::Module, code::String, filename::String)",
      "   @ Base ./loading.jl:1094"
     ]
    }
   ],
   "source": [
    "fact(-1)"
   ]
  },
  {
   "cell_type": "code",
   "execution_count": 20,
   "id": "03fba39d-0188-4518-8158-4e22050a2ce7",
   "metadata": {
    "execution": {
     "iopub.execute_input": "2021-04-21T18:57:16.325000-07:00",
     "iopub.status.busy": "2021-04-21T18:57:16.324000-07:00",
     "iopub.status.idle": "2021-04-21T18:57:16.333000-07:00",
     "shell.execute_reply": "2021-04-21T18:57:16.333000-07:00"
    },
    "tags": []
   },
   "outputs": [
    {
     "data": {
      "text/plain": [
       "fact (generic function with 1 method)"
      ]
     },
     "execution_count": 20,
     "metadata": {},
     "output_type": "execute_result"
    }
   ],
   "source": [
    "function fact(n)\n",
    "    space = \" \"^(4 * n)\n",
    "    println(space,\"factorial \", n)\n",
    "    \n",
    "    if n == 0\n",
    "        println(space, \"returning 1\")\n",
    "        return 1\n",
    "    else\n",
    "        recurse = fact(n-1)\n",
    "        result = n * recurse\n",
    "        println(space,\"returning \", result)\n",
    "        return result\n",
    "    end\n",
    "end"
   ]
  },
  {
   "cell_type": "code",
   "execution_count": 21,
   "id": "95f7f290-1f38-4192-9987-3847257a313d",
   "metadata": {
    "execution": {
     "iopub.execute_input": "2021-04-21T18:57:16.339000-07:00",
     "iopub.status.busy": "2021-04-21T18:57:16.334000-07:00",
     "iopub.status.idle": "2021-04-21T18:57:16.499000-07:00",
     "shell.execute_reply": "2021-04-21T18:57:16.498000-07:00"
    },
    "tags": []
   },
   "outputs": [
    {
     "name": "stdout",
     "output_type": "stream",
     "text": [
      "                factorial 4\n",
      "            factorial 3\n",
      "        factorial 2\n",
      "    factorial 1\n",
      "factorial 0\n",
      "returning 1\n",
      "    returning 1\n",
      "        returning 2\n",
      "            returning 6\n",
      "                returning 24\n"
     ]
    },
    {
     "data": {
      "text/plain": [
       "24"
      ]
     },
     "execution_count": 21,
     "metadata": {},
     "output_type": "execute_result"
    }
   ],
   "source": [
    "fact(4)"
   ]
  },
  {
   "cell_type": "code",
   "execution_count": null,
   "id": "90ea3fa5-1870-490b-b980-17d6de8d2b7d",
   "metadata": {},
   "outputs": [],
   "source": []
  }
 ],
 "metadata": {
  "kernelspec": {
   "display_name": "Julia 1.6.0",
   "language": "julia",
   "name": "julia-1.6"
  },
  "language_info": {
   "file_extension": ".jl",
   "mimetype": "application/julia",
   "name": "julia",
   "version": "1.6.0"
  }
 },
 "nbformat": 4,
 "nbformat_minor": 5
}
