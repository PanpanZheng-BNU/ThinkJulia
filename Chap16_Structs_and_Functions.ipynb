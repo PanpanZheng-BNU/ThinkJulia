{
 "cells": [
  {
   "cell_type": "markdown",
   "id": "161bb5e3-3889-42d8-842a-e447bf6a7164",
   "metadata": {},
   "source": [
    "# Structs and Functions"
   ]
  },
  {
   "cell_type": "code",
   "execution_count": 1,
   "id": "434f09ed-e684-40c7-96bb-8eb2e1d88223",
   "metadata": {
    "execution": {
     "iopub.execute_input": "2021-04-24T06:26:16.521000-07:00",
     "iopub.status.busy": "2021-04-24T06:26:15.658000-07:00",
     "iopub.status.idle": "2021-04-24T06:26:17.698000-07:00",
     "shell.execute_reply": "2021-04-24T06:26:17.661000-07:00"
    },
    "tags": []
   },
   "outputs": [
    {
     "data": {
      "text/plain": [
       "MyTime"
      ]
     },
     "execution_count": 1,
     "metadata": {},
     "output_type": "execute_result"
    }
   ],
   "source": [
    "\"\"\"\n",
    "Represents the time of day.\n",
    "\n",
    "fields: hour, minute, second\n",
    "\"\"\"\n",
    "struct MyTime\n",
    "    hour\n",
    "    minute\n",
    "    second\n",
    "end"
   ]
  },
  {
   "cell_type": "code",
   "execution_count": 2,
   "id": "d743c4a1-0316-4d85-b187-45c039da99ce",
   "metadata": {
    "execution": {
     "iopub.execute_input": "2021-04-24T06:26:17.701000-07:00",
     "iopub.status.busy": "2021-04-24T06:26:17.699000-07:00",
     "iopub.status.idle": "2021-04-24T06:26:18.153000-07:00",
     "shell.execute_reply": "2021-04-24T06:26:18.153000-07:00"
    },
    "tags": []
   },
   "outputs": [
    {
     "data": {
      "text/plain": [
       "MyTime(11, 59, 30)"
      ]
     },
     "execution_count": 2,
     "metadata": {},
     "output_type": "execute_result"
    }
   ],
   "source": [
    "MyTime(11,59,30)"
   ]
  },
  {
   "cell_type": "markdown",
   "id": "9df20b00-1702-4920-b143-a3a4a551cb62",
   "metadata": {},
   "source": [
    "#### Ex16-1"
   ]
  },
  {
   "cell_type": "code",
   "execution_count": 3,
   "id": "ed9598f7-2b8c-404f-b329-1b294cb3b184",
   "metadata": {
    "execution": {
     "iopub.execute_input": "2021-04-24T06:26:18.153000-07:00",
     "iopub.status.busy": "2021-04-24T06:26:18.153000-07:00",
     "iopub.status.idle": "2021-04-24T06:26:18.660000-07:00",
     "shell.execute_reply": "2021-04-24T06:26:18.659000-07:00"
    },
    "tags": []
   },
   "outputs": [
    {
     "data": {
      "text/plain": [
       "printtime (generic function with 1 method)"
      ]
     },
     "execution_count": 3,
     "metadata": {},
     "output_type": "execute_result"
    }
   ],
   "source": [
    "using Printf\n",
    "function printtime(time_obj)\n",
    "    @printf \"%02d:%02d:%02d\" time_obj.hour time_obj.minute time_obj.second\n",
    "end"
   ]
  },
  {
   "cell_type": "code",
   "execution_count": 4,
   "id": "04556a92-d49c-4baf-afb8-cabfacb0920c",
   "metadata": {
    "execution": {
     "iopub.execute_input": "2021-04-24T06:26:18.662000-07:00",
     "iopub.status.busy": "2021-04-24T06:26:18.661000-07:00",
     "iopub.status.idle": "2021-04-24T06:26:19.312000-07:00",
     "shell.execute_reply": "2021-04-24T06:26:19.310000-07:00"
    },
    "tags": []
   },
   "outputs": [
    {
     "name": "stdout",
     "output_type": "stream",
     "text": [
      "11:50:00"
     ]
    }
   ],
   "source": [
    "printtime(MyTime(11,50,0))"
   ]
  },
  {
   "cell_type": "code",
   "execution_count": 5,
   "id": "f8d9a4b8-b23c-4093-a430-48497f26735c",
   "metadata": {
    "execution": {
     "iopub.execute_input": "2021-04-24T06:26:19.315000-07:00",
     "iopub.status.busy": "2021-04-24T06:26:19.313000-07:00",
     "iopub.status.idle": "2021-04-24T06:26:19.463000-07:00",
     "shell.execute_reply": "2021-04-24T06:26:19.461000-07:00"
    },
    "tags": []
   },
   "outputs": [
    {
     "name": "stdout",
     "output_type": "stream",
     "text": [
      "h002"
     ]
    }
   ],
   "source": [
    "@printf \"h%03d\" 2"
   ]
  },
  {
   "cell_type": "markdown",
   "id": "4d68c158-a8e6-4c60-97ea-d507130cc1e8",
   "metadata": {},
   "source": [
    "#### Ex16-2"
   ]
  },
  {
   "cell_type": "code",
   "execution_count": 6,
   "id": "4edf9faa-37c1-4c56-8a3c-20a814baadd4",
   "metadata": {
    "execution": {
     "iopub.execute_input": "2021-04-24T06:26:19.466000-07:00",
     "iopub.status.busy": "2021-04-24T06:26:19.464000-07:00",
     "iopub.status.idle": "2021-04-24T06:26:19.594000-07:00",
     "shell.execute_reply": "2021-04-24T06:26:19.593000-07:00"
    },
    "tags": []
   },
   "outputs": [
    {
     "data": {
      "text/plain": [
       "isafter (generic function with 1 method)"
      ]
     },
     "execution_count": 6,
     "metadata": {},
     "output_type": "execute_result"
    }
   ],
   "source": [
    "function isafter(t1,t2)\n",
    "    time1 = t1.hour*10^4 + t1.minute*10^2 + t1.second\n",
    "    time2 = t2.hour*10^4 + t2.minute*10^2 + t2.second\n",
    "    time1 > time2\n",
    "end"
   ]
  },
  {
   "cell_type": "markdown",
   "id": "27d32b16-f2ee-40b9-a8e8-5af375eb3956",
   "metadata": {},
   "source": [
    "##### <a style=\"color:#D0104C;font-weight:bold\">Solution of Ex16-2</a>"
   ]
  },
  {
   "cell_type": "code",
   "execution_count": 7,
   "id": "dc85fc87-05df-42fa-b55c-6bba6f3821b4",
   "metadata": {
    "execution": {
     "iopub.execute_input": "2021-04-24T06:26:19.597000-07:00",
     "iopub.status.busy": "2021-04-24T06:26:19.595000-07:00",
     "iopub.status.idle": "2021-04-24T06:26:19.601000-07:00",
     "shell.execute_reply": "2021-04-24T06:26:19.600000-07:00"
    },
    "tags": []
   },
   "outputs": [
    {
     "data": {
      "text/plain": [
       "isafter (generic function with 1 method)"
      ]
     },
     "execution_count": 7,
     "metadata": {},
     "output_type": "execute_result"
    }
   ],
   "source": [
    "function isafter(t1,t2)\n",
    "    (t1.hour,t1.minute, t1.second) > (t2.hour,t2.minute, t2.second)\n",
    "end"
   ]
  },
  {
   "cell_type": "code",
   "execution_count": 8,
   "id": "481b0580-7564-4e35-82fa-5301416e050c",
   "metadata": {
    "execution": {
     "iopub.execute_input": "2021-04-24T06:26:19.601000-07:00",
     "iopub.status.busy": "2021-04-24T06:26:19.601000-07:00",
     "iopub.status.idle": "2021-04-24T06:26:19.603000-07:00",
     "shell.execute_reply": "2021-04-24T06:26:19.603000-07:00"
    },
    "tags": []
   },
   "outputs": [
    {
     "data": {
      "text/plain": [
       "MyTime(11, 39, 59)"
      ]
     },
     "execution_count": 8,
     "metadata": {},
     "output_type": "execute_result"
    }
   ],
   "source": [
    "t1 = MyTime(12,1,30)\n",
    "t2 = MyTime(11,39,59)"
   ]
  },
  {
   "cell_type": "code",
   "execution_count": 9,
   "id": "e0da0834-d573-4ac6-aa21-38d6320dc682",
   "metadata": {
    "execution": {
     "iopub.execute_input": "2021-04-24T06:26:19.604000-07:00",
     "iopub.status.busy": "2021-04-24T06:26:19.604000-07:00",
     "iopub.status.idle": "2021-04-24T06:26:20.058000-07:00",
     "shell.execute_reply": "2021-04-24T06:26:20.058000-07:00"
    },
    "tags": []
   },
   "outputs": [
    {
     "data": {
      "text/plain": [
       "true"
      ]
     },
     "execution_count": 9,
     "metadata": {},
     "output_type": "execute_result"
    }
   ],
   "source": [
    "isafter(t1,t2)"
   ]
  },
  {
   "cell_type": "markdown",
   "id": "4c8ffe5d-6e0a-4b1f-b5c1-4ba52405292e",
   "metadata": {},
   "source": [
    "## Pure Functions"
   ]
  },
  {
   "cell_type": "code",
   "execution_count": 10,
   "id": "5be92bb2-0a1b-40f2-bb19-a294da2f8eef",
   "metadata": {
    "execution": {
     "iopub.execute_input": "2021-04-24T06:26:20.058000-07:00",
     "iopub.status.busy": "2021-04-24T06:26:20.058000-07:00",
     "iopub.status.idle": "2021-04-24T06:26:20.215000-07:00",
     "shell.execute_reply": "2021-04-24T06:26:20.215000-07:00"
    },
    "tags": []
   },
   "outputs": [
    {
     "data": {
      "text/plain": [
       "addtime (generic function with 1 method)"
      ]
     },
     "execution_count": 10,
     "metadata": {},
     "output_type": "execute_result"
    }
   ],
   "source": [
    "function addtime(t1,t2)\n",
    "    MyTime(t1.hour+t2.hour, t1.minute+t2.minute, t1.second + t2.second)\n",
    "end"
   ]
  },
  {
   "cell_type": "code",
   "execution_count": 11,
   "id": "00b8281b-308e-4ab8-993c-7c75400dad90",
   "metadata": {
    "execution": {
     "iopub.execute_input": "2021-04-24T06:26:20.217000-07:00",
     "iopub.status.busy": "2021-04-24T06:26:20.216000-07:00",
     "iopub.status.idle": "2021-04-24T06:26:20.230000-07:00",
     "shell.execute_reply": "2021-04-24T06:26:20.229000-07:00"
    },
    "tags": []
   },
   "outputs": [
    {
     "data": {
      "text/plain": [
       "MyTime(23, 40, 89)"
      ]
     },
     "execution_count": 11,
     "metadata": {},
     "output_type": "execute_result"
    }
   ],
   "source": [
    "addtime(t1,t2)"
   ]
  },
  {
   "cell_type": "code",
   "execution_count": 12,
   "id": "df7c7e43-f27e-4145-92ae-d31a44ad6f1c",
   "metadata": {
    "execution": {
     "iopub.execute_input": "2021-04-24T06:26:20.232000-07:00",
     "iopub.status.busy": "2021-04-24T06:26:20.231000-07:00",
     "iopub.status.idle": "2021-04-24T06:26:20.237000-07:00",
     "shell.execute_reply": "2021-04-24T06:26:20.236000-07:00"
    },
    "tags": []
   },
   "outputs": [
    {
     "data": {
      "text/plain": [
       "addtime (generic function with 1 method)"
      ]
     },
     "execution_count": 12,
     "metadata": {},
     "output_type": "execute_result"
    }
   ],
   "source": [
    "function addtime(t1,t2)\n",
    "    second = t1.second + t2.second;\n",
    "    minute = t1.minute + t2.minute;\n",
    "    hour = t1.hour + t2.hour;\n",
    "    if second >= 60\n",
    "        second -= 60\n",
    "        minute += 1\n",
    "    end\n",
    "    if minute >= 60\n",
    "        minute -= 60\n",
    "        hour += 1\n",
    "    end\n",
    "    MyTime(hour,minute,second)\n",
    "end"
   ]
  },
  {
   "cell_type": "code",
   "execution_count": 13,
   "id": "b6458d27-4422-4c9e-9ecb-26433f872b4b",
   "metadata": {
    "execution": {
     "iopub.execute_input": "2021-04-24T06:26:20.238000-07:00",
     "iopub.status.busy": "2021-04-24T06:26:20.237000-07:00",
     "iopub.status.idle": "2021-04-24T06:26:20.258000-07:00",
     "shell.execute_reply": "2021-04-24T06:26:20.257000-07:00"
    },
    "tags": []
   },
   "outputs": [
    {
     "data": {
      "text/plain": [
       "MyTime(23, 41, 29)"
      ]
     },
     "execution_count": 13,
     "metadata": {},
     "output_type": "execute_result"
    }
   ],
   "source": [
    "addtime(t1,t2)"
   ]
  },
  {
   "cell_type": "markdown",
   "id": "464ee148-bff5-40f2-8b62-c2d548dc1899",
   "metadata": {},
   "source": [
    "## Modifiers\n",
    "* functions which modify the input objects"
   ]
  },
  {
   "cell_type": "code",
   "execution_count": 14,
   "id": "bed1cb19-b5a1-48f0-bcd2-42ab64b5d649",
   "metadata": {
    "execution": {
     "iopub.execute_input": "2021-04-24T06:26:20.260000-07:00",
     "iopub.status.busy": "2021-04-24T06:26:20.259000-07:00",
     "iopub.status.idle": "2021-04-24T06:26:20.263000-07:00",
     "shell.execute_reply": "2021-04-24T06:26:20.261000-07:00"
    },
    "tags": []
   },
   "outputs": [],
   "source": [
    "mutable struct MMyTime\n",
    "    hour\n",
    "    minute\n",
    "    second\n",
    "end"
   ]
  },
  {
   "cell_type": "code",
   "execution_count": 15,
   "id": "b3792db8-9ecb-4e99-82e5-503c114fc554",
   "metadata": {
    "execution": {
     "iopub.execute_input": "2021-04-24T06:26:20.264000-07:00",
     "iopub.status.busy": "2021-04-24T06:26:20.263000-07:00",
     "iopub.status.idle": "2021-04-24T06:26:20.394000-07:00",
     "shell.execute_reply": "2021-04-24T06:26:20.394000-07:00"
    },
    "tags": []
   },
   "outputs": [
    {
     "data": {
      "text/plain": [
       "increment! (generic function with 1 method)"
      ]
     },
     "execution_count": 15,
     "metadata": {},
     "output_type": "execute_result"
    }
   ],
   "source": [
    "function increment!(time,seconds)\n",
    "    time.second += seconds\n",
    "    while time.second >= 60\n",
    "        time.second -= 60\n",
    "        time.minute += 1\n",
    "    end\n",
    "    while time.minute >= 60\n",
    "        time.minute -= 60\n",
    "        time.hour += 1\n",
    "    end\n",
    "end"
   ]
  },
  {
   "cell_type": "code",
   "execution_count": 16,
   "id": "990da642-d5f5-4292-8a0f-519b8964289b",
   "metadata": {
    "execution": {
     "iopub.execute_input": "2021-04-24T06:26:20.397000-07:00",
     "iopub.status.busy": "2021-04-24T06:26:20.396000-07:00",
     "iopub.status.idle": "2021-04-24T06:26:20.729000-07:00",
     "shell.execute_reply": "2021-04-24T06:26:20.728000-07:00"
    },
    "tags": []
   },
   "outputs": [
    {
     "data": {
      "text/plain": [
       "MMyTime(11, 19, 30)"
      ]
     },
     "execution_count": 16,
     "metadata": {},
     "output_type": "execute_result"
    }
   ],
   "source": [
    "mt1 = MMyTime(11,19,30)"
   ]
  },
  {
   "cell_type": "code",
   "execution_count": 17,
   "id": "737cd271-c740-4cf4-9f61-c039f2635b68",
   "metadata": {
    "execution": {
     "iopub.execute_input": "2021-04-24T06:26:20.731000-07:00",
     "iopub.status.busy": "2021-04-24T06:26:20.730000-07:00",
     "iopub.status.idle": "2021-04-24T06:26:20.753000-07:00",
     "shell.execute_reply": "2021-04-24T06:26:20.751000-07:00"
    },
    "tags": []
   },
   "outputs": [],
   "source": [
    "increment!(mt1,120)"
   ]
  },
  {
   "cell_type": "code",
   "execution_count": 18,
   "id": "8ac8a61f-63aa-4097-a79c-ec15f50063d8",
   "metadata": {
    "execution": {
     "iopub.execute_input": "2021-04-24T06:26:20.755000-07:00",
     "iopub.status.busy": "2021-04-24T06:26:20.754000-07:00",
     "iopub.status.idle": "2021-04-24T06:26:20.758000-07:00",
     "shell.execute_reply": "2021-04-24T06:26:20.758000-07:00"
    },
    "tags": []
   },
   "outputs": [
    {
     "data": {
      "text/plain": [
       "MMyTime(11, 21, 30)"
      ]
     },
     "execution_count": 18,
     "metadata": {},
     "output_type": "execute_result"
    }
   ],
   "source": [
    "mt1"
   ]
  },
  {
   "cell_type": "markdown",
   "id": "d766c16a-e494-4f97-b9db-ca1cf7926e72",
   "metadata": {},
   "source": [
    "#### Ex16-3"
   ]
  },
  {
   "cell_type": "code",
   "execution_count": 19,
   "id": "70fb4b5e-eb19-43fb-8756-195c49e4a667",
   "metadata": {
    "execution": {
     "iopub.execute_input": "2021-04-24T06:26:20.759000-07:00",
     "iopub.status.busy": "2021-04-24T06:26:20.758000-07:00",
     "iopub.status.idle": "2021-04-24T06:26:20.764000-07:00",
     "shell.execute_reply": "2021-04-24T06:26:20.764000-07:00"
    },
    "tags": []
   },
   "outputs": [
    {
     "data": {
      "text/plain": [
       "increment! (generic function with 1 method)"
      ]
     },
     "execution_count": 19,
     "metadata": {},
     "output_type": "execute_result"
    }
   ],
   "source": [
    "function increment!(time,seconds)\n",
    "    time.second += seconds\n",
    "    second_variate = divrem(time.second, 60)\n",
    "    time.second, time.minute = second_variate[2], time.minute + second_variate[1]\n",
    "    minute_variate = divrem(time.minute, 60)\n",
    "    time.minute, time.hour = minute_variate[2], time.hour + minute_variate[1]\n",
    "end"
   ]
  },
  {
   "cell_type": "code",
   "execution_count": 20,
   "id": "78080de5-8849-4f6a-ac88-5d28f18c894f",
   "metadata": {
    "execution": {
     "iopub.execute_input": "2021-04-24T06:26:20.765000-07:00",
     "iopub.status.busy": "2021-04-24T06:26:20.764000-07:00",
     "iopub.status.idle": "2021-04-24T06:26:20.795000-07:00",
     "shell.execute_reply": "2021-04-24T06:26:20.794000-07:00"
    },
    "tags": []
   },
   "outputs": [
    {
     "data": {
      "text/plain": [
       "MMyTime(11, 31, 30)"
      ]
     },
     "execution_count": 20,
     "metadata": {},
     "output_type": "execute_result"
    }
   ],
   "source": [
    "increment!(mt1,600);\n",
    "mt1"
   ]
  },
  {
   "cell_type": "markdown",
   "id": "4d81a2c8-a146-4593-b2f8-eabec34d5ed8",
   "metadata": {},
   "source": [
    "#### Ex16-4"
   ]
  },
  {
   "cell_type": "code",
   "execution_count": 21,
   "id": "0f60032b-e940-40e3-a8c1-d146edf798d8",
   "metadata": {
    "execution": {
     "iopub.execute_input": "2021-04-24T06:26:20.797000-07:00",
     "iopub.status.busy": "2021-04-24T06:26:20.796000-07:00",
     "iopub.status.idle": "2021-04-24T06:26:20.916000-07:00",
     "shell.execute_reply": "2021-04-24T06:26:20.915000-07:00"
    },
    "tags": []
   },
   "outputs": [
    {
     "data": {
      "text/plain": [
       "increment (generic function with 1 method)"
      ]
     },
     "execution_count": 21,
     "metadata": {},
     "output_type": "execute_result"
    }
   ],
   "source": [
    "function increment(time,seconds)\n",
    "    temp = deepcopy(time)\n",
    "    temp.second += seconds\n",
    "    second_variate = divrem(temp.second, 60)\n",
    "    temp.second, temp.minute = second_variate[2], temp.minute + second_variate[1]\n",
    "    minute_variate = divrem(temp.minute, 60)\n",
    "    temp.minute, temp.hour = minute_variate[2], temp.hour + minute_variate[1]\n",
    "    temp\n",
    "end"
   ]
  },
  {
   "cell_type": "code",
   "execution_count": 22,
   "id": "3e23593e-8d3d-4fed-b633-e084c4a0dcb1",
   "metadata": {
    "execution": {
     "iopub.execute_input": "2021-04-24T06:26:20.919000-07:00",
     "iopub.status.busy": "2021-04-24T06:26:20.917000-07:00",
     "iopub.status.idle": "2021-04-24T06:26:20.923000-07:00",
     "shell.execute_reply": "2021-04-24T06:26:20.921000-07:00"
    },
    "tags": []
   },
   "outputs": [
    {
     "data": {
      "text/plain": [
       "MMyTime(14, 13, 10)"
      ]
     },
     "execution_count": 22,
     "metadata": {},
     "output_type": "execute_result"
    }
   ],
   "source": [
    "mt1 = MMyTime(14,13,10)"
   ]
  },
  {
   "cell_type": "code",
   "execution_count": 23,
   "id": "9c34d5d5-398c-436d-a439-0ec5e87fbf11",
   "metadata": {
    "execution": {
     "iopub.execute_input": "2021-04-24T06:26:20.923000-07:00",
     "iopub.status.busy": "2021-04-24T06:26:20.923000-07:00",
     "iopub.status.idle": "2021-04-24T06:26:21.013000-07:00",
     "shell.execute_reply": "2021-04-24T06:26:21.013000-07:00"
    },
    "tags": []
   },
   "outputs": [
    {
     "data": {
      "text/plain": [
       "MMyTime(14, 13, 10)"
      ]
     },
     "execution_count": 23,
     "metadata": {},
     "output_type": "execute_result"
    }
   ],
   "source": [
    "increment(mt1,600);\n",
    "mt1"
   ]
  },
  {
   "cell_type": "code",
   "execution_count": 24,
   "id": "384ce52d-117f-4700-8fd2-0786ef73a4ac",
   "metadata": {
    "execution": {
     "iopub.execute_input": "2021-04-24T06:26:21.014000-07:00",
     "iopub.status.busy": "2021-04-24T06:26:21.013000-07:00",
     "iopub.status.idle": "2021-04-24T06:26:21.015000-07:00",
     "shell.execute_reply": "2021-04-24T06:26:21.014000-07:00"
    },
    "tags": []
   },
   "outputs": [
    {
     "data": {
      "text/plain": [
       "MMyTime(14, 16, 30)"
      ]
     },
     "execution_count": 24,
     "metadata": {},
     "output_type": "execute_result"
    }
   ],
   "source": [
    "increment(mt1,200)"
   ]
  },
  {
   "cell_type": "markdown",
   "id": "24ce345d-52e1-475c-9f54-f596406111cd",
   "metadata": {},
   "source": [
    "## Solutions"
   ]
  },
  {
   "cell_type": "code",
   "execution_count": 25,
   "id": "5436a049-0b3a-428a-98ad-e14f5f7a65c8",
   "metadata": {
    "execution": {
     "iopub.execute_input": "2021-04-24T06:26:21.015000-07:00",
     "iopub.status.busy": "2021-04-24T06:26:21.015000-07:00",
     "iopub.status.idle": "2021-04-24T06:26:21.158000-07:00",
     "shell.execute_reply": "2021-04-24T06:26:21.158000-07:00"
    },
    "tags": []
   },
   "outputs": [
    {
     "data": {
      "text/plain": [
       "timetoint (generic function with 1 method)"
      ]
     },
     "execution_count": 25,
     "metadata": {},
     "output_type": "execute_result"
    }
   ],
   "source": [
    "function timetoint(time)\n",
    "    minutes = time.hour * 60 + time.minute\n",
    "    seconds = minutes * 60 + time.second\n",
    "end"
   ]
  },
  {
   "cell_type": "code",
   "execution_count": 26,
   "id": "78c22e89-8617-4fd6-a9a7-521889ecefe1",
   "metadata": {
    "execution": {
     "iopub.execute_input": "2021-04-24T06:26:21.158000-07:00",
     "iopub.status.busy": "2021-04-24T06:26:21.158000-07:00",
     "iopub.status.idle": "2021-04-24T06:26:21.500000-07:00",
     "shell.execute_reply": "2021-04-24T06:26:21.500000-07:00"
    },
    "tags": []
   },
   "outputs": [
    {
     "data": {
      "text/plain": [
       "51190"
      ]
     },
     "execution_count": 26,
     "metadata": {},
     "output_type": "execute_result"
    }
   ],
   "source": [
    "timetoint(mt1)"
   ]
  },
  {
   "cell_type": "code",
   "execution_count": 27,
   "id": "c3a0ebd4-4ccf-448e-93cb-5e91bb2ff158",
   "metadata": {
    "execution": {
     "iopub.execute_input": "2021-04-24T06:26:21.503000-07:00",
     "iopub.status.busy": "2021-04-24T06:26:21.502000-07:00",
     "iopub.status.idle": "2021-04-24T06:26:21.654000-07:00",
     "shell.execute_reply": "2021-04-24T06:26:21.653000-07:00"
    },
    "tags": []
   },
   "outputs": [
    {
     "data": {
      "text/plain": [
       "inttotime (generic function with 1 method)"
      ]
     },
     "execution_count": 27,
     "metadata": {},
     "output_type": "execute_result"
    }
   ],
   "source": [
    "function inttotime(seconds)\n",
    "    (minutes, second) = divrem(seconds, 60)\n",
    "    (hour, minute) = divrem(minutes, 60)\n",
    "    MyTime(hour,minute,second)\n",
    "end"
   ]
  },
  {
   "cell_type": "code",
   "execution_count": 28,
   "id": "886f0a88-cadd-4f5e-a4c3-782b30863a0e",
   "metadata": {
    "execution": {
     "iopub.execute_input": "2021-04-24T06:26:21.656000-07:00",
     "iopub.status.busy": "2021-04-24T06:26:21.655000-07:00",
     "iopub.status.idle": "2021-04-24T06:26:21.673000-07:00",
     "shell.execute_reply": "2021-04-24T06:26:21.672000-07:00"
    },
    "tags": []
   },
   "outputs": [
    {
     "data": {
      "text/plain": [
       "MyTime(14, 13, 10)"
      ]
     },
     "execution_count": 28,
     "metadata": {},
     "output_type": "execute_result"
    }
   ],
   "source": [
    "inttotime(timetoint(mt1))"
   ]
  },
  {
   "cell_type": "code",
   "execution_count": 29,
   "id": "8eac5b97-9c1b-41bc-9ca5-d4aaec9505d0",
   "metadata": {
    "execution": {
     "iopub.execute_input": "2021-04-24T06:26:21.675000-07:00",
     "iopub.status.busy": "2021-04-24T06:26:21.674000-07:00",
     "iopub.status.idle": "2021-04-24T06:26:21.678000-07:00",
     "shell.execute_reply": "2021-04-24T06:26:21.678000-07:00"
    },
    "tags": []
   },
   "outputs": [
    {
     "data": {
      "text/plain": [
       "addtime (generic function with 1 method)"
      ]
     },
     "execution_count": 29,
     "metadata": {},
     "output_type": "execute_result"
    }
   ],
   "source": [
    "function addtime(t1,t2)\n",
    "    seconds = timetoint(t1) + timetoint(t2)\n",
    "    inttotime(seconds)\n",
    "end"
   ]
  },
  {
   "cell_type": "code",
   "execution_count": 30,
   "id": "bdd301b5-a0d5-4a8c-882f-abb9c864151e",
   "metadata": {
    "execution": {
     "iopub.execute_input": "2021-04-24T06:26:21.678000-07:00",
     "iopub.status.busy": "2021-04-24T06:26:21.678000-07:00",
     "iopub.status.idle": "2021-04-24T06:26:21.706000-07:00",
     "shell.execute_reply": "2021-04-24T06:26:21.705000-07:00"
    },
    "tags": []
   },
   "outputs": [
    {
     "data": {
      "text/plain": [
       "MyTime(23, 41, 29)"
      ]
     },
     "execution_count": 30,
     "metadata": {},
     "output_type": "execute_result"
    }
   ],
   "source": [
    "addtime(t1,t2)"
   ]
  },
  {
   "cell_type": "markdown",
   "id": "697329c1-3ef4-4087-908b-9909931ced27",
   "metadata": {},
   "source": [
    "#### Ex16-5"
   ]
  },
  {
   "cell_type": "code",
   "execution_count": 31,
   "id": "2cec674c-2cfd-4593-8685-a03dd75e4615",
   "metadata": {
    "execution": {
     "iopub.execute_input": "2021-04-24T06:26:21.708000-07:00",
     "iopub.status.busy": "2021-04-24T06:26:21.707000-07:00",
     "iopub.status.idle": "2021-04-24T06:26:21.713000-07:00",
     "shell.execute_reply": "2021-04-24T06:26:21.713000-07:00"
    },
    "tags": []
   },
   "outputs": [
    {
     "data": {
      "text/plain": [
       "increment! (generic function with 1 method)"
      ]
     },
     "execution_count": 31,
     "metadata": {},
     "output_type": "execute_result"
    }
   ],
   "source": [
    "function increment!(time,seconds)\n",
    "    secondss = timetoint(time) + seconds;\n",
    "    time.hour = inttotime(secondss).hour;\n",
    "    time.minute = inttotime(secondss).minute;\n",
    "    time.second = inttotime(secondss).second;\n",
    "end"
   ]
  },
  {
   "cell_type": "code",
   "execution_count": 32,
   "id": "c936bef0-0475-46af-80d0-5d7c5d90905c",
   "metadata": {
    "execution": {
     "iopub.execute_input": "2021-04-24T06:26:21.714000-07:00",
     "iopub.status.busy": "2021-04-24T06:26:21.714000-07:00",
     "iopub.status.idle": "2021-04-24T06:26:21.733000-07:00",
     "shell.execute_reply": "2021-04-24T06:26:21.732000-07:00"
    },
    "tags": []
   },
   "outputs": [
    {
     "data": {
      "text/plain": [
       "20"
      ]
     },
     "execution_count": 32,
     "metadata": {},
     "output_type": "execute_result"
    }
   ],
   "source": [
    "increment!(mt1,130)"
   ]
  },
  {
   "cell_type": "code",
   "execution_count": 33,
   "id": "1a81aef5-ebc7-4129-bd15-ba398e0562d6",
   "metadata": {
    "execution": {
     "iopub.execute_input": "2021-04-24T06:26:21.735000-07:00",
     "iopub.status.busy": "2021-04-24T06:26:21.734000-07:00",
     "iopub.status.idle": "2021-04-24T06:26:21.738000-07:00",
     "shell.execute_reply": "2021-04-24T06:26:21.736000-07:00"
    },
    "tags": []
   },
   "outputs": [
    {
     "data": {
      "text/plain": [
       "MMyTime(14, 15, 20)"
      ]
     },
     "execution_count": 33,
     "metadata": {},
     "output_type": "execute_result"
    }
   ],
   "source": [
    "mt1"
   ]
  }
 ],
 "metadata": {
  "kernelspec": {
   "display_name": "Julia 1.6.0",
   "language": "julia",
   "name": "julia-1.6"
  },
  "language_info": {
   "file_extension": ".jl",
   "mimetype": "application/julia",
   "name": "julia",
   "version": "1.6.0"
  }
 },
 "nbformat": 4,
 "nbformat_minor": 5
}
