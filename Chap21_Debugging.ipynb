{
 "cells": [
  {
   "cell_type": "markdown",
   "id": "f2cf7da0-0960-4d20-a6ee-3240ce86c9fa",
   "metadata": {},
   "source": [
    "# Debugging\n",
    "## Syntax Errors\n",
    "* appropriate `end`\n",
    "* complete `(` `{` `[`\n",
    "* pair of `\"\"`"
   ]
  }
 ],
 "metadata": {
  "kernelspec": {
   "display_name": "Julia 1.6.0",
   "language": "julia",
   "name": "julia-1.6"
  },
  "language_info": {
   "file_extension": ".jl",
   "mimetype": "application/julia",
   "name": "julia",
   "version": "1.6.0"
  }
 },
 "nbformat": 4,
 "nbformat_minor": 5
}
