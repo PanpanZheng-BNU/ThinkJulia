{
 "cells": [
  {
   "cell_type": "markdown",
   "id": "8cf11b25-1c6d-4c2a-8a51-5ca0e33bcf19",
   "metadata": {},
   "source": [
    "# Structs and Objects\n",
    "## Composite Types\n",
    "* ```julia\n",
    "struct\n",
    "end\n",
    "```"
   ]
  },
  {
   "cell_type": "code",
   "execution_count": 76,
   "id": "0c3e255f-bff4-49fa-9f7d-567ac192c262",
   "metadata": {
    "execution": {
     "iopub.execute_input": "2021-04-24T03:31:16.838000-07:00",
     "iopub.status.busy": "2021-04-24T03:31:16.837000-07:00",
     "iopub.status.idle": "2021-04-24T03:31:16.840000-07:00",
     "shell.execute_reply": "2021-04-24T03:31:16.840000-07:00"
    },
    "tags": []
   },
   "outputs": [],
   "source": [
    "struct Point\n",
    "    x\n",
    "    y\n",
    "end"
   ]
  },
  {
   "cell_type": "code",
   "execution_count": 77,
   "id": "75615545-fd8a-44e9-b3ac-3c642483adc3",
   "metadata": {
    "execution": {
     "iopub.execute_input": "2021-04-24T03:31:16.848000-07:00",
     "iopub.status.busy": "2021-04-24T03:31:16.848000-07:00",
     "iopub.status.idle": "2021-04-24T03:31:16.864000-07:00",
     "shell.execute_reply": "2021-04-24T03:31:16.864000-07:00"
    },
    "tags": []
   },
   "outputs": [
    {
     "data": {
      "text/plain": [
       "Point(1, 2)"
      ]
     },
     "execution_count": 77,
     "metadata": {},
     "output_type": "execute_result"
    }
   ],
   "source": [
    "p = Point(1,2)"
   ]
  },
  {
   "cell_type": "markdown",
   "id": "c1cdb81b-4220-4135-a7f7-112e66650363",
   "metadata": {},
   "source": [
    "## Immutable"
   ]
  },
  {
   "cell_type": "code",
   "execution_count": 78,
   "id": "8e8d8465-419b-4c6c-8d78-150df18ed73e",
   "metadata": {
    "execution": {
     "iopub.execute_input": "2021-04-24T03:31:16.864000-07:00",
     "iopub.status.busy": "2021-04-24T03:31:16.864000-07:00",
     "iopub.status.idle": "2021-04-24T03:31:16.866000-07:00",
     "shell.execute_reply": "2021-04-24T03:31:16.866000-07:00"
    },
    "tags": []
   },
   "outputs": [
    {
     "data": {
      "text/plain": [
       "1"
      ]
     },
     "execution_count": 78,
     "metadata": {},
     "output_type": "execute_result"
    }
   ],
   "source": [
    "p.x"
   ]
  },
  {
   "cell_type": "code",
   "execution_count": 79,
   "id": "b0ada35c-ee54-4278-9ff3-dc042a758ffc",
   "metadata": {
    "execution": {
     "iopub.execute_input": "2021-04-24T03:31:16.866000-07:00",
     "iopub.status.busy": "2021-04-24T03:31:16.866000-07:00",
     "iopub.status.idle": "2021-04-24T03:31:16.880000-07:00",
     "shell.execute_reply": "2021-04-24T03:31:16.879000-07:00"
    },
    "tags": []
   },
   "outputs": [
    {
     "ename": "LoadError",
     "evalue": "setfield! immutable struct of type Point cannot be changed",
     "output_type": "error",
     "traceback": [
      "setfield! immutable struct of type Point cannot be changed",
      "",
      "Stacktrace:",
      " [1] setproperty!(x::Point, f::Symbol, v::Int64)",
      "   @ Base ./Base.jl:34",
      " [2] top-level scope",
      "   @ In[79]:1",
      " [3] eval",
      "   @ ./boot.jl:360 [inlined]",
      " [4] include_string(mapexpr::typeof(REPL.softscope), mod::Module, code::String, filename::String)",
      "   @ Base ./loading.jl:1094"
     ]
    }
   ],
   "source": [
    "p.x = 2"
   ]
  },
  {
   "cell_type": "markdown",
   "id": "2c4006e8-3cb3-4fd3-80bd-3791a95c5275",
   "metadata": {},
   "source": [
    "## Mutable Struct\n",
    "* ```julia\n",
    "mutable struct\n",
    "end\n",
    "```"
   ]
  },
  {
   "cell_type": "code",
   "execution_count": 80,
   "id": "dd293084-15e8-42c1-80bd-b83dda0934c8",
   "metadata": {
    "execution": {
     "iopub.execute_input": "2021-04-24T03:31:16.880000-07:00",
     "iopub.status.busy": "2021-04-24T03:31:16.880000-07:00",
     "iopub.status.idle": "2021-04-24T03:31:16.883000-07:00",
     "shell.execute_reply": "2021-04-24T03:31:16.882000-07:00"
    },
    "tags": []
   },
   "outputs": [],
   "source": [
    "mutable struct MPoint\n",
    "    x\n",
    "    y\n",
    "end"
   ]
  },
  {
   "cell_type": "code",
   "execution_count": 81,
   "id": "b723fadb-4979-4f66-ae13-d998de5cedf8",
   "metadata": {
    "execution": {
     "iopub.execute_input": "2021-04-24T03:31:16.883000-07:00",
     "iopub.status.busy": "2021-04-24T03:31:16.883000-07:00",
     "iopub.status.idle": "2021-04-24T03:31:16.895000-07:00",
     "shell.execute_reply": "2021-04-24T03:31:16.895000-07:00"
    },
    "tags": []
   },
   "outputs": [
    {
     "data": {
      "text/plain": [
       "MPoint(0, 0)"
      ]
     },
     "execution_count": 81,
     "metadata": {},
     "output_type": "execute_result"
    }
   ],
   "source": [
    "blank = MPoint(0,0)"
   ]
  },
  {
   "cell_type": "code",
   "execution_count": 82,
   "id": "6c2bc0e7-de9c-430b-8de6-61139b2d2fbe",
   "metadata": {
    "execution": {
     "iopub.execute_input": "2021-04-24T03:31:16.895000-07:00",
     "iopub.status.busy": "2021-04-24T03:31:16.895000-07:00",
     "iopub.status.idle": "2021-04-24T03:31:16.896000-07:00",
     "shell.execute_reply": "2021-04-24T03:31:16.896000-07:00"
    },
    "tags": []
   },
   "outputs": [
    {
     "data": {
      "text/plain": [
       "1.0"
      ]
     },
     "execution_count": 82,
     "metadata": {},
     "output_type": "execute_result"
    }
   ],
   "source": [
    "blank.x = 1.0"
   ]
  },
  {
   "cell_type": "code",
   "execution_count": 83,
   "id": "75a80faf-1450-44a5-ad8e-343a68e931ca",
   "metadata": {
    "execution": {
     "iopub.execute_input": "2021-04-24T03:31:16.896000-07:00",
     "iopub.status.busy": "2021-04-24T03:31:16.896000-07:00",
     "iopub.status.idle": "2021-04-24T03:31:16.896000-07:00",
     "shell.execute_reply": "2021-04-24T03:31:16.896000-07:00"
    },
    "tags": []
   },
   "outputs": [
    {
     "data": {
      "text/plain": [
       "MPoint(1.0, 0)"
      ]
     },
     "execution_count": 83,
     "metadata": {},
     "output_type": "execute_result"
    }
   ],
   "source": [
    "blank"
   ]
  },
  {
   "cell_type": "markdown",
   "id": "48726381-61c5-4950-82c1-0a4b042f6f1d",
   "metadata": {},
   "source": [
    "## Rectangles"
   ]
  },
  {
   "cell_type": "code",
   "execution_count": 84,
   "id": "9b73387c-8457-4d31-981c-69cacb7ffaa2",
   "metadata": {
    "execution": {
     "iopub.execute_input": "2021-04-24T03:31:16.897000-07:00",
     "iopub.status.busy": "2021-04-24T03:31:16.896000-07:00",
     "iopub.status.idle": "2021-04-24T03:31:16.898000-07:00",
     "shell.execute_reply": "2021-04-24T03:31:16.898000-07:00"
    },
    "tags": []
   },
   "outputs": [
    {
     "data": {
      "text/plain": [
       "Rectangle"
      ]
     },
     "execution_count": 84,
     "metadata": {},
     "output_type": "execute_result"
    }
   ],
   "source": [
    "\"\"\"\n",
    "Represents a rectangles\n",
    "\n",
    "fields: width, height, corner\n",
    "\"\"\"\n",
    "struct Rectangle\n",
    "    width\n",
    "    height\n",
    "    corner\n",
    "end"
   ]
  },
  {
   "cell_type": "markdown",
   "id": "b9937e04-8c6d-4b0a-be15-e7046ba499c1",
   "metadata": {},
   "source": [
    "* <p style=\"color:#D0104C; font-weight:bold; font-style:italic\">embedded</p>"
   ]
  },
  {
   "cell_type": "code",
   "execution_count": 85,
   "id": "208d3a38-631e-44f2-a2c7-0937f3487661",
   "metadata": {
    "execution": {
     "iopub.execute_input": "2021-04-24T03:31:16.898000-07:00",
     "iopub.status.busy": "2021-04-24T03:31:16.898000-07:00",
     "iopub.status.idle": "2021-04-24T03:31:16.911000-07:00",
     "shell.execute_reply": "2021-04-24T03:31:16.911000-07:00"
    },
    "tags": []
   },
   "outputs": [
    {
     "data": {
      "text/plain": [
       "Rectangle(100.0, 200.0, MPoint(0.0, 0.0))"
      ]
     },
     "execution_count": 85,
     "metadata": {},
     "output_type": "execute_result"
    }
   ],
   "source": [
    "origin = MPoint(0.0,0.0)\n",
    "box = Rectangle(100.0,200.0,origin)"
   ]
  },
  {
   "cell_type": "markdown",
   "id": "93e0cf59-3afc-4270-a3d5-876f44e81653",
   "metadata": {},
   "source": [
    "## Instances as Arguments"
   ]
  },
  {
   "cell_type": "code",
   "execution_count": 86,
   "id": "bc1733c4-0f7c-4fb8-b9fc-7a339fbb7459",
   "metadata": {
    "execution": {
     "iopub.execute_input": "2021-04-24T03:31:17.055000-07:00",
     "iopub.status.busy": "2021-04-24T03:31:17.055000-07:00",
     "iopub.status.idle": "2021-04-24T03:31:17.056000-07:00",
     "shell.execute_reply": "2021-04-24T03:31:17.056000-07:00"
    },
    "tags": []
   },
   "outputs": [
    {
     "data": {
      "text/plain": [
       "printpoint (generic function with 1 method)"
      ]
     },
     "execution_count": 86,
     "metadata": {},
     "output_type": "execute_result"
    }
   ],
   "source": [
    "function printpoint(p)\n",
    "    println(\"($(p.x),$(p.y))\")\n",
    "end"
   ]
  },
  {
   "cell_type": "code",
   "execution_count": 87,
   "id": "b3743ec9-3cb4-467c-bb1b-d7e051ec5281",
   "metadata": {
    "execution": {
     "iopub.execute_input": "2021-04-24T03:31:17.057000-07:00",
     "iopub.status.busy": "2021-04-24T03:31:17.057000-07:00",
     "iopub.status.idle": "2021-04-24T03:31:17.071000-07:00",
     "shell.execute_reply": "2021-04-24T03:31:17.070000-07:00"
    },
    "tags": []
   },
   "outputs": [
    {
     "name": "stdout",
     "output_type": "stream",
     "text": [
      "(1,2)\n"
     ]
    }
   ],
   "source": [
    "printpoint(p)"
   ]
  },
  {
   "cell_type": "code",
   "execution_count": 88,
   "id": "78900bb4-75fc-46bb-9757-0be9af04c79b",
   "metadata": {
    "execution": {
     "iopub.execute_input": "2021-04-24T03:31:17.071000-07:00",
     "iopub.status.busy": "2021-04-24T03:31:17.071000-07:00",
     "iopub.status.idle": "2021-04-24T03:31:17.075000-07:00",
     "shell.execute_reply": "2021-04-24T03:31:17.075000-07:00"
    },
    "tags": []
   },
   "outputs": [
    {
     "data": {
      "text/plain": [
       "distancebetweenpoints (generic function with 1 method)"
      ]
     },
     "execution_count": 88,
     "metadata": {},
     "output_type": "execute_result"
    }
   ],
   "source": [
    "function distancebetweenpoints(p1,p2)\n",
    "    return sqrt((p1.x-p2.x)^2 + (p1.y-p2.y)^2)\n",
    "end"
   ]
  },
  {
   "cell_type": "code",
   "execution_count": 89,
   "id": "0b2b1a2c-6c90-44ed-828c-6924d80098b4",
   "metadata": {
    "execution": {
     "iopub.execute_input": "2021-04-24T03:31:17.075000-07:00",
     "iopub.status.busy": "2021-04-24T03:31:17.075000-07:00",
     "iopub.status.idle": "2021-04-24T03:31:17.091000-07:00",
     "shell.execute_reply": "2021-04-24T03:31:17.091000-07:00"
    },
    "tags": []
   },
   "outputs": [
    {
     "data": {
      "text/plain": [
       "5.0"
      ]
     },
     "execution_count": 89,
     "metadata": {},
     "output_type": "execute_result"
    }
   ],
   "source": [
    "p1 = MPoint(1,2);\n",
    "p2 = MPoint(4,6);\n",
    "distancebetweenpoints(p1,p2)"
   ]
  },
  {
   "cell_type": "code",
   "execution_count": 90,
   "id": "c091f8ca-97a5-44c9-bc61-d34bff54d2d6",
   "metadata": {
    "execution": {
     "iopub.execute_input": "2021-04-24T03:31:17.091000-07:00",
     "iopub.status.busy": "2021-04-24T03:31:17.091000-07:00",
     "iopub.status.idle": "2021-04-24T03:31:17.093000-07:00",
     "shell.execute_reply": "2021-04-24T03:31:17.093000-07:00"
    }
   },
   "outputs": [
    {
     "data": {
      "text/plain": [
       "movepoint! (generic function with 1 method)"
      ]
     },
     "execution_count": 90,
     "metadata": {},
     "output_type": "execute_result"
    }
   ],
   "source": [
    "function movepoint!(p,dx,dy)\n",
    "    p.x += dx\n",
    "    p.y += dy\n",
    "    nothing\n",
    "end"
   ]
  },
  {
   "cell_type": "code",
   "execution_count": 91,
   "id": "4c4fd309-c185-4fd7-b3a7-638fc54e7663",
   "metadata": {
    "execution": {
     "iopub.execute_input": "2021-04-24T03:31:17.093000-07:00",
     "iopub.status.busy": "2021-04-24T03:31:17.093000-07:00",
     "iopub.status.idle": "2021-04-24T03:31:17.119000-07:00",
     "shell.execute_reply": "2021-04-24T03:31:17.112000-07:00"
    },
    "tags": []
   },
   "outputs": [],
   "source": [
    "movepoint!(p1,2,3)"
   ]
  },
  {
   "cell_type": "code",
   "execution_count": 92,
   "id": "b99ee2d8-c4cb-4f5a-a4e0-c4ab29c7cd8f",
   "metadata": {
    "execution": {
     "iopub.execute_input": "2021-04-24T03:31:17.119000-07:00",
     "iopub.status.busy": "2021-04-24T03:31:17.119000-07:00",
     "iopub.status.idle": "2021-04-24T03:31:17.120000-07:00",
     "shell.execute_reply": "2021-04-24T03:31:17.120000-07:00"
    },
    "tags": []
   },
   "outputs": [
    {
     "data": {
      "text/plain": [
       "MPoint(3, 5)"
      ]
     },
     "execution_count": 92,
     "metadata": {},
     "output_type": "execute_result"
    }
   ],
   "source": [
    "p1"
   ]
  },
  {
   "cell_type": "markdown",
   "id": "e22dc9ad-d246-4cff-be41-6444627e3d11",
   "metadata": {},
   "source": [
    "## Instances as Return Values"
   ]
  },
  {
   "cell_type": "code",
   "execution_count": 93,
   "id": "84b54d2c-2ccc-440b-afb9-cc646a4948da",
   "metadata": {
    "execution": {
     "iopub.execute_input": "2021-04-24T03:31:17.120000-07:00",
     "iopub.status.busy": "2021-04-24T03:31:17.120000-07:00",
     "iopub.status.idle": "2021-04-24T03:31:17.122000-07:00",
     "shell.execute_reply": "2021-04-24T03:31:17.121000-07:00"
    },
    "tags": []
   },
   "outputs": [
    {
     "data": {
      "text/plain": [
       "findcenter (generic function with 1 method)"
      ]
     },
     "execution_count": 93,
     "metadata": {},
     "output_type": "execute_result"
    }
   ],
   "source": [
    "function findcenter(rect)\n",
    "    Point(rect.corner.x + rect.width/2, rect.corner.y + rect.height/2)\n",
    "end"
   ]
  },
  {
   "cell_type": "code",
   "execution_count": 94,
   "id": "f4c429b7-df07-473d-b40b-94037ab5a6a6",
   "metadata": {
    "execution": {
     "iopub.execute_input": "2021-04-24T03:31:17.122000-07:00",
     "iopub.status.busy": "2021-04-24T03:31:17.122000-07:00",
     "iopub.status.idle": "2021-04-24T03:31:17.143000-07:00",
     "shell.execute_reply": "2021-04-24T03:31:17.143000-07:00"
    },
    "tags": []
   },
   "outputs": [
    {
     "data": {
      "text/plain": [
       "Point(50.0, 100.0)"
      ]
     },
     "execution_count": 94,
     "metadata": {},
     "output_type": "execute_result"
    }
   ],
   "source": [
    "findcenter(box)"
   ]
  },
  {
   "cell_type": "markdown",
   "id": "da8cd665-93e3-4412-8c96-f6c0b0f53671",
   "metadata": {},
   "source": [
    "## Copying\n",
    "* `deepcopy(obj)` *it's useless for the **Immutable objects***"
   ]
  },
  {
   "cell_type": "code",
   "execution_count": 95,
   "id": "20a62654-3010-4043-bb6e-7e7ca999ee97",
   "metadata": {
    "execution": {
     "iopub.execute_input": "2021-04-24T03:31:17.143000-07:00",
     "iopub.status.busy": "2021-04-24T03:31:17.143000-07:00",
     "iopub.status.idle": "2021-04-24T03:31:17.144000-07:00",
     "shell.execute_reply": "2021-04-24T03:31:17.144000-07:00"
    },
    "tags": []
   },
   "outputs": [
    {
     "data": {
      "text/plain": [
       "MPoint(1, 2)"
      ]
     },
     "execution_count": 95,
     "metadata": {},
     "output_type": "execute_result"
    }
   ],
   "source": [
    "p1 = MPoint(1,2)\n",
    "p2 = deepcopy(p1)"
   ]
  },
  {
   "cell_type": "markdown",
   "id": "d3f0d821-11ea-4d95-9787-32b6cd715236",
   "metadata": {},
   "source": [
    "* default behavior of `==` is the same as `===`, Julia doesn't know what should be considered equivalent"
   ]
  },
  {
   "cell_type": "code",
   "execution_count": 96,
   "id": "5fd97915-565a-422e-8314-fd71d056e532",
   "metadata": {
    "execution": {
     "iopub.execute_input": "2021-04-24T03:31:17.147000-07:00",
     "iopub.status.busy": "2021-04-24T03:31:17.145000-07:00",
     "iopub.status.idle": "2021-04-24T03:31:17.148000-07:00",
     "shell.execute_reply": "2021-04-24T03:31:17.148000-07:00"
    },
    "tags": []
   },
   "outputs": [
    {
     "data": {
      "text/plain": [
       "false"
      ]
     },
     "execution_count": 96,
     "metadata": {},
     "output_type": "execute_result"
    }
   ],
   "source": [
    "p2 == p1 # Julia doesn't know what should be considered equivalent"
   ]
  },
  {
   "cell_type": "code",
   "execution_count": 97,
   "id": "92d12b61-c00d-45cd-978a-cf5d6bee70fd",
   "metadata": {
    "execution": {
     "iopub.execute_input": "2021-04-24T03:31:17.148000-07:00",
     "iopub.status.busy": "2021-04-24T03:31:17.148000-07:00",
     "iopub.status.idle": "2021-04-24T03:31:17.149000-07:00",
     "shell.execute_reply": "2021-04-24T03:31:17.149000-07:00"
    },
    "tags": []
   },
   "outputs": [
    {
     "data": {
      "text/plain": [
       "false"
      ]
     },
     "execution_count": 97,
     "metadata": {},
     "output_type": "execute_result"
    }
   ],
   "source": [
    "p2 === p1"
   ]
  },
  {
   "cell_type": "code",
   "execution_count": 98,
   "id": "aaba84f3-3194-4caa-9b13-899505f13410",
   "metadata": {
    "execution": {
     "iopub.execute_input": "2021-04-24T03:31:17.149000-07:00",
     "iopub.status.busy": "2021-04-24T03:31:17.149000-07:00",
     "iopub.status.idle": "2021-04-24T03:31:17.150000-07:00",
     "shell.execute_reply": "2021-04-24T03:31:17.150000-07:00"
    },
    "tags": []
   },
   "outputs": [
    {
     "data": {
      "text/plain": [
       "Point(1, 2)"
      ]
     },
     "execution_count": 98,
     "metadata": {},
     "output_type": "execute_result"
    }
   ],
   "source": [
    "p1 = Point(1,2)\n",
    "p2 = deepcopy(p1)"
   ]
  },
  {
   "cell_type": "code",
   "execution_count": 99,
   "id": "3512b212-8453-4085-9953-0974e7d6e6c1",
   "metadata": {
    "execution": {
     "iopub.execute_input": "2021-04-24T03:31:17.150000-07:00",
     "iopub.status.busy": "2021-04-24T03:31:17.150000-07:00",
     "iopub.status.idle": "2021-04-24T03:31:17.152000-07:00",
     "shell.execute_reply": "2021-04-24T03:31:17.152000-07:00"
    },
    "tags": []
   },
   "outputs": [
    {
     "data": {
      "text/plain": [
       "true"
      ]
     },
     "execution_count": 99,
     "metadata": {},
     "output_type": "execute_result"
    }
   ],
   "source": [
    "p2 == p1"
   ]
  },
  {
   "cell_type": "code",
   "execution_count": 100,
   "id": "b4df4b85-3631-4b37-97f3-1a99a353963e",
   "metadata": {
    "execution": {
     "iopub.execute_input": "2021-04-24T03:31:17.152000-07:00",
     "iopub.status.busy": "2021-04-24T03:31:17.152000-07:00",
     "iopub.status.idle": "2021-04-24T03:31:17.153000-07:00",
     "shell.execute_reply": "2021-04-24T03:31:17.153000-07:00"
    },
    "tags": []
   },
   "outputs": [
    {
     "data": {
      "text/plain": [
       "true"
      ]
     },
     "execution_count": 100,
     "metadata": {},
     "output_type": "execute_result"
    }
   ],
   "source": [
    "p2 === p1"
   ]
  },
  {
   "cell_type": "markdown",
   "id": "db7f8419-0d26-445d-931b-0d2efc7a3274",
   "metadata": {},
   "source": [
    "## Debugging\n",
    "* `isa`"
   ]
  },
  {
   "cell_type": "code",
   "execution_count": 101,
   "id": "be838ed5-4d88-4c82-af82-b8e37703ff46",
   "metadata": {
    "execution": {
     "iopub.execute_input": "2021-04-24T03:34:05.307000-07:00",
     "iopub.status.busy": "2021-04-24T03:34:05.307000-07:00",
     "iopub.status.idle": "2021-04-24T03:34:05.308000-07:00",
     "shell.execute_reply": "2021-04-24T03:34:05.308000-07:00"
    },
    "tags": []
   },
   "outputs": [
    {
     "data": {
      "text/plain": [
       "true"
      ]
     },
     "execution_count": 101,
     "metadata": {},
     "output_type": "execute_result"
    }
   ],
   "source": [
    "p isa Point"
   ]
  },
  {
   "cell_type": "markdown",
   "id": "923469bb-f0e6-4f59-9c68-16afb481dfa2",
   "metadata": {},
   "source": [
    "* `fieldnames(Object_type)`"
   ]
  },
  {
   "cell_type": "code",
   "execution_count": 104,
   "id": "7d653c52-1d93-4ff4-8778-ebfdbd4cc5cb",
   "metadata": {
    "execution": {
     "iopub.execute_input": "2021-04-24T03:34:59.381000-07:00",
     "iopub.status.busy": "2021-04-24T03:34:59.380000-07:00",
     "iopub.status.idle": "2021-04-24T03:34:59.757000-07:00",
     "shell.execute_reply": "2021-04-24T03:34:59.757000-07:00"
    },
    "tags": []
   },
   "outputs": [
    {
     "data": {
      "text/plain": [
       "(:x, :y)"
      ]
     },
     "execution_count": 104,
     "metadata": {},
     "output_type": "execute_result"
    }
   ],
   "source": [
    "fieldnames(Point)"
   ]
  },
  {
   "cell_type": "markdown",
   "id": "60b0cd34-0a6c-4f79-bceb-b1858545236b",
   "metadata": {},
   "source": [
    "* `isdefined(object, attributie)`"
   ]
  },
  {
   "cell_type": "code",
   "execution_count": 109,
   "id": "453180b8-a14b-4949-b137-958b97b6d22c",
   "metadata": {
    "execution": {
     "iopub.execute_input": "2021-04-24T03:36:21.081000-07:00",
     "iopub.status.busy": "2021-04-24T03:36:21.080000-07:00",
     "iopub.status.idle": "2021-04-24T03:36:21.082000-07:00",
     "shell.execute_reply": "2021-04-24T03:36:21.082000-07:00"
    },
    "tags": []
   },
   "outputs": [
    {
     "data": {
      "text/plain": [
       "true"
      ]
     },
     "execution_count": 109,
     "metadata": {},
     "output_type": "execute_result"
    }
   ],
   "source": [
    "isdefined(p,:x)"
   ]
  },
  {
   "cell_type": "code",
   "execution_count": 110,
   "id": "fca8a3a0-75e4-43fa-a792-e8d1f86826a7",
   "metadata": {
    "execution": {
     "iopub.execute_input": "2021-04-24T03:36:29.141000-07:00",
     "iopub.status.busy": "2021-04-24T03:36:29.141000-07:00",
     "iopub.status.idle": "2021-04-24T03:36:29.142000-07:00",
     "shell.execute_reply": "2021-04-24T03:36:29.142000-07:00"
    },
    "tags": []
   },
   "outputs": [
    {
     "data": {
      "text/plain": [
       "false"
      ]
     },
     "execution_count": 110,
     "metadata": {},
     "output_type": "execute_result"
    }
   ],
   "source": [
    "isdefined(p,:z)"
   ]
  }
 ],
 "metadata": {
  "kernelspec": {
   "display_name": "Julia 1.6.0",
   "language": "julia",
   "name": "julia-1.6"
  },
  "language_info": {
   "file_extension": ".jl",
   "mimetype": "application/julia",
   "name": "julia",
   "version": "1.6.0"
  }
 },
 "nbformat": 4,
 "nbformat_minor": 5
}
