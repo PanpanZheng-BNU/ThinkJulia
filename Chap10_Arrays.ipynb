{
 "cells": [
  {
   "cell_type": "markdown",
   "id": "a8b585be-d980-43a3-9dab-8f9393179141",
   "metadata": {},
   "source": [
    "# Arrays\n",
    "* elements\n",
    "* items"
   ]
  },
  {
   "cell_type": "code",
   "execution_count": 1,
   "id": "b7897e08-2858-4e36-b4fa-8944459f6134",
   "metadata": {
    "execution": {
     "iopub.execute_input": "2021-04-22T05:05:34.500000-07:00",
     "iopub.status.busy": "2021-04-22T05:05:33.847000-07:00",
     "iopub.status.idle": "2021-04-22T05:05:36.112000-07:00",
     "shell.execute_reply": "2021-04-22T05:05:36.084000-07:00"
    },
    "tags": []
   },
   "outputs": [
    {
     "data": {
      "text/plain": [
       "4-element Vector{Int64}:\n",
       " 10\n",
       " 20\n",
       " 30\n",
       " 40"
      ]
     },
     "execution_count": 1,
     "metadata": {},
     "output_type": "execute_result"
    }
   ],
   "source": [
    "[10,20,30,40]"
   ]
  },
  {
   "cell_type": "code",
   "execution_count": 2,
   "id": "4d5f7d82-97b6-4e39-9106-2d3ad036d236",
   "metadata": {
    "execution": {
     "iopub.execute_input": "2021-04-22T05:05:36.114000-07:00",
     "iopub.status.busy": "2021-04-22T05:05:36.113000-07:00",
     "iopub.status.idle": "2021-04-22T05:05:36.839000-07:00",
     "shell.execute_reply": "2021-04-22T05:05:36.839000-07:00"
    },
    "tags": []
   },
   "outputs": [
    {
     "data": {
      "text/plain": [
       "3-element Vector{String}:\n",
       " \"crunchy frog\"\n",
       " \"ram bladder\"\n",
       " \"lark vomit\""
      ]
     },
     "execution_count": 2,
     "metadata": {},
     "output_type": "execute_result"
    }
   ],
   "source": [
    "[\"crunchy frog\", \"ram bladder\", \"lark vomit\"]"
   ]
  },
  {
   "cell_type": "code",
   "execution_count": 3,
   "id": "027d6ddc-1149-46d0-bb8b-e01a1883de74",
   "metadata": {
    "execution": {
     "iopub.execute_input": "2021-04-22T05:05:36.839000-07:00",
     "iopub.status.busy": "2021-04-22T05:05:36.839000-07:00",
     "iopub.status.idle": "2021-04-22T05:05:37.731000-07:00",
     "shell.execute_reply": "2021-04-22T05:05:37.731000-07:00"
    },
    "tags": []
   },
   "outputs": [
    {
     "data": {
      "text/plain": [
       "4-element Vector{Any}:\n",
       "  \"spam\"\n",
       " 2.0\n",
       " 5\n",
       "  [10, 20]"
      ]
     },
     "execution_count": 3,
     "metadata": {},
     "output_type": "execute_result"
    }
   ],
   "source": [
    "[\"spam\", 2.0, 5, [10,20]]"
   ]
  },
  {
   "cell_type": "code",
   "execution_count": 4,
   "id": "ddca4bda-9ecc-476b-af3e-f3723bb7074f",
   "metadata": {
    "execution": {
     "iopub.execute_input": "2021-04-22T05:05:37.731000-07:00",
     "iopub.status.busy": "2021-04-22T05:05:37.731000-07:00",
     "iopub.status.idle": "2021-04-22T05:05:37.741000-07:00",
     "shell.execute_reply": "2021-04-22T05:05:37.741000-07:00"
    },
    "tags": []
   },
   "outputs": [
    {
     "data": {
      "text/plain": [
       "Any[]"
      ]
     },
     "execution_count": 4,
     "metadata": {},
     "output_type": "execute_result"
    }
   ],
   "source": [
    "[]"
   ]
  },
  {
   "cell_type": "markdown",
   "id": "41bef59a-c39a-44a3-bc82-dc0f2125fe35",
   "metadata": {},
   "source": [
    "## Mutable"
   ]
  },
  {
   "cell_type": "code",
   "execution_count": 5,
   "id": "73ec5eb4-121f-4c82-ba0f-125a2c3c52fa",
   "metadata": {
    "execution": {
     "iopub.execute_input": "2021-04-22T05:05:37.741000-07:00",
     "iopub.status.busy": "2021-04-22T05:05:37.741000-07:00",
     "iopub.status.idle": "2021-04-22T05:05:37.759000-07:00",
     "shell.execute_reply": "2021-04-22T05:05:37.759000-07:00"
    },
    "tags": []
   },
   "outputs": [],
   "source": [
    "cheeses = [\"Cheddar\", \"Edam\",　\"Gouda\"];"
   ]
  },
  {
   "cell_type": "code",
   "execution_count": 6,
   "id": "0ca3a9f9-56b7-420b-83a9-539a750b576e",
   "metadata": {
    "execution": {
     "iopub.execute_input": "2021-04-22T05:05:37.759000-07:00",
     "iopub.status.busy": "2021-04-22T05:05:37.759000-07:00",
     "iopub.status.idle": "2021-04-22T05:05:38.002000-07:00",
     "shell.execute_reply": "2021-04-22T05:05:38.001000-07:00"
    },
    "tags": []
   },
   "outputs": [
    {
     "data": {
      "text/plain": [
       "\"Cheddar\""
      ]
     },
     "execution_count": 6,
     "metadata": {},
     "output_type": "execute_result"
    }
   ],
   "source": [
    "cheeses[1]"
   ]
  },
  {
   "cell_type": "code",
   "execution_count": 7,
   "id": "40aa257a-5e45-4e2e-a900-7af1de29b6eb",
   "metadata": {
    "execution": {
     "iopub.execute_input": "2021-04-22T05:05:38.004000-07:00",
     "iopub.status.busy": "2021-04-22T05:05:38.003000-07:00",
     "iopub.status.idle": "2021-04-22T05:05:38.006000-07:00",
     "shell.execute_reply": "2021-04-22T05:05:38.006000-07:00"
    },
    "tags": []
   },
   "outputs": [
    {
     "data": {
      "text/plain": [
       "\"Mozzarella\""
      ]
     },
     "execution_count": 7,
     "metadata": {},
     "output_type": "execute_result"
    }
   ],
   "source": [
    "cheeses[1] = \"Mozzarella\""
   ]
  },
  {
   "cell_type": "code",
   "execution_count": 8,
   "id": "8acaa35a-8a1b-418b-9938-b7505bbaf371",
   "metadata": {
    "execution": {
     "iopub.execute_input": "2021-04-22T05:05:38.007000-07:00",
     "iopub.status.busy": "2021-04-22T05:05:38.006000-07:00",
     "iopub.status.idle": "2021-04-22T05:05:38.008000-07:00",
     "shell.execute_reply": "2021-04-22T05:05:38.007000-07:00"
    },
    "tags": []
   },
   "outputs": [
    {
     "data": {
      "text/plain": [
       "\"Mozzarella\""
      ]
     },
     "execution_count": 8,
     "metadata": {},
     "output_type": "execute_result"
    }
   ],
   "source": [
    "cheeses[1]"
   ]
  },
  {
   "cell_type": "code",
   "execution_count": 9,
   "id": "d1631c07-553c-4b32-a3e2-28ee96aef493",
   "metadata": {
    "execution": {
     "iopub.execute_input": "2021-04-22T05:05:38.008000-07:00",
     "iopub.status.busy": "2021-04-22T05:05:38.008000-07:00",
     "iopub.status.idle": "2021-04-22T05:05:38.337000-07:00",
     "shell.execute_reply": "2021-04-22T05:05:38.337000-07:00"
    },
    "tags": []
   },
   "outputs": [
    {
     "data": {
      "text/plain": [
       "true"
      ]
     },
     "execution_count": 9,
     "metadata": {},
     "output_type": "execute_result"
    }
   ],
   "source": [
    "\"Edam\" ∈ cheeses"
   ]
  },
  {
   "cell_type": "code",
   "execution_count": 10,
   "id": "cb66e12a-cf4a-45bd-84e5-43b1c27aa676",
   "metadata": {
    "execution": {
     "iopub.execute_input": "2021-04-22T05:05:38.339000-07:00",
     "iopub.status.busy": "2021-04-22T05:05:38.338000-07:00",
     "iopub.status.idle": "2021-04-22T05:05:38.341000-07:00",
     "shell.execute_reply": "2021-04-22T05:05:38.341000-07:00"
    },
    "tags": []
   },
   "outputs": [
    {
     "data": {
      "text/plain": [
       "false"
      ]
     },
     "execution_count": 10,
     "metadata": {},
     "output_type": "execute_result"
    }
   ],
   "source": [
    "\"Brie\" ∈ cheeses"
   ]
  },
  {
   "cell_type": "code",
   "execution_count": 11,
   "id": "be55037a-896a-4fb4-a51e-db658934f8af",
   "metadata": {
    "execution": {
     "iopub.execute_input": "2021-04-22T05:05:38.342000-07:00",
     "iopub.status.busy": "2021-04-22T05:05:38.341000-07:00",
     "iopub.status.idle": "2021-04-22T05:05:38.356000-07:00",
     "shell.execute_reply": "2021-04-22T05:05:38.356000-07:00"
    },
    "tags": []
   },
   "outputs": [
    {
     "data": {
      "text/plain": [
       "false"
      ]
     },
     "execution_count": 11,
     "metadata": {},
     "output_type": "execute_result"
    }
   ],
   "source": [
    "\"Edam\" ∉ cheeses"
   ]
  },
  {
   "cell_type": "code",
   "execution_count": 12,
   "id": "0b2a00f0-f051-4313-8eb0-b9d7b2ddd221",
   "metadata": {
    "execution": {
     "iopub.execute_input": "2021-04-22T05:05:38.358000-07:00",
     "iopub.status.busy": "2021-04-22T05:05:38.357000-07:00",
     "iopub.status.idle": "2021-04-22T05:05:38.383000-07:00",
     "shell.execute_reply": "2021-04-22T05:05:38.383000-07:00"
    },
    "tags": []
   },
   "outputs": [
    {
     "name": "stdout",
     "output_type": "stream",
     "text": [
      "Mozzarella\n",
      "Edam\n",
      "Gouda\n"
     ]
    }
   ],
   "source": [
    "for cheese in cheeses\n",
    "    println(cheese)\n",
    "end"
   ]
  },
  {
   "cell_type": "code",
   "execution_count": 13,
   "id": "37e86602-58af-4144-ac82-979baed2d0b8",
   "metadata": {
    "execution": {
     "iopub.execute_input": "2021-04-22T05:05:38.385000-07:00",
     "iopub.status.busy": "2021-04-22T05:05:38.384000-07:00",
     "iopub.status.idle": "2021-04-22T05:05:38.389000-07:00",
     "shell.execute_reply": "2021-04-22T05:05:38.389000-07:00"
    },
    "tags": []
   },
   "outputs": [
    {
     "data": {
      "text/plain": [
       "2-element Vector{Int64}:\n",
       "  42\n",
       " 123"
      ]
     },
     "execution_count": 13,
     "metadata": {},
     "output_type": "execute_result"
    }
   ],
   "source": [
    "numbers = [42,123]"
   ]
  },
  {
   "cell_type": "markdown",
   "id": "2038c9a8-1f60-4e57-8f6f-b3df71c08085",
   "metadata": {},
   "source": [
    "* `eachindex()`"
   ]
  },
  {
   "cell_type": "code",
   "execution_count": 14,
   "id": "b36eb4b8-75b6-4d76-8554-b53e77b5b486",
   "metadata": {
    "execution": {
     "iopub.execute_input": "2021-04-22T05:05:38.390000-07:00",
     "iopub.status.busy": "2021-04-22T05:05:38.390000-07:00",
     "iopub.status.idle": "2021-04-22T05:05:38.428000-07:00",
     "shell.execute_reply": "2021-04-22T05:05:38.427000-07:00"
    },
    "tags": []
   },
   "outputs": [],
   "source": [
    "for i in eachindex(numbers)\n",
    "    numbers[i] ^= 2\n",
    "end"
   ]
  },
  {
   "cell_type": "code",
   "execution_count": 15,
   "id": "90611131-5bdf-4ecd-9dca-965fa287d5e7",
   "metadata": {
    "execution": {
     "iopub.execute_input": "2021-04-22T05:05:38.430000-07:00",
     "iopub.status.busy": "2021-04-22T05:05:38.429000-07:00",
     "iopub.status.idle": "2021-04-22T05:05:38.434000-07:00",
     "shell.execute_reply": "2021-04-22T05:05:38.433000-07:00"
    },
    "tags": []
   },
   "outputs": [
    {
     "data": {
      "text/plain": [
       "2-element Vector{Int64}:\n",
       "  1764\n",
       " 15129"
      ]
     },
     "execution_count": 15,
     "metadata": {},
     "output_type": "execute_result"
    }
   ],
   "source": [
    "numbers"
   ]
  },
  {
   "cell_type": "code",
   "execution_count": 16,
   "id": "03695ba6-43d6-4673-aa82-39334c0e0786",
   "metadata": {
    "execution": {
     "iopub.execute_input": "2021-04-22T05:05:38.435000-07:00",
     "iopub.status.busy": "2021-04-22T05:05:38.435000-07:00",
     "iopub.status.idle": "2021-04-22T05:05:38.448000-07:00",
     "shell.execute_reply": "2021-04-22T05:05:38.447000-07:00"
    },
    "tags": []
   },
   "outputs": [],
   "source": [
    "for x in []\n",
    "    println(\"This can never happen,\")\n",
    "end"
   ]
  },
  {
   "cell_type": "code",
   "execution_count": 17,
   "id": "ed01f453-99ab-4758-b2c0-3089928a4d1c",
   "metadata": {
    "execution": {
     "iopub.execute_input": "2021-04-22T05:05:38.450000-07:00",
     "iopub.status.busy": "2021-04-22T05:05:38.449000-07:00",
     "iopub.status.idle": "2021-04-22T05:05:38.490000-07:00",
     "shell.execute_reply": "2021-04-22T05:05:38.489000-07:00"
    },
    "tags": []
   },
   "outputs": [],
   "source": [
    "az = [Char(x) for x in 97:(97+5)];"
   ]
  },
  {
   "cell_type": "code",
   "execution_count": 18,
   "id": "dc888420-b2e4-4786-8344-e7492ab500df",
   "metadata": {
    "execution": {
     "iopub.execute_input": "2021-04-22T05:05:38.492000-07:00",
     "iopub.status.busy": "2021-04-22T05:05:38.491000-07:00",
     "iopub.status.idle": "2021-04-22T05:05:38.770000-07:00",
     "shell.execute_reply": "2021-04-22T05:05:38.770000-07:00"
    },
    "tags": []
   },
   "outputs": [
    {
     "name": "stdout",
     "output_type": "stream",
     "text": [
      "['a', 'b', 'c']\n",
      "['c', 'd', 'e', 'f']\n"
     ]
    }
   ],
   "source": [
    "println(az[1:3])\n",
    "println(az[3:end])"
   ]
  },
  {
   "cell_type": "code",
   "execution_count": 19,
   "id": "26ffe72f-a6cc-4614-8504-91dff9f01a85",
   "metadata": {
    "execution": {
     "iopub.execute_input": "2021-04-22T05:05:38.771000-07:00",
     "iopub.status.busy": "2021-04-22T05:05:38.770000-07:00",
     "iopub.status.idle": "2021-04-22T05:05:38.791000-07:00",
     "shell.execute_reply": "2021-04-22T05:05:38.791000-07:00"
    },
    "tags": []
   },
   "outputs": [],
   "source": [
    "az[2:3] = ['x','y'];"
   ]
  },
  {
   "cell_type": "code",
   "execution_count": 20,
   "id": "7b44a0ce-5b7a-47e5-bc78-051993b0d64c",
   "metadata": {
    "execution": {
     "iopub.execute_input": "2021-04-22T05:05:38.792000-07:00",
     "iopub.status.busy": "2021-04-22T05:05:38.792000-07:00",
     "iopub.status.idle": "2021-04-22T05:05:38.798000-07:00",
     "shell.execute_reply": "2021-04-22T05:05:38.798000-07:00"
    },
    "tags": []
   },
   "outputs": [
    {
     "name": "stdout",
     "output_type": "stream",
     "text": [
      "['a', 'x', 'y']"
     ]
    }
   ],
   "source": [
    "print(az[1:3])"
   ]
  },
  {
   "cell_type": "markdown",
   "id": "8b1f66ce-01c2-4fc4-9b19-921dad2d98c7",
   "metadata": {},
   "source": [
    "## Array Liberary\n",
    "* `push!(array, element)`"
   ]
  },
  {
   "cell_type": "code",
   "execution_count": 21,
   "id": "95622dc8-66f9-42b3-a281-a8cbdb950e3d",
   "metadata": {
    "execution": {
     "iopub.execute_input": "2021-04-22T05:05:38.799000-07:00",
     "iopub.status.busy": "2021-04-22T05:05:38.798000-07:00",
     "iopub.status.idle": "2021-04-22T05:05:39.519000-07:00",
     "shell.execute_reply": "2021-04-22T05:05:39.518000-07:00"
    },
    "tags": []
   },
   "outputs": [
    {
     "data": {
      "text/plain": [
       "3-element Vector{Char}:\n",
       " 'a': ASCII/Unicode U+0061 (category Ll: Letter, lowercase)\n",
       " 'b': ASCII/Unicode U+0062 (category Ll: Letter, lowercase)\n",
       " 'c': ASCII/Unicode U+0063 (category Ll: Letter, lowercase)"
      ]
     },
     "execution_count": 21,
     "metadata": {},
     "output_type": "execute_result"
    }
   ],
   "source": [
    "t = ['a','b','c']"
   ]
  },
  {
   "cell_type": "code",
   "execution_count": 22,
   "id": "440188b2-3543-490b-b04e-de18bdf40e76",
   "metadata": {
    "execution": {
     "iopub.execute_input": "2021-04-22T05:05:39.520000-07:00",
     "iopub.status.busy": "2021-04-22T05:05:39.520000-07:00",
     "iopub.status.idle": "2021-04-22T05:05:39.530000-07:00",
     "shell.execute_reply": "2021-04-22T05:05:39.529000-07:00"
    },
    "tags": []
   },
   "outputs": [
    {
     "data": {
      "text/plain": [
       "4-element Vector{Char}:\n",
       " 'a': ASCII/Unicode U+0061 (category Ll: Letter, lowercase)\n",
       " 'b': ASCII/Unicode U+0062 (category Ll: Letter, lowercase)\n",
       " 'c': ASCII/Unicode U+0063 (category Ll: Letter, lowercase)\n",
       " 'd': ASCII/Unicode U+0064 (category Ll: Letter, lowercase)"
      ]
     },
     "execution_count": 22,
     "metadata": {},
     "output_type": "execute_result"
    }
   ],
   "source": [
    "push!(t,'d')"
   ]
  },
  {
   "cell_type": "code",
   "execution_count": 23,
   "id": "e35d5ee4-3c34-4a66-941d-de8b5644ac2a",
   "metadata": {
    "execution": {
     "iopub.execute_input": "2021-04-22T05:05:39.531000-07:00",
     "iopub.status.busy": "2021-04-22T05:05:39.531000-07:00",
     "iopub.status.idle": "2021-04-22T05:05:39.535000-07:00",
     "shell.execute_reply": "2021-04-22T05:05:39.534000-07:00"
    },
    "tags": []
   },
   "outputs": [
    {
     "data": {
      "text/plain": [
       "4-element Vector{Char}:\n",
       " 'a': ASCII/Unicode U+0061 (category Ll: Letter, lowercase)\n",
       " 'b': ASCII/Unicode U+0062 (category Ll: Letter, lowercase)\n",
       " 'c': ASCII/Unicode U+0063 (category Ll: Letter, lowercase)\n",
       " 'd': ASCII/Unicode U+0064 (category Ll: Letter, lowercase)"
      ]
     },
     "execution_count": 23,
     "metadata": {},
     "output_type": "execute_result"
    }
   ],
   "source": [
    "t"
   ]
  },
  {
   "cell_type": "markdown",
   "id": "1af33a30-1fb7-484a-8f6e-deea1fc4669e",
   "metadata": {},
   "source": [
    "* `append!(array,array)`"
   ]
  },
  {
   "cell_type": "code",
   "execution_count": 24,
   "id": "7a8f2c7e-20ba-4309-a8e1-62c24c550e5f",
   "metadata": {
    "execution": {
     "iopub.execute_input": "2021-04-22T05:05:39.535000-07:00",
     "iopub.status.busy": "2021-04-22T05:05:39.535000-07:00",
     "iopub.status.idle": "2021-04-22T05:05:39.537000-07:00",
     "shell.execute_reply": "2021-04-22T05:05:39.536000-07:00"
    },
    "tags": []
   },
   "outputs": [],
   "source": [
    "t1 = ['a','b','c'];\n",
    "t2 = ['d','e'];"
   ]
  },
  {
   "cell_type": "code",
   "execution_count": 25,
   "id": "67fbbb2a-5b5d-4280-9178-4631bf7361fa",
   "metadata": {
    "execution": {
     "iopub.execute_input": "2021-04-22T05:05:39.537000-07:00",
     "iopub.status.busy": "2021-04-22T05:05:39.537000-07:00",
     "iopub.status.idle": "2021-04-22T05:05:39.540000-07:00",
     "shell.execute_reply": "2021-04-22T05:05:39.540000-07:00"
    },
    "tags": []
   },
   "outputs": [
    {
     "data": {
      "text/plain": [
       "5-element Vector{Char}:\n",
       " 'a': ASCII/Unicode U+0061 (category Ll: Letter, lowercase)\n",
       " 'b': ASCII/Unicode U+0062 (category Ll: Letter, lowercase)\n",
       " 'c': ASCII/Unicode U+0063 (category Ll: Letter, lowercase)\n",
       " 'd': ASCII/Unicode U+0064 (category Ll: Letter, lowercase)\n",
       " 'e': ASCII/Unicode U+0065 (category Ll: Letter, lowercase)"
      ]
     },
     "execution_count": 25,
     "metadata": {},
     "output_type": "execute_result"
    }
   ],
   "source": [
    "append!(t1,t2)"
   ]
  },
  {
   "cell_type": "code",
   "execution_count": 26,
   "id": "d18eedc1-baa4-4b9e-bf07-d3d6d064af02",
   "metadata": {
    "execution": {
     "iopub.execute_input": "2021-04-22T05:05:39.541000-07:00",
     "iopub.status.busy": "2021-04-22T05:05:39.540000-07:00",
     "iopub.status.idle": "2021-04-22T05:05:39.542000-07:00",
     "shell.execute_reply": "2021-04-22T05:05:39.541000-07:00"
    },
    "tags": []
   },
   "outputs": [
    {
     "name": "stdout",
     "output_type": "stream",
     "text": [
      "['a', 'b', 'c', 'd', 'e']"
     ]
    }
   ],
   "source": [
    "print(t1)"
   ]
  },
  {
   "cell_type": "code",
   "execution_count": 27,
   "id": "a2848e36-dfac-41d7-8f20-61cd10c6befc",
   "metadata": {
    "execution": {
     "iopub.execute_input": "2021-04-22T05:05:39.542000-07:00",
     "iopub.status.busy": "2021-04-22T05:05:39.542000-07:00",
     "iopub.status.idle": "2021-04-22T05:05:39.542000-07:00",
     "shell.execute_reply": "2021-04-22T05:05:39.542000-07:00"
    },
    "tags": []
   },
   "outputs": [
    {
     "name": "stdout",
     "output_type": "stream",
     "text": [
      "['d', 'e']"
     ]
    }
   ],
   "source": [
    "print(t2)"
   ]
  },
  {
   "cell_type": "markdown",
   "id": "47c74da6-850d-45f8-b725-bf63090baf34",
   "metadata": {},
   "source": [
    "* `sort!(array)`"
   ]
  },
  {
   "cell_type": "code",
   "execution_count": 28,
   "id": "0fd21ffd-9485-4bd6-a524-0775edd98bea",
   "metadata": {
    "execution": {
     "iopub.execute_input": "2021-04-22T05:05:39.543000-07:00",
     "iopub.status.busy": "2021-04-22T05:05:39.542000-07:00",
     "iopub.status.idle": "2021-04-22T05:05:39.598000-07:00",
     "shell.execute_reply": "2021-04-22T05:05:39.597000-07:00"
    },
    "tags": []
   },
   "outputs": [
    {
     "data": {
      "text/plain": [
       "5-element Vector{Char}:\n",
       " 'a': ASCII/Unicode U+0061 (category Ll: Letter, lowercase)\n",
       " 'b': ASCII/Unicode U+0062 (category Ll: Letter, lowercase)\n",
       " 'c': ASCII/Unicode U+0063 (category Ll: Letter, lowercase)\n",
       " 'd': ASCII/Unicode U+0064 (category Ll: Letter, lowercase)\n",
       " 'e': ASCII/Unicode U+0065 (category Ll: Letter, lowercase)"
      ]
     },
     "execution_count": 28,
     "metadata": {},
     "output_type": "execute_result"
    }
   ],
   "source": [
    "t = ['d','c','e','b','a'];\n",
    "sort!(t)"
   ]
  },
  {
   "cell_type": "code",
   "execution_count": 29,
   "id": "1f965d52-3bc4-430a-9690-27cc66f3342f",
   "metadata": {
    "execution": {
     "iopub.execute_input": "2021-04-22T05:05:39.600000-07:00",
     "iopub.status.busy": "2021-04-22T05:05:39.599000-07:00",
     "iopub.status.idle": "2021-04-22T05:05:39.602000-07:00",
     "shell.execute_reply": "2021-04-22T05:05:39.602000-07:00"
    },
    "tags": []
   },
   "outputs": [
    {
     "name": "stdout",
     "output_type": "stream",
     "text": [
      "['a', 'b', 'c', 'd', 'e']"
     ]
    }
   ],
   "source": [
    "print(t)"
   ]
  },
  {
   "cell_type": "code",
   "execution_count": 30,
   "id": "3f5d0d7c-e18f-4544-961b-0e4629da17b1",
   "metadata": {
    "execution": {
     "iopub.execute_input": "2021-04-22T05:05:39.603000-07:00",
     "iopub.status.busy": "2021-04-22T05:05:39.603000-07:00",
     "iopub.status.idle": "2021-04-22T05:05:39.616000-07:00",
     "shell.execute_reply": "2021-04-22T05:05:39.615000-07:00"
    },
    "tags": []
   },
   "outputs": [
    {
     "data": {
      "text/plain": [
       "5-element Vector{Char}:\n",
       " 'a': ASCII/Unicode U+0061 (category Ll: Letter, lowercase)\n",
       " 'b': ASCII/Unicode U+0062 (category Ll: Letter, lowercase)\n",
       " 'c': ASCII/Unicode U+0063 (category Ll: Letter, lowercase)\n",
       " 'd': ASCII/Unicode U+0064 (category Ll: Letter, lowercase)\n",
       " 'e': ASCII/Unicode U+0065 (category Ll: Letter, lowercase)"
      ]
     },
     "execution_count": 30,
     "metadata": {},
     "output_type": "execute_result"
    }
   ],
   "source": [
    "t = ['d','c','e','b','a'];\n",
    "sort(t)"
   ]
  },
  {
   "cell_type": "code",
   "execution_count": 31,
   "id": "d94db0ab-e6c2-46ac-84a8-55a1a2a58544",
   "metadata": {
    "execution": {
     "iopub.execute_input": "2021-04-22T05:05:39.617000-07:00",
     "iopub.status.busy": "2021-04-22T05:05:39.617000-07:00",
     "iopub.status.idle": "2021-04-22T05:05:39.620000-07:00",
     "shell.execute_reply": "2021-04-22T05:05:39.620000-07:00"
    },
    "tags": []
   },
   "outputs": [
    {
     "name": "stdout",
     "output_type": "stream",
     "text": [
      "['d', 'c', 'e', 'b', 'a']"
     ]
    }
   ],
   "source": [
    "print(t)"
   ]
  },
  {
   "cell_type": "markdown",
   "id": "a9ed9e25-ff63-4b39-875c-a3f8f274757b",
   "metadata": {},
   "source": [
    "## Map, Filter, and Reduce\n",
    "* **reduce**: such as `sum()`"
   ]
  },
  {
   "cell_type": "code",
   "execution_count": 32,
   "id": "e81858cf-4eb4-492f-b589-d0041189370b",
   "metadata": {
    "execution": {
     "iopub.execute_input": "2021-04-22T05:05:39.621000-07:00",
     "iopub.status.busy": "2021-04-22T05:05:39.620000-07:00",
     "iopub.status.idle": "2021-04-22T05:05:39.675000-07:00",
     "shell.execute_reply": "2021-04-22T05:05:39.674000-07:00"
    },
    "tags": []
   },
   "outputs": [
    {
     "name": "stdout",
     "output_type": "stream",
     "text": [
      "5050\n"
     ]
    }
   ],
   "source": [
    "t = [x for x in 1:100];\n",
    "println(sum(t))"
   ]
  },
  {
   "cell_type": "markdown",
   "id": "bcb3f8c9-9f44-446c-bffc-27d8d274d32c",
   "metadata": {},
   "source": [
    "* **map**"
   ]
  },
  {
   "cell_type": "code",
   "execution_count": 33,
   "id": "c19d744e-8a54-4c03-84e2-9e70fba98b07",
   "metadata": {
    "execution": {
     "iopub.execute_input": "2021-04-22T05:05:39.676000-07:00",
     "iopub.status.busy": "2021-04-22T05:05:39.676000-07:00",
     "iopub.status.idle": "2021-04-22T05:05:40.479000-07:00",
     "shell.execute_reply": "2021-04-22T05:05:40.479000-07:00"
    },
    "tags": []
   },
   "outputs": [
    {
     "data": {
      "text/plain": [
       "100-element Vector{Float64}:\n",
       "  0.8414709848078965\n",
       "  0.9092974268256817\n",
       "  0.1411200080598672\n",
       " -0.7568024953079282\n",
       " -0.9589242746631385\n",
       " -0.27941549819892586\n",
       "  0.6569865987187891\n",
       "  0.9893582466233818\n",
       "  0.4121184852417566\n",
       " -0.5440211108893698\n",
       " -0.9999902065507035\n",
       " -0.5365729180004349\n",
       "  0.4201670368266409\n",
       "  ⋮\n",
       "  0.8600694058124532\n",
       "  0.8939966636005579\n",
       "  0.10598751175115685\n",
       " -0.7794660696158047\n",
       " -0.9482821412699473\n",
       " -0.24525198546765434\n",
       "  0.683261714736121\n",
       "  0.9835877454343449\n",
       "  0.3796077390275217\n",
       " -0.5733818719904229\n",
       " -0.9992068341863537\n",
       " -0.5063656411097588"
      ]
     },
     "execution_count": 33,
     "metadata": {},
     "output_type": "execute_result"
    }
   ],
   "source": [
    "t = [x for x in 1:100]\n",
    "map(x->sin(x),t)"
   ]
  },
  {
   "cell_type": "markdown",
   "id": "cef8cdef-e0d0-4b75-b896-5d9c06a0b209",
   "metadata": {},
   "source": [
    "## Dot Syntax"
   ]
  },
  {
   "cell_type": "code",
   "execution_count": 34,
   "id": "6c97afc6-205c-4a41-b599-e28b2d75c58b",
   "metadata": {
    "execution": {
     "iopub.execute_input": "2021-04-22T05:05:40.481000-07:00",
     "iopub.status.busy": "2021-04-22T05:05:40.480000-07:00",
     "iopub.status.idle": "2021-04-22T05:05:40.701000-07:00",
     "shell.execute_reply": "2021-04-22T05:05:40.701000-07:00"
    },
    "tags": []
   },
   "outputs": [
    {
     "name": "stdout",
     "output_type": "stream",
     "text": [
      "[1, 8, 27]"
     ]
    }
   ],
   "source": [
    "print([1,2,3].^3)"
   ]
  },
  {
   "cell_type": "code",
   "execution_count": 35,
   "id": "83d39237-e255-4f5f-b433-617c37a7997b",
   "metadata": {
    "execution": {
     "iopub.execute_input": "2021-04-22T05:05:40.702000-07:00",
     "iopub.status.busy": "2021-04-22T05:05:40.701000-07:00",
     "iopub.status.idle": "2021-04-22T05:05:41.010000-07:00",
     "shell.execute_reply": "2021-04-22T05:05:41.009000-07:00"
    },
    "tags": []
   },
   "outputs": [
    {
     "name": "stdout",
     "output_type": "stream",
     "text": [
      "[\"ABC\", \"DEF\", \"GHI\"]"
     ]
    }
   ],
   "source": [
    "print(uppercase.([\"abc\",\"def\",\"ghi\"]))"
   ]
  },
  {
   "cell_type": "markdown",
   "id": "b0f49c76-4427-4cd9-8a97-96875b35b19d",
   "metadata": {},
   "source": [
    "## Deleting and Inserting Elements\n",
    "### Deleting: \n",
    "* `splice!(array,index)`"
   ]
  },
  {
   "cell_type": "code",
   "execution_count": 36,
   "id": "b8c5bf09-e099-41c6-b6e6-1d951129b72f",
   "metadata": {
    "execution": {
     "iopub.execute_input": "2021-04-22T05:05:41.011000-07:00",
     "iopub.status.busy": "2021-04-22T05:05:41.011000-07:00",
     "iopub.status.idle": "2021-04-22T05:05:41.285000-07:00",
     "shell.execute_reply": "2021-04-22T05:05:41.284000-07:00"
    },
    "tags": []
   },
   "outputs": [
    {
     "data": {
      "text/plain": [
       "'b': ASCII/Unicode U+0062 (category Ll: Letter, lowercase)"
      ]
     },
     "execution_count": 36,
     "metadata": {},
     "output_type": "execute_result"
    }
   ],
   "source": [
    "t = ['a','b','c'];\n",
    "splice!(t,2)"
   ]
  },
  {
   "cell_type": "code",
   "execution_count": 37,
   "id": "8a79de22-a989-4e09-bf1e-2d67933ad3ff",
   "metadata": {
    "execution": {
     "iopub.execute_input": "2021-04-22T05:05:41.287000-07:00",
     "iopub.status.busy": "2021-04-22T05:05:41.286000-07:00",
     "iopub.status.idle": "2021-04-22T05:05:41.291000-07:00",
     "shell.execute_reply": "2021-04-22T05:05:41.291000-07:00"
    },
    "tags": []
   },
   "outputs": [
    {
     "data": {
      "text/plain": [
       "2-element Vector{Char}:\n",
       " 'a': ASCII/Unicode U+0061 (category Ll: Letter, lowercase)\n",
       " 'c': ASCII/Unicode U+0063 (category Ll: Letter, lowercase)"
      ]
     },
     "execution_count": 37,
     "metadata": {},
     "output_type": "execute_result"
    }
   ],
   "source": [
    "t"
   ]
  },
  {
   "cell_type": "markdown",
   "id": "17f12a7f-e0b8-4908-a141-81a062694c2e",
   "metadata": {},
   "source": [
    "* `pop!(array)` Delete the last element"
   ]
  },
  {
   "cell_type": "code",
   "execution_count": 38,
   "id": "c3e8262f-978c-44ef-a4a7-e809e8e3a2d4",
   "metadata": {
    "execution": {
     "iopub.execute_input": "2021-04-22T05:05:41.292000-07:00",
     "iopub.status.busy": "2021-04-22T05:05:41.292000-07:00",
     "iopub.status.idle": "2021-04-22T05:05:41.303000-07:00",
     "shell.execute_reply": "2021-04-22T05:05:41.303000-07:00"
    },
    "tags": []
   },
   "outputs": [
    {
     "data": {
      "text/plain": [
       "'c': ASCII/Unicode U+0063 (category Ll: Letter, lowercase)"
      ]
     },
     "execution_count": 38,
     "metadata": {},
     "output_type": "execute_result"
    }
   ],
   "source": [
    "t = ['a','b','c'];\n",
    "pop!(t)"
   ]
  },
  {
   "cell_type": "code",
   "execution_count": 39,
   "id": "bfe13dca-411a-4cf2-8acc-e9a633c784bf",
   "metadata": {
    "execution": {
     "iopub.execute_input": "2021-04-22T05:05:41.305000-07:00",
     "iopub.status.busy": "2021-04-22T05:05:41.304000-07:00",
     "iopub.status.idle": "2021-04-22T05:05:41.309000-07:00",
     "shell.execute_reply": "2021-04-22T05:05:41.309000-07:00"
    },
    "tags": []
   },
   "outputs": [
    {
     "data": {
      "text/plain": [
       "2-element Vector{Char}:\n",
       " 'a': ASCII/Unicode U+0061 (category Ll: Letter, lowercase)\n",
       " 'b': ASCII/Unicode U+0062 (category Ll: Letter, lowercase)"
      ]
     },
     "execution_count": 39,
     "metadata": {},
     "output_type": "execute_result"
    }
   ],
   "source": [
    "t"
   ]
  },
  {
   "cell_type": "markdown",
   "id": "2d136daa-e533-49f8-b409-ef4537357530",
   "metadata": {},
   "source": [
    "* `popfirst!(array)` delete the first element"
   ]
  },
  {
   "cell_type": "code",
   "execution_count": 40,
   "id": "a9e8730e-033e-477f-9339-3bebfcfd6a5b",
   "metadata": {
    "execution": {
     "iopub.execute_input": "2021-04-22T05:05:41.310000-07:00",
     "iopub.status.busy": "2021-04-22T05:05:41.310000-07:00",
     "iopub.status.idle": "2021-04-22T05:05:41.321000-07:00",
     "shell.execute_reply": "2021-04-22T05:05:41.320000-07:00"
    },
    "tags": []
   },
   "outputs": [
    {
     "data": {
      "text/plain": [
       "'a': ASCII/Unicode U+0061 (category Ll: Letter, lowercase)"
      ]
     },
     "execution_count": 40,
     "metadata": {},
     "output_type": "execute_result"
    }
   ],
   "source": [
    "t = ['a','b','c'];\n",
    "popfirst!(t)"
   ]
  },
  {
   "cell_type": "code",
   "execution_count": 41,
   "id": "26732f17-f0a0-4863-b0e4-b43982f51bcb",
   "metadata": {
    "execution": {
     "iopub.execute_input": "2021-04-22T05:05:41.323000-07:00",
     "iopub.status.busy": "2021-04-22T05:05:41.322000-07:00",
     "iopub.status.idle": "2021-04-22T05:05:41.327000-07:00",
     "shell.execute_reply": "2021-04-22T05:05:41.326000-07:00"
    },
    "tags": []
   },
   "outputs": [
    {
     "data": {
      "text/plain": [
       "2-element Vector{Char}:\n",
       " 'b': ASCII/Unicode U+0062 (category Ll: Letter, lowercase)\n",
       " 'c': ASCII/Unicode U+0063 (category Ll: Letter, lowercase)"
      ]
     },
     "execution_count": 41,
     "metadata": {},
     "output_type": "execute_result"
    }
   ],
   "source": [
    "t"
   ]
  },
  {
   "cell_type": "markdown",
   "id": "2c4d9819-1fa8-4e68-8095-b95a776156b5",
   "metadata": {},
   "source": [
    "* `deleteat!(array, index)`"
   ]
  },
  {
   "cell_type": "code",
   "execution_count": 42,
   "id": "78ac20c6-9236-4ec9-9148-062cfd5e47c3",
   "metadata": {
    "execution": {
     "iopub.execute_input": "2021-04-22T05:05:41.328000-07:00",
     "iopub.status.busy": "2021-04-22T05:05:41.328000-07:00",
     "iopub.status.idle": "2021-04-22T05:05:41.336000-07:00",
     "shell.execute_reply": "2021-04-22T05:05:41.335000-07:00"
    },
    "tags": []
   },
   "outputs": [
    {
     "name": "stdout",
     "output_type": "stream",
     "text": [
      "['a', 'c']"
     ]
    }
   ],
   "source": [
    "t = ['a', 'b', 'c'];\n",
    "print(deleteat!(t,2))"
   ]
  },
  {
   "cell_type": "code",
   "execution_count": 43,
   "id": "3ae46e4e-4530-4e2d-a23b-1c31cc1d84c5",
   "metadata": {
    "execution": {
     "iopub.execute_input": "2021-04-22T05:05:41.338000-07:00",
     "iopub.status.busy": "2021-04-22T05:05:41.337000-07:00",
     "iopub.status.idle": "2021-04-22T05:05:41.341000-07:00",
     "shell.execute_reply": "2021-04-22T05:05:41.341000-07:00"
    },
    "tags": []
   },
   "outputs": [
    {
     "data": {
      "text/plain": [
       "2-element Vector{Char}:\n",
       " 'a': ASCII/Unicode U+0061 (category Ll: Letter, lowercase)\n",
       " 'c': ASCII/Unicode U+0063 (category Ll: Letter, lowercase)"
      ]
     },
     "execution_count": 43,
     "metadata": {},
     "output_type": "execute_result"
    }
   ],
   "source": [
    "t"
   ]
  },
  {
   "cell_type": "markdown",
   "id": "952c57aa-a2d0-4e0f-a0c1-aed717268cbc",
   "metadata": {},
   "source": [
    "### Inserting\n",
    "* `push!(array, element)`\n",
    "* `pushfirst!(array,element)`"
   ]
  },
  {
   "cell_type": "code",
   "execution_count": 44,
   "id": "43e3cae0-8347-4571-9093-56bbf73fe3bb",
   "metadata": {
    "execution": {
     "iopub.execute_input": "2021-04-22T05:05:41.343000-07:00",
     "iopub.status.busy": "2021-04-22T05:05:41.342000-07:00",
     "iopub.status.idle": "2021-04-22T05:05:41.353000-07:00",
     "shell.execute_reply": "2021-04-22T05:05:41.353000-07:00"
    },
    "tags": []
   },
   "outputs": [
    {
     "data": {
      "text/plain": [
       "4-element Vector{Char}:\n",
       " '0': ASCII/Unicode U+0030 (category Nd: Number, decimal digit)\n",
       " 'a': ASCII/Unicode U+0061 (category Ll: Letter, lowercase)\n",
       " 'b': ASCII/Unicode U+0062 (category Ll: Letter, lowercase)\n",
       " 'c': ASCII/Unicode U+0063 (category Ll: Letter, lowercase)"
      ]
     },
     "execution_count": 44,
     "metadata": {},
     "output_type": "execute_result"
    }
   ],
   "source": [
    "t = ['a', 'b', 'c']\n",
    "pushfirst!(t,'0')"
   ]
  },
  {
   "cell_type": "code",
   "execution_count": 45,
   "id": "6d2efbe2-71fe-459e-8683-88f59beb5699",
   "metadata": {
    "execution": {
     "iopub.execute_input": "2021-04-22T05:05:41.355000-07:00",
     "iopub.status.busy": "2021-04-22T05:05:41.354000-07:00",
     "iopub.status.idle": "2021-04-22T05:05:41.359000-07:00",
     "shell.execute_reply": "2021-04-22T05:05:41.358000-07:00"
    },
    "tags": []
   },
   "outputs": [
    {
     "data": {
      "text/plain": [
       "4-element Vector{Char}:\n",
       " '0': ASCII/Unicode U+0030 (category Nd: Number, decimal digit)\n",
       " 'a': ASCII/Unicode U+0061 (category Ll: Letter, lowercase)\n",
       " 'b': ASCII/Unicode U+0062 (category Ll: Letter, lowercase)\n",
       " 'c': ASCII/Unicode U+0063 (category Ll: Letter, lowercase)"
      ]
     },
     "execution_count": 45,
     "metadata": {},
     "output_type": "execute_result"
    }
   ],
   "source": [
    "t"
   ]
  },
  {
   "cell_type": "markdown",
   "id": "94d7c17d-85b0-4410-a2ca-c377fe0c4581",
   "metadata": {},
   "source": [
    "* `insert!(array,index, element)`"
   ]
  },
  {
   "cell_type": "code",
   "execution_count": 46,
   "id": "7d6a5cda-60ff-429d-a2a5-8c10c4442bbe",
   "metadata": {
    "execution": {
     "iopub.execute_input": "2021-04-22T05:05:41.359000-07:00",
     "iopub.status.busy": "2021-04-22T05:05:41.359000-07:00",
     "iopub.status.idle": "2021-04-22T05:05:41.369000-07:00",
     "shell.execute_reply": "2021-04-22T05:05:41.369000-07:00"
    },
    "tags": []
   },
   "outputs": [
    {
     "name": "stdout",
     "output_type": "stream",
     "text": [
      "['a', 'b', 'c', 'd']"
     ]
    }
   ],
   "source": [
    "t = ['a','b','d'];\n",
    "insert!(t, 3,'c');\n",
    "print(t)"
   ]
  },
  {
   "cell_type": "markdown",
   "id": "dde3e59e-0479-4b3c-91c6-21b185b808dc",
   "metadata": {},
   "source": [
    "## Array and String\n",
    "### String 2 Array\n",
    "* `collect()`"
   ]
  },
  {
   "cell_type": "code",
   "execution_count": 47,
   "id": "4846d99b-a094-477e-b007-4d236c653e31",
   "metadata": {
    "execution": {
     "iopub.execute_input": "2021-04-22T05:05:41.371000-07:00",
     "iopub.status.busy": "2021-04-22T05:05:41.370000-07:00",
     "iopub.status.idle": "2021-04-22T05:05:41.374000-07:00",
     "shell.execute_reply": "2021-04-22T05:05:41.374000-07:00"
    },
    "tags": []
   },
   "outputs": [
    {
     "data": {
      "text/plain": [
       "4-element Vector{Char}:\n",
       " 'S': ASCII/Unicode U+0053 (category Lu: Letter, uppercase)\n",
       " 'p': ASCII/Unicode U+0070 (category Ll: Letter, lowercase)\n",
       " 'a': ASCII/Unicode U+0061 (category Ll: Letter, lowercase)\n",
       " 'm': ASCII/Unicode U+006D (category Ll: Letter, lowercase)"
      ]
     },
     "execution_count": 47,
     "metadata": {},
     "output_type": "execute_result"
    }
   ],
   "source": [
    "collect(\"Spam\")"
   ]
  },
  {
   "cell_type": "markdown",
   "id": "b2f5cf85-f574-4e9f-8e7d-4db07d985a5c",
   "metadata": {},
   "source": [
    "* `split(array, connector)`"
   ]
  },
  {
   "cell_type": "code",
   "execution_count": 48,
   "id": "853ed980-23f0-46ad-937a-b37e2ed39f2f",
   "metadata": {
    "execution": {
     "iopub.execute_input": "2021-04-22T05:05:41.376000-07:00",
     "iopub.status.busy": "2021-04-22T05:05:41.375000-07:00",
     "iopub.status.idle": "2021-04-22T05:05:41.628000-07:00",
     "shell.execute_reply": "2021-04-22T05:05:41.627000-07:00"
    },
    "tags": []
   },
   "outputs": [
    {
     "name": "stdout",
     "output_type": "stream",
     "text": [
      "SubString{String}[\"pining\", \"for\", \"the\", \"fjords\"]"
     ]
    }
   ],
   "source": [
    "str = \"pining for the fjords\";\n",
    "t = split(str);\n",
    "print(t)"
   ]
  },
  {
   "cell_type": "code",
   "execution_count": 49,
   "id": "6468b80f-a5ca-4e4c-90c5-de52c78a6254",
   "metadata": {
    "execution": {
     "iopub.execute_input": "2021-04-22T05:05:41.629000-07:00",
     "iopub.status.busy": "2021-04-22T05:05:41.629000-07:00",
     "iopub.status.idle": "2021-04-22T05:05:41.633000-07:00",
     "shell.execute_reply": "2021-04-22T05:05:41.633000-07:00"
    },
    "tags": []
   },
   "outputs": [
    {
     "name": "stdout",
     "output_type": "stream",
     "text": [
      "SubString{String}[\"spam1\", \"spam2\", \"spam\"]"
     ]
    }
   ],
   "source": [
    "str = \"spam1-spam2-spam\";\n",
    "t = split(str,\"-\");\n",
    "print(t)"
   ]
  },
  {
   "cell_type": "markdown",
   "id": "c2326b1a-5ec3-4c71-8df7-8279e959b5e0",
   "metadata": {},
   "source": [
    "### Array 2 String"
   ]
  },
  {
   "cell_type": "code",
   "execution_count": 50,
   "id": "fb2f8b54-873d-4245-ab1f-06762a3cce96",
   "metadata": {
    "execution": {
     "iopub.execute_input": "2021-04-22T05:05:41.635000-07:00",
     "iopub.status.busy": "2021-04-22T05:05:41.634000-07:00",
     "iopub.status.idle": "2021-04-22T05:05:41.641000-07:00",
     "shell.execute_reply": "2021-04-22T05:05:41.641000-07:00"
    },
    "tags": []
   },
   "outputs": [
    {
     "data": {
      "text/plain": [
       "\"pining for the fjords\""
      ]
     },
     "execution_count": 50,
     "metadata": {},
     "output_type": "execute_result"
    }
   ],
   "source": [
    "t = [\"pining\", \"for\", \"the\", \"fjords\"];\n",
    "join(t,\" \")"
   ]
  },
  {
   "cell_type": "markdown",
   "id": "a8ce98ff-e9b2-4e9a-b7f3-6547d1995d8d",
   "metadata": {},
   "source": [
    "## Objects and Values\n",
    "### test whether two variable refert to the same object\n",
    "* `===` or $\\equiv$"
   ]
  },
  {
   "cell_type": "code",
   "execution_count": 55,
   "id": "908531bb-bf96-428b-bc69-6de18584f725",
   "metadata": {
    "execution": {
     "iopub.execute_input": "2021-04-22T05:10:10.347000-07:00",
     "iopub.status.busy": "2021-04-22T05:10:10.347000-07:00",
     "iopub.status.idle": "2021-04-22T05:10:10.348000-07:00",
     "shell.execute_reply": "2021-04-22T05:10:10.348000-07:00"
    },
    "tags": []
   },
   "outputs": [],
   "source": [
    "a = \"banana\";\n",
    "b = \"banana\";"
   ]
  },
  {
   "cell_type": "code",
   "execution_count": 54,
   "id": "138679c4-1e38-4332-8512-ea92def933f6",
   "metadata": {
    "execution": {
     "iopub.execute_input": "2021-04-22T05:10:09.224000-07:00",
     "iopub.status.busy": "2021-04-22T05:10:09.224000-07:00",
     "iopub.status.idle": "2021-04-22T05:10:09.225000-07:00",
     "shell.execute_reply": "2021-04-22T05:10:09.225000-07:00"
    },
    "tags": []
   },
   "outputs": [
    {
     "data": {
      "text/plain": [
       "true"
      ]
     },
     "execution_count": 54,
     "metadata": {},
     "output_type": "execute_result"
    }
   ],
   "source": [
    "a === b"
   ]
  },
  {
   "cell_type": "markdown",
   "id": "25bcf6c8-8aea-47db-be42-1c794a5ceb46",
   "metadata": {},
   "source": [
    "* **equivalent** but not **identical** ==> the same value but not the same object"
   ]
  },
  {
   "cell_type": "code",
   "execution_count": 61,
   "id": "24f825ea-8720-48cb-9b1b-30b62a7c631a",
   "metadata": {
    "execution": {
     "iopub.execute_input": "2021-04-22T05:10:36.688000-07:00",
     "iopub.status.busy": "2021-04-22T05:10:36.688000-07:00",
     "iopub.status.idle": "2021-04-22T05:10:36.689000-07:00",
     "shell.execute_reply": "2021-04-22T05:10:36.689000-07:00"
    },
    "tags": []
   },
   "outputs": [],
   "source": [
    "a = [1,2,3];\n",
    "b = [1,2,3];"
   ]
  },
  {
   "cell_type": "code",
   "execution_count": 60,
   "id": "b563c7d8-5ff2-4af6-a0ad-e59987c6d7c0",
   "metadata": {
    "execution": {
     "iopub.execute_input": "2021-04-22T05:10:35.245000-07:00",
     "iopub.status.busy": "2021-04-22T05:10:35.245000-07:00",
     "iopub.status.idle": "2021-04-22T05:10:35.246000-07:00",
     "shell.execute_reply": "2021-04-22T05:10:35.246000-07:00"
    },
    "tags": []
   },
   "outputs": [
    {
     "data": {
      "text/plain": [
       "false"
      ]
     },
     "execution_count": 60,
     "metadata": {},
     "output_type": "execute_result"
    }
   ],
   "source": [
    "a === b"
   ]
  },
  {
   "cell_type": "markdown",
   "id": "243497a9-ae95-4449-9b13-be991814236d",
   "metadata": {},
   "source": [
    "## Aliasing\n",
    "* **Definition**: an object with more than one reference has more than one name, such as\n",
    "\n",
    "```mermaid\n",
    "graph LR\n",
    "a[a] --> c[\\[1,2,3\\]]\n",
    "```"
   ]
  },
  {
   "cell_type": "code",
   "execution_count": null,
   "id": "bbf9305a-97ff-470e-857d-7b94de5986e9",
   "metadata": {},
   "outputs": [],
   "source": []
  },
  {
   "cell_type": "code",
   "execution_count": 62,
   "id": "afe9d426-b1f2-433e-a3fc-b6f2da007ef6",
   "metadata": {
    "execution": {
     "iopub.execute_input": "2021-04-22T05:15:05.286000-07:00",
     "iopub.status.busy": "2021-04-22T05:15:05.286000-07:00",
     "iopub.status.idle": "2021-04-22T05:15:05.329000-07:00",
     "shell.execute_reply": "2021-04-22T05:15:05.328000-07:00"
    },
    "tags": []
   },
   "outputs": [
    {
     "name": "stdout",
     "output_type": "stream",
     "text": [
      "true"
     ]
    }
   ],
   "source": [
    "a = [1,2,3];\n",
    "b = a;\n",
    "print(b === a)"
   ]
  },
  {
   "cell_type": "markdown",
   "id": "9d8eca57-200c-4555-972d-02a02d40d347",
   "metadata": {},
   "source": [
    "* if the aliased object is mutable, <mark> changes with one alias affect the other</mark>."
   ]
  },
  {
   "cell_type": "code",
   "execution_count": 63,
   "id": "3cc240b2-e9f3-4969-9830-c250abdad34a",
   "metadata": {
    "execution": {
     "iopub.execute_input": "2021-04-22T05:16:08.280000-07:00",
     "iopub.status.busy": "2021-04-22T05:16:08.280000-07:00",
     "iopub.status.idle": "2021-04-22T05:16:08.281000-07:00",
     "shell.execute_reply": "2021-04-22T05:16:08.281000-07:00"
    },
    "tags": []
   },
   "outputs": [
    {
     "name": "stdout",
     "output_type": "stream",
     "text": [
      "[42, 2, 3]"
     ]
    }
   ],
   "source": [
    "b[1] = 42;\n",
    "print(a)"
   ]
  },
  {
   "cell_type": "markdown",
   "id": "9086a2a1-8af1-4828-8144-a45ec655821c",
   "metadata": {},
   "source": [
    "## Array Arguments\n",
    "* be care for distinguishing the operations<a style=\"color:#D0104C;font-weight:bold;\"> whether modify arrays or create new arrays.</a>"
   ]
  },
  {
   "cell_type": "code",
   "execution_count": 1,
   "id": "fa15ed2f-a62f-451c-bdb5-64a2ba8abb09",
   "metadata": {
    "execution": {
     "iopub.execute_input": "2021-04-22T05:35:32.769000-07:00",
     "iopub.status.busy": "2021-04-22T05:35:31.843000-07:00",
     "iopub.status.idle": "2021-04-22T05:35:33.979000-07:00",
     "shell.execute_reply": "2021-04-22T05:35:33.947000-07:00"
    },
    "tags": []
   },
   "outputs": [
    {
     "data": {
      "text/plain": [
       "delethead! (generic function with 1 method)"
      ]
     },
     "execution_count": 1,
     "metadata": {},
     "output_type": "execute_result"
    }
   ],
   "source": [
    "function delethead!(t)\n",
    "    popfirst!(t)\n",
    "end"
   ]
  },
  {
   "cell_type": "code",
   "execution_count": 2,
   "id": "312ca1e7-cc14-418e-a16a-c6c15a43e2e5",
   "metadata": {
    "execution": {
     "iopub.execute_input": "2021-04-22T05:35:42.153000-07:00",
     "iopub.status.busy": "2021-04-22T05:35:42.152000-07:00",
     "iopub.status.idle": "2021-04-22T05:35:43.659000-07:00",
     "shell.execute_reply": "2021-04-22T05:35:43.658000-07:00"
    },
    "tags": []
   },
   "outputs": [
    {
     "data": {
      "text/plain": [
       "3-element Vector{Char}:\n",
       " 'a': ASCII/Unicode U+0061 (category Ll: Letter, lowercase)\n",
       " 'b': ASCII/Unicode U+0062 (category Ll: Letter, lowercase)\n",
       " 'c': ASCII/Unicode U+0063 (category Ll: Letter, lowercase)"
      ]
     },
     "execution_count": 2,
     "metadata": {},
     "output_type": "execute_result"
    }
   ],
   "source": [
    "t = ['a','b','c']"
   ]
  },
  {
   "cell_type": "code",
   "execution_count": 3,
   "id": "a35bb0e5-455b-47d6-a30d-627694e1dcda",
   "metadata": {
    "execution": {
     "iopub.execute_input": "2021-04-22T05:35:54.255000-07:00",
     "iopub.status.busy": "2021-04-22T05:35:54.255000-07:00",
     "iopub.status.idle": "2021-04-22T05:35:54.619000-07:00",
     "shell.execute_reply": "2021-04-22T05:35:54.618000-07:00"
    },
    "tags": []
   },
   "outputs": [
    {
     "name": "stdout",
     "output_type": "stream",
     "text": [
      "['b', 'c']"
     ]
    }
   ],
   "source": [
    "delethead!(t)\n",
    "print(t)"
   ]
  },
  {
   "cell_type": "code",
   "execution_count": 4,
   "id": "757eed29-62f3-4d55-8983-9952e206695d",
   "metadata": {
    "execution": {
     "iopub.execute_input": "2021-04-22T05:38:46.651000-07:00",
     "iopub.status.busy": "2021-04-22T05:38:46.651000-07:00",
     "iopub.status.idle": "2021-04-22T05:38:47.622000-07:00",
     "shell.execute_reply": "2021-04-22T05:38:47.621000-07:00"
    },
    "tags": []
   },
   "outputs": [
    {
     "data": {
      "text/plain": [
       "3-element Vector{Int64}:\n",
       " 1\n",
       " 2\n",
       " 3"
      ]
     },
     "execution_count": 4,
     "metadata": {},
     "output_type": "execute_result"
    }
   ],
   "source": [
    "t1 = [1,2];\n",
    "t2 = push!(t1,3)"
   ]
  },
  {
   "cell_type": "code",
   "execution_count": 5,
   "id": "5c6e2dfc-e8ab-4139-b617-71ec08e74520",
   "metadata": {
    "execution": {
     "iopub.execute_input": "2021-04-22T05:38:50.316000-07:00",
     "iopub.status.busy": "2021-04-22T05:38:50.316000-07:00",
     "iopub.status.idle": "2021-04-22T05:38:50.318000-07:00",
     "shell.execute_reply": "2021-04-22T05:38:50.318000-07:00"
    },
    "tags": []
   },
   "outputs": [
    {
     "data": {
      "text/plain": [
       "3-element Vector{Int64}:\n",
       " 1\n",
       " 2\n",
       " 3"
      ]
     },
     "execution_count": 5,
     "metadata": {},
     "output_type": "execute_result"
    }
   ],
   "source": [
    "t1"
   ]
  },
  {
   "cell_type": "code",
   "execution_count": 6,
   "id": "1695f8fc-28ee-452e-81f9-54d414d61c4d",
   "metadata": {
    "execution": {
     "iopub.execute_input": "2021-04-22T05:39:07.151000-07:00",
     "iopub.status.busy": "2021-04-22T05:39:07.150000-07:00",
     "iopub.status.idle": "2021-04-22T05:39:07.378000-07:00",
     "shell.execute_reply": "2021-04-22T05:39:07.377000-07:00"
    },
    "tags": []
   },
   "outputs": [
    {
     "data": {
      "text/plain": [
       "4-element Vector{Int64}:\n",
       " 1\n",
       " 2\n",
       " 3\n",
       " 4"
      ]
     },
     "execution_count": 6,
     "metadata": {},
     "output_type": "execute_result"
    }
   ],
   "source": [
    "t3 = vcat(t1,4)"
   ]
  },
  {
   "cell_type": "code",
   "execution_count": 7,
   "id": "3bc5b576-f109-48bf-8010-2dc90004e08e",
   "metadata": {
    "execution": {
     "iopub.execute_input": "2021-04-22T05:39:10.166000-07:00",
     "iopub.status.busy": "2021-04-22T05:39:10.165000-07:00",
     "iopub.status.idle": "2021-04-22T05:39:10.168000-07:00",
     "shell.execute_reply": "2021-04-22T05:39:10.168000-07:00"
    },
    "tags": []
   },
   "outputs": [
    {
     "data": {
      "text/plain": [
       "3-element Vector{Int64}:\n",
       " 1\n",
       " 2\n",
       " 3"
      ]
     },
     "execution_count": 7,
     "metadata": {},
     "output_type": "execute_result"
    }
   ],
   "source": [
    "t1"
   ]
  },
  {
   "cell_type": "markdown",
   "id": "70a1914a-adce-42d9-8b61-25f087e4385d",
   "metadata": {},
   "source": [
    "========= Example start ==========\n",
    "\n",
    "At the begeining, `t` and `letters` refer to the same array.\n",
    "\n",
    "But at the end, `t` refers to new array, but `letters` refers to the original unmodified array."
   ]
  },
  {
   "cell_type": "code",
   "execution_count": 17,
   "id": "8b285de0-0d9b-40a7-9d20-997935b9f1d3",
   "metadata": {
    "execution": {
     "iopub.execute_input": "2021-04-22T05:43:18.559000-07:00",
     "iopub.status.busy": "2021-04-22T05:43:18.558000-07:00",
     "iopub.status.idle": "2021-04-22T05:43:18.560000-07:00",
     "shell.execute_reply": "2021-04-22T05:43:18.560000-07:00"
    },
    "tags": []
   },
   "outputs": [
    {
     "data": {
      "text/plain": [
       "baddeletehead (generic function with 1 method)"
      ]
     },
     "execution_count": 17,
     "metadata": {},
     "output_type": "execute_result"
    }
   ],
   "source": [
    "function baddeletehead(t)!\n",
    "    t = t[2:end]\n",
    "end"
   ]
  },
  {
   "cell_type": "code",
   "execution_count": 19,
   "id": "02aafd60-c655-4dc9-87dd-560089d4f5b9",
   "metadata": {
    "execution": {
     "iopub.execute_input": "2021-04-22T05:43:47.313000-07:00",
     "iopub.status.busy": "2021-04-22T05:43:47.313000-07:00",
     "iopub.status.idle": "2021-04-22T05:43:47.314000-07:00",
     "shell.execute_reply": "2021-04-22T05:43:47.314000-07:00"
    },
    "tags": []
   },
   "outputs": [
    {
     "name": "stdout",
     "output_type": "stream",
     "text": [
      "['a', 'b', 'c']"
     ]
    }
   ],
   "source": [
    "letters = ['a','b','c']\n",
    "baddeletehead(letters)\n",
    "print(letters)"
   ]
  },
  {
   "cell_type": "markdown",
   "id": "39df7865-3ae0-4c53-87e0-d02adecf61d6",
   "metadata": {},
   "source": [
    "========= Example end=========="
   ]
  },
  {
   "cell_type": "markdown",
   "id": "2fb0a313-2e55-4ba4-af55-9d8a9b23ed76",
   "metadata": {},
   "source": [
    "## Copy Array"
   ]
  },
  {
   "cell_type": "code",
   "execution_count": 21,
   "id": "3f994936-3ce4-47d5-ba4b-cb661054fcee",
   "metadata": {
    "execution": {
     "iopub.execute_input": "2021-04-22T05:49:04.215000-07:00",
     "iopub.status.busy": "2021-04-22T05:49:04.215000-07:00",
     "iopub.status.idle": "2021-04-22T05:49:04.243000-07:00",
     "shell.execute_reply": "2021-04-22T05:49:04.242000-07:00"
    },
    "tags": []
   },
   "outputs": [],
   "source": [
    "a = [1,2,3];\n",
    "b = a;\n",
    "c = a[:];"
   ]
  },
  {
   "cell_type": "code",
   "execution_count": 24,
   "id": "b7f8f0c9-7b67-414a-9cbc-18ddcd2b8ce2",
   "metadata": {
    "execution": {
     "iopub.execute_input": "2021-04-22T05:49:31.665000-07:00",
     "iopub.status.busy": "2021-04-22T05:49:31.665000-07:00",
     "iopub.status.idle": "2021-04-22T05:49:31.688000-07:00",
     "shell.execute_reply": "2021-04-22T05:49:31.687000-07:00"
    },
    "tags": []
   },
   "outputs": [
    {
     "data": {
      "text/plain": [
       "true"
      ]
     },
     "execution_count": 24,
     "metadata": {},
     "output_type": "execute_result"
    }
   ],
   "source": [
    "println(a == b)"
   ]
  },
  {
   "cell_type": "code",
   "execution_count": 43,
   "id": "d1dfafb2-2505-4d65-a0e9-b2328f1b9b65",
   "metadata": {
    "execution": {
     "iopub.execute_input": "2021-04-22T05:56:08.936000-07:00",
     "iopub.status.busy": "2021-04-22T05:56:08.936000-07:00",
     "iopub.status.idle": "2021-04-22T05:56:08.967000-07:00",
     "shell.execute_reply": "2021-04-22T05:56:08.967000-07:00"
    },
    "tags": []
   },
   "outputs": [
    {
     "name": "stdout",
     "output_type": "stream",
     "text": [
      "a == b\ttrue\n",
      "a === b\ttrue\n",
      "\n",
      "a == c\ttrue\n",
      "a === c\tfalse\n",
      "\n"
     ]
    }
   ],
   "source": [
    "for i in ['b','c']\n",
    "    println(\"a == $(i)\",\"\\t\",eval(Meta.parse(\"a==\"*i)))\n",
    "    println(\"a === $(i)\",\"\\t\",eval(Meta.parse(\"a===\"*i)))\n",
    "    print(\"\\n\")\n",
    "end"
   ]
  },
  {
   "cell_type": "code",
   "execution_count": 22,
   "id": "6dfa8865-dbbd-484f-a9ec-ff49e37fff48",
   "metadata": {
    "execution": {
     "iopub.execute_input": "2021-04-22T05:49:11.523000-07:00",
     "iopub.status.busy": "2021-04-22T05:49:11.522000-07:00",
     "iopub.status.idle": "2021-04-22T05:49:11.945000-07:00",
     "shell.execute_reply": "2021-04-22T05:49:11.943000-07:00"
    },
    "tags": []
   },
   "outputs": [
    {
     "data": {
      "text/plain": [
       "true"
      ]
     },
     "execution_count": 22,
     "metadata": {},
     "output_type": "execute_result"
    }
   ],
   "source": [
    "a === b"
   ]
  },
  {
   "cell_type": "code",
   "execution_count": 26,
   "id": "687fe54e-1b2b-4a54-9fe7-d24a16351768",
   "metadata": {
    "execution": {
     "iopub.execute_input": "2021-04-22T05:49:40.830000-07:00",
     "iopub.status.busy": "2021-04-22T05:49:40.830000-07:00",
     "iopub.status.idle": "2021-04-22T05:49:40.831000-07:00",
     "shell.execute_reply": "2021-04-22T05:49:40.831000-07:00"
    },
    "tags": []
   },
   "outputs": [
    {
     "data": {
      "text/plain": [
       "true"
      ]
     },
     "execution_count": 26,
     "metadata": {},
     "output_type": "execute_result"
    }
   ],
   "source": [
    "a == c"
   ]
  },
  {
   "cell_type": "code",
   "execution_count": 23,
   "id": "d3524bac-462e-41ba-9b65-dc9159911ea7",
   "metadata": {
    "execution": {
     "iopub.execute_input": "2021-04-22T05:49:15.729000-07:00",
     "iopub.status.busy": "2021-04-22T05:49:15.729000-07:00",
     "iopub.status.idle": "2021-04-22T05:49:15.730000-07:00",
     "shell.execute_reply": "2021-04-22T05:49:15.730000-07:00"
    },
    "tags": []
   },
   "outputs": [
    {
     "data": {
      "text/plain": [
       "false"
      ]
     },
     "execution_count": 23,
     "metadata": {},
     "output_type": "execute_result"
    }
   ],
   "source": [
    "a === c"
   ]
  },
  {
   "cell_type": "markdown",
   "id": "0f84e803-c5e1-4196-b896-9c222efb39cf",
   "metadata": {},
   "source": [
    "#### Ex10-1"
   ]
  },
  {
   "cell_type": "code",
   "execution_count": 8,
   "id": "2ba69b3d-7b10-4382-8765-16f236b95c1e",
   "metadata": {
    "execution": {
     "iopub.execute_input": "2021-04-22T07:52:55.858000-07:00",
     "iopub.status.busy": "2021-04-22T07:52:55.857000-07:00",
     "iopub.status.idle": "2021-04-22T07:52:57.025000-07:00",
     "shell.execute_reply": "2021-04-22T07:52:57.025000-07:00"
    },
    "tags": []
   },
   "outputs": [
    {
     "data": {
      "text/plain": [
       "3-element Vector{Vector{Any}}:\n",
       " [1, [2, 3], 4]\n",
       " [Any[[5, 6], 7], 8]\n",
       " [[9, 12]]"
      ]
     },
     "execution_count": 8,
     "metadata": {},
     "output_type": "execute_result"
    }
   ],
   "source": [
    "t = [[1,[2,3],4],[[[5,6],7],8],[[9,12]]]"
   ]
  },
  {
   "cell_type": "code",
   "execution_count": 200,
   "id": "405d5fc6-cec4-49c1-a3e4-e1deb56ba4f7",
   "metadata": {
    "execution": {
     "iopub.execute_input": "2021-04-22T06:40:31.296000-07:00",
     "iopub.status.busy": "2021-04-22T06:40:31.276000-07:00",
     "iopub.status.idle": "2021-04-22T06:40:31.808000-07:00",
     "shell.execute_reply": "2021-04-22T06:40:31.803000-07:00"
    },
    "tags": []
   },
   "outputs": [
    {
     "data": {
      "text/plain": [
       "1-element Vector{Any}:\n",
       " [1, 2]"
      ]
     },
     "execution_count": 200,
     "metadata": {},
     "output_type": "execute_result"
    }
   ],
   "source": [
    "x = []\n",
    "append!(x,[[1,2]])"
   ]
  },
  {
   "cell_type": "code",
   "execution_count": 2,
   "id": "c095ace0-1c3e-4108-8dbf-640d88c63a58",
   "metadata": {
    "execution": {
     "iopub.execute_input": "2021-04-22T07:51:51.994000-07:00",
     "iopub.status.busy": "2021-04-22T07:51:51.993000-07:00",
     "iopub.status.idle": "2021-04-22T07:51:52.265000-07:00",
     "shell.execute_reply": "2021-04-22T07:51:52.263000-07:00"
    },
    "tags": []
   },
   "outputs": [],
   "source": [
    "t = []\n",
    "for i in 1:3\n",
    "    randnum = trunc(Int64,rand()*10) + 1\n",
    "    append!(t, eval(Meta.parse((\"[\"^randnum)*\"1,22,3\"*(\"]\"^randnum))))\n",
    "end"
   ]
  },
  {
   "cell_type": "code",
   "execution_count": 3,
   "id": "c90d44ef-01b0-4d72-8760-7fa74d0e353a",
   "metadata": {
    "execution": {
     "iopub.execute_input": "2021-04-22T07:51:54.242000-07:00",
     "iopub.status.busy": "2021-04-22T07:51:54.241000-07:00",
     "iopub.status.idle": "2021-04-22T07:51:58.065000-07:00",
     "shell.execute_reply": "2021-04-22T07:51:58.065000-07:00"
    },
    "tags": []
   },
   "outputs": [
    {
     "data": {
      "text/plain": [
       "5-element Vector{Any}:\n",
       "  1\n",
       " 22\n",
       "  3\n",
       "   [[[[[[1, 22, 3]]]]]]\n",
       "   [[[1, 22, 3]]]"
      ]
     },
     "execution_count": 3,
     "metadata": {},
     "output_type": "execute_result"
    }
   ],
   "source": [
    "t"
   ]
  },
  {
   "cell_type": "code",
   "execution_count": 1,
   "id": "48dca576-ed87-405a-82df-e1b6223ee7f0",
   "metadata": {
    "execution": {
     "iopub.execute_input": "2021-04-22T07:51:47.773000-07:00",
     "iopub.status.busy": "2021-04-22T07:51:46.897000-07:00",
     "iopub.status.idle": "2021-04-22T07:51:48.954000-07:00",
     "shell.execute_reply": "2021-04-22T07:51:48.922000-07:00"
    },
    "tags": []
   },
   "outputs": [
    {
     "data": {
      "text/plain": [
       "nestedsum (generic function with 1 method)"
      ]
     },
     "execution_count": 1,
     "metadata": {},
     "output_type": "execute_result"
    }
   ],
   "source": [
    "function dig_array(array,dig_result=[])\n",
    "    for i in array\n",
    "        if isa(i,Array)\n",
    "            dig_array(i,dig_result)\n",
    "        else\n",
    "            push!(dig_result,i)\n",
    "        end\n",
    "    end\n",
    "    dig_result\n",
    "end\n",
    "function nestedsum(array)\n",
    "    return sum(dig_array(array))\n",
    "end"
   ]
  },
  {
   "cell_type": "code",
   "execution_count": null,
   "id": "1cb18bce-933d-4eee-98a1-0c831358df2c",
   "metadata": {},
   "outputs": [],
   "source": [
    "function nestedsum2(array)\n",
    "    if i in array\n",
    "        if isa(i, Array)"
   ]
  },
  {
   "cell_type": "code",
   "execution_count": 16,
   "id": "617b5214-f370-46be-b4d1-fc9d8c1b660e",
   "metadata": {
    "execution": {
     "iopub.execute_input": "2021-04-22T07:58:11.763000-07:00",
     "iopub.status.busy": "2021-04-22T07:58:11.763000-07:00",
     "iopub.status.idle": "2021-04-22T07:58:11.765000-07:00",
     "shell.execute_reply": "2021-04-22T07:58:11.764000-07:00"
    },
    "tags": []
   },
   "outputs": [
    {
     "data": {
      "text/plain": [
       "46"
      ]
     },
     "execution_count": 16,
     "metadata": {},
     "output_type": "execute_result"
    }
   ],
   "source": [
    "t = [1,2,3,[4,[5,6,[7,[8,10]]]]]\n",
    "nestedsum(t)"
   ]
  },
  {
   "cell_type": "markdown",
   "id": "cbf12815-16aa-46f9-8d0e-40114716d565",
   "metadata": {},
   "source": [
    "### Ex10-2"
   ]
  },
  {
   "cell_type": "code",
   "execution_count": 11,
   "id": "79f20083-fe8f-4fdf-b792-e26c4843bc3f",
   "metadata": {
    "execution": {
     "iopub.execute_input": "2021-04-22T07:56:53.454000-07:00",
     "iopub.status.busy": "2021-04-22T07:56:53.454000-07:00",
     "iopub.status.idle": "2021-04-22T07:56:53.603000-07:00",
     "shell.execute_reply": "2021-04-22T07:56:53.603000-07:00"
    },
    "tags": []
   },
   "outputs": [
    {
     "data": {
      "text/plain": [
       "cumulsum (generic function with 1 method)"
      ]
     },
     "execution_count": 11,
     "metadata": {},
     "output_type": "execute_result"
    }
   ],
   "source": [
    "function cumulsum(array)\n",
    "    cumulsum_array = []\n",
    "    for i in eachindex(array)\n",
    "        if i == 1\n",
    "            push!(cumulsum_array,array[i])\n",
    "        else\n",
    "            push!(cumulsum_array,cumulsum_array[end] + array[i])\n",
    "        end\n",
    "    end\n",
    "    return cumulsum_array\n",
    "end"
   ]
  },
  {
   "cell_type": "code",
   "execution_count": 12,
   "id": "2e8c0e89-361d-4b64-afcd-8244288e1b92",
   "metadata": {
    "execution": {
     "iopub.execute_input": "2021-04-22T07:57:10.990000-07:00",
     "iopub.status.busy": "2021-04-22T07:57:10.990000-07:00",
     "iopub.status.idle": "2021-04-22T07:57:11.031000-07:00",
     "shell.execute_reply": "2021-04-22T07:57:11.031000-07:00"
    },
    "tags": []
   },
   "outputs": [
    {
     "data": {
      "text/plain": [
       "3-element Vector{Any}:\n",
       " 1\n",
       " 4\n",
       " 8"
      ]
     },
     "execution_count": 12,
     "metadata": {},
     "output_type": "execute_result"
    }
   ],
   "source": [
    "cumulsum([1,3,4])"
   ]
  }
 ],
 "metadata": {
  "kernelspec": {
   "display_name": "Julia 1.6.0",
   "language": "julia",
   "name": "julia-1.6"
  },
  "language_info": {
   "file_extension": ".jl",
   "mimetype": "application/julia",
   "name": "julia",
   "version": "1.6.0"
  }
 },
 "nbformat": 4,
 "nbformat_minor": 5
}
