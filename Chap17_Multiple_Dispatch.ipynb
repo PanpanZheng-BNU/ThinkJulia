{
 "cells": [
  {
   "cell_type": "markdown",
   "id": "b256d5ef-a135-4147-8b6a-665adbfdd6fc",
   "metadata": {},
   "source": [
    "# Multiple Dispatch\n",
    "<h3 style=\"color:#D0104C;text-align:center;font-weight:bold;font-style:italic\">Using all of a function's arguments to choose which method should be invoked</h3>\n",
    "\n",
    "## Type Declarations\n",
    "* `::`\n",
    "* `function fname()::Type` setting the type of output"
   ]
  },
  {
   "cell_type": "code",
   "execution_count": 1,
   "id": "182b9c32-17d9-4218-a9e3-23d17f1875b3",
   "metadata": {
    "execution": {
     "iopub.execute_input": "2021-04-25T08:32:02.604000-07:00",
     "iopub.status.busy": "2021-04-25T08:32:01.746000-07:00",
     "iopub.status.idle": "2021-04-25T08:32:04.007000-07:00",
     "shell.execute_reply": "2021-04-25T08:32:04.006000-07:00"
    },
    "tags": []
   },
   "outputs": [
    {
     "ename": "LoadError",
     "evalue": "TypeError: in typeassert, expected Float64, got a value of type Int64",
     "output_type": "error",
     "traceback": [
      "TypeError: in typeassert, expected Float64, got a value of type Int64",
      "",
      "Stacktrace:",
      " [1] top-level scope",
      "   @ In[1]:1",
      " [2] eval",
      "   @ ./boot.jl:360 [inlined]",
      " [3] include_string(mapexpr::typeof(REPL.softscope), mod::Module, code::String, filename::String)",
      "   @ Base ./loading.jl:1094"
     ]
    }
   ],
   "source": [
    "(1 + 2)::Float64"
   ]
  },
  {
   "cell_type": "code",
   "execution_count": 2,
   "id": "ca1bc806-3c29-41e0-adf2-68e8ec6e2071",
   "metadata": {
    "execution": {
     "iopub.execute_input": "2021-04-25T08:32:04.009000-07:00",
     "iopub.status.busy": "2021-04-25T08:32:04.008000-07:00",
     "iopub.status.idle": "2021-04-25T08:32:04.807000-07:00",
     "shell.execute_reply": "2021-04-25T08:32:04.776000-07:00"
    },
    "tags": []
   },
   "outputs": [
    {
     "data": {
      "text/plain": [
       "3"
      ]
     },
     "execution_count": 2,
     "metadata": {},
     "output_type": "execute_result"
    }
   ],
   "source": [
    "(1 + 2)::Int64"
   ]
  },
  {
   "cell_type": "code",
   "execution_count": 3,
   "id": "d46d0ef8-f573-493d-a727-b16279f4ae49",
   "metadata": {
    "execution": {
     "iopub.execute_input": "2021-04-25T08:32:04.810000-07:00",
     "iopub.status.busy": "2021-04-25T08:32:04.809000-07:00",
     "iopub.status.idle": "2021-04-25T08:32:05.246000-07:00",
     "shell.execute_reply": "2021-04-25T08:32:05.246000-07:00"
    },
    "tags": []
   },
   "outputs": [
    {
     "data": {
      "text/plain": [
       "returnfloat (generic function with 1 method)"
      ]
     },
     "execution_count": 3,
     "metadata": {},
     "output_type": "execute_result"
    }
   ],
   "source": [
    "function returnfloat(num)\n",
    "    x::Float64 = num\n",
    "    x\n",
    "end"
   ]
  },
  {
   "cell_type": "code",
   "execution_count": 4,
   "id": "72ea180b-2ca2-42e1-8f39-f7111b5a0566",
   "metadata": {
    "execution": {
     "iopub.execute_input": "2021-04-25T08:32:05.246000-07:00",
     "iopub.status.busy": "2021-04-25T08:32:05.246000-07:00",
     "iopub.status.idle": "2021-04-25T08:32:05.634000-07:00",
     "shell.execute_reply": "2021-04-25T08:32:05.633000-07:00"
    },
    "tags": []
   },
   "outputs": [
    {
     "data": {
      "text/plain": [
       "100.0"
      ]
     },
     "execution_count": 4,
     "metadata": {},
     "output_type": "execute_result"
    }
   ],
   "source": [
    "x = returnfloat(100)"
   ]
  },
  {
   "cell_type": "code",
   "execution_count": 5,
   "id": "7cbefadb-386a-4fb8-8b1c-9b8f01fdeb97",
   "metadata": {
    "execution": {
     "iopub.execute_input": "2021-04-25T08:32:05.636000-07:00",
     "iopub.status.busy": "2021-04-25T08:32:05.635000-07:00",
     "iopub.status.idle": "2021-04-25T08:32:06.222000-07:00",
     "shell.execute_reply": "2021-04-25T08:32:06.222000-07:00"
    },
    "tags": []
   },
   "outputs": [
    {
     "data": {
      "text/plain": [
       "Float64"
      ]
     },
     "execution_count": 5,
     "metadata": {},
     "output_type": "execute_result"
    }
   ],
   "source": [
    "typeof(x)"
   ]
  },
  {
   "cell_type": "code",
   "execution_count": 6,
   "id": "555d3ad0-67b1-4472-80e0-bf422dc70d12",
   "metadata": {
    "execution": {
     "iopub.execute_input": "2021-04-25T08:32:06.222000-07:00",
     "iopub.status.busy": "2021-04-25T08:32:06.222000-07:00",
     "iopub.status.idle": "2021-04-25T08:32:06.341000-07:00",
     "shell.execute_reply": "2021-04-25T08:32:06.340000-07:00"
    },
    "tags": []
   },
   "outputs": [
    {
     "data": {
      "text/plain": [
       "sinc_self (generic function with 1 method)"
      ]
     },
     "execution_count": 6,
     "metadata": {},
     "output_type": "execute_result"
    }
   ],
   "source": [
    "function sinc_self(x)::Float64\n",
    "    if x == 0\n",
    "        return 1\n",
    "    end\n",
    "    sin(x)/(x)\n",
    "end"
   ]
  },
  {
   "cell_type": "code",
   "execution_count": 7,
   "id": "12cff1bd-391b-4de7-8b02-1a989574544c",
   "metadata": {
    "execution": {
     "iopub.execute_input": "2021-04-25T08:32:06.343000-07:00",
     "iopub.status.busy": "2021-04-25T08:32:06.342000-07:00",
     "iopub.status.idle": "2021-04-25T08:32:06.435000-07:00",
     "shell.execute_reply": "2021-04-25T08:32:06.435000-07:00"
    },
    "tags": []
   },
   "outputs": [
    {
     "data": {
      "text/plain": [
       "1.0"
      ]
     },
     "execution_count": 7,
     "metadata": {},
     "output_type": "execute_result"
    }
   ],
   "source": [
    "sinc_self(0)"
   ]
  },
  {
   "cell_type": "code",
   "execution_count": 8,
   "id": "dbc91f54-5a2a-4c46-bdf0-c96ed47a545e",
   "metadata": {
    "execution": {
     "iopub.execute_input": "2021-04-25T08:32:06.437000-07:00",
     "iopub.status.busy": "2021-04-25T08:32:06.437000-07:00",
     "iopub.status.idle": "2021-04-25T08:32:06.448000-07:00",
     "shell.execute_reply": "2021-04-25T08:32:06.447000-07:00"
    },
    "tags": []
   },
   "outputs": [
    {
     "data": {
      "text/plain": [
       "Float32"
      ]
     },
     "execution_count": 8,
     "metadata": {},
     "output_type": "execute_result"
    }
   ],
   "source": [
    "function add_self(x,y)::Float32\n",
    "    x+y\n",
    "end\n",
    "typeof(add_self(1,2))"
   ]
  },
  {
   "cell_type": "markdown",
   "id": "85d7accd-b32e-4885-b72c-a9dd0ee7a1f0",
   "metadata": {},
   "source": [
    "## Methods"
   ]
  },
  {
   "cell_type": "code",
   "execution_count": 9,
   "id": "6f15d73a-ed3a-47a9-b146-a685593ca942",
   "metadata": {
    "execution": {
     "iopub.execute_input": "2021-04-25T08:32:06.450000-07:00",
     "iopub.status.busy": "2021-04-25T08:32:06.449000-07:00",
     "iopub.status.idle": "2021-04-25T08:32:06.606000-07:00",
     "shell.execute_reply": "2021-04-25T08:32:06.605000-07:00"
    },
    "tags": []
   },
   "outputs": [
    {
     "data": {
      "text/plain": [
       "printtime (generic function with 1 method)"
      ]
     },
     "execution_count": 9,
     "metadata": {},
     "output_type": "execute_result"
    }
   ],
   "source": [
    "using Printf\n",
    "\n",
    "struct MyTime\n",
    "    hour :: Int64\n",
    "    minute :: Int64\n",
    "    second :: Int64\n",
    "end\n",
    "\n",
    "function printtime(time)\n",
    "    @printf(\"%02d:%02d:%02d\",time.hour,time.minute,time.second)\n",
    "end"
   ]
  },
  {
   "cell_type": "code",
   "execution_count": 10,
   "id": "fd5ac36a-1d05-4288-a6ac-93c5057c4497",
   "metadata": {
    "execution": {
     "iopub.execute_input": "2021-04-25T08:32:06.608000-07:00",
     "iopub.status.busy": "2021-04-25T08:32:06.607000-07:00",
     "iopub.status.idle": "2021-04-25T08:32:07.016000-07:00",
     "shell.execute_reply": "2021-04-25T08:32:07.015000-07:00"
    },
    "tags": []
   },
   "outputs": [
    {
     "data": {
      "text/plain": [
       "MyTime(9, 45, 0)"
      ]
     },
     "execution_count": 10,
     "metadata": {},
     "output_type": "execute_result"
    }
   ],
   "source": [
    "start = MyTime(9, 45, 0)"
   ]
  },
  {
   "cell_type": "code",
   "execution_count": 11,
   "id": "b13fa43e-2cca-4c42-b202-e2c5c15c4d54",
   "metadata": {
    "execution": {
     "iopub.execute_input": "2021-04-25T08:32:07.018000-07:00",
     "iopub.status.busy": "2021-04-25T08:32:07.017000-07:00",
     "iopub.status.idle": "2021-04-25T08:32:07.391000-07:00",
     "shell.execute_reply": "2021-04-25T08:32:07.389000-07:00"
    },
    "tags": []
   },
   "outputs": [
    {
     "name": "stdout",
     "output_type": "stream",
     "text": [
      "09:45:00"
     ]
    }
   ],
   "source": [
    "printtime(start)"
   ]
  },
  {
   "cell_type": "markdown",
   "id": "4f4e7bcb-fa42-4326-b751-965e1a0c41f9",
   "metadata": {},
   "source": [
    "* `function fname(argument::Type)` setting the type of input"
   ]
  },
  {
   "cell_type": "code",
   "execution_count": 12,
   "id": "8c49724e-272e-4fec-8d0f-556d4af568f4",
   "metadata": {
    "execution": {
     "iopub.execute_input": "2021-04-25T08:32:07.393000-07:00",
     "iopub.status.busy": "2021-04-25T08:32:07.392000-07:00",
     "iopub.status.idle": "2021-04-25T08:32:07.399000-07:00",
     "shell.execute_reply": "2021-04-25T08:32:07.398000-07:00"
    },
    "tags": []
   },
   "outputs": [
    {
     "data": {
      "text/plain": [
       "printtime (generic function with 2 methods)"
      ]
     },
     "execution_count": 12,
     "metadata": {},
     "output_type": "execute_result"
    }
   ],
   "source": [
    "using Printf\n",
    "\n",
    "struct MyTime\n",
    "    hour :: Int64\n",
    "    minute :: Int64\n",
    "    second :: Int64\n",
    "end\n",
    "\n",
    "function printtime(time :: MyTime)\n",
    "    @printf(\"%02d:%02d:%02d\",time.hour,time.minute,time.second)\n",
    "end"
   ]
  },
  {
   "cell_type": "code",
   "execution_count": 13,
   "id": "cc46032f-a6c8-4190-8144-64092533e414",
   "metadata": {
    "execution": {
     "iopub.execute_input": "2021-04-25T08:32:07.401000-07:00",
     "iopub.status.busy": "2021-04-25T08:32:07.400000-07:00",
     "iopub.status.idle": "2021-04-25T08:32:07.417000-07:00",
     "shell.execute_reply": "2021-04-25T08:32:07.416000-07:00"
    },
    "tags": []
   },
   "outputs": [
    {
     "name": "stdout",
     "output_type": "stream",
     "text": [
      "09:45:00"
     ]
    }
   ],
   "source": [
    "start = MyTime(9, 45, 0)\n",
    "printtime(start)"
   ]
  },
  {
   "cell_type": "code",
   "execution_count": 14,
   "id": "d631bbc8-c009-4b06-9d71-eebb448beefe",
   "metadata": {
    "execution": {
     "iopub.execute_input": "2021-04-25T08:32:07.419000-07:00",
     "iopub.status.busy": "2021-04-25T08:32:07.418000-07:00",
     "iopub.status.idle": "2021-04-25T08:32:07.422000-07:00",
     "shell.execute_reply": "2021-04-25T08:32:07.421000-07:00"
    },
    "tags": []
   },
   "outputs": [],
   "source": [
    "mutable struct MMyTime\n",
    "    hour :: Int64\n",
    "    minute :: Int64\n",
    "    second :: Int64\n",
    "end"
   ]
  },
  {
   "cell_type": "code",
   "execution_count": 15,
   "id": "9a7efa04-44c5-47fb-90b9-7b46932cb4c2",
   "metadata": {
    "execution": {
     "iopub.execute_input": "2021-04-25T08:32:07.424000-07:00",
     "iopub.status.busy": "2021-04-25T08:32:07.423000-07:00",
     "iopub.status.idle": "2021-04-25T08:32:07.440000-07:00",
     "shell.execute_reply": "2021-04-25T08:32:07.439000-07:00"
    },
    "tags": []
   },
   "outputs": [
    {
     "name": "stdout",
     "output_type": "stream",
     "text": [
      "09:45:00"
     ]
    }
   ],
   "source": [
    "mstart = MMyTime(9, 45, 0)\n",
    "printtime(mstart)"
   ]
  },
  {
   "cell_type": "code",
   "execution_count": 16,
   "id": "9dba692e-c217-4ce6-8edf-60fdb181b7d5",
   "metadata": {
    "execution": {
     "iopub.execute_input": "2021-04-25T08:32:07.442000-07:00",
     "iopub.status.busy": "2021-04-25T08:32:07.441000-07:00",
     "iopub.status.idle": "2021-04-25T08:32:07.446000-07:00",
     "shell.execute_reply": "2021-04-25T08:32:07.445000-07:00"
    },
    "tags": []
   },
   "outputs": [
    {
     "data": {
      "text/plain": [
       "printtime (generic function with 3 methods)"
      ]
     },
     "execution_count": 16,
     "metadata": {},
     "output_type": "execute_result"
    }
   ],
   "source": [
    "function printtime(time :: MMyTime)\n",
    "    @printf(\"MMyTime:  %02d:%02d:%02d\",time.hour,time.minute,time.second)\n",
    "end"
   ]
  },
  {
   "cell_type": "code",
   "execution_count": 17,
   "id": "a1bd0a42-e072-422b-8c6c-d7e41b438a90",
   "metadata": {
    "execution": {
     "iopub.execute_input": "2021-04-25T08:32:07.446000-07:00",
     "iopub.status.busy": "2021-04-25T08:32:07.446000-07:00",
     "iopub.status.idle": "2021-04-25T08:32:07.458000-07:00",
     "shell.execute_reply": "2021-04-25T08:32:07.457000-07:00"
    },
    "tags": []
   },
   "outputs": [
    {
     "name": "stdout",
     "output_type": "stream",
     "text": [
      "MMyTime:  09:45:00"
     ]
    }
   ],
   "source": [
    "printtime(mstart)"
   ]
  },
  {
   "cell_type": "markdown",
   "id": "442e79d4-b9fc-4aec-881d-adaefdea8889",
   "metadata": {},
   "source": [
    "#### Ex17-1"
   ]
  },
  {
   "cell_type": "code",
   "execution_count": 18,
   "id": "443e24f4-113a-46f3-9ad9-7eff942daccd",
   "metadata": {
    "execution": {
     "iopub.execute_input": "2021-04-25T08:32:07.460000-07:00",
     "iopub.status.busy": "2021-04-25T08:32:07.459000-07:00",
     "iopub.status.idle": "2021-04-25T08:32:07.574000-07:00",
     "shell.execute_reply": "2021-04-25T08:32:07.573000-07:00"
    },
    "tags": []
   },
   "outputs": [
    {
     "data": {
      "text/plain": [
       "int2time (generic function with 1 method)"
      ]
     },
     "execution_count": 18,
     "metadata": {},
     "output_type": "execute_result"
    }
   ],
   "source": [
    "function time2int(time :: MyTime) :: Int64\n",
    "    minutes = time.hour * 60 + time.minute\n",
    "    seconds = minutes * 60 + time.second\n",
    "    seconds\n",
    "end\n",
    "\n",
    "function int2time(seconds :: Int64) :: MyTime\n",
    "    minutes, second = divrem(seconds, 60);\n",
    "    hour, minute = divrem(minutes, 60);\n",
    "    MyTime(hour,minute,second)\n",
    "end"
   ]
  },
  {
   "cell_type": "code",
   "execution_count": 19,
   "id": "7be8c8d3-e4cb-45aa-9ec6-713fa6a30342",
   "metadata": {
    "execution": {
     "iopub.execute_input": "2021-04-25T08:32:07.576000-07:00",
     "iopub.status.busy": "2021-04-25T08:32:07.575000-07:00",
     "iopub.status.idle": "2021-04-25T08:32:07.595000-07:00",
     "shell.execute_reply": "2021-04-25T08:32:07.594000-07:00"
    },
    "tags": []
   },
   "outputs": [
    {
     "data": {
      "text/plain": [
       "MyTime(9, 45, 0)"
      ]
     },
     "execution_count": 19,
     "metadata": {},
     "output_type": "execute_result"
    }
   ],
   "source": [
    "int2time(time2int(start))"
   ]
  },
  {
   "cell_type": "markdown",
   "id": "74e11d39-1251-496d-8b20-0521ae5afdf5",
   "metadata": {},
   "source": [
    "## Shorthand Notation"
   ]
  },
  {
   "cell_type": "code",
   "execution_count": 20,
   "id": "127210f8-3890-4cd0-959e-73cfa770322c",
   "metadata": {
    "execution": {
     "iopub.execute_input": "2021-04-25T08:32:07.598000-07:00",
     "iopub.status.busy": "2021-04-25T08:32:07.596000-07:00",
     "iopub.status.idle": "2021-04-25T08:32:07.719000-07:00",
     "shell.execute_reply": "2021-04-25T08:32:07.719000-07:00"
    },
    "tags": []
   },
   "outputs": [
    {
     "data": {
      "text/plain": [
       "f (generic function with 3 methods)"
      ]
     },
     "execution_count": 20,
     "metadata": {},
     "output_type": "execute_result"
    }
   ],
   "source": [
    "function f(a=1,b=2)\n",
    "    a + 2b\n",
    "end"
   ]
  },
  {
   "cell_type": "markdown",
   "id": "2dc43e9c-245d-41b4-b1e3-ff60b80be2f2",
   "metadata": {},
   "source": [
    "is equal to the next 3 lines"
   ]
  },
  {
   "cell_type": "code",
   "execution_count": 21,
   "id": "89fccf9c-5d2a-42a6-b809-26a3cd7761f3",
   "metadata": {
    "execution": {
     "iopub.execute_input": "2021-04-25T08:32:07.721000-07:00",
     "iopub.status.busy": "2021-04-25T08:32:07.720000-07:00",
     "iopub.status.idle": "2021-04-25T08:32:07.726000-07:00",
     "shell.execute_reply": "2021-04-25T08:32:07.725000-07:00"
    },
    "tags": []
   },
   "outputs": [
    {
     "data": {
      "text/plain": [
       "f (generic function with 3 methods)"
      ]
     },
     "execution_count": 21,
     "metadata": {},
     "output_type": "execute_result"
    }
   ],
   "source": [
    "f(a,b) = a + 2b\n",
    "f(a) = f(a,2)\n",
    "f() = f(1,2)"
   ]
  },
  {
   "cell_type": "code",
   "execution_count": 22,
   "id": "6c79f2f0-71cd-4794-a643-42d8c06c2210",
   "metadata": {
    "execution": {
     "iopub.execute_input": "2021-04-25T08:32:07.727000-07:00",
     "iopub.status.busy": "2021-04-25T08:32:07.727000-07:00",
     "iopub.status.idle": "2021-04-25T08:32:07.730000-07:00",
     "shell.execute_reply": "2021-04-25T08:32:07.730000-07:00"
    },
    "tags": []
   },
   "outputs": [
    {
     "data": {
      "text/plain": [
       "5"
      ]
     },
     "execution_count": 22,
     "metadata": {},
     "output_type": "execute_result"
    }
   ],
   "source": [
    "f()"
   ]
  },
  {
   "cell_type": "code",
   "execution_count": 23,
   "id": "a6495786-0a64-4b01-aaa1-971f7ae8fde6",
   "metadata": {
    "execution": {
     "iopub.execute_input": "2021-04-25T08:32:07.730000-07:00",
     "iopub.status.busy": "2021-04-25T08:32:07.730000-07:00",
     "iopub.status.idle": "2021-04-25T08:32:07.742000-07:00",
     "shell.execute_reply": "2021-04-25T08:32:07.742000-07:00"
    },
    "tags": []
   },
   "outputs": [
    {
     "data": {
      "text/plain": [
       "6"
      ]
     },
     "execution_count": 23,
     "metadata": {},
     "output_type": "execute_result"
    }
   ],
   "source": [
    "f(2)"
   ]
  },
  {
   "cell_type": "markdown",
   "id": "f220cbe0-2b70-416b-a7de-14b3aab04e30",
   "metadata": {},
   "source": [
    "## Constructors\n",
    "* special function that is called to create an object.\n",
    "* **copy constructor**: new object is the copy of its argument"
   ]
  },
  {
   "cell_type": "code",
   "execution_count": 24,
   "id": "a85881fa-7779-47ab-8f23-81f696642349",
   "metadata": {
    "execution": {
     "iopub.execute_input": "2021-04-25T08:32:07.743000-07:00",
     "iopub.status.busy": "2021-04-25T08:32:07.743000-07:00",
     "iopub.status.idle": "2021-04-25T08:32:07.748000-07:00",
     "shell.execute_reply": "2021-04-25T08:32:07.748000-07:00"
    },
    "tags": []
   },
   "outputs": [
    {
     "data": {
      "text/plain": [
       "MyTime"
      ]
     },
     "execution_count": 24,
     "metadata": {},
     "output_type": "execute_result"
    }
   ],
   "source": [
    "function MyTime(time :: MyTime)\n",
    "    MyTime(time.hour,time.minute,time.second)\n",
    "end"
   ]
  },
  {
   "cell_type": "markdown",
   "id": "001376e8-2ac4-4302-9906-b62fdfb81244",
   "metadata": {},
   "source": [
    "* **inner constructor**\n",
    "    * `new()` function"
   ]
  },
  {
   "cell_type": "code",
   "execution_count": 25,
   "id": "ef9ca142-555e-48d0-a1db-50c315d63a28",
   "metadata": {
    "execution": {
     "iopub.execute_input": "2021-04-25T08:32:07.748000-07:00",
     "iopub.status.busy": "2021-04-25T08:32:07.748000-07:00",
     "iopub.status.idle": "2021-04-25T08:32:07.776000-07:00",
     "shell.execute_reply": "2021-04-25T08:32:07.775000-07:00"
    },
    "tags": []
   },
   "outputs": [],
   "source": [
    "struct MyTime\n",
    "    hour :: Int64\n",
    "    minute :: Int64\n",
    "    second :: Int64\n",
    "    function MyTime(hour::Int64=0, minute::Int64=0, second::Int64=0)\n",
    "        @assert(0 <= minute < 60, \"Minute is not between 0 and 60\")\n",
    "        @assert(0 <= second < 60, \"Second is not between 0 and 60\")\n",
    "        new(hour,minute,second)\n",
    "    end\n",
    "end"
   ]
  },
  {
   "cell_type": "code",
   "execution_count": 26,
   "id": "a794f320-6fe3-413b-9dbc-80bf0fd3e250",
   "metadata": {
    "execution": {
     "iopub.execute_input": "2021-04-25T08:32:07.779000-07:00",
     "iopub.status.busy": "2021-04-25T08:32:07.777000-07:00",
     "iopub.status.idle": "2021-04-25T08:32:07.784000-07:00",
     "shell.execute_reply": "2021-04-25T08:32:07.783000-07:00"
    },
    "tags": []
   },
   "outputs": [
    {
     "data": {
      "text/plain": [
       "MyTime(0, 0, 0)"
      ]
     },
     "execution_count": 26,
     "metadata": {},
     "output_type": "execute_result"
    }
   ],
   "source": [
    "MyTime()"
   ]
  },
  {
   "cell_type": "code",
   "execution_count": 27,
   "id": "a69aa6c7-52f6-4383-b81d-6a1a55e5d432",
   "metadata": {
    "execution": {
     "iopub.execute_input": "2021-04-25T08:32:07.785000-07:00",
     "iopub.status.busy": "2021-04-25T08:32:07.785000-07:00",
     "iopub.status.idle": "2021-04-25T08:32:07.796000-07:00",
     "shell.execute_reply": "2021-04-25T08:32:07.795000-07:00"
    },
    "tags": []
   },
   "outputs": [
    {
     "data": {
      "text/plain": [
       "MyTime(16, 0, 0)"
      ]
     },
     "execution_count": 27,
     "metadata": {},
     "output_type": "execute_result"
    }
   ],
   "source": [
    "MyTime(16)"
   ]
  },
  {
   "cell_type": "code",
   "execution_count": 28,
   "id": "01f0ecc3-5080-4483-9944-e2be467f7f49",
   "metadata": {
    "execution": {
     "iopub.execute_input": "2021-04-25T08:32:07.798000-07:00",
     "iopub.status.busy": "2021-04-25T08:32:07.797000-07:00",
     "iopub.status.idle": "2021-04-25T08:32:07.809000-07:00",
     "shell.execute_reply": "2021-04-25T08:32:07.808000-07:00"
    },
    "tags": []
   },
   "outputs": [
    {
     "data": {
      "text/plain": [
       "MyTime(16, 22, 10)"
      ]
     },
     "execution_count": 28,
     "metadata": {},
     "output_type": "execute_result"
    }
   ],
   "source": [
    "MyTime(16,22,10)"
   ]
  },
  {
   "cell_type": "markdown",
   "id": "908ee276-a879-4609-a8f4-d00f829c2299",
   "metadata": {},
   "source": [
    "* `new()` without parameters\n",
    "    * must to be a **Mutable Struct**\n",
    "    * to construct **recursive data structures**: structs where *one of the fields is the struct its self.*"
   ]
  },
  {
   "cell_type": "code",
   "execution_count": 29,
   "id": "8cc96ec7-819f-4c9b-b541-f66c8cdff88a",
   "metadata": {
    "execution": {
     "iopub.execute_input": "2021-04-25T08:32:07.811000-07:00",
     "iopub.status.busy": "2021-04-25T08:32:07.810000-07:00",
     "iopub.status.idle": "2021-04-25T08:32:07.816000-07:00",
     "shell.execute_reply": "2021-04-25T08:32:07.815000-07:00"
    },
    "tags": []
   },
   "outputs": [],
   "source": [
    "struct MyTime2\n",
    "    hour :: Int\n",
    "    minute :: Int\n",
    "    seond :: Int\n",
    "    function MyTime2(hour::Int64=0,minute::Int64=0,second::Int64=0)\n",
    "        @assert(0 <= minute < 60, \"Minute is between 0 and 60\")\n",
    "        @assert(0 <= second < 60, \"Second is between 0 and 60\")\n",
    "        \n",
    "        time = new()\n",
    "        time.hour = hour\n",
    "        time.minute = minute\n",
    "        time.second = second\n",
    "        time\n",
    "    end\n",
    "end"
   ]
  },
  {
   "cell_type": "code",
   "execution_count": 30,
   "id": "4d5df28d-21bc-4417-863d-440cf2017f15",
   "metadata": {
    "execution": {
     "iopub.execute_input": "2021-04-25T08:32:07.818000-07:00",
     "iopub.status.busy": "2021-04-25T08:32:07.817000-07:00",
     "iopub.status.idle": "2021-04-25T08:32:07.900000-07:00",
     "shell.execute_reply": "2021-04-25T08:32:07.899000-07:00"
    },
    "tags": []
   },
   "outputs": [
    {
     "ename": "LoadError",
     "evalue": "setfield! immutable struct of type MyTime2 cannot be changed",
     "output_type": "error",
     "traceback": [
      "setfield! immutable struct of type MyTime2 cannot be changed",
      "",
      "Stacktrace:",
      " [1] setproperty!",
      "   @ ./Base.jl:34 [inlined]",
      " [2] MyTime2(hour::Int64, minute::Int64, second::Int64)",
      "   @ Main ./In[29]:10",
      " [3] top-level scope",
      "   @ In[30]:1",
      " [4] eval",
      "   @ ./boot.jl:360 [inlined]",
      " [5] include_string(mapexpr::typeof(REPL.softscope), mod::Module, code::String, filename::String)",
      "   @ Base ./loading.jl:1094"
     ]
    }
   ],
   "source": [
    "MyTime2(12,21,2)"
   ]
  },
  {
   "cell_type": "code",
   "execution_count": 31,
   "id": "5f3c6901-a7b7-4ece-8b9a-18c27aeea879",
   "metadata": {
    "execution": {
     "iopub.execute_input": "2021-04-25T08:32:07.902000-07:00",
     "iopub.status.busy": "2021-04-25T08:32:07.901000-07:00",
     "iopub.status.idle": "2021-04-25T08:32:07.908000-07:00",
     "shell.execute_reply": "2021-04-25T08:32:07.906000-07:00"
    },
    "tags": []
   },
   "outputs": [],
   "source": [
    "mutable struct MyTime3\n",
    "    hour :: Int\n",
    "    minute :: Int\n",
    "    second :: Int\n",
    "    function MyTime3(hour::Int64=0,minute::Int64=0,second::Int64=0)\n",
    "        @assert(0 <= minute < 60, \"Minute is between 0 and 60\")\n",
    "        @assert(0 <= second < 60, \"Second is between 0 and 60\")\n",
    "        \n",
    "        time = new()\n",
    "        time.hour = hour\n",
    "        time.minute = minute\n",
    "        time.second = second\n",
    "        time\n",
    "    end\n",
    "end"
   ]
  },
  {
   "cell_type": "code",
   "execution_count": 32,
   "id": "38578e96-9e2b-4549-8331-edee20a4eda1",
   "metadata": {
    "execution": {
     "iopub.execute_input": "2021-04-25T08:32:07.910000-07:00",
     "iopub.status.busy": "2021-04-25T08:32:07.909000-07:00",
     "iopub.status.idle": "2021-04-25T08:32:08.236000-07:00",
     "shell.execute_reply": "2021-04-25T08:32:08.236000-07:00"
    },
    "tags": []
   },
   "outputs": [
    {
     "data": {
      "text/plain": [
       "MyTime3(1, 2, 0)"
      ]
     },
     "execution_count": 32,
     "metadata": {},
     "output_type": "execute_result"
    }
   ],
   "source": [
    "MyTime3(1,2)"
   ]
  },
  {
   "cell_type": "markdown",
   "id": "3a080982-7006-4713-8402-c841f76e1451",
   "metadata": {},
   "source": [
    "## Show"
   ]
  },
  {
   "cell_type": "code",
   "execution_count": 33,
   "id": "6a8691a2-1fe3-40ad-8917-a6fa39efbde2",
   "metadata": {
    "execution": {
     "iopub.execute_input": "2021-04-25T08:32:08.237000-07:00",
     "iopub.status.busy": "2021-04-25T08:32:08.237000-07:00",
     "iopub.status.idle": "2021-04-25T08:32:08.245000-07:00",
     "shell.execute_reply": "2021-04-25T08:32:08.245000-07:00"
    },
    "tags": []
   },
   "outputs": [],
   "source": [
    "using Printf\n",
    "function Base.show(io::IO, time::MyTime)\n",
    "    @printf(io, \"%02d:%02d:%02d\", time.hour, time.minute, time.second)\n",
    "end"
   ]
  },
  {
   "cell_type": "code",
   "execution_count": 34,
   "id": "bd966a45-c79c-4f94-af64-fb582ab40724",
   "metadata": {
    "execution": {
     "iopub.execute_input": "2021-04-25T08:32:08.246000-07:00",
     "iopub.status.busy": "2021-04-25T08:32:08.246000-07:00",
     "iopub.status.idle": "2021-04-25T08:32:08.409000-07:00",
     "shell.execute_reply": "2021-04-25T08:32:08.408000-07:00"
    },
    "tags": []
   },
   "outputs": [
    {
     "data": {
      "text/plain": [
       "09:45:00"
      ]
     },
     "execution_count": 34,
     "metadata": {},
     "output_type": "execute_result"
    }
   ],
   "source": [
    "time2 = MyTime(9,45)"
   ]
  },
  {
   "cell_type": "code",
   "execution_count": 35,
   "id": "a2ddc3dc-0c86-40e5-a9be-38c2379088e2",
   "metadata": {
    "execution": {
     "iopub.execute_input": "2021-04-25T08:32:08.411000-07:00",
     "iopub.status.busy": "2021-04-25T08:32:08.410000-07:00",
     "iopub.status.idle": "2021-04-25T08:32:09.746000-07:00",
     "shell.execute_reply": "2021-04-25T08:32:09.745000-07:00"
    },
    "tags": []
   },
   "outputs": [
    {
     "name": "stdout",
     "output_type": "stream",
     "text": [
      "search: \u001b[0m\u001b[1mp\u001b[22m\u001b[0m\u001b[1mr\u001b[22m\u001b[0m\u001b[1mi\u001b[22m\u001b[0m\u001b[1mn\u001b[22m\u001b[0m\u001b[1mt\u001b[22m \u001b[0m\u001b[1mp\u001b[22m\u001b[0m\u001b[1mr\u001b[22m\u001b[0m\u001b[1mi\u001b[22m\u001b[0m\u001b[1mn\u001b[22m\u001b[0m\u001b[1mt\u001b[22mln \u001b[0m\u001b[1mP\u001b[22m\u001b[0m\u001b[1mr\u001b[22m\u001b[0m\u001b[1mi\u001b[22m\u001b[0m\u001b[1mn\u001b[22m\u001b[0m\u001b[1mt\u001b[22mf \u001b[0m\u001b[1mp\u001b[22m\u001b[0m\u001b[1mr\u001b[22m\u001b[0m\u001b[1mi\u001b[22m\u001b[0m\u001b[1mn\u001b[22m\u001b[0m\u001b[1mt\u001b[22mtime \u001b[0m\u001b[1mp\u001b[22m\u001b[0m\u001b[1mr\u001b[22m\u001b[0m\u001b[1mi\u001b[22m\u001b[0m\u001b[1mn\u001b[22m\u001b[0m\u001b[1mt\u001b[22mstyled s\u001b[0m\u001b[1mp\u001b[22m\u001b[0m\u001b[1mr\u001b[22m\u001b[0m\u001b[1mi\u001b[22m\u001b[0m\u001b[1mn\u001b[22m\u001b[0m\u001b[1mt\u001b[22m @\u001b[0m\u001b[1mp\u001b[22m\u001b[0m\u001b[1mr\u001b[22m\u001b[0m\u001b[1mi\u001b[22m\u001b[0m\u001b[1mn\u001b[22m\u001b[0m\u001b[1mt\u001b[22mf is\u001b[0m\u001b[1mp\u001b[22m\u001b[0m\u001b[1mr\u001b[22m\u001b[0m\u001b[1mi\u001b[22m\u001b[0m\u001b[1mn\u001b[22m\u001b[0m\u001b[1mt\u001b[22m\n",
      "\n"
     ]
    },
    {
     "data": {
      "text/latex": [
       "\\begin{verbatim}\n",
       "print([io::IO], xs...)\n",
       "\\end{verbatim}\n",
       "Write to \\texttt{io} (or to the default output stream \\href{@ref}{\\texttt{stdout}} if \\texttt{io} is not given) a canonical (un-decorated) text representation. The representation used by \\texttt{print} includes minimal formatting and tries to avoid Julia-specific details.\n",
       "\n",
       "\\texttt{print} falls back to calling \\texttt{show}, so most types should just define \\texttt{show}. Define \\texttt{print} if your type has a separate \"plain\" representation. For example, \\texttt{show} displays strings with quotes, and \\texttt{print} displays strings without quotes.\n",
       "\n",
       "\\href{@ref}{\\texttt{string}} returns the output of \\texttt{print} as a string.\n",
       "\n",
       "\\section{Examples}\n",
       "\\begin{verbatim}\n",
       "julia> print(\"Hello World!\")\n",
       "Hello World!\n",
       "julia> io = IOBuffer();\n",
       "\n",
       "julia> print(io, \"Hello\", ' ', :World!)\n",
       "\n",
       "julia> String(take!(io))\n",
       "\"Hello World!\"\n",
       "\\end{verbatim}\n"
      ],
      "text/markdown": [
       "```\n",
       "print([io::IO], xs...)\n",
       "```\n",
       "\n",
       "Write to `io` (or to the default output stream [`stdout`](@ref) if `io` is not given) a canonical (un-decorated) text representation. The representation used by `print` includes minimal formatting and tries to avoid Julia-specific details.\n",
       "\n",
       "`print` falls back to calling `show`, so most types should just define `show`. Define `print` if your type has a separate \"plain\" representation. For example, `show` displays strings with quotes, and `print` displays strings without quotes.\n",
       "\n",
       "[`string`](@ref) returns the output of `print` as a string.\n",
       "\n",
       "# Examples\n",
       "\n",
       "```jldoctest\n",
       "julia> print(\"Hello World!\")\n",
       "Hello World!\n",
       "julia> io = IOBuffer();\n",
       "\n",
       "julia> print(io, \"Hello\", ' ', :World!)\n",
       "\n",
       "julia> String(take!(io))\n",
       "\"Hello World!\"\n",
       "```\n"
      ],
      "text/plain": [
       "\u001b[36m  print([io::IO], xs...)\u001b[39m\n",
       "\n",
       "  Write to \u001b[36mio\u001b[39m (or to the default output stream \u001b[36mstdout\u001b[39m if \u001b[36mio\u001b[39m is not given) a\n",
       "  canonical (un-decorated) text representation. The representation used by\n",
       "  \u001b[36mprint\u001b[39m includes minimal formatting and tries to avoid Julia-specific details.\n",
       "\n",
       "  \u001b[36mprint\u001b[39m falls back to calling \u001b[36mshow\u001b[39m, so most types should just define \u001b[36mshow\u001b[39m.\n",
       "  Define \u001b[36mprint\u001b[39m if your type has a separate \"plain\" representation. For\n",
       "  example, \u001b[36mshow\u001b[39m displays strings with quotes, and \u001b[36mprint\u001b[39m displays strings\n",
       "  without quotes.\n",
       "\n",
       "  \u001b[36mstring\u001b[39m returns the output of \u001b[36mprint\u001b[39m as a string.\n",
       "\n",
       "\u001b[1m  Examples\u001b[22m\n",
       "\u001b[1m  ≡≡≡≡≡≡≡≡≡≡\u001b[22m\n",
       "\n",
       "\u001b[36m  julia> print(\"Hello World!\")\u001b[39m\n",
       "\u001b[36m  Hello World!\u001b[39m\n",
       "\u001b[36m  julia> io = IOBuffer();\u001b[39m\n",
       "\u001b[36m  \u001b[39m\n",
       "\u001b[36m  julia> print(io, \"Hello\", ' ', :World!)\u001b[39m\n",
       "\u001b[36m  \u001b[39m\n",
       "\u001b[36m  julia> String(take!(io))\u001b[39m\n",
       "\u001b[36m  \"Hello World!\"\u001b[39m"
      ]
     },
     "execution_count": 35,
     "metadata": {},
     "output_type": "execute_result"
    }
   ],
   "source": [
    "?print"
   ]
  },
  {
   "cell_type": "code",
   "execution_count": 36,
   "id": "30a95856-e4c2-4a91-888a-e22af42955f8",
   "metadata": {
    "execution": {
     "iopub.execute_input": "2021-04-25T08:32:09.748000-07:00",
     "iopub.status.busy": "2021-04-25T08:32:09.747000-07:00",
     "iopub.status.idle": "2021-04-25T08:32:09.752000-07:00",
     "shell.execute_reply": "2021-04-25T08:32:09.751000-07:00"
    },
    "tags": []
   },
   "outputs": [],
   "source": [
    "using Printf\n",
    "function Base.print(io::IO, time::MyTime)\n",
    "    @printf(io, \"%02d:%02d:%02d\", time.hour, time.minute, time.second)\n",
    "end"
   ]
  },
  {
   "cell_type": "code",
   "execution_count": 37,
   "id": "3ae1e032-003f-4ebe-965f-a32ba839c8bf",
   "metadata": {
    "execution": {
     "iopub.execute_input": "2021-04-25T08:32:09.753000-07:00",
     "iopub.status.busy": "2021-04-25T08:32:09.753000-07:00",
     "iopub.status.idle": "2021-04-25T08:32:09.794000-07:00",
     "shell.execute_reply": "2021-04-25T08:32:09.793000-07:00"
    },
    "tags": []
   },
   "outputs": [
    {
     "name": "stdout",
     "output_type": "stream",
     "text": [
      "09:45:00"
     ]
    }
   ],
   "source": [
    "print(time2)"
   ]
  },
  {
   "cell_type": "markdown",
   "id": "3cdd2a6c-9b62-4f8a-9b8e-dd15ac4bbd23",
   "metadata": {},
   "source": [
    "#### Ex17-2"
   ]
  },
  {
   "cell_type": "code",
   "execution_count": 38,
   "id": "55921231-aa68-4039-8d89-e7321c31ccaa",
   "metadata": {
    "execution": {
     "iopub.execute_input": "2021-04-25T08:32:09.796000-07:00",
     "iopub.status.busy": "2021-04-25T08:32:09.795000-07:00",
     "iopub.status.idle": "2021-04-25T08:32:09.803000-07:00",
     "shell.execute_reply": "2021-04-25T08:32:09.802000-07:00"
    },
    "tags": []
   },
   "outputs": [
    {
     "data": {
      "text/plain": [
       "Pointoutter"
      ]
     },
     "execution_count": 38,
     "metadata": {},
     "output_type": "execute_result"
    }
   ],
   "source": [
    "struct Pointoutter\n",
    "    x::Float64\n",
    "    y::Float64\n",
    "end\n",
    "\n",
    "function Pointoutter(x::Float64=0,y::Float64=0)\n",
    "    Pointoutter(x,y)\n",
    "end\n"
   ]
  },
  {
   "cell_type": "code",
   "execution_count": 39,
   "id": "1d9045cf-d58a-4a2b-a8e6-920631dedae4",
   "metadata": {
    "execution": {
     "iopub.execute_input": "2021-04-25T08:32:09.806000-07:00",
     "iopub.status.busy": "2021-04-25T08:32:09.805000-07:00",
     "iopub.status.idle": "2021-04-25T08:32:10.166000-07:00",
     "shell.execute_reply": "2021-04-25T08:32:10.166000-07:00"
    },
    "tags": []
   },
   "outputs": [
    {
     "data": {
      "text/plain": [
       "Pointoutter(1.0, 0.0)"
      ]
     },
     "execution_count": 39,
     "metadata": {},
     "output_type": "execute_result"
    }
   ],
   "source": [
    "Pointoutter(1.0)"
   ]
  },
  {
   "cell_type": "markdown",
   "id": "8135a3b5-7cf6-4740-abde-5fc5e5ee8f44",
   "metadata": {
    "execution": {
     "iopub.execute_input": "2021-04-24T19:04:54.512000-07:00",
     "iopub.status.busy": "2021-04-24T19:04:54.512000-07:00",
     "iopub.status.idle": "2021-04-24T19:04:54.513000-07:00",
     "shell.execute_reply": "2021-04-24T19:04:54.513000-07:00"
    },
    "tags": []
   },
   "source": [
    "## Default, Outer and Inner Constructor\n",
    "### default constructor doesn't limit the type of input"
   ]
  },
  {
   "cell_type": "code",
   "execution_count": 40,
   "id": "8abfcccc-1427-4d74-be56-fec5bffc2745",
   "metadata": {
    "execution": {
     "iopub.execute_input": "2021-04-25T08:32:10.166000-07:00",
     "iopub.status.busy": "2021-04-25T08:32:10.166000-07:00",
     "iopub.status.idle": "2021-04-25T08:32:10.168000-07:00",
     "shell.execute_reply": "2021-04-25T08:32:10.168000-07:00"
    },
    "tags": []
   },
   "outputs": [],
   "source": [
    "struct Point\n",
    "    x::Float64\n",
    "    y::Float64\n",
    "end"
   ]
  },
  {
   "cell_type": "code",
   "execution_count": 41,
   "id": "be6f6bd7-bc91-4f5a-9399-e4bfac7cda91",
   "metadata": {
    "execution": {
     "iopub.execute_input": "2021-04-25T08:32:10.168000-07:00",
     "iopub.status.busy": "2021-04-25T08:32:10.168000-07:00",
     "iopub.status.idle": "2021-04-25T08:32:11.485000-07:00",
     "shell.execute_reply": "2021-04-25T08:32:11.485000-07:00"
    },
    "tags": []
   },
   "outputs": [
    {
     "data": {
      "text/plain": [
       "Point(10.0, 21.0)"
      ]
     },
     "execution_count": 41,
     "metadata": {},
     "output_type": "execute_result"
    }
   ],
   "source": [
    "Point(10,21)"
   ]
  },
  {
   "cell_type": "code",
   "execution_count": 42,
   "id": "caf7eb7c-c88b-453d-82df-2e699aaba4a7",
   "metadata": {
    "execution": {
     "iopub.execute_input": "2021-04-25T08:32:11.485000-07:00",
     "iopub.status.busy": "2021-04-25T08:32:11.485000-07:00",
     "iopub.status.idle": "2021-04-25T08:32:11.511000-07:00",
     "shell.execute_reply": "2021-04-25T08:32:11.511000-07:00"
    },
    "tags": []
   },
   "outputs": [
    {
     "data": {
      "text/plain": [
       "Point(0.5, 3.141592653589793)"
      ]
     },
     "execution_count": 42,
     "metadata": {},
     "output_type": "execute_result"
    }
   ],
   "source": [
    "Point(1//2,pi)"
   ]
  },
  {
   "cell_type": "markdown",
   "id": "95165c76-2911-499e-a726-d96a1a5c0cf6",
   "metadata": {},
   "source": [
    "### Outer Constructor limit some type but doesn't destroy default constructor"
   ]
  },
  {
   "cell_type": "code",
   "execution_count": 43,
   "id": "a5b840c6-c0f5-4c81-8a2b-de51a1253f74",
   "metadata": {
    "execution": {
     "iopub.execute_input": "2021-04-25T08:32:11.511000-07:00",
     "iopub.status.busy": "2021-04-25T08:32:11.511000-07:00",
     "iopub.status.idle": "2021-04-25T08:32:11.516000-07:00",
     "shell.execute_reply": "2021-04-25T08:32:11.516000-07:00"
    },
    "tags": []
   },
   "outputs": [
    {
     "data": {
      "text/plain": [
       "Pointoutter"
      ]
     },
     "execution_count": 43,
     "metadata": {},
     "output_type": "execute_result"
    }
   ],
   "source": [
    "struct Pointoutter\n",
    "    x::Float64\n",
    "    y::Float64\n",
    "end\n",
    "\n",
    "function Pointoutter(x::Float64=0,y::Float64=0)\n",
    "    Pointoutter(x,y)\n",
    "end"
   ]
  },
  {
   "cell_type": "code",
   "execution_count": 44,
   "id": "8c7cbe53-f47b-4a78-92db-63de5560954e",
   "metadata": {
    "execution": {
     "iopub.execute_input": "2021-04-25T08:32:11.517000-07:00",
     "iopub.status.busy": "2021-04-25T08:32:11.517000-07:00",
     "iopub.status.idle": "2021-04-25T08:32:11.524000-07:00",
     "shell.execute_reply": "2021-04-25T08:32:11.524000-07:00"
    }
   },
   "outputs": [
    {
     "data": {
      "text/plain": [
       "Pointoutter(1.0, 2.0)"
      ]
     },
     "execution_count": 44,
     "metadata": {},
     "output_type": "execute_result"
    }
   ],
   "source": [
    "Pointoutter(1,2)"
   ]
  },
  {
   "cell_type": "code",
   "execution_count": 45,
   "id": "ac04e32a-c608-44ee-9a7d-9bf1f9f4e538",
   "metadata": {
    "execution": {
     "iopub.execute_input": "2021-04-25T08:32:11.524000-07:00",
     "iopub.status.busy": "2021-04-25T08:32:11.524000-07:00",
     "iopub.status.idle": "2021-04-25T08:32:11.530000-07:00",
     "shell.execute_reply": "2021-04-25T08:32:11.530000-07:00"
    },
    "tags": []
   },
   "outputs": [
    {
     "data": {
      "text/plain": [
       "Pointoutter(1.0, 0.0)"
      ]
     },
     "execution_count": 45,
     "metadata": {},
     "output_type": "execute_result"
    }
   ],
   "source": [
    "Pointoutter(1.0)"
   ]
  },
  {
   "cell_type": "code",
   "execution_count": 46,
   "id": "d1683b70-b798-498c-8da1-1de223b912e3",
   "metadata": {
    "execution": {
     "iopub.execute_input": "2021-04-25T08:32:11.531000-07:00",
     "iopub.status.busy": "2021-04-25T08:32:11.530000-07:00",
     "iopub.status.idle": "2021-04-25T08:32:12.106000-07:00",
     "shell.execute_reply": "2021-04-25T08:32:12.106000-07:00"
    },
    "tags": []
   },
   "outputs": [
    {
     "ename": "LoadError",
     "evalue": "MethodError: no method matching Pointoutter(::Int64)\n\u001b[0mClosest candidates are:\n\u001b[0m  Pointoutter(::Any, \u001b[91m::Any\u001b[39m) at In[43]:2\n\u001b[0m  Pointoutter() at In[43]:6\n\u001b[0m  Pointoutter(\u001b[91m::Float64\u001b[39m) at In[43]:6\n\u001b[0m  ...",
     "output_type": "error",
     "traceback": [
      "MethodError: no method matching Pointoutter(::Int64)\n\u001b[0mClosest candidates are:\n\u001b[0m  Pointoutter(::Any, \u001b[91m::Any\u001b[39m) at In[43]:2\n\u001b[0m  Pointoutter() at In[43]:6\n\u001b[0m  Pointoutter(\u001b[91m::Float64\u001b[39m) at In[43]:6\n\u001b[0m  ...",
      "",
      "Stacktrace:",
      " [1] top-level scope",
      "   @ In[46]:1",
      " [2] eval",
      "   @ ./boot.jl:360 [inlined]",
      " [3] include_string(mapexpr::typeof(REPL.softscope), mod::Module, code::String, filename::String)",
      "   @ Base ./loading.jl:1094"
     ]
    }
   ],
   "source": [
    "Pointoutter(1)"
   ]
  },
  {
   "cell_type": "markdown",
   "id": "5d812edd-db1f-4823-af01-14386f73ed66",
   "metadata": {},
   "source": [
    "#### Inner Constructor limit strickly, will destroy default constructor"
   ]
  },
  {
   "cell_type": "code",
   "execution_count": 47,
   "id": "136397f8-3f79-4727-ad79-abd388f44d90",
   "metadata": {
    "execution": {
     "iopub.execute_input": "2021-04-25T08:32:12.106000-07:00",
     "iopub.status.busy": "2021-04-25T08:32:12.106000-07:00",
     "iopub.status.idle": "2021-04-25T08:32:12.108000-07:00",
     "shell.execute_reply": "2021-04-25T08:32:12.108000-07:00"
    },
    "tags": []
   },
   "outputs": [],
   "source": [
    "struct Pointinner\n",
    "    x::Float64\n",
    "    y::Float64\n",
    "    function Pointinner(x::Float64=0,y::Float64=0)\n",
    "        new(x,y)\n",
    "    end\n",
    "end"
   ]
  },
  {
   "cell_type": "code",
   "execution_count": 48,
   "id": "b0135136-751f-498b-8364-c95adcc4aa35",
   "metadata": {
    "execution": {
     "iopub.execute_input": "2021-04-25T08:32:12.108000-07:00",
     "iopub.status.busy": "2021-04-25T08:32:12.108000-07:00",
     "iopub.status.idle": "2021-04-25T08:32:12.116000-07:00",
     "shell.execute_reply": "2021-04-25T08:32:12.116000-07:00"
    },
    "tags": []
   },
   "outputs": [
    {
     "ename": "LoadError",
     "evalue": "MethodError: no method matching Pointinner(::Int64, ::Int64)",
     "output_type": "error",
     "traceback": [
      "MethodError: no method matching Pointinner(::Int64, ::Int64)",
      "",
      "Stacktrace:",
      " [1] top-level scope",
      "   @ In[48]:1",
      " [2] eval",
      "   @ ./boot.jl:360 [inlined]",
      " [3] include_string(mapexpr::typeof(REPL.softscope), mod::Module, code::String, filename::String)",
      "   @ Base ./loading.jl:1094"
     ]
    }
   ],
   "source": [
    "Pointinner(1,2)"
   ]
  },
  {
   "cell_type": "code",
   "execution_count": 49,
   "id": "d5490fec-fcc1-4244-a28d-5983675d35b6",
   "metadata": {
    "execution": {
     "iopub.execute_input": "2021-04-25T08:32:12.117000-07:00",
     "iopub.status.busy": "2021-04-25T08:32:12.116000-07:00",
     "iopub.status.idle": "2021-04-25T08:32:12.480000-07:00",
     "shell.execute_reply": "2021-04-25T08:32:12.479000-07:00"
    },
    "tags": []
   },
   "outputs": [
    {
     "data": {
      "text/plain": [
       "Pointinner(1.0, 2.0)"
      ]
     },
     "execution_count": 49,
     "metadata": {},
     "output_type": "execute_result"
    }
   ],
   "source": [
    "Pointinner(1.0,2.0)"
   ]
  },
  {
   "cell_type": "markdown",
   "id": "67e93f81-c636-4df3-818d-44e69a328b10",
   "metadata": {},
   "source": [
    "## Operator Overloading\n",
    "* *adding to the behavior of an operator so that it works with programmer-defined types*"
   ]
  },
  {
   "cell_type": "code",
   "execution_count": 50,
   "id": "9128304c-dc0c-4247-b189-0296eb5438a0",
   "metadata": {
    "execution": {
     "iopub.execute_input": "2021-04-25T08:32:12.482000-07:00",
     "iopub.status.busy": "2021-04-25T08:32:12.481000-07:00",
     "iopub.status.idle": "2021-04-25T08:32:12.612000-07:00",
     "shell.execute_reply": "2021-04-25T08:32:12.611000-07:00"
    },
    "tags": []
   },
   "outputs": [
    {
     "data": {
      "text/plain": [
       "inttotime (generic function with 1 method)"
      ]
     },
     "execution_count": 50,
     "metadata": {},
     "output_type": "execute_result"
    }
   ],
   "source": [
    "function timetoint(time::MyTime)\n",
    "    minutes = time.hour * 60 + time.minute\n",
    "    seconds = minutes * 60 + time.second\n",
    "end\n",
    "function inttotime(seconds)\n",
    "    (minutes, second) = divrem(seconds, 60)\n",
    "    (hour, minute) = divrem(minutes, 60)\n",
    "    MyTime(hour,minute,second)\n",
    "end"
   ]
  },
  {
   "cell_type": "markdown",
   "id": "5bc9eb1b-6bbe-494f-9818-d6cf388ce39b",
   "metadata": {},
   "source": [
    "* `import` add the `+` operator to the local scope, so the methods could be added"
   ]
  },
  {
   "cell_type": "code",
   "execution_count": 51,
   "id": "8405eedd-63a2-4abc-a76f-8664873defee",
   "metadata": {
    "execution": {
     "iopub.execute_input": "2021-04-25T08:32:12.614000-07:00",
     "iopub.status.busy": "2021-04-25T08:32:12.613000-07:00",
     "iopub.status.idle": "2021-04-25T08:32:12.751000-07:00",
     "shell.execute_reply": "2021-04-25T08:32:12.751000-07:00"
    },
    "tags": []
   },
   "outputs": [
    {
     "data": {
      "text/plain": [
       "+ (generic function with 191 methods)"
      ]
     },
     "execution_count": 51,
     "metadata": {},
     "output_type": "execute_result"
    }
   ],
   "source": [
    "import Base.+\n",
    "\n",
    "function +(t1::MyTime,t2::MyTime)\n",
    "    seconds = timetoint(t1) + timetoint(t2)\n",
    "    inttotime(seconds)\n",
    "end"
   ]
  },
  {
   "cell_type": "code",
   "execution_count": 52,
   "id": "d90a7a4a-bda5-46ab-8799-b86ab729c70f",
   "metadata": {
    "execution": {
     "iopub.execute_input": "2021-04-25T08:32:12.753000-07:00",
     "iopub.status.busy": "2021-04-25T08:32:12.752000-07:00",
     "iopub.status.idle": "2021-04-25T08:32:12.755000-07:00",
     "shell.execute_reply": "2021-04-25T08:32:12.755000-07:00"
    },
    "tags": []
   },
   "outputs": [],
   "source": [
    "t1 = MyTime(12,2,3);\n",
    "t2 = MyTime(1,2,57);"
   ]
  },
  {
   "cell_type": "code",
   "execution_count": 53,
   "id": "c2aec88e-ef4c-4924-b7c2-2182124f393c",
   "metadata": {
    "execution": {
     "iopub.execute_input": "2021-04-25T08:32:12.756000-07:00",
     "iopub.status.busy": "2021-04-25T08:32:12.756000-07:00",
     "iopub.status.idle": "2021-04-25T08:32:12.780000-07:00",
     "shell.execute_reply": "2021-04-25T08:32:12.779000-07:00"
    },
    "tags": []
   },
   "outputs": [
    {
     "data": {
      "text/plain": [
       "13:05:00"
      ]
     },
     "execution_count": 53,
     "metadata": {},
     "output_type": "execute_result"
    }
   ],
   "source": [
    "t1 + t2"
   ]
  },
  {
   "cell_type": "markdown",
   "id": "bf0f79e0-3211-4d73-8506-52369367d78c",
   "metadata": {},
   "source": [
    "#### Ex17-3"
   ]
  },
  {
   "cell_type": "code",
   "execution_count": 54,
   "id": "50d3f860-6385-46a2-b789-d9e6e89e99d9",
   "metadata": {
    "execution": {
     "iopub.execute_input": "2021-04-25T08:32:12.782000-07:00",
     "iopub.status.busy": "2021-04-25T08:32:12.781000-07:00",
     "iopub.status.idle": "2021-04-25T08:32:12.793000-07:00",
     "shell.execute_reply": "2021-04-25T08:32:12.792000-07:00"
    },
    "tags": []
   },
   "outputs": [
    {
     "data": {
      "text/plain": [
       "+ (generic function with 192 methods)"
      ]
     },
     "execution_count": 54,
     "metadata": {},
     "output_type": "execute_result"
    }
   ],
   "source": [
    "import Base.+\n",
    "\n",
    "function +(p1::Point,p2::Point)\n",
    "    Point(p1.x + p2.x, p1.y + p2.y)\n",
    "end"
   ]
  },
  {
   "cell_type": "code",
   "execution_count": 55,
   "id": "068da8eb-e162-4874-906e-fb5e1b5142ec",
   "metadata": {
    "execution": {
     "iopub.execute_input": "2021-04-25T08:32:12.795000-07:00",
     "iopub.status.busy": "2021-04-25T08:32:12.794000-07:00",
     "iopub.status.idle": "2021-04-25T08:32:12.798000-07:00",
     "shell.execute_reply": "2021-04-25T08:32:12.797000-07:00"
    },
    "tags": []
   },
   "outputs": [
    {
     "data": {
      "text/plain": [
       "Point(3.0, 5.0)"
      ]
     },
     "execution_count": 55,
     "metadata": {},
     "output_type": "execute_result"
    }
   ],
   "source": [
    "p1 = Point(1,2)\n",
    "p2 = Point(3,5)"
   ]
  },
  {
   "cell_type": "code",
   "execution_count": 56,
   "id": "972b7db3-cce9-476c-9b3c-e737f14dfd5a",
   "metadata": {
    "execution": {
     "iopub.execute_input": "2021-04-25T08:32:12.799000-07:00",
     "iopub.status.busy": "2021-04-25T08:32:12.799000-07:00",
     "iopub.status.idle": "2021-04-25T08:32:12.811000-07:00",
     "shell.execute_reply": "2021-04-25T08:32:12.811000-07:00"
    },
    "tags": []
   },
   "outputs": [
    {
     "data": {
      "text/plain": [
       "Point(4.0, 7.0)"
      ]
     },
     "execution_count": 56,
     "metadata": {},
     "output_type": "execute_result"
    }
   ],
   "source": [
    "p1 + p2"
   ]
  },
  {
   "cell_type": "code",
   "execution_count": 57,
   "id": "bf3a6bb1-ec13-4d60-8324-7bf520e4777e",
   "metadata": {
    "execution": {
     "iopub.execute_input": "2021-04-25T08:32:12.813000-07:00",
     "iopub.status.busy": "2021-04-25T08:32:12.812000-07:00",
     "iopub.status.idle": "2021-04-25T08:32:12.823000-07:00",
     "shell.execute_reply": "2021-04-25T08:32:12.823000-07:00"
    },
    "tags": []
   },
   "outputs": [
    {
     "data": {
      "text/plain": [
       "+ (generic function with 193 methods)"
      ]
     },
     "execution_count": 57,
     "metadata": {},
     "output_type": "execute_result"
    }
   ],
   "source": [
    "function +(p::Point, t::Tuple)\n",
    "    Point(p.x + t[1], p.y + t[2])\n",
    "end"
   ]
  },
  {
   "cell_type": "code",
   "execution_count": 58,
   "id": "3497d227-a94d-4b5d-8018-c641046b4d58",
   "metadata": {
    "execution": {
     "iopub.execute_input": "2021-04-25T08:32:12.825000-07:00",
     "iopub.status.busy": "2021-04-25T08:32:12.824000-07:00",
     "iopub.status.idle": "2021-04-25T08:32:12.837000-07:00",
     "shell.execute_reply": "2021-04-25T08:32:12.836000-07:00"
    },
    "tags": []
   },
   "outputs": [
    {
     "data": {
      "text/plain": [
       "Point(2.0, 34.0)"
      ]
     },
     "execution_count": 58,
     "metadata": {},
     "output_type": "execute_result"
    }
   ],
   "source": [
    "p1 + (1,32)"
   ]
  },
  {
   "cell_type": "code",
   "execution_count": 59,
   "id": "e64fc3d9-ca21-4e45-886f-1cff433bca88",
   "metadata": {
    "execution": {
     "iopub.execute_input": "2021-04-25T08:32:12.839000-07:00",
     "iopub.status.busy": "2021-04-25T08:32:12.838000-07:00",
     "iopub.status.idle": "2021-04-25T08:32:13.033000-07:00",
     "shell.execute_reply": "2021-04-25T08:32:13.032000-07:00"
    },
    "tags": []
   },
   "outputs": [
    {
     "ename": "LoadError",
     "evalue": "MethodError: no method matching +(::Tuple{Int64, Int64}, ::Point)\n\u001b[0mClosest candidates are:\n\u001b[0m  +(::Any, ::Any, \u001b[91m::Any\u001b[39m, \u001b[91m::Any...\u001b[39m) at operators.jl:560\n\u001b[0m  +(\u001b[91m::Point\u001b[39m, ::Point) at In[54]:3",
     "output_type": "error",
     "traceback": [
      "MethodError: no method matching +(::Tuple{Int64, Int64}, ::Point)\n\u001b[0mClosest candidates are:\n\u001b[0m  +(::Any, ::Any, \u001b[91m::Any\u001b[39m, \u001b[91m::Any...\u001b[39m) at operators.jl:560\n\u001b[0m  +(\u001b[91m::Point\u001b[39m, ::Point) at In[54]:3",
      "",
      "Stacktrace:",
      " [1] top-level scope",
      "   @ In[59]:1",
      " [2] eval",
      "   @ ./boot.jl:360 [inlined]",
      " [3] include_string(mapexpr::typeof(REPL.softscope), mod::Module, code::String, filename::String)",
      "   @ Base ./loading.jl:1094"
     ]
    }
   ],
   "source": [
    " (1,32) + p1"
   ]
  },
  {
   "cell_type": "code",
   "execution_count": 60,
   "id": "102000fa-8d3c-43f4-873d-94d12170fef4",
   "metadata": {
    "execution": {
     "iopub.execute_input": "2021-04-25T08:32:13.035000-07:00",
     "iopub.status.busy": "2021-04-25T08:32:13.034000-07:00",
     "iopub.status.idle": "2021-04-25T08:32:13.046000-07:00",
     "shell.execute_reply": "2021-04-25T08:32:13.045000-07:00"
    },
    "tags": []
   },
   "outputs": [
    {
     "data": {
      "text/plain": [
       "+ (generic function with 194 methods)"
      ]
     },
     "execution_count": 60,
     "metadata": {},
     "output_type": "execute_result"
    }
   ],
   "source": [
    "function +(t::Tuple,p::Point)\n",
    "    Point(p.x + t[1], p.y + t[2])\n",
    "end"
   ]
  },
  {
   "cell_type": "code",
   "execution_count": 61,
   "id": "91c0ac9c-3c94-4b10-a3e4-e225530ac5a0",
   "metadata": {
    "execution": {
     "iopub.execute_input": "2021-04-25T08:32:13.048000-07:00",
     "iopub.status.busy": "2021-04-25T08:32:13.047000-07:00",
     "iopub.status.idle": "2021-04-25T08:32:13.058000-07:00",
     "shell.execute_reply": "2021-04-25T08:32:13.058000-07:00"
    },
    "tags": []
   },
   "outputs": [
    {
     "data": {
      "text/plain": [
       "Point(2.0, 34.0)"
      ]
     },
     "execution_count": 61,
     "metadata": {},
     "output_type": "execute_result"
    }
   ],
   "source": [
    " (1,32) + p1"
   ]
  },
  {
   "cell_type": "code",
   "execution_count": 62,
   "id": "23f04883-d436-44e3-a1c5-1b408aa3f604",
   "metadata": {
    "execution": {
     "iopub.execute_input": "2021-04-25T08:32:13.060000-07:00",
     "iopub.status.busy": "2021-04-25T08:32:13.059000-07:00",
     "iopub.status.idle": "2021-04-25T08:32:13.062000-07:00",
     "shell.execute_reply": "2021-04-25T08:32:13.062000-07:00"
    },
    "tags": []
   },
   "outputs": [],
   "source": [
    "p1 = Point(1,4);\n",
    "p2 = Point(2,5);\n",
    "p3 = Point(3,6);"
   ]
  },
  {
   "cell_type": "markdown",
   "id": "5ebf788e-e409-4f1e-bdfb-e72bd4e379fd",
   "metadata": {},
   "source": [
    "## Generic Programming\n",
    "* **polymorphic**: Functions which work with serveral types, \n",
    "* such as `sum` adds the elements of a sequence, works as long as the elements of the sequence support addition."
   ]
  },
  {
   "cell_type": "code",
   "execution_count": 63,
   "id": "d4155de3-c313-4105-9471-665cea7bc033",
   "metadata": {
    "execution": {
     "iopub.execute_input": "2021-04-25T08:32:13.063000-07:00",
     "iopub.status.busy": "2021-04-25T08:32:13.063000-07:00",
     "iopub.status.idle": "2021-04-25T08:32:13.075000-07:00",
     "shell.execute_reply": "2021-04-25T08:32:13.074000-07:00"
    },
    "tags": []
   },
   "outputs": [
    {
     "data": {
      "text/plain": [
       "Point(6.0, 15.0)"
      ]
     },
     "execution_count": 63,
     "metadata": {},
     "output_type": "execute_result"
    }
   ],
   "source": [
    "sum((p1,p2,p3))"
   ]
  },
  {
   "cell_type": "markdown",
   "id": "888fc808-3f05-49ec-bf02-afb8940c0acf",
   "metadata": {},
   "source": [
    "## Interfaces and Implementation\n",
    "> Characters of Multiple Dispatch\n",
    "> > *Maintable*\n",
    "> >\n",
    "> > *keep interfaces seperate from implementation*"
   ]
  },
  {
   "cell_type": "markdown",
   "id": "c0e1c2f8-1503-4f26-8d7c-46b6dba27ac1",
   "metadata": {},
   "source": [
    "## Debugging\n",
    "* `methods()`"
   ]
  },
  {
   "cell_type": "code",
   "execution_count": 64,
   "id": "e0e1e33b-6d01-460e-86e7-c13ac4772ab9",
   "metadata": {
    "execution": {
     "iopub.execute_input": "2021-04-25T08:32:13.077000-07:00",
     "iopub.status.busy": "2021-04-25T08:32:13.076000-07:00",
     "iopub.status.idle": "2021-04-25T08:32:13.980000-07:00",
     "shell.execute_reply": "2021-04-25T08:32:13.979000-07:00"
    },
    "tags": []
   },
   "outputs": [
    {
     "data": {
      "text/html": [
       "# 2 methods for type constructor:<ul><li> Point(x::<b>Float64</b>, y::<b>Float64</b>) in Main at In[40]:2</li> <li> Point(x, y) in Main at In[40]:2</li> </ul>"
      ],
      "text/plain": [
       "# 2 methods for type constructor:\n",
       "[1] Point(x::Float64, y::Float64) in Main at In[40]:2\n",
       "[2] Point(x, y) in Main at In[40]:2"
      ]
     },
     "execution_count": 64,
     "metadata": {},
     "output_type": "execute_result"
    }
   ],
   "source": [
    "methods(Point)"
   ]
  },
  {
   "cell_type": "code",
   "execution_count": 65,
   "id": "6e84e437-ae41-4a8b-bbf5-3068db19e9e5",
   "metadata": {
    "execution": {
     "iopub.execute_input": "2021-04-25T08:32:13.983000-07:00",
     "iopub.status.busy": "2021-04-25T08:32:13.981000-07:00",
     "iopub.status.idle": "2021-04-25T08:32:13.992000-07:00",
     "shell.execute_reply": "2021-04-25T08:32:13.991000-07:00"
    },
    "tags": []
   },
   "outputs": [
    {
     "data": {
      "text/html": [
       "# 4 methods for type constructor:<ul><li> Pointoutter() in Main at In[43]:6</li> <li> Pointoutter(x::<b>Float64</b>) in Main at In[43]:6</li> <li> Pointoutter(x::<b>Float64</b>, y::<b>Float64</b>) in Main at In[43]:6</li> <li> Pointoutter(x, y) in Main at In[43]:2</li> </ul>"
      ],
      "text/plain": [
       "# 4 methods for type constructor:\n",
       "[1] Pointoutter() in Main at In[43]:6\n",
       "[2] Pointoutter(x::Float64) in Main at In[43]:6\n",
       "[3] Pointoutter(x::Float64, y::Float64) in Main at In[43]:6\n",
       "[4] Pointoutter(x, y) in Main at In[43]:2"
      ]
     },
     "execution_count": 65,
     "metadata": {},
     "output_type": "execute_result"
    }
   ],
   "source": [
    "methods(Pointoutter)"
   ]
  },
  {
   "cell_type": "code",
   "execution_count": 66,
   "id": "76adcdf9-aa28-4f62-8163-37ce92f8a55e",
   "metadata": {
    "execution": {
     "iopub.execute_input": "2021-04-25T08:32:13.994000-07:00",
     "iopub.status.busy": "2021-04-25T08:32:13.993000-07:00",
     "iopub.status.idle": "2021-04-25T08:32:14.001000-07:00",
     "shell.execute_reply": "2021-04-25T08:32:14-07:00"
    },
    "tags": []
   },
   "outputs": [
    {
     "data": {
      "text/html": [
       "# 3 methods for type constructor:<ul><li> Pointinner() in Main at In[47]:4</li> <li> Pointinner(x::<b>Float64</b>) in Main at In[47]:4</li> <li> Pointinner(x::<b>Float64</b>, y::<b>Float64</b>) in Main at In[47]:4</li> </ul>"
      ],
      "text/plain": [
       "# 3 methods for type constructor:\n",
       "[1] Pointinner() in Main at In[47]:4\n",
       "[2] Pointinner(x::Float64) in Main at In[47]:4\n",
       "[3] Pointinner(x::Float64, y::Float64) in Main at In[47]:4"
      ]
     },
     "execution_count": 66,
     "metadata": {},
     "output_type": "execute_result"
    }
   ],
   "source": [
    "methods(Pointinner)"
   ]
  },
  {
   "cell_type": "markdown",
   "id": "5824d3d3-005e-4578-b953-21c76be8c78a",
   "metadata": {},
   "source": [
    "#### Ex17-5"
   ]
  },
  {
   "cell_type": "code",
   "execution_count": 67,
   "id": "2ae31388-2e14-4b6b-b7ea-3f84d13fe4b8",
   "metadata": {
    "execution": {
     "iopub.execute_input": "2021-04-25T08:32:14.003000-07:00",
     "iopub.status.busy": "2021-04-25T08:32:14.002000-07:00",
     "iopub.status.idle": "2021-04-25T08:32:14.006000-07:00",
     "shell.execute_reply": "2021-04-25T08:32:14.005000-07:00"
    },
    "tags": []
   },
   "outputs": [],
   "source": [
    "struct Kangaroo\n",
    "    pounchcontents::Array\n",
    "    function Kangaroo(pounchcontents::Array=[])\n",
    "        new(pounchcontents)\n",
    "    end\n",
    "end"
   ]
  },
  {
   "cell_type": "code",
   "execution_count": 68,
   "id": "6716bb69-9214-4438-b1b1-faac3e1ab972",
   "metadata": {
    "execution": {
     "iopub.execute_input": "2021-04-25T08:32:14.008000-07:00",
     "iopub.status.busy": "2021-04-25T08:32:14.007000-07:00",
     "iopub.status.idle": "2021-04-25T08:32:14.473000-07:00",
     "shell.execute_reply": "2021-04-25T08:32:14.472000-07:00"
    },
    "tags": []
   },
   "outputs": [
    {
     "data": {
      "text/plain": [
       "Kangaroo([2123, 3213])"
      ]
     },
     "execution_count": 68,
     "metadata": {},
     "output_type": "execute_result"
    }
   ],
   "source": [
    "Kangaroo([2123,3213])"
   ]
  },
  {
   "cell_type": "code",
   "execution_count": 69,
   "id": "41700b83-3522-42c6-9f88-5737fb993721",
   "metadata": {
    "execution": {
     "iopub.execute_input": "2021-04-25T08:32:14.475000-07:00",
     "iopub.status.busy": "2021-04-25T08:32:14.474000-07:00",
     "iopub.status.idle": "2021-04-25T08:32:14.483000-07:00",
     "shell.execute_reply": "2021-04-25T08:32:14.483000-07:00"
    },
    "tags": []
   },
   "outputs": [
    {
     "data": {
      "text/html": [
       "# 2 methods for type constructor:<ul><li> Kangaroo() in Main at In[67]:3</li> <li> Kangaroo(pounchcontents::<b>Array</b>) in Main at In[67]:3</li> </ul>"
      ],
      "text/plain": [
       "# 2 methods for type constructor:\n",
       "[1] Kangaroo() in Main at In[67]:3\n",
       "[2] Kangaroo(pounchcontents::Array) in Main at In[67]:3"
      ]
     },
     "execution_count": 69,
     "metadata": {},
     "output_type": "execute_result"
    }
   ],
   "source": [
    "methods(Kangaroo)"
   ]
  },
  {
   "cell_type": "code",
   "execution_count": 70,
   "id": "7f92977c-f24e-4733-92b9-9dbe5c6f4bb3",
   "metadata": {
    "execution": {
     "iopub.execute_input": "2021-04-25T08:32:14.485000-07:00",
     "iopub.status.busy": "2021-04-25T08:32:14.484000-07:00",
     "iopub.status.idle": "2021-04-25T08:32:14.623000-07:00",
     "shell.execute_reply": "2021-04-25T08:32:14.621000-07:00"
    },
    "tags": []
   },
   "outputs": [
    {
     "data": {
      "text/plain": [
       "putinpouch (generic function with 1 method)"
      ]
     },
     "execution_count": 70,
     "metadata": {},
     "output_type": "execute_result"
    }
   ],
   "source": [
    "function putinpouch(kangagroo::Kangaroo,anything::Any)\n",
    "    Kangaroo(vcat(kangagroo.pounchcontents,anything))\n",
    "end"
   ]
  },
  {
   "cell_type": "code",
   "execution_count": 71,
   "id": "4b7dad2c-3917-49c3-9b99-c5e51ad5e55a",
   "metadata": {
    "execution": {
     "iopub.execute_input": "2021-04-25T08:32:14.625000-07:00",
     "iopub.status.busy": "2021-04-25T08:32:14.624000-07:00",
     "iopub.status.idle": "2021-04-25T08:32:14.940000-07:00",
     "shell.execute_reply": "2021-04-25T08:32:14.939000-07:00"
    },
    "tags": []
   },
   "outputs": [
    {
     "data": {
      "text/plain": [
       "Kangaroo(Any[2123, 3213, \"2122s\", 21])"
      ]
     },
     "execution_count": 71,
     "metadata": {},
     "output_type": "execute_result"
    }
   ],
   "source": [
    "putinpouch(Kangaroo([2123,3213]),[\"2122s\",21])"
   ]
  },
  {
   "cell_type": "code",
   "execution_count": 72,
   "id": "13969026-175c-4407-a70f-a8e36b1397f3",
   "metadata": {
    "execution": {
     "iopub.execute_input": "2021-04-25T08:32:14.942000-07:00",
     "iopub.status.busy": "2021-04-25T08:32:14.941000-07:00",
     "iopub.status.idle": "2021-04-25T08:32:14.953000-07:00",
     "shell.execute_reply": "2021-04-25T08:32:14.952000-07:00"
    },
    "tags": []
   },
   "outputs": [],
   "source": [
    "using Printf\n",
    "function Base.show(io::IO, kangaroo::Kangaroo)\n",
    "    @printf(io,\"Kangaroo: %s\", kangaroo.pounchcontents)\n",
    "end"
   ]
  },
  {
   "cell_type": "code",
   "execution_count": 73,
   "id": "0d0b68fb-ae86-4448-b952-d9ec26c4b41e",
   "metadata": {
    "execution": {
     "iopub.execute_input": "2021-04-25T08:32:14.956000-07:00",
     "iopub.status.busy": "2021-04-25T08:32:14.955000-07:00",
     "iopub.status.idle": "2021-04-25T08:32:14.959000-07:00",
     "shell.execute_reply": "2021-04-25T08:32:14.958000-07:00"
    },
    "tags": []
   },
   "outputs": [],
   "source": [
    "kanga = Kangaroo([1,23]);\n",
    "roo = Kangaroo([2,3]);"
   ]
  },
  {
   "cell_type": "code",
   "execution_count": 74,
   "id": "eaa85d50-8c4b-4901-88d6-961d4e078aa2",
   "metadata": {
    "execution": {
     "iopub.execute_input": "2021-04-25T08:32:14.960000-07:00",
     "iopub.status.busy": "2021-04-25T08:32:14.959000-07:00",
     "iopub.status.idle": "2021-04-25T08:32:15.858000-07:00",
     "shell.execute_reply": "2021-04-25T08:32:15.857000-07:00"
    },
    "tags": []
   },
   "outputs": [
    {
     "data": {
      "text/plain": [
       "Kangaroo: Any[1, 23, Kangaroo: [2, 3]]"
      ]
     },
     "execution_count": 74,
     "metadata": {},
     "output_type": "execute_result"
    }
   ],
   "source": [
    "putinpouch(kanga,roo)"
   ]
  }
 ],
 "metadata": {
  "kernelspec": {
   "display_name": "Julia 1.6.0",
   "language": "julia",
   "name": "julia-1.6"
  },
  "language_info": {
   "file_extension": ".jl",
   "mimetype": "application/julia",
   "name": "julia",
   "version": "1.6.0"
  }
 },
 "nbformat": 4,
 "nbformat_minor": 5
}
