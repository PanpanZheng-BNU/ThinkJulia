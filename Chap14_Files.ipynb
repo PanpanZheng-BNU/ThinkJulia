{
 "cells": [
  {
   "cell_type": "markdown",
   "id": "b491317b-30ba-4c18-b9f0-0505687b3629",
   "metadata": {},
   "source": [
    "# Files\n",
    "* `w+`"
   ]
  },
  {
   "cell_type": "code",
   "execution_count": 5,
   "id": "714948c7-191d-4124-9fa9-6584b7b9a9f7",
   "metadata": {
    "execution": {
     "iopub.execute_input": "2021-04-23T23:27:14.058000-07:00",
     "iopub.status.busy": "2021-04-23T23:27:14.058000-07:00",
     "iopub.status.idle": "2021-04-23T23:27:14.060000-07:00",
     "shell.execute_reply": "2021-04-23T23:27:14.060000-07:00"
    },
    "tags": []
   },
   "outputs": [],
   "source": [
    "fout = open(\"Chap14/output.txt\",\"w+\")\n",
    "line1 = \"This here's the wattle.\\n\"\n",
    "write(fout,line1)\n",
    "close(fout)"
   ]
  },
  {
   "cell_type": "markdown",
   "id": "b881f999-40a9-41d2-9c97-3a30888c929c",
   "metadata": {
    "execution": {
     "iopub.execute_input": "2021-04-23T23:26:37.112000-07:00",
     "iopub.status.busy": "2021-04-23T23:26:37.112000-07:00",
     "iopub.status.idle": "2021-04-23T23:26:37.113000-07:00",
     "shell.execute_reply": "2021-04-23T23:26:37.113000-07:00"
    },
    "tags": []
   },
   "source": [
    "## Formatting\n",
    "* the argument of `write()` has to be a <mark>String</mark>"
   ]
  },
  {
   "cell_type": "code",
   "execution_count": 18,
   "id": "13b083b9-dacd-4dca-b54e-fbfe54f6780d",
   "metadata": {
    "execution": {
     "iopub.execute_input": "2021-04-23T23:31:26.961000-07:00",
     "iopub.status.busy": "2021-04-23T23:31:26.961000-07:00",
     "iopub.status.idle": "2021-04-23T23:31:26.963000-07:00",
     "shell.execute_reply": "2021-04-23T23:31:26.963000-07:00"
    },
    "tags": []
   },
   "outputs": [],
   "source": [
    "fout = open(\"Chap14/output_1.txt\",\"w+\")\n",
    "line1 = 100\n",
    "\n",
    "write(fout,line1)\n",
    "\n",
    "close(fout)"
   ]
  },
  {
   "cell_type": "code",
   "execution_count": 23,
   "id": "2b46a05d-a502-44b1-8f04-6e1e5fd6e520",
   "metadata": {
    "execution": {
     "iopub.execute_input": "2021-04-23T23:32:56.790000-07:00",
     "iopub.status.busy": "2021-04-23T23:32:56.790000-07:00",
     "iopub.status.idle": "2021-04-23T23:32:56.867000-07:00",
     "shell.execute_reply": "2021-04-23T23:32:56.866000-07:00"
    },
    "tags": []
   },
   "outputs": [],
   "source": [
    "fout = open(\"Chap14/output_2.txt\",\"w+\")\n",
    "line1 = (100,20)\n",
    "\n",
    "write(fout,\"$(line1...)\\n\")\n",
    "write(fout,\"$(line1)\")\n",
    "\n",
    "close(fout)"
   ]
  },
  {
   "cell_type": "markdown",
   "id": "a350fef7-d9b5-490c-bdb7-245712a089e8",
   "metadata": {},
   "source": [
    "## Filenames and Paths\n",
    "* `pwd()`"
   ]
  },
  {
   "cell_type": "code",
   "execution_count": 31,
   "id": "62136cd3-79c6-4844-a10a-d5433b8985ae",
   "metadata": {
    "execution": {
     "iopub.execute_input": "2021-04-23T23:38:10.424000-07:00",
     "iopub.status.busy": "2021-04-23T23:38:10.424000-07:00",
     "iopub.status.idle": "2021-04-23T23:38:10.425000-07:00",
     "shell.execute_reply": "2021-04-23T23:38:10.425000-07:00"
    },
    "tags": []
   },
   "outputs": [
    {
     "data": {
      "text/plain": [
       "\"/home/me/code/Julia/ThinkJulia\""
      ]
     },
     "execution_count": 31,
     "metadata": {},
     "output_type": "execute_result"
    }
   ],
   "source": [
    "pwd()"
   ]
  },
  {
   "cell_type": "markdown",
   "id": "519c7cd1-d52e-4d77-bccf-7dc589d6e710",
   "metadata": {},
   "source": [
    "* `abspath()`"
   ]
  },
  {
   "cell_type": "code",
   "execution_count": 32,
   "id": "98470584-40f1-4865-b872-f2353748691e",
   "metadata": {
    "execution": {
     "iopub.execute_input": "2021-04-23T23:38:22.147000-07:00",
     "iopub.status.busy": "2021-04-23T23:38:22.147000-07:00",
     "iopub.status.idle": "2021-04-23T23:38:22.148000-07:00",
     "shell.execute_reply": "2021-04-23T23:38:22.148000-07:00"
    },
    "tags": []
   },
   "outputs": [
    {
     "data": {
      "text/plain": [
       "\"/home/me/code/Julia/ThinkJulia/Chap14/output.txt\""
      ]
     },
     "execution_count": 32,
     "metadata": {},
     "output_type": "execute_result"
    }
   ],
   "source": [
    "abspath(\"Chap14/output.txt\")"
   ]
  },
  {
   "cell_type": "markdown",
   "id": "4f3d2a11-4a63-4d1a-8469-ab7688af56f1",
   "metadata": {},
   "source": [
    "* `ispath(filename_or_directory)` Determine whether it exists\n",
    "    * `isdir(filename_or_directory)` Determine whether it is directory\n",
    "    * `isfile(filename_or_directory)` Determine whether it is file"
   ]
  },
  {
   "cell_type": "code",
   "execution_count": 39,
   "id": "233e35d2-7f46-4888-ba2c-d44fb9553590",
   "metadata": {
    "execution": {
     "iopub.execute_input": "2021-04-23T23:41:05.389000-07:00",
     "iopub.status.busy": "2021-04-23T23:41:05.389000-07:00",
     "iopub.status.idle": "2021-04-23T23:41:05.391000-07:00",
     "shell.execute_reply": "2021-04-23T23:41:05.391000-07:00"
    },
    "tags": []
   },
   "outputs": [
    {
     "data": {
      "text/plain": [
       "true"
      ]
     },
     "execution_count": 39,
     "metadata": {},
     "output_type": "execute_result"
    }
   ],
   "source": [
    "ispath(\"/home/me/code/Julia/ThinkJulia\")"
   ]
  },
  {
   "cell_type": "code",
   "execution_count": 41,
   "id": "8e370444-b307-4beb-945f-ecf63ac7603e",
   "metadata": {
    "execution": {
     "iopub.execute_input": "2021-04-23T23:41:21.630000-07:00",
     "iopub.status.busy": "2021-04-23T23:41:21.629000-07:00",
     "iopub.status.idle": "2021-04-23T23:41:21.631000-07:00",
     "shell.execute_reply": "2021-04-23T23:41:21.631000-07:00"
    },
    "tags": []
   },
   "outputs": [
    {
     "data": {
      "text/plain": [
       "true"
      ]
     },
     "execution_count": 41,
     "metadata": {},
     "output_type": "execute_result"
    }
   ],
   "source": [
    "ispath(\"/home/me/code/Julia/ThinkJulia/Chap14/output_1.txt\")"
   ]
  },
  {
   "cell_type": "code",
   "execution_count": 44,
   "id": "c935b375-25b3-4525-a677-ae50bb260d8c",
   "metadata": {
    "execution": {
     "iopub.execute_input": "2021-04-23T23:41:44.873000-07:00",
     "iopub.status.busy": "2021-04-23T23:41:44.873000-07:00",
     "iopub.status.idle": "2021-04-23T23:41:44.874000-07:00",
     "shell.execute_reply": "2021-04-23T23:41:44.874000-07:00"
    },
    "tags": []
   },
   "outputs": [
    {
     "data": {
      "text/plain": [
       "true"
      ]
     },
     "execution_count": 44,
     "metadata": {},
     "output_type": "execute_result"
    }
   ],
   "source": [
    "isdir(\"/home/me/code/Julia/ThinkJulia\")"
   ]
  },
  {
   "cell_type": "code",
   "execution_count": 42,
   "id": "fddcbf57-a1c2-4f0a-9392-048c2667f386",
   "metadata": {
    "execution": {
     "iopub.execute_input": "2021-04-23T23:41:30.333000-07:00",
     "iopub.status.busy": "2021-04-23T23:41:30.333000-07:00",
     "iopub.status.idle": "2021-04-23T23:41:30.335000-07:00",
     "shell.execute_reply": "2021-04-23T23:41:30.335000-07:00"
    },
    "tags": []
   },
   "outputs": [
    {
     "data": {
      "text/plain": [
       "false"
      ]
     },
     "execution_count": 42,
     "metadata": {},
     "output_type": "execute_result"
    }
   ],
   "source": [
    "isdir(\"/home/me/code/Julia/ThinkJulia/Chap14/output_1.txt\")"
   ]
  },
  {
   "cell_type": "code",
   "execution_count": 45,
   "id": "3aa590fd-2a50-4793-b905-7c019b309d64",
   "metadata": {
    "execution": {
     "iopub.execute_input": "2021-04-23T23:41:56.337000-07:00",
     "iopub.status.busy": "2021-04-23T23:41:56.337000-07:00",
     "iopub.status.idle": "2021-04-23T23:41:56.338000-07:00",
     "shell.execute_reply": "2021-04-23T23:41:56.338000-07:00"
    },
    "tags": []
   },
   "outputs": [
    {
     "data": {
      "text/plain": [
       "false"
      ]
     },
     "execution_count": 45,
     "metadata": {},
     "output_type": "execute_result"
    }
   ],
   "source": [
    "isfile(\"/home/me/code/Julia/ThinkJulia\")"
   ]
  },
  {
   "cell_type": "code",
   "execution_count": 46,
   "id": "ba3e11ae-31b4-4127-8e2d-16f9df1374df",
   "metadata": {
    "execution": {
     "iopub.execute_input": "2021-04-23T23:42:02.760000-07:00",
     "iopub.status.busy": "2021-04-23T23:42:02.760000-07:00",
     "iopub.status.idle": "2021-04-23T23:42:02.761000-07:00",
     "shell.execute_reply": "2021-04-23T23:42:02.761000-07:00"
    },
    "tags": []
   },
   "outputs": [
    {
     "data": {
      "text/plain": [
       "true"
      ]
     },
     "execution_count": 46,
     "metadata": {},
     "output_type": "execute_result"
    }
   ],
   "source": [
    "isfile(\"/home/me/code/Julia/ThinkJulia/Chap14/output_1.txt\")"
   ]
  },
  {
   "cell_type": "markdown",
   "id": "177fbd29-4de1-4e5a-bca8-00ccf500a1f8",
   "metadata": {},
   "source": [
    "* `readdir`"
   ]
  }
 ],
 "metadata": {
  "kernelspec": {
   "display_name": "Julia 1.6.0",
   "language": "julia",
   "name": "julia-1.6"
  },
  "language_info": {
   "file_extension": ".jl",
   "mimetype": "application/julia",
   "name": "julia",
   "version": "1.6.0"
  }
 },
 "nbformat": 4,
 "nbformat_minor": 5
}
