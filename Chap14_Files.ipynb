{
 "cells": [
  {
   "cell_type": "markdown",
   "id": "b491317b-30ba-4c18-b9f0-0505687b3629",
   "metadata": {},
   "source": [
    "# Files\n",
    "* `w+`"
   ]
  },
  {
   "cell_type": "code",
   "execution_count": 5,
   "id": "714948c7-191d-4124-9fa9-6584b7b9a9f7",
   "metadata": {
    "execution": {
     "iopub.execute_input": "2021-04-23T23:27:14.058000-07:00",
     "iopub.status.busy": "2021-04-23T23:27:14.058000-07:00",
     "iopub.status.idle": "2021-04-23T23:27:14.060000-07:00",
     "shell.execute_reply": "2021-04-23T23:27:14.060000-07:00"
    },
    "tags": []
   },
   "outputs": [],
   "source": [
    "fout = open(\"Chap14/output.txt\",\"w+\")\n",
    "line1 = \"This here's the wattle.\\n\"\n",
    "write(fout,line1)\n",
    "close(fout)"
   ]
  },
  {
   "cell_type": "markdown",
   "id": "b881f999-40a9-41d2-9c97-3a30888c929c",
   "metadata": {
    "execution": {
     "iopub.execute_input": "2021-04-23T23:26:37.112000-07:00",
     "iopub.status.busy": "2021-04-23T23:26:37.112000-07:00",
     "iopub.status.idle": "2021-04-23T23:26:37.113000-07:00",
     "shell.execute_reply": "2021-04-23T23:26:37.113000-07:00"
    },
    "tags": []
   },
   "source": [
    "## Formatting\n",
    "* the argument of `write()` has to be a <mark>String</mark>"
   ]
  },
  {
   "cell_type": "code",
   "execution_count": 18,
   "id": "13b083b9-dacd-4dca-b54e-fbfe54f6780d",
   "metadata": {
    "execution": {
     "iopub.execute_input": "2021-04-23T23:31:26.961000-07:00",
     "iopub.status.busy": "2021-04-23T23:31:26.961000-07:00",
     "iopub.status.idle": "2021-04-23T23:31:26.963000-07:00",
     "shell.execute_reply": "2021-04-23T23:31:26.963000-07:00"
    },
    "tags": []
   },
   "outputs": [],
   "source": [
    "fout = open(\"Chap14/output_1.txt\",\"w+\")\n",
    "line1 = 100\n",
    "\n",
    "write(fout,line1)\n",
    "\n",
    "close(fout)"
   ]
  },
  {
   "cell_type": "code",
   "execution_count": 23,
   "id": "2b46a05d-a502-44b1-8f04-6e1e5fd6e520",
   "metadata": {
    "execution": {
     "iopub.execute_input": "2021-04-23T23:32:56.790000-07:00",
     "iopub.status.busy": "2021-04-23T23:32:56.790000-07:00",
     "iopub.status.idle": "2021-04-23T23:32:56.867000-07:00",
     "shell.execute_reply": "2021-04-23T23:32:56.866000-07:00"
    },
    "tags": []
   },
   "outputs": [],
   "source": [
    "fout = open(\"Chap14/output_2.txt\",\"w+\")\n",
    "line1 = (100,20)\n",
    "\n",
    "write(fout,\"$(line1...)\\n\")\n",
    "write(fout,\"$(line1)\")\n",
    "\n",
    "close(fout)"
   ]
  },
  {
   "cell_type": "markdown",
   "id": "a350fef7-d9b5-490c-bdb7-245712a089e8",
   "metadata": {},
   "source": [
    "## Filenames and Paths\n",
    "* `pwd()`"
   ]
  },
  {
   "cell_type": "code",
   "execution_count": 31,
   "id": "62136cd3-79c6-4844-a10a-d5433b8985ae",
   "metadata": {
    "execution": {
     "iopub.execute_input": "2021-04-23T23:38:10.424000-07:00",
     "iopub.status.busy": "2021-04-23T23:38:10.424000-07:00",
     "iopub.status.idle": "2021-04-23T23:38:10.425000-07:00",
     "shell.execute_reply": "2021-04-23T23:38:10.425000-07:00"
    },
    "tags": []
   },
   "outputs": [
    {
     "data": {
      "text/plain": [
       "\"/home/me/code/Julia/ThinkJulia\""
      ]
     },
     "execution_count": 31,
     "metadata": {},
     "output_type": "execute_result"
    }
   ],
   "source": [
    "pwd()"
   ]
  },
  {
   "cell_type": "markdown",
   "id": "519c7cd1-d52e-4d77-bccf-7dc589d6e710",
   "metadata": {},
   "source": [
    "* `abspath()`"
   ]
  },
  {
   "cell_type": "code",
   "execution_count": 32,
   "id": "98470584-40f1-4865-b872-f2353748691e",
   "metadata": {
    "execution": {
     "iopub.execute_input": "2021-04-23T23:38:22.147000-07:00",
     "iopub.status.busy": "2021-04-23T23:38:22.147000-07:00",
     "iopub.status.idle": "2021-04-23T23:38:22.148000-07:00",
     "shell.execute_reply": "2021-04-23T23:38:22.148000-07:00"
    },
    "tags": []
   },
   "outputs": [
    {
     "data": {
      "text/plain": [
       "\"/home/me/code/Julia/ThinkJulia/Chap14/output.txt\""
      ]
     },
     "execution_count": 32,
     "metadata": {},
     "output_type": "execute_result"
    }
   ],
   "source": [
    "abspath(\"Chap14/output.txt\")"
   ]
  },
  {
   "cell_type": "markdown",
   "id": "4f3d2a11-4a63-4d1a-8469-ab7688af56f1",
   "metadata": {},
   "source": [
    "* `ispath(filename_or_directory)` Determine whether it exists\n",
    "    * `isdir(filename_or_directory)` Determine whether it is directory\n",
    "    * `isfile(filename_or_directory)` Determine whether it is file"
   ]
  },
  {
   "cell_type": "code",
   "execution_count": 39,
   "id": "233e35d2-7f46-4888-ba2c-d44fb9553590",
   "metadata": {
    "execution": {
     "iopub.execute_input": "2021-04-23T23:41:05.389000-07:00",
     "iopub.status.busy": "2021-04-23T23:41:05.389000-07:00",
     "iopub.status.idle": "2021-04-23T23:41:05.391000-07:00",
     "shell.execute_reply": "2021-04-23T23:41:05.391000-07:00"
    },
    "tags": []
   },
   "outputs": [
    {
     "data": {
      "text/plain": [
       "true"
      ]
     },
     "execution_count": 39,
     "metadata": {},
     "output_type": "execute_result"
    }
   ],
   "source": [
    "ispath(\"/home/me/code/Julia/ThinkJulia\")"
   ]
  },
  {
   "cell_type": "code",
   "execution_count": 41,
   "id": "8e370444-b307-4beb-945f-ecf63ac7603e",
   "metadata": {
    "execution": {
     "iopub.execute_input": "2021-04-23T23:41:21.630000-07:00",
     "iopub.status.busy": "2021-04-23T23:41:21.629000-07:00",
     "iopub.status.idle": "2021-04-23T23:41:21.631000-07:00",
     "shell.execute_reply": "2021-04-23T23:41:21.631000-07:00"
    },
    "tags": []
   },
   "outputs": [
    {
     "data": {
      "text/plain": [
       "true"
      ]
     },
     "execution_count": 41,
     "metadata": {},
     "output_type": "execute_result"
    }
   ],
   "source": [
    "ispath(\"/home/me/code/Julia/ThinkJulia/Chap14/output_1.txt\")"
   ]
  },
  {
   "cell_type": "code",
   "execution_count": 44,
   "id": "c935b375-25b3-4525-a677-ae50bb260d8c",
   "metadata": {
    "execution": {
     "iopub.execute_input": "2021-04-23T23:41:44.873000-07:00",
     "iopub.status.busy": "2021-04-23T23:41:44.873000-07:00",
     "iopub.status.idle": "2021-04-23T23:41:44.874000-07:00",
     "shell.execute_reply": "2021-04-23T23:41:44.874000-07:00"
    },
    "tags": []
   },
   "outputs": [
    {
     "data": {
      "text/plain": [
       "true"
      ]
     },
     "execution_count": 44,
     "metadata": {},
     "output_type": "execute_result"
    }
   ],
   "source": [
    "isdir(\"/home/me/code/Julia/ThinkJulia\")"
   ]
  },
  {
   "cell_type": "code",
   "execution_count": 42,
   "id": "fddcbf57-a1c2-4f0a-9392-048c2667f386",
   "metadata": {
    "execution": {
     "iopub.execute_input": "2021-04-23T23:41:30.333000-07:00",
     "iopub.status.busy": "2021-04-23T23:41:30.333000-07:00",
     "iopub.status.idle": "2021-04-23T23:41:30.335000-07:00",
     "shell.execute_reply": "2021-04-23T23:41:30.335000-07:00"
    },
    "tags": []
   },
   "outputs": [
    {
     "data": {
      "text/plain": [
       "false"
      ]
     },
     "execution_count": 42,
     "metadata": {},
     "output_type": "execute_result"
    }
   ],
   "source": [
    "isdir(\"/home/me/code/Julia/ThinkJulia/Chap14/output_1.txt\")"
   ]
  },
  {
   "cell_type": "code",
   "execution_count": 45,
   "id": "3aa590fd-2a50-4793-b905-7c019b309d64",
   "metadata": {
    "execution": {
     "iopub.execute_input": "2021-04-23T23:41:56.337000-07:00",
     "iopub.status.busy": "2021-04-23T23:41:56.337000-07:00",
     "iopub.status.idle": "2021-04-23T23:41:56.338000-07:00",
     "shell.execute_reply": "2021-04-23T23:41:56.338000-07:00"
    },
    "tags": []
   },
   "outputs": [
    {
     "data": {
      "text/plain": [
       "false"
      ]
     },
     "execution_count": 45,
     "metadata": {},
     "output_type": "execute_result"
    }
   ],
   "source": [
    "isfile(\"/home/me/code/Julia/ThinkJulia\")"
   ]
  },
  {
   "cell_type": "code",
   "execution_count": 46,
   "id": "ba3e11ae-31b4-4127-8e2d-16f9df1374df",
   "metadata": {
    "execution": {
     "iopub.execute_input": "2021-04-23T23:42:02.760000-07:00",
     "iopub.status.busy": "2021-04-23T23:42:02.760000-07:00",
     "iopub.status.idle": "2021-04-23T23:42:02.761000-07:00",
     "shell.execute_reply": "2021-04-23T23:42:02.761000-07:00"
    },
    "tags": []
   },
   "outputs": [
    {
     "data": {
      "text/plain": [
       "true"
      ]
     },
     "execution_count": 46,
     "metadata": {},
     "output_type": "execute_result"
    }
   ],
   "source": [
    "isfile(\"/home/me/code/Julia/ThinkJulia/Chap14/output_1.txt\")"
   ]
  },
  {
   "cell_type": "markdown",
   "id": "177fbd29-4de1-4e5a-bca8-00ccf500a1f8",
   "metadata": {},
   "source": [
    "* `readdir(directory)`"
   ]
  },
  {
   "cell_type": "code",
   "execution_count": 47,
   "id": "108ec72b-2927-491b-bf32-a19a721c857f",
   "metadata": {
    "execution": {
     "iopub.execute_input": "2021-04-24T00:03:10.846000-07:00",
     "iopub.status.busy": "2021-04-24T00:03:10.846000-07:00",
     "iopub.status.idle": "2021-04-24T00:03:11.950000-07:00",
     "shell.execute_reply": "2021-04-24T00:03:11.950000-07:00"
    },
    "tags": []
   },
   "outputs": [
    {
     "data": {
      "text/plain": [
       "18-element Vector{String}:\n",
       " \".git\"\n",
       " \".ipynb_checkpoints\"\n",
       " \"Chap02.ipynb\"\n",
       " \"Chap03_Function.ipynb\"\n",
       " \"Chap04_Case1.ipynb\"\n",
       " \"Chap05_Conditionals_and_Recursion.ipynb\"\n",
       " \"Chap06_Fruitful_Function.ipynb\"\n",
       " \"Chap07_Iteration.ipynb\"\n",
       " \"Chap08_Strings.ipynb\"\n",
       " \"Chap09_Case2.ipynb\"\n",
       " \"Chap10_Arrays.ipynb\"\n",
       " \"Chap11_Dictionaries.ipynb\"\n",
       " \"Chap12_Tuples.ipynb\"\n",
       " \"Chap13_Case3.ipynb\"\n",
       " \"Chap14\"\n",
       " \"Chap14_Files.ipynb\"\n",
       " \"Data\"\n",
       " \"untitled.dio\""
      ]
     },
     "execution_count": 47,
     "metadata": {},
     "output_type": "execute_result"
    }
   ],
   "source": [
    "readdir(pwd())"
   ]
  },
  {
   "cell_type": "markdown",
   "id": "c9ad6d81-3a08-4b59-83bd-5f1df4d7d596",
   "metadata": {},
   "source": [
    "* `joinpath()`"
   ]
  },
  {
   "cell_type": "code",
   "execution_count": 60,
   "id": "e1559994-78e0-4c8d-a501-a99a3b050790",
   "metadata": {
    "execution": {
     "iopub.execute_input": "2021-04-24T00:11:27.388000-07:00",
     "iopub.status.busy": "2021-04-24T00:11:27.387000-07:00",
     "iopub.status.idle": "2021-04-24T00:11:27.390000-07:00",
     "shell.execute_reply": "2021-04-24T00:11:27.390000-07:00"
    },
    "tags": []
   },
   "outputs": [
    {
     "data": {
      "text/plain": [
       "walk (generic function with 1 method)"
      ]
     },
     "execution_count": 60,
     "metadata": {},
     "output_type": "execute_result"
    }
   ],
   "source": [
    "function walk(dirname)\n",
    "    for name in readdir(dirname)\n",
    "        path = joinpath(dirname,name)\n",
    "        if isfile(path)\n",
    "            println(path)\n",
    "        else\n",
    "            walk(path)\n",
    "        end\n",
    "    end\n",
    "end"
   ]
  },
  {
   "cell_type": "code",
   "execution_count": 61,
   "id": "e0d6dbf0-6dde-4db3-b842-8514be22d2b5",
   "metadata": {
    "execution": {
     "iopub.execute_input": "2021-04-24T00:11:28.580000-07:00",
     "iopub.status.busy": "2021-04-24T00:11:28.580000-07:00",
     "iopub.status.idle": "2021-04-24T00:11:28.601000-07:00",
     "shell.execute_reply": "2021-04-24T00:11:28.601000-07:00"
    },
    "tags": []
   },
   "outputs": [
    {
     "name": "stdout",
     "output_type": "stream",
     "text": [
      "/home/me/code/Julia/ThinkJulia/.git/COMMIT_EDITMSG\n",
      "/home/me/code/Julia/ThinkJulia/.git/HEAD\n",
      "/home/me/code/Julia/ThinkJulia/.git/config\n",
      "/home/me/code/Julia/ThinkJulia/.git/description\n",
      "/home/me/code/Julia/ThinkJulia/.git/hooks/applypatch-msg.sample\n",
      "/home/me/code/Julia/ThinkJulia/.git/hooks/commit-msg.sample\n",
      "/home/me/code/Julia/ThinkJulia/.git/hooks/fsmonitor-watchman.sample\n",
      "/home/me/code/Julia/ThinkJulia/.git/hooks/post-update.sample\n",
      "/home/me/code/Julia/ThinkJulia/.git/hooks/pre-applypatch.sample\n",
      "/home/me/code/Julia/ThinkJulia/.git/hooks/pre-commit.sample\n",
      "/home/me/code/Julia/ThinkJulia/.git/hooks/pre-push.sample\n",
      "/home/me/code/Julia/ThinkJulia/.git/hooks/pre-rebase.sample\n",
      "/home/me/code/Julia/ThinkJulia/.git/hooks/pre-receive.sample\n",
      "/home/me/code/Julia/ThinkJulia/.git/hooks/prepare-commit-msg.sample\n",
      "/home/me/code/Julia/ThinkJulia/.git/hooks/update.sample\n",
      "/home/me/code/Julia/ThinkJulia/.git/index\n",
      "/home/me/code/Julia/ThinkJulia/.git/info/exclude\n",
      "/home/me/code/Julia/ThinkJulia/.git/logs/HEAD\n",
      "/home/me/code/Julia/ThinkJulia/.git/logs/refs/heads/main\n",
      "/home/me/code/Julia/ThinkJulia/.git/logs/refs/remotes/origin/main\n",
      "/home/me/code/Julia/ThinkJulia/.git/objects/09/4d54f65f9f4f53b16d8888b2667220bc7a95f8\n",
      "/home/me/code/Julia/ThinkJulia/.git/objects/0c/cde1cdd5b961beb9d7d58890b041c538eb17ec\n",
      "/home/me/code/Julia/ThinkJulia/.git/objects/0e/325bb89d895e1eb446a1c259a90c4d69cd5809\n",
      "/home/me/code/Julia/ThinkJulia/.git/objects/0e/fa7e73cae62e1bfa1503810c454a3ce5078f84\n",
      "/home/me/code/Julia/ThinkJulia/.git/objects/10/5d7d9ad3afc7bb78a0dec4d829880831605dfb\n",
      "/home/me/code/Julia/ThinkJulia/.git/objects/10/d61a975422262c6fa3e79b443aa6a147d74c06\n",
      "/home/me/code/Julia/ThinkJulia/.git/objects/12/81bed0bedc791b67a4637ade910cf552977124\n",
      "/home/me/code/Julia/ThinkJulia/.git/objects/15/bbde101d5d7918cbcb8359871da5fdbca8a5c5\n",
      "/home/me/code/Julia/ThinkJulia/.git/objects/18/da078a10ceff5e3ecbb451f2c25bd498a741c2\n",
      "/home/me/code/Julia/ThinkJulia/.git/objects/19/3873fed9c3b9ecef6db913df9d8ebc9d6ffff1\n",
      "/home/me/code/Julia/ThinkJulia/.git/objects/1a/738422db2d3ca791016cad464cfa6f48c2651b\n",
      "/home/me/code/Julia/ThinkJulia/.git/objects/20/d69ec9e13423d31dcb10664bf6298fc320631f\n",
      "/home/me/code/Julia/ThinkJulia/.git/objects/22/7105953db32f07029aa535f86049a084469813\n",
      "/home/me/code/Julia/ThinkJulia/.git/objects/24/39395921c71a2eec3145eb1689a330e7afefb2\n",
      "/home/me/code/Julia/ThinkJulia/.git/objects/2b/b8615e5f170c9364fcb5fd45bd83bb5c5121f6\n",
      "/home/me/code/Julia/ThinkJulia/.git/objects/2e/c65225739e94ba72a64b91cbcd75c229906c32\n",
      "/home/me/code/Julia/ThinkJulia/.git/objects/31/9a4d138fa96ea69b95e69cce1aebecfc6fbfb2\n",
      "/home/me/code/Julia/ThinkJulia/.git/objects/31/a8225723bce021b501dd6d86af4c07e57df411\n",
      "/home/me/code/Julia/ThinkJulia/.git/objects/33/322e495f5dc5ec0ecf245d3f2d0732fa0a4ca7\n",
      "/home/me/code/Julia/ThinkJulia/.git/objects/36/3fcab7ed6e9634e198cf5555ceb88932c9a245\n",
      "/home/me/code/Julia/ThinkJulia/.git/objects/3a/fa8ea98014fbe86fc9c4890a68cc0552a1c052\n",
      "/home/me/code/Julia/ThinkJulia/.git/objects/48/5504535fe6859ea6b3aa806a584b773bd407a3\n",
      "/home/me/code/Julia/ThinkJulia/.git/objects/48/c35d3cf0bbcbf2832588a286b6729188849986\n",
      "/home/me/code/Julia/ThinkJulia/.git/objects/55/cf9b7d3cba83c06eeae533099b5913c0fa5fc8\n",
      "/home/me/code/Julia/ThinkJulia/.git/objects/63/052967bd78f3d56d8df6dca680281920b770f2\n",
      "/home/me/code/Julia/ThinkJulia/.git/objects/76/ca147d830c2964032a94a1f59aba0b4ee542c4\n",
      "/home/me/code/Julia/ThinkJulia/.git/objects/7e/9e102ed47bb26a35ee18a9f4275325c545bb38\n",
      "/home/me/code/Julia/ThinkJulia/.git/objects/8e/f908f81d019bc663aa75a773d43dead92100d4\n",
      "/home/me/code/Julia/ThinkJulia/.git/objects/91/2d33e4628563601eb6b16cd0e29482aec2d66e\n",
      "/home/me/code/Julia/ThinkJulia/.git/objects/9d/b94d175f751937e09ac5c280a3ffca346ac37e\n",
      "/home/me/code/Julia/ThinkJulia/.git/objects/a8/8c82d43efcaad8b436be70cf869a2296fbbb9b\n",
      "/home/me/code/Julia/ThinkJulia/.git/objects/ae/0a087ba318bb42b0c93e5f516b6451a0ec76da\n",
      "/home/me/code/Julia/ThinkJulia/.git/objects/af/8de6dce18767cef14ea91957540d7cf487d1be\n",
      "/home/me/code/Julia/ThinkJulia/.git/objects/c4/60a5472904a9f5cf530ddc369c0c99b785fd07\n",
      "/home/me/code/Julia/ThinkJulia/.git/objects/c6/6dd92594eaa37d22f68d91b0eb23448befee64\n",
      "/home/me/code/Julia/ThinkJulia/.git/objects/ca/7875bc64adc8b9129dd2f4283e70867728cd5b\n",
      "/home/me/code/Julia/ThinkJulia/.git/objects/ce/0249c34937380206f4838a4d448611caf2cb98\n",
      "/home/me/code/Julia/ThinkJulia/.git/objects/ce/34f8f6485e336f370a24cbd373ec8e6a791dec\n",
      "/home/me/code/Julia/ThinkJulia/.git/objects/cf/b8c5c8743b72496f5a7d9c85e51259ac0fd199\n",
      "/home/me/code/Julia/ThinkJulia/.git/objects/d6/0c59e6054e074d0a2f54628c1ebc51425e30ed\n",
      "/home/me/code/Julia/ThinkJulia/.git/objects/d9/d3b7852fc39c765c719923ebc5114199151af2\n",
      "/home/me/code/Julia/ThinkJulia/.git/objects/db/c6261a5224208306300f3e547c48f9c8ed0bbe\n",
      "/home/me/code/Julia/ThinkJulia/.git/objects/e3/6cc2e4753cce5be39b4bed921a91cb9534d8be\n",
      "/home/me/code/Julia/ThinkJulia/.git/objects/e6/9de29bb2d1d6434b8b29ae775ad8c2e48c5391\n",
      "/home/me/code/Julia/ThinkJulia/.git/objects/e9/e1a930d1f46e135b35d67bdba97aaca85f8707\n",
      "/home/me/code/Julia/ThinkJulia/.git/objects/ec/c5bda6069d96cb5da85379aab2333609ed0368\n",
      "/home/me/code/Julia/ThinkJulia/.git/objects/ed/39bb83921747c3a0aa71abf3ee1a654c84c70f\n",
      "/home/me/code/Julia/ThinkJulia/.git/objects/f4/59db9fb1335963c8b8eac3693065dfc01a97d9\n",
      "/home/me/code/Julia/ThinkJulia/.git/objects/f6/5787f08f7aca0bc18fe54c756bd4f033818a9c\n",
      "/home/me/code/Julia/ThinkJulia/.git/objects/f7/d6be818a36de2ca597505b9829ddf287ce321e\n",
      "/home/me/code/Julia/ThinkJulia/.git/objects/fd/77f619da4616181a331e6873fe75c82042e5c0\n",
      "/home/me/code/Julia/ThinkJulia/.git/refs/heads/main\n",
      "/home/me/code/Julia/ThinkJulia/.git/refs/remotes/origin/main\n",
      "/home/me/code/Julia/ThinkJulia/.ipynb_checkpoints/Chap02-checkpoint.ipynb\n",
      "/home/me/code/Julia/ThinkJulia/.ipynb_checkpoints/Chap03_Function-checkpoint.ipynb\n",
      "/home/me/code/Julia/ThinkJulia/.ipynb_checkpoints/Chap04_Case1-checkpoint.ipynb\n",
      "/home/me/code/Julia/ThinkJulia/.ipynb_checkpoints/Chap05_Conditionals_and_Recursion-checkpoint.ipynb\n",
      "/home/me/code/Julia/ThinkJulia/.ipynb_checkpoints/Chap06_Fruitful_Function-checkpoint.ipynb\n",
      "/home/me/code/Julia/ThinkJulia/.ipynb_checkpoints/Chap07_Iteration-checkpoint.ipynb\n",
      "/home/me/code/Julia/ThinkJulia/.ipynb_checkpoints/Chap08_Strings-checkpoint.ipynb\n",
      "/home/me/code/Julia/ThinkJulia/.ipynb_checkpoints/Chap09_Case2-checkpoint.ipynb\n",
      "/home/me/code/Julia/ThinkJulia/.ipynb_checkpoints/Chap10_Arrays-checkpoint.ipynb\n",
      "/home/me/code/Julia/ThinkJulia/.ipynb_checkpoints/Chap11_Dictionaries-checkpoint.ipynb\n",
      "/home/me/code/Julia/ThinkJulia/.ipynb_checkpoints/Chap12_Tuples-checkpoint.ipynb\n",
      "/home/me/code/Julia/ThinkJulia/.ipynb_checkpoints/Chap13_Case3-checkpoint.ipynb\n",
      "/home/me/code/Julia/ThinkJulia/.ipynb_checkpoints/Chap14_Files-checkpoint.ipynb\n",
      "/home/me/code/Julia/ThinkJulia/.ipynb_checkpoints/untitled-checkpoint.dio\n",
      "/home/me/code/Julia/ThinkJulia/Chap02.ipynb\n",
      "/home/me/code/Julia/ThinkJulia/Chap03_Function.ipynb\n",
      "/home/me/code/Julia/ThinkJulia/Chap04_Case1.ipynb\n",
      "/home/me/code/Julia/ThinkJulia/Chap05_Conditionals_and_Recursion.ipynb\n",
      "/home/me/code/Julia/ThinkJulia/Chap06_Fruitful_Function.ipynb\n",
      "/home/me/code/Julia/ThinkJulia/Chap07_Iteration.ipynb\n",
      "/home/me/code/Julia/ThinkJulia/Chap08_Strings.ipynb\n",
      "/home/me/code/Julia/ThinkJulia/Chap09_Case2.ipynb\n",
      "/home/me/code/Julia/ThinkJulia/Chap10_Arrays.ipynb\n",
      "/home/me/code/Julia/ThinkJulia/Chap11_Dictionaries.ipynb\n",
      "/home/me/code/Julia/ThinkJulia/Chap12_Tuples.ipynb\n",
      "/home/me/code/Julia/ThinkJulia/Chap13_Case3.ipynb\n",
      "/home/me/code/Julia/ThinkJulia/Chap14/.ipynb_checkpoints/output-checkpoint.txt\n",
      "/home/me/code/Julia/ThinkJulia/Chap14/.ipynb_checkpoints/output_1-checkpoint.txt\n",
      "/home/me/code/Julia/ThinkJulia/Chap14/.ipynb_checkpoints/output_2-checkpoint.txt\n",
      "/home/me/code/Julia/ThinkJulia/Chap14/output.txt\n",
      "/home/me/code/Julia/ThinkJulia/Chap14/output_1.txt\n",
      "/home/me/code/Julia/ThinkJulia/Chap14/output_2.txt\n",
      "/home/me/code/Julia/ThinkJulia/Chap14_Files.ipynb\n",
      "/home/me/code/Julia/ThinkJulia/Data/.ipynb_checkpoints/emma-checkpoint.txt\n",
      "/home/me/code/Julia/ThinkJulia/Data/.ipynb_checkpoints/words-checkpoint.txt\n",
      "/home/me/code/Julia/ThinkJulia/Data/Chap12/.ipynb_checkpoints/word_order_by_size-checkpoint.txt\n",
      "/home/me/code/Julia/ThinkJulia/Data/Chap12/word_order_by_size.txt\n",
      "/home/me/code/Julia/ThinkJulia/Data/Chap12/words1.txt\n",
      "/home/me/code/Julia/ThinkJulia/Data/emma.txt\n",
      "/home/me/code/Julia/ThinkJulia/Data/gatsby.txt\n",
      "/home/me/code/Julia/ThinkJulia/Data/words.txt\n",
      "/home/me/code/Julia/ThinkJulia/untitled.dio\n"
     ]
    }
   ],
   "source": [
    "walk(pwd())"
   ]
  },
  {
   "cell_type": "markdown",
   "id": "d553be7d-9ec8-403b-94b5-b06f742828d5",
   "metadata": {},
   "source": [
    "## Catching Expections\n",
    "```julia\n",
    "try\n",
    "    ......\n",
    "catch exc\n",
    "    ......\n",
    "end\n",
    "```"
   ]
  },
  {
   "cell_type": "code",
   "execution_count": 62,
   "id": "64050a9f-de19-4ab0-91b3-799683558c55",
   "metadata": {
    "execution": {
     "iopub.execute_input": "2021-04-24T00:15:02.385000-07:00",
     "iopub.status.busy": "2021-04-24T00:15:02.385000-07:00",
     "iopub.status.idle": "2021-04-24T00:15:02.441000-07:00",
     "shell.execute_reply": "2021-04-24T00:15:02.440000-07:00"
    },
    "tags": []
   },
   "outputs": [
    {
     "name": "stdout",
     "output_type": "stream",
     "text": [
      "Some went wrong:SystemError(\"opening file \\\"bad_filename.txt\\\"\", 2, nothing)\n"
     ]
    }
   ],
   "source": [
    "try\n",
    "    fin = open(\"bad_filename.txt\")\n",
    "catch exc\n",
    "    println(\"Some went wrong:$exc\")\n",
    "end"
   ]
  },
  {
   "cell_type": "markdown",
   "id": "f3d26c0a-f4ab-4814-ac38-09387f49653b",
   "metadata": {},
   "source": [
    "```julia\n",
    "try\n",
    "    ....\n",
    "finally\n",
    "    ....\n",
    "end\n",
    "```"
   ]
  },
  {
   "cell_type": "code",
   "execution_count": 71,
   "id": "e5741e12-ce4c-47fc-85b9-f827a512cc38",
   "metadata": {
    "execution": {
     "iopub.execute_input": "2021-04-24T00:19:21.477000-07:00",
     "iopub.status.busy": "2021-04-24T00:19:21.477000-07:00",
     "iopub.status.idle": "2021-04-24T00:19:21.478000-07:00",
     "shell.execute_reply": "2021-04-24T00:19:21.478000-07:00"
    },
    "tags": []
   },
   "outputs": [
    {
     "data": {
      "text/plain": [
       "IOStream(<file Chap14/output.txt>)"
      ]
     },
     "execution_count": 71,
     "metadata": {},
     "output_type": "execute_result"
    }
   ],
   "source": [
    "f = open(\"Chap14/output.txt\")"
   ]
  },
  {
   "cell_type": "code",
   "execution_count": 70,
   "id": "48f0f3c8-0a25-435e-a210-871de2dd6100",
   "metadata": {
    "execution": {
     "iopub.execute_input": "2021-04-24T00:19:15.440000-07:00",
     "iopub.status.busy": "2021-04-24T00:19:15.439000-07:00",
     "iopub.status.idle": "2021-04-24T00:19:15.441000-07:00",
     "shell.execute_reply": "2021-04-24T00:19:15.441000-07:00"
    },
    "tags": []
   },
   "outputs": [
    {
     "name": "stdout",
     "output_type": "stream",
     "text": [
      "\n"
     ]
    }
   ],
   "source": [
    "try\n",
    "    line = readline(f)\n",
    "    println(line)\n",
    "finally\n",
    "    close(f)\n",
    "end"
   ]
  },
  {
   "cell_type": "markdown",
   "id": "e71904ee-7498-4039-a29b-ef23be1f98b6",
   "metadata": {},
   "source": [
    "## Very Simple DataBase"
   ]
  },
  {
   "cell_type": "code",
   "execution_count": 4,
   "id": "54533a95-879c-469a-bb77-25fab6d4676b",
   "metadata": {
    "execution": {
     "iopub.execute_input": "2021-04-24T01:06:22.853000-07:00",
     "iopub.status.busy": "2021-04-24T01:06:22.853000-07:00",
     "iopub.status.idle": "2021-04-24T01:06:28.055000-07:00",
     "shell.execute_reply": "2021-04-24T01:06:27.980000-07:00"
    },
    "tags": []
   },
   "outputs": [
    {
     "name": "stderr",
     "output_type": "stream",
     "text": [
      "┌ Info: Precompiling ThinkJulia [a7f2b756-c18b-4c7f-87da-faca9ac81b29]\n",
      "└ @ Base loading.jl:1317\n",
      "┌ Info: Skipping precompilation since __precompile__(false). Importing ThinkJulia [a7f2b756-c18b-4c7f-87da-faca9ac81b29].\n",
      "└ @ Base loading.jl:1025\n"
     ]
    }
   ],
   "source": [
    "using ThinkJulia"
   ]
  },
  {
   "cell_type": "code",
   "execution_count": 13,
   "id": "73b13a33-5f2f-4336-995d-7c9ee927c225",
   "metadata": {
    "execution": {
     "iopub.execute_input": "2021-04-24T01:04:17.482000-07:00",
     "iopub.status.busy": "2021-04-24T01:04:17.482000-07:00",
     "iopub.status.idle": "2021-04-24T01:04:17.499000-07:00",
     "shell.execute_reply": "2021-04-24T01:04:17.498000-07:00"
    },
    "tags": []
   },
   "outputs": [
    {
     "data": {
      "text/plain": [
       "DBM(<Chap14/DataBase/captions>)"
      ]
     },
     "execution_count": 13,
     "metadata": {},
     "output_type": "execute_result"
    }
   ],
   "source": [
    "db = DBM(\"Chap14/DataBase/captions\",\"c\")"
   ]
  },
  {
   "cell_type": "code",
   "execution_count": 14,
   "id": "2b4a2dcd-28ca-4f0a-bc9c-8df3e43e8dd1",
   "metadata": {
    "execution": {
     "iopub.execute_input": "2021-04-24T01:04:18.673000-07:00",
     "iopub.status.busy": "2021-04-24T01:04:18.672000-07:00",
     "iopub.status.idle": "2021-04-24T01:04:18.704000-07:00",
     "shell.execute_reply": "2021-04-24T01:04:18.703000-07:00"
    },
    "tags": []
   },
   "outputs": [
    {
     "data": {
      "text/plain": [
       "\"Photos of John Cleese.\""
      ]
     },
     "execution_count": 14,
     "metadata": {},
     "output_type": "execute_result"
    }
   ],
   "source": [
    "db[\"cleese.png\"] = \"Photos of John Cleese.\""
   ]
  },
  {
   "cell_type": "code",
   "execution_count": 15,
   "id": "4bd1ab12-0de3-48b3-b554-64df73d9363a",
   "metadata": {
    "execution": {
     "iopub.execute_input": "2021-04-24T01:04:19.573000-07:00",
     "iopub.status.busy": "2021-04-24T01:04:19.573000-07:00",
     "iopub.status.idle": "2021-04-24T01:04:19.574000-07:00",
     "shell.execute_reply": "2021-04-24T01:04:19.574000-07:00"
    },
    "tags": []
   },
   "outputs": [
    {
     "data": {
      "text/plain": [
       "\"Photos of John Cheese doing a silly walk.\""
      ]
     },
     "execution_count": 15,
     "metadata": {},
     "output_type": "execute_result"
    }
   ],
   "source": [
    "db[\"cleese.png\"] = \"Photos of John Cheese doing a silly walk.\""
   ]
  },
  {
   "cell_type": "code",
   "execution_count": 16,
   "id": "40956e3f-faf5-4eb6-9dae-f69d885b97ac",
   "metadata": {
    "execution": {
     "iopub.execute_input": "2021-04-24T01:04:20.468000-07:00",
     "iopub.status.busy": "2021-04-24T01:04:20.467000-07:00",
     "iopub.status.idle": "2021-04-24T01:04:20.553000-07:00",
     "shell.execute_reply": "2021-04-24T01:04:20.553000-07:00"
    },
    "tags": []
   },
   "outputs": [
    {
     "name": "stdout",
     "output_type": "stream",
     "text": [
      "cleese.png: Photos of John Cheese doing a silly walk.\n"
     ]
    }
   ],
   "source": [
    "for (key, value) in db\n",
    "    println(key,\": \",value)\n",
    "end"
   ]
  },
  {
   "cell_type": "code",
   "execution_count": 17,
   "id": "09072a92-27ae-4e22-a575-0749df2d7678",
   "metadata": {
    "execution": {
     "iopub.execute_input": "2021-04-24T01:04:21.571000-07:00",
     "iopub.status.busy": "2021-04-24T01:04:21.571000-07:00",
     "iopub.status.idle": "2021-04-24T01:04:21.594000-07:00",
     "shell.execute_reply": "2021-04-24T01:04:21.593000-07:00"
    },
    "tags": []
   },
   "outputs": [],
   "source": [
    "close(db)"
   ]
  },
  {
   "cell_type": "markdown",
   "id": "196cb5e1-27f5-40e5-93dc-816a1e268066",
   "metadata": {},
   "source": [
    "## Serialization\n",
    "* DB's keys and values must to be **strings or byte arrays.**\n",
    "* `serialize(anything,IOBuffer)` anything2bytes\n",
    "* `IOBuffer()`\n",
    "* `take!()`"
   ]
  },
  {
   "cell_type": "code",
   "execution_count": 6,
   "id": "174ce818-684d-4327-b2ac-078011d736df",
   "metadata": {
    "execution": {
     "iopub.execute_input": "2021-04-24T01:06:31.766000-07:00",
     "iopub.status.busy": "2021-04-24T01:06:31.766000-07:00",
     "iopub.status.idle": "2021-04-24T01:06:32.926000-07:00",
     "shell.execute_reply": "2021-04-24T01:06:32.925000-07:00"
    },
    "tags": []
   },
   "outputs": [],
   "source": [
    "using Serialization\n",
    "io = IOBuffer()\n",
    "t = Dict(1=>2,2=>5)\n",
    "serialize(io,t)\n",
    "s = take!(io);\n",
    "t2 = deserialize(IOBuffer(s));"
   ]
  },
  {
   "cell_type": "code",
   "execution_count": 10,
   "id": "6ca34db3-18d5-4ebb-8519-cfa86eca277a",
   "metadata": {
    "execution": {
     "iopub.execute_input": "2021-04-24T01:06:41.036000-07:00",
     "iopub.status.busy": "2021-04-24T01:06:41.035000-07:00",
     "iopub.status.idle": "2021-04-24T01:06:41.037000-07:00",
     "shell.execute_reply": "2021-04-24T01:06:41.037000-07:00"
    },
    "tags": []
   },
   "outputs": [
    {
     "data": {
      "text/plain": [
       "DBM(<Chap14/DataBase/test_serialization>)"
      ]
     },
     "execution_count": 10,
     "metadata": {},
     "output_type": "execute_result"
    }
   ],
   "source": [
    "db = DBM(\"Chap14/DataBase/test_serialization\",\"c\")"
   ]
  },
  {
   "cell_type": "code",
   "execution_count": 7,
   "id": "e95fa7d5-e5e6-410e-8cd8-eb67507dd578",
   "metadata": {
    "execution": {
     "iopub.execute_input": "2021-04-24T01:06:33.730000-07:00",
     "iopub.status.busy": "2021-04-24T01:06:33.730000-07:00",
     "iopub.status.idle": "2021-04-24T01:06:33.762000-07:00",
     "shell.execute_reply": "2021-04-24T01:06:33.760000-07:00"
    },
    "tags": []
   },
   "outputs": [],
   "source": [
    "db[\"1\"] = s;"
   ]
  },
  {
   "cell_type": "code",
   "execution_count": 11,
   "id": "ba13034a-bd71-49fe-9d5e-e8f091d899bb",
   "metadata": {
    "execution": {
     "iopub.execute_input": "2021-04-24T01:06:44.070000-07:00",
     "iopub.status.busy": "2021-04-24T01:06:44.070000-07:00",
     "iopub.status.idle": "2021-04-24T01:06:45.045000-07:00",
     "shell.execute_reply": "2021-04-24T01:06:45.044000-07:00"
    },
    "tags": []
   },
   "outputs": [
    {
     "data": {
      "text/plain": [
       "Dict{Int64, Int64} with 2 entries:\n",
       "  2 => 5\n",
       "  1 => 2"
      ]
     },
     "execution_count": 11,
     "metadata": {},
     "output_type": "execute_result"
    }
   ],
   "source": [
    "deserialize(IOBuffer(db[\"1\"]))"
   ]
  },
  {
   "cell_type": "code",
   "execution_count": 12,
   "id": "bf443f50-520e-44d1-8467-1425c8055a2b",
   "metadata": {
    "execution": {
     "iopub.execute_input": "2021-04-24T01:06:55.980000-07:00",
     "iopub.status.busy": "2021-04-24T01:06:55.980000-07:00",
     "iopub.status.idle": "2021-04-24T01:06:55.981000-07:00",
     "shell.execute_reply": "2021-04-24T01:06:55.981000-07:00"
    },
    "tags": []
   },
   "outputs": [],
   "source": [
    "close(db)"
   ]
  },
  {
   "cell_type": "markdown",
   "id": "a84fa110-a23a-4783-ab1e-5318f56bbae9",
   "metadata": {},
   "source": [
    "## Command Object\n",
    "* `run(command)`"
   ]
  },
  {
   "cell_type": "code",
   "execution_count": 8,
   "id": "3b5bd1a5-7963-4fe2-873c-a7025e42e908",
   "metadata": {
    "execution": {
     "iopub.execute_input": "2021-04-24T00:48:57.380000-07:00",
     "iopub.status.busy": "2021-04-24T00:48:57.380000-07:00",
     "iopub.status.idle": "2021-04-24T00:48:57.692000-07:00",
     "shell.execute_reply": "2021-04-24T00:48:57.691000-07:00"
    },
    "tags": []
   },
   "outputs": [
    {
     "name": "stdout",
     "output_type": "stream",
     "text": [
      "captions\n",
      "Chap02.ipynb\n",
      "Chap03_Function.ipynb\n",
      "Chap04_Case1.ipynb\n",
      "Chap05_Conditionals_and_Recursion.ipynb\n",
      "Chap06_Fruitful_Function.ipynb\n",
      "Chap07_Iteration.ipynb\n",
      "Chap08_Strings.ipynb\n",
      "Chap09_Case2.ipynb\n",
      "Chap10_Arrays.ipynb\n",
      "Chap11_Dictionaries.ipynb\n",
      "Chap12_Tuples.ipynb\n",
      "Chap13_Case3.ipynb\n",
      "Chap14\n",
      "Chap14_Files.ipynb\n",
      "Data\n",
      "test_serialization\n",
      "untitled.dio\n"
     ]
    },
    {
     "data": {
      "text/plain": [
       "Process(`\u001b[4mls\u001b[24m`, ProcessExited(0))"
      ]
     },
     "execution_count": 8,
     "metadata": {},
     "output_type": "execute_result"
    }
   ],
   "source": [
    "run(`ls`)"
   ]
  },
  {
   "cell_type": "code",
   "execution_count": 9,
   "id": "d870662e-376b-45f1-975c-77ebaa95919e",
   "metadata": {
    "execution": {
     "iopub.execute_input": "2021-04-24T00:49:16.942000-07:00",
     "iopub.status.busy": "2021-04-24T00:49:16.942000-07:00",
     "iopub.status.idle": "2021-04-24T00:49:16.949000-07:00",
     "shell.execute_reply": "2021-04-24T00:49:16.949000-07:00"
    },
    "tags": []
   },
   "outputs": [
    {
     "name": "stdout",
     "output_type": "stream",
     "text": [
      "Hello\n"
     ]
    },
    {
     "data": {
      "text/plain": [
       "Process(`\u001b[4mecho\u001b[24m \u001b[4mHello\u001b[24m`, ProcessExited(0))"
      ]
     },
     "execution_count": 9,
     "metadata": {},
     "output_type": "execute_result"
    }
   ],
   "source": [
    "run(`echo Hello`)"
   ]
  },
  {
   "cell_type": "markdown",
   "id": "138dbf7d-301e-4ced-9569-0acc462c3d19",
   "metadata": {},
   "source": [
    "* `read(cmd, type of output)`"
   ]
  },
  {
   "cell_type": "code",
   "execution_count": 20,
   "id": "7ab703ca-ae36-4a96-b0cd-3b09b3bec081",
   "metadata": {
    "execution": {
     "iopub.execute_input": "2021-04-24T01:15:59.437000-07:00",
     "iopub.status.busy": "2021-04-24T01:15:59.437000-07:00",
     "iopub.status.idle": "2021-04-24T01:15:59.443000-07:00",
     "shell.execute_reply": "2021-04-24T01:15:59.443000-07:00"
    },
    "tags": []
   },
   "outputs": [
    {
     "data": {
      "text/plain": [
       "\"captions\\nChap02.ipynb\\nChap03_Function.ipynb\\nChap04_Case1.ipynb\\nChap05_Conditionals_and_Recursion.ipynb\\nChap06_Fruitful_Function.ipynb\\nChap07_Iteration.ipynb\\nChap08_Strings.ipynb\\nChap09_Case2.ipynb\\nChap10_Arrays.ipynb\\nChap11_Dictionaries.ipynb\\nChap12_Tuples.ipynb\\nChap13_Case3.ipynb\\nChap14\\nChap14_Files.ipynb\\nData\\ntest_serialization\\nuntitled.dio\\n\""
      ]
     },
     "execution_count": 20,
     "metadata": {},
     "output_type": "execute_result"
    }
   ],
   "source": [
    "read(`ls`,String)"
   ]
  },
  {
   "cell_type": "code",
   "execution_count": 21,
   "id": "71bec1ff-1be5-4ddd-a470-bd50164da3f8",
   "metadata": {
    "execution": {
     "iopub.execute_input": "2021-04-24T01:16:02.441000-07:00",
     "iopub.status.busy": "2021-04-24T01:16:02.441000-07:00",
     "iopub.status.idle": "2021-04-24T01:16:02.447000-07:00",
     "shell.execute_reply": "2021-04-24T01:16:02.447000-07:00"
    },
    "tags": []
   },
   "outputs": [
    {
     "data": {
      "text/plain": [
       "\"6f5902ac237024bdd0c176cb93063dc4  Chap14/test.txt\\n\""
      ]
     },
     "execution_count": 21,
     "metadata": {},
     "output_type": "execute_result"
    }
   ],
   "source": [
    "filename = \"Chap14/test.txt\";\n",
    "cmd = `md5sum $filename`;\n",
    "read(cmd, String)"
   ]
  },
  {
   "cell_type": "markdown",
   "id": "3600a8c7-dc3a-4978-83ff-9fa64f8df831",
   "metadata": {},
   "source": [
    "## Modules\n",
    "### import file\n",
    "* `include(julia_file_name)`"
   ]
  },
  {
   "cell_type": "code",
   "execution_count": 1,
   "id": "1d114068-b24b-41a0-96fd-5c66492a96cf",
   "metadata": {
    "execution": {
     "iopub.execute_input": "2021-04-24T01:28:53.271000-07:00",
     "iopub.status.busy": "2021-04-24T01:28:52.561000-07:00",
     "iopub.status.idle": "2021-04-24T01:28:54.091000-07:00",
     "shell.execute_reply": "2021-04-24T01:28:54.063000-07:00"
    },
    "tags": []
   },
   "outputs": [
    {
     "data": {
      "text/plain": [
       "Main.LineCount"
      ]
     },
     "execution_count": 1,
     "metadata": {},
     "output_type": "execute_result"
    }
   ],
   "source": [
    "include(\"Chap14/test.jl\")"
   ]
  },
  {
   "cell_type": "markdown",
   "id": "305ed553-9eff-4e11-a940-8ad59b4e51e1",
   "metadata": {},
   "source": [
    "### use modules of file which has been imported\n",
    "* `using Module_name`"
   ]
  },
  {
   "cell_type": "code",
   "execution_count": 2,
   "id": "8a260885-a42a-41bb-8781-13daabe1dda7",
   "metadata": {
    "execution": {
     "iopub.execute_input": "2021-04-24T01:28:54.093000-07:00",
     "iopub.status.busy": "2021-04-24T01:28:54.092000-07:00",
     "iopub.status.idle": "2021-04-24T01:28:54.113000-07:00",
     "shell.execute_reply": "2021-04-24T01:28:54.112000-07:00"
    },
    "tags": []
   },
   "outputs": [],
   "source": [
    "using Main.LineCount"
   ]
  },
  {
   "cell_type": "code",
   "execution_count": 4,
   "id": "1ab998c4-5a27-43c2-b8ee-2434816361c1",
   "metadata": {
    "execution": {
     "iopub.execute_input": "2021-04-24T01:28:56.640000-07:00",
     "iopub.status.busy": "2021-04-24T01:28:56.640000-07:00",
     "iopub.status.idle": "2021-04-24T01:28:56.661000-07:00",
     "shell.execute_reply": "2021-04-24T01:28:56.661000-07:00"
    },
    "tags": []
   },
   "outputs": [
    {
     "data": {
      "text/plain": [
       "113809"
      ]
     },
     "execution_count": 4,
     "metadata": {},
     "output_type": "execute_result"
    }
   ],
   "source": [
    "linecount(\"Data/words.txt\")"
   ]
  },
  {
   "cell_type": "code",
   "execution_count": 29,
   "id": "a4a4eef8-ba11-4235-b91e-ae5b87f707e6",
   "metadata": {
    "execution": {
     "iopub.execute_input": "2021-04-24T01:21:53.841000-07:00",
     "iopub.status.busy": "2021-04-24T01:21:53.841000-07:00",
     "iopub.status.idle": "2021-04-24T01:21:53.852000-07:00",
     "shell.execute_reply": "2021-04-24T01:21:53.851000-07:00"
    },
    "tags": []
   },
   "outputs": [
    {
     "ename": "LoadError",
     "evalue": "ArgumentError: Package LineCount not found in current path:\n- Run `import Pkg; Pkg.add(\"LineCount\")` to install the LineCount package.\n",
     "output_type": "error",
     "traceback": [
      "ArgumentError: Package LineCount not found in current path:\n- Run `import Pkg; Pkg.add(\"LineCount\")` to install the LineCount package.\n",
      "",
      "Stacktrace:",
      " [1] require(into::Module, mod::Symbol)",
      "   @ Base ./loading.jl:871",
      " [2] eval",
      "   @ ./boot.jl:360 [inlined]",
      " [3] include_string(mapexpr::typeof(REPL.softscope), mod::Module, code::String, filename::String)",
      "   @ Base ./loading.jl:1094"
     ]
    }
   ],
   "source": [
    "using LineCount\n",
    "linecount(\"Chap14/test.txt\")"
   ]
  },
  {
   "cell_type": "markdown",
   "id": "61ccf6a7-68c0-4814-a1ab-ec682bf26cab",
   "metadata": {},
   "source": [
    "### Define a Module\n",
    "* ```julia\n",
    "module\n",
    "....\n",
    "end\n",
    "```\n",
    "* `export` variables return after using modules"
   ]
  },
  {
   "cell_type": "code",
   "execution_count": 5,
   "id": "4dfd394c-68cb-405f-bf43-92f4f562a89e",
   "metadata": {
    "execution": {
     "iopub.execute_input": "2021-04-24T01:33:55.801000-07:00",
     "iopub.status.busy": "2021-04-24T01:33:55.801000-07:00",
     "iopub.status.idle": "2021-04-24T01:33:55.805000-07:00",
     "shell.execute_reply": "2021-04-24T01:33:55.805000-07:00"
    },
    "tags": []
   },
   "outputs": [
    {
     "name": "stderr",
     "output_type": "stream",
     "text": [
      "WARNING: replacing module LineCount.\n"
     ]
    },
    {
     "data": {
      "text/plain": [
       "Main.LineCount"
      ]
     },
     "execution_count": 5,
     "metadata": {},
     "output_type": "execute_result"
    }
   ],
   "source": [
    "# the content of \"Chap14/test.jl\"\n",
    "module LineCount\n",
    "export linecount\n",
    "function linecount(filename)\n",
    "    count = 0\n",
    "    for line in eachline(filename)\n",
    "        count += 1\n",
    "    end\n",
    "    count\n",
    "end\n",
    "end"
   ]
  },
  {
   "cell_type": "code",
   "execution_count": 10,
   "id": "70b1383c-bc6a-4886-bb8a-d5e721a56455",
   "metadata": {
    "execution": {
     "iopub.execute_input": "2021-04-24T01:36:44.467000-07:00",
     "iopub.status.busy": "2021-04-24T01:36:44.467000-07:00",
     "iopub.status.idle": "2021-04-24T01:36:44.516000-07:00",
     "shell.execute_reply": "2021-04-24T01:36:44.516000-07:00"
    },
    "tags": []
   },
   "outputs": [
    {
     "ename": "LoadError",
     "evalue": "UndefVarError: workspace not defined",
     "output_type": "error",
     "traceback": [
      "UndefVarError: workspace not defined",
      "",
      "Stacktrace:",
      " [1] getproperty(x::Module, f::Symbol)",
      "   @ Base ./Base.jl:26",
      " [2] top-level scope",
      "   @ In[10]:1",
      " [3] eval",
      "   @ ./boot.jl:360 [inlined]",
      " [4] include_string(mapexpr::typeof(REPL.softscope), mod::Module, code::String, filename::String)",
      "   @ Base ./loading.jl:1094"
     ]
    }
   ],
   "source": [
    "works"
   ]
  },
  {
   "cell_type": "markdown",
   "id": "7ed899b2-4a74-4719-bae4-61545c2ce8c7",
   "metadata": {},
   "source": [
    "* `repr(s)`\n",
    "* `dump(s)`"
   ]
  },
  {
   "cell_type": "code",
   "execution_count": 11,
   "id": "af041b09-ef2a-4b06-a87d-d6c85678e2ff",
   "metadata": {
    "execution": {
     "iopub.execute_input": "2021-04-24T01:38:48.435000-07:00",
     "iopub.status.busy": "2021-04-24T01:38:48.435000-07:00",
     "iopub.status.idle": "2021-04-24T01:38:48.764000-07:00",
     "shell.execute_reply": "2021-04-24T01:38:48.763000-07:00"
    },
    "tags": []
   },
   "outputs": [
    {
     "data": {
      "text/plain": [
       "\"1 2\\t 3\\n 4\""
      ]
     },
     "execution_count": 11,
     "metadata": {},
     "output_type": "execute_result"
    }
   ],
   "source": [
    "s = \"1 2\\t 3\\n 4\""
   ]
  },
  {
   "cell_type": "code",
   "execution_count": 12,
   "id": "4b3d3e8b-e0d6-4c33-9e46-a9f5bbdded04",
   "metadata": {
    "execution": {
     "iopub.execute_input": "2021-04-24T01:38:53.552000-07:00",
     "iopub.status.busy": "2021-04-24T01:38:53.552000-07:00",
     "iopub.status.idle": "2021-04-24T01:38:53.565000-07:00",
     "shell.execute_reply": "2021-04-24T01:38:53.564000-07:00"
    },
    "tags": []
   },
   "outputs": [
    {
     "name": "stdout",
     "output_type": "stream",
     "text": [
      "1 2\t 3\n",
      " 4"
     ]
    }
   ],
   "source": [
    "print(s)"
   ]
  },
  {
   "cell_type": "code",
   "execution_count": 13,
   "id": "50a686c8-619f-4f66-8e40-c8935f298691",
   "metadata": {
    "execution": {
     "iopub.execute_input": "2021-04-24T01:38:59.842000-07:00",
     "iopub.status.busy": "2021-04-24T01:38:59.842000-07:00",
     "iopub.status.idle": "2021-04-24T01:38:59.843000-07:00",
     "shell.execute_reply": "2021-04-24T01:38:59.842000-07:00"
    }
   },
   "outputs": [
    {
     "data": {
      "text/plain": [
       "\"\\\"1 2\\\\t 3\\\\n 4\\\"\""
      ]
     },
     "execution_count": 13,
     "metadata": {},
     "output_type": "execute_result"
    }
   ],
   "source": [
    "repr(s)"
   ]
  },
  {
   "cell_type": "code",
   "execution_count": 14,
   "id": "ed83a3b8-86c5-4870-a754-bbed2c41a762",
   "metadata": {
    "execution": {
     "iopub.execute_input": "2021-04-24T01:39:04.772000-07:00",
     "iopub.status.busy": "2021-04-24T01:39:04.771000-07:00",
     "iopub.status.idle": "2021-04-24T01:39:04.930000-07:00",
     "shell.execute_reply": "2021-04-24T01:39:04.929000-07:00"
    },
    "tags": []
   },
   "outputs": [
    {
     "name": "stdout",
     "output_type": "stream",
     "text": [
      "String \"1 2\\t 3\\n 4\"\n"
     ]
    }
   ],
   "source": [
    "dump(s)"
   ]
  }
 ],
 "metadata": {
  "kernelspec": {
   "display_name": "Julia 1.6.0",
   "language": "julia",
   "name": "julia-1.6"
  },
  "language_info": {
   "file_extension": ".jl",
   "mimetype": "application/julia",
   "name": "julia",
   "version": "1.6.0"
  }
 },
 "nbformat": 4,
 "nbformat_minor": 5
}
