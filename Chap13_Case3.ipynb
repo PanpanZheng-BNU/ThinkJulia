{
 "cells": [
  {
   "cell_type": "markdown",
   "id": "5b7cb5ac-7e9d-4a01-a21d-989e867d396f",
   "metadata": {},
   "source": [
    "# Case3\n",
    "#### Ex13-1"
   ]
  },
  {
   "cell_type": "code",
   "execution_count": 2,
   "id": "dc26b0b2-1e99-4d9c-9523-338839fbd1a2",
   "metadata": {
    "execution": {
     "iopub.execute_input": "2021-04-23T21:11:52.946000-07:00",
     "iopub.status.busy": "2021-04-23T21:11:52.946000-07:00",
     "iopub.status.idle": "2021-04-23T21:11:54.831000-07:00",
     "shell.execute_reply": "2021-04-23T21:11:54.765000-07:00"
    },
    "tags": []
   },
   "outputs": [
    {
     "data": {
      "text/plain": [
       "\"Psychology is the scientific study of the mind and behavior,    according to the American Psychological Association. Psychology is a multifaceted discipline and includes many sub-fields of study such areas as human development, sports, health, clinical, social behavior and cognitive processes.  \""
      ]
     },
     "execution_count": 2,
     "metadata": {},
     "output_type": "execute_result"
    }
   ],
   "source": [
    "test_string = \"Psychology is the scientific study of the mind and behavior,    according to the American Psychological Association. Psychology is a multifaceted discipline and includes many sub-fields of study such areas as human development, sports, health, clinical, social behavior and cognitive processes.  \""
   ]
  },
  {
   "cell_type": "code",
   "execution_count": 3,
   "id": "ac0cdd73-5253-407e-b9ec-e6009ed11f67",
   "metadata": {
    "execution": {
     "iopub.execute_input": "2021-04-23T21:11:54.832000-07:00",
     "iopub.status.busy": "2021-04-23T21:11:54.832000-07:00",
     "iopub.status.idle": "2021-04-23T21:11:55.649000-07:00",
     "shell.execute_reply": "2021-04-23T21:11:55.648000-07:00"
    },
    "tags": []
   },
   "outputs": [
    {
     "data": {
      "text/plain": [
       "split_to_words (generic function with 1 method)"
      ]
     },
     "execution_count": 3,
     "metadata": {},
     "output_type": "execute_result"
    }
   ],
   "source": [
    "function split_to_words(input)\n",
    "    letters = collect(input);\n",
    "    not_letter_index = findall(!(isletter),letters);\n",
    "    for index in not_letter_index\n",
    "        letters[index] = ' '\n",
    "    end\n",
    "    words = lowercase.(split(join(letters)));\n",
    "    return words\n",
    "end"
   ]
  },
  {
   "cell_type": "code",
   "execution_count": 4,
   "id": "0be29336-224b-4bda-a505-0947f9f7d8c6",
   "metadata": {
    "execution": {
     "iopub.execute_input": "2021-04-23T21:11:55.652000-07:00",
     "iopub.status.busy": "2021-04-23T21:11:55.651000-07:00",
     "iopub.status.idle": "2021-04-23T21:11:55.971000-07:00",
     "shell.execute_reply": "2021-04-23T21:11:55.965000-07:00"
    },
    "tags": []
   },
   "outputs": [],
   "source": [
    "split_to_words(test_string);"
   ]
  },
  {
   "cell_type": "code",
   "execution_count": 5,
   "id": "900ccd8d-cf58-4d08-b6c5-d36fee3d482b",
   "metadata": {
    "execution": {
     "iopub.execute_input": "2021-04-23T21:11:55.975000-07:00",
     "iopub.status.busy": "2021-04-23T21:11:55.973000-07:00",
     "iopub.status.idle": "2021-04-23T21:11:56.189000-07:00",
     "shell.execute_reply": "2021-04-23T21:11:56.188000-07:00"
    },
    "tags": []
   },
   "outputs": [
    {
     "data": {
      "text/plain": [
       "test_not_alpabet (generic function with 1 method)"
      ]
     },
     "execution_count": 5,
     "metadata": {},
     "output_type": "execute_result"
    }
   ],
   "source": [
    "function test_not_alpabet(input)\n",
    "    for word in input\n",
    "        for letter in word\n",
    "            if !(isletter(letter))\n",
    "                return false\n",
    "            end\n",
    "        end\n",
    "    end\n",
    "    true\n",
    "end"
   ]
  },
  {
   "cell_type": "code",
   "execution_count": 6,
   "id": "689168d1-2d39-4f31-a146-b2e21d9a916d",
   "metadata": {
    "execution": {
     "iopub.execute_input": "2021-04-23T21:11:56.191000-07:00",
     "iopub.status.busy": "2021-04-23T21:11:56.190000-07:00",
     "iopub.status.idle": "2021-04-23T21:11:56.964000-07:00",
     "shell.execute_reply": "2021-04-23T21:11:56.963000-07:00"
    },
    "tags": []
   },
   "outputs": [
    {
     "data": {
      "text/plain": [
       "true"
      ]
     },
     "execution_count": 6,
     "metadata": {},
     "output_type": "execute_result"
    }
   ],
   "source": [
    "test_not_alpabet(split_to_words(test_string))"
   ]
  },
  {
   "cell_type": "markdown",
   "id": "a4221f48-6207-42f9-8ec7-26518225a6e8",
   "metadata": {},
   "source": [
    "#### Ex13-2"
   ]
  },
  {
   "cell_type": "code",
   "execution_count": 7,
   "id": "db496a04-80a2-4d4a-95b4-2ae792cc7f1f",
   "metadata": {
    "execution": {
     "iopub.execute_input": "2021-04-23T21:11:56.966000-07:00",
     "iopub.status.busy": "2021-04-23T21:11:56.966000-07:00",
     "iopub.status.idle": "2021-04-23T21:11:57.250000-07:00",
     "shell.execute_reply": "2021-04-23T21:11:57.250000-07:00"
    },
    "tags": []
   },
   "outputs": [
    {
     "data": {
      "text/plain": [
       "main_read_book (generic function with 1 method)"
      ]
     },
     "execution_count": 7,
     "metadata": {},
     "output_type": "execute_result"
    }
   ],
   "source": [
    "function readfile(filename)\n",
    "    f = open(filename);\n",
    "    file_array = []\n",
    "    for line in readlines(f)\n",
    "        push!(file_array,line)\n",
    "    end\n",
    "    return file_array\n",
    "end\n",
    "\n",
    "function delete_header(raw_array)\n",
    "    start_index = 0\n",
    "    for (i,j) in enumerate(raw_array)\n",
    "        if occursin(\"*** START OF\",j)\n",
    "#             global \n",
    "            start_index =  i\n",
    "        end\n",
    "    end\n",
    "    @show start_index\n",
    "    return join(raw_array[start_index + 1:end],\"\\n\");\n",
    "end\n",
    "\n",
    "function split_to_words(input)\n",
    "    letters = collect(input);\n",
    "    not_letter_index = findall(!(isletter),letters);\n",
    "    for index in reverse(not_letter_index)\n",
    "        if letters[index] == '-'\n",
    "            letters[index] = ' '\n",
    "        else\n",
    "            deleteat!(letters, index)\n",
    "        end\n",
    "#         @show length(letters)\n",
    "    end\n",
    "    words = lowercase.(split(join(letters)));\n",
    "    return words\n",
    "end\n",
    "\n",
    "function stats_frequencies(words)\n",
    "    d = Dict();\n",
    "    for word in words\n",
    "        d[word] = get(d,word,0) + 1;\n",
    "    end\n",
    "    return d\n",
    "end\n",
    "\n",
    "function main_read_book(filename)\n",
    "    raw_array = readfile(filename);\n",
    "    raw_string = delete_header(raw_array);\n",
    "    words = split_to_words(raw_string);\n",
    "    stats_frequencies(words)\n",
    "end"
   ]
  },
  {
   "cell_type": "code",
   "execution_count": 8,
   "id": "1c3c8330-05f9-4814-9df6-666217a3903a",
   "metadata": {
    "execution": {
     "iopub.execute_input": "2021-04-23T21:11:57.252000-07:00",
     "iopub.status.busy": "2021-04-23T21:11:57.251000-07:00",
     "iopub.status.idle": "2021-04-23T21:11:58.543000-07:00",
     "shell.execute_reply": "2021-04-23T21:11:58.538000-07:00"
    }
   },
   "outputs": [
    {
     "ename": "LoadError",
     "evalue": "MethodError: no method matching filter(::Vector{Any})\n\u001b[0mClosest candidates are:\n\u001b[0m  filter(::Any, \u001b[91m::Tuple{Any, Any, Any, Any, Any, Any, Any, Any, Any, Any, Any, Any, Any, Any, Any, Any, Vararg{Any, N}} where N\u001b[39m) at tuple.jl:345\n\u001b[0m  filter(::Any, \u001b[91m::Tuple\u001b[39m) at tuple.jl:342\n\u001b[0m  filter(::Any, \u001b[91m::Array{T, N}\u001b[39m) where {T, N} at array.jl:2502\n\u001b[0m  ...",
     "output_type": "error",
     "traceback": [
      "MethodError: no method matching filter(::Vector{Any})\n\u001b[0mClosest candidates are:\n\u001b[0m  filter(::Any, \u001b[91m::Tuple{Any, Any, Any, Any, Any, Any, Any, Any, Any, Any, Any, Any, Any, Any, Any, Any, Vararg{Any, N}} where N\u001b[39m) at tuple.jl:345\n\u001b[0m  filter(::Any, \u001b[91m::Tuple\u001b[39m) at tuple.jl:342\n\u001b[0m  filter(::Any, \u001b[91m::Array{T, N}\u001b[39m) where {T, N} at array.jl:2502\n\u001b[0m  ...",
      "",
      "Stacktrace:",
      " [1] top-level scope",
      "   @ In[8]:2",
      " [2] eval",
      "   @ ./boot.jl:360 [inlined]",
      " [3] include_string(mapexpr::typeof(REPL.softscope), mod::Module, code::String, filename::String)",
      "   @ Base ./loading.jl:1094"
     ]
    }
   ],
   "source": [
    "\n",
    "filter([])"
   ]
  },
  {
   "cell_type": "code",
   "execution_count": 9,
   "id": "7b3ddded-0888-484b-a06d-ebafa6a7d485",
   "metadata": {
    "execution": {
     "iopub.execute_input": "2021-04-23T21:11:58.546000-07:00",
     "iopub.status.busy": "2021-04-23T21:11:58.546000-07:00",
     "iopub.status.idle": "2021-04-23T21:12:02.406000-07:00",
     "shell.execute_reply": "2021-04-23T21:12:02.405000-07:00"
    },
    "tags": []
   },
   "outputs": [
    {
     "name": "stdout",
     "output_type": "stream",
     "text": [
      "start_index = 25\n"
     ]
    },
    {
     "data": {
      "text/plain": [
       "Dict{Any, Any} with 329 entries:\n",
       "  \"r\"                                                                       => 1\n",
       "  \"bewilderedlookcamebackintohisfadedeyeslookinthedrawertherehesaidpointin… => 1\n",
       "  \"footedshortsightedyoungmenintownwhocouldntgetintothearmyatallbythenexta… => 1\n",
       "  \"mailwithindaysofreceiptthatshedoesnotagreetothetermsofthefullprojectgut… => 1\n",
       "  \"petersandmrpjewettonceheadoftheamericanlegionandmissclaudiahipwithamanr… => 1\n",
       "  \"fashionedinmyideasbutwomenrunaroundtoomuchthesedaystosuitmetheymeetallk… => 1\n",
       "  \"tmlicenseasspecifiedinparagrapheedonotchargeafeeforaccesstoviewingdispl… => 1\n",
       "  \"tmworksunlessyoucomplywithparagrapheoreeyoumaychargeareasonablefeeforco… => 1\n",
       "  \"tmissynonymouswiththefreedistributionofelectronicworksinformatsreadable… => 1\n",
       "  \"fisherorinanyothercapacitythatbroughthimfoodandbedhisbrownhardeningbody… => 1\n",
       "  \"jug\"                                                                     => 1\n",
       "  \"outmenwhenhewasntworkinghesatonachairinthedoorwayandstaredatthepeoplean… => 1\n",
       "  \"tmelectronicworksinaccordancewiththisagreementandanyvolunteersassociate… => 1\n",
       "  \"gardenattheplazahoteliwaswalkingalongfromoneplacetoanotherhalfontheside… => 1\n",
       "  \"oneafternoonlateinoctoberisawtombuchananhewaswalkingaheadofmealongfifth… => 1\n",
       "  \"agedandnewcomputersitexistsbecauseoftheeffortsofhundredsofvolunteersand… => 1\n",
       "  \"hshelookedatmeoveragainwillyoujustwhatwasyournameshevanishedinamomentme… => 1\n",
       "  \"mowertappedatmyfrontdoorandsaidthatmrgatsbyhadsenthimovertocutmygrassth… => 1\n",
       "  \"tmprojectgutenberg\"                                                      => 1\n",
       "  \"tmelectronicworksinyourpossessionifyoupaidafeeforobtainingacopyoforacce… => 1\n",
       "  \"and\"                                                                     => 2\n",
       "  \"dogatsbyandiinturnleaneddownandtookthesmallreluctanthandafterwardhekept… => 1\n",
       "  \"daysalongshoreslowlythewhitewingsoftheboatmovedagainstthebluecoollimito… => 1\n",
       "  \"fivethetransactionsinmontanacopperthatmadehimmanytimesamillionairefound… => 1\n",
       "  \"plumtreeandtheirfacesweretouchingexceptforapalethinrayofmoonlightbetwee… => 1\n",
       "  ⋮                                                                         => ⋮"
      ]
     },
     "execution_count": 9,
     "metadata": {},
     "output_type": "execute_result"
    }
   ],
   "source": [
    "word_frequency = main_read_book(\"Data/gatsby.txt\")"
   ]
  },
  {
   "cell_type": "code",
   "execution_count": 10,
   "id": "b0d8d56e-dedb-4c9d-933a-6a71947fe40a",
   "metadata": {
    "execution": {
     "iopub.execute_input": "2021-04-23T21:12:02.408000-07:00",
     "iopub.status.busy": "2021-04-23T21:12:02.407000-07:00",
     "iopub.status.idle": "2021-04-23T21:12:03.089000-07:00",
     "shell.execute_reply": "2021-04-23T21:12:03.088000-07:00"
    },
    "tags": []
   },
   "outputs": [
    {
     "data": {
      "text/plain": [
       "4"
      ]
     },
     "execution_count": 10,
     "metadata": {},
     "output_type": "execute_result"
    }
   ],
   "source": [
    "maximum(values(word_frequency))"
   ]
  },
  {
   "cell_type": "code",
   "execution_count": 11,
   "id": "c75f51c1-cb84-4747-a2a9-17109daefd06",
   "metadata": {
    "execution": {
     "iopub.execute_input": "2021-04-23T21:12:03.092000-07:00",
     "iopub.status.busy": "2021-04-23T21:12:03.090000-07:00",
     "iopub.status.idle": "2021-04-23T21:12:03.317000-07:00",
     "shell.execute_reply": "2021-04-23T21:12:03.317000-07:00"
    },
    "tags": []
   },
   "outputs": [
    {
     "data": {
      "text/plain": [
       "replacement (generic function with 1 method)"
      ]
     },
     "execution_count": 11,
     "metadata": {},
     "output_type": "execute_result"
    }
   ],
   "source": [
    "function replacement(dict)\n",
    "    reverse_dict = Dict{Int64,Any}();\n",
    "    for (ks, vs) in dict\n",
    "        reverse_dict[vs] = push!(get(reverse_dict, vs, []),ks)\n",
    "    end\n",
    "    return reverse_dict\n",
    "end"
   ]
  },
  {
   "cell_type": "code",
   "execution_count": 12,
   "id": "743c5bd9-f377-4580-b8fd-1f82a8129b77",
   "metadata": {
    "execution": {
     "iopub.execute_input": "2021-04-23T21:12:03.320000-07:00",
     "iopub.status.busy": "2021-04-23T21:12:03.319000-07:00",
     "iopub.status.idle": "2021-04-23T21:12:03.470000-07:00",
     "shell.execute_reply": "2021-04-23T21:12:03.468000-07:00"
    },
    "tags": []
   },
   "outputs": [],
   "source": [
    "f = open(\"Data/words.txt\");\n",
    "word_list = []; \n",
    "for word in readlines(f)\n",
    "    push!(word_list,word)\n",
    "end\n"
   ]
  },
  {
   "cell_type": "code",
   "execution_count": 13,
   "id": "c6098e93-1616-4fd4-955f-ebe4c45a3695",
   "metadata": {
    "execution": {
     "iopub.execute_input": "2021-04-23T21:12:03.473000-07:00",
     "iopub.status.busy": "2021-04-23T21:12:03.472000-07:00",
     "iopub.status.idle": "2021-04-23T21:12:06.170000-07:00",
     "shell.execute_reply": "2021-04-23T21:12:06.169000-07:00"
    },
    "tags": []
   },
   "outputs": [
    {
     "data": {
      "text/plain": [
       "113809-element Vector{Any}:\n",
       " \"aa\"\n",
       " \"aah\"\n",
       " \"aahed\"\n",
       " \"aahing\"\n",
       " \"aahs\"\n",
       " \"aal\"\n",
       " \"aalii\"\n",
       " \"aaliis\"\n",
       " \"aals\"\n",
       " \"aardvark\"\n",
       " \"aardvarks\"\n",
       " \"aardwolf\"\n",
       " \"aardwolves\"\n",
       " ⋮\n",
       " \"zymes\"\n",
       " \"zymogen\"\n",
       " \"zymogene\"\n",
       " \"zymogenes\"\n",
       " \"zymogens\"\n",
       " \"zymologies\"\n",
       " \"zymology\"\n",
       " \"zymoses\"\n",
       " \"zymosis\"\n",
       " \"zymotic\"\n",
       " \"zymurgies\"\n",
       " \"zymurgy\""
      ]
     },
     "execution_count": 13,
     "metadata": {},
     "output_type": "execute_result"
    }
   ],
   "source": [
    "word_list"
   ]
  },
  {
   "cell_type": "code",
   "execution_count": 14,
   "id": "4073d480-2be9-4ea0-bffd-f811139c8fa0",
   "metadata": {
    "execution": {
     "iopub.execute_input": "2021-04-23T21:12:06.172000-07:00",
     "iopub.status.busy": "2021-04-23T21:12:06.171000-07:00",
     "iopub.status.idle": "2021-04-23T21:12:06.180000-07:00",
     "shell.execute_reply": "2021-04-23T21:12:06.180000-07:00"
    },
    "tags": []
   },
   "outputs": [
    {
     "data": {
      "text/plain": [
       "1"
      ]
     },
     "execution_count": 14,
     "metadata": {},
     "output_type": "execute_result"
    }
   ],
   "source": [
    "word_frequency[\"a\"] = 1"
   ]
  },
  {
   "cell_type": "code",
   "execution_count": 15,
   "id": "3d22d982-89a0-4a49-a585-936c5cc2b6b9",
   "metadata": {
    "execution": {
     "iopub.execute_input": "2021-04-23T21:12:06.181000-07:00",
     "iopub.status.busy": "2021-04-23T21:12:06.181000-07:00",
     "iopub.status.idle": "2021-04-23T21:12:06.269000-07:00",
     "shell.execute_reply": "2021-04-23T21:12:06.268000-07:00"
    },
    "tags": []
   },
   "outputs": [
    {
     "ename": "LoadError",
     "evalue": "UndefVarError: search_in_word_list not defined",
     "output_type": "error",
     "traceback": [
      "UndefVarError: search_in_word_list not defined",
      "",
      "Stacktrace:",
      " [1] top-level scope",
      "   @ ./In[15]:4",
      " [2] eval",
      "   @ ./boot.jl:360 [inlined]",
      " [3] include_string(mapexpr::typeof(REPL.softscope), mod::Module, code::String, filename::String)",
      "   @ Base ./loading.jl:1094"
     ]
    }
   ],
   "source": [
    "not_exist = Dict();\n",
    "\n",
    "for word in keys(word_frequency)\n",
    "    if !(search_in_word_list(word,word_list))\n",
    "        not_exist[word] = get(not_exist,word,0)+1\n",
    "    end\n",
    "end\n",
    "not_exist\n",
    "    \n",
    "    "
   ]
  },
  {
   "cell_type": "code",
   "execution_count": 16,
   "id": "979bbe48-8c19-4812-8ed5-e070d8620ef7",
   "metadata": {
    "execution": {
     "iopub.execute_input": "2021-04-23T21:12:06.271000-07:00",
     "iopub.status.busy": "2021-04-23T21:12:06.270000-07:00",
     "iopub.status.idle": "2021-04-23T21:12:06.497000-07:00",
     "shell.execute_reply": "2021-04-23T21:12:06.497000-07:00"
    },
    "tags": []
   },
   "outputs": [
    {
     "data": {
      "text/plain": [
       "search_in_word_list (generic function with 1 method)"
      ]
     },
     "execution_count": 16,
     "metadata": {},
     "output_type": "execute_result"
    }
   ],
   "source": [
    "function search_in_word_list(word,word_list)\n",
    "    for w in word_list\n",
    "        if word == w\n",
    "            return true\n",
    "        end\n",
    "    end\n",
    "    false\n",
    "end"
   ]
  },
  {
   "cell_type": "markdown",
   "id": "73b6a080-6185-46d1-87b0-74804036d2db",
   "metadata": {
    "execution": {
     "iopub.execute_input": "2021-04-23T05:09:46.909000-07:00",
     "iopub.status.busy": "2021-04-23T05:09:46.909000-07:00",
     "iopub.status.idle": "2021-04-23T05:09:46.910000-07:00",
     "shell.execute_reply": "2021-04-23T05:09:46.910000-07:00"
    },
    "tags": []
   },
   "source": [
    "## Solutions By Book"
   ]
  },
  {
   "cell_type": "code",
   "execution_count": 17,
   "id": "1bbe6ce4-de23-42e3-aef6-3d00fb2e020e",
   "metadata": {
    "execution": {
     "iopub.execute_input": "2021-04-23T21:12:06.501000-07:00",
     "iopub.status.busy": "2021-04-23T21:12:06.499000-07:00",
     "iopub.status.idle": "2021-04-23T21:12:06.875000-07:00",
     "shell.execute_reply": "2021-04-23T21:12:06.875000-07:00"
    },
    "tags": []
   },
   "outputs": [
    {
     "data": {
      "text/plain": [
       "processline (generic function with 1 method)"
      ]
     },
     "execution_count": 17,
     "metadata": {},
     "output_type": "execute_result"
    }
   ],
   "source": [
    "function processfile(filename)\n",
    "    hist = Dict()\n",
    "    for line in eachline(filename)\n",
    "        processline(line,hist)\n",
    "    end\n",
    "    hist\n",
    "end\n",
    "\n",
    "function processline(line,hist)\n",
    "    line = replace(line, '-' => ' ')\n",
    "    for word in split(line)\n",
    "        word = string(filter(isletter,[word...])...)\n",
    "        word = lowercase(word)\n",
    "        hist[word] = get!(hist,word,0) + 1\n",
    "    end\n",
    "end"
   ]
  },
  {
   "cell_type": "code",
   "execution_count": 18,
   "id": "ef9e4661-2ad2-4ba7-9e01-eb81285999a4",
   "metadata": {
    "execution": {
     "iopub.execute_input": "2021-04-23T21:12:06.876000-07:00",
     "iopub.status.busy": "2021-04-23T21:12:06.875000-07:00",
     "iopub.status.idle": "2021-04-23T21:12:06.889000-07:00",
     "shell.execute_reply": "2021-04-23T21:12:06.889000-07:00"
    },
    "tags": []
   },
   "outputs": [
    {
     "data": {
      "text/plain": [
       "main_read_book (generic function with 1 method)"
      ]
     },
     "execution_count": 18,
     "metadata": {},
     "output_type": "execute_result"
    }
   ],
   "source": [
    "function readfile(filename)\n",
    "    f = open(filename);\n",
    "    file_array = []\n",
    "    for line in eachline(f)\n",
    "        push!(file_array,line)\n",
    "    end\n",
    "    return file_array\n",
    "end\n",
    "\n",
    "function delete_header(raw_array)\n",
    "    start_index = 0\n",
    "    for (i,j) in enumerate(raw_array)\n",
    "        if occursin(\"*** START OF\",j)\n",
    "#             global \n",
    "            start_index =  i\n",
    "        end\n",
    "    end\n",
    "    @show start_index\n",
    "    return join(raw_array[start_index + 1:end],\"\\n\");\n",
    "end\n",
    "\n",
    "function split_to_words(raw_string)\n",
    "    words = []\n",
    "    raw_string = replace(raw_string, '-'  => ' ')\n",
    "    for word in split(raw_string)\n",
    "        push!(words, lowercase(string(filter(isletter, [word...])...)))\n",
    "    end\n",
    "    return words\n",
    "end\n",
    "\n",
    "function stats_frequencies(words)\n",
    "    d = Dict();\n",
    "    for word in words\n",
    "        d[word] = get(d,word,0) + 1;\n",
    "    end\n",
    "    return d\n",
    "end\n",
    "\n",
    "function main_read_book(filename)\n",
    "    raw_array = readfile(filename);\n",
    "    raw_string = delete_header(raw_array);\n",
    "    words = split_to_words(raw_string);\n",
    "    return (stats_frequencies(words),words)\n",
    "end"
   ]
  },
  {
   "cell_type": "code",
   "execution_count": 19,
   "id": "e95cd741-db5d-4ba7-9b97-748353a1d97d",
   "metadata": {
    "execution": {
     "iopub.execute_input": "2021-04-23T21:12:06.889000-07:00",
     "iopub.status.busy": "2021-04-23T21:12:06.889000-07:00",
     "iopub.status.idle": "2021-04-23T21:12:07.755000-07:00",
     "shell.execute_reply": "2021-04-23T21:12:07.749000-07:00"
    },
    "tags": []
   },
   "outputs": [],
   "source": [
    "hist = processfile(\"Data/emma.txt\");"
   ]
  },
  {
   "cell_type": "code",
   "execution_count": 20,
   "id": "fa88021a-874d-4e98-a3a8-e1cbe99fba7e",
   "metadata": {
    "execution": {
     "iopub.execute_input": "2021-04-23T21:12:07.759000-07:00",
     "iopub.status.busy": "2021-04-23T21:12:07.757000-07:00",
     "iopub.status.idle": "2021-04-23T21:12:08.473000-07:00",
     "shell.execute_reply": "2021-04-23T21:12:08.473000-07:00"
    },
    "tags": []
   },
   "outputs": [
    {
     "name": "stdout",
     "output_type": "stream",
     "text": [
      "start_index = 0\n"
     ]
    }
   ],
   "source": [
    "hist_by_myself = main_read_book(\"Data/emma.txt\");"
   ]
  },
  {
   "cell_type": "code",
   "execution_count": 21,
   "id": "68dbab49-6817-413f-8e77-d2743ccd9e76",
   "metadata": {
    "execution": {
     "iopub.execute_input": "2021-04-23T21:12:08.476000-07:00",
     "iopub.status.busy": "2021-04-23T21:12:08.475000-07:00",
     "iopub.status.idle": "2021-04-23T21:12:08.705000-07:00",
     "shell.execute_reply": "2021-04-23T21:12:08.704000-07:00"
    },
    "tags": []
   },
   "outputs": [
    {
     "data": {
      "text/plain": [
       "totalwords (generic function with 1 method)"
      ]
     },
     "execution_count": 21,
     "metadata": {},
     "output_type": "execute_result"
    }
   ],
   "source": [
    "function totalwords(hist)\n",
    "    sum(values(hist))\n",
    "end"
   ]
  },
  {
   "cell_type": "code",
   "execution_count": 22,
   "id": "41107342-bbba-469a-bbde-1db5e03e37a3",
   "metadata": {
    "execution": {
     "iopub.execute_input": "2021-04-23T21:12:08.711000-07:00",
     "iopub.status.busy": "2021-04-23T21:12:08.707000-07:00",
     "iopub.status.idle": "2021-04-23T21:12:09.618000-07:00",
     "shell.execute_reply": "2021-04-23T21:12:09.617000-07:00"
    },
    "tags": []
   },
   "outputs": [
    {
     "name": "stdout",
     "output_type": "stream",
     "text": [
      "start_index = 0\n"
     ]
    },
    {
     "ename": "LoadError",
     "evalue": "MethodError: no method matching +(::Dict{Any, Any}, ::Vector{Any})\n\u001b[0mClosest candidates are:\n\u001b[0m  +(::Any, ::Any, \u001b[91m::Any\u001b[39m, \u001b[91m::Any...\u001b[39m) at operators.jl:560\n\u001b[0m  +(\u001b[91m::Array\u001b[39m, ::Array...) at arraymath.jl:43\n\u001b[0m  +(\u001b[91m::SparseArrays.AbstractSparseMatrixCSC\u001b[39m, ::Array) at /buildworker/worker/package_linux64/build/usr/share/julia/stdlib/v1.6/SparseArrays/src/sparsematrix.jl:1744\n\u001b[0m  ...",
     "output_type": "error",
     "traceback": [
      "MethodError: no method matching +(::Dict{Any, Any}, ::Vector{Any})\n\u001b[0mClosest candidates are:\n\u001b[0m  +(::Any, ::Any, \u001b[91m::Any\u001b[39m, \u001b[91m::Any...\u001b[39m) at operators.jl:560\n\u001b[0m  +(\u001b[91m::Array\u001b[39m, ::Array...) at arraymath.jl:43\n\u001b[0m  +(\u001b[91m::SparseArrays.AbstractSparseMatrixCSC\u001b[39m, ::Array) at /buildworker/worker/package_linux64/build/usr/share/julia/stdlib/v1.6/SparseArrays/src/sparsematrix.jl:1744\n\u001b[0m  ...",
      "",
      "Stacktrace:",
      " [1] sum(x::Tuple{Dict{Any, Any}, Vector{Any}})",
      "   @ Base ./tuple.jl:474",
      " [2] totalwords(hist::Tuple{Dict{Any, Any}, Vector{Any}})",
      "   @ Main ./In[21]:2",
      " [3] top-level scope",
      "   @ In[22]:1",
      " [4] eval",
      "   @ ./boot.jl:360 [inlined]",
      " [5] include_string(mapexpr::typeof(REPL.softscope), mod::Module, code::String, filename::String)",
      "   @ Base ./loading.jl:1094"
     ]
    }
   ],
   "source": [
    "totalwords(main_read_book(\"Data/emma.txt\"))"
   ]
  },
  {
   "cell_type": "code",
   "execution_count": 23,
   "id": "e04484c9-50a3-4a6f-9ec4-49f662c2f60f",
   "metadata": {
    "execution": {
     "iopub.execute_input": "2021-04-23T21:12:09.620000-07:00",
     "iopub.status.busy": "2021-04-23T21:12:09.619000-07:00",
     "iopub.status.idle": "2021-04-23T21:12:09.718000-07:00",
     "shell.execute_reply": "2021-04-23T21:12:09.717000-07:00"
    },
    "tags": []
   },
   "outputs": [
    {
     "data": {
      "text/plain": [
       "162742"
      ]
     },
     "execution_count": 23,
     "metadata": {},
     "output_type": "execute_result"
    }
   ],
   "source": [
    "totalwords(hist)"
   ]
  },
  {
   "cell_type": "code",
   "execution_count": 24,
   "id": "9d43f9ac-9325-4dbb-959a-e7b4a34e448d",
   "metadata": {
    "execution": {
     "iopub.execute_input": "2021-04-23T21:12:09.720000-07:00",
     "iopub.status.busy": "2021-04-23T21:12:09.719000-07:00",
     "iopub.status.idle": "2021-04-23T21:12:09.993000-07:00",
     "shell.execute_reply": "2021-04-23T21:12:09.993000-07:00"
    },
    "tags": []
   },
   "outputs": [
    {
     "data": {
      "text/plain": [
       "mostcommon (generic function with 1 method)"
      ]
     },
     "execution_count": 24,
     "metadata": {},
     "output_type": "execute_result"
    }
   ],
   "source": [
    "function mostcommon(hist)\n",
    "    t = []\n",
    "    for (key, value) in hist\n",
    "        push!(t, (value,key))\n",
    "    end\n",
    "    reverse(sort(t))\n",
    "end"
   ]
  },
  {
   "cell_type": "code",
   "execution_count": 25,
   "id": "d739ce62-3969-4500-9eef-5669ebc34c0b",
   "metadata": {
    "execution": {
     "iopub.execute_input": "2021-04-23T21:12:09.996000-07:00",
     "iopub.status.busy": "2021-04-23T21:12:09.995000-07:00",
     "iopub.status.idle": "2021-04-23T21:12:10.519000-07:00",
     "shell.execute_reply": "2021-04-23T21:12:10.518000-07:00"
    },
    "tags": []
   },
   "outputs": [
    {
     "data": {
      "text/plain": [
       "7380-element Vector{Any}:\n",
       " (5295, \"to\")\n",
       " (5266, \"the\")\n",
       " (4931, \"and\")\n",
       " (4339, \"of\")\n",
       " (3191, \"i\")\n",
       " (3155, \"a\")\n",
       " (2546, \"it\")\n",
       " (2483, \"her\")\n",
       " (2400, \"was\")\n",
       " (2364, \"she\")\n",
       " (2199, \"in\")\n",
       " (2161, \"not\")\n",
       " (2053, \"you\")\n",
       " ⋮\n",
       " (1, \"abstained\")\n",
       " (1, \"absorbing\")\n",
       " (1, \"absented\")\n",
       " (1, \"absences\")\n",
       " (1, \"abruptness\")\n",
       " (1, \"abolition\")\n",
       " (1, \"abode\")\n",
       " (1, \"abide\")\n",
       " (1, \"abhorred\")\n",
       " (1, \"abhor\")\n",
       " (1, \"abdys\")\n",
       " (1, \"abbots\")"
      ]
     },
     "execution_count": 25,
     "metadata": {},
     "output_type": "execute_result"
    }
   ],
   "source": [
    "mostcommon(hist)"
   ]
  },
  {
   "cell_type": "code",
   "execution_count": 26,
   "id": "158bbb7c-8fca-4b3d-84ae-d781556c75e9",
   "metadata": {
    "execution": {
     "iopub.execute_input": "2021-04-23T21:12:10.520000-07:00",
     "iopub.status.busy": "2021-04-23T21:12:10.520000-07:00",
     "iopub.status.idle": "2021-04-23T21:12:10.737000-07:00",
     "shell.execute_reply": "2021-04-23T21:12:10.736000-07:00"
    },
    "tags": []
   },
   "outputs": [
    {
     "ename": "LoadError",
     "evalue": "MethodError: no method matching isless(::String, ::Pair{Any, Any})\n\u001b[0mClosest candidates are:\n\u001b[0m  isless(::AbstractString, \u001b[91m::AbstractString\u001b[39m) at strings/basic.jl:344\n\u001b[0m  isless(\u001b[91m::Pair\u001b[39m, ::Pair) at pair.jl:57\n\u001b[0m  isless(::Any, \u001b[91m::Missing\u001b[39m) at missing.jl:88\n\u001b[0m  ...",
     "output_type": "error",
     "traceback": [
      "MethodError: no method matching isless(::String, ::Pair{Any, Any})\n\u001b[0mClosest candidates are:\n\u001b[0m  isless(::AbstractString, \u001b[91m::AbstractString\u001b[39m) at strings/basic.jl:344\n\u001b[0m  isless(\u001b[91m::Pair\u001b[39m, ::Pair) at pair.jl:57\n\u001b[0m  isless(::Any, \u001b[91m::Missing\u001b[39m) at missing.jl:88\n\u001b[0m  ...",
      "",
      "Stacktrace:",
      "  [1] isless(t1::Tuple{String, String}, t2::Tuple{Pair{Any, Any}, Pair{Any, Any}})",
      "    @ Base ./tuple.jl:445",
      "  [2] lt(o::Base.Order.ForwardOrdering, a::Tuple{String, String}, b::Tuple{Pair{Any, Any}, Pair{Any, Any}})",
      "    @ Base.Order ./ordering.jl:109",
      "  [3] sort!(v::Vector{Any}, lo::Int64, hi::Int64, #unused#::Base.Sort.InsertionSortAlg, o::Base.Order.ForwardOrdering)",
      "    @ Base.Sort ./sort.jl:532",
      "  [4] sort!(v::Vector{Any}, lo::Int64, hi::Int64, a::Base.Sort.MergeSortAlg, o::Base.Order.ForwardOrdering, t::Vector{Any})",
      "    @ Base.Sort ./sort.jl:617",
      "  [5] sort!",
      "    @ ./sort.jl:616 [inlined]",
      "  [6] sort!",
      "    @ ./sort.jl:687 [inlined]",
      "  [7] #sort!#8",
      "    @ ./sort.jl:747 [inlined]",
      "  [8] sort!",
      "    @ ./sort.jl:735 [inlined]",
      "  [9] #sort#9",
      "    @ ./sort.jl:794 [inlined]",
      " [10] sort",
      "    @ ./sort.jl:794 [inlined]",
      " [11] mostcommon(hist::Tuple{Dict{Any, Any}, Vector{Any}})",
      "    @ Main ./In[24]:6",
      " [12] top-level scope",
      "    @ In[26]:1",
      " [13] eval",
      "    @ ./boot.jl:360 [inlined]",
      " [14] include_string(mapexpr::typeof(REPL.softscope), mod::Module, code::String, filename::String)",
      "    @ Base ./loading.jl:1094"
     ]
    }
   ],
   "source": [
    "mostcommon(hist_by_myself)"
   ]
  },
  {
   "cell_type": "code",
   "execution_count": 27,
   "id": "9eb4b24d-ee19-42b0-9dfa-588b87465138",
   "metadata": {
    "execution": {
     "iopub.execute_input": "2021-04-23T21:12:10.745000-07:00",
     "iopub.status.busy": "2021-04-23T21:12:10.744000-07:00",
     "iopub.status.idle": "2021-04-23T21:12:10.943000-07:00",
     "shell.execute_reply": "2021-04-23T21:12:10.943000-07:00"
    },
    "tags": []
   },
   "outputs": [
    {
     "name": "stdout",
     "output_type": "stream",
     "text": [
      "The most common words are:\n",
      "to\t5295\n",
      "the\t5266\n",
      "and\t4931\n",
      "of\t4339\n",
      "i\t3191\n",
      "a\t3155\n",
      "it\t2546\n",
      "her\t2483\n",
      "was\t2400\n",
      "she\t2364\n",
      "in\t2199\n",
      "not\t2161\n",
      "you\t2053\n",
      "be\t1987\n",
      "he\t1811\n",
      "that\t1809\n",
      "had\t1626\n",
      "but\t1446\n",
      "as\t1443\n",
      "for\t1371\n"
     ]
    }
   ],
   "source": [
    "t = mostcommon(hist)\n",
    "println(\"The most common words are:\")\n",
    "for (freq,word) in t[1:20]\n",
    "    println(word,\"\\t\",freq)\n",
    "end"
   ]
  },
  {
   "cell_type": "code",
   "execution_count": 28,
   "id": "6767aec9-da16-4c54-9b4e-9571e03cf43a",
   "metadata": {
    "execution": {
     "iopub.execute_input": "2021-04-23T21:12:10.944000-07:00",
     "iopub.status.busy": "2021-04-23T21:12:10.943000-07:00",
     "iopub.status.idle": "2021-04-23T21:12:11.185000-07:00",
     "shell.execute_reply": "2021-04-23T21:12:11.184000-07:00"
    },
    "tags": []
   },
   "outputs": [
    {
     "data": {
      "text/plain": [
       "printmostcommon (generic function with 2 methods)"
      ]
     },
     "execution_count": 28,
     "metadata": {},
     "output_type": "execute_result"
    }
   ],
   "source": [
    "function printmostcommon(hist,num=10)\n",
    "    t = mostcommon(hist)\n",
    "    println(\"The most common words are:\")\n",
    "    for (freq,word) in t[1:num]\n",
    "        println(word,\"\\t\",freq)\n",
    "    end\n",
    "end"
   ]
  },
  {
   "cell_type": "code",
   "execution_count": 29,
   "id": "953d9850-2fa3-4225-b2a9-ffa99140f7dd",
   "metadata": {
    "execution": {
     "iopub.execute_input": "2021-04-23T21:12:11.187000-07:00",
     "iopub.status.busy": "2021-04-23T21:12:11.186000-07:00",
     "iopub.status.idle": "2021-04-23T21:12:11.253000-07:00",
     "shell.execute_reply": "2021-04-23T21:12:11.253000-07:00"
    },
    "tags": []
   },
   "outputs": [
    {
     "name": "stdout",
     "output_type": "stream",
     "text": [
      "The most common words are:\n",
      "to\t5295\n",
      "the\t5266\n",
      "and\t4931\n",
      "of\t4339\n",
      "i\t3191\n",
      "a\t3155\n",
      "it\t2546\n",
      "her\t2483\n",
      "was\t2400\n",
      "she\t2364\n",
      "in\t2199\n",
      "not\t2161\n",
      "you\t2053\n",
      "be\t1987\n",
      "he\t1811\n",
      "that\t1809\n",
      "had\t1626\n",
      "but\t1446\n",
      "as\t1443\n",
      "for\t1371\n"
     ]
    }
   ],
   "source": [
    "printmostcommon(hist,20)"
   ]
  },
  {
   "cell_type": "code",
   "execution_count": 30,
   "id": "a093591e-d81b-4413-9b90-57db91209ba8",
   "metadata": {
    "execution": {
     "iopub.execute_input": "2021-04-23T21:12:11.256000-07:00",
     "iopub.status.busy": "2021-04-23T21:12:11.255000-07:00",
     "iopub.status.idle": "2021-04-23T21:12:11.561000-07:00",
     "shell.execute_reply": "2021-04-23T21:12:11.561000-07:00"
    },
    "tags": []
   },
   "outputs": [
    {
     "data": {
      "text/plain": [
       "subtract (generic function with 1 method)"
      ]
     },
     "execution_count": 30,
     "metadata": {},
     "output_type": "execute_result"
    }
   ],
   "source": [
    "function subtract(d1,d2)\n",
    "    res = Dict()\n",
    "    for key in keys(d1)\n",
    "        if key ∉ keys(d2)\n",
    "            res[key] = nothing\n",
    "        end\n",
    "    end\n",
    "    res\n",
    "end"
   ]
  },
  {
   "cell_type": "code",
   "execution_count": 31,
   "id": "644489dd-7761-4f82-b3f7-475a4593c89f",
   "metadata": {
    "execution": {
     "iopub.execute_input": "2021-04-23T21:12:11.564000-07:00",
     "iopub.status.busy": "2021-04-23T21:12:11.563000-07:00",
     "iopub.status.idle": "2021-04-23T21:12:12.597000-07:00",
     "shell.execute_reply": "2021-04-23T21:12:12.597000-07:00"
    },
    "tags": []
   },
   "outputs": [
    {
     "data": {
      "text/plain": [
       "Dict{Any, Any} with 113809 entries:\n",
       "  \"epinaoi\"         => 1\n",
       "  \"nimbused\"        => 1\n",
       "  \"pintoes\"         => 1\n",
       "  \"interties\"       => 1\n",
       "  \"inattentive\"     => 1\n",
       "  \"cliquing\"        => 1\n",
       "  \"photosynthesis\"  => 1\n",
       "  \"sleepwalking\"    => 1\n",
       "  \"chicanes\"        => 1\n",
       "  \"lunk\"            => 1\n",
       "  \"ethmoids\"        => 1\n",
       "  \"reemitted\"       => 1\n",
       "  \"henry\"           => 1\n",
       "  \"hotheadednesses\" => 1\n",
       "  \"planches\"        => 1\n",
       "  \"entomb\"          => 1\n",
       "  \"whiz\"            => 1\n",
       "  \"redresses\"       => 1\n",
       "  \"wormwoods\"       => 1\n",
       "  \"hipnesses\"       => 1\n",
       "  \"effacer\"         => 1\n",
       "  \"clapboards\"      => 1\n",
       "  \"overgrew\"        => 1\n",
       "  \"swirliest\"       => 1\n",
       "  \"doodlers\"        => 1\n",
       "  ⋮                 => ⋮"
      ]
     },
     "execution_count": 31,
     "metadata": {},
     "output_type": "execute_result"
    }
   ],
   "source": [
    "words = processfile(\"Data/words.txt\")"
   ]
  },
  {
   "cell_type": "code",
   "execution_count": 32,
   "id": "b406873f-b4cc-49d4-8ead-697853c45feb",
   "metadata": {
    "execution": {
     "iopub.execute_input": "2021-04-23T21:12:12.600000-07:00",
     "iopub.status.busy": "2021-04-23T21:12:12.599000-07:00",
     "iopub.status.idle": "2021-04-23T21:12:12.795000-07:00",
     "shell.execute_reply": "2021-04-23T21:12:12.794000-07:00"
    },
    "tags": []
   },
   "outputs": [
    {
     "data": {
      "text/plain": [
       "Dict{Any, Any} with 549 entries:\n",
       "  \"outree\"         => nothing\n",
       "  \"quicksighted\"   => nothing\n",
       "  \"outwardly\"      => nothing\n",
       "  \"adelaide\"       => nothing\n",
       "  \"jeffereys\"      => nothing\n",
       "  \"unreserved\"     => nothing\n",
       "  \"dixons\"         => nothing\n",
       "  \"betweens\"       => nothing\n",
       "  \"groundless\"     => nothing\n",
       "  \"jamess\"         => nothing\n",
       "  \"westons\"        => nothing\n",
       "  \"remembrance\"    => nothing\n",
       "  \"unsuccessfully\" => nothing\n",
       "  \"hawkinss\"       => nothing\n",
       "  \"rencontre\"      => nothing\n",
       "  \"deservedly\"     => nothing\n",
       "  \"favourably\"     => nothing\n",
       "  \"incommoded\"     => nothing\n",
       "  \"unfavourable\"   => nothing\n",
       "  \"wiltshire\"      => nothing\n",
       "  \"bateses\"        => nothing\n",
       "  \"recollecting\"   => nothing\n",
       "  \"newsletters\"    => nothing\n",
       "  \"recollected\"    => nothing\n",
       "  \"irresistibly\"   => nothing\n",
       "  ⋮                => ⋮"
      ]
     },
     "execution_count": 32,
     "metadata": {},
     "output_type": "execute_result"
    }
   ],
   "source": [
    "diff = subtract(hist,words)"
   ]
  },
  {
   "cell_type": "markdown",
   "id": "96ea0ca1-9809-489a-a1cf-3a99090ce6ce",
   "metadata": {},
   "source": [
    "## Marcov"
   ]
  },
  {
   "cell_type": "code",
   "execution_count": 1,
   "id": "2d5ab430-0fc8-4c47-9c76-d8e2eea87bf0",
   "metadata": {
    "execution": {
     "iopub.execute_input": "2021-04-23T22:18:10.429000-07:00",
     "iopub.status.busy": "2021-04-23T22:18:09.045000-07:00",
     "iopub.status.idle": "2021-04-23T22:18:11.871000-07:00",
     "shell.execute_reply": "2021-04-23T22:18:11.806000-07:00"
    },
    "tags": []
   },
   "outputs": [
    {
     "data": {
      "text/plain": [
       "split_to_words (generic function with 1 method)"
      ]
     },
     "execution_count": 1,
     "metadata": {},
     "output_type": "execute_result"
    }
   ],
   "source": [
    "function readfile(filename)\n",
    "    f = open(filename);\n",
    "    file_array = []\n",
    "    for line in eachline(f)\n",
    "        push!(file_array,line)\n",
    "    end\n",
    "    return file_array\n",
    "end\n",
    "\n",
    "function delete_header(raw_array)\n",
    "    start_index = 0\n",
    "    for (i,j) in enumerate(raw_array)\n",
    "        if occursin(\"*** START OF\",j)\n",
    "#             global \n",
    "            start_index =  i\n",
    "        end\n",
    "    end\n",
    "    @show start_index\n",
    "    return join(raw_array[start_index + 1:end],\"\\n\");\n",
    "end\n",
    "\n",
    "function split_to_words(filename)\n",
    "    raw_array = readfile(filename)\n",
    "    raw_string = delete_header(raw_array)\n",
    "    words = []\n",
    "    raw_string = replace(raw_string, '-'  => ' ')\n",
    "    for word in split(raw_string)\n",
    "        push!(words, lowercase(string(filter(isletter, [word...])...)))\n",
    "    end\n",
    "    return words\n",
    "end"
   ]
  },
  {
   "cell_type": "code",
   "execution_count": 121,
   "id": "b226bf27-f2cb-4262-96bd-54089492c7f4",
   "metadata": {
    "execution": {
     "iopub.execute_input": "2021-04-23T22:55:35.697000-07:00",
     "iopub.status.busy": "2021-04-23T22:55:35.697000-07:00",
     "iopub.status.idle": "2021-04-23T22:55:35.706000-07:00",
     "shell.execute_reply": "2021-04-23T22:55:35.705000-07:00"
    },
    "tags": []
   },
   "outputs": [
    {
     "data": {
      "text/plain": [
       "Marcov (generic function with 1 method)"
      ]
     },
     "execution_count": 121,
     "metadata": {},
     "output_type": "execute_result"
    }
   ],
   "source": [
    "function Marcov(text,n)\n",
    "    words = split_to_words(text);\n",
    "    prefix_suffix = []\n",
    "    for index in eachindex(words[1:end-n])\n",
    "        prefix = []\n",
    "        for i in words[index:index+(n-1)]\n",
    "            push!(prefix,i)\n",
    "        end\n",
    "        if length(filter(x -> length(x)>0,prefix)) == n && words[index + n] != \"\"\n",
    "            push!(prefix_suffix,(prefix,words[index+n]))\n",
    "        else\n",
    "            continue\n",
    "        end\n",
    "    end\n",
    "    prefix_suffix\n",
    "end\n",
    "# (Marcov(\"Data/emma.txt\",3))"
   ]
  },
  {
   "cell_type": "code",
   "execution_count": 5,
   "id": "ff92c6f0-9768-4944-99b2-aad66deea13b",
   "metadata": {
    "execution": {
     "iopub.execute_input": "2021-04-23T22:18:49.176000-07:00",
     "iopub.status.busy": "2021-04-23T22:18:49.176000-07:00",
     "iopub.status.idle": "2021-04-23T22:18:49.327000-07:00",
     "shell.execute_reply": "2021-04-23T22:18:49.327000-07:00"
    },
    "tags": []
   },
   "outputs": [
    {
     "data": {
      "text/plain": [
       "tuple_array2dict (generic function with 1 method)"
      ]
     },
     "execution_count": 5,
     "metadata": {},
     "output_type": "execute_result"
    }
   ],
   "source": [
    "function tuple_array2dict(tupple_array)\n",
    "    d = Dict()\n",
    "    for tupple in tupple_array\n",
    "#         @show tuple\n",
    "        d[tupple[1]] = push!(get(d,tupple[1],[]),tupple[2])\n",
    "    end\n",
    "    d\n",
    "end"
   ]
  },
  {
   "cell_type": "code",
   "execution_count": 143,
   "id": "b7d9e1e6-510b-4179-a4b0-65b6d0e590ca",
   "metadata": {
    "execution": {
     "iopub.execute_input": "2021-04-23T22:59:12.493000-07:00",
     "iopub.status.busy": "2021-04-23T22:59:12.493000-07:00",
     "iopub.status.idle": "2021-04-23T22:59:14.386000-07:00",
     "shell.execute_reply": "2021-04-23T22:59:14.385000-07:00"
    },
    "tags": []
   },
   "outputs": [
    {
     "name": "stdout",
     "output_type": "stream",
     "text": [
      "start_index = 0\n"
     ]
    },
    {
     "data": {
      "text/plain": [
       "Dict{Any, Any} with 155942 entries:\n",
       "  Any[\"she\", \"would\", \"listen\", \"she\"]             => Any[\"might\"]\n",
       "  Any[\"every\", \"direction\", \"but\", \"if\"]           => Any[\"left\"]\n",
       "  Any[\"still\", \"it\", \"was\", \"nothing\"]             => Any[\"in\"]\n",
       "  Any[\"less\", \"compunction\", \"with\", \"respect\"]    => Any[\"to\"]\n",
       "  Any[\"sort\", \"that\", \"she\", \"could\"]              => Any[\"meet\"]\n",
       "  Any[\"hill\", \"was\", \"in\", \"emmas\"]                => Any[\"thoughts\"]\n",
       "  Any[\"be\", \"really\", \"taking\", \"comfort\"]         => Any[\"in\"]\n",
       "  Any[\"which\", \"marked\", \"her\", \"as\"]              => Any[\"his\"]\n",
       "  Any[\"and\", \"the\", \"butler\", \"should\"]            => Any[\"see\"]\n",
       "  Any[\"elton\", \"the\", \"subject\", \"was\"]            => Any[\"so\"]\n",
       "  Any[\"indifference\", \"the\", \"real\", \"attachment\"] => Any[\"which\"]\n",
       "  Any[\"she\", \"had\", \"no\", \"scruple\"]               => Any[\"with\"]\n",
       "  Any[\"might\", \"keep\", \"mr\", \"woodhouse\"]          => Any[\"from\"]\n",
       "  Any[\"usher\", \"in\", \"a\", \"letter\"]                => Any[\"from\"]\n",
       "  Any[\"father\", \"but\", \"that\", \"young\"]            => Any[\"man\"]\n",
       "  Any[\"that\", \"he\", \"had\", \"spoken\"]               => Any[\"it\"]\n",
       "  Any[\"tippet\", \"she\", \"says\", \"she\"]              => Any[\"is\"]\n",
       "  Any[\"i\", \"did\", \"it\", \"is\"]                      => Any[\"not\"]\n",
       "  Any[\"made\", \"her\", \"so\", \"angry\"]                => Any[\"with\"]\n",
       "  Any[\"slight\", \"the\", \"carriage\", \"was\"]          => Any[\"sent\"]\n",
       "  Any[\"her\", \"now\", \"was\", \"threatening\"]          => Any[\"to\"]\n",
       "  Any[\"he\", \"had\", \"gone\", \"steadily\"]             => Any[\"on\"]\n",
       "  Any[\"in\", \"the\", \"complaint\", \"he\"]              => Any[\"began\"]\n",
       "  Any[\"made\", \"every\", \"thing\", \"bend\"]            => Any[\"to\"]\n",
       "  Any[\"will\", \"be\", \"all\", \"labour\"]               => Any[\"in\"]\n",
       "  ⋮                                                => ⋮"
      ]
     },
     "execution_count": 143,
     "metadata": {},
     "output_type": "execute_result"
    }
   ],
   "source": [
    "dict1 = tuple_array2dict(Marcov(\"Data/emma.txt\",4))"
   ]
  },
  {
   "cell_type": "code",
   "execution_count": 7,
   "id": "f02c1faa-e88e-474c-a3f0-5c89f9e9971b",
   "metadata": {
    "execution": {
     "iopub.execute_input": "2021-04-23T22:18:51.789000-07:00",
     "iopub.status.busy": "2021-04-23T22:18:51.789000-07:00",
     "iopub.status.idle": "2021-04-23T22:18:51.889000-07:00",
     "shell.execute_reply": "2021-04-23T22:18:51.889000-07:00"
    },
    "tags": []
   },
   "outputs": [
    {
     "data": {
      "text/plain": [
       "words2hist (generic function with 1 method)"
      ]
     },
     "execution_count": 7,
     "metadata": {},
     "output_type": "execute_result"
    }
   ],
   "source": [
    "function words2hist(words)\n",
    "    d = Dict{String,Rational}()\n",
    "    for word in words\n",
    "        d[word] = get(d,word,0) + 1\n",
    "    end\n",
    "    map!(x->x//length(words),values(d))\n",
    "    d\n",
    "end"
   ]
  },
  {
   "cell_type": "code",
   "execution_count": 106,
   "id": "57fb63ca-39a2-43e0-a9e7-96e64e122aaf",
   "metadata": {
    "execution": {
     "iopub.execute_input": "2021-04-23T22:54:09.661000-07:00",
     "iopub.status.busy": "2021-04-23T22:54:09.661000-07:00",
     "iopub.status.idle": "2021-04-23T22:54:09.700000-07:00",
     "shell.execute_reply": "2021-04-23T22:54:09.699000-07:00"
    },
    "tags": []
   },
   "outputs": [],
   "source": [
    "using StatsBase\n",
    "items = collect(keys(words_hits))\n",
    "weight = collect(values(words_hits))\n",
    "# typeof(weights)\n",
    "test_dict = Dict{String,Int}()\n",
    "for i in 1:1000\n",
    "    word = sample(items, Weights(weight))\n",
    "    test_dict[word] = get(test_dict,word,0) + 1\n",
    "end"
   ]
  },
  {
   "cell_type": "code",
   "execution_count": 110,
   "id": "2f99b4df-0307-414e-9928-b2efe3befd09",
   "metadata": {
    "execution": {
     "iopub.execute_input": "2021-04-23T22:54:29.621000-07:00",
     "iopub.status.busy": "2021-04-23T22:54:29.621000-07:00",
     "iopub.status.idle": "2021-04-23T22:54:29.627000-07:00",
     "shell.execute_reply": "2021-04-23T22:54:29.626000-07:00"
    },
    "tags": []
   },
   "outputs": [
    {
     "data": {
      "text/plain": [
       "write_passage (generic function with 1 method)"
      ]
     },
     "execution_count": 110,
     "metadata": {},
     "output_type": "execute_result"
    }
   ],
   "source": [
    "function write_passage(start,num)\n",
    "    passage = start[:]\n",
    "    for i in collect(1:num)\n",
    "        suffix = dict1[start][trunc(Int,ceil(length(dict1[start]) * rand()))]\n",
    "#         @show suffix\n",
    "        push!(start,suffix)\n",
    "        popfirst!(start)\n",
    "        push!(passage,suffix)\n",
    "    end\n",
    "    passage\n",
    "end"
   ]
  },
  {
   "cell_type": "code",
   "execution_count": 148,
   "id": "8e67caa9-57cf-4229-8b8e-de4595a498f8",
   "metadata": {
    "execution": {
     "iopub.execute_input": "2021-04-23T22:59:36.404000-07:00",
     "iopub.status.busy": "2021-04-23T22:59:36.404000-07:00",
     "iopub.status.idle": "2021-04-23T22:59:36.406000-07:00",
     "shell.execute_reply": "2021-04-23T22:59:36.406000-07:00"
    },
    "tags": []
   },
   "outputs": [
    {
     "data": {
      "text/plain": [
       "\"he was very clever and understood every thing he had a very fine day for box hill and all the other outward circumstances of arrangement accommodation and punctuality were in favour of a pleasant party mr weston directed the whole officiating safely between hartfield and the vicarage and every body was in good time emma and harriet went together miss bates and her niece who had accidentally met they all united and on reaching hartfield gates emma who knew it was exactly the sort of visiting that would be welcome to her father pressed them all to go in and drink tea with him\""
      ]
     },
     "execution_count": 148,
     "metadata": {},
     "output_type": "execute_result"
    }
   ],
   "source": [
    "join(write_passage([\"he\",\"was\",\"very\",\"clever\"],100),\" \")"
   ]
  },
  {
   "cell_type": "code",
   "execution_count": null,
   "id": "6b4f0ae3-4366-452c-9bd5-2a1d52ae4e2b",
   "metadata": {},
   "outputs": [],
   "source": []
  },
  {
   "cell_type": "code",
   "execution_count": null,
   "id": "3b563d7d-3389-4454-b438-32496c745344",
   "metadata": {},
   "outputs": [],
   "source": []
  }
 ],
 "metadata": {
  "kernelspec": {
   "display_name": "Julia 1.6.0",
   "language": "julia",
   "name": "julia-1.6"
  },
  "language_info": {
   "file_extension": ".jl",
   "mimetype": "application/julia",
   "name": "julia",
   "version": "1.6.0"
  }
 },
 "nbformat": 4,
 "nbformat_minor": 5
}
