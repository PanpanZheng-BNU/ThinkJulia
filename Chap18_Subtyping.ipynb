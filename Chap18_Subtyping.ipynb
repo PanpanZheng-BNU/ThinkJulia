{
 "cells": [
  {
   "cell_type": "markdown",
   "id": "8703d186-8535-4a76-928f-604fd6d0fb00",
   "metadata": {},
   "source": [
    "# Subtyping\n",
    "## Cards\n",
    "* $♠ \\rightarrow 4$\n",
    "* $❤ \\rightarrow 3$\n",
    "* $♦ \\rightarrow 2$\n",
    "* $♣ \\rightarrow 1$"
   ]
  },
  {
   "cell_type": "code",
   "execution_count": 191,
   "id": "32255477-ea2b-4ad4-9258-a64006a88b3e",
   "metadata": {
    "execution": {
     "iopub.execute_input": "2021-04-25T20:23:15.249000-07:00",
     "iopub.status.busy": "2021-04-25T20:23:15.248000-07:00",
     "iopub.status.idle": "2021-04-25T20:23:15.259000-07:00",
     "shell.execute_reply": "2021-04-25T20:23:15.257000-07:00"
    },
    "tags": []
   },
   "outputs": [],
   "source": [
    "struct Card\n",
    "    suit :: Int64\n",
    "    rank :: Int64\n",
    "    \n",
    "    function Card(suit::Int64, rank::Int64)\n",
    "        @assert(1 <= suit <= 4, \"suit is not between 1 and 4\")\n",
    "        @assert(1 <= rank <= 14, \"rank is not between 1 and 14\")\n",
    "        new(suit, rank)\n",
    "    end\n",
    "end"
   ]
  },
  {
   "cell_type": "code",
   "execution_count": 192,
   "id": "ff5c9dad-e0da-41c2-ba8b-4e7d57668a5e",
   "metadata": {
    "execution": {
     "iopub.execute_input": "2021-04-25T20:23:15.274000-07:00",
     "iopub.status.busy": "2021-04-25T20:23:15.274000-07:00",
     "iopub.status.idle": "2021-04-25T20:23:15.292000-07:00",
     "shell.execute_reply": "2021-04-25T20:23:15.292000-07:00"
    },
    "tags": []
   },
   "outputs": [
    {
     "data": {
      "text/plain": [
       "Q♦"
      ]
     },
     "execution_count": 192,
     "metadata": {},
     "output_type": "execute_result"
    }
   ],
   "source": [
    "queen_of_diamonds = Card(2,12)"
   ]
  },
  {
   "cell_type": "markdown",
   "id": "a741ab34-6e92-4fa8-90e9-419a3ceafa3d",
   "metadata": {},
   "source": [
    "## Global Variables\n",
    "* `const`: the variable can only be assigned once"
   ]
  },
  {
   "cell_type": "code",
   "execution_count": 193,
   "id": "01d564ab-6b12-4081-9279-8deda9cac5fe",
   "metadata": {
    "execution": {
     "iopub.execute_input": "2021-04-25T20:23:15.295000-07:00",
     "iopub.status.busy": "2021-04-25T20:23:15.294000-07:00",
     "iopub.status.idle": "2021-04-25T20:23:15.300000-07:00",
     "shell.execute_reply": "2021-04-25T20:23:15.299000-07:00"
    },
    "tags": []
   },
   "outputs": [
    {
     "name": "stderr",
     "output_type": "stream",
     "text": [
      "WARNING: redefinition of constant suit_names. This may fail, cause incorrect answers, or produce other errors.\n",
      "WARNING: redefinition of constant rank_names. This may fail, cause incorrect answers, or produce other errors.\n"
     ]
    }
   ],
   "source": [
    "const suit_names = [\"♣\",\"♦\",\"❤\",\"♠\"];\n",
    "const rank_names = [\"A\",\"2\",\"3\",\"4\",\"5\",\"6\",\"7\",\"8\",\"9\",\"10\",\"J\",\"Q\",\"K\",\"A\"];\n",
    "\n",
    "function Base.show(io::IO, card::Card)\n",
    "    print(io, rank_names[card.rank], suit_names[card.suit])\n",
    "end"
   ]
  },
  {
   "cell_type": "code",
   "execution_count": 194,
   "id": "b523efb7-34a0-4aa7-b3bd-5ba8a552e29b",
   "metadata": {
    "execution": {
     "iopub.execute_input": "2021-04-25T20:23:15.300000-07:00",
     "iopub.status.busy": "2021-04-25T20:23:15.300000-07:00",
     "iopub.status.idle": "2021-04-25T20:23:15.305000-07:00",
     "shell.execute_reply": "2021-04-25T20:23:15.305000-07:00"
    },
    "tags": []
   },
   "outputs": [
    {
     "data": {
      "text/plain": [
       "isless (generic function with 54 methods)"
      ]
     },
     "execution_count": 194,
     "metadata": {},
     "output_type": "execute_result"
    }
   ],
   "source": [
    "import Base.isless\n",
    "\n",
    "function isless(c1::Card,c2::Card)\n",
    "    (c1.suit, c1.rank) < (c2.suit, c2.rank)\n",
    "end"
   ]
  },
  {
   "cell_type": "code",
   "execution_count": 195,
   "id": "0938aff5-c665-43e2-9c56-479e653c095d",
   "metadata": {
    "execution": {
     "iopub.execute_input": "2021-04-25T20:23:15.305000-07:00",
     "iopub.status.busy": "2021-04-25T20:23:15.305000-07:00",
     "iopub.status.idle": "2021-04-25T20:23:15.306000-07:00",
     "shell.execute_reply": "2021-04-25T20:23:15.305000-07:00"
    },
    "tags": []
   },
   "outputs": [],
   "source": [
    "import Base.>\n"
   ]
  },
  {
   "cell_type": "code",
   "execution_count": 196,
   "id": "af965a5f-cca0-480f-af7c-81680a4228cd",
   "metadata": {
    "execution": {
     "iopub.execute_input": "2021-04-25T20:23:15.307000-07:00",
     "iopub.status.busy": "2021-04-25T20:23:15.306000-07:00",
     "iopub.status.idle": "2021-04-25T20:23:15.308000-07:00",
     "shell.execute_reply": "2021-04-25T20:23:15.308000-07:00"
    },
    "tags": []
   },
   "outputs": [],
   "source": [
    "c1 = Card(3,12);\n",
    "c2 = Card(4,12);"
   ]
  },
  {
   "cell_type": "code",
   "execution_count": 197,
   "id": "f46293e0-f9f5-4fb7-abaa-cc84278a0f71",
   "metadata": {
    "execution": {
     "iopub.execute_input": "2021-04-25T20:23:15.309000-07:00",
     "iopub.status.busy": "2021-04-25T20:23:15.308000-07:00",
     "iopub.status.idle": "2021-04-25T20:23:15.329000-07:00",
     "shell.execute_reply": "2021-04-25T20:23:15.329000-07:00"
    },
    "tags": []
   },
   "outputs": [
    {
     "data": {
      "text/plain": [
       "true"
      ]
     },
     "execution_count": 197,
     "metadata": {},
     "output_type": "execute_result"
    }
   ],
   "source": [
    "c1 < c2"
   ]
  },
  {
   "cell_type": "markdown",
   "id": "a38b9aa9-7352-4391-ada8-dd9df9f5f814",
   "metadata": {},
   "source": [
    "#### Ex18-1"
   ]
  },
  {
   "cell_type": "code",
   "execution_count": 198,
   "id": "f67117fa-9c1e-46f6-bab0-f9cad0ad8a8c",
   "metadata": {
    "execution": {
     "iopub.execute_input": "2021-04-25T20:23:15.329000-07:00",
     "iopub.status.busy": "2021-04-25T20:23:15.329000-07:00",
     "iopub.status.idle": "2021-04-25T20:23:15.336000-07:00",
     "shell.execute_reply": "2021-04-25T20:23:15.332000-07:00"
    },
    "tags": []
   },
   "outputs": [],
   "source": [
    "struct MyTime\n",
    "    hour :: Int64\n",
    "    minute :: Int64\n",
    "    second :: Int64\n",
    "    function MyTime(hour::Int64=0, minute::Int64=0, second::Int64=0)\n",
    "        @assert(0 <= minute < 60, \"Minute is not between 0 and 60\")\n",
    "        @assert(0 <= second < 60, \"Second is not between 0 and 60\")\n",
    "        new(hour,minute,second)\n",
    "    end\n",
    "end"
   ]
  },
  {
   "cell_type": "code",
   "execution_count": 199,
   "id": "7df01600-41aa-491b-b596-c7c781873c38",
   "metadata": {
    "execution": {
     "iopub.execute_input": "2021-04-25T20:23:15.336000-07:00",
     "iopub.status.busy": "2021-04-25T20:23:15.336000-07:00",
     "iopub.status.idle": "2021-04-25T20:23:15.343000-07:00",
     "shell.execute_reply": "2021-04-25T20:23:15.343000-07:00"
    },
    "tags": []
   },
   "outputs": [
    {
     "data": {
      "text/plain": [
       "isless (generic function with 54 methods)"
      ]
     },
     "execution_count": 199,
     "metadata": {},
     "output_type": "execute_result"
    }
   ],
   "source": [
    "import Base.isless\n",
    "function isless(t1::MyTime,t2::MyTime)\n",
    "    (t1.hour,t1.minute,t1.second) < (t2.hour,t2.minute,t2.second)\n",
    "end"
   ]
  },
  {
   "cell_type": "code",
   "execution_count": 200,
   "id": "de173b43-f0d2-4966-a1ae-9a96005bdc56",
   "metadata": {
    "execution": {
     "iopub.execute_input": "2021-04-25T20:23:15.343000-07:00",
     "iopub.status.busy": "2021-04-25T20:23:15.343000-07:00",
     "iopub.status.idle": "2021-04-25T20:23:15.366000-07:00",
     "shell.execute_reply": "2021-04-25T20:23:15.362000-07:00"
    },
    "tags": []
   },
   "outputs": [],
   "source": [
    "t1 = MyTime(12,32,20);\n",
    "t2 = MyTime(13,3,2);"
   ]
  },
  {
   "cell_type": "code",
   "execution_count": 201,
   "id": "4f0e1f91-879f-436b-b95a-c555e687af3f",
   "metadata": {
    "execution": {
     "iopub.execute_input": "2021-04-25T20:23:15.448000-07:00",
     "iopub.status.busy": "2021-04-25T20:23:15.448000-07:00",
     "iopub.status.idle": "2021-04-25T20:23:15.472000-07:00",
     "shell.execute_reply": "2021-04-25T20:23:15.471000-07:00"
    },
    "tags": []
   },
   "outputs": [
    {
     "data": {
      "text/plain": [
       "true"
      ]
     },
     "execution_count": 201,
     "metadata": {},
     "output_type": "execute_result"
    }
   ],
   "source": [
    "t1 < t2"
   ]
  },
  {
   "cell_type": "markdown",
   "id": "d002f12b-8e81-413c-84a0-b7166062315a",
   "metadata": {},
   "source": [
    "## Using Testing\n",
    "* `@test`"
   ]
  },
  {
   "cell_type": "code",
   "execution_count": 202,
   "id": "9ac8be1d-b5fb-4e9b-81d0-556b0dff8340",
   "metadata": {
    "execution": {
     "iopub.execute_input": "2021-04-25T20:23:15.474000-07:00",
     "iopub.status.busy": "2021-04-25T20:23:15.473000-07:00",
     "iopub.status.idle": "2021-04-25T20:23:15.523000-07:00",
     "shell.execute_reply": "2021-04-25T20:23:15.522000-07:00"
    },
    "tags": []
   },
   "outputs": [
    {
     "data": {
      "text/plain": [
       "\u001b[32m\u001b[1mTest Passed\u001b[22m\u001b[39m"
      ]
     },
     "execution_count": 202,
     "metadata": {},
     "output_type": "execute_result"
    }
   ],
   "source": [
    "using Test\n",
    "@test c1 < c2"
   ]
  },
  {
   "cell_type": "code",
   "execution_count": 203,
   "id": "73e4062a-8308-4956-a915-cd796d24dc11",
   "metadata": {
    "execution": {
     "iopub.execute_input": "2021-04-25T20:23:15.525000-07:00",
     "iopub.status.busy": "2021-04-25T20:23:15.525000-07:00",
     "iopub.status.idle": "2021-04-25T20:23:15.560000-07:00",
     "shell.execute_reply": "2021-04-25T20:23:15.559000-07:00"
    },
    "tags": []
   },
   "outputs": [
    {
     "name": "stdout",
     "output_type": "stream",
     "text": [
      "\u001b[91m\u001b[1mTest Failed\u001b[22m\u001b[39m at \u001b[39m\u001b[1mIn[203]:1\u001b[22m\n",
      "  Expression: c1 > c2\n",
      "   Evaluated: Q❤ > Q♠\n"
     ]
    },
    {
     "ename": "LoadError",
     "evalue": "\u001b[91mThere was an error during testing\u001b[39m",
     "output_type": "error",
     "traceback": [
      "\u001b[91mThere was an error during testing\u001b[39m",
      "",
      "Stacktrace:",
      " [1] record(ts::Test.FallbackTestSet, t::Union{Test.Error, Test.Fail})",
      "   @ Test /buildworker/worker/package_linux64/build/usr/share/julia/stdlib/v1.6/Test/src/Test.jl:772",
      " [2] do_test(result::Test.ExecutionResult, orig_expr::Any)",
      "   @ Test /buildworker/worker/package_linux64/build/usr/share/julia/stdlib/v1.6/Test/src/Test.jl:555",
      " [3] top-level scope",
      "   @ In[203]:1",
      " [4] eval",
      "   @ ./boot.jl:360 [inlined]",
      " [5] include_string(mapexpr::typeof(REPL.softscope), mod::Module, code::String, filename::String)",
      "   @ Base ./loading.jl:1094"
     ]
    }
   ],
   "source": [
    "@test c1 > c2"
   ]
  },
  {
   "cell_type": "markdown",
   "id": "1a636ba5-01ef-4a82-bf72-db74ab64b83b",
   "metadata": {},
   "source": [
    "## Decks\n",
    "* `Type[]` ==> create an array which limit elements' type"
   ]
  },
  {
   "cell_type": "code",
   "execution_count": 204,
   "id": "6ef77cf7-f053-425d-acd9-f681f6899ee2",
   "metadata": {
    "execution": {
     "iopub.execute_input": "2021-04-25T20:23:15.562000-07:00",
     "iopub.status.busy": "2021-04-25T20:23:15.561000-07:00",
     "iopub.status.idle": "2021-04-25T20:23:15.570000-07:00",
     "shell.execute_reply": "2021-04-25T20:23:15.570000-07:00"
    },
    "tags": []
   },
   "outputs": [
    {
     "data": {
      "text/plain": [
       "Deck"
      ]
     },
     "execution_count": 204,
     "metadata": {},
     "output_type": "execute_result"
    }
   ],
   "source": [
    "struct Deck\n",
    "    cards :: Array{Card,1}\n",
    "end\n",
    "\n",
    "function Deck()\n",
    "    deck = Deck(Card[])\n",
    "    for suit in 1:4\n",
    "        for rank in 1:13\n",
    "            push!(deck.cards, Card(suit,rank))\n",
    "        end\n",
    "    end\n",
    "    deck\n",
    "end"
   ]
  },
  {
   "cell_type": "code",
   "execution_count": 205,
   "id": "aedf17b5-9ccb-491a-8101-c58c82f9b181",
   "metadata": {
    "execution": {
     "iopub.execute_input": "2021-04-25T20:23:15.572000-07:00",
     "iopub.status.busy": "2021-04-25T20:23:15.572000-07:00",
     "iopub.status.idle": "2021-04-25T20:23:15.575000-07:00",
     "shell.execute_reply": "2021-04-25T20:23:15.573000-07:00"
    },
    "tags": []
   },
   "outputs": [],
   "source": [
    "function Base.show(io::IO, deck::Deck)\n",
    "#     @show card\n",
    "    for card in deck.cards\n",
    "        print(io,card,\"  \")\n",
    "    end\n",
    "    println()\n",
    "end"
   ]
  },
  {
   "cell_type": "code",
   "execution_count": 206,
   "id": "897839e0-3f40-4302-809f-6f17cfa4a8f2",
   "metadata": {
    "execution": {
     "iopub.execute_input": "2021-04-25T20:23:15.576000-07:00",
     "iopub.status.busy": "2021-04-25T20:23:15.575000-07:00",
     "iopub.status.idle": "2021-04-25T20:23:15.762000-07:00",
     "shell.execute_reply": "2021-04-25T20:23:15.760000-07:00"
    },
    "tags": []
   },
   "outputs": [
    {
     "data": {
      "text/plain": [
       "A♣  2♣  3♣  4♣  5♣  6♣  7♣  8♣  9♣  10♣  J♣  Q♣  K♣  A♦  2♦  3♦  4♦  5♦  6♦  7♦  8♦  9♦  10♦  J♦  Q♦  K♦  A❤  2❤  3❤  4❤  5❤  6❤  7❤  8❤  9❤  10❤  J❤  Q❤  K❤  A♠  2♠  3♠  4♠  5♠  6♠  7♠  8♠  9♠  10♠  J♠  Q♠  K♠  "
      ]
     },
     "execution_count": 206,
     "metadata": {},
     "output_type": "execute_result"
    },
    {
     "name": "stdout",
     "output_type": "stream",
     "text": [
      "\n"
     ]
    }
   ],
   "source": [
    "c = Deck()"
   ]
  },
  {
   "cell_type": "markdown",
   "id": "5a27a179-df6f-44e9-a444-c74bb138cb53",
   "metadata": {},
   "source": [
    "## Add, Remove, Shufffle, and Sort"
   ]
  },
  {
   "cell_type": "code",
   "execution_count": 207,
   "id": "bb2c594d-b587-4355-93fa-96065e0160c6",
   "metadata": {
    "execution": {
     "iopub.execute_input": "2021-04-25T20:23:15.763000-07:00",
     "iopub.status.busy": "2021-04-25T20:23:15.762000-07:00",
     "iopub.status.idle": "2021-04-25T20:23:15.765000-07:00",
     "shell.execute_reply": "2021-04-25T20:23:15.764000-07:00"
    },
    "tags": []
   },
   "outputs": [],
   "source": [
    "function Base.pop!(deck::Deck)\n",
    "    pop!(deck.cards)\n",
    "end"
   ]
  },
  {
   "cell_type": "code",
   "execution_count": 208,
   "id": "5f22863a-c437-4061-92b0-1f6217b0fba4",
   "metadata": {
    "execution": {
     "iopub.execute_input": "2021-04-25T20:23:15.766000-07:00",
     "iopub.status.busy": "2021-04-25T20:23:15.765000-07:00",
     "iopub.status.idle": "2021-04-25T20:23:15.878000-07:00",
     "shell.execute_reply": "2021-04-25T20:23:15.877000-07:00"
    },
    "tags": []
   },
   "outputs": [
    {
     "data": {
      "text/plain": [
       "K♠"
      ]
     },
     "execution_count": 208,
     "metadata": {},
     "output_type": "execute_result"
    }
   ],
   "source": [
    "pop!(c)"
   ]
  },
  {
   "cell_type": "code",
   "execution_count": 209,
   "id": "b728928b-a033-455c-99cd-3a23fea8ea00",
   "metadata": {
    "execution": {
     "iopub.execute_input": "2021-04-25T20:23:15.880000-07:00",
     "iopub.status.busy": "2021-04-25T20:23:15.879000-07:00",
     "iopub.status.idle": "2021-04-25T20:23:15.882000-07:00",
     "shell.execute_reply": "2021-04-25T20:23:15.882000-07:00"
    },
    "tags": []
   },
   "outputs": [
    {
     "data": {
      "text/plain": [
       "A♣  2♣  3♣  4♣  5♣  6♣  7♣  8♣  9♣  10♣  J♣  Q♣  K♣  A♦  2♦  3♦  4♦  5♦  6♦  7♦  8♦  9♦  10♦  J♦  Q♦  K♦  A❤  2❤  3❤  4❤  5❤  6❤  7❤  8❤  9❤  10❤  J❤  Q❤  K❤  A♠  2♠  3♠  4♠  5♠  6♠  7♠  8♠  9♠  10♠  J♠  Q♠  "
      ]
     },
     "execution_count": 209,
     "metadata": {},
     "output_type": "execute_result"
    },
    {
     "name": "stdout",
     "output_type": "stream",
     "text": [
      "\n"
     ]
    }
   ],
   "source": [
    "c"
   ]
  },
  {
   "cell_type": "code",
   "execution_count": 210,
   "id": "d47bbc5b-4c0b-4a69-9862-11e9949c7d36",
   "metadata": {
    "execution": {
     "iopub.execute_input": "2021-04-25T20:23:15.882000-07:00",
     "iopub.status.busy": "2021-04-25T20:23:15.882000-07:00",
     "iopub.status.idle": "2021-04-25T20:23:15.887000-07:00",
     "shell.execute_reply": "2021-04-25T20:23:15.883000-07:00"
    },
    "tags": []
   },
   "outputs": [],
   "source": [
    "function Base.push!(deck::Deck,card::Card)\n",
    "    push!(deck.cards, card)\n",
    "    deck\n",
    "end"
   ]
  },
  {
   "cell_type": "code",
   "execution_count": 211,
   "id": "f98b900b-dd39-472d-8d3e-ec61d4599e17",
   "metadata": {
    "execution": {
     "iopub.execute_input": "2021-04-25T20:23:15.887000-07:00",
     "iopub.status.busy": "2021-04-25T20:23:15.887000-07:00",
     "iopub.status.idle": "2021-04-25T20:23:15.903000-07:00",
     "shell.execute_reply": "2021-04-25T20:23:15.903000-07:00"
    },
    "tags": []
   },
   "outputs": [
    {
     "data": {
      "text/plain": [
       "10❤  10♦  10♣  5♦  J♠  3♣  4♦  6♦  3❤  7♦  2❤  A♠  A♦  7♠  Q❤  9❤  8♣  2♣  9♣  Q♣  A❤  9♠  Q♠  9♦  3♠  K♣  K❤  6❤  6♣  8♦  J❤  7❤  4♠  A♣  K♦  5♣  10♠  Q♦  7♣  4♣  4❤  5♠  2♦  5❤  6♠  2♠  J♣  3♦  8♠  J♦  8❤  "
      ]
     },
     "execution_count": 211,
     "metadata": {},
     "output_type": "execute_result"
    },
    {
     "name": "stdout",
     "output_type": "stream",
     "text": [
      "\n"
     ]
    }
   ],
   "source": [
    "shuffle!(c)"
   ]
  },
  {
   "cell_type": "code",
   "execution_count": 212,
   "id": "bb2496e5-6a22-4616-a46c-aef228fd3d07",
   "metadata": {
    "execution": {
     "iopub.execute_input": "2021-04-25T20:23:15.904000-07:00",
     "iopub.status.busy": "2021-04-25T20:23:15.903000-07:00",
     "iopub.status.idle": "2021-04-25T20:23:15.905000-07:00",
     "shell.execute_reply": "2021-04-25T20:23:15.905000-07:00"
    },
    "tags": []
   },
   "outputs": [],
   "source": [
    "using Random\n",
    "\n",
    "function Random.shuffle!(deck::Deck)\n",
    "    shuffle!(deck.cards)\n",
    "    deck\n",
    "end"
   ]
  },
  {
   "cell_type": "markdown",
   "id": "65fc83e3-1cad-430c-8b34-e50f9710e0a4",
   "metadata": {},
   "source": [
    "#### Ex18-2\n",
    "* sort algorithm"
   ]
  },
  {
   "cell_type": "code",
   "execution_count": 213,
   "id": "b617f589-4261-463d-9257-aa65d42479e2",
   "metadata": {
    "execution": {
     "iopub.execute_input": "2021-04-25T20:23:15.905000-07:00",
     "iopub.status.busy": "2021-04-25T20:23:15.905000-07:00",
     "iopub.status.idle": "2021-04-25T20:23:15.911000-07:00",
     "shell.execute_reply": "2021-04-25T20:23:15.911000-07:00"
    },
    "tags": []
   },
   "outputs": [
    {
     "data": {
      "text/plain": [
       "bubble_sort (generic function with 1 method)"
      ]
     },
     "execution_count": 213,
     "metadata": {},
     "output_type": "execute_result"
    }
   ],
   "source": [
    "function bubble_sort(array::Array)\n",
    "    new_array = array[:]\n",
    "    for i in reverse(eachindex(new_array))\n",
    "        for j in reverse(eachindex(c[1:end]))\n",
    "            if new_array[i] > new_array[j]\n",
    "                new_array[i],new_array[j] = new_array[j],new_array[i];\n",
    "            end\n",
    "        end\n",
    "    end\n",
    "    new_array\n",
    "end"
   ]
  },
  {
   "cell_type": "code",
   "execution_count": 214,
   "id": "7cab60d6-c8c8-4024-ae0d-b3f9bcfe5352",
   "metadata": {
    "execution": {
     "iopub.execute_input": "2021-04-25T20:23:15.912000-07:00",
     "iopub.status.busy": "2021-04-25T20:23:15.911000-07:00",
     "iopub.status.idle": "2021-04-25T20:23:15.914000-07:00",
     "shell.execute_reply": "2021-04-25T20:23:15.914000-07:00"
    },
    "tags": []
   },
   "outputs": [
    {
     "data": {
      "text/plain": [
       "insertion_sort (generic function with 1 method)"
      ]
     },
     "execution_count": 214,
     "metadata": {},
     "output_type": "execute_result"
    }
   ],
   "source": [
    "function insertion_sort(array::Array)\n",
    "    new_array = array[:]\n",
    "    for i in eachindex(new_array)\n",
    "        key = new_array[i]\n",
    "        j = i-1\n",
    "        while j >=1 && new_array[j] > key\n",
    "            new_array[j+1] = new_array[j]\n",
    "            j -= 1\n",
    "        end\n",
    "        new_array[j+1] = key\n",
    "    end\n",
    "    new_array\n",
    "end"
   ]
  },
  {
   "cell_type": "code",
   "execution_count": 215,
   "id": "ae607bd4-2c44-4f7f-bd20-6cf884f7044a",
   "metadata": {
    "execution": {
     "iopub.execute_input": "2021-04-25T20:23:15.914000-07:00",
     "iopub.status.busy": "2021-04-25T20:23:15.914000-07:00",
     "iopub.status.idle": "2021-04-25T20:24:23.288000-07:00",
     "shell.execute_reply": "2021-04-25T20:24:23.286000-07:00"
    },
    "tags": []
   },
   "outputs": [],
   "source": [
    "time1 = Float64[]\n",
    "time2 = Float64[]\n",
    "for i in 1:100:5000\n",
    "#     @show i\n",
    "    c = shuffle!(collect(1:i));\n",
    "    push!(time2, (@timed insertion_sort(c))[:time])\n",
    "    push!(time1, (@timed bubble_sort(c))[:time])\n",
    "end"
   ]
  },
  {
   "cell_type": "code",
   "execution_count": 216,
   "id": "ea861b6a-271a-47af-9eb8-66a5a103ee7a",
   "metadata": {
    "execution": {
     "iopub.execute_input": "2021-04-25T20:24:23.291000-07:00",
     "iopub.status.busy": "2021-04-25T20:24:23.289000-07:00",
     "iopub.status.idle": "2021-04-25T20:24:23.319000-07:00",
     "shell.execute_reply": "2021-04-25T20:24:23.319000-07:00"
    },
    "tags": []
   },
   "outputs": [
    {
     "data": {
      "application/vnd.plotly.v1+json": {
       "data": [
        {
         "colorbar": {
          "title": {
           "text": ""
          }
         },
         "legendgroup": "y1",
         "marker": {
          "color": "rgba(0, 154, 250, 1.000)",
          "line": {
           "color": "rgba(0, 0, 0, 1)",
           "width": 1
          },
          "size": 8,
          "symbol": "circle"
         },
         "mode": "markers",
         "name": "y1",
         "showlegend": true,
         "type": "scatter",
         "x": [
          1,
          2,
          3,
          4,
          5,
          6,
          7,
          8,
          9,
          10,
          11,
          12,
          13,
          14,
          15,
          16,
          17,
          18,
          19,
          20,
          21,
          22,
          23,
          24,
          25,
          26,
          27,
          28,
          29,
          30,
          31,
          32,
          33,
          34,
          35,
          36,
          37,
          38,
          39,
          40,
          41,
          42,
          43,
          44,
          45,
          46,
          47,
          48,
          49,
          50
         ],
         "xaxis": "x",
         "y": [
          0.031040583,
          0.001004564,
          0.004219676,
          0.015187273,
          0.034305948,
          0.031402705,
          0.064203957,
          0.072429805,
          0.085616286,
          0.107081545,
          0.139564077,
          0.161183326,
          0.199081005,
          0.273092533,
          0.275996929,
          0.299846554,
          0.343149475,
          0.400616519,
          0.440409533,
          0.548409211,
          0.539114486,
          0.611785596,
          0.719839455,
          0.749561121,
          0.804532239,
          0.889556128,
          0.953550479,
          1.01534386,
          1.091400695,
          1.206096725,
          1.295411304,
          1.493643349,
          1.449500864,
          1.551697471,
          1.668233512,
          1.791907978,
          1.95954418,
          3.093099769,
          2.116299367,
          7.274660355,
          2.426576273,
          2.528020298,
          2.602158293,
          2.706452933,
          2.898924477,
          2.937480168,
          3.12152853,
          4.211726351,
          3.292759085,
          4.682018649
         ],
         "yaxis": "y",
         "zmax": null,
         "zmin": null
        },
        {
         "colorbar": {
          "title": {
           "text": ""
          }
         },
         "legendgroup": "y2",
         "marker": {
          "color": "rgba(227, 111, 71, 1.000)",
          "line": {
           "color": "rgba(0, 0, 0, 1)",
           "width": 1
          },
          "size": 8,
          "symbol": "circle"
         },
         "mode": "markers",
         "name": "y2",
         "showlegend": true,
         "type": "scatter",
         "x": [
          1,
          2,
          3,
          4,
          5,
          6,
          7,
          8,
          9,
          10,
          11,
          12,
          13,
          14,
          15,
          16,
          17,
          18,
          19,
          20,
          21,
          22,
          23,
          24,
          25,
          26,
          27,
          28,
          29,
          30,
          31,
          32,
          33,
          34,
          35,
          36,
          37,
          38,
          39,
          40,
          41,
          42,
          43,
          44,
          45,
          46,
          47,
          48,
          49,
          50
         ],
         "xaxis": "x",
         "y": [
          0.015629608,
          8.376e-06,
          7.544e-06,
          1.5679e-05,
          3.9676e-05,
          5.0386e-05,
          7.6574e-05,
          9.2585e-05,
          0.000125597,
          0.000120437,
          0.000141647,
          0.000311808,
          0.000198365,
          0.000332016,
          0.000372512,
          0.000458614,
          0.000428818,
          0.000459626,
          0.000627103,
          0.000519188,
          0.000554316,
          0.000616732,
          0.000678429,
          0.000774269,
          0.000798837,
          0.000882805,
          0.001412302,
          0.000953518,
          0.001040822,
          0.001111696,
          0.002204366,
          0.001272239,
          0.002094028,
          0.00147976,
          0.001971477,
          0.001698483,
          0.002057399,
          0.001822937,
          0.002069101,
          0.002076926,
          0.002290278,
          0.002657631,
          0.002460318,
          0.002751347,
          0.002532996,
          0.002841117,
          0.002754412,
          0.003119311,
          0.003172642,
          0.003182389
         ],
         "yaxis": "y",
         "zmax": null,
         "zmin": null
        }
       ],
       "layout": {
        "annotations": [],
        "height": 400,
        "legend": {
         "bgcolor": "rgba(255, 255, 255, 1.000)",
         "bordercolor": "rgba(0, 0, 0, 1)",
         "font": {
          "color": "rgba(0, 0, 0, 1)",
          "family": "sans-serif",
          "size": 11
         },
         "tracegroupgap": 0,
         "x": 1,
         "y": 1
        },
        "margin": {
         "b": 20,
         "l": 0,
         "r": 0,
         "t": 20
        },
        "paper_bgcolor": "rgba(255, 255, 255, 1.000)",
        "plot_bgcolor": "rgba(255, 255, 255, 1.000)",
        "showlegend": true,
        "width": 600,
        "xaxis": {
         "anchor": "y",
         "domain": [
          0.02137649460484106,
          0.9934383202099737
         ],
         "gridcolor": "rgba(0, 0, 0, 0.1)",
         "gridwidth": 0.5,
         "linecolor": "rgba(0, 0, 0, 1)",
         "mirror": false,
         "range": [
          -0.47,
          51.47
         ],
         "showgrid": true,
         "showline": true,
         "showticklabels": true,
         "tickangle": 0,
         "tickcolor": "rgb(0, 0, 0)",
         "tickfont": {
          "color": "rgba(0, 0, 0, 1)",
          "family": "sans-serif",
          "size": 11
         },
         "tickmode": "array",
         "ticks": "inside",
         "ticktext": [
          "0",
          "10",
          "20",
          "30",
          "40",
          "50"
         ],
         "tickvals": [
          0,
          10,
          20,
          30,
          40,
          50
         ],
         "title": {
          "font": {
           "color": "rgba(0, 0, 0, 1)",
           "family": "sans-serif",
           "size": 15
          },
          "text": ""
         },
         "type": "linear",
         "visible": true,
         "zeroline": false,
         "zerolinecolor": "rgba(0, 0, 0, 1)"
        },
        "yaxis": {
         "anchor": "x",
         "domain": [
          0.03762029746281716,
          0.9901574803149606
         ],
         "gridcolor": "rgba(0, 0, 0, 0.1)",
         "gridwidth": 0.5,
         "linecolor": "rgba(0, 0, 0, 1)",
         "mirror": false,
         "range": [
          -0.21823204033,
          7.49289993933
         ],
         "showgrid": true,
         "showline": true,
         "showticklabels": true,
         "tickangle": 0,
         "tickcolor": "rgb(0, 0, 0)",
         "tickfont": {
          "color": "rgba(0, 0, 0, 1)",
          "family": "sans-serif",
          "size": 11
         },
         "tickmode": "array",
         "ticks": "inside",
         "ticktext": [
          "0",
          "2",
          "4",
          "6"
         ],
         "tickvals": [
          0,
          2,
          4,
          6
         ],
         "title": {
          "font": {
           "color": "rgba(0, 0, 0, 1)",
           "family": "sans-serif",
           "size": 15
          },
          "text": ""
         },
         "type": "linear",
         "visible": true,
         "zeroline": false,
         "zerolinecolor": "rgba(0, 0, 0, 1)"
        }
       }
      },
      "image/png": "[encoded data removed]",
      "text/html": [
       "<!DOCTYPE html>\n",
       "<html>\n",
       "    <head>\n",
       "        <title>Plots.jl</title>\n",
       "        <meta http-equiv=\"content-type\" content=\"text/html; charset=UTF-8\">\n",
       "        <script src=\"https://cdn.plot.ly/plotly-latest.min.js\"></script>\n",
       "    </head>\n",
       "    <body>\n",
       "            <div id=\"a792c5fc-6d0d-4f25-802f-8cdf9acc935a\" style=\"width:600px;height:400px;\"></div>\n",
       "    <script>\n",
       "    PLOT = document.getElementById('a792c5fc-6d0d-4f25-802f-8cdf9acc935a');\n",
       "    Plotly.plot(PLOT, [\n",
       "    {\n",
       "        \"xaxis\": \"x1\",\n",
       "        \"colorbar\": {\n",
       "            \"title\": \"\"\n",
       "        },\n",
       "        \"yaxis\": \"y1\",\n",
       "        \"x\": [\n",
       "            1,\n",
       "            2,\n",
       "            3,\n",
       "            4,\n",
       "            5,\n",
       "            6,\n",
       "            7,\n",
       "            8,\n",
       "            9,\n",
       "            10,\n",
       "            11,\n",
       "            12,\n",
       "            13,\n",
       "            14,\n",
       "            15,\n",
       "            16,\n",
       "            17,\n",
       "            18,\n",
       "            19,\n",
       "            20,\n",
       "            21,\n",
       "            22,\n",
       "            23,\n",
       "            24,\n",
       "            25,\n",
       "            26,\n",
       "            27,\n",
       "            28,\n",
       "            29,\n",
       "            30,\n",
       "            31,\n",
       "            32,\n",
       "            33,\n",
       "            34,\n",
       "            35,\n",
       "            36,\n",
       "            37,\n",
       "            38,\n",
       "            39,\n",
       "            40,\n",
       "            41,\n",
       "            42,\n",
       "            43,\n",
       "            44,\n",
       "            45,\n",
       "            46,\n",
       "            47,\n",
       "            48,\n",
       "            49,\n",
       "            50\n",
       "        ],\n",
       "        \"showlegend\": true,\n",
       "        \"mode\": \"markers\",\n",
       "        \"name\": \"y1\",\n",
       "        \"zmin\": null,\n",
       "        \"legendgroup\": \"y1\",\n",
       "        \"marker\": {\n",
       "            \"symbol\": \"circle\",\n",
       "            \"color\": \"rgba(0, 154, 250, 1.000)\",\n",
       "            \"line\": {\n",
       "                \"color\": \"rgba(0, 0, 0, 1.000)\",\n",
       "                \"width\": 1\n",
       "            },\n",
       "            \"size\": 8\n",
       "        },\n",
       "        \"zmax\": null,\n",
       "        \"y\": [\n",
       "            0.031040583,\n",
       "            0.001004564,\n",
       "            0.004219676,\n",
       "            0.015187273,\n",
       "            0.034305948,\n",
       "            0.031402705,\n",
       "            0.064203957,\n",
       "            0.072429805,\n",
       "            0.085616286,\n",
       "            0.107081545,\n",
       "            0.139564077,\n",
       "            0.161183326,\n",
       "            0.199081005,\n",
       "            0.273092533,\n",
       "            0.275996929,\n",
       "            0.299846554,\n",
       "            0.343149475,\n",
       "            0.400616519,\n",
       "            0.440409533,\n",
       "            0.548409211,\n",
       "            0.539114486,\n",
       "            0.611785596,\n",
       "            0.719839455,\n",
       "            0.749561121,\n",
       "            0.804532239,\n",
       "            0.889556128,\n",
       "            0.953550479,\n",
       "            1.01534386,\n",
       "            1.091400695,\n",
       "            1.206096725,\n",
       "            1.295411304,\n",
       "            1.493643349,\n",
       "            1.449500864,\n",
       "            1.551697471,\n",
       "            1.668233512,\n",
       "            1.791907978,\n",
       "            1.95954418,\n",
       "            3.093099769,\n",
       "            2.116299367,\n",
       "            7.274660355,\n",
       "            2.426576273,\n",
       "            2.528020298,\n",
       "            2.602158293,\n",
       "            2.706452933,\n",
       "            2.898924477,\n",
       "            2.937480168,\n",
       "            3.12152853,\n",
       "            4.211726351,\n",
       "            3.292759085,\n",
       "            4.682018649\n",
       "        ],\n",
       "        \"type\": \"scatter\"\n",
       "    },\n",
       "    {\n",
       "        \"xaxis\": \"x1\",\n",
       "        \"colorbar\": {\n",
       "            \"title\": \"\"\n",
       "        },\n",
       "        \"yaxis\": \"y1\",\n",
       "        \"x\": [\n",
       "            1,\n",
       "            2,\n",
       "            3,\n",
       "            4,\n",
       "            5,\n",
       "            6,\n",
       "            7,\n",
       "            8,\n",
       "            9,\n",
       "            10,\n",
       "            11,\n",
       "            12,\n",
       "            13,\n",
       "            14,\n",
       "            15,\n",
       "            16,\n",
       "            17,\n",
       "            18,\n",
       "            19,\n",
       "            20,\n",
       "            21,\n",
       "            22,\n",
       "            23,\n",
       "            24,\n",
       "            25,\n",
       "            26,\n",
       "            27,\n",
       "            28,\n",
       "            29,\n",
       "            30,\n",
       "            31,\n",
       "            32,\n",
       "            33,\n",
       "            34,\n",
       "            35,\n",
       "            36,\n",
       "            37,\n",
       "            38,\n",
       "            39,\n",
       "            40,\n",
       "            41,\n",
       "            42,\n",
       "            43,\n",
       "            44,\n",
       "            45,\n",
       "            46,\n",
       "            47,\n",
       "            48,\n",
       "            49,\n",
       "            50\n",
       "        ],\n",
       "        \"showlegend\": true,\n",
       "        \"mode\": \"markers\",\n",
       "        \"name\": \"y2\",\n",
       "        \"zmin\": null,\n",
       "        \"legendgroup\": \"y2\",\n",
       "        \"marker\": {\n",
       "            \"symbol\": \"circle\",\n",
       "            \"color\": \"rgba(227, 111, 71, 1.000)\",\n",
       "            \"line\": {\n",
       "                \"color\": \"rgba(0, 0, 0, 1.000)\",\n",
       "                \"width\": 1\n",
       "            },\n",
       "            \"size\": 8\n",
       "        },\n",
       "        \"zmax\": null,\n",
       "        \"y\": [\n",
       "            0.015629608,\n",
       "            8.376e-6,\n",
       "            7.544e-6,\n",
       "            1.5679e-5,\n",
       "            3.9676e-5,\n",
       "            5.0386e-5,\n",
       "            7.6574e-5,\n",
       "            9.2585e-5,\n",
       "            0.000125597,\n",
       "            0.000120437,\n",
       "            0.000141647,\n",
       "            0.000311808,\n",
       "            0.000198365,\n",
       "            0.000332016,\n",
       "            0.000372512,\n",
       "            0.000458614,\n",
       "            0.000428818,\n",
       "            0.000459626,\n",
       "            0.000627103,\n",
       "            0.000519188,\n",
       "            0.000554316,\n",
       "            0.000616732,\n",
       "            0.000678429,\n",
       "            0.000774269,\n",
       "            0.000798837,\n",
       "            0.000882805,\n",
       "            0.001412302,\n",
       "            0.000953518,\n",
       "            0.001040822,\n",
       "            0.001111696,\n",
       "            0.002204366,\n",
       "            0.001272239,\n",
       "            0.002094028,\n",
       "            0.00147976,\n",
       "            0.001971477,\n",
       "            0.001698483,\n",
       "            0.002057399,\n",
       "            0.001822937,\n",
       "            0.002069101,\n",
       "            0.002076926,\n",
       "            0.002290278,\n",
       "            0.002657631,\n",
       "            0.002460318,\n",
       "            0.002751347,\n",
       "            0.002532996,\n",
       "            0.002841117,\n",
       "            0.002754412,\n",
       "            0.003119311,\n",
       "            0.003172642,\n",
       "            0.003182389\n",
       "        ],\n",
       "        \"type\": \"scatter\"\n",
       "    }\n",
       "]\n",
       ", {\n",
       "    \"showlegend\": true,\n",
       "    \"xaxis\": {\n",
       "        \"showticklabels\": true,\n",
       "        \"gridwidth\": 0.5,\n",
       "        \"tickvals\": [\n",
       "            0.0,\n",
       "            10.0,\n",
       "            20.0,\n",
       "            30.0,\n",
       "            40.0,\n",
       "            50.0\n",
       "        ],\n",
       "        \"range\": [\n",
       "            -0.47,\n",
       "            51.47\n",
       "        ],\n",
       "        \"domain\": [\n",
       "            0.02137649460484106,\n",
       "            0.9934383202099737\n",
       "        ],\n",
       "        \"mirror\": false,\n",
       "        \"tickangle\": 0,\n",
       "        \"showline\": true,\n",
       "        \"ticktext\": [\n",
       "            \"0\",\n",
       "            \"10\",\n",
       "            \"20\",\n",
       "            \"30\",\n",
       "            \"40\",\n",
       "            \"50\"\n",
       "        ],\n",
       "        \"zeroline\": false,\n",
       "        \"tickfont\": {\n",
       "            \"color\": \"rgba(0, 0, 0, 1.000)\",\n",
       "            \"family\": \"sans-serif\",\n",
       "            \"size\": 11\n",
       "        },\n",
       "        \"zerolinecolor\": \"rgba(0, 0, 0, 1.000)\",\n",
       "        \"anchor\": \"y1\",\n",
       "        \"visible\": true,\n",
       "        \"ticks\": \"inside\",\n",
       "        \"tickmode\": \"array\",\n",
       "        \"linecolor\": \"rgba(0, 0, 0, 1.000)\",\n",
       "        \"showgrid\": true,\n",
       "        \"title\": \"\",\n",
       "        \"gridcolor\": \"rgba(0, 0, 0, 0.100)\",\n",
       "        \"titlefont\": {\n",
       "            \"color\": \"rgba(0, 0, 0, 1.000)\",\n",
       "            \"family\": \"sans-serif\",\n",
       "            \"size\": 15\n",
       "        },\n",
       "        \"tickcolor\": \"rgb(0, 0, 0)\",\n",
       "        \"type\": \"-\"\n",
       "    },\n",
       "    \"paper_bgcolor\": \"rgba(255, 255, 255, 1.000)\",\n",
       "    \"annotations\": [],\n",
       "    \"height\": 400,\n",
       "    \"margin\": {\n",
       "        \"l\": 0,\n",
       "        \"b\": 20,\n",
       "        \"r\": 0,\n",
       "        \"t\": 20\n",
       "    },\n",
       "    \"plot_bgcolor\": \"rgba(255, 255, 255, 1.000)\",\n",
       "    \"yaxis\": {\n",
       "        \"showticklabels\": true,\n",
       "        \"gridwidth\": 0.5,\n",
       "        \"tickvals\": [\n",
       "            0.0,\n",
       "            2.0,\n",
       "            4.0,\n",
       "            6.0\n",
       "        ],\n",
       "        \"range\": [\n",
       "            -0.21823204033,\n",
       "            7.49289993933\n",
       "        ],\n",
       "        \"domain\": [\n",
       "            0.03762029746281716,\n",
       "            0.9901574803149606\n",
       "        ],\n",
       "        \"mirror\": false,\n",
       "        \"tickangle\": 0,\n",
       "        \"showline\": true,\n",
       "        \"ticktext\": [\n",
       "            \"0\",\n",
       "            \"2\",\n",
       "            \"4\",\n",
       "            \"6\"\n",
       "        ],\n",
       "        \"zeroline\": false,\n",
       "        \"tickfont\": {\n",
       "            \"color\": \"rgba(0, 0, 0, 1.000)\",\n",
       "            \"family\": \"sans-serif\",\n",
       "            \"size\": 11\n",
       "        },\n",
       "        \"zerolinecolor\": \"rgba(0, 0, 0, 1.000)\",\n",
       "        \"anchor\": \"x1\",\n",
       "        \"visible\": true,\n",
       "        \"ticks\": \"inside\",\n",
       "        \"tickmode\": \"array\",\n",
       "        \"linecolor\": \"rgba(0, 0, 0, 1.000)\",\n",
       "        \"showgrid\": true,\n",
       "        \"title\": \"\",\n",
       "        \"gridcolor\": \"rgba(0, 0, 0, 0.100)\",\n",
       "        \"titlefont\": {\n",
       "            \"color\": \"rgba(0, 0, 0, 1.000)\",\n",
       "            \"family\": \"sans-serif\",\n",
       "            \"size\": 15\n",
       "        },\n",
       "        \"tickcolor\": \"rgb(0, 0, 0)\",\n",
       "        \"type\": \"-\"\n",
       "    },\n",
       "    \"legend\": {\n",
       "        \"tracegroupgap\": 0,\n",
       "        \"bordercolor\": \"rgba(0, 0, 0, 1.000)\",\n",
       "        \"bgcolor\": \"rgba(255, 255, 255, 1.000)\",\n",
       "        \"font\": {\n",
       "            \"color\": \"rgba(0, 0, 0, 1.000)\",\n",
       "            \"family\": \"sans-serif\",\n",
       "            \"size\": 11\n",
       "        },\n",
       "        \"y\": 1.0,\n",
       "        \"x\": 1.0\n",
       "    },\n",
       "    \"width\": 600\n",
       "}\n",
       ");\n",
       "    </script>\n",
       "\n",
       "    </body>\n",
       "</html>\n"
      ]
     },
     "execution_count": 216,
     "metadata": {},
     "output_type": "execute_result"
    }
   ],
   "source": [
    "using Plots\n",
    "plotly()\n",
    "plot([time1,time2],seriestype=:scatter)"
   ]
  },
  {
   "cell_type": "code",
   "execution_count": 217,
   "id": "e9a7ea09-23bb-44fc-b7f2-859df91f5fb5",
   "metadata": {
    "execution": {
     "iopub.execute_input": "2021-04-25T20:24:23.320000-07:00",
     "iopub.status.busy": "2021-04-25T20:24:23.320000-07:00",
     "iopub.status.idle": "2021-04-25T20:24:23.324000-07:00",
     "shell.execute_reply": "2021-04-25T20:24:23.322000-07:00"
    },
    "tags": []
   },
   "outputs": [],
   "source": [
    "function Base.sort!(deck::Deck)\n",
    "    for i in eachindex(deck.cards)\n",
    "        key = deck.cards[i]\n",
    "        j = i-1\n",
    "        while j >=1 && deck.cards[j] > key\n",
    "            deck.cards[j+1] = deck.cards[j]\n",
    "            j -= 1\n",
    "        end\n",
    "        deck.cards[j+1] = key\n",
    "    end\n",
    "    deck\n",
    "end"
   ]
  },
  {
   "cell_type": "code",
   "execution_count": 218,
   "id": "49a3e94a-a92a-43bc-b946-fc840c588c0f",
   "metadata": {
    "execution": {
     "iopub.execute_input": "2021-04-25T20:24:23.325000-07:00",
     "iopub.status.busy": "2021-04-25T20:24:23.325000-07:00",
     "iopub.status.idle": "2021-04-25T20:24:23.330000-07:00",
     "shell.execute_reply": "2021-04-25T20:24:23.330000-07:00"
    },
    "tags": []
   },
   "outputs": [
    {
     "data": {
      "text/plain": [
       "4901-element Vector{Int64}:\n",
       "    1\n",
       "    2\n",
       "    3\n",
       "    4\n",
       "    5\n",
       "    6\n",
       "    7\n",
       "    8\n",
       "    9\n",
       "   10\n",
       "   11\n",
       "   12\n",
       "   13\n",
       "    ⋮\n",
       " 4890\n",
       " 4891\n",
       " 4892\n",
       " 4893\n",
       " 4894\n",
       " 4895\n",
       " 4896\n",
       " 4897\n",
       " 4898\n",
       " 4899\n",
       " 4900\n",
       " 4901"
      ]
     },
     "execution_count": 218,
     "metadata": {},
     "output_type": "execute_result"
    }
   ],
   "source": [
    "sort!(c)"
   ]
  },
  {
   "cell_type": "code",
   "execution_count": 219,
   "id": "907d7639-b09b-4a83-9c86-e67dbd335a0f",
   "metadata": {
    "execution": {
     "iopub.execute_input": "2021-04-25T20:24:23.331000-07:00",
     "iopub.status.busy": "2021-04-25T20:24:23.331000-07:00",
     "iopub.status.idle": "2021-04-25T20:24:23.337000-07:00",
     "shell.execute_reply": "2021-04-25T20:24:23.337000-07:00"
    },
    "tags": []
   },
   "outputs": [
    {
     "data": {
      "text/plain": [
       "4901-element Vector{Int64}:\n",
       "    1\n",
       "    2\n",
       "    3\n",
       "    4\n",
       "    5\n",
       "    6\n",
       "    7\n",
       "    8\n",
       "    9\n",
       "   10\n",
       "   11\n",
       "   12\n",
       "   13\n",
       "    ⋮\n",
       " 4890\n",
       " 4891\n",
       " 4892\n",
       " 4893\n",
       " 4894\n",
       " 4895\n",
       " 4896\n",
       " 4897\n",
       " 4898\n",
       " 4899\n",
       " 4900\n",
       " 4901"
      ]
     },
     "execution_count": 219,
     "metadata": {},
     "output_type": "execute_result"
    }
   ],
   "source": [
    "c"
   ]
  },
  {
   "cell_type": "markdown",
   "id": "04dafc49-33af-4c66-a084-b5b0a337ec98",
   "metadata": {},
   "source": [
    "## Abstract Types and Subtyping\n",
    "* `abstract type TypeName end` ==> create a new abstract type"
   ]
  },
  {
   "cell_type": "code",
   "execution_count": 220,
   "id": "531b5e12-7289-4921-b5ba-c3e95b4b06a7",
   "metadata": {
    "execution": {
     "iopub.execute_input": "2021-04-25T20:24:23.338000-07:00",
     "iopub.status.busy": "2021-04-25T20:24:23.338000-07:00",
     "iopub.status.idle": "2021-04-25T20:24:23.340000-07:00",
     "shell.execute_reply": "2021-04-25T20:24:23.340000-07:00"
    },
    "tags": []
   },
   "outputs": [],
   "source": [
    "abstract type CardSet end"
   ]
  },
  {
   "cell_type": "markdown",
   "id": "9136573d-6a20-4b2f-a9ef-29b2ab4c7445",
   "metadata": {},
   "source": [
    "* when there isn't *supertype* be given, the ***default supertype** is **Any***"
   ]
  },
  {
   "cell_type": "code",
   "execution_count": 221,
   "id": "dae80252-40df-40f0-9c9a-a59354e8613f",
   "metadata": {
    "execution": {
     "iopub.execute_input": "2021-04-25T20:24:23.341000-07:00",
     "iopub.status.busy": "2021-04-25T20:24:23.340000-07:00",
     "iopub.status.idle": "2021-04-25T20:24:23.351000-07:00",
     "shell.execute_reply": "2021-04-25T20:24:23.351000-07:00"
    },
    "tags": []
   },
   "outputs": [
    {
     "data": {
      "text/plain": [
       "Deck2"
      ]
     },
     "execution_count": 221,
     "metadata": {},
     "output_type": "execute_result"
    }
   ],
   "source": [
    "struct Deck2 <: CardSet\n",
    "    cards :: Array{Card,1}\n",
    "end\n",
    "\n",
    "function Deck2()\n",
    "    deck = Deck2(Card[])\n",
    "    for suit in 1:4\n",
    "        for rank in 1:13\n",
    "            push!(deck.cards, Card(suit, rank))\n",
    "        end\n",
    "    end\n",
    "    deck\n",
    "end"
   ]
  },
  {
   "cell_type": "code",
   "execution_count": 222,
   "id": "f6074c3b-8eef-4c0f-ad69-27034b14c155",
   "metadata": {
    "execution": {
     "iopub.execute_input": "2021-04-25T20:24:23.352000-07:00",
     "iopub.status.busy": "2021-04-25T20:24:23.351000-07:00",
     "iopub.status.idle": "2021-04-25T20:24:23.505000-07:00",
     "shell.execute_reply": "2021-04-25T20:24:23.504000-07:00"
    },
    "tags": []
   },
   "outputs": [
    {
     "data": {
      "text/plain": [
       "A♣ 2♣ 3♣ 4♣ 5♣ 6♣ 7♣ 8♣ 9♣ 10♣ J♣ Q♣ K♣ A♦ 2♦ 3♦ 4♦ 5♦ 6♦ 7♦ 8♦ 9♦ 10♦ J♦ Q♦ K♦ A❤ 2❤ 3❤ 4❤ 5❤ 6❤ 7❤ 8❤ 9❤ 10❤ J❤ Q❤ K❤ A♠ 2♠ 3♠ 4♠ 5♠ 6♠ 7♠ 8♠ 9♠ 10♠ J♠ Q♠ K♠ "
      ]
     },
     "execution_count": 222,
     "metadata": {},
     "output_type": "execute_result"
    }
   ],
   "source": [
    "deck2 = Deck2()"
   ]
  },
  {
   "cell_type": "code",
   "execution_count": 223,
   "id": "6a346469-ba21-460c-a675-470982d84949",
   "metadata": {
    "execution": {
     "iopub.execute_input": "2021-04-25T20:24:23.507000-07:00",
     "iopub.status.busy": "2021-04-25T20:24:23.507000-07:00",
     "iopub.status.idle": "2021-04-25T20:24:23.508000-07:00",
     "shell.execute_reply": "2021-04-25T20:24:23.508000-07:00"
    },
    "tags": []
   },
   "outputs": [
    {
     "data": {
      "text/plain": [
       "true"
      ]
     },
     "execution_count": 223,
     "metadata": {},
     "output_type": "execute_result"
    }
   ],
   "source": [
    "deck2 isa CardSet"
   ]
  },
  {
   "cell_type": "code",
   "execution_count": 224,
   "id": "dc8bc81e-f5c1-4c82-bd09-963b7e2ffa8d",
   "metadata": {
    "execution": {
     "iopub.execute_input": "2021-04-25T20:24:23.509000-07:00",
     "iopub.status.busy": "2021-04-25T20:24:23.508000-07:00",
     "iopub.status.idle": "2021-04-25T20:24:23.517000-07:00",
     "shell.execute_reply": "2021-04-25T20:24:23.517000-07:00"
    },
    "tags": []
   },
   "outputs": [
    {
     "data": {
      "text/plain": [
       "Hand"
      ]
     },
     "execution_count": 224,
     "metadata": {},
     "output_type": "execute_result"
    }
   ],
   "source": [
    "struct Hand <: CardSet\n",
    "    cards :: Array{Card,1}\n",
    "    label :: String\n",
    "end\n",
    "\n",
    "function Hand(label::String=\"\")\n",
    "    Hand(Card[],label)\n",
    "end"
   ]
  },
  {
   "cell_type": "code",
   "execution_count": 225,
   "id": "90e279d2-b4c6-49c2-b1c0-714087481bd9",
   "metadata": {
    "execution": {
     "iopub.execute_input": "2021-04-25T20:24:23.518000-07:00",
     "iopub.status.busy": "2021-04-25T20:24:23.518000-07:00",
     "iopub.status.idle": "2021-04-25T20:24:23.642000-07:00",
     "shell.execute_reply": "2021-04-25T20:24:23.641000-07:00"
    },
    "tags": []
   },
   "outputs": [
    {
     "data": {
      "text/plain": []
     },
     "execution_count": 225,
     "metadata": {},
     "output_type": "execute_result"
    }
   ],
   "source": [
    "hand = Hand(\"new hand\")"
   ]
  },
  {
   "cell_type": "markdown",
   "id": "f4d33a4e-aef3-41dd-9dd7-69c7087c7d1e",
   "metadata": {},
   "source": [
    "## Abstract Types and Functions"
   ]
  },
  {
   "cell_type": "code",
   "execution_count": 226,
   "id": "c9dd9bda-d66d-4451-a536-d7386f6f16d3",
   "metadata": {
    "execution": {
     "iopub.execute_input": "2021-04-25T20:24:23.643000-07:00",
     "iopub.status.busy": "2021-04-25T20:24:23.643000-07:00",
     "iopub.status.idle": "2021-04-25T20:24:23.650000-07:00",
     "shell.execute_reply": "2021-04-25T20:24:23.647000-07:00"
    },
    "tags": []
   },
   "outputs": [],
   "source": [
    "function Base.show(io::IO, cs::CardSet)\n",
    "    for card in cs.cards\n",
    "        print(io, card, \" \")\n",
    "    end\n",
    "end\n",
    "\n",
    "function Base.pop!(cs::CardSet)\n",
    "    pop!(cs.cards)\n",
    "end\n",
    "\n",
    "function Base.push!(cs::CardSet, card::Card)\n",
    "    push!(cs.cards, card)\n",
    "end\n",
    "\n",
    "function Random.shuffle!(cs::CardSet)\n",
    "    shuffle!(cs.cards)\n",
    "    cs\n",
    "end"
   ]
  },
  {
   "cell_type": "code",
   "execution_count": 227,
   "id": "24a7b56c-4b36-49d2-aebe-71de053ba13c",
   "metadata": {
    "execution": {
     "iopub.execute_input": "2021-04-25T20:24:23.652000-07:00",
     "iopub.status.busy": "2021-04-25T20:24:23.651000-07:00",
     "iopub.status.idle": "2021-04-25T20:24:23.754000-07:00",
     "shell.execute_reply": "2021-04-25T20:24:23.753000-07:00"
    },
    "tags": []
   },
   "outputs": [
    {
     "data": {
      "text/plain": [
       "A♣ 2♣ 3♣ 4♣ 5♣ 6♣ 7♣ 8♣ 9♣ 10♣ J♣ Q♣ K♣ A♦ 2♦ 3♦ 4♦ 5♦ 6♦ 7♦ 8♦ 9♦ 10♦ J♦ Q♦ K♦ A❤ 2❤ 3❤ 4❤ 5❤ 6❤ 7❤ 8❤ 9❤ 10❤ J❤ Q❤ K❤ A♠ 2♠ 3♠ 4♠ 5♠ 6♠ 7♠ 8♠ 9♠ 10♠ J♠ Q♠ K♠ "
      ]
     },
     "execution_count": 227,
     "metadata": {},
     "output_type": "execute_result"
    }
   ],
   "source": [
    "deck2"
   ]
  },
  {
   "cell_type": "code",
   "execution_count": 228,
   "id": "e55874a1-11a0-45a5-bd4d-e28b172ca511",
   "metadata": {
    "execution": {
     "iopub.execute_input": "2021-04-25T20:24:23.757000-07:00",
     "iopub.status.busy": "2021-04-25T20:24:23.756000-07:00",
     "iopub.status.idle": "2021-04-25T20:24:23.774000-07:00",
     "shell.execute_reply": "2021-04-25T20:24:23.774000-07:00"
    },
    "tags": []
   },
   "outputs": [
    {
     "data": {
      "text/plain": [
       "K♠"
      ]
     },
     "execution_count": 228,
     "metadata": {},
     "output_type": "execute_result"
    }
   ],
   "source": [
    "pop!(deck2)"
   ]
  },
  {
   "cell_type": "code",
   "execution_count": 229,
   "id": "f00be081-0e3e-42d9-89bd-32021cae2354",
   "metadata": {
    "execution": {
     "iopub.execute_input": "2021-04-25T20:24:23.776000-07:00",
     "iopub.status.busy": "2021-04-25T20:24:23.776000-07:00",
     "iopub.status.idle": "2021-04-25T20:24:24.250000-07:00",
     "shell.execute_reply": "2021-04-25T20:24:24.249000-07:00"
    },
    "tags": []
   },
   "outputs": [
    {
     "data": {
      "text/plain": [
       "52-element Vector{Card}:\n",
       " A♣\n",
       " 2♣\n",
       " 3♣\n",
       " 4♣\n",
       " 5♣\n",
       " 6♣\n",
       " 7♣\n",
       " 8♣\n",
       " 9♣\n",
       " 10♣\n",
       " J♣\n",
       " Q♣\n",
       " K♣\n",
       " ⋮\n",
       " 2♠\n",
       " 3♠\n",
       " 4♠\n",
       " 5♠\n",
       " 6♠\n",
       " 7♠\n",
       " 8♠\n",
       " 9♠\n",
       " 10♠\n",
       " J♠\n",
       " Q♠\n",
       " K♠"
      ]
     },
     "execution_count": 229,
     "metadata": {},
     "output_type": "execute_result"
    }
   ],
   "source": [
    "push!(deck2,Card(4,13))"
   ]
  },
  {
   "cell_type": "code",
   "execution_count": 230,
   "id": "bbd1e377-8827-486a-bfb9-2fa5048602c5",
   "metadata": {
    "execution": {
     "iopub.execute_input": "2021-04-25T20:24:24.252000-07:00",
     "iopub.status.busy": "2021-04-25T20:24:24.251000-07:00",
     "iopub.status.idle": "2021-04-25T20:24:24.268000-07:00",
     "shell.execute_reply": "2021-04-25T20:24:24.267000-07:00"
    },
    "tags": []
   },
   "outputs": [
    {
     "data": {
      "text/plain": [
       "6♦ A♦ K❤ 7❤ J❤ K♦ J♣ 6♠ 2♣ A♣ Q♠ J♦ 3♦ 6❤ A❤ 4❤ 4♠ K♠ 8♠ 8❤ 2♦ 10♦ Q❤ 4♣ A♠ 7♣ Q♣ 5♦ 5❤ 10♣ 9♣ 5♣ 2❤ 3♣ K♣ 4♦ Q♦ 9♠ 8♣ 3♠ 9♦ 9❤ 10♠ 3❤ 7♦ 6♣ 5♠ 7♠ 2♠ 10❤ J♠ 8♦ "
      ]
     },
     "execution_count": 230,
     "metadata": {},
     "output_type": "execute_result"
    }
   ],
   "source": [
    "shuffle!(deck2)"
   ]
  },
  {
   "cell_type": "code",
   "execution_count": 231,
   "id": "946de05c-4506-4477-8e65-1f957fe5d13f",
   "metadata": {
    "execution": {
     "iopub.execute_input": "2021-04-25T20:24:24.270000-07:00",
     "iopub.status.busy": "2021-04-25T20:24:24.269000-07:00",
     "iopub.status.idle": "2021-04-25T20:24:24.272000-07:00",
     "shell.execute_reply": "2021-04-25T20:24:24.272000-07:00"
    },
    "tags": []
   },
   "outputs": [
    {
     "data": {
      "text/plain": [
       "8♦"
      ]
     },
     "execution_count": 231,
     "metadata": {},
     "output_type": "execute_result"
    }
   ],
   "source": [
    "card = pop!(deck2)"
   ]
  },
  {
   "cell_type": "code",
   "execution_count": 232,
   "id": "a88082bd-4bb3-49c2-ab8c-d5509fa660da",
   "metadata": {
    "execution": {
     "iopub.execute_input": "2021-04-25T20:24:24.272000-07:00",
     "iopub.status.busy": "2021-04-25T20:24:24.272000-07:00",
     "iopub.status.idle": "2021-04-25T20:24:24.277000-07:00",
     "shell.execute_reply": "2021-04-25T20:24:24.277000-07:00"
    }
   },
   "outputs": [
    {
     "data": {
      "text/plain": [
       "52-element Vector{Card}:\n",
       " 6♦\n",
       " A♦\n",
       " K❤\n",
       " 7❤\n",
       " J❤\n",
       " K♦\n",
       " J♣\n",
       " 6♠\n",
       " 2♣\n",
       " A♣\n",
       " Q♠\n",
       " J♦\n",
       " 3♦\n",
       " ⋮\n",
       " 9♦\n",
       " 9❤\n",
       " 10♠\n",
       " 3❤\n",
       " 7♦\n",
       " 6♣\n",
       " 5♠\n",
       " 7♠\n",
       " 2♠\n",
       " 10❤\n",
       " J♠\n",
       " 8♦"
      ]
     },
     "execution_count": 232,
     "metadata": {},
     "output_type": "execute_result"
    }
   ],
   "source": [
    "push!(deck2,card)"
   ]
  },
  {
   "cell_type": "code",
   "execution_count": 233,
   "id": "69833b2f-dd55-408e-a048-2c17b33d898a",
   "metadata": {
    "execution": {
     "iopub.execute_input": "2021-04-25T20:24:24.278000-07:00",
     "iopub.status.busy": "2021-04-25T20:24:24.277000-07:00",
     "iopub.status.idle": "2021-04-25T20:24:24.283000-07:00",
     "shell.execute_reply": "2021-04-25T20:24:24.282000-07:00"
    },
    "tags": []
   },
   "outputs": [
    {
     "data": {
      "text/plain": [
       "move! (generic function with 1 method)"
      ]
     },
     "execution_count": 233,
     "metadata": {},
     "output_type": "execute_result"
    }
   ],
   "source": [
    "function move!(cs1::CardSet, cs2::CardSet, n::Int)\n",
    "    @assert 1<=n<=length(cs1.cards)\n",
    "    for i in 1:n\n",
    "        card = pop!(cs1)\n",
    "        push!(cs2, card)\n",
    "    end\n",
    "    nothing\n",
    "end"
   ]
  },
  {
   "cell_type": "code",
   "execution_count": 234,
   "id": "76864472-ebee-4320-9874-15d5f80e5e3d",
   "metadata": {
    "execution": {
     "iopub.execute_input": "2021-04-25T20:24:24.283000-07:00",
     "iopub.status.busy": "2021-04-25T20:24:24.283000-07:00",
     "iopub.status.idle": "2021-04-25T20:24:24.299000-07:00",
     "shell.execute_reply": "2021-04-25T20:24:24.294000-07:00"
    },
    "tags": []
   },
   "outputs": [],
   "source": [
    "all_cards = shuffle!(Deck2())\n",
    "Jack = Hand(Card[],\"Jack\");\n",
    "Wang = Hand(Card[],\"Wang\");\n",
    "Li = Hand(Card[],\"Li\");\n",
    "Rose = Hand(Card[],\"Rose\");"
   ]
  },
  {
   "cell_type": "code",
   "execution_count": 235,
   "id": "c610bf87-110f-4783-9945-2189ac2ead59",
   "metadata": {
    "execution": {
     "iopub.execute_input": "2021-04-25T20:24:24.300000-07:00",
     "iopub.status.busy": "2021-04-25T20:24:24.300000-07:00",
     "iopub.status.idle": "2021-04-25T20:24:24.330000-07:00",
     "shell.execute_reply": "2021-04-25T20:24:24.328000-07:00"
    },
    "tags": []
   },
   "outputs": [],
   "source": [
    "move!(all_cards, Jack, trunc(Int,52/4))\n",
    "move!(all_cards, Wang, trunc(Int,52/4))\n",
    "move!(all_cards, Li, trunc(Int,52/4))\n",
    "move!(all_cards, Rose, trunc(Int,52/4))\n"
   ]
  },
  {
   "cell_type": "code",
   "execution_count": 236,
   "id": "1c96386e-449d-4542-8670-e62d0279d918",
   "metadata": {
    "execution": {
     "iopub.execute_input": "2021-04-25T20:24:24.333000-07:00",
     "iopub.status.busy": "2021-04-25T20:24:24.331000-07:00",
     "iopub.status.idle": "2021-04-25T20:24:24.427000-07:00",
     "shell.execute_reply": "2021-04-25T20:24:24.426000-07:00"
    },
    "tags": []
   },
   "outputs": [
    {
     "data": {
      "text/plain": [
       "A♠ 8♠ 7♦ Q♦ 6♦ 9❤ J♣ 10♦ 4♣ J♠ 10❤ 9♦ A♣ "
      ]
     },
     "execution_count": 236,
     "metadata": {},
     "output_type": "execute_result"
    }
   ],
   "source": [
    "Wang"
   ]
  },
  {
   "cell_type": "code",
   "execution_count": 237,
   "id": "500d0460-35a5-469d-b2d0-0a4089597260",
   "metadata": {
    "execution": {
     "iopub.execute_input": "2021-04-25T20:24:24.429000-07:00",
     "iopub.status.busy": "2021-04-25T20:24:24.428000-07:00",
     "iopub.status.idle": "2021-04-25T20:24:24.430000-07:00",
     "shell.execute_reply": "2021-04-25T20:24:24.430000-07:00"
    },
    "tags": []
   },
   "outputs": [
    {
     "data": {
      "text/plain": [
       "Q♠ 5❤ 2♣ 6♣ 10♣ 5♣ 7❤ 6❤ 9♣ Q♣ 10♠ 7♠ J♦ "
      ]
     },
     "execution_count": 237,
     "metadata": {},
     "output_type": "execute_result"
    }
   ],
   "source": [
    "Li"
   ]
  },
  {
   "cell_type": "markdown",
   "id": "1125d58b-3ba2-4bfe-a6c6-9c8f11c6af60",
   "metadata": {},
   "source": [
    "## Three Relationships\n",
    "### **has-a**\n",
    "* Objects of a concrete type contain reference to objects of another type.(*Rectangle* --> *Point*)\n",
    "\n",
    "### **is-a**\n",
    "* A concrete type can have an abstract type as a supertype. (*Hand* --> *CardSet*)\n",
    "\n",
    "### **Dependency**\n",
    "* One type depend on anthor, Objects of one type take objects of the second type as parameters, or use objects of the second type as part of a computation."
   ]
  },
  {
   "cell_type": "markdown",
   "id": "ee49865d-75c2-4336-8ac0-0956478af19b",
   "metadata": {},
   "source": [
    "## Debugging\n",
    "* `@which function(variable)` variable must be defined, because of Multiple Dispatch"
   ]
  },
  {
   "cell_type": "code",
   "execution_count": 238,
   "id": "652f560e-663a-4188-9bc7-078d48c5a03d",
   "metadata": {
    "execution": {
     "iopub.execute_input": "2021-04-25T20:24:24.430000-07:00",
     "iopub.status.busy": "2021-04-25T20:24:24.430000-07:00",
     "iopub.status.idle": "2021-04-25T20:24:24.439000-07:00",
     "shell.execute_reply": "2021-04-25T20:24:24.433000-07:00"
    },
    "tags": []
   },
   "outputs": [
    {
     "data": {
      "text/html": [
       "sort!(deck::<b>Deck</b>) in Main at In[217]:1"
      ],
      "text/plain": [
       "sort!(deck::Deck) in Main at In[217]:1"
      ]
     },
     "execution_count": 238,
     "metadata": {},
     "output_type": "execute_result"
    }
   ],
   "source": [
    "deck = Deck()\n",
    "@which sort!(deck)"
   ]
  },
  {
   "cell_type": "code",
   "execution_count": 239,
   "id": "831a2cad-1af6-451d-a09d-08443ef4629a",
   "metadata": {
    "execution": {
     "iopub.execute_input": "2021-04-25T20:24:24.439000-07:00",
     "iopub.status.busy": "2021-04-25T20:24:24.439000-07:00",
     "iopub.status.idle": "2021-04-25T20:24:24.442000-07:00",
     "shell.execute_reply": "2021-04-25T20:24:24.442000-07:00"
    },
    "tags": []
   },
   "outputs": [
    {
     "data": {
      "text/html": [
       "sort!(v::<b>AbstractVector{T} where T</b>; <i>alg, lt, by, rev, order</i>) in Base.Sort at <a href=\"https://github.com/JuliaLang/julia/tree/f9720dc2ebd6cd9e3086365f281e62506444ef37/base/sort.jl#L729\" target=\"_blank\">sort.jl:729</a>"
      ],
      "text/plain": [
       "sort!(v::AbstractVector{T} where T; alg, lt, by, rev, order) in Base.Sort at sort.jl:729"
      ]
     },
     "execution_count": 239,
     "metadata": {},
     "output_type": "execute_result"
    }
   ],
   "source": [
    "array = collect(randn(100))\n",
    "@which sort!(array)"
   ]
  },
  {
   "cell_type": "markdown",
   "id": "9b5abc31-835a-474c-b975-db0a89091dea",
   "metadata": {},
   "source": [
    "* `supertype`"
   ]
  },
  {
   "cell_type": "code",
   "execution_count": 240,
   "id": "5066f019-0f93-43a2-aeb5-58e1f9d0f17d",
   "metadata": {
    "execution": {
     "iopub.execute_input": "2021-04-25T20:24:24.443000-07:00",
     "iopub.status.busy": "2021-04-25T20:24:24.442000-07:00",
     "iopub.status.idle": "2021-04-25T20:24:24.443000-07:00",
     "shell.execute_reply": "2021-04-25T20:24:24.443000-07:00"
    },
    "tags": []
   },
   "outputs": [
    {
     "data": {
      "text/plain": [
       "CardSet"
      ]
     },
     "execution_count": 240,
     "metadata": {},
     "output_type": "execute_result"
    }
   ],
   "source": [
    "supertype(Deck2)"
   ]
  },
  {
   "cell_type": "markdown",
   "id": "05b46070-00e2-44f4-8e8e-960e4170789f",
   "metadata": {},
   "source": [
    "## Data Encapsulation"
   ]
  },
  {
   "cell_type": "code",
   "execution_count": 241,
   "id": "f95057f1-9fcb-458f-ac82-d0066ea9402a",
   "metadata": {
    "execution": {
     "iopub.execute_input": "2021-04-25T20:24:24.443000-07:00",
     "iopub.status.busy": "2021-04-25T20:24:24.443000-07:00",
     "iopub.status.idle": "2021-04-25T20:24:24.451000-07:00",
     "shell.execute_reply": "2021-04-25T20:24:24.446000-07:00"
    },
    "tags": []
   },
   "outputs": [],
   "source": [
    "struct Markov\n",
    "    order :: Int64\n",
    "    suffixes :: Dict{Tuple{String,Vararg{String}}, Array{String,1}}\n",
    "    prefix :: Array{String,1}\n",
    "    function Markov(order::Int64=2)\n",
    "        new(order,Dict{Tuple{String, Vararg{String}},Array{String,1}}(),Array{String,1}())\n",
    "    end\n",
    "end"
   ]
  },
  {
   "cell_type": "code",
   "execution_count": null,
   "id": "189377b4-feaa-4257-9568-5b6fdb08491d",
   "metadata": {
    "tags": []
   },
   "outputs": [],
   "source": []
  },
  {
   "cell_type": "code",
   "execution_count": 242,
   "id": "945b8033-2a91-4c5a-9949-2235a7e9cbd0",
   "metadata": {
    "execution": {
     "iopub.execute_input": "2021-04-25T20:24:24.451000-07:00",
     "iopub.status.busy": "2021-04-25T20:24:24.451000-07:00",
     "iopub.status.idle": "2021-04-25T20:24:24.492000-07:00",
     "shell.execute_reply": "2021-04-25T20:24:24.492000-07:00"
    },
    "tags": []
   },
   "outputs": [
    {
     "data": {
      "text/plain": [
       "Markov(2, Dict{Tuple{String, Vararg{String, N} where N}, Vector{String}}(), String[])"
      ]
     },
     "execution_count": 242,
     "metadata": {},
     "output_type": "execute_result"
    }
   ],
   "source": [
    "c = Markov()"
   ]
  },
  {
   "cell_type": "code",
   "execution_count": 243,
   "id": "9f2e5f0b-ef2f-423a-91f1-60e8eb1f0135",
   "metadata": {
    "execution": {
     "iopub.execute_input": "2021-04-25T20:24:24.494000-07:00",
     "iopub.status.busy": "2021-04-25T20:24:24.494000-07:00",
     "iopub.status.idle": "2021-04-25T20:24:24.500000-07:00",
     "shell.execute_reply": "2021-04-25T20:24:24.499000-07:00"
    },
    "tags": []
   },
   "outputs": [
    {
     "data": {
      "text/plain": [
       "1-element Vector{String}:\n",
       " \"hell\""
      ]
     },
     "execution_count": 243,
     "metadata": {},
     "output_type": "execute_result"
    }
   ],
   "source": [
    "push!(c.prefix,\"hell\")"
   ]
  },
  {
   "cell_type": "code",
   "execution_count": 244,
   "id": "d557c378-5c26-4b8d-8bd6-96883d9119de",
   "metadata": {
    "execution": {
     "iopub.execute_input": "2021-04-25T20:24:24.501000-07:00",
     "iopub.status.busy": "2021-04-25T20:24:24.500000-07:00",
     "iopub.status.idle": "2021-04-25T20:24:24.506000-07:00",
     "shell.execute_reply": "2021-04-25T20:24:24.506000-07:00"
    },
    "tags": []
   },
   "outputs": [
    {
     "data": {
      "text/plain": [
       "1-element Vector{String}:\n",
       " \"2\""
      ]
     },
     "execution_count": 244,
     "metadata": {},
     "output_type": "execute_result"
    }
   ],
   "source": [
    "get!(c.suffixes, (c.prefix...,),Array{String,1}())\n",
    "push!(c.suffixes[(c.prefix...,)],\"2\")"
   ]
  },
  {
   "cell_type": "code",
   "execution_count": 245,
   "id": "8ca0916f-1ccc-43bb-bb5f-1235ee3222ab",
   "metadata": {
    "execution": {
     "iopub.execute_input": "2021-04-25T20:24:24.507000-07:00",
     "iopub.status.busy": "2021-04-25T20:24:24.507000-07:00",
     "iopub.status.idle": "2021-04-25T20:24:24.508000-07:00",
     "shell.execute_reply": "2021-04-25T20:24:24.508000-07:00"
    },
    "tags": []
   },
   "outputs": [
    {
     "data": {
      "text/plain": [
       "(\"2131\", \"213\", \"dad\", \"sda\")"
      ]
     },
     "execution_count": 245,
     "metadata": {},
     "output_type": "execute_result"
    }
   ],
   "source": [
    "Tuple{String,Vararg{String}}(([\"2131\",\"213\",\"dad\",\"sda\"]...,))"
   ]
  },
  {
   "cell_type": "code",
   "execution_count": 246,
   "id": "a9ac5ee7-5652-4fa3-8888-2d782a073f3e",
   "metadata": {
    "execution": {
     "iopub.execute_input": "2021-04-25T20:24:24.509000-07:00",
     "iopub.status.busy": "2021-04-25T20:24:24.508000-07:00",
     "iopub.status.idle": "2021-04-25T20:24:24.518000-07:00",
     "shell.execute_reply": "2021-04-25T20:24:24.518000-07:00"
    },
    "tags": []
   },
   "outputs": [
    {
     "name": "stdout",
     "output_type": "stream",
     "text": [
      "search: \u001b[0m\u001b[1mV\u001b[22m\u001b[0m\u001b[1ma\u001b[22m\u001b[0m\u001b[1mr\u001b[22m\u001b[0m\u001b[1ma\u001b[22m\u001b[0m\u001b[1mr\u001b[22m\u001b[0m\u001b[1mg\u001b[22m\n",
      "\n"
     ]
    },
    {
     "data": {
      "text/latex": [
       "\\begin{verbatim}\n",
       "Vararg{T,N}\n",
       "\\end{verbatim}\n",
       "The last parameter of a tuple type \\href{@ref}{\\texttt{Tuple}} can be the special type \\texttt{Vararg}, which denotes any number of trailing elements. The type \\texttt{Vararg\\{T,N\\}} corresponds to exactly \\texttt{N} elements of type \\texttt{T}. \\texttt{Vararg\\{T\\}} corresponds to zero or more elements of type \\texttt{T}. \\texttt{Vararg} tuple types are used to represent the arguments accepted by varargs methods (see the section on \\href{@ref}{Varargs Functions} in the manual.)\n",
       "\n",
       "\\section{Examples}\n",
       "\\begin{verbatim}\n",
       "julia> mytupletype = Tuple{AbstractString, Vararg{Int}}\n",
       "Tuple{AbstractString, Vararg{Int64, N} where N}\n",
       "\n",
       "julia> isa((\"1\",), mytupletype)\n",
       "true\n",
       "\n",
       "julia> isa((\"1\",1), mytupletype)\n",
       "true\n",
       "\n",
       "julia> isa((\"1\",1,2), mytupletype)\n",
       "true\n",
       "\n",
       "julia> isa((\"1\",1,2,3.0), mytupletype)\n",
       "false\n",
       "\\end{verbatim}\n"
      ],
      "text/markdown": [
       "```\n",
       "Vararg{T,N}\n",
       "```\n",
       "\n",
       "The last parameter of a tuple type [`Tuple`](@ref) can be the special type `Vararg`, which denotes any number of trailing elements. The type `Vararg{T,N}` corresponds to exactly `N` elements of type `T`. `Vararg{T}` corresponds to zero or more elements of type `T`. `Vararg` tuple types are used to represent the arguments accepted by varargs methods (see the section on [Varargs Functions](@ref) in the manual.)\n",
       "\n",
       "# Examples\n",
       "\n",
       "```jldoctest\n",
       "julia> mytupletype = Tuple{AbstractString, Vararg{Int}}\n",
       "Tuple{AbstractString, Vararg{Int64, N} where N}\n",
       "\n",
       "julia> isa((\"1\",), mytupletype)\n",
       "true\n",
       "\n",
       "julia> isa((\"1\",1), mytupletype)\n",
       "true\n",
       "\n",
       "julia> isa((\"1\",1,2), mytupletype)\n",
       "true\n",
       "\n",
       "julia> isa((\"1\",1,2,3.0), mytupletype)\n",
       "false\n",
       "```\n"
      ],
      "text/plain": [
       "\u001b[36m  Vararg{T,N}\u001b[39m\n",
       "\n",
       "  The last parameter of a tuple type \u001b[36mTuple\u001b[39m can be the special type \u001b[36mVararg\u001b[39m,\n",
       "  which denotes any number of trailing elements. The type \u001b[36mVararg{T,N}\u001b[39m\n",
       "  corresponds to exactly \u001b[36mN\u001b[39m elements of type \u001b[36mT\u001b[39m. \u001b[36mVararg{T}\u001b[39m corresponds to zero\n",
       "  or more elements of type \u001b[36mT\u001b[39m. \u001b[36mVararg\u001b[39m tuple types are used to represent the\n",
       "  arguments accepted by varargs methods (see the section on Varargs Functions\n",
       "  in the manual.)\n",
       "\n",
       "\u001b[1m  Examples\u001b[22m\n",
       "\u001b[1m  ≡≡≡≡≡≡≡≡≡≡\u001b[22m\n",
       "\n",
       "\u001b[36m  julia> mytupletype = Tuple{AbstractString, Vararg{Int}}\u001b[39m\n",
       "\u001b[36m  Tuple{AbstractString, Vararg{Int64, N} where N}\u001b[39m\n",
       "\u001b[36m  \u001b[39m\n",
       "\u001b[36m  julia> isa((\"1\",), mytupletype)\u001b[39m\n",
       "\u001b[36m  true\u001b[39m\n",
       "\u001b[36m  \u001b[39m\n",
       "\u001b[36m  julia> isa((\"1\",1), mytupletype)\u001b[39m\n",
       "\u001b[36m  true\u001b[39m\n",
       "\u001b[36m  \u001b[39m\n",
       "\u001b[36m  julia> isa((\"1\",1,2), mytupletype)\u001b[39m\n",
       "\u001b[36m  true\u001b[39m\n",
       "\u001b[36m  \u001b[39m\n",
       "\u001b[36m  julia> isa((\"1\",1,2,3.0), mytupletype)\u001b[39m\n",
       "\u001b[36m  false\u001b[39m"
      ]
     },
     "execution_count": 246,
     "metadata": {},
     "output_type": "execute_result"
    }
   ],
   "source": [
    "?Vararg"
   ]
  },
  {
   "cell_type": "code",
   "execution_count": 247,
   "id": "dda4769e-5823-474f-a2aa-6bc6f0e0a955",
   "metadata": {
    "execution": {
     "iopub.execute_input": "2021-04-25T20:24:24.518000-07:00",
     "iopub.status.busy": "2021-04-25T20:24:24.518000-07:00",
     "iopub.status.idle": "2021-04-25T20:24:24.523000-07:00",
     "shell.execute_reply": "2021-04-25T20:24:24.523000-07:00"
    },
    "tags": []
   },
   "outputs": [
    {
     "data": {
      "text/plain": [
       "processword (generic function with 1 method)"
      ]
     },
     "execution_count": 247,
     "metadata": {},
     "output_type": "execute_result"
    }
   ],
   "source": [
    "function processword(markov::Markov, word::String)\n",
    "    if length(markov.prefix) < markov.order\n",
    "        push!(markov.prefix, word)\n",
    "    end\n",
    "    \n",
    "    get!(markov.suffixes, (Markov.prefix...),Array{String,1}())\n",
    "    push!(markov.suffixes[(markov.prefix...)], word)\n",
    "    popfirst!(markov.prefix)\n",
    "    push!(markov,prefix,word)\n",
    "end"
   ]
  },
  {
   "cell_type": "code",
   "execution_count": 248,
   "id": "07b3b764-34a7-4530-85c0-13a2523649fc",
   "metadata": {
    "execution": {
     "iopub.execute_input": "2021-04-25T20:24:24.524000-07:00",
     "iopub.status.busy": "2021-04-25T20:24:24.523000-07:00",
     "iopub.status.idle": "2021-04-25T20:24:24.526000-07:00",
     "shell.execute_reply": "2021-04-25T20:24:24.526000-07:00"
    },
    "tags": []
   },
   "outputs": [
    {
     "data": {
      "text/plain": [
       "String[]"
      ]
     },
     "execution_count": 248,
     "metadata": {},
     "output_type": "execute_result"
    }
   ],
   "source": [
    "Array{String,1}()"
   ]
  },
  {
   "cell_type": "markdown",
   "id": "bf1011c4-9a64-4699-bee8-0a298e5d56f6",
   "metadata": {},
   "source": [
    "#### Ex18-3"
   ]
  },
  {
   "cell_type": "code",
   "execution_count": 249,
   "id": "656b03ae-2fdb-42cd-bd14-673785523f62",
   "metadata": {
    "execution": {
     "iopub.execute_input": "2021-04-25T20:24:24.527000-07:00",
     "iopub.status.busy": "2021-04-25T20:24:24.527000-07:00",
     "iopub.status.idle": "2021-04-25T20:24:24.528000-07:00",
     "shell.execute_reply": "2021-04-25T20:24:24.527000-07:00"
    },
    "tags": []
   },
   "outputs": [],
   "source": [
    "suffixes = Dict();\n",
    "prefix = [];"
   ]
  },
  {
   "cell_type": "code",
   "execution_count": 250,
   "id": "341c14f5-2c32-4ef0-874e-acfc1f2fc1ad",
   "metadata": {
    "execution": {
     "iopub.execute_input": "2021-04-25T20:24:24.529000-07:00",
     "iopub.status.busy": "2021-04-25T20:24:24.528000-07:00",
     "iopub.status.idle": "2021-04-25T20:24:24.535000-07:00",
     "shell.execute_reply": "2021-04-25T20:24:24.531000-07:00"
    },
    "tags": []
   },
   "outputs": [],
   "source": [
    "struct Markov_self\n",
    "    order :: Int64\n",
    "    prefix :: Array{String,1}\n",
    "    suffixes :: Dict{Tuple{String,Vararg{String}}, Array{String,1}}\n",
    "    \n",
    "    function Markov_self(order::Int64=2)\n",
    "        new(order, Array{String,1}(), Dict{Tuple{String,Vararg{String}}, Array{String,1}}())\n",
    "    end\n",
    "end"
   ]
  },
  {
   "cell_type": "code",
   "execution_count": 251,
   "id": "1993466b-8b39-4633-b539-c00c29d725ac",
   "metadata": {
    "execution": {
     "iopub.execute_input": "2021-04-25T20:24:24.536000-07:00",
     "iopub.status.busy": "2021-04-25T20:24:24.536000-07:00",
     "iopub.status.idle": "2021-04-25T20:24:24.562000-07:00",
     "shell.execute_reply": "2021-04-25T20:24:24.561000-07:00"
    },
    "tags": []
   },
   "outputs": [
    {
     "data": {
      "text/plain": [
       "Markov_self(2, String[], Dict{Tuple{String, Vararg{String, N} where N}, Vector{String}}())"
      ]
     },
     "execution_count": 251,
     "metadata": {},
     "output_type": "execute_result"
    }
   ],
   "source": [
    "Markov_self()"
   ]
  },
  {
   "cell_type": "markdown",
   "id": "8a14cbd7-00bb-4e58-82eb-2af9d79fdc7d",
   "metadata": {},
   "source": [
    "#### Ex18-5"
   ]
  },
  {
   "cell_type": "code",
   "execution_count": 252,
   "id": "78f6838e-60cb-4efa-a58d-9963ae234d7c",
   "metadata": {
    "execution": {
     "iopub.execute_input": "2021-04-25T20:24:24.562000-07:00",
     "iopub.status.busy": "2021-04-25T20:24:24.562000-07:00",
     "iopub.status.idle": "2021-04-25T20:24:24.571000-07:00",
     "shell.execute_reply": "2021-04-25T20:24:24.571000-07:00"
    },
    "tags": []
   },
   "outputs": [
    {
     "data": {
      "text/plain": [
       "deal! (generic function with 1 method)"
      ]
     },
     "execution_count": 252,
     "metadata": {},
     "output_type": "execute_result"
    }
   ],
   "source": [
    "deck = Deck()\n",
    "function Base.length(deck::Deck)::Int64\n",
    "    length(deck.cards)\n",
    "end\n",
    "\n",
    "function deal!(deck::Deck, num_hands::Int64, num_cards::Int64)\n",
    "    @assert(length(deck) >= num_hands * num_cards, \"too much cards required\")\n",
    "    Hands = CardSet[]\n",
    "    shuffle!(deck)\n",
    "    for hand in collect(1:num_hands)\n",
    "        push!(Hands,Hand(Card[],\"No.$(hand) Player\"))\n",
    "#         @show typeof(Hands[hand])\n",
    "        for card in collect(1:num_cards)\n",
    "            push!(Hands[hand].cards, pop!(deck))\n",
    "        end\n",
    "    end\n",
    "    Hands\n",
    "end"
   ]
  },
  {
   "cell_type": "code",
   "execution_count": 253,
   "id": "80b8b03e-e53f-437a-badd-c2177886f0f5",
   "metadata": {
    "execution": {
     "iopub.execute_input": "2021-04-25T20:24:24.572000-07:00",
     "iopub.status.busy": "2021-04-25T20:24:24.572000-07:00",
     "iopub.status.idle": "2021-04-25T20:24:24.628000-07:00",
     "shell.execute_reply": "2021-04-25T20:24:24.627000-07:00"
    },
    "tags": []
   },
   "outputs": [
    {
     "data": {
      "text/plain": [
       "\"No.1 Player\""
      ]
     },
     "execution_count": 253,
     "metadata": {},
     "output_type": "execute_result"
    }
   ],
   "source": [
    "deck = Deck()\n",
    "deal!(deck,5,2)[1].label"
   ]
  },
  {
   "cell_type": "code",
   "execution_count": 254,
   "id": "dcea3bd0-b4fa-4d62-b540-af8dad06d59a",
   "metadata": {
    "execution": {
     "iopub.execute_input": "2021-04-25T20:24:24.630000-07:00",
     "iopub.status.busy": "2021-04-25T20:24:24.629000-07:00",
     "iopub.status.idle": "2021-04-25T20:24:24.646000-07:00",
     "shell.execute_reply": "2021-04-25T20:24:24.645000-07:00"
    },
    "tags": []
   },
   "outputs": [
    {
     "data": {
      "text/plain": []
     },
     "execution_count": 254,
     "metadata": {},
     "output_type": "execute_result"
    }
   ],
   "source": [
    "test=Hand()"
   ]
  },
  {
   "cell_type": "code",
   "execution_count": 255,
   "id": "3a1e089e-87e9-4afe-bd22-9c6004db0247",
   "metadata": {
    "execution": {
     "iopub.execute_input": "2021-04-25T20:24:24.647000-07:00",
     "iopub.status.busy": "2021-04-25T20:24:24.647000-07:00",
     "iopub.status.idle": "2021-04-25T20:24:24.654000-07:00",
     "shell.execute_reply": "2021-04-25T20:24:24.653000-07:00"
    },
    "tags": []
   },
   "outputs": [
    {
     "data": {
      "text/plain": [
       "Card"
      ]
     },
     "execution_count": 255,
     "metadata": {},
     "output_type": "execute_result"
    }
   ],
   "source": [
    "typeof(pop!(deck))"
   ]
  },
  {
   "cell_type": "code",
   "execution_count": 256,
   "id": "aab966d1-fd97-482a-80f4-dd2731883560",
   "metadata": {
    "execution": {
     "iopub.execute_input": "2021-04-25T20:24:24.654000-07:00",
     "iopub.status.busy": "2021-04-25T20:24:24.654000-07:00",
     "iopub.status.idle": "2021-04-25T20:24:24.721000-07:00",
     "shell.execute_reply": "2021-04-25T20:24:24.720000-07:00"
    },
    "tags": []
   },
   "outputs": [
    {
     "data": {
      "text/plain": [
       "1-element Vector{Card}:\n",
       " 2❤"
      ]
     },
     "execution_count": 256,
     "metadata": {},
     "output_type": "execute_result"
    }
   ],
   "source": [
    "push!(test.cards,pop!(deck))"
   ]
  },
  {
   "cell_type": "code",
   "execution_count": 257,
   "id": "7982a50e-2ccd-4d33-9938-380be196a989",
   "metadata": {
    "execution": {
     "iopub.execute_input": "2021-04-25T20:24:24.722000-07:00",
     "iopub.status.busy": "2021-04-25T20:24:24.722000-07:00",
     "iopub.status.idle": "2021-04-25T20:24:24.736000-07:00",
     "shell.execute_reply": "2021-04-25T20:24:24.735000-07:00"
    },
    "tags": []
   },
   "outputs": [
    {
     "data": {
      "text/plain": [
       "length (generic function with 151 methods)"
      ]
     },
     "execution_count": 257,
     "metadata": {},
     "output_type": "execute_result"
    }
   ],
   "source": [
    "Base.length"
   ]
  },
  {
   "cell_type": "code",
   "execution_count": 258,
   "id": "0152a00e-7575-4549-bde8-828f12e7679f",
   "metadata": {
    "execution": {
     "iopub.execute_input": "2021-04-25T20:24:24.737000-07:00",
     "iopub.status.busy": "2021-04-25T20:24:24.737000-07:00",
     "iopub.status.idle": "2021-04-25T20:24:24.751000-07:00",
     "shell.execute_reply": "2021-04-25T20:24:24.750000-07:00"
    },
    "tags": []
   },
   "outputs": [
    {
     "data": {
      "text/plain": [
       "40"
      ]
     },
     "execution_count": 258,
     "metadata": {},
     "output_type": "execute_result"
    }
   ],
   "source": [
    "length(deck)"
   ]
  },
  {
   "cell_type": "markdown",
   "id": "f71e3efc-1a06-43af-a0a9-c0fbd76b176d",
   "metadata": {
    "execution": {
     "iopub.execute_input": "2021-04-25T03:27:55.437000-07:00",
     "iopub.status.busy": "2021-04-25T03:27:55.436000-07:00",
     "iopub.status.idle": "2021-04-25T03:27:55.495000-07:00",
     "shell.execute_reply": "2021-04-25T03:27:55.495000-07:00"
    },
    "tags": []
   },
   "source": [
    "#### Ex18-6"
   ]
  },
  {
   "cell_type": "code",
   "execution_count": 259,
   "id": "4e944f37-371c-419f-bb72-7941c9b9d1b1",
   "metadata": {
    "execution": {
     "iopub.execute_input": "2021-04-25T20:24:24.753000-07:00",
     "iopub.status.busy": "2021-04-25T20:24:24.753000-07:00",
     "iopub.status.idle": "2021-04-25T20:24:24.765000-07:00",
     "shell.execute_reply": "2021-04-25T20:24:24.765000-07:00"
    },
    "tags": []
   },
   "outputs": [
    {
     "data": {
      "text/plain": [
       "sort_by_suit! (generic function with 1 method)"
      ]
     },
     "execution_count": 259,
     "metadata": {},
     "output_type": "execute_result"
    }
   ],
   "source": [
    "function Base.sort!(cs::CardSet)\n",
    "    for i in eachindex(cs.cards)\n",
    "        key = cs.cards[i]\n",
    "        j = i-1\n",
    "        while j >= 1 && key < cs.cards[j]\n",
    "            cs.cards[j+1] = cs.cards[j]\n",
    "            j-=1\n",
    "        end\n",
    "        cs.cards[j+1] = key\n",
    "    end\n",
    "    cs\n",
    "end\n",
    "function sort_by_rank!(cs::CardSet)\n",
    "    for i in eachindex(cs.cards)\n",
    "        key = cs.cards[i]\n",
    "        j = i-1\n",
    "        while j >= 1 && key.rank < cs.cards[j].rank\n",
    "            cs.cards[j+1] = cs.cards[j]\n",
    "            j-=1\n",
    "        end\n",
    "        cs.cards[j+1] = key\n",
    "    end\n",
    "    cs\n",
    "end\n",
    "\n",
    "function sort_by_suit!(cs::CardSet)\n",
    "    for i in eachindex(cs.cards)\n",
    "        key = cs.cards[i]\n",
    "        j = i-1\n",
    "        while j >= 1 && key.suit < cs.cards[j].suit\n",
    "            cs.cards[j+1] = cs.cards[j]\n",
    "            j-=1\n",
    "        end\n",
    "        cs.cards[j+1] = key\n",
    "    end\n",
    "    cs\n",
    "end"
   ]
  },
  {
   "cell_type": "code",
   "execution_count": 260,
   "id": "a94cbdc5-3f07-4749-bebd-22d4376950aa",
   "metadata": {
    "execution": {
     "iopub.execute_input": "2021-04-25T20:24:24.767000-07:00",
     "iopub.status.busy": "2021-04-25T20:24:24.767000-07:00",
     "iopub.status.idle": "2021-04-25T20:24:24.770000-07:00",
     "shell.execute_reply": "2021-04-25T20:24:24.770000-07:00"
    },
    "tags": []
   },
   "outputs": [
    {
     "data": {
      "text/plain": [
       "7❤ 10♦ A♣ 2♣ J♦ K♦ 4♦ 8♠ J♠ 5❤ A❤ 2❤ Q♣ 7♦ 4♣ 3❤ 5♣ 4❤ 5♠ 8♣ 8♦ 7♠ Q♠ J❤ 2♠ K❤ 6❤ 6♦ 6♠ K♣ 9❤ J♣ 3♠ 2♦ 7♣ 6♣ 5♦ 10♠ 10♣ K♠ Q♦ 9♠ 8❤ 9♣ A♠ A♦ 4♠ 3♣ 3♦ Q❤ 9♦ 10❤ "
      ]
     },
     "execution_count": 260,
     "metadata": {},
     "output_type": "execute_result"
    }
   ],
   "source": [
    "rdeck = shuffle!(Deck2())"
   ]
  },
  {
   "cell_type": "code",
   "execution_count": 261,
   "id": "9468f285-f998-4716-b660-4cdf33ec30ca",
   "metadata": {
    "execution": {
     "iopub.execute_input": "2021-04-25T20:24:24.770000-07:00",
     "iopub.status.busy": "2021-04-25T20:24:24.770000-07:00",
     "iopub.status.idle": "2021-04-25T20:24:24.804000-07:00",
     "shell.execute_reply": "2021-04-25T20:24:24.804000-07:00"
    },
    "tags": []
   },
   "outputs": [
    {
     "data": {
      "text/plain": [
       "A♣ A❤ A♠ A♦ 2♣ 2❤ 2♠ 2♦ 3❤ 3♠ 3♣ 3♦ 4♦ 4♣ 4❤ 4♠ 5❤ 5♣ 5♠ 5♦ 6❤ 6♦ 6♠ 6♣ 7❤ 7♦ 7♠ 7♣ 8♠ 8♣ 8♦ 8❤ 9❤ 9♠ 9♣ 9♦ 10♦ 10♠ 10♣ 10❤ J♦ J♠ J❤ J♣ Q♣ Q♠ Q♦ Q❤ K♦ K❤ K♣ K♠ "
      ]
     },
     "execution_count": 261,
     "metadata": {},
     "output_type": "execute_result"
    }
   ],
   "source": [
    "sort_by_rank!(rdeck)"
   ]
  },
  {
   "cell_type": "code",
   "execution_count": 262,
   "id": "651ed234-41ed-49fe-9ecf-e0be9d0fadd1",
   "metadata": {
    "execution": {
     "iopub.execute_input": "2021-04-25T20:24:24.806000-07:00",
     "iopub.status.busy": "2021-04-25T20:24:24.805000-07:00",
     "iopub.status.idle": "2021-04-25T20:24:24.835000-07:00",
     "shell.execute_reply": "2021-04-25T20:24:24.834000-07:00"
    },
    "tags": []
   },
   "outputs": [
    {
     "data": {
      "text/plain": [
       "A♣ 2♣ 3♣ 4♣ 5♣ 6♣ 7♣ 8♣ 9♣ 10♣ J♣ Q♣ K♣ A♦ 2♦ 3♦ 4♦ 5♦ 6♦ 7♦ 8♦ 9♦ 10♦ J♦ Q♦ K♦ A❤ 2❤ 3❤ 4❤ 5❤ 6❤ 7❤ 8❤ 9❤ 10❤ J❤ Q❤ K❤ A♠ 2♠ 3♠ 4♠ 5♠ 6♠ 7♠ 8♠ 9♠ 10♠ J♠ Q♠ K♠ "
      ]
     },
     "execution_count": 262,
     "metadata": {},
     "output_type": "execute_result"
    }
   ],
   "source": [
    "sort_by_suit!(rdeck)"
   ]
  },
  {
   "cell_type": "code",
   "execution_count": 263,
   "id": "bd327ebc-bfba-4876-8967-abf4dd2e0658",
   "metadata": {
    "execution": {
     "iopub.execute_input": "2021-04-25T20:24:24.836000-07:00",
     "iopub.status.busy": "2021-04-25T20:24:24.836000-07:00",
     "iopub.status.idle": "2021-04-25T20:24:24.883000-07:00",
     "shell.execute_reply": "2021-04-25T20:24:24.883000-07:00"
    },
    "tags": []
   },
   "outputs": [
    {
     "data": {
      "text/plain": [
       "4-element Vector{CardSet}:\n",
       " A♣ K♠ Q♣ A♠ 8♣ 8♦ 3❤ K❤ 4♣ 9♦ \n",
       " 2❤ 3♠ 5♠ 5♦ 2♠ 10♠ 7♦ J♠ 6♠ J♣ \n",
       " K♣ 8♠ 7♣ 6❤ A❤ K♦ 4❤ 9♣ 9❤ 10♣ \n",
       " 3♦ 6♣ A♦ 2♦ 4♠ 6♦ Q❤ 9♠ Q♠ 8❤ "
      ]
     },
     "execution_count": 263,
     "metadata": {},
     "output_type": "execute_result"
    }
   ],
   "source": [
    "deck = Deck()\n",
    "all_players = deal!(deck,4,10)"
   ]
  },
  {
   "cell_type": "code",
   "execution_count": 264,
   "id": "c6f05a3b-5776-4869-a3b3-bb9fc355b524",
   "metadata": {
    "execution": {
     "iopub.execute_input": "2021-04-25T20:24:24.885000-07:00",
     "iopub.status.busy": "2021-04-25T20:24:24.884000-07:00",
     "iopub.status.idle": "2021-04-25T20:24:24.893000-07:00",
     "shell.execute_reply": "2021-04-25T20:24:24.893000-07:00"
    },
    "tags": []
   },
   "outputs": [
    {
     "data": {
      "text/plain": [
       "hist_suit (generic function with 1 method)"
      ]
     },
     "execution_count": 264,
     "metadata": {},
     "output_type": "execute_result"
    }
   ],
   "source": [
    "function hist_rank(cs::CardSet)\n",
    "    d = Dict{Int64,Int64}()\n",
    "    for i in cs.cards\n",
    "#         @show i.suit\n",
    "        d[i.rank] = get(d,i.rank, 0) + 1\n",
    "    end\n",
    "    d\n",
    "end\n",
    "\n",
    "function hist_suit(cs::CardSet)\n",
    "    d = Dict{Int64,Int64}()\n",
    "    for i in cs.cards\n",
    "#         @show i.suit\n",
    "        d[i.suit] = get(d,i.suit, 0) + 1\n",
    "    end\n",
    "    d\n",
    "end"
   ]
  },
  {
   "cell_type": "code",
   "execution_count": null,
   "id": "a5b0de0b-7715-44c1-a113-0aa8e968e5bf",
   "metadata": {
    "tags": []
   },
   "outputs": [],
   "source": []
  },
  {
   "cell_type": "code",
   "execution_count": 265,
   "id": "9e0c2634-fce3-4e46-8fdf-1a204a81adf9",
   "metadata": {
    "execution": {
     "iopub.execute_input": "2021-04-25T20:24:24.896000-07:00",
     "iopub.status.busy": "2021-04-25T20:24:24.893000-07:00",
     "iopub.status.idle": "2021-04-25T20:24:24.898000-07:00",
     "shell.execute_reply": "2021-04-25T20:24:24.898000-07:00"
    },
    "tags": []
   },
   "outputs": [
    {
     "data": {
      "text/plain": [
       "Int64"
      ]
     },
     "execution_count": 265,
     "metadata": {},
     "output_type": "execute_result"
    }
   ],
   "source": [
    "typeof(all_players[1].cards[1].suit)"
   ]
  },
  {
   "cell_type": "code",
   "execution_count": 266,
   "id": "5dbc1215-c2e8-4561-8dab-82a7d3c32aa4",
   "metadata": {
    "execution": {
     "iopub.execute_input": "2021-04-25T20:24:24.898000-07:00",
     "iopub.status.busy": "2021-04-25T20:24:24.898000-07:00",
     "iopub.status.idle": "2021-04-25T20:24:24.914000-07:00",
     "shell.execute_reply": "2021-04-25T20:24:24.914000-07:00"
    },
    "tags": []
   },
   "outputs": [
    {
     "ename": "LoadError",
     "evalue": "UndefVarError: rank_dict not defined",
     "output_type": "error",
     "traceback": [
      "UndefVarError: rank_dict not defined",
      "",
      "Stacktrace:",
      " [1] top-level scope",
      "   @ In[266]:1",
      " [2] eval",
      "   @ ./boot.jl:360 [inlined]",
      " [3] include_string(mapexpr::typeof(REPL.softscope), mod::Module, code::String, filename::String)",
      "   @ Base ./loading.jl:1094"
     ]
    }
   ],
   "source": [
    "findall(x->x==3,collect(values(rank_dict)))"
   ]
  },
  {
   "cell_type": "code",
   "execution_count": 267,
   "id": "a740bae1-daaa-4279-a9a2-32879565f919",
   "metadata": {
    "execution": {
     "iopub.execute_input": "2021-04-25T20:24:24.914000-07:00",
     "iopub.status.busy": "2021-04-25T20:24:24.914000-07:00",
     "iopub.status.idle": "2021-04-25T20:24:24.916000-07:00",
     "shell.execute_reply": "2021-04-25T20:24:24.916000-07:00"
    },
    "tags": []
   },
   "outputs": [
    {
     "data": {
      "text/plain": [
       "haspair (generic function with 1 method)"
      ]
     },
     "execution_count": 267,
     "metadata": {},
     "output_type": "execute_result"
    }
   ],
   "source": [
    "function haspair(cs::CardSet)\n",
    "    rank_dict = hist_rank(cs)\n",
    "    !isempty(findall(x->x>=2,collect(values(rank_dict))))\n",
    "end"
   ]
  },
  {
   "cell_type": "code",
   "execution_count": 268,
   "id": "94323741-01fe-44af-b600-94f58d932014",
   "metadata": {
    "execution": {
     "iopub.execute_input": "2021-04-25T20:24:24.916000-07:00",
     "iopub.status.busy": "2021-04-25T20:24:24.916000-07:00",
     "iopub.status.idle": "2021-04-25T20:24:24.983000-07:00",
     "shell.execute_reply": "2021-04-25T20:24:24.983000-07:00"
    },
    "tags": []
   },
   "outputs": [
    {
     "data": {
      "text/plain": [
       "true"
      ]
     },
     "execution_count": 268,
     "metadata": {},
     "output_type": "execute_result"
    }
   ],
   "source": [
    "haspair(all_players[2])"
   ]
  },
  {
   "cell_type": "code",
   "execution_count": 269,
   "id": "d867b02c-c83b-4a9e-bb84-a2fe83ae88ac",
   "metadata": {
    "execution": {
     "iopub.execute_input": "2021-04-25T20:24:24.984000-07:00",
     "iopub.status.busy": "2021-04-25T20:24:24.983000-07:00",
     "iopub.status.idle": "2021-04-25T20:24:24.985000-07:00",
     "shell.execute_reply": "2021-04-25T20:24:24.985000-07:00"
    },
    "tags": []
   },
   "outputs": [
    {
     "data": {
      "text/plain": [
       "hastwopair (generic function with 1 method)"
      ]
     },
     "execution_count": 269,
     "metadata": {},
     "output_type": "execute_result"
    }
   ],
   "source": [
    "function hastwopair(cs::CardSet)\n",
    "    rank_dict = hist_rank(cs)\n",
    "    length(findall(x->x>=2,collect(values(rank_dict)))) >=2\n",
    "end"
   ]
  },
  {
   "cell_type": "code",
   "execution_count": 270,
   "id": "21787457-88af-496c-9024-13de0b6da159",
   "metadata": {
    "execution": {
     "iopub.execute_input": "2021-04-25T20:24:24.985000-07:00",
     "iopub.status.busy": "2021-04-25T20:24:24.985000-07:00",
     "iopub.status.idle": "2021-04-25T20:24:25.038000-07:00",
     "shell.execute_reply": "2021-04-25T20:24:25.038000-07:00"
    },
    "tags": []
   },
   "outputs": [
    {
     "data": {
      "text/plain": [
       "true"
      ]
     },
     "execution_count": 270,
     "metadata": {},
     "output_type": "execute_result"
    }
   ],
   "source": [
    "hastwopair(all_players[4])"
   ]
  },
  {
   "cell_type": "code",
   "execution_count": 271,
   "id": "d00ec252-a91a-410c-a3a4-de85ff5658e2",
   "metadata": {
    "execution": {
     "iopub.execute_input": "2021-04-25T20:24:25.038000-07:00",
     "iopub.status.busy": "2021-04-25T20:24:25.038000-07:00",
     "iopub.status.idle": "2021-04-25T20:24:25.041000-07:00",
     "shell.execute_reply": "2021-04-25T20:24:25.041000-07:00"
    },
    "tags": []
   },
   "outputs": [
    {
     "data": {
      "text/plain": [
       "hasthreeofakind (generic function with 1 method)"
      ]
     },
     "execution_count": 271,
     "metadata": {},
     "output_type": "execute_result"
    }
   ],
   "source": [
    "function hasthreeofakind(cs::CardSet)\n",
    "    rank_dict = hist_rank(cs)\n",
    "    !isempty(findall(x->x>=3,collect(values(rank_dict))))\n",
    "end"
   ]
  },
  {
   "cell_type": "code",
   "execution_count": 272,
   "id": "5f5cf892-1117-4227-bdad-99c3c479b807",
   "metadata": {
    "execution": {
     "iopub.execute_input": "2021-04-25T20:24:25.041000-07:00",
     "iopub.status.busy": "2021-04-25T20:24:25.041000-07:00",
     "iopub.status.idle": "2021-04-25T20:24:25.136000-07:00",
     "shell.execute_reply": "2021-04-25T20:24:25.136000-07:00"
    },
    "tags": []
   },
   "outputs": [
    {
     "data": {
      "text/plain": [
       "false"
      ]
     },
     "execution_count": 272,
     "metadata": {},
     "output_type": "execute_result"
    }
   ],
   "source": [
    "hasthreeofakind(all_players[2])"
   ]
  },
  {
   "cell_type": "code",
   "execution_count": 273,
   "id": "e63f4bc4-140f-47b3-864a-93a23f0c34d7",
   "metadata": {
    "execution": {
     "iopub.execute_input": "2021-04-25T20:24:25.138000-07:00",
     "iopub.status.busy": "2021-04-25T20:24:25.137000-07:00",
     "iopub.status.idle": "2021-04-25T20:24:25.144000-07:00",
     "shell.execute_reply": "2021-04-25T20:24:25.143000-07:00"
    },
    "tags": []
   },
   "outputs": [
    {
     "data": {
      "text/plain": [
       "record_continue (generic function with 1 method)"
      ]
     },
     "execution_count": 273,
     "metadata": {},
     "output_type": "execute_result"
    }
   ],
   "source": [
    "function record_continue(array::Array{Int64,1})\n",
    "    count_array = []\n",
    "    new_array = sort(array)\n",
    "    record_array = [new_array[1]]\n",
    "    for i in eachindex(new_array)[2:end]\n",
    "        d = new_array[i] - new_array[i-1]\n",
    "        if d == 1 && i ≠ length(new_array)\n",
    "            push!(record)\n",
    "        elseif d == 1 && i == length(new_array)\n",
    "            con_num += 1\n",
    "            push!(count_array, con_num)\n",
    "            con_num = 0\n",
    "        else\n",
    "            push!(count_array, con_num)\n",
    "            con_num = 0\n",
    "        end\n",
    "    end\n",
    "    count_array\n",
    "end"
   ]
  },
  {
   "cell_type": "code",
   "execution_count": 274,
   "id": "6284743e-4eb2-4590-8d42-d4965bf1fdc8",
   "metadata": {
    "execution": {
     "iopub.execute_input": "2021-04-25T20:24:25.144000-07:00",
     "iopub.status.busy": "2021-04-25T20:24:25.144000-07:00",
     "iopub.status.idle": "2021-04-25T20:24:25.152000-07:00",
     "shell.execute_reply": "2021-04-25T20:24:25.152000-07:00"
    },
    "tags": []
   },
   "outputs": [
    {
     "data": {
      "text/plain": [
       "hasstraight (generic function with 2 methods)"
      ]
     },
     "execution_count": 274,
     "metadata": {},
     "output_type": "execute_result"
    }
   ],
   "source": [
    "function count_continue(array::Array{Int64,1})\n",
    "    count_array = []\n",
    "    new_array = sort(array)\n",
    "    con_num = 0\n",
    "    con_array = []\n",
    "    for i in eachindex(new_array)[2:end]\n",
    "        d = new_array[i] - new_array[i-1]\n",
    "        if d == 1 && i ≠ length(new_array)\n",
    "            con_num += 1\n",
    "        elseif d == 1 && i == length(new_array)\n",
    "            con_num += 1\n",
    "            push!(count_array, con_num)\n",
    "            con_num = 0\n",
    "        else\n",
    "            push!(count_array, con_num)\n",
    "            con_num = 0\n",
    "        end\n",
    "    end\n",
    "    count_array\n",
    "end\n",
    "function hasstraight(cs::CardSet, num::Int64 = 5)\n",
    "    rank_dict = hist_rank(cs)\n",
    "    low_con = collect(keys(rank_dict))\n",
    "    high_con = sort(replace(collect(keys(rank_dict)), 1=>14))\n",
    "    low_con_num_array = count_continue(low_con)\n",
    "    high_con_num_array = count_continue(high_con)\n",
    "    maximum(low_con_num_array) >= num - 1 || maximum(high_con_num_array) >= num - 1\n",
    "end"
   ]
  },
  {
   "cell_type": "code",
   "execution_count": 275,
   "id": "78ff47bb-88e4-4902-83a5-24b0bc920430",
   "metadata": {
    "execution": {
     "iopub.execute_input": "2021-04-25T20:24:25.154000-07:00",
     "iopub.status.busy": "2021-04-25T20:24:25.152000-07:00",
     "iopub.status.idle": "2021-04-25T20:24:25.206000-07:00",
     "shell.execute_reply": "2021-04-25T20:24:25.206000-07:00"
    },
    "tags": []
   },
   "outputs": [
    {
     "data": {
      "text/plain": [
       "false"
      ]
     },
     "execution_count": 275,
     "metadata": {},
     "output_type": "execute_result"
    }
   ],
   "source": [
    "hasstraight(all_players[2])"
   ]
  },
  {
   "cell_type": "code",
   "execution_count": 276,
   "id": "3bdb7f8f-2a45-4ad7-9b25-8b7ebe460206",
   "metadata": {
    "execution": {
     "iopub.execute_input": "2021-04-25T20:24:25.209000-07:00",
     "iopub.status.busy": "2021-04-25T20:24:25.208000-07:00",
     "iopub.status.idle": "2021-04-25T20:24:25.214000-07:00",
     "shell.execute_reply": "2021-04-25T20:24:25.214000-07:00"
    },
    "tags": []
   },
   "outputs": [
    {
     "data": {
      "text/plain": [
       "7-element Vector{Int64}:\n",
       "  2\n",
       "  3\n",
       "  5\n",
       "  6\n",
       "  7\n",
       " 10\n",
       " 11"
      ]
     },
     "execution_count": 276,
     "metadata": {},
     "output_type": "execute_result"
    }
   ],
   "source": [
    "sort(collect(keys(hist_rank(all_players[2]))))"
   ]
  },
  {
   "cell_type": "code",
   "execution_count": 277,
   "id": "29802f87-6721-43ee-885d-7b07271d23c4",
   "metadata": {
    "execution": {
     "iopub.execute_input": "2021-04-25T20:24:25.215000-07:00",
     "iopub.status.busy": "2021-04-25T20:24:25.214000-07:00",
     "iopub.status.idle": "2021-04-25T20:24:25.219000-07:00",
     "shell.execute_reply": "2021-04-25T20:24:25.219000-07:00"
    },
    "tags": []
   },
   "outputs": [
    {
     "data": {
      "text/plain": [
       "hasflush (generic function with 1 method)"
      ]
     },
     "execution_count": 277,
     "metadata": {},
     "output_type": "execute_result"
    }
   ],
   "source": [
    "function hasflush(cs::CardSet)\n",
    "    suit_dict = hist_suit(cs)\n",
    "#     @show maximum(values(suit_dict))\n",
    "    maximum(values(suit_dict)) >= 5\n",
    "end"
   ]
  },
  {
   "cell_type": "code",
   "execution_count": 278,
   "id": "0228281e-0c7b-48cf-a563-f08999730c83",
   "metadata": {
    "execution": {
     "iopub.execute_input": "2021-04-25T20:24:25.219000-07:00",
     "iopub.status.busy": "2021-04-25T20:24:25.219000-07:00",
     "iopub.status.idle": "2021-04-25T20:24:25.250000-07:00",
     "shell.execute_reply": "2021-04-25T20:24:25.249000-07:00"
    },
    "tags": []
   },
   "outputs": [
    {
     "data": {
      "text/plain": [
       "false"
      ]
     },
     "execution_count": 278,
     "metadata": {},
     "output_type": "execute_result"
    }
   ],
   "source": [
    "hasflush(all_players[3])"
   ]
  },
  {
   "cell_type": "code",
   "execution_count": 279,
   "id": "4bb71a32-88ea-4086-b0c9-f02b5c5c4944",
   "metadata": {
    "execution": {
     "iopub.execute_input": "2021-04-25T20:24:25.251000-07:00",
     "iopub.status.busy": "2021-04-25T20:24:25.251000-07:00",
     "iopub.status.idle": "2021-04-25T20:24:25.256000-07:00",
     "shell.execute_reply": "2021-04-25T20:24:25.256000-07:00"
    },
    "tags": []
   },
   "outputs": [
    {
     "data": {
      "text/plain": [
       "Dict{Int64, Int64} with 4 entries:\n",
       "  4 => 1\n",
       "  2 => 1\n",
       "  3 => 4\n",
       "  1 => 4"
      ]
     },
     "execution_count": 279,
     "metadata": {},
     "output_type": "execute_result"
    }
   ],
   "source": [
    "hist_suit(all_players[3])"
   ]
  },
  {
   "cell_type": "code",
   "execution_count": 280,
   "id": "73344725-51fc-4c5c-a3c2-7c43e50a2902",
   "metadata": {
    "execution": {
     "iopub.execute_input": "2021-04-25T20:24:25.257000-07:00",
     "iopub.status.busy": "2021-04-25T20:24:25.256000-07:00",
     "iopub.status.idle": "2021-04-25T20:24:25.263000-07:00",
     "shell.execute_reply": "2021-04-25T20:24:25.263000-07:00"
    },
    "tags": []
   },
   "outputs": [
    {
     "data": {
      "text/plain": [
       "hasfullhouse (generic function with 1 method)"
      ]
     },
     "execution_count": 280,
     "metadata": {},
     "output_type": "execute_result"
    }
   ],
   "source": [
    "function hasfullhouse(cs::CardSet)\n",
    "    rank_dict = hist_rank(cs)\n",
    "#     @show maximum(values(rank_dict))\n",
    "    length(findall(x -> x>=2, collect(values(rank_dict))))>=2 && length(findall(x -> x>=3, collect(values(rank_dict)))) >=1\n",
    "end"
   ]
  },
  {
   "cell_type": "code",
   "execution_count": 281,
   "id": "fcd1ca9c-b6fb-4d6d-8161-785b0a08e79a",
   "metadata": {
    "execution": {
     "iopub.execute_input": "2021-04-25T20:24:25.264000-07:00",
     "iopub.status.busy": "2021-04-25T20:24:25.264000-07:00",
     "iopub.status.idle": "2021-04-25T20:24:25.271000-07:00",
     "shell.execute_reply": "2021-04-25T20:24:25.271000-07:00"
    },
    "tags": []
   },
   "outputs": [
    {
     "data": {
      "text/plain": [
       "4-element Vector{CardSet}:\n",
       " K❤ 6♦ J♦ 2♦ 8❤ 6♠ Q♦ 9♦ 8♣ 3♣ \n",
       " 7♦ 9❤ 10♠ 4♠ 7❤ 8♦ 4❤ 5♦ 9♠ 7♠ \n",
       " 2❤ J♠ 2♣ Q❤ 8♠ 5♠ K♦ 3♠ 5❤ A♠ \n",
       " K♣ 6♣ Q♠ 10❤ 5♣ 2♠ 3♦ J❤ Q♣ A♣ "
      ]
     },
     "execution_count": 281,
     "metadata": {},
     "output_type": "execute_result"
    }
   ],
   "source": [
    "deck = Deck()\n",
    "all_players = deal!(deck,4,10)"
   ]
  },
  {
   "cell_type": "code",
   "execution_count": 282,
   "id": "f0105e35-9fae-43ab-872e-dbbd7555633e",
   "metadata": {
    "execution": {
     "iopub.execute_input": "2021-04-25T20:24:25.271000-07:00",
     "iopub.status.busy": "2021-04-25T20:24:25.271000-07:00",
     "iopub.status.idle": "2021-04-25T20:24:25.273000-07:00",
     "shell.execute_reply": "2021-04-25T20:24:25.273000-07:00"
    },
    "tags": []
   },
   "outputs": [
    {
     "data": {
      "text/plain": [
       "Dict{Int64, Int64} with 8 entries:\n",
       "  5  => 2\n",
       "  13 => 1\n",
       "  2  => 2\n",
       "  11 => 1\n",
       "  12 => 1\n",
       "  8  => 1\n",
       "  3  => 1\n",
       "  1  => 1"
      ]
     },
     "execution_count": 282,
     "metadata": {},
     "output_type": "execute_result"
    }
   ],
   "source": [
    "hist_rank(all_players[3])"
   ]
  },
  {
   "cell_type": "code",
   "execution_count": 283,
   "id": "e25f890c-067b-4527-b1ed-04de039c7f7e",
   "metadata": {
    "execution": {
     "iopub.execute_input": "2021-04-25T20:24:25.273000-07:00",
     "iopub.status.busy": "2021-04-25T20:24:25.273000-07:00",
     "iopub.status.idle": "2021-04-25T20:24:25.275000-07:00",
     "shell.execute_reply": "2021-04-25T20:24:25.275000-07:00"
    },
    "tags": []
   },
   "outputs": [
    {
     "data": {
      "text/plain": [
       "hasfourofakind (generic function with 1 method)"
      ]
     },
     "execution_count": 283,
     "metadata": {},
     "output_type": "execute_result"
    }
   ],
   "source": [
    "function hasfourofakind(cs::CardSet)\n",
    "    rank_dict = hist_rank(cs)\n",
    "#     @show maximum(values(rank_dict))\n",
    "    maximum(values(rank_dict))==4\n",
    "end"
   ]
  },
  {
   "cell_type": "code",
   "execution_count": 284,
   "id": "5cc263ec-53e2-4efe-899d-58b6140e977b",
   "metadata": {
    "execution": {
     "iopub.execute_input": "2021-04-25T20:24:25.275000-07:00",
     "iopub.status.busy": "2021-04-25T20:24:25.275000-07:00",
     "iopub.status.idle": "2021-04-25T20:24:25.298000-07:00",
     "shell.execute_reply": "2021-04-25T20:24:25.298000-07:00"
    },
    "tags": []
   },
   "outputs": [
    {
     "data": {
      "text/plain": [
       "false"
      ]
     },
     "execution_count": 284,
     "metadata": {},
     "output_type": "execute_result"
    }
   ],
   "source": [
    "hasfourofakind(all_players[3])"
   ]
  },
  {
   "cell_type": "code",
   "execution_count": 285,
   "id": "63acfd9e-9fd4-48f0-9c64-532969318413",
   "metadata": {
    "execution": {
     "iopub.execute_input": "2021-04-25T20:24:25.298000-07:00",
     "iopub.status.busy": "2021-04-25T20:24:25.298000-07:00",
     "iopub.status.idle": "2021-04-25T20:24:25.319000-07:00",
     "shell.execute_reply": "2021-04-25T20:24:25.316000-07:00"
    },
    "tags": []
   },
   "outputs": [
    {
     "data": {
      "text/plain": [
       "- (generic function with 226 methods)"
      ]
     },
     "execution_count": 285,
     "metadata": {},
     "output_type": "execute_result"
    }
   ],
   "source": [
    "import Base.-\n",
    "\n",
    "function -(c1::Card,c2::Card)\n",
    "    if c1.suit ≠ c2.suit\n",
    "        return 100\n",
    "    end\n",
    "    c1.rank - c2.rank\n",
    "end"
   ]
  },
  {
   "cell_type": "code",
   "execution_count": 286,
   "id": "85b90e17-be2a-447f-b8da-64edcf9a1f67",
   "metadata": {
    "execution": {
     "iopub.execute_input": "2021-04-25T20:24:25.319000-07:00",
     "iopub.status.busy": "2021-04-25T20:24:25.319000-07:00",
     "iopub.status.idle": "2021-04-25T20:24:25.327000-07:00",
     "shell.execute_reply": "2021-04-25T20:24:25.327000-07:00"
    },
    "tags": []
   },
   "outputs": [
    {
     "data": {
      "text/plain": [
       "hasstraightflush (generic function with 2 methods)"
      ]
     },
     "execution_count": 286,
     "metadata": {},
     "output_type": "execute_result"
    }
   ],
   "source": [
    "function count_strict_continue(cs::CardSet)\n",
    "    count_array = []\n",
    "    new_array = sort!(cs)\n",
    "#     @show new_array\n",
    "    con_num = 0\n",
    "    for i in eachindex(new_array.cards)[2:end]\n",
    "#         @show new_array.cards[i]\n",
    "        d = new_array.cards[i] - new_array.cards[i-1]\n",
    "        if d == 1 && i ≠ length(new_array.cards)\n",
    "            con_num += 1\n",
    "        elseif d == 1 && i == length(new_array.cards)\n",
    "            con_num += 1\n",
    "            push!(count_array, con_num)\n",
    "            con_num = 0\n",
    "        else\n",
    "            push!(count_array, con_num)\n",
    "            con_num = 0\n",
    "        end\n",
    "    end\n",
    "    count_array\n",
    "end\n",
    "function hasstraightflush(cs::CardSet,num::Int64=5)\n",
    "    low_con = deepcopy(cs);\n",
    "    high_con = deepcopy(cs);\n",
    "    \n",
    "\n",
    "    for i in eachindex(high_con.cards)\n",
    "        if high_con.cards[i].rank == 1\n",
    "            push!(high_con.cards, Card(high_con.cards[i].suit,14))\n",
    "            deleteat!(high_con.cards, i)\n",
    "        end\n",
    "    end\n",
    "\n",
    "    low_con_num_array = count_strict_continue(low_con)\n",
    "    high_con_num_array = count_strict_continue(high_con)\n",
    "    maximum(low_con_num_array) >= num - 1 || maximum(high_con_num_array) >= num - 1\n",
    "end"
   ]
  },
  {
   "cell_type": "code",
   "execution_count": null,
   "id": "f2f6f2bf-3209-462a-900d-05cecacb3e73",
   "metadata": {
    "tags": []
   },
   "outputs": [],
   "source": []
  },
  {
   "cell_type": "code",
   "execution_count": 287,
   "id": "b1bcd8dd-cea4-4d76-8922-4f554f959bb8",
   "metadata": {
    "execution": {
     "iopub.execute_input": "2021-04-25T20:24:25.328000-07:00",
     "iopub.status.busy": "2021-04-25T20:24:25.328000-07:00",
     "iopub.status.idle": "2021-04-25T20:24:25.352000-07:00",
     "shell.execute_reply": "2021-04-25T20:24:25.351000-07:00"
    },
    "tags": []
   },
   "outputs": [
    {
     "data": {
      "text/plain": [
       "5-element Vector{Card}:\n",
       " 10♣\n",
       " J♣\n",
       " Q♣\n",
       " K♣\n",
       " A♣"
      ]
     },
     "execution_count": 287,
     "metadata": {},
     "output_type": "execute_result"
    }
   ],
   "source": [
    "t  = Hand(Card[],\"1\")\n",
    "for i in 10:13\n",
    "    push!(t.cards,Card(1,i))\n",
    "end\n",
    "push!(t.cards,Card(1,1))"
   ]
  },
  {
   "cell_type": "code",
   "execution_count": 288,
   "id": "59e30601-1bbf-42fe-b5dc-8e3bfab5b0c8",
   "metadata": {
    "execution": {
     "iopub.execute_input": "2021-04-25T20:24:25.354000-07:00",
     "iopub.status.busy": "2021-04-25T20:24:25.353000-07:00",
     "iopub.status.idle": "2021-04-25T20:24:25.429000-07:00",
     "shell.execute_reply": "2021-04-25T20:24:25.429000-07:00"
    },
    "tags": []
   },
   "outputs": [
    {
     "data": {
      "text/plain": [
       "true"
      ]
     },
     "execution_count": 288,
     "metadata": {},
     "output_type": "execute_result"
    }
   ],
   "source": [
    "hasstraightflush(t)"
   ]
  },
  {
   "cell_type": "code",
   "execution_count": 289,
   "id": "1d128c03-c360-42bd-8f8c-bae29fea73d7",
   "metadata": {
    "execution": {
     "iopub.execute_input": "2021-04-25T20:24:25.431000-07:00",
     "iopub.status.busy": "2021-04-25T20:24:25.431000-07:00",
     "iopub.status.idle": "2021-04-25T20:24:25.455000-07:00",
     "shell.execute_reply": "2021-04-25T20:24:25.454000-07:00"
    },
    "tags": []
   },
   "outputs": [],
   "source": [
    "high_con = deepcopy(all_players[3])\n",
    "a_index = []\n",
    "for i in eachindex(high_con.cards)\n",
    "    if high_con.cards[i].rank == 1\n",
    "        push!(high_con.cards, Card(high_con.cards[i].suit,14))\n",
    "        deleteat!(high_con.cards, i)\n",
    "    end\n",
    "end"
   ]
  },
  {
   "cell_type": "code",
   "execution_count": 290,
   "id": "f7e1c8fc-298d-4627-b9cc-efc7365a218b",
   "metadata": {
    "execution": {
     "iopub.execute_input": "2021-04-25T20:24:25.458000-07:00",
     "iopub.status.busy": "2021-04-25T20:24:25.457000-07:00",
     "iopub.status.idle": "2021-04-25T20:24:25.460000-07:00",
     "shell.execute_reply": "2021-04-25T20:24:25.460000-07:00"
    },
    "tags": []
   },
   "outputs": [
    {
     "data": {
      "text/plain": [
       "2♣ K♦ 2❤ 5❤ Q❤ 3♠ 5♠ 8♠ J♠ A♠ "
      ]
     },
     "execution_count": 290,
     "metadata": {},
     "output_type": "execute_result"
    }
   ],
   "source": [
    "sort!(high_con)"
   ]
  },
  {
   "cell_type": "code",
   "execution_count": 291,
   "id": "6aaa9060-5763-48e7-9bf0-2231217ccf3f",
   "metadata": {
    "execution": {
     "iopub.execute_input": "2021-04-25T20:24:25.461000-07:00",
     "iopub.status.busy": "2021-04-25T20:24:25.461000-07:00",
     "iopub.status.idle": "2021-04-25T20:24:25.492000-07:00",
     "shell.execute_reply": "2021-04-25T20:24:25.491000-07:00"
    },
    "tags": []
   },
   "outputs": [
    {
     "ename": "LoadError",
     "evalue": "BoundsError: attempt to access 0-element Vector{Any} at index [1]",
     "output_type": "error",
     "traceback": [
      "BoundsError: attempt to access 0-element Vector{Any} at index [1]",
      "",
      "Stacktrace:",
      " [1] getindex(A::Vector{Any}, i1::Int64)",
      "   @ Base ./array.jl:801",
      " [2] top-level scope",
      "   @ In[291]:1",
      " [3] eval",
      "   @ ./boot.jl:360 [inlined]",
      " [4] include_string(mapexpr::typeof(REPL.softscope), mod::Module, code::String, filename::String)",
      "   @ Base ./loading.jl:1094"
     ]
    }
   ],
   "source": [
    "deleteat!(high_con.cards, a_index[1])"
   ]
  },
  {
   "cell_type": "code",
   "execution_count": 292,
   "id": "2761c347-2124-44cb-983f-d33608752d4c",
   "metadata": {
    "execution": {
     "iopub.execute_input": "2021-04-25T20:24:25.493000-07:00",
     "iopub.status.busy": "2021-04-25T20:24:25.493000-07:00",
     "iopub.status.idle": "2021-04-25T20:24:25.506000-07:00",
     "shell.execute_reply": "2021-04-25T20:24:25.506000-07:00"
    },
    "tags": []
   },
   "outputs": [
    {
     "ename": "LoadError",
     "evalue": "syntax: incomplete: \"for\" at In[292]:1 requires end",
     "output_type": "error",
     "traceback": [
      "syntax: incomplete: \"for\" at In[292]:1 requires end",
      "",
      "Stacktrace:",
      " [1] top-level scope",
      "   @ In[292]:1",
      " [2] eval",
      "   @ ./boot.jl:360 [inlined]",
      " [3] include_string(mapexpr::typeof(REPL.softscope), mod::Module, code::String, filename::String)",
      "   @ Base ./loading.jl:1094"
     ]
    }
   ],
   "source": [
    "for i in all_players[3].cards\n",
    "    println()"
   ]
  },
  {
   "cell_type": "code",
   "execution_count": 293,
   "id": "f62e643f-f29b-46f4-954e-70f9cf53b2b8",
   "metadata": {
    "execution": {
     "iopub.execute_input": "2021-04-25T20:24:25.508000-07:00",
     "iopub.status.busy": "2021-04-25T20:24:25.507000-07:00",
     "iopub.status.idle": "2021-04-25T20:24:25.514000-07:00",
     "shell.execute_reply": "2021-04-25T20:24:25.512000-07:00"
    },
    "tags": []
   },
   "outputs": [
    {
     "data": {
      "text/plain": [
       "3-element Vector{Int64}:\n",
       " 1\n",
       " 2\n",
       " 3"
      ]
     },
     "execution_count": 293,
     "metadata": {},
     "output_type": "execute_result"
    }
   ],
   "source": [
    "c = [1,2,3]"
   ]
  },
  {
   "cell_type": "code",
   "execution_count": 294,
   "id": "b05092b6-bced-4b93-bd6c-03a37fb4b980",
   "metadata": {
    "execution": {
     "iopub.execute_input": "2021-04-25T20:24:25.514000-07:00",
     "iopub.status.busy": "2021-04-25T20:24:25.514000-07:00",
     "iopub.status.idle": "2021-04-25T20:24:25.519000-07:00",
     "shell.execute_reply": "2021-04-25T20:24:25.519000-07:00"
    },
    "tags": []
   },
   "outputs": [
    {
     "data": {
      "text/plain": [
       "classify (generic function with 1 method)"
      ]
     },
     "execution_count": 294,
     "metadata": {},
     "output_type": "execute_result"
    }
   ],
   "source": [
    "function classify(cs::CardSet)\n",
    "    if hasstraightflush(cs)\n",
    "        return \"Straight flush\"\n",
    "    elseif hasfourofakind(cs)\n",
    "        return \"Four of a kind\"\n",
    "    elseif hasfullhouse(cs)\n",
    "        return \"Full house\"\n",
    "    elseif hasflush(cs)\n",
    "        return \"FLush\"\n",
    "    elseif hasstraight(cs)\n",
    "        return \"Straight\"\n",
    "    elseif hasthreeofakind(cs)\n",
    "        return \"three of a kind\"\n",
    "    elseif hastwopair(cs)\n",
    "        return \"Two pair\"\n",
    "    elseif haspair(cs)\n",
    "        return \"Pair\"\n",
    "    end\n",
    "    return \"Unfortunately\"\n",
    "end"
   ]
  },
  {
   "cell_type": "code",
   "execution_count": 304,
   "id": "d11dec02-6f44-4f00-b3bc-4a949d69ca38",
   "metadata": {
    "execution": {
     "iopub.execute_input": "2021-04-25T20:25:53.718000-07:00",
     "iopub.status.busy": "2021-04-25T20:25:53.717000-07:00",
     "iopub.status.idle": "2021-04-25T20:25:53.720000-07:00",
     "shell.execute_reply": "2021-04-25T20:25:53.720000-07:00"
    },
    "tags": []
   },
   "outputs": [
    {
     "data": {
      "text/plain": [
       "\"Full house\""
      ]
     },
     "execution_count": 304,
     "metadata": {},
     "output_type": "execute_result"
    }
   ],
   "source": [
    "classify(all_players[2])"
   ]
  },
  {
   "cell_type": "code",
   "execution_count": 303,
   "id": "94b44920-52fa-48f9-a8c5-d6dc9a8d3ae1",
   "metadata": {
    "execution": {
     "iopub.execute_input": "2021-04-25T20:25:51.896000-07:00",
     "iopub.status.busy": "2021-04-25T20:25:51.896000-07:00",
     "iopub.status.idle": "2021-04-25T20:25:51.901000-07:00",
     "shell.execute_reply": "2021-04-25T20:25:51.900000-07:00"
    },
    "tags": []
   },
   "outputs": [
    {
     "data": {
      "text/plain": [
       "Dict{Int64, Int64} with 3 entries:\n",
       "  4 => 4\n",
       "  2 => 3\n",
       "  3 => 3"
      ]
     },
     "execution_count": 303,
     "metadata": {},
     "output_type": "execute_result"
    }
   ],
   "source": [
    "hist_suit(all_players[2])"
   ]
  },
  {
   "cell_type": "code",
   "execution_count": 307,
   "id": "53a1e30e-b9a2-48e4-860c-48b44274ea72",
   "metadata": {
    "execution": {
     "iopub.execute_input": "2021-04-25T20:29:32.071000-07:00",
     "iopub.status.busy": "2021-04-25T20:29:32.071000-07:00",
     "iopub.status.idle": "2021-04-25T20:29:32.075000-07:00",
     "shell.execute_reply": "2021-04-25T20:29:32.075000-07:00"
    },
    "tags": []
   },
   "outputs": [
    {
     "data": {
      "text/plain": [
       "deal! (generic function with 1 method)"
      ]
     },
     "execution_count": 307,
     "metadata": {},
     "output_type": "execute_result"
    }
   ],
   "source": [
    "function deal!(deck::Deck, num_hands::Int64, num_cards::Int64)\n",
    "    @assert(length(deck) >= num_hands * num_cards, \"too much cards required\")\n",
    "    Hands = CardSet[]\n",
    "    shuffle!(deck)\n",
    "    for hand in collect(1:num_hands)\n",
    "        temp_hand = Hand()\n",
    "        for card in collect(1:num_cards)\n",
    "            push!(temp_hand.cards, pop!(deck))\n",
    "        end\n",
    "        label = classify(temp_hand)\n",
    "        push!(Hands,Hand(temp_hand.cards,label))\n",
    "    end\n",
    "    Hands\n",
    "end"
   ]
  },
  {
   "cell_type": "code",
   "execution_count": null,
   "id": "1f4713b0-933d-4946-9a41-2d7f0619368b",
   "metadata": {},
   "outputs": [],
   "source": []
  },
  {
   "cell_type": "code",
   "execution_count": 318,
   "id": "347f6ad3-6ea0-457a-818c-3f25f06fe35b",
   "metadata": {
    "execution": {
     "iopub.execute_input": "2021-04-25T20:32:28.520000-07:00",
     "iopub.status.busy": "2021-04-25T20:32:28.496000-07:00",
     "iopub.status.idle": "2021-04-25T20:32:28.631000-07:00",
     "shell.execute_reply": "2021-04-25T20:32:28.613000-07:00"
    },
    "tags": []
   },
   "outputs": [],
   "source": [
    "function Base.show(io::IO,hand::Hand)\n",
    "    print(io,hand.cards,\"\\t\",hand.label)\n",
    "end"
   ]
  },
  {
   "cell_type": "code",
   "execution_count": 431,
   "id": "5837d8c0-9c63-4ad1-aa8a-8742b136efde",
   "metadata": {
    "execution": {
     "iopub.execute_input": "2021-04-25T22:14:14.448000-07:00",
     "iopub.status.busy": "2021-04-25T22:14:14.448000-07:00",
     "iopub.status.idle": "2021-04-25T22:14:19.080000-07:00",
     "shell.execute_reply": "2021-04-25T22:14:19.080000-07:00"
    },
    "tags": []
   },
   "outputs": [],
   "source": [
    "classification = String[]\n",
    "for i in 1:100000\n",
    "    deck = Deck()\n",
    "    hands = deal!(deck,6,7)\n",
    "    for hand in hands\n",
    "        push!(classification, hand.label)\n",
    "    end\n",
    "end"
   ]
  },
  {
   "cell_type": "code",
   "execution_count": 432,
   "id": "95a771fc-59e6-4c33-97cf-00886a432d14",
   "metadata": {
    "execution": {
     "iopub.execute_input": "2021-04-25T22:14:21.307000-07:00",
     "iopub.status.busy": "2021-04-25T22:14:21.307000-07:00",
     "iopub.status.idle": "2021-04-25T22:14:21.373000-07:00",
     "shell.execute_reply": "2021-04-25T22:14:21.372000-07:00"
    },
    "tags": []
   },
   "outputs": [
    {
     "data": {
      "text/plain": [
       "hist (generic function with 1 method)"
      ]
     },
     "execution_count": 432,
     "metadata": {},
     "output_type": "execute_result"
    }
   ],
   "source": [
    "function hist(a::Array)\n",
    "    d = Dict()\n",
    "    for i in a\n",
    "        d[i] = get(d,i,0) +1\n",
    "    end\n",
    "    d\n",
    "end"
   ]
  },
  {
   "cell_type": "code",
   "execution_count": 433,
   "id": "dbad6c3a-0248-4ea6-83ab-105cdac1bcc2",
   "metadata": {
    "execution": {
     "iopub.execute_input": "2021-04-25T22:14:23.472000-07:00",
     "iopub.status.busy": "2021-04-25T22:14:23.472000-07:00",
     "iopub.status.idle": "2021-04-25T22:14:23.583000-07:00",
     "shell.execute_reply": "2021-04-25T22:14:23.582000-07:00"
    },
    "tags": []
   },
   "outputs": [
    {
     "data": {
      "text/plain": [
       "Dict{Any, Any} with 9 entries:\n",
       "  \"FLush\"           => 18237\n",
       "  \"Straight\"        => 27598\n",
       "  \"pair\"            => 263571\n",
       "  \"Unfortunately\"   => 104437\n",
       "  \"Two pair\"        => 140590\n",
       "  \"Straight flush\"  => 183\n",
       "  \"Full house\"      => 15598\n",
       "  \"three of a kind\" => 28778\n",
       "  \"Four of a kind\"  => 1008"
      ]
     },
     "execution_count": 433,
     "metadata": {},
     "output_type": "execute_result"
    }
   ],
   "source": [
    "hist_c =hist(classification)"
   ]
  },
  {
   "cell_type": "code",
   "execution_count": 434,
   "id": "32f62acd-c34c-46e9-bd72-77323c44e098",
   "metadata": {
    "execution": {
     "iopub.execute_input": "2021-04-25T22:14:27.410000-07:00",
     "iopub.status.busy": "2021-04-25T22:14:27.410000-07:00",
     "iopub.status.idle": "2021-04-25T22:14:27.642000-07:00",
     "shell.execute_reply": "2021-04-25T22:14:27.641000-07:00"
    },
    "tags": []
   },
   "outputs": [],
   "source": [
    "using DataFrames\n",
    "df = DataFrame(\n",
    "    classificaiton = [String(k[2]) for k in sort([(j,i) for (i,j) in hist_c])],\n",
    "    num = [k[1] for k in sort([(j,i) for (i,j) in hist_c])]\n",
    ");"
   ]
  },
  {
   "cell_type": "code",
   "execution_count": 435,
   "id": "d3523e26-b50c-459e-9b1d-5691a3608f54",
   "metadata": {
    "execution": {
     "iopub.execute_input": "2021-04-25T22:14:30.113000-07:00",
     "iopub.status.busy": "2021-04-25T22:14:30.112000-07:00",
     "iopub.status.idle": "2021-04-25T22:14:30.156000-07:00",
     "shell.execute_reply": "2021-04-25T22:14:30.156000-07:00"
    },
    "tags": []
   },
   "outputs": [
    {
     "data": {
      "application/vnd.plotly.v1+json": {
       "data": [
        {
         "colorbar": {
          "title": {
           "text": ""
          }
         },
         "legendgroup": "FLush",
         "marker": {
          "color": "rgba(0, 154, 250, 1.000)",
          "line": {
           "color": "rgba(0, 0, 0, 1)",
           "width": 1
          },
          "size": 8,
          "symbol": "circle"
         },
         "mode": "markers",
         "name": "FLush",
         "showlegend": true,
         "type": "scatter",
         "x": [
          4
         ],
         "xaxis": "x",
         "y": [
          18237
         ],
         "yaxis": "y",
         "zmax": null,
         "zmin": null
        },
        {
         "colorbar": {
          "title": {
           "text": ""
          }
         },
         "legendgroup": "Four of a kind",
         "marker": {
          "color": "rgba(227, 111, 71, 1.000)",
          "line": {
           "color": "rgba(0, 0, 0, 1)",
           "width": 1
          },
          "size": 8,
          "symbol": "circle"
         },
         "mode": "markers",
         "name": "Four of a kind",
         "showlegend": true,
         "type": "scatter",
         "x": [
          2
         ],
         "xaxis": "x",
         "y": [
          1008
         ],
         "yaxis": "y",
         "zmax": null,
         "zmin": null
        },
        {
         "colorbar": {
          "title": {
           "text": ""
          }
         },
         "legendgroup": "Full house",
         "marker": {
          "color": "rgba(62, 164, 78, 1.000)",
          "line": {
           "color": "rgba(0, 0, 0, 1)",
           "width": 1
          },
          "size": 8,
          "symbol": "circle"
         },
         "mode": "markers",
         "name": "Full house",
         "showlegend": true,
         "type": "scatter",
         "x": [
          3
         ],
         "xaxis": "x",
         "y": [
          15598
         ],
         "yaxis": "y",
         "zmax": null,
         "zmin": null
        },
        {
         "colorbar": {
          "title": {
           "text": ""
          }
         },
         "legendgroup": "Straight",
         "marker": {
          "color": "rgba(195, 113, 210, 1.000)",
          "line": {
           "color": "rgba(0, 0, 0, 1)",
           "width": 1
          },
          "size": 8,
          "symbol": "circle"
         },
         "mode": "markers",
         "name": "Straight",
         "showlegend": true,
         "type": "scatter",
         "x": [
          5
         ],
         "xaxis": "x",
         "y": [
          27598
         ],
         "yaxis": "y",
         "zmax": null,
         "zmin": null
        },
        {
         "colorbar": {
          "title": {
           "text": ""
          }
         },
         "legendgroup": "Straight flush",
         "marker": {
          "color": "rgba(172, 142, 24, 1.000)",
          "line": {
           "color": "rgba(0, 0, 0, 1)",
           "width": 1
          },
          "size": 8,
          "symbol": "circle"
         },
         "mode": "markers",
         "name": "Straight flush",
         "showlegend": true,
         "type": "scatter",
         "x": [
          1
         ],
         "xaxis": "x",
         "y": [
          183
         ],
         "yaxis": "y",
         "zmax": null,
         "zmin": null
        },
        {
         "colorbar": {
          "title": {
           "text": ""
          }
         },
         "legendgroup": "Two pair",
         "marker": {
          "color": "rgba(0, 170, 174, 1.000)",
          "line": {
           "color": "rgba(0, 0, 0, 1)",
           "width": 1
          },
          "size": 8,
          "symbol": "circle"
         },
         "mode": "markers",
         "name": "Two pair",
         "showlegend": true,
         "type": "scatter",
         "x": [
          8
         ],
         "xaxis": "x",
         "y": [
          140590
         ],
         "yaxis": "y",
         "zmax": null,
         "zmin": null
        },
        {
         "colorbar": {
          "title": {
           "text": ""
          }
         },
         "legendgroup": "Unfortunately",
         "marker": {
          "color": "rgba(237, 94, 147, 1.000)",
          "line": {
           "color": "rgba(0, 0, 0, 1)",
           "width": 1
          },
          "size": 8,
          "symbol": "circle"
         },
         "mode": "markers",
         "name": "Unfortunately",
         "showlegend": true,
         "type": "scatter",
         "visible": "legendonly",
         "x": [
          7
         ],
         "xaxis": "x",
         "y": [
          104437
         ],
         "yaxis": "y",
         "zmax": null,
         "zmin": null
        },
        {
         "colorbar": {
          "title": {
           "text": ""
          }
         },
         "legendgroup": "pair",
         "marker": {
          "color": "rgba(198, 130, 37, 1.000)",
          "line": {
           "color": "rgba(0, 0, 0, 1)",
           "width": 1
          },
          "size": 8,
          "symbol": "circle"
         },
         "mode": "markers",
         "name": "pair",
         "showlegend": true,
         "type": "scatter",
         "x": [
          9
         ],
         "xaxis": "x",
         "y": [
          263571
         ],
         "yaxis": "y",
         "zmax": null,
         "zmin": null
        },
        {
         "colorbar": {
          "title": {
           "text": ""
          }
         },
         "legendgroup": "three of a kind",
         "marker": {
          "color": "rgba(0, 169, 141, 1.000)",
          "line": {
           "color": "rgba(0, 0, 0, 1)",
           "width": 1
          },
          "size": 8,
          "symbol": "circle"
         },
         "mode": "markers",
         "name": "three of a kind",
         "showlegend": true,
         "type": "scatter",
         "x": [
          6
         ],
         "xaxis": "x",
         "y": [
          28778
         ],
         "yaxis": "y",
         "zmax": null,
         "zmin": null
        }
       ],
       "layout": {
        "annotations": [],
        "height": 400,
        "legend": {
         "bgcolor": "rgba(255, 255, 255, 1.000)",
         "bordercolor": "rgba(0, 0, 0, 1)",
         "font": {
          "color": "rgba(0, 0, 0, 1)",
          "family": "sans-serif",
          "size": 11
         },
         "tracegroupgap": 0,
         "x": 1,
         "y": 1
        },
        "margin": {
         "b": 20,
         "l": 0,
         "r": 0,
         "t": 20
        },
        "paper_bgcolor": "rgba(255, 255, 255, 1.000)",
        "plot_bgcolor": "rgba(255, 255, 255, 1.000)",
        "showlegend": true,
        "width": 600,
        "xaxis": {
         "anchor": "y",
         "domain": [
          0.11026538349372993,
          0.9934383202099738
         ],
         "gridcolor": "rgba(0, 0, 0, 0.1)",
         "gridwidth": 0.5,
         "linecolor": "rgba(0, 0, 0, 1)",
         "mirror": false,
         "range": [
          0.76,
          9.24
         ],
         "showgrid": true,
         "showline": true,
         "showticklabels": true,
         "tickangle": 0,
         "tickcolor": "rgb(0, 0, 0)",
         "tickfont": {
          "color": "rgba(0, 0, 0, 1)",
          "family": "sans-serif",
          "size": 11
         },
         "tickmode": "array",
         "ticks": "inside",
         "ticktext": [
          "2",
          "4",
          "6",
          "8"
         ],
         "tickvals": [
          2,
          4,
          6,
          8
         ],
         "title": {
          "font": {
           "color": "rgba(0, 0, 0, 1)",
           "family": "sans-serif",
           "size": 15
          },
          "text": ""
         },
         "type": "linear",
         "visible": true,
         "zeroline": false,
         "zerolinecolor": "rgba(0, 0, 0, 1)"
        },
        "yaxis": {
         "anchor": "x",
         "domain": [
          0.03762029746281716,
          0.9901574803149606
         ],
         "gridcolor": "rgba(0, 0, 0, 0.1)",
         "gridwidth": 0.5,
         "linecolor": "rgba(0, 0, 0, 1)",
         "mirror": false,
         "range": [
          -7718.639999999999,
          271472.64
         ],
         "showgrid": true,
         "showline": true,
         "showticklabels": true,
         "tickangle": 0,
         "tickcolor": "rgb(0, 0, 0)",
         "tickfont": {
          "color": "rgba(0, 0, 0, 1)",
          "family": "sans-serif",
          "size": 11
         },
         "tickmode": "array",
         "ticks": "inside",
         "ticktext": [
          "0",
          "5.0×10⁴",
          "1.0×10⁵",
          "1.5×10⁵",
          "2.0×10⁵",
          "2.5×10⁵"
         ],
         "tickvals": [
          0,
          50000,
          100000,
          150000,
          200000,
          250000
         ],
         "title": {
          "font": {
           "color": "rgba(0, 0, 0, 1)",
           "family": "sans-serif",
           "size": 15
          },
          "text": ""
         },
         "type": "linear",
         "visible": true,
         "zeroline": false,
         "zerolinecolor": "rgba(0, 0, 0, 1)"
        }
       }
      },
      "image/png": "[encoded data removed]",
      "text/html": [
       "<!DOCTYPE html>\n",
       "<html>\n",
       "    <head>\n",
       "        <title>Plots.jl</title>\n",
       "        <meta http-equiv=\"content-type\" content=\"text/html; charset=UTF-8\">\n",
       "        <script src=\"https://cdn.plot.ly/plotly-latest.min.js\"></script>\n",
       "    </head>\n",
       "    <body>\n",
       "            <div id=\"50ccb156-957a-47c6-886c-b4969505046c\" style=\"width:600px;height:400px;\"></div>\n",
       "    <script>\n",
       "    PLOT = document.getElementById('50ccb156-957a-47c6-886c-b4969505046c');\n",
       "    Plotly.plot(PLOT, [\n",
       "    {\n",
       "        \"xaxis\": \"x1\",\n",
       "        \"colorbar\": {\n",
       "            \"title\": \"\"\n",
       "        },\n",
       "        \"yaxis\": \"y1\",\n",
       "        \"x\": [\n",
       "            4\n",
       "        ],\n",
       "        \"showlegend\": true,\n",
       "        \"mode\": \"markers\",\n",
       "        \"name\": \"FLush\",\n",
       "        \"zmin\": null,\n",
       "        \"legendgroup\": \"FLush\",\n",
       "        \"marker\": {\n",
       "            \"symbol\": \"circle\",\n",
       "            \"color\": \"rgba(0, 154, 250, 1.000)\",\n",
       "            \"line\": {\n",
       "                \"color\": \"rgba(0, 0, 0, 1.000)\",\n",
       "                \"width\": 1\n",
       "            },\n",
       "            \"size\": 8\n",
       "        },\n",
       "        \"zmax\": null,\n",
       "        \"y\": [\n",
       "            18237.0\n",
       "        ],\n",
       "        \"type\": \"scatter\"\n",
       "    },\n",
       "    {\n",
       "        \"xaxis\": \"x1\",\n",
       "        \"colorbar\": {\n",
       "            \"title\": \"\"\n",
       "        },\n",
       "        \"yaxis\": \"y1\",\n",
       "        \"x\": [\n",
       "            2\n",
       "        ],\n",
       "        \"showlegend\": true,\n",
       "        \"mode\": \"markers\",\n",
       "        \"name\": \"Four of a kind\",\n",
       "        \"zmin\": null,\n",
       "        \"legendgroup\": \"Four of a kind\",\n",
       "        \"marker\": {\n",
       "            \"symbol\": \"circle\",\n",
       "            \"color\": \"rgba(227, 111, 71, 1.000)\",\n",
       "            \"line\": {\n",
       "                \"color\": \"rgba(0, 0, 0, 1.000)\",\n",
       "                \"width\": 1\n",
       "            },\n",
       "            \"size\": 8\n",
       "        },\n",
       "        \"zmax\": null,\n",
       "        \"y\": [\n",
       "            1008.0\n",
       "        ],\n",
       "        \"type\": \"scatter\"\n",
       "    },\n",
       "    {\n",
       "        \"xaxis\": \"x1\",\n",
       "        \"colorbar\": {\n",
       "            \"title\": \"\"\n",
       "        },\n",
       "        \"yaxis\": \"y1\",\n",
       "        \"x\": [\n",
       "            3\n",
       "        ],\n",
       "        \"showlegend\": true,\n",
       "        \"mode\": \"markers\",\n",
       "        \"name\": \"Full house\",\n",
       "        \"zmin\": null,\n",
       "        \"legendgroup\": \"Full house\",\n",
       "        \"marker\": {\n",
       "            \"symbol\": \"circle\",\n",
       "            \"color\": \"rgba(62, 164, 78, 1.000)\",\n",
       "            \"line\": {\n",
       "                \"color\": \"rgba(0, 0, 0, 1.000)\",\n",
       "                \"width\": 1\n",
       "            },\n",
       "            \"size\": 8\n",
       "        },\n",
       "        \"zmax\": null,\n",
       "        \"y\": [\n",
       "            15598.0\n",
       "        ],\n",
       "        \"type\": \"scatter\"\n",
       "    },\n",
       "    {\n",
       "        \"xaxis\": \"x1\",\n",
       "        \"colorbar\": {\n",
       "            \"title\": \"\"\n",
       "        },\n",
       "        \"yaxis\": \"y1\",\n",
       "        \"x\": [\n",
       "            5\n",
       "        ],\n",
       "        \"showlegend\": true,\n",
       "        \"mode\": \"markers\",\n",
       "        \"name\": \"Straight\",\n",
       "        \"zmin\": null,\n",
       "        \"legendgroup\": \"Straight\",\n",
       "        \"marker\": {\n",
       "            \"symbol\": \"circle\",\n",
       "            \"color\": \"rgba(195, 113, 210, 1.000)\",\n",
       "            \"line\": {\n",
       "                \"color\": \"rgba(0, 0, 0, 1.000)\",\n",
       "                \"width\": 1\n",
       "            },\n",
       "            \"size\": 8\n",
       "        },\n",
       "        \"zmax\": null,\n",
       "        \"y\": [\n",
       "            27598.0\n",
       "        ],\n",
       "        \"type\": \"scatter\"\n",
       "    },\n",
       "    {\n",
       "        \"xaxis\": \"x1\",\n",
       "        \"colorbar\": {\n",
       "            \"title\": \"\"\n",
       "        },\n",
       "        \"yaxis\": \"y1\",\n",
       "        \"x\": [\n",
       "            1\n",
       "        ],\n",
       "        \"showlegend\": true,\n",
       "        \"mode\": \"markers\",\n",
       "        \"name\": \"Straight flush\",\n",
       "        \"zmin\": null,\n",
       "        \"legendgroup\": \"Straight flush\",\n",
       "        \"marker\": {\n",
       "            \"symbol\": \"circle\",\n",
       "            \"color\": \"rgba(172, 142, 24, 1.000)\",\n",
       "            \"line\": {\n",
       "                \"color\": \"rgba(0, 0, 0, 1.000)\",\n",
       "                \"width\": 1\n",
       "            },\n",
       "            \"size\": 8\n",
       "        },\n",
       "        \"zmax\": null,\n",
       "        \"y\": [\n",
       "            183.0\n",
       "        ],\n",
       "        \"type\": \"scatter\"\n",
       "    },\n",
       "    {\n",
       "        \"xaxis\": \"x1\",\n",
       "        \"colorbar\": {\n",
       "            \"title\": \"\"\n",
       "        },\n",
       "        \"yaxis\": \"y1\",\n",
       "        \"x\": [\n",
       "            8\n",
       "        ],\n",
       "        \"showlegend\": true,\n",
       "        \"mode\": \"markers\",\n",
       "        \"name\": \"Two pair\",\n",
       "        \"zmin\": null,\n",
       "        \"legendgroup\": \"Two pair\",\n",
       "        \"marker\": {\n",
       "            \"symbol\": \"circle\",\n",
       "            \"color\": \"rgba(0, 170, 174, 1.000)\",\n",
       "            \"line\": {\n",
       "                \"color\": \"rgba(0, 0, 0, 1.000)\",\n",
       "                \"width\": 1\n",
       "            },\n",
       "            \"size\": 8\n",
       "        },\n",
       "        \"zmax\": null,\n",
       "        \"y\": [\n",
       "            140590.0\n",
       "        ],\n",
       "        \"type\": \"scatter\"\n",
       "    },\n",
       "    {\n",
       "        \"xaxis\": \"x1\",\n",
       "        \"colorbar\": {\n",
       "            \"title\": \"\"\n",
       "        },\n",
       "        \"yaxis\": \"y1\",\n",
       "        \"x\": [\n",
       "            7\n",
       "        ],\n",
       "        \"showlegend\": true,\n",
       "        \"mode\": \"markers\",\n",
       "        \"name\": \"Unfortunately\",\n",
       "        \"zmin\": null,\n",
       "        \"legendgroup\": \"Unfortunately\",\n",
       "        \"marker\": {\n",
       "            \"symbol\": \"circle\",\n",
       "            \"color\": \"rgba(237, 94, 147, 1.000)\",\n",
       "            \"line\": {\n",
       "                \"color\": \"rgba(0, 0, 0, 1.000)\",\n",
       "                \"width\": 1\n",
       "            },\n",
       "            \"size\": 8\n",
       "        },\n",
       "        \"zmax\": null,\n",
       "        \"y\": [\n",
       "            104437.0\n",
       "        ],\n",
       "        \"type\": \"scatter\"\n",
       "    },\n",
       "    {\n",
       "        \"xaxis\": \"x1\",\n",
       "        \"colorbar\": {\n",
       "            \"title\": \"\"\n",
       "        },\n",
       "        \"yaxis\": \"y1\",\n",
       "        \"x\": [\n",
       "            9\n",
       "        ],\n",
       "        \"showlegend\": true,\n",
       "        \"mode\": \"markers\",\n",
       "        \"name\": \"pair\",\n",
       "        \"zmin\": null,\n",
       "        \"legendgroup\": \"pair\",\n",
       "        \"marker\": {\n",
       "            \"symbol\": \"circle\",\n",
       "            \"color\": \"rgba(198, 130, 37, 1.000)\",\n",
       "            \"line\": {\n",
       "                \"color\": \"rgba(0, 0, 0, 1.000)\",\n",
       "                \"width\": 1\n",
       "            },\n",
       "            \"size\": 8\n",
       "        },\n",
       "        \"zmax\": null,\n",
       "        \"y\": [\n",
       "            263571.0\n",
       "        ],\n",
       "        \"type\": \"scatter\"\n",
       "    },\n",
       "    {\n",
       "        \"xaxis\": \"x1\",\n",
       "        \"colorbar\": {\n",
       "            \"title\": \"\"\n",
       "        },\n",
       "        \"yaxis\": \"y1\",\n",
       "        \"x\": [\n",
       "            6\n",
       "        ],\n",
       "        \"showlegend\": true,\n",
       "        \"mode\": \"markers\",\n",
       "        \"name\": \"three of a kind\",\n",
       "        \"zmin\": null,\n",
       "        \"legendgroup\": \"three of a kind\",\n",
       "        \"marker\": {\n",
       "            \"symbol\": \"circle\",\n",
       "            \"color\": \"rgba(0, 169, 141, 1.000)\",\n",
       "            \"line\": {\n",
       "                \"color\": \"rgba(0, 0, 0, 1.000)\",\n",
       "                \"width\": 1\n",
       "            },\n",
       "            \"size\": 8\n",
       "        },\n",
       "        \"zmax\": null,\n",
       "        \"y\": [\n",
       "            28778.0\n",
       "        ],\n",
       "        \"type\": \"scatter\"\n",
       "    }\n",
       "]\n",
       ", {\n",
       "    \"showlegend\": true,\n",
       "    \"xaxis\": {\n",
       "        \"showticklabels\": true,\n",
       "        \"gridwidth\": 0.5,\n",
       "        \"tickvals\": [\n",
       "            2.0,\n",
       "            4.0,\n",
       "            6.0,\n",
       "            8.0\n",
       "        ],\n",
       "        \"range\": [\n",
       "            0.76,\n",
       "            9.24\n",
       "        ],\n",
       "        \"domain\": [\n",
       "            0.11026538349372993,\n",
       "            0.9934383202099738\n",
       "        ],\n",
       "        \"mirror\": false,\n",
       "        \"tickangle\": 0,\n",
       "        \"showline\": true,\n",
       "        \"ticktext\": [\n",
       "            \"2\",\n",
       "            \"4\",\n",
       "            \"6\",\n",
       "            \"8\"\n",
       "        ],\n",
       "        \"zeroline\": false,\n",
       "        \"tickfont\": {\n",
       "            \"color\": \"rgba(0, 0, 0, 1.000)\",\n",
       "            \"family\": \"sans-serif\",\n",
       "            \"size\": 11\n",
       "        },\n",
       "        \"zerolinecolor\": \"rgba(0, 0, 0, 1.000)\",\n",
       "        \"anchor\": \"y1\",\n",
       "        \"visible\": true,\n",
       "        \"ticks\": \"inside\",\n",
       "        \"tickmode\": \"array\",\n",
       "        \"linecolor\": \"rgba(0, 0, 0, 1.000)\",\n",
       "        \"showgrid\": true,\n",
       "        \"title\": \"\",\n",
       "        \"gridcolor\": \"rgba(0, 0, 0, 0.100)\",\n",
       "        \"titlefont\": {\n",
       "            \"color\": \"rgba(0, 0, 0, 1.000)\",\n",
       "            \"family\": \"sans-serif\",\n",
       "            \"size\": 15\n",
       "        },\n",
       "        \"tickcolor\": \"rgb(0, 0, 0)\",\n",
       "        \"type\": \"-\"\n",
       "    },\n",
       "    \"paper_bgcolor\": \"rgba(255, 255, 255, 1.000)\",\n",
       "    \"annotations\": [],\n",
       "    \"height\": 400,\n",
       "    \"margin\": {\n",
       "        \"l\": 0,\n",
       "        \"b\": 20,\n",
       "        \"r\": 0,\n",
       "        \"t\": 20\n",
       "    },\n",
       "    \"plot_bgcolor\": \"rgba(255, 255, 255, 1.000)\",\n",
       "    \"yaxis\": {\n",
       "        \"showticklabels\": true,\n",
       "        \"gridwidth\": 0.5,\n",
       "        \"tickvals\": [\n",
       "            0.0,\n",
       "            50000.0,\n",
       "            100000.0,\n",
       "            150000.0,\n",
       "            200000.0,\n",
       "            250000.0\n",
       "        ],\n",
       "        \"range\": [\n",
       "            -7718.639999999999,\n",
       "            271472.64\n",
       "        ],\n",
       "        \"domain\": [\n",
       "            0.03762029746281716,\n",
       "            0.9901574803149606\n",
       "        ],\n",
       "        \"mirror\": false,\n",
       "        \"tickangle\": 0,\n",
       "        \"showline\": true,\n",
       "        \"ticktext\": [\n",
       "            \"0\",\n",
       "            \"5.0×10⁴\",\n",
       "            \"1.0×10⁵\",\n",
       "            \"1.5×10⁵\",\n",
       "            \"2.0×10⁵\",\n",
       "            \"2.5×10⁵\"\n",
       "        ],\n",
       "        \"zeroline\": false,\n",
       "        \"tickfont\": {\n",
       "            \"color\": \"rgba(0, 0, 0, 1.000)\",\n",
       "            \"family\": \"sans-serif\",\n",
       "            \"size\": 11\n",
       "        },\n",
       "        \"zerolinecolor\": \"rgba(0, 0, 0, 1.000)\",\n",
       "        \"anchor\": \"x1\",\n",
       "        \"visible\": true,\n",
       "        \"ticks\": \"inside\",\n",
       "        \"tickmode\": \"array\",\n",
       "        \"linecolor\": \"rgba(0, 0, 0, 1.000)\",\n",
       "        \"showgrid\": true,\n",
       "        \"title\": \"\",\n",
       "        \"gridcolor\": \"rgba(0, 0, 0, 0.100)\",\n",
       "        \"titlefont\": {\n",
       "            \"color\": \"rgba(0, 0, 0, 1.000)\",\n",
       "            \"family\": \"sans-serif\",\n",
       "            \"size\": 15\n",
       "        },\n",
       "        \"tickcolor\": \"rgb(0, 0, 0)\",\n",
       "        \"type\": \"-\"\n",
       "    },\n",
       "    \"legend\": {\n",
       "        \"tracegroupgap\": 0,\n",
       "        \"bordercolor\": \"rgba(0, 0, 0, 1.000)\",\n",
       "        \"bgcolor\": \"rgba(255, 255, 255, 1.000)\",\n",
       "        \"font\": {\n",
       "            \"color\": \"rgba(0, 0, 0, 1.000)\",\n",
       "            \"family\": \"sans-serif\",\n",
       "            \"size\": 11\n",
       "        },\n",
       "        \"y\": 1.0,\n",
       "        \"x\": 1.0\n",
       "    },\n",
       "    \"width\": 600\n",
       "}\n",
       ");\n",
       "    </script>\n",
       "\n",
       "    </body>\n",
       "</html>\n"
      ]
     },
     "execution_count": 435,
     "metadata": {},
     "output_type": "execute_result"
    }
   ],
   "source": [
    "using Plots,StatsPlots\n",
    "\n",
    "plotly()\n",
    "@df df plot(\n",
    "    :num,\n",
    "    seriestype=:scatter,\n",
    "    group = :classificaiton\n",
    ")"
   ]
  },
  {
   "cell_type": "code",
   "execution_count": 413,
   "id": "ffd57c06-3fa7-471a-abff-30e5a84cdb1d",
   "metadata": {
    "execution": {
     "iopub.execute_input": "2021-04-25T21:03:34.395000-07:00",
     "iopub.status.busy": "2021-04-25T21:03:34.394000-07:00",
     "iopub.status.idle": "2021-04-25T21:03:34.964000-07:00",
     "shell.execute_reply": "2021-04-25T21:03:34.964000-07:00"
    },
    "tags": []
   },
   "outputs": [
    {
     "data": {
      "text/plain": [
       "9-element Vector{String}:\n",
       " \"FLush\"\n",
       " \"Straight\"\n",
       " \"pair\"\n",
       " \"Unfortunately\"\n",
       " \"Two pair\"\n",
       " \"Straight flush\"\n",
       " \"Full house\"\n",
       " \"three of a kind\"\n",
       " \"Four of a kind\""
      ]
     },
     "execution_count": 413,
     "metadata": {},
     "output_type": "execute_result"
    }
   ],
   "source": [
    "df.classificaiton"
   ]
  },
  {
   "cell_type": "code",
   "execution_count": 331,
   "id": "5b1959ef-8575-4882-ad97-47b50df9fff4",
   "metadata": {
    "execution": {
     "iopub.execute_input": "2021-04-25T20:34:47.831000-07:00",
     "iopub.status.busy": "2021-04-25T20:34:47.831000-07:00",
     "iopub.status.idle": "2021-04-25T20:34:47.833000-07:00",
     "shell.execute_reply": "2021-04-25T20:34:47.832000-07:00"
    },
    "tags": []
   },
   "outputs": [
    {
     "data": {
      "text/plain": [
       "Card[4♣, 5♣, 7♦, J♦, 8❤, 10❤, 3♠, 6♠, 7♠, K♠]\tStraight"
      ]
     },
     "execution_count": 331,
     "metadata": {},
     "output_type": "execute_result"
    }
   ],
   "source": [
    "sort!(c[3])"
   ]
  }
 ],
 "metadata": {
  "kernelspec": {
   "display_name": "Julia 1.6.0",
   "language": "julia",
   "name": "julia-1.6"
  },
  "language_info": {
   "file_extension": ".jl",
   "mimetype": "application/julia",
   "name": "julia",
   "version": "1.6.0"
  }
 },
 "nbformat": 4,
 "nbformat_minor": 5
}
