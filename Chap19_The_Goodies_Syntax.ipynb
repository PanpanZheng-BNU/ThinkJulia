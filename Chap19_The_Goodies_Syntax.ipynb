{
 "cells": [
  {
   "cell_type": "markdown",
   "id": "80703a92-b988-41f7-a82d-32f10229ad12",
   "metadata": {},
   "source": [
    "# The Goodies: Syntax\n",
    "## Named Tuples"
   ]
  },
  {
   "cell_type": "code",
   "execution_count": 1,
   "id": "3882fa71-9f00-40e4-b72b-3e8189641e84",
   "metadata": {
    "execution": {
     "iopub.execute_input": "2021-04-25T22:20:44.257000-07:00",
     "iopub.status.busy": "2021-04-25T22:20:43.583000-07:00",
     "iopub.status.idle": "2021-04-25T22:20:45.166000-07:00",
     "shell.execute_reply": "2021-04-25T22:20:45.134000-07:00"
    },
    "tags": []
   },
   "outputs": [
    {
     "data": {
      "text/plain": [
       "(a = 1, b = 2)"
      ]
     },
     "execution_count": 1,
     "metadata": {},
     "output_type": "execute_result"
    }
   ],
   "source": [
    "x = (a = 1, b = 1+1)"
   ]
  },
  {
   "cell_type": "code",
   "execution_count": 2,
   "id": "ad95b001-553f-4bae-9505-4965414355d0",
   "metadata": {
    "execution": {
     "iopub.execute_input": "2021-04-25T22:20:47.820000-07:00",
     "iopub.status.busy": "2021-04-25T22:20:47.820000-07:00",
     "iopub.status.idle": "2021-04-25T22:20:48.105000-07:00",
     "shell.execute_reply": "2021-04-25T22:20:48.105000-07:00"
    },
    "tags": []
   },
   "outputs": [
    {
     "data": {
      "text/plain": [
       "1"
      ]
     },
     "execution_count": 2,
     "metadata": {},
     "output_type": "execute_result"
    }
   ],
   "source": [
    "x.a"
   ]
  },
  {
   "cell_type": "code",
   "execution_count": 3,
   "id": "613f2af4-bf1e-4586-b471-193dd391e48d",
   "metadata": {
    "execution": {
     "iopub.execute_input": "2021-04-25T22:20:50.718000-07:00",
     "iopub.status.busy": "2021-04-25T22:20:50.718000-07:00",
     "iopub.status.idle": "2021-04-25T22:20:50.719000-07:00",
     "shell.execute_reply": "2021-04-25T22:20:50.719000-07:00"
    },
    "tags": []
   },
   "outputs": [
    {
     "data": {
      "text/plain": [
       "2"
      ]
     },
     "execution_count": 3,
     "metadata": {},
     "output_type": "execute_result"
    }
   ],
   "source": [
    "x.b"
   ]
  },
  {
   "cell_type": "markdown",
   "id": "022b95c6-536c-441a-9dac-c6408d8b247a",
   "metadata": {},
   "source": [
    "## Functions"
   ]
  },
  {
   "cell_type": "code",
   "execution_count": 1,
   "id": "9b40d3ee-368f-4e6e-8cfc-e62627186516",
   "metadata": {
    "execution": {
     "iopub.execute_input": "2021-04-25T22:22:14.611000-07:00",
     "iopub.status.busy": "2021-04-25T22:22:13.941000-07:00",
     "iopub.status.idle": "2021-04-25T22:22:15.509000-07:00",
     "shell.execute_reply": "2021-04-25T22:22:15.480000-07:00"
    },
    "tags": []
   },
   "outputs": [
    {
     "data": {
      "text/plain": [
       "f (generic function with 1 method)"
      ]
     },
     "execution_count": 1,
     "metadata": {},
     "output_type": "execute_result"
    }
   ],
   "source": [
    "f(x::Int64,y::Int64) = x + y"
   ]
  },
  {
   "cell_type": "code",
   "execution_count": 4,
   "id": "f0523ac0-6a78-4854-b272-2461c4295afa",
   "metadata": {
    "execution": {
     "iopub.execute_input": "2021-04-25T22:22:52.290000-07:00",
     "iopub.status.busy": "2021-04-25T22:22:52.290000-07:00",
     "iopub.status.idle": "2021-04-25T22:22:52.292000-07:00",
     "shell.execute_reply": "2021-04-25T22:22:52.292000-07:00"
    },
    "tags": []
   },
   "outputs": [
    {
     "data": {
      "text/plain": [
       "f (generic function with 2 methods)"
      ]
     },
     "execution_count": 4,
     "metadata": {},
     "output_type": "execute_result"
    }
   ],
   "source": [
    "f(x::Float64,y::Float64) = x - y"
   ]
  },
  {
   "cell_type": "code",
   "execution_count": 5,
   "id": "68f20729-676d-47c5-b4f3-6dea336b176b",
   "metadata": {
    "execution": {
     "iopub.execute_input": "2021-04-25T22:22:55.132000-07:00",
     "iopub.status.busy": "2021-04-25T22:22:55.132000-07:00",
     "iopub.status.idle": "2021-04-25T22:22:55.133000-07:00",
     "shell.execute_reply": "2021-04-25T22:22:55.133000-07:00"
    },
    "tags": []
   },
   "outputs": [
    {
     "data": {
      "text/plain": [
       "3"
      ]
     },
     "execution_count": 5,
     "metadata": {},
     "output_type": "execute_result"
    }
   ],
   "source": [
    "f(1,2)"
   ]
  },
  {
   "cell_type": "code",
   "execution_count": 6,
   "id": "2e1512f3-46e3-4cd0-9b3a-67a4e62465f7",
   "metadata": {
    "execution": {
     "iopub.execute_input": "2021-04-25T22:23:00.127000-07:00",
     "iopub.status.busy": "2021-04-25T22:23:00.127000-07:00",
     "iopub.status.idle": "2021-04-25T22:23:00.462000-07:00",
     "shell.execute_reply": "2021-04-25T22:23:00.461000-07:00"
    },
    "tags": []
   },
   "outputs": [
    {
     "data": {
      "text/plain": [
       "-1.0"
      ]
     },
     "execution_count": 6,
     "metadata": {},
     "output_type": "execute_result"
    }
   ],
   "source": [
    "f(1.0,2.0)"
   ]
  },
  {
   "cell_type": "markdown",
   "id": "26bc242f-0ab9-4e2f-bed4-37cbd481d977",
   "metadata": {},
   "source": [
    "### Anonymous Functions\n",
    "* Anonymous functions are often used **as arguments to anthor funcitons.**"
   ]
  },
  {
   "cell_type": "code",
   "execution_count": 8,
   "id": "f3901f92-5ce9-4e86-905c-a9d9e75f19ef",
   "metadata": {
    "execution": {
     "iopub.execute_input": "2021-04-25T22:23:31.353000-07:00",
     "iopub.status.busy": "2021-04-25T22:23:31.353000-07:00",
     "iopub.status.idle": "2021-04-25T22:23:31.467000-07:00",
     "shell.execute_reply": "2021-04-25T22:23:31.466000-07:00"
    },
    "tags": []
   },
   "outputs": [
    {
     "data": {
      "text/plain": [
       "#3 (generic function with 1 method)"
      ]
     },
     "execution_count": 8,
     "metadata": {},
     "output_type": "execute_result"
    }
   ],
   "source": [
    "x -> x^2 + 2x - 1"
   ]
  },
  {
   "cell_type": "code",
   "execution_count": 9,
   "id": "165e1206-6898-4fe5-920b-d3e18723df54",
   "metadata": {
    "execution": {
     "iopub.execute_input": "2021-04-25T22:25:04.925000-07:00",
     "iopub.status.busy": "2021-04-25T22:25:04.925000-07:00",
     "iopub.status.idle": "2021-04-25T22:25:05.147000-07:00",
     "shell.execute_reply": "2021-04-25T22:25:05.145000-07:00"
    },
    "tags": []
   },
   "outputs": [
    {
     "data": {
      "text/plain": [
       "#5 (generic function with 1 method)"
      ]
     },
     "execution_count": 9,
     "metadata": {},
     "output_type": "execute_result"
    }
   ],
   "source": [
    "function (x)\n",
    "    x^2 + 2x -1\n",
    "end"
   ]
  },
  {
   "cell_type": "code",
   "execution_count": 14,
   "id": "e4845c68-c2bc-4cf2-a1d9-95fca7e1fb94",
   "metadata": {
    "execution": {
     "iopub.execute_input": "2021-04-25T22:26:29.902000-07:00",
     "iopub.status.busy": "2021-04-25T22:26:29.902000-07:00",
     "iopub.status.idle": "2021-04-25T22:26:30.531000-07:00",
     "shell.execute_reply": "2021-04-25T22:26:30.530000-07:00"
    },
    "tags": []
   },
   "outputs": [
    {
     "data": {
      "image/svg+xml": [
       "<?xml version=\"1.0\" encoding=\"utf-8\"?>\n",
       "<svg xmlns=\"http://www.w3.org/2000/svg\" xmlns:xlink=\"http://www.w3.org/1999/xlink\" width=\"600\" height=\"400\" viewBox=\"0 0 2400 1600\">\n",
       "<defs>\n",
       "  <clipPath id=\"clip8500\">\n",
       "    <rect x=\"0\" y=\"0\" width=\"2400\" height=\"1600\"/>\n",
       "  </clipPath>\n",
       "</defs>\n",
       "<path clip-path=\"url(#clip8500)\" d=\"\n",
       "M0 1600 L2400 1600 L2400 0 L0 0  Z\n",
       "  \" fill=\"#ffffff\" fill-rule=\"evenodd\" fill-opacity=\"1\"/>\n",
       "<defs>\n",
       "  <clipPath id=\"clip8501\">\n",
       "    <rect x=\"480\" y=\"0\" width=\"1681\" height=\"1600\"/>\n",
       "  </clipPath>\n",
       "</defs>\n",
       "<path clip-path=\"url(#clip8500)\" d=\"\n",
       "M224.866 1423.18 L2352.76 1423.18 L2352.76 47.2441 L224.866 47.2441  Z\n",
       "  \" fill=\"#ffffff\" fill-rule=\"evenodd\" fill-opacity=\"1\"/>\n",
       "<defs>\n",
       "  <clipPath id=\"clip8502\">\n",
       "    <rect x=\"224\" y=\"47\" width=\"2129\" height=\"1377\"/>\n",
       "  </clipPath>\n",
       "</defs>\n",
       "<polyline clip-path=\"url(#clip8502)\" style=\"stroke:#000000; stroke-width:2; stroke-opacity:0.1; fill:none\" points=\"\n",
       "  285.09,1423.18 285.09,47.2441 \n",
       "  \"/>\n",
       "<polyline clip-path=\"url(#clip8502)\" style=\"stroke:#000000; stroke-width:2; stroke-opacity:0.1; fill:none\" points=\"\n",
       "  786.95,1423.18 786.95,47.2441 \n",
       "  \"/>\n",
       "<polyline clip-path=\"url(#clip8502)\" style=\"stroke:#000000; stroke-width:2; stroke-opacity:0.1; fill:none\" points=\"\n",
       "  1288.81,1423.18 1288.81,47.2441 \n",
       "  \"/>\n",
       "<polyline clip-path=\"url(#clip8502)\" style=\"stroke:#000000; stroke-width:2; stroke-opacity:0.1; fill:none\" points=\"\n",
       "  1790.67,1423.18 1790.67,47.2441 \n",
       "  \"/>\n",
       "<polyline clip-path=\"url(#clip8502)\" style=\"stroke:#000000; stroke-width:2; stroke-opacity:0.1; fill:none\" points=\"\n",
       "  2292.53,1423.18 2292.53,47.2441 \n",
       "  \"/>\n",
       "<polyline clip-path=\"url(#clip8502)\" style=\"stroke:#000000; stroke-width:2; stroke-opacity:0.1; fill:none\" points=\"\n",
       "  224.866,1373.42 2352.76,1373.42 \n",
       "  \"/>\n",
       "<polyline clip-path=\"url(#clip8502)\" style=\"stroke:#000000; stroke-width:2; stroke-opacity:0.1; fill:none\" points=\"\n",
       "  224.866,1102.99 2352.76,1102.99 \n",
       "  \"/>\n",
       "<polyline clip-path=\"url(#clip8502)\" style=\"stroke:#000000; stroke-width:2; stroke-opacity:0.1; fill:none\" points=\"\n",
       "  224.866,832.566 2352.76,832.566 \n",
       "  \"/>\n",
       "<polyline clip-path=\"url(#clip8502)\" style=\"stroke:#000000; stroke-width:2; stroke-opacity:0.1; fill:none\" points=\"\n",
       "  224.866,562.138 2352.76,562.138 \n",
       "  \"/>\n",
       "<polyline clip-path=\"url(#clip8502)\" style=\"stroke:#000000; stroke-width:2; stroke-opacity:0.1; fill:none\" points=\"\n",
       "  224.866,291.711 2352.76,291.711 \n",
       "  \"/>\n",
       "<polyline clip-path=\"url(#clip8500)\" style=\"stroke:#000000; stroke-width:4; stroke-opacity:1; fill:none\" points=\"\n",
       "  224.866,1423.18 2352.76,1423.18 \n",
       "  \"/>\n",
       "<polyline clip-path=\"url(#clip8500)\" style=\"stroke:#000000; stroke-width:4; stroke-opacity:1; fill:none\" points=\"\n",
       "  224.866,1423.18 224.866,47.2441 \n",
       "  \"/>\n",
       "<polyline clip-path=\"url(#clip8500)\" style=\"stroke:#000000; stroke-width:4; stroke-opacity:1; fill:none\" points=\"\n",
       "  285.09,1423.18 285.09,1406.67 \n",
       "  \"/>\n",
       "<polyline clip-path=\"url(#clip8500)\" style=\"stroke:#000000; stroke-width:4; stroke-opacity:1; fill:none\" points=\"\n",
       "  786.95,1423.18 786.95,1406.67 \n",
       "  \"/>\n",
       "<polyline clip-path=\"url(#clip8500)\" style=\"stroke:#000000; stroke-width:4; stroke-opacity:1; fill:none\" points=\"\n",
       "  1288.81,1423.18 1288.81,1406.67 \n",
       "  \"/>\n",
       "<polyline clip-path=\"url(#clip8500)\" style=\"stroke:#000000; stroke-width:4; stroke-opacity:1; fill:none\" points=\"\n",
       "  1790.67,1423.18 1790.67,1406.67 \n",
       "  \"/>\n",
       "<polyline clip-path=\"url(#clip8500)\" style=\"stroke:#000000; stroke-width:4; stroke-opacity:1; fill:none\" points=\"\n",
       "  2292.53,1423.18 2292.53,1406.67 \n",
       "  \"/>\n",
       "<polyline clip-path=\"url(#clip8500)\" style=\"stroke:#000000; stroke-width:4; stroke-opacity:1; fill:none\" points=\"\n",
       "  224.866,1373.42 250.401,1373.42 \n",
       "  \"/>\n",
       "<polyline clip-path=\"url(#clip8500)\" style=\"stroke:#000000; stroke-width:4; stroke-opacity:1; fill:none\" points=\"\n",
       "  224.866,1102.99 250.401,1102.99 \n",
       "  \"/>\n",
       "<polyline clip-path=\"url(#clip8500)\" style=\"stroke:#000000; stroke-width:4; stroke-opacity:1; fill:none\" points=\"\n",
       "  224.866,832.566 250.401,832.566 \n",
       "  \"/>\n",
       "<polyline clip-path=\"url(#clip8500)\" style=\"stroke:#000000; stroke-width:4; stroke-opacity:1; fill:none\" points=\"\n",
       "  224.866,562.138 250.401,562.138 \n",
       "  \"/>\n",
       "<polyline clip-path=\"url(#clip8500)\" style=\"stroke:#000000; stroke-width:4; stroke-opacity:1; fill:none\" points=\"\n",
       "  224.866,291.711 250.401,291.711 \n",
       "  \"/>\n",
       "<path clip-path=\"url(#clip8500)\" d=\"M 0 0 M266.606 1445.17 Q262.995 1445.17 261.166 1448.74 Q259.361 1452.28 259.361 1459.41 Q259.361 1466.51 261.166 1470.08 Q262.995 1473.62 266.606 1473.62 Q270.24 1473.62 272.046 1470.08 Q273.874 1466.51 273.874 1459.41 Q273.874 1452.28 272.046 1448.74 Q270.24 1445.17 266.606 1445.17 M266.606 1441.47 Q272.416 1441.47 275.472 1446.07 Q278.55 1450.66 278.55 1459.41 Q278.55 1468.13 275.472 1472.74 Q272.416 1477.32 266.606 1477.32 Q260.796 1477.32 257.717 1472.74 Q254.661 1468.13 254.661 1459.41 Q254.661 1450.66 257.717 1446.07 Q260.796 1441.47 266.606 1441.47 Z\" fill=\"#000000\" fill-rule=\"evenodd\" fill-opacity=\"1\" /><path clip-path=\"url(#clip8500)\" d=\"M 0 0 M283.62 1470.77 L288.504 1470.77 L288.504 1476.65 L283.62 1476.65 L283.62 1470.77 Z\" fill=\"#000000\" fill-rule=\"evenodd\" fill-opacity=\"1\" /><path clip-path=\"url(#clip8500)\" d=\"M 0 0 M303.573 1445.17 Q299.962 1445.17 298.133 1448.74 Q296.328 1452.28 296.328 1459.41 Q296.328 1466.51 298.133 1470.08 Q299.962 1473.62 303.573 1473.62 Q307.207 1473.62 309.013 1470.08 Q310.842 1466.51 310.842 1459.41 Q310.842 1452.28 309.013 1448.74 Q307.207 1445.17 303.573 1445.17 M303.573 1441.47 Q309.383 1441.47 312.439 1446.07 Q315.518 1450.66 315.518 1459.41 Q315.518 1468.13 312.439 1472.74 Q309.383 1477.32 303.573 1477.32 Q297.763 1477.32 294.684 1472.74 Q291.629 1468.13 291.629 1459.41 Q291.629 1450.66 294.684 1446.07 Q297.763 1441.47 303.573 1441.47 Z\" fill=\"#000000\" fill-rule=\"evenodd\" fill-opacity=\"1\" /><path clip-path=\"url(#clip8500)\" d=\"M 0 0 M763.617 1472.72 L779.936 1472.72 L779.936 1476.65 L757.992 1476.65 L757.992 1472.72 Q760.654 1469.96 765.237 1465.33 Q769.844 1460.68 771.024 1459.34 Q773.27 1456.81 774.149 1455.08 Q775.052 1453.32 775.052 1451.63 Q775.052 1448.87 773.108 1447.14 Q771.186 1445.4 768.085 1445.4 Q765.886 1445.4 763.432 1446.17 Q761.001 1446.93 758.224 1448.48 L758.224 1443.76 Q761.048 1442.62 763.501 1442.05 Q765.955 1441.47 767.992 1441.47 Q773.362 1441.47 776.557 1444.15 Q779.751 1446.84 779.751 1451.33 Q779.751 1453.46 778.941 1455.38 Q778.154 1457.28 776.048 1459.87 Q775.469 1460.54 772.367 1463.76 Q769.265 1466.95 763.617 1472.72 Z\" fill=\"#000000\" fill-rule=\"evenodd\" fill-opacity=\"1\" /><path clip-path=\"url(#clip8500)\" d=\"M 0 0 M785.006 1470.77 L789.89 1470.77 L789.89 1476.65 L785.006 1476.65 L785.006 1470.77 Z\" fill=\"#000000\" fill-rule=\"evenodd\" fill-opacity=\"1\" /><path clip-path=\"url(#clip8500)\" d=\"M 0 0 M795.006 1442.09 L813.362 1442.09 L813.362 1446.03 L799.288 1446.03 L799.288 1454.5 Q800.307 1454.15 801.325 1453.99 Q802.344 1453.8 803.362 1453.8 Q809.149 1453.8 812.529 1456.98 Q815.908 1460.15 815.908 1465.56 Q815.908 1471.14 812.436 1474.24 Q808.964 1477.32 802.645 1477.32 Q800.469 1477.32 798.2 1476.95 Q795.955 1476.58 793.547 1475.84 L793.547 1471.14 Q795.631 1472.28 797.853 1472.83 Q800.075 1473.39 802.552 1473.39 Q806.557 1473.39 808.895 1471.28 Q811.233 1469.18 811.233 1465.56 Q811.233 1461.95 808.895 1459.85 Q806.557 1457.74 802.552 1457.74 Q800.677 1457.74 798.802 1458.16 Q796.95 1458.57 795.006 1459.45 L795.006 1442.09 Z\" fill=\"#000000\" fill-rule=\"evenodd\" fill-opacity=\"1\" /><path clip-path=\"url(#clip8500)\" d=\"M 0 0 M1260.61 1442.09 L1278.96 1442.09 L1278.96 1446.03 L1264.89 1446.03 L1264.89 1454.5 Q1265.91 1454.15 1266.92 1453.99 Q1267.94 1453.8 1268.96 1453.8 Q1274.75 1453.8 1278.13 1456.98 Q1281.51 1460.15 1281.51 1465.56 Q1281.51 1471.14 1278.04 1474.24 Q1274.56 1477.32 1268.24 1477.32 Q1266.07 1477.32 1263.8 1476.95 Q1261.55 1476.58 1259.15 1475.84 L1259.15 1471.14 Q1261.23 1472.28 1263.45 1472.83 Q1265.67 1473.39 1268.15 1473.39 Q1272.16 1473.39 1274.49 1471.28 Q1276.83 1469.18 1276.83 1465.56 Q1276.83 1461.95 1274.49 1459.85 Q1272.16 1457.74 1268.15 1457.74 Q1266.28 1457.74 1264.4 1458.16 Q1262.55 1458.57 1260.61 1459.45 L1260.61 1442.09 Z\" fill=\"#000000\" fill-rule=\"evenodd\" fill-opacity=\"1\" /><path clip-path=\"url(#clip8500)\" d=\"M 0 0 M1286.58 1470.77 L1291.46 1470.77 L1291.46 1476.65 L1286.58 1476.65 L1286.58 1470.77 Z\" fill=\"#000000\" fill-rule=\"evenodd\" fill-opacity=\"1\" /><path clip-path=\"url(#clip8500)\" d=\"M 0 0 M1306.53 1445.17 Q1302.92 1445.17 1301.09 1448.74 Q1299.29 1452.28 1299.29 1459.41 Q1299.29 1466.51 1301.09 1470.08 Q1302.92 1473.62 1306.53 1473.62 Q1310.17 1473.62 1311.97 1470.08 Q1313.8 1466.51 1313.8 1459.41 Q1313.8 1452.28 1311.97 1448.74 Q1310.17 1445.17 1306.53 1445.17 M1306.53 1441.47 Q1312.34 1441.47 1315.4 1446.07 Q1318.48 1450.66 1318.48 1459.41 Q1318.48 1468.13 1315.4 1472.74 Q1312.34 1477.32 1306.53 1477.32 Q1300.72 1477.32 1297.64 1472.74 Q1294.59 1468.13 1294.59 1459.41 Q1294.59 1450.66 1297.64 1446.07 Q1300.72 1441.47 1306.53 1441.47 Z\" fill=\"#000000\" fill-rule=\"evenodd\" fill-opacity=\"1\" /><path clip-path=\"url(#clip8500)\" d=\"M 0 0 M1761.57 1442.09 L1783.8 1442.09 L1783.8 1444.08 L1771.25 1476.65 L1766.37 1476.65 L1778.17 1446.03 L1761.57 1446.03 L1761.57 1442.09 Z\" fill=\"#000000\" fill-rule=\"evenodd\" fill-opacity=\"1\" /><path clip-path=\"url(#clip8500)\" d=\"M 0 0 M1788.87 1470.77 L1793.75 1470.77 L1793.75 1476.65 L1788.87 1476.65 L1788.87 1470.77 Z\" fill=\"#000000\" fill-rule=\"evenodd\" fill-opacity=\"1\" /><path clip-path=\"url(#clip8500)\" d=\"M 0 0 M1798.87 1442.09 L1817.22 1442.09 L1817.22 1446.03 L1803.15 1446.03 L1803.15 1454.5 Q1804.17 1454.15 1805.19 1453.99 Q1806.2 1453.8 1807.22 1453.8 Q1813.01 1453.8 1816.39 1456.98 Q1819.77 1460.15 1819.77 1465.56 Q1819.77 1471.14 1816.3 1474.24 Q1812.82 1477.32 1806.51 1477.32 Q1804.33 1477.32 1802.06 1476.95 Q1799.82 1476.58 1797.41 1475.84 L1797.41 1471.14 Q1799.49 1472.28 1801.71 1472.83 Q1803.94 1473.39 1806.41 1473.39 Q1810.42 1473.39 1812.76 1471.28 Q1815.09 1469.18 1815.09 1465.56 Q1815.09 1461.95 1812.76 1459.85 Q1810.42 1457.74 1806.41 1457.74 Q1804.54 1457.74 1802.66 1458.16 Q1800.81 1458.57 1798.87 1459.45 L1798.87 1442.09 Z\" fill=\"#000000\" fill-rule=\"evenodd\" fill-opacity=\"1\" /><path clip-path=\"url(#clip8500)\" d=\"M 0 0 M2250.92 1472.72 L2258.56 1472.72 L2258.56 1446.35 L2250.25 1448.02 L2250.25 1443.76 L2258.52 1442.09 L2263.19 1442.09 L2263.19 1472.72 L2270.83 1472.72 L2270.83 1476.65 L2250.92 1476.65 L2250.92 1472.72 Z\" fill=\"#000000\" fill-rule=\"evenodd\" fill-opacity=\"1\" /><path clip-path=\"url(#clip8500)\" d=\"M 0 0 M2285.9 1445.17 Q2282.29 1445.17 2280.46 1448.74 Q2278.66 1452.28 2278.66 1459.41 Q2278.66 1466.51 2280.46 1470.08 Q2282.29 1473.62 2285.9 1473.62 Q2289.53 1473.62 2291.34 1470.08 Q2293.17 1466.51 2293.17 1459.41 Q2293.17 1452.28 2291.34 1448.74 Q2289.53 1445.17 2285.9 1445.17 M2285.9 1441.47 Q2291.71 1441.47 2294.77 1446.07 Q2297.85 1450.66 2297.85 1459.41 Q2297.85 1468.13 2294.77 1472.74 Q2291.71 1477.32 2285.9 1477.32 Q2280.09 1477.32 2277.01 1472.74 Q2273.96 1468.13 2273.96 1459.41 Q2273.96 1450.66 2277.01 1446.07 Q2280.09 1441.47 2285.9 1441.47 Z\" fill=\"#000000\" fill-rule=\"evenodd\" fill-opacity=\"1\" /><path clip-path=\"url(#clip8500)\" d=\"M 0 0 M2302.91 1470.77 L2307.8 1470.77 L2307.8 1476.65 L2302.91 1476.65 L2302.91 1470.77 Z\" fill=\"#000000\" fill-rule=\"evenodd\" fill-opacity=\"1\" /><path clip-path=\"url(#clip8500)\" d=\"M 0 0 M2322.87 1445.17 Q2319.26 1445.17 2317.43 1448.74 Q2315.62 1452.28 2315.62 1459.41 Q2315.62 1466.51 2317.43 1470.08 Q2319.26 1473.62 2322.87 1473.62 Q2326.5 1473.62 2328.31 1470.08 Q2330.14 1466.51 2330.14 1459.41 Q2330.14 1452.28 2328.31 1448.74 Q2326.5 1445.17 2322.87 1445.17 M2322.87 1441.47 Q2328.68 1441.47 2331.73 1446.07 Q2334.81 1450.66 2334.81 1459.41 Q2334.81 1468.13 2331.73 1472.74 Q2328.68 1477.32 2322.87 1477.32 Q2317.06 1477.32 2313.98 1472.74 Q2310.92 1468.13 2310.92 1459.41 Q2310.92 1450.66 2313.98 1446.07 Q2317.06 1441.47 2322.87 1441.47 Z\" fill=\"#000000\" fill-rule=\"evenodd\" fill-opacity=\"1\" /><path clip-path=\"url(#clip8500)\" d=\"M 0 0 M188.922 1359.22 Q185.311 1359.22 183.482 1362.78 Q181.677 1366.33 181.677 1373.46 Q181.677 1380.56 183.482 1384.13 Q185.311 1387.67 188.922 1387.67 Q192.556 1387.67 194.362 1384.13 Q196.19 1380.56 196.19 1373.46 Q196.19 1366.33 194.362 1362.78 Q192.556 1359.22 188.922 1359.22 M188.922 1355.52 Q194.732 1355.52 197.788 1360.12 Q200.866 1364.71 200.866 1373.46 Q200.866 1382.18 197.788 1386.79 Q194.732 1391.37 188.922 1391.37 Q183.112 1391.37 180.033 1386.79 Q176.977 1382.18 176.977 1373.46 Q176.977 1364.71 180.033 1360.12 Q183.112 1355.52 188.922 1355.52 Z\" fill=\"#000000\" fill-rule=\"evenodd\" fill-opacity=\"1\" /><path clip-path=\"url(#clip8500)\" d=\"M 0 0 M158.529 1116.34 L174.848 1116.34 L174.848 1120.27 L152.904 1120.27 L152.904 1116.34 Q155.566 1113.58 160.149 1108.95 Q164.755 1104.3 165.936 1102.96 Q168.181 1100.44 169.061 1098.7 Q169.964 1096.94 169.964 1095.25 Q169.964 1092.5 168.019 1090.76 Q166.098 1089.02 162.996 1089.02 Q160.797 1089.02 158.343 1089.79 Q155.913 1090.55 153.135 1092.1 L153.135 1087.38 Q155.959 1086.25 158.413 1085.67 Q160.866 1085.09 162.903 1085.09 Q168.274 1085.09 171.468 1087.77 Q174.663 1090.46 174.663 1094.95 Q174.663 1097.08 173.852 1099 Q173.065 1100.9 170.959 1103.49 Q170.38 1104.16 167.278 1107.38 Q164.177 1110.57 158.529 1116.34 Z\" fill=\"#000000\" fill-rule=\"evenodd\" fill-opacity=\"1\" /><path clip-path=\"url(#clip8500)\" d=\"M 0 0 M179.964 1085.71 L198.32 1085.71 L198.32 1089.65 L184.246 1089.65 L184.246 1098.12 Q185.264 1097.77 186.283 1097.61 Q187.301 1097.43 188.32 1097.43 Q194.107 1097.43 197.487 1100.6 Q200.866 1103.77 200.866 1109.19 Q200.866 1114.76 197.394 1117.87 Q193.922 1120.94 187.602 1120.94 Q185.427 1120.94 183.158 1120.57 Q180.913 1120.2 178.505 1119.46 L178.505 1114.76 Q180.589 1115.9 182.811 1116.45 Q185.033 1117.01 187.51 1117.01 Q191.514 1117.01 193.852 1114.9 Q196.19 1112.8 196.19 1109.19 Q196.19 1105.57 193.852 1103.47 Q191.514 1101.36 187.51 1101.36 Q185.635 1101.36 183.76 1101.78 Q181.908 1102.19 179.964 1103.07 L179.964 1085.71 Z\" fill=\"#000000\" fill-rule=\"evenodd\" fill-opacity=\"1\" /><path clip-path=\"url(#clip8500)\" d=\"M 0 0 M152.95 815.286 L171.306 815.286 L171.306 819.221 L157.232 819.221 L157.232 827.693 Q158.251 827.346 159.269 827.184 Q160.288 826.999 161.306 826.999 Q167.093 826.999 170.473 830.17 Q173.852 833.341 173.852 838.758 Q173.852 844.337 170.38 847.439 Q166.908 850.517 160.589 850.517 Q158.413 850.517 156.144 850.147 Q153.899 849.776 151.492 849.036 L151.492 844.337 Q153.575 845.471 155.797 846.026 Q158.019 846.582 160.496 846.582 Q164.501 846.582 166.839 844.476 Q169.177 842.369 169.177 838.758 Q169.177 835.147 166.839 833.04 Q164.501 830.934 160.496 830.934 Q158.621 830.934 156.746 831.351 Q154.894 831.767 152.95 832.647 L152.95 815.286 Z\" fill=\"#000000\" fill-rule=\"evenodd\" fill-opacity=\"1\" /><path clip-path=\"url(#clip8500)\" d=\"M 0 0 M188.922 818.365 Q185.311 818.365 183.482 821.929 Q181.677 825.471 181.677 832.601 Q181.677 839.707 183.482 843.272 Q185.311 846.814 188.922 846.814 Q192.556 846.814 194.362 843.272 Q196.19 839.707 196.19 832.601 Q196.19 825.471 194.362 821.929 Q192.556 818.365 188.922 818.365 M188.922 814.661 Q194.732 814.661 197.788 819.267 Q200.866 823.851 200.866 832.601 Q200.866 841.327 197.788 845.934 Q194.732 850.517 188.922 850.517 Q183.112 850.517 180.033 845.934 Q176.977 841.327 176.977 832.601 Q176.977 823.851 180.033 819.267 Q183.112 814.661 188.922 814.661 Z\" fill=\"#000000\" fill-rule=\"evenodd\" fill-opacity=\"1\" /><path clip-path=\"url(#clip8500)\" d=\"M 0 0 M152.626 544.858 L174.848 544.858 L174.848 546.849 L162.302 579.418 L157.417 579.418 L169.223 548.793 L152.626 548.793 L152.626 544.858 Z\" fill=\"#000000\" fill-rule=\"evenodd\" fill-opacity=\"1\" /><path clip-path=\"url(#clip8500)\" d=\"M 0 0 M179.964 544.858 L198.32 544.858 L198.32 548.793 L184.246 548.793 L184.246 557.266 Q185.264 556.918 186.283 556.756 Q187.301 556.571 188.32 556.571 Q194.107 556.571 197.487 559.742 Q200.866 562.914 200.866 568.33 Q200.866 573.909 197.394 577.011 Q193.922 580.09 187.602 580.09 Q185.427 580.09 183.158 579.719 Q180.913 579.349 178.505 578.608 L178.505 573.909 Q180.589 575.043 182.811 575.599 Q185.033 576.154 187.51 576.154 Q191.514 576.154 193.852 574.048 Q196.19 571.941 196.19 568.33 Q196.19 564.719 193.852 562.613 Q191.514 560.506 187.51 560.506 Q185.635 560.506 183.76 560.923 Q181.908 561.34 179.964 562.219 L179.964 544.858 Z\" fill=\"#000000\" fill-rule=\"evenodd\" fill-opacity=\"1\" /><path clip-path=\"url(#clip8500)\" d=\"M 0 0 M126.931 305.056 L134.57 305.056 L134.57 278.69 L126.26 280.357 L126.26 276.097 L134.524 274.431 L139.2 274.431 L139.2 305.056 L146.839 305.056 L146.839 308.991 L126.931 308.991 L126.931 305.056 Z\" fill=\"#000000\" fill-rule=\"evenodd\" fill-opacity=\"1\" /><path clip-path=\"url(#clip8500)\" d=\"M 0 0 M161.908 277.509 Q158.297 277.509 156.468 281.074 Q154.663 284.616 154.663 291.745 Q154.663 298.852 156.468 302.417 Q158.297 305.958 161.908 305.958 Q165.542 305.958 167.348 302.417 Q169.177 298.852 169.177 291.745 Q169.177 284.616 167.348 281.074 Q165.542 277.509 161.908 277.509 M161.908 273.806 Q167.718 273.806 170.774 278.412 Q173.852 282.995 173.852 291.745 Q173.852 300.472 170.774 305.079 Q167.718 309.662 161.908 309.662 Q156.098 309.662 153.019 305.079 Q149.964 300.472 149.964 291.745 Q149.964 282.995 153.019 278.412 Q156.098 273.806 161.908 273.806 Z\" fill=\"#000000\" fill-rule=\"evenodd\" fill-opacity=\"1\" /><path clip-path=\"url(#clip8500)\" d=\"M 0 0 M188.922 277.509 Q185.311 277.509 183.482 281.074 Q181.677 284.616 181.677 291.745 Q181.677 298.852 183.482 302.417 Q185.311 305.958 188.922 305.958 Q192.556 305.958 194.362 302.417 Q196.19 298.852 196.19 291.745 Q196.19 284.616 194.362 281.074 Q192.556 277.509 188.922 277.509 M188.922 273.806 Q194.732 273.806 197.788 278.412 Q200.866 282.995 200.866 291.745 Q200.866 300.472 197.788 305.079 Q194.732 309.662 188.922 309.662 Q183.112 309.662 180.033 305.079 Q176.977 300.472 176.977 291.745 Q176.977 282.995 180.033 278.412 Q183.112 273.806 188.922 273.806 Z\" fill=\"#000000\" fill-rule=\"evenodd\" fill-opacity=\"1\" /><path clip-path=\"url(#clip8500)\" d=\"M 0 0 M1305.43 1520.4 L1292.54 1537.74 L1306.09 1556.04 L1299.19 1556.04 L1288.81 1542.04 L1278.43 1556.04 L1271.53 1556.04 L1285.37 1537.39 L1272.71 1520.4 L1279.61 1520.4 L1289.07 1533.1 L1298.52 1520.4 L1305.43 1520.4 Z\" fill=\"#000000\" fill-rule=\"evenodd\" fill-opacity=\"1\" /><path clip-path=\"url(#clip8500)\" d=\"M 0 0 M91.3143 733.525 Q97.68 736.008 99.6216 738.363 Q101.563 740.718 101.563 744.665 L101.563 749.344 L96.6615 749.344 L96.6615 745.906 Q96.6615 743.487 95.5157 742.151 Q94.3699 740.814 90.1048 739.191 L87.4312 738.14 L52.3562 752.559 L52.3562 746.352 L80.238 735.212 L52.3562 724.072 L52.3562 717.865 L91.3143 733.525 Z\" fill=\"#000000\" fill-rule=\"evenodd\" fill-opacity=\"1\" /><polyline clip-path=\"url(#clip8502)\" style=\"stroke:#009af9; stroke-width:4; stroke-opacity:1; fill:none\" points=\"\n",
       "  285.09,1384.24 304.694,1382.02 485.964,1351.76 594.9,1325.09 687.004,1297.56 787.055,1262.51 879.292,1225.43 978.181,1180.6 1092.75,1122.1 1194.57,1064.19 \n",
       "  1283.86,1008.84 1381.2,943.606 1479.13,872.856 1587.39,788.64 1690.41,702.668 1797.52,607.236 1887.68,522.129 1997.76,412.305 2101.24,303.136 2267.02,116.256 \n",
       "  2292.53,86.1857 \n",
       "  \"/>\n",
       "<path clip-path=\"url(#clip8500)\" d=\"\n",
       "M1989.74 251.724 L2280.76 251.724 L2280.76 130.764 L1989.74 130.764  Z\n",
       "  \" fill=\"#ffffff\" fill-rule=\"evenodd\" fill-opacity=\"1\"/>\n",
       "<polyline clip-path=\"url(#clip8500)\" style=\"stroke:#000000; stroke-width:4; stroke-opacity:1; fill:none\" points=\"\n",
       "  1989.74,251.724 2280.76,251.724 2280.76,130.764 1989.74,130.764 1989.74,251.724 \n",
       "  \"/>\n",
       "<polyline clip-path=\"url(#clip8500)\" style=\"stroke:#009af9; stroke-width:4; stroke-opacity:1; fill:none\" points=\"\n",
       "  2013.74,191.244 2157.74,191.244 \n",
       "  \"/>\n",
       "<path clip-path=\"url(#clip8500)\" d=\"M 0 0 M2195.58 210.931 Q2193.77 215.561 2192.06 216.973 Q2190.35 218.385 2187.48 218.385 L2184.08 218.385 L2184.08 214.82 L2186.58 214.82 Q2188.33 214.82 2189.31 213.987 Q2190.28 213.154 2191.46 210.052 L2192.22 208.107 L2181.74 182.598 L2186.25 182.598 L2194.35 202.876 L2202.46 182.598 L2206.97 182.598 L2195.58 210.931 Z\" fill=\"#000000\" fill-rule=\"evenodd\" fill-opacity=\"1\" /><path clip-path=\"url(#clip8500)\" d=\"M 0 0 M2212.85 204.589 L2220.49 204.589 L2220.49 178.223 L2212.18 179.89 L2212.18 175.631 L2220.44 173.964 L2225.12 173.964 L2225.12 204.589 L2232.76 204.589 L2232.76 208.524 L2212.85 208.524 L2212.85 204.589 Z\" fill=\"#000000\" fill-rule=\"evenodd\" fill-opacity=\"1\" /></svg>\n"
      ]
     },
     "execution_count": 14,
     "metadata": {},
     "output_type": "execute_result"
    }
   ],
   "source": [
    "using Plots\n",
    "plot(x -> x^2 + 2x - 1,0,10,xlabel=\"x\",ylabel=\"y\")"
   ]
  },
  {
   "cell_type": "markdown",
   "id": "4d6225ea-f560-4813-b4ce-864dfe4b6a2e",
   "metadata": {},
   "source": [
    "### Keyword Arguments\n",
    "* `function fname(;arguments)`"
   ]
  },
  {
   "cell_type": "code",
   "execution_count": 39,
   "id": "51e5062c-f407-4e4a-ba73-46147b75dd9b",
   "metadata": {
    "execution": {
     "iopub.execute_input": "2021-04-25T22:36:52.227000-07:00",
     "iopub.status.busy": "2021-04-25T22:36:52.227000-07:00",
     "iopub.status.idle": "2021-04-25T22:36:52.231000-07:00",
     "shell.execute_reply": "2021-04-25T22:36:52.231000-07:00"
    },
    "tags": []
   },
   "outputs": [
    {
     "data": {
      "text/plain": [
       "myplot (generic function with 1 method)"
      ]
     },
     "execution_count": 39,
     "metadata": {},
     "output_type": "execute_result"
    }
   ],
   "source": [
    "function myplot(x,y; style=\"solid\", width=1, color = \"black\")\n",
    "    plot(x,y; line=Symbol(style), width=width, color = color)\n",
    "end"
   ]
  },
  {
   "cell_type": "code",
   "execution_count": 42,
   "id": "cb004757-5354-453c-bacb-50565412aadc",
   "metadata": {
    "execution": {
     "iopub.execute_input": "2021-04-25T22:37:15.121000-07:00",
     "iopub.status.busy": "2021-04-25T22:37:15.120000-07:00",
     "iopub.status.idle": "2021-04-25T22:37:15.122000-07:00",
     "shell.execute_reply": "2021-04-25T22:37:15.122000-07:00"
    },
    "tags": []
   },
   "outputs": [],
   "source": [
    "x = collect(-π:0.01:π);\n",
    "y = sin.(x);"
   ]
  },
  {
   "cell_type": "code",
   "execution_count": 44,
   "id": "4a3e07a9-d3c7-4ef7-ab53-612e4432e2cd",
   "metadata": {
    "execution": {
     "iopub.execute_input": "2021-04-25T22:37:36.177000-07:00",
     "iopub.status.busy": "2021-04-25T22:37:36.176000-07:00",
     "iopub.status.idle": "2021-04-25T22:37:36.194000-07:00",
     "shell.execute_reply": "2021-04-25T22:37:36.194000-07:00"
    },
    "tags": []
   },
   "outputs": [
    {
     "data": {
      "image/svg+xml": [
       "<?xml version=\"1.0\" encoding=\"utf-8\"?>\n",
       "<svg xmlns=\"http://www.w3.org/2000/svg\" xmlns:xlink=\"http://www.w3.org/1999/xlink\" width=\"600\" height=\"400\" viewBox=\"0 0 2400 1600\">\n",
       "<defs>\n",
       "  <clipPath id=\"clip3500\">\n",
       "    <rect x=\"0\" y=\"0\" width=\"2400\" height=\"1600\"/>\n",
       "  </clipPath>\n",
       "</defs>\n",
       "<path clip-path=\"url(#clip3500)\" d=\"\n",
       "M0 1600 L2400 1600 L2400 0 L0 0  Z\n",
       "  \" fill=\"#ffffff\" fill-rule=\"evenodd\" fill-opacity=\"1\"/>\n",
       "<defs>\n",
       "  <clipPath id=\"clip3501\">\n",
       "    <rect x=\"480\" y=\"0\" width=\"1681\" height=\"1600\"/>\n",
       "  </clipPath>\n",
       "</defs>\n",
       "<path clip-path=\"url(#clip3500)\" d=\"\n",
       "M162.455 1486.45 L2352.76 1486.45 L2352.76 47.2441 L162.455 47.2441  Z\n",
       "  \" fill=\"#ffffff\" fill-rule=\"evenodd\" fill-opacity=\"1\"/>\n",
       "<defs>\n",
       "  <clipPath id=\"clip3502\">\n",
       "    <rect x=\"162\" y=\"47\" width=\"2191\" height=\"1440\"/>\n",
       "  </clipPath>\n",
       "</defs>\n",
       "<polyline clip-path=\"url(#clip3502)\" style=\"stroke:#000000; stroke-width:2; stroke-opacity:0.1; fill:none\" points=\"\n",
       "  271.033,1486.45 271.033,47.2441 \n",
       "  \"/>\n",
       "<polyline clip-path=\"url(#clip3502)\" style=\"stroke:#000000; stroke-width:2; stroke-opacity:0.1; fill:none\" points=\"\n",
       "  600.065,1486.45 600.065,47.2441 \n",
       "  \"/>\n",
       "<polyline clip-path=\"url(#clip3502)\" style=\"stroke:#000000; stroke-width:2; stroke-opacity:0.1; fill:none\" points=\"\n",
       "  929.097,1486.45 929.097,47.2441 \n",
       "  \"/>\n",
       "<polyline clip-path=\"url(#clip3502)\" style=\"stroke:#000000; stroke-width:2; stroke-opacity:0.1; fill:none\" points=\"\n",
       "  1258.13,1486.45 1258.13,47.2441 \n",
       "  \"/>\n",
       "<polyline clip-path=\"url(#clip3502)\" style=\"stroke:#000000; stroke-width:2; stroke-opacity:0.1; fill:none\" points=\"\n",
       "  1587.16,1486.45 1587.16,47.2441 \n",
       "  \"/>\n",
       "<polyline clip-path=\"url(#clip3502)\" style=\"stroke:#000000; stroke-width:2; stroke-opacity:0.1; fill:none\" points=\"\n",
       "  1916.19,1486.45 1916.19,47.2441 \n",
       "  \"/>\n",
       "<polyline clip-path=\"url(#clip3502)\" style=\"stroke:#000000; stroke-width:2; stroke-opacity:0.1; fill:none\" points=\"\n",
       "  2245.23,1486.45 2245.23,47.2441 \n",
       "  \"/>\n",
       "<polyline clip-path=\"url(#clip3502)\" style=\"stroke:#000000; stroke-width:2; stroke-opacity:0.1; fill:none\" points=\"\n",
       "  162.455,1445.72 2352.76,1445.72 \n",
       "  \"/>\n",
       "<polyline clip-path=\"url(#clip3502)\" style=\"stroke:#000000; stroke-width:2; stroke-opacity:0.1; fill:none\" points=\"\n",
       "  162.455,1106.28 2352.76,1106.28 \n",
       "  \"/>\n",
       "<polyline clip-path=\"url(#clip3502)\" style=\"stroke:#000000; stroke-width:2; stroke-opacity:0.1; fill:none\" points=\"\n",
       "  162.455,766.845 2352.76,766.845 \n",
       "  \"/>\n",
       "<polyline clip-path=\"url(#clip3502)\" style=\"stroke:#000000; stroke-width:2; stroke-opacity:0.1; fill:none\" points=\"\n",
       "  162.455,427.41 2352.76,427.41 \n",
       "  \"/>\n",
       "<polyline clip-path=\"url(#clip3502)\" style=\"stroke:#000000; stroke-width:2; stroke-opacity:0.1; fill:none\" points=\"\n",
       "  162.455,87.9743 2352.76,87.9743 \n",
       "  \"/>\n",
       "<polyline clip-path=\"url(#clip3500)\" style=\"stroke:#000000; stroke-width:4; stroke-opacity:1; fill:none\" points=\"\n",
       "  162.455,1486.45 2352.76,1486.45 \n",
       "  \"/>\n",
       "<polyline clip-path=\"url(#clip3500)\" style=\"stroke:#000000; stroke-width:4; stroke-opacity:1; fill:none\" points=\"\n",
       "  162.455,1486.45 162.455,47.2441 \n",
       "  \"/>\n",
       "<polyline clip-path=\"url(#clip3500)\" style=\"stroke:#000000; stroke-width:4; stroke-opacity:1; fill:none\" points=\"\n",
       "  271.033,1486.45 271.033,1469.18 \n",
       "  \"/>\n",
       "<polyline clip-path=\"url(#clip3500)\" style=\"stroke:#000000; stroke-width:4; stroke-opacity:1; fill:none\" points=\"\n",
       "  600.065,1486.45 600.065,1469.18 \n",
       "  \"/>\n",
       "<polyline clip-path=\"url(#clip3500)\" style=\"stroke:#000000; stroke-width:4; stroke-opacity:1; fill:none\" points=\"\n",
       "  929.097,1486.45 929.097,1469.18 \n",
       "  \"/>\n",
       "<polyline clip-path=\"url(#clip3500)\" style=\"stroke:#000000; stroke-width:4; stroke-opacity:1; fill:none\" points=\"\n",
       "  1258.13,1486.45 1258.13,1469.18 \n",
       "  \"/>\n",
       "<polyline clip-path=\"url(#clip3500)\" style=\"stroke:#000000; stroke-width:4; stroke-opacity:1; fill:none\" points=\"\n",
       "  1587.16,1486.45 1587.16,1469.18 \n",
       "  \"/>\n",
       "<polyline clip-path=\"url(#clip3500)\" style=\"stroke:#000000; stroke-width:4; stroke-opacity:1; fill:none\" points=\"\n",
       "  1916.19,1486.45 1916.19,1469.18 \n",
       "  \"/>\n",
       "<polyline clip-path=\"url(#clip3500)\" style=\"stroke:#000000; stroke-width:4; stroke-opacity:1; fill:none\" points=\"\n",
       "  2245.23,1486.45 2245.23,1469.18 \n",
       "  \"/>\n",
       "<polyline clip-path=\"url(#clip3500)\" style=\"stroke:#000000; stroke-width:4; stroke-opacity:1; fill:none\" points=\"\n",
       "  162.455,1445.72 188.738,1445.72 \n",
       "  \"/>\n",
       "<polyline clip-path=\"url(#clip3500)\" style=\"stroke:#000000; stroke-width:4; stroke-opacity:1; fill:none\" points=\"\n",
       "  162.455,1106.28 188.738,1106.28 \n",
       "  \"/>\n",
       "<polyline clip-path=\"url(#clip3500)\" style=\"stroke:#000000; stroke-width:4; stroke-opacity:1; fill:none\" points=\"\n",
       "  162.455,766.845 188.738,766.845 \n",
       "  \"/>\n",
       "<polyline clip-path=\"url(#clip3500)\" style=\"stroke:#000000; stroke-width:4; stroke-opacity:1; fill:none\" points=\"\n",
       "  162.455,427.41 188.738,427.41 \n",
       "  \"/>\n",
       "<polyline clip-path=\"url(#clip3500)\" style=\"stroke:#000000; stroke-width:4; stroke-opacity:1; fill:none\" points=\"\n",
       "  162.455,87.9743 188.738,87.9743 \n",
       "  \"/>\n",
       "<path clip-path=\"url(#clip3500)\" d=\"M 0 0 M251.612 1525.04 L264.088 1525.04 L264.088 1528.83 L251.612 1528.83 L251.612 1525.04 Z\" fill=\"#000000\" fill-rule=\"evenodd\" fill-opacity=\"1\" /><path clip-path=\"url(#clip3500)\" d=\"M 0 0 M283.324 1521.29 Q286.681 1522 288.556 1524.27 Q290.454 1526.54 290.454 1529.87 Q290.454 1534.99 286.936 1537.79 Q283.417 1540.59 276.936 1540.59 Q274.76 1540.59 272.445 1540.15 Q270.153 1539.73 267.7 1538.88 L267.7 1534.36 Q269.644 1535.5 271.959 1536.08 Q274.274 1536.66 276.797 1536.66 Q281.195 1536.66 283.487 1534.92 Q285.801 1533.18 285.801 1529.87 Q285.801 1526.82 283.649 1525.11 Q281.519 1523.37 277.7 1523.37 L273.672 1523.37 L273.672 1519.53 L277.885 1519.53 Q281.334 1519.53 283.162 1518.16 Q284.991 1516.77 284.991 1514.18 Q284.991 1511.52 283.093 1510.11 Q281.218 1508.67 277.7 1508.67 Q275.778 1508.67 273.579 1509.09 Q271.38 1509.5 268.741 1510.38 L268.741 1506.22 Q271.403 1505.48 273.718 1505.11 Q276.056 1504.73 278.116 1504.73 Q283.44 1504.73 286.542 1507.17 Q289.644 1509.57 289.644 1513.69 Q289.644 1516.56 288 1518.55 Q286.357 1520.52 283.324 1521.29 Z\" fill=\"#000000\" fill-rule=\"evenodd\" fill-opacity=\"1\" /><path clip-path=\"url(#clip3500)\" d=\"M 0 0 M581.118 1525.04 L593.595 1525.04 L593.595 1528.83 L581.118 1528.83 L581.118 1525.04 Z\" fill=\"#000000\" fill-rule=\"evenodd\" fill-opacity=\"1\" /><path clip-path=\"url(#clip3500)\" d=\"M 0 0 M602.692 1535.98 L619.012 1535.98 L619.012 1539.92 L597.067 1539.92 L597.067 1535.98 Q599.729 1533.23 604.313 1528.6 Q608.919 1523.95 610.1 1522.61 Q612.345 1520.08 613.225 1518.35 Q614.127 1516.59 614.127 1514.9 Q614.127 1512.14 612.183 1510.41 Q610.262 1508.67 607.16 1508.67 Q604.961 1508.67 602.507 1509.43 Q600.077 1510.2 597.299 1511.75 L597.299 1507.03 Q600.123 1505.89 602.577 1505.31 Q605.03 1504.73 607.067 1504.73 Q612.438 1504.73 615.632 1507.42 Q618.827 1510.11 618.827 1514.6 Q618.827 1516.73 618.016 1518.65 Q617.229 1520.54 615.123 1523.14 Q614.544 1523.81 611.442 1527.03 Q608.34 1530.22 602.692 1535.98 Z\" fill=\"#000000\" fill-rule=\"evenodd\" fill-opacity=\"1\" /><path clip-path=\"url(#clip3500)\" d=\"M 0 0 M909.965 1525.04 L922.442 1525.04 L922.442 1528.83 L909.965 1528.83 L909.965 1525.04 Z\" fill=\"#000000\" fill-rule=\"evenodd\" fill-opacity=\"1\" /><path clip-path=\"url(#clip3500)\" d=\"M 0 0 M928.322 1535.98 L935.961 1535.98 L935.961 1509.62 L927.65 1511.29 L927.65 1507.03 L935.914 1505.36 L940.59 1505.36 L940.59 1535.98 L948.229 1535.98 L948.229 1539.92 L928.322 1539.92 L928.322 1535.98 Z\" fill=\"#000000\" fill-rule=\"evenodd\" fill-opacity=\"1\" /><path clip-path=\"url(#clip3500)\" d=\"M 0 0 M1258.13 1508.44 Q1254.52 1508.44 1252.69 1512 Q1250.88 1515.55 1250.88 1522.67 Q1250.88 1529.78 1252.69 1533.35 Q1254.52 1536.89 1258.13 1536.89 Q1261.76 1536.89 1263.57 1533.35 Q1265.4 1529.78 1265.4 1522.67 Q1265.4 1515.55 1263.57 1512 Q1261.76 1508.44 1258.13 1508.44 M1258.13 1504.73 Q1263.94 1504.73 1267 1509.34 Q1270.07 1513.92 1270.07 1522.67 Q1270.07 1531.4 1267 1536.01 Q1263.94 1540.59 1258.13 1540.59 Q1252.32 1540.59 1249.24 1536.01 Q1246.18 1531.4 1246.18 1522.67 Q1246.18 1513.92 1249.24 1509.34 Q1252.32 1504.73 1258.13 1504.73 Z\" fill=\"#000000\" fill-rule=\"evenodd\" fill-opacity=\"1\" /><path clip-path=\"url(#clip3500)\" d=\"M 0 0 M1577.54 1535.98 L1585.18 1535.98 L1585.18 1509.62 L1576.87 1511.29 L1576.87 1507.03 L1585.14 1505.36 L1589.81 1505.36 L1589.81 1535.98 L1597.45 1535.98 L1597.45 1539.92 L1577.54 1539.92 L1577.54 1535.98 Z\" fill=\"#000000\" fill-rule=\"evenodd\" fill-opacity=\"1\" /><path clip-path=\"url(#clip3500)\" d=\"M 0 0 M1910.85 1535.98 L1927.17 1535.98 L1927.17 1539.92 L1905.22 1539.92 L1905.22 1535.98 Q1907.88 1533.23 1912.47 1528.6 Q1917.07 1523.95 1918.25 1522.61 Q1920.5 1520.08 1921.38 1518.35 Q1922.28 1516.59 1922.28 1514.9 Q1922.28 1512.14 1920.34 1510.41 Q1918.42 1508.67 1915.31 1508.67 Q1913.11 1508.67 1910.66 1509.43 Q1908.23 1510.2 1905.45 1511.75 L1905.45 1507.03 Q1908.28 1505.89 1910.73 1505.31 Q1913.18 1504.73 1915.22 1504.73 Q1920.59 1504.73 1923.79 1507.42 Q1926.98 1510.11 1926.98 1514.6 Q1926.98 1516.73 1926.17 1518.65 Q1925.38 1520.54 1923.28 1523.14 Q1922.7 1523.81 1919.6 1527.03 Q1916.49 1530.22 1910.85 1535.98 Z\" fill=\"#000000\" fill-rule=\"evenodd\" fill-opacity=\"1\" /><path clip-path=\"url(#clip3500)\" d=\"M 0 0 M2249.47 1521.29 Q2252.83 1522 2254.7 1524.27 Q2256.6 1526.54 2256.6 1529.87 Q2256.6 1534.99 2253.08 1537.79 Q2249.57 1540.59 2243.08 1540.59 Q2240.91 1540.59 2238.59 1540.15 Q2236.3 1539.73 2233.85 1538.88 L2233.85 1534.36 Q2235.79 1535.5 2238.11 1536.08 Q2240.42 1536.66 2242.95 1536.66 Q2247.34 1536.66 2249.64 1534.92 Q2251.95 1533.18 2251.95 1529.87 Q2251.95 1526.82 2249.8 1525.11 Q2247.67 1523.37 2243.85 1523.37 L2239.82 1523.37 L2239.82 1519.53 L2244.03 1519.53 Q2247.48 1519.53 2249.31 1518.16 Q2251.14 1516.77 2251.14 1514.18 Q2251.14 1511.52 2249.24 1510.11 Q2247.37 1508.67 2243.85 1508.67 Q2241.93 1508.67 2239.73 1509.09 Q2237.53 1509.5 2234.89 1510.38 L2234.89 1506.22 Q2237.55 1505.48 2239.87 1505.11 Q2242.2 1504.73 2244.27 1504.73 Q2249.59 1504.73 2252.69 1507.17 Q2255.79 1509.57 2255.79 1513.69 Q2255.79 1516.56 2254.15 1518.55 Q2252.51 1520.52 2249.47 1521.29 Z\" fill=\"#000000\" fill-rule=\"evenodd\" fill-opacity=\"1\" /><path clip-path=\"url(#clip3500)\" d=\"M 0 0 M63.2236 1448.11 L75.7004 1448.11 L75.7004 1451.91 L63.2236 1451.91 L63.2236 1448.11 Z\" fill=\"#000000\" fill-rule=\"evenodd\" fill-opacity=\"1\" /><path clip-path=\"url(#clip3500)\" d=\"M 0 0 M81.58 1459.06 L89.2188 1459.06 L89.2188 1432.7 L80.9087 1434.36 L80.9087 1430.1 L89.1725 1428.44 L93.8484 1428.44 L93.8484 1459.06 L101.487 1459.06 L101.487 1463 L81.58 1463 L81.58 1459.06 Z\" fill=\"#000000\" fill-rule=\"evenodd\" fill-opacity=\"1\" /><path clip-path=\"url(#clip3500)\" d=\"M 0 0 M106.557 1457.12 L111.441 1457.12 L111.441 1463 L106.557 1463 L106.557 1457.12 Z\" fill=\"#000000\" fill-rule=\"evenodd\" fill-opacity=\"1\" /><path clip-path=\"url(#clip3500)\" d=\"M 0 0 M126.51 1431.51 Q122.899 1431.51 121.071 1435.08 Q119.265 1438.62 119.265 1445.75 Q119.265 1452.86 121.071 1456.42 Q122.899 1459.96 126.51 1459.96 Q130.145 1459.96 131.95 1456.42 Q133.779 1452.86 133.779 1445.75 Q133.779 1438.62 131.95 1435.08 Q130.145 1431.51 126.51 1431.51 M126.51 1427.81 Q132.32 1427.81 135.376 1432.42 Q138.455 1437 138.455 1445.75 Q138.455 1454.48 135.376 1459.08 Q132.32 1463.67 126.51 1463.67 Q120.7 1463.67 117.621 1459.08 Q114.566 1454.48 114.566 1445.75 Q114.566 1437 117.621 1432.42 Q120.7 1427.81 126.51 1427.81 Z\" fill=\"#000000\" fill-rule=\"evenodd\" fill-opacity=\"1\" /><path clip-path=\"url(#clip3500)\" d=\"M 0 0 M62.9921 1108.68 L75.4689 1108.68 L75.4689 1112.47 L62.9921 1112.47 L62.9921 1108.68 Z\" fill=\"#000000\" fill-rule=\"evenodd\" fill-opacity=\"1\" /><path clip-path=\"url(#clip3500)\" d=\"M 0 0 M90.5383 1092.08 Q86.9272 1092.08 85.0985 1095.64 Q83.2929 1099.19 83.2929 1106.32 Q83.2929 1113.42 85.0985 1116.99 Q86.9272 1120.53 90.5383 1120.53 Q94.1725 1120.53 95.9781 1116.99 Q97.8068 1113.42 97.8068 1106.32 Q97.8068 1099.19 95.9781 1095.64 Q94.1725 1092.08 90.5383 1092.08 M90.5383 1088.38 Q96.3484 1088.38 99.404 1092.98 Q102.483 1097.57 102.483 1106.32 Q102.483 1115.04 99.404 1119.65 Q96.3484 1124.23 90.5383 1124.23 Q84.7281 1124.23 81.6494 1119.65 Q78.5939 1115.04 78.5939 1106.32 Q78.5939 1097.57 81.6494 1092.98 Q84.7281 1088.38 90.5383 1088.38 Z\" fill=\"#000000\" fill-rule=\"evenodd\" fill-opacity=\"1\" /><path clip-path=\"url(#clip3500)\" d=\"M 0 0 M107.552 1117.68 L112.436 1117.68 L112.436 1123.56 L107.552 1123.56 L107.552 1117.68 Z\" fill=\"#000000\" fill-rule=\"evenodd\" fill-opacity=\"1\" /><path clip-path=\"url(#clip3500)\" d=\"M 0 0 M117.552 1089 L135.908 1089 L135.908 1092.94 L121.834 1092.94 L121.834 1101.41 Q122.853 1101.06 123.871 1100.9 Q124.89 1100.71 125.908 1100.71 Q131.695 1100.71 135.075 1103.88 Q138.455 1107.06 138.455 1112.47 Q138.455 1118.05 134.982 1121.15 Q131.51 1124.23 125.191 1124.23 Q123.015 1124.23 120.746 1123.86 Q118.501 1123.49 116.094 1122.75 L116.094 1118.05 Q118.177 1119.19 120.399 1119.74 Q122.621 1120.3 125.098 1120.3 Q129.103 1120.3 131.441 1118.19 Q133.779 1116.08 133.779 1112.47 Q133.779 1108.86 131.441 1106.76 Q129.103 1104.65 125.098 1104.65 Q123.223 1104.65 121.348 1105.07 Q119.496 1105.48 117.552 1106.36 L117.552 1089 Z\" fill=\"#000000\" fill-rule=\"evenodd\" fill-opacity=\"1\" /><path clip-path=\"url(#clip3500)\" d=\"M 0 0 M89.5429 752.644 Q85.9318 752.644 84.1031 756.209 Q82.2976 759.75 82.2976 766.88 Q82.2976 773.986 84.1031 777.551 Q85.9318 781.093 89.5429 781.093 Q93.1771 781.093 94.9827 777.551 Q96.8114 773.986 96.8114 766.88 Q96.8114 759.75 94.9827 756.209 Q93.1771 752.644 89.5429 752.644 M89.5429 748.94 Q95.3531 748.94 98.4086 753.547 Q101.487 758.13 101.487 766.88 Q101.487 775.607 98.4086 780.213 Q95.3531 784.796 89.5429 784.796 Q83.7328 784.796 80.6541 780.213 Q77.5985 775.607 77.5985 766.88 Q77.5985 758.13 80.6541 753.547 Q83.7328 748.94 89.5429 748.94 Z\" fill=\"#000000\" fill-rule=\"evenodd\" fill-opacity=\"1\" /><path clip-path=\"url(#clip3500)\" d=\"M 0 0 M106.557 778.246 L111.441 778.246 L111.441 784.125 L106.557 784.125 L106.557 778.246 Z\" fill=\"#000000\" fill-rule=\"evenodd\" fill-opacity=\"1\" /><path clip-path=\"url(#clip3500)\" d=\"M 0 0 M126.51 752.644 Q122.899 752.644 121.071 756.209 Q119.265 759.75 119.265 766.88 Q119.265 773.986 121.071 777.551 Q122.899 781.093 126.51 781.093 Q130.145 781.093 131.95 777.551 Q133.779 773.986 133.779 766.88 Q133.779 759.75 131.95 756.209 Q130.145 752.644 126.51 752.644 M126.51 748.94 Q132.32 748.94 135.376 753.547 Q138.455 758.13 138.455 766.88 Q138.455 775.607 135.376 780.213 Q132.32 784.796 126.51 784.796 Q120.7 784.796 117.621 780.213 Q114.566 775.607 114.566 766.88 Q114.566 758.13 117.621 753.547 Q120.7 748.94 126.51 748.94 Z\" fill=\"#000000\" fill-rule=\"evenodd\" fill-opacity=\"1\" /><path clip-path=\"url(#clip3500)\" d=\"M 0 0 M90.5383 413.208 Q86.9272 413.208 85.0985 416.773 Q83.2929 420.315 83.2929 427.444 Q83.2929 434.551 85.0985 438.116 Q86.9272 441.657 90.5383 441.657 Q94.1725 441.657 95.9781 438.116 Q97.8068 434.551 97.8068 427.444 Q97.8068 420.315 95.9781 416.773 Q94.1725 413.208 90.5383 413.208 M90.5383 409.505 Q96.3484 409.505 99.404 414.111 Q102.483 418.695 102.483 427.444 Q102.483 436.171 99.404 440.778 Q96.3484 445.361 90.5383 445.361 Q84.7281 445.361 81.6494 440.778 Q78.5939 436.171 78.5939 427.444 Q78.5939 418.695 81.6494 414.111 Q84.7281 409.505 90.5383 409.505 Z\" fill=\"#000000\" fill-rule=\"evenodd\" fill-opacity=\"1\" /><path clip-path=\"url(#clip3500)\" d=\"M 0 0 M107.552 438.81 L112.436 438.81 L112.436 444.69 L107.552 444.69 L107.552 438.81 Z\" fill=\"#000000\" fill-rule=\"evenodd\" fill-opacity=\"1\" /><path clip-path=\"url(#clip3500)\" d=\"M 0 0 M117.552 410.13 L135.908 410.13 L135.908 414.065 L121.834 414.065 L121.834 422.537 Q122.853 422.19 123.871 422.028 Q124.89 421.843 125.908 421.843 Q131.695 421.843 135.075 425.014 Q138.455 428.185 138.455 433.602 Q138.455 439.181 134.982 442.282 Q131.51 445.361 125.191 445.361 Q123.015 445.361 120.746 444.991 Q118.501 444.62 116.094 443.88 L116.094 439.181 Q118.177 440.315 120.399 440.87 Q122.621 441.426 125.098 441.426 Q129.103 441.426 131.441 439.319 Q133.779 437.213 133.779 433.602 Q133.779 429.991 131.441 427.884 Q129.103 425.778 125.098 425.778 Q123.223 425.778 121.348 426.194 Q119.496 426.611 117.552 427.491 L117.552 410.13 Z\" fill=\"#000000\" fill-rule=\"evenodd\" fill-opacity=\"1\" /><path clip-path=\"url(#clip3500)\" d=\"M 0 0 M81.58 101.319 L89.2188 101.319 L89.2188 74.9536 L80.9087 76.6202 L80.9087 72.361 L89.1725 70.6943 L93.8484 70.6943 L93.8484 101.319 L101.487 101.319 L101.487 105.254 L81.58 105.254 L81.58 101.319 Z\" fill=\"#000000\" fill-rule=\"evenodd\" fill-opacity=\"1\" /><path clip-path=\"url(#clip3500)\" d=\"M 0 0 M106.557 99.3747 L111.441 99.3747 L111.441 105.254 L106.557 105.254 L106.557 99.3747 Z\" fill=\"#000000\" fill-rule=\"evenodd\" fill-opacity=\"1\" /><path clip-path=\"url(#clip3500)\" d=\"M 0 0 M126.51 73.773 Q122.899 73.773 121.071 77.3378 Q119.265 80.8795 119.265 88.0091 Q119.265 95.1155 121.071 98.6803 Q122.899 102.222 126.51 102.222 Q130.145 102.222 131.95 98.6803 Q133.779 95.1155 133.779 88.0091 Q133.779 80.8795 131.95 77.3378 Q130.145 73.773 126.51 73.773 M126.51 70.0693 Q132.32 70.0693 135.376 74.6758 Q138.455 79.2591 138.455 88.0091 Q138.455 96.7359 135.376 101.342 Q132.32 105.926 126.51 105.926 Q120.7 105.926 117.621 101.342 Q114.566 96.7359 114.566 88.0091 Q114.566 79.2591 117.621 74.6758 Q120.7 70.0693 126.51 70.0693 Z\" fill=\"#000000\" fill-rule=\"evenodd\" fill-opacity=\"1\" /><polyline clip-path=\"url(#clip3502)\" style=\"stroke:#f596aa; stroke-width:40; stroke-opacity:1; fill:none\" stroke-dasharray=\"160, 100\" points=\"\n",
       "  224.444,766.845 227.735,773.634 231.025,780.422 234.315,787.208 237.606,793.993 240.896,800.775 244.186,807.553 247.477,814.327 250.767,821.097 254.057,827.861 \n",
       "  257.348,834.619 260.638,841.37 263.928,848.114 267.219,854.85 270.509,861.577 273.799,868.294 277.089,875.002 280.38,881.698 283.67,888.383 286.96,895.056 \n",
       "  290.251,901.716 293.541,908.362 296.831,914.995 300.122,921.612 303.412,928.214 306.702,934.8 309.993,941.37 313.283,947.921 316.573,954.455 319.864,960.97 \n",
       "  323.154,967.465 326.444,973.941 329.735,980.395 333.025,986.828 336.315,993.24 339.606,999.628 342.896,1005.99 346.186,1012.34 349.477,1018.65 352.767,1024.94 \n",
       "  356.057,1031.21 359.348,1037.45 362.638,1043.66 365.928,1049.85 369.218,1056 372.509,1062.13 375.799,1068.23 379.089,1074.3 382.38,1080.33 385.67,1086.34 \n",
       "  388.96,1092.31 392.251,1098.25 395.541,1104.16 398.831,1110.04 402.122,1115.88 405.412,1121.68 408.702,1127.45 411.993,1133.19 415.283,1138.88 418.573,1144.54 \n",
       "  421.864,1150.16 425.154,1155.75 428.444,1161.29 431.735,1166.8 435.025,1172.26 438.315,1177.69 441.606,1183.07 444.896,1188.41 448.186,1193.71 451.477,1198.97 \n",
       "  454.767,1204.19 458.057,1209.36 461.347,1214.48 464.638,1219.56 467.928,1224.6 471.218,1229.59 474.509,1234.53 477.799,1239.43 481.089,1244.28 484.38,1249.08 \n",
       "  487.67,1253.84 490.96,1258.54 494.251,1263.2 497.541,1267.81 500.831,1272.36 504.122,1276.87 507.412,1281.32 510.702,1285.73 513.993,1290.08 517.283,1294.38 \n",
       "  520.573,1298.62 523.864,1302.82 527.154,1306.96 530.444,1311.04 533.735,1315.07 537.025,1319.05 540.315,1322.97 543.606,1326.84 546.896,1330.65 550.186,1334.4 \n",
       "  553.476,1338.1 556.767,1341.73 560.057,1345.32 563.347,1348.84 566.638,1352.31 569.928,1355.71 573.218,1359.06 576.509,1362.35 579.799,1365.58 583.089,1368.75 \n",
       "  586.38,1371.86 589.67,1374.91 592.96,1377.9 596.251,1380.82 599.541,1383.69 602.831,1386.49 606.122,1389.24 609.412,1391.92 612.702,1394.53 615.993,1397.09 \n",
       "  619.283,1399.58 622.573,1402.01 625.864,1404.37 629.154,1406.67 632.444,1408.91 635.735,1411.08 639.025,1413.19 642.315,1415.24 645.605,1417.21 648.896,1419.13 \n",
       "  652.186,1420.98 655.476,1422.76 658.767,1424.48 662.057,1426.13 665.347,1427.72 668.638,1429.24 671.928,1430.69 675.218,1432.08 678.509,1433.4 681.799,1434.65 \n",
       "  685.089,1435.84 688.38,1436.96 691.67,1438.01 694.96,1439 698.251,1439.92 701.541,1440.77 704.831,1441.55 708.122,1442.27 711.412,1442.92 714.702,1443.5 \n",
       "  717.993,1444.02 721.283,1444.46 724.573,1444.84 727.864,1445.15 731.154,1445.39 734.444,1445.57 737.734,1445.68 741.025,1445.72 744.315,1445.69 747.605,1445.59 \n",
       "  750.896,1445.43 754.186,1445.19 757.476,1444.89 760.767,1444.53 764.057,1444.09 767.347,1443.59 770.638,1443.02 773.928,1442.38 777.218,1441.67 780.509,1440.9 \n",
       "  783.799,1440.06 787.089,1439.15 790.38,1438.17 793.67,1437.13 796.96,1436.02 800.251,1434.84 803.541,1433.6 806.831,1432.29 810.122,1430.91 813.412,1429.47 \n",
       "  816.702,1427.96 819.993,1426.39 823.283,1424.74 826.573,1423.04 829.863,1421.27 833.154,1419.43 836.444,1417.52 839.734,1415.55 843.025,1413.52 846.315,1411.42 \n",
       "  849.605,1409.26 852.896,1407.03 856.186,1404.74 859.476,1402.39 862.767,1399.97 866.057,1397.49 869.347,1394.94 872.638,1392.34 875.928,1389.67 879.218,1386.93 \n",
       "  882.509,1384.14 885.799,1381.28 889.089,1378.37 892.38,1375.39 895.67,1372.35 898.96,1369.25 902.251,1366.09 905.541,1362.87 908.831,1359.59 912.122,1356.25 \n",
       "  915.412,1352.85 918.702,1349.4 921.993,1345.88 925.283,1342.31 928.573,1338.68 931.863,1334.99 935.154,1331.25 938.444,1327.45 941.734,1323.59 945.025,1319.68 \n",
       "  948.315,1315.71 951.605,1311.69 954.896,1307.61 958.186,1303.48 961.476,1299.29 964.767,1295.06 968.057,1290.77 971.347,1286.42 974.638,1282.03 977.928,1277.58 \n",
       "  981.218,1273.08 984.509,1268.53 987.799,1263.94 991.089,1259.29 994.38,1254.59 997.67,1249.84 1000.96,1245.05 1004.25,1240.21 1007.54,1235.32 1010.83,1230.38 \n",
       "  1014.12,1225.4 1017.41,1220.37 1020.7,1215.29 1023.99,1210.18 1027.28,1205.01 1030.57,1199.8 1033.86,1194.55 1037.15,1189.26 1040.44,1183.93 1043.73,1178.55 \n",
       "  1047.02,1173.13 1050.32,1167.67 1053.61,1162.17 1056.9,1156.63 1060.19,1151.06 1063.48,1145.44 1066.77,1139.79 1070.06,1134.1 1073.35,1128.37 1076.64,1122.6 \n",
       "  1079.93,1116.8 1083.22,1110.97 1086.51,1105.1 1089.8,1099.2 1093.09,1093.26 1096.38,1087.29 1099.67,1081.29 1102.96,1075.26 1106.25,1069.2 1109.54,1063.1 \n",
       "  1112.83,1056.98 1116.12,1050.83 1119.41,1044.65 1122.7,1038.44 1125.99,1032.21 1129.28,1025.94 1132.57,1019.66 1135.86,1013.34 1139.15,1007.01 1142.44,1000.64 \n",
       "  1145.73,994.259 1149.02,987.851 1152.32,981.421 1155.61,974.97 1158.9,968.498 1162.19,962.006 1165.48,955.494 1168.77,948.963 1172.06,942.414 1175.35,935.848 \n",
       "  1178.64,929.265 1181.93,922.665 1185.22,916.05 1188.51,909.42 1191.8,902.775 1195.09,896.117 1198.38,889.447 1201.67,882.764 1204.96,876.069 1208.25,869.363 \n",
       "  1211.54,862.647 1214.83,855.922 1218.12,849.188 1221.41,842.445 1224.7,835.695 1227.99,828.938 1231.28,822.175 1234.57,815.406 1237.86,808.632 1241.15,801.854 \n",
       "  1244.44,795.073 1247.73,788.289 1251.02,781.503 1254.31,774.715 1257.61,767.926 1260.9,761.138 1264.19,754.35 1267.48,747.563 1270.77,740.778 1274.06,733.996 \n",
       "  1277.35,727.217 1280.64,720.442 1283.93,713.671 1287.22,706.906 1290.51,700.147 1293.8,693.395 1297.09,686.65 1300.38,679.912 1303.67,673.184 1306.96,666.465 \n",
       "  1310.25,659.756 1313.54,653.058 1316.83,646.371 1320.12,639.696 1323.41,633.034 1326.7,626.385 1329.99,619.751 1333.28,613.131 1336.57,606.526 1339.86,599.938 \n",
       "  1343.15,593.366 1346.44,586.811 1349.73,580.275 1353.02,573.757 1356.31,567.258 1359.61,560.78 1362.9,554.322 1366.19,547.885 1369.48,541.47 1372.77,535.078 \n",
       "  1376.06,528.709 1379.35,522.363 1382.64,516.042 1385.93,509.747 1389.22,503.477 1392.51,497.233 1395.8,491.016 1399.09,484.827 1402.38,478.666 1405.67,472.534 \n",
       "  1408.96,466.431 1412.25,460.358 1415.54,454.316 1418.83,448.305 1422.12,442.326 1425.41,436.38 1428.7,430.466 1431.99,424.587 1435.28,418.741 1438.57,412.93 \n",
       "  1441.86,407.155 1445.15,401.415 1448.44,395.713 1451.73,390.047 1455.02,384.419 1458.31,378.829 1461.61,373.278 1464.9,367.766 1468.19,362.294 1471.48,356.863 \n",
       "  1474.77,351.473 1478.06,346.124 1481.35,340.817 1484.64,335.553 1487.93,330.332 1491.22,325.155 1494.51,320.022 1497.8,314.933 1501.09,309.89 1504.38,304.892 \n",
       "  1507.67,299.941 1510.96,295.036 1514.25,290.179 1517.54,285.369 1520.83,280.607 1524.12,275.894 1527.41,271.23 1530.7,266.615 1533.99,262.051 1537.28,257.537 \n",
       "  1540.57,253.074 1543.86,248.662 1547.15,244.303 1550.44,239.995 1553.73,235.74 1557.02,231.538 1560.31,227.39 1563.61,223.296 1566.9,219.256 1570.19,215.271 \n",
       "  1573.48,211.341 1576.77,207.466 1580.06,203.648 1583.35,199.885 1586.64,196.18 1589.93,192.532 1593.22,188.94 1596.51,185.407 1599.8,181.932 1603.09,178.516 \n",
       "  1606.38,175.158 1609.67,171.859 1612.96,168.62 1616.25,165.441 1619.54,162.322 1622.83,159.263 1626.12,156.265 1629.41,153.328 1632.7,150.453 1635.99,147.639 \n",
       "  1639.28,144.887 1642.57,142.197 1645.86,139.57 1649.15,137.005 1652.44,134.504 1655.73,132.065 1659.02,129.69 1662.31,127.379 1665.61,125.132 1668.9,122.949 \n",
       "  1672.19,120.83 1675.48,118.776 1678.77,116.787 1682.06,114.863 1685.35,113.004 1688.64,111.21 1691.93,109.482 1695.22,107.82 1698.51,106.223 1701.8,104.693 \n",
       "  1705.09,103.228 1708.38,101.831 1711.67,100.499 1714.96,99.2346 1718.25,98.0367 1721.54,96.9057 1724.83,95.8416 1728.12,94.8446 1731.41,93.9149 1734.7,93.0524 \n",
       "  1737.99,92.2573 1741.28,91.5297 1744.57,90.8696 1747.86,90.2771 1751.15,89.7523 1754.44,89.2951 1757.73,88.9057 1761.02,88.5842 1764.31,88.3304 1767.61,88.1445 \n",
       "  1770.9,88.0264 1774.19,87.9763 1777.48,87.994 1780.77,88.0796 1784.06,88.2331 1787.35,88.4544 1790.64,88.7436 1793.93,89.1006 1797.22,89.5254 1800.51,90.0179 \n",
       "  1803.8,90.5781 1807.09,91.2059 1810.38,91.9013 1813.67,92.6641 1816.96,93.4944 1820.25,94.392 1823.54,95.3569 1826.83,96.3889 1830.12,97.4879 1833.41,98.6539 \n",
       "  1836.7,99.8867 1839.99,101.186 1843.28,102.552 1846.57,103.985 1849.86,105.484 1853.15,107.049 1856.44,108.679 1859.73,110.376 1863.02,112.138 1866.31,113.966 \n",
       "  1869.61,115.859 1872.9,117.818 1876.19,119.841 1879.48,121.929 1882.77,124.081 1886.06,126.297 1889.35,128.578 1892.64,130.923 1895.93,133.331 1899.22,135.802 \n",
       "  1902.51,138.337 1905.8,140.934 1909.09,143.594 1912.38,146.316 1915.67,149.101 1918.96,151.947 1922.25,154.854 1925.54,157.823 1928.83,160.853 1932.12,163.943 \n",
       "  1935.41,167.094 1938.7,170.304 1941.99,173.574 1945.28,176.904 1948.57,180.292 1951.86,183.74 1955.15,187.245 1958.44,190.809 1961.73,194.43 1965.02,198.108 \n",
       "  1968.31,201.843 1971.61,205.635 1974.9,209.483 1978.19,213.386 1981.48,217.345 1984.77,221.359 1988.06,225.427 1991.35,229.55 1994.64,233.726 1997.93,237.955 \n",
       "  2001.22,242.238 2004.51,246.573 2007.8,250.96 2011.09,255.398 2014.38,259.888 2017.67,264.428 2020.96,269.019 2024.25,273.659 2027.54,278.349 2030.83,283.087 \n",
       "  2034.12,287.874 2037.41,292.709 2040.7,297.591 2043.99,302.521 2047.28,307.496 2050.57,312.518 2053.86,317.585 2057.15,322.697 2060.44,327.853 2063.73,333.053 \n",
       "  2067.02,338.297 2070.31,343.583 2073.61,348.912 2076.9,354.282 2080.19,359.694 2083.48,365.147 2086.77,370.639 2090.06,376.172 2093.35,381.743 2096.64,387.353 \n",
       "  2099.93,393.001 2103.22,398.686 2106.51,404.408 2109.8,410.166 2113.09,415.96 2116.38,421.789 2119.67,427.653 2122.96,433.55 2126.25,439.481 2129.54,445.445 \n",
       "  2132.83,451.44 2136.12,457.467 2139.41,463.526 2142.7,469.614 2145.99,475.732 2149.28,481.88 2152.57,488.055 2155.86,494.259 2159.15,500.49 2162.44,506.748 \n",
       "  2165.73,513.031 2169.02,519.34 2172.31,525.674 2175.6,532.032 2178.9,538.413 2182.19,544.817 2185.48,551.244 2188.77,557.691 2192.06,564.16 2195.35,570.649 \n",
       "  2198.64,577.158 2201.93,583.686 2205.22,590.232 2208.51,596.795 2211.8,603.376 2215.09,609.973 2218.38,616.586 2221.67,623.214 2224.96,629.856 2228.25,636.511 \n",
       "  2231.54,643.18 2234.83,649.862 2238.12,656.554 2241.41,663.258 2244.7,669.973 2247.99,676.697 2251.28,683.43 2254.57,690.171 2257.86,696.92 2261.15,703.676 \n",
       "  2264.44,710.438 2267.73,717.206 2271.02,723.979 2274.31,730.756 2277.6,737.537 2280.9,744.321 2284.19,751.107 2287.48,757.894 2290.77,764.683 \n",
       "  \"/>\n",
       "<path clip-path=\"url(#clip3500)\" d=\"\n",
       "M1989.74 251.724 L2280.76 251.724 L2280.76 130.764 L1989.74 130.764  Z\n",
       "  \" fill=\"#ffffff\" fill-rule=\"evenodd\" fill-opacity=\"1\"/>\n",
       "<polyline clip-path=\"url(#clip3500)\" style=\"stroke:#000000; stroke-width:4; stroke-opacity:1; fill:none\" points=\"\n",
       "  1989.74,251.724 2280.76,251.724 2280.76,130.764 1989.74,130.764 1989.74,251.724 \n",
       "  \"/>\n",
       "<polyline clip-path=\"url(#clip3500)\" style=\"stroke:#f596aa; stroke-width:40; stroke-opacity:1; fill:none\" stroke-dasharray=\"160, 100\" points=\"\n",
       "  2013.74,191.244 2157.74,191.244 \n",
       "  \"/>\n",
       "<path clip-path=\"url(#clip3500)\" d=\"M 0 0 M2195.58 210.931 Q2193.77 215.561 2192.06 216.973 Q2190.35 218.385 2187.48 218.385 L2184.08 218.385 L2184.08 214.82 L2186.58 214.82 Q2188.33 214.82 2189.31 213.987 Q2190.28 213.154 2191.46 210.052 L2192.22 208.107 L2181.74 182.598 L2186.25 182.598 L2194.35 202.876 L2202.46 182.598 L2206.97 182.598 L2195.58 210.931 Z\" fill=\"#000000\" fill-rule=\"evenodd\" fill-opacity=\"1\" /><path clip-path=\"url(#clip3500)\" d=\"M 0 0 M2212.85 204.589 L2220.49 204.589 L2220.49 178.223 L2212.18 179.89 L2212.18 175.631 L2220.44 173.964 L2225.12 173.964 L2225.12 204.589 L2232.76 204.589 L2232.76 208.524 L2212.85 208.524 L2212.85 204.589 Z\" fill=\"#000000\" fill-rule=\"evenodd\" fill-opacity=\"1\" /></svg>\n"
      ]
     },
     "execution_count": 44,
     "metadata": {},
     "output_type": "execute_result"
    }
   ],
   "source": [
    "myplot(x,y;width=10,color=\"#F596AA\",style = \"dash\")"
   ]
  },
  {
   "cell_type": "code",
   "execution_count": 46,
   "id": "eb526795-2301-43e2-8699-e8b39a00450d",
   "metadata": {
    "execution": {
     "iopub.execute_input": "2021-04-25T22:37:52.657000-07:00",
     "iopub.status.busy": "2021-04-25T22:37:52.657000-07:00",
     "iopub.status.idle": "2021-04-25T22:37:52.658000-07:00",
     "shell.execute_reply": "2021-04-25T22:37:52.658000-07:00"
    },
    "tags": []
   },
   "outputs": [
    {
     "data": {
      "text/plain": [
       ":xs"
      ]
     },
     "execution_count": 46,
     "metadata": {},
     "output_type": "execute_result"
    }
   ],
   "source": [
    "Symbol(\"xs\")"
   ]
  },
  {
   "cell_type": "code",
   "execution_count": 47,
   "id": "9380b5f3-d6bc-49ea-a521-7d5d1b9b1e77",
   "metadata": {
    "execution": {
     "iopub.execute_input": "2021-04-25T22:45:48.412000-07:00",
     "iopub.status.busy": "2021-04-25T22:45:48.412000-07:00",
     "iopub.status.idle": "2021-04-25T22:45:48.537000-07:00",
     "shell.execute_reply": "2021-04-25T22:45:48.536000-07:00"
    },
    "tags": []
   },
   "outputs": [
    {
     "data": {
      "text/plain": [
       "test (generic function with 1 method)"
      ]
     },
     "execution_count": 47,
     "metadata": {},
     "output_type": "execute_result"
    }
   ],
   "source": [
    "function test(x,y)\n",
    "    x - y\n",
    "end"
   ]
  },
  {
   "cell_type": "code",
   "execution_count": 48,
   "id": "3da67357-cff5-4f55-9a0e-a23a82323acf",
   "metadata": {
    "execution": {
     "iopub.execute_input": "2021-04-25T22:45:53.122000-07:00",
     "iopub.status.busy": "2021-04-25T22:45:53.122000-07:00",
     "iopub.status.idle": "2021-04-25T22:45:53.177000-07:00",
     "shell.execute_reply": "2021-04-25T22:45:53.176000-07:00"
    },
    "tags": []
   },
   "outputs": [
    {
     "data": {
      "text/plain": [
       "-1"
      ]
     },
     "execution_count": 48,
     "metadata": {},
     "output_type": "execute_result"
    }
   ],
   "source": [
    "test(1,2)"
   ]
  },
  {
   "cell_type": "code",
   "execution_count": 49,
   "id": "58979046-2866-4c95-ae30-f04d1bfb42d1",
   "metadata": {
    "execution": {
     "iopub.execute_input": "2021-04-25T22:46:00.209000-07:00",
     "iopub.status.busy": "2021-04-25T22:46:00.208000-07:00",
     "iopub.status.idle": "2021-04-25T22:46:00.336000-07:00",
     "shell.execute_reply": "2021-04-25T22:46:00.335000-07:00"
    },
    "tags": []
   },
   "outputs": [
    {
     "ename": "LoadError",
     "evalue": "MethodError: no method matching test(; x=1, y=2)\n\u001b[0mClosest candidates are:\n\u001b[0m  test(\u001b[91m::Any\u001b[39m, \u001b[91m::Any\u001b[39m) at In[47]:1\u001b[91m got unsupported keyword arguments \"x\", \"y\"\u001b[39m",
     "output_type": "error",
     "traceback": [
      "MethodError: no method matching test(; x=1, y=2)\n\u001b[0mClosest candidates are:\n\u001b[0m  test(\u001b[91m::Any\u001b[39m, \u001b[91m::Any\u001b[39m) at In[47]:1\u001b[91m got unsupported keyword arguments \"x\", \"y\"\u001b[39m",
      "",
      "Stacktrace:",
      " [1] top-level scope",
      "   @ In[49]:1",
      " [2] eval",
      "   @ ./boot.jl:360 [inlined]",
      " [3] include_string(mapexpr::typeof(REPL.softscope), mod::Module, code::String, filename::String)",
      "   @ Base ./loading.jl:1094"
     ]
    }
   ],
   "source": [
    "test(x=1,y=2)"
   ]
  },
  {
   "cell_type": "code",
   "execution_count": 50,
   "id": "afb83f7f-2288-4122-ad6d-214feb42f749",
   "metadata": {
    "execution": {
     "iopub.execute_input": "2021-04-25T22:46:13.121000-07:00",
     "iopub.status.busy": "2021-04-25T22:46:13.121000-07:00",
     "iopub.status.idle": "2021-04-25T22:46:13.273000-07:00",
     "shell.execute_reply": "2021-04-25T22:46:13.272000-07:00"
    },
    "tags": []
   },
   "outputs": [
    {
     "data": {
      "text/plain": [
       "test2 (generic function with 1 method)"
      ]
     },
     "execution_count": 50,
     "metadata": {},
     "output_type": "execute_result"
    }
   ],
   "source": [
    "function test2(;x,y)\n",
    "    x - y\n",
    "end"
   ]
  },
  {
   "cell_type": "code",
   "execution_count": 51,
   "id": "e1fee283-74d8-4b2d-a69d-39a2af18bed0",
   "metadata": {
    "execution": {
     "iopub.execute_input": "2021-04-25T22:46:22.132000-07:00",
     "iopub.status.busy": "2021-04-25T22:46:22.132000-07:00",
     "iopub.status.idle": "2021-04-25T22:46:22.146000-07:00",
     "shell.execute_reply": "2021-04-25T22:46:22.146000-07:00"
    },
    "tags": []
   },
   "outputs": [
    {
     "data": {
      "text/plain": [
       "-1"
      ]
     },
     "execution_count": 51,
     "metadata": {},
     "output_type": "execute_result"
    }
   ],
   "source": [
    "test2(x=1,y=2)"
   ]
  },
  {
   "cell_type": "markdown",
   "id": "c22a6105-0faa-47eb-80ac-0ff8fba8073f",
   "metadata": {},
   "source": [
    "### Closures"
   ]
  },
  {
   "cell_type": "code",
   "execution_count": 61,
   "id": "16bc127d-8550-449d-88b5-1e546863e9ab",
   "metadata": {
    "execution": {
     "iopub.execute_input": "2021-04-25T23:04:15.408000-07:00",
     "iopub.status.busy": "2021-04-25T23:04:15.408000-07:00",
     "iopub.status.idle": "2021-04-25T23:04:15.410000-07:00",
     "shell.execute_reply": "2021-04-25T23:04:15.410000-07:00"
    },
    "tags": []
   },
   "outputs": [
    {
     "data": {
      "text/plain": [
       "foo (generic function with 1 method)"
      ]
     },
     "execution_count": 61,
     "metadata": {},
     "output_type": "execute_result"
    }
   ],
   "source": [
    "foo(x) = () -> x"
   ]
  },
  {
   "cell_type": "code",
   "execution_count": 67,
   "id": "9adeb7f0-ba2c-4af2-9b00-baedd8b6a5a7",
   "metadata": {
    "execution": {
     "iopub.execute_input": "2021-04-25T23:05:39.638000-07:00",
     "iopub.status.busy": "2021-04-25T23:05:39.638000-07:00",
     "iopub.status.idle": "2021-04-25T23:05:40.380000-07:00",
     "shell.execute_reply": "2021-04-25T23:05:40.380000-07:00"
    },
    "tags": []
   },
   "outputs": [
    {
     "data": {
      "image/svg+xml": [
       "<?xml version=\"1.0\" encoding=\"utf-8\"?>\n",
       "<svg xmlns=\"http://www.w3.org/2000/svg\" xmlns:xlink=\"http://www.w3.org/1999/xlink\" width=\"600\" height=\"400\" viewBox=\"0 0 2400 1600\">\n",
       "<defs>\n",
       "  <clipPath id=\"clip4700\">\n",
       "    <rect x=\"0\" y=\"0\" width=\"2400\" height=\"1600\"/>\n",
       "  </clipPath>\n",
       "</defs>\n",
       "<path clip-path=\"url(#clip4700)\" d=\"\n",
       "M0 1600 L2400 1600 L2400 0 L0 0  Z\n",
       "  \" fill=\"#ffffff\" fill-rule=\"evenodd\" fill-opacity=\"1\"/>\n",
       "<defs>\n",
       "  <clipPath id=\"clip4701\">\n",
       "    <rect x=\"480\" y=\"0\" width=\"1681\" height=\"1600\"/>\n",
       "  </clipPath>\n",
       "</defs>\n",
       "<path clip-path=\"url(#clip4700)\" d=\"\n",
       "M126.969 1486.45 L2352.76 1486.45 L2352.76 47.2441 L126.969 47.2441  Z\n",
       "  \" fill=\"#ffffff\" fill-rule=\"evenodd\" fill-opacity=\"1\"/>\n",
       "<defs>\n",
       "  <clipPath id=\"clip4702\">\n",
       "    <rect x=\"126\" y=\"47\" width=\"2227\" height=\"1440\"/>\n",
       "  </clipPath>\n",
       "</defs>\n",
       "<polyline clip-path=\"url(#clip4702)\" style=\"stroke:#000000; stroke-width:2; stroke-opacity:0.1; fill:none\" points=\"\n",
       "  399.943,1486.45 399.943,47.2441 \n",
       "  \"/>\n",
       "<polyline clip-path=\"url(#clip4702)\" style=\"stroke:#000000; stroke-width:2; stroke-opacity:0.1; fill:none\" points=\"\n",
       "  819.902,1486.45 819.902,47.2441 \n",
       "  \"/>\n",
       "<polyline clip-path=\"url(#clip4702)\" style=\"stroke:#000000; stroke-width:2; stroke-opacity:0.1; fill:none\" points=\"\n",
       "  1239.86,1486.45 1239.86,47.2441 \n",
       "  \"/>\n",
       "<polyline clip-path=\"url(#clip4702)\" style=\"stroke:#000000; stroke-width:2; stroke-opacity:0.1; fill:none\" points=\"\n",
       "  1659.82,1486.45 1659.82,47.2441 \n",
       "  \"/>\n",
       "<polyline clip-path=\"url(#clip4702)\" style=\"stroke:#000000; stroke-width:2; stroke-opacity:0.1; fill:none\" points=\"\n",
       "  2079.78,1486.45 2079.78,47.2441 \n",
       "  \"/>\n",
       "<polyline clip-path=\"url(#clip4702)\" style=\"stroke:#000000; stroke-width:2; stroke-opacity:0.1; fill:none\" points=\"\n",
       "  126.969,1309.94 2352.76,1309.94 \n",
       "  \"/>\n",
       "<polyline clip-path=\"url(#clip4702)\" style=\"stroke:#000000; stroke-width:2; stroke-opacity:0.1; fill:none\" points=\"\n",
       "  126.969,1038.39 2352.76,1038.39 \n",
       "  \"/>\n",
       "<polyline clip-path=\"url(#clip4702)\" style=\"stroke:#000000; stroke-width:2; stroke-opacity:0.1; fill:none\" points=\"\n",
       "  126.969,766.846 2352.76,766.846 \n",
       "  \"/>\n",
       "<polyline clip-path=\"url(#clip4702)\" style=\"stroke:#000000; stroke-width:2; stroke-opacity:0.1; fill:none\" points=\"\n",
       "  126.969,495.298 2352.76,495.298 \n",
       "  \"/>\n",
       "<polyline clip-path=\"url(#clip4702)\" style=\"stroke:#000000; stroke-width:2; stroke-opacity:0.1; fill:none\" points=\"\n",
       "  126.969,223.75 2352.76,223.75 \n",
       "  \"/>\n",
       "<polyline clip-path=\"url(#clip4700)\" style=\"stroke:#000000; stroke-width:4; stroke-opacity:1; fill:none\" points=\"\n",
       "  126.969,1486.45 2352.76,1486.45 \n",
       "  \"/>\n",
       "<polyline clip-path=\"url(#clip4700)\" style=\"stroke:#000000; stroke-width:4; stroke-opacity:1; fill:none\" points=\"\n",
       "  126.969,1486.45 126.969,47.2441 \n",
       "  \"/>\n",
       "<polyline clip-path=\"url(#clip4700)\" style=\"stroke:#000000; stroke-width:4; stroke-opacity:1; fill:none\" points=\"\n",
       "  399.943,1486.45 399.943,1469.18 \n",
       "  \"/>\n",
       "<polyline clip-path=\"url(#clip4700)\" style=\"stroke:#000000; stroke-width:4; stroke-opacity:1; fill:none\" points=\"\n",
       "  819.902,1486.45 819.902,1469.18 \n",
       "  \"/>\n",
       "<polyline clip-path=\"url(#clip4700)\" style=\"stroke:#000000; stroke-width:4; stroke-opacity:1; fill:none\" points=\"\n",
       "  1239.86,1486.45 1239.86,1469.18 \n",
       "  \"/>\n",
       "<polyline clip-path=\"url(#clip4700)\" style=\"stroke:#000000; stroke-width:4; stroke-opacity:1; fill:none\" points=\"\n",
       "  1659.82,1486.45 1659.82,1469.18 \n",
       "  \"/>\n",
       "<polyline clip-path=\"url(#clip4700)\" style=\"stroke:#000000; stroke-width:4; stroke-opacity:1; fill:none\" points=\"\n",
       "  2079.78,1486.45 2079.78,1469.18 \n",
       "  \"/>\n",
       "<polyline clip-path=\"url(#clip4700)\" style=\"stroke:#000000; stroke-width:4; stroke-opacity:1; fill:none\" points=\"\n",
       "  126.969,1309.94 153.678,1309.94 \n",
       "  \"/>\n",
       "<polyline clip-path=\"url(#clip4700)\" style=\"stroke:#000000; stroke-width:4; stroke-opacity:1; fill:none\" points=\"\n",
       "  126.969,1038.39 153.678,1038.39 \n",
       "  \"/>\n",
       "<polyline clip-path=\"url(#clip4700)\" style=\"stroke:#000000; stroke-width:4; stroke-opacity:1; fill:none\" points=\"\n",
       "  126.969,766.846 153.678,766.846 \n",
       "  \"/>\n",
       "<polyline clip-path=\"url(#clip4700)\" style=\"stroke:#000000; stroke-width:4; stroke-opacity:1; fill:none\" points=\"\n",
       "  126.969,495.298 153.678,495.298 \n",
       "  \"/>\n",
       "<polyline clip-path=\"url(#clip4700)\" style=\"stroke:#000000; stroke-width:4; stroke-opacity:1; fill:none\" points=\"\n",
       "  126.969,223.75 153.678,223.75 \n",
       "  \"/>\n",
       "<path clip-path=\"url(#clip4700)\" d=\"M 0 0 M379.954 1525.04 L392.431 1525.04 L392.431 1528.83 L379.954 1528.83 L379.954 1525.04 Z\" fill=\"#000000\" fill-rule=\"evenodd\" fill-opacity=\"1\" /><path clip-path=\"url(#clip4700)\" d=\"M 0 0 M410.348 1509.43 L398.542 1527.88 L410.348 1527.88 L410.348 1509.43 M409.121 1505.36 L415 1505.36 L415 1527.88 L419.931 1527.88 L419.931 1531.77 L415 1531.77 L415 1539.92 L410.348 1539.92 L410.348 1531.77 L394.746 1531.77 L394.746 1527.26 L409.121 1505.36 Z\" fill=\"#000000\" fill-rule=\"evenodd\" fill-opacity=\"1\" /><path clip-path=\"url(#clip4700)\" d=\"M 0 0 M800.956 1525.04 L813.433 1525.04 L813.433 1528.83 L800.956 1528.83 L800.956 1525.04 Z\" fill=\"#000000\" fill-rule=\"evenodd\" fill-opacity=\"1\" /><path clip-path=\"url(#clip4700)\" d=\"M 0 0 M822.53 1535.98 L838.849 1535.98 L838.849 1539.92 L816.905 1539.92 L816.905 1535.98 Q819.567 1533.23 824.15 1528.6 Q828.757 1523.95 829.937 1522.61 Q832.183 1520.08 833.062 1518.35 Q833.965 1516.59 833.965 1514.9 Q833.965 1512.14 832.02 1510.41 Q830.099 1508.67 826.997 1508.67 Q824.798 1508.67 822.345 1509.43 Q819.914 1510.2 817.136 1511.75 L817.136 1507.03 Q819.96 1505.89 822.414 1505.31 Q824.868 1504.73 826.905 1504.73 Q832.275 1504.73 835.47 1507.42 Q838.664 1510.11 838.664 1514.6 Q838.664 1516.73 837.854 1518.65 Q837.067 1520.54 834.96 1523.14 Q834.382 1523.81 831.28 1527.03 Q828.178 1530.22 822.53 1535.98 Z\" fill=\"#000000\" fill-rule=\"evenodd\" fill-opacity=\"1\" /><path clip-path=\"url(#clip4700)\" d=\"M 0 0 M1239.86 1508.44 Q1236.25 1508.44 1234.42 1512 Q1232.62 1515.55 1232.62 1522.67 Q1232.62 1529.78 1234.42 1533.35 Q1236.25 1536.89 1239.86 1536.89 Q1243.5 1536.89 1245.3 1533.35 Q1247.13 1529.78 1247.13 1522.67 Q1247.13 1515.55 1245.3 1512 Q1243.5 1508.44 1239.86 1508.44 M1239.86 1504.73 Q1245.67 1504.73 1248.73 1509.34 Q1251.81 1513.92 1251.81 1522.67 Q1251.81 1531.4 1248.73 1536.01 Q1245.67 1540.59 1239.86 1540.59 Q1234.05 1540.59 1230.97 1536.01 Q1227.92 1531.4 1227.92 1522.67 Q1227.92 1513.92 1230.97 1509.34 Q1234.05 1504.73 1239.86 1504.73 Z\" fill=\"#000000\" fill-rule=\"evenodd\" fill-opacity=\"1\" /><path clip-path=\"url(#clip4700)\" d=\"M 0 0 M1654.47 1535.98 L1670.79 1535.98 L1670.79 1539.92 L1648.85 1539.92 L1648.85 1535.98 Q1651.51 1533.23 1656.1 1528.6 Q1660.7 1523.95 1661.88 1522.61 Q1664.13 1520.08 1665.01 1518.35 Q1665.91 1516.59 1665.91 1514.9 Q1665.91 1512.14 1663.97 1510.41 Q1662.04 1508.67 1658.94 1508.67 Q1656.74 1508.67 1654.29 1509.43 Q1651.86 1510.2 1649.08 1511.75 L1649.08 1507.03 Q1651.91 1505.89 1654.36 1505.31 Q1656.81 1504.73 1658.85 1504.73 Q1664.22 1504.73 1667.41 1507.42 Q1670.61 1510.11 1670.61 1514.6 Q1670.61 1516.73 1669.8 1518.65 Q1669.01 1520.54 1666.91 1523.14 Q1666.33 1523.81 1663.22 1527.03 Q1660.12 1530.22 1654.47 1535.98 Z\" fill=\"#000000\" fill-rule=\"evenodd\" fill-opacity=\"1\" /><path clip-path=\"url(#clip4700)\" d=\"M 0 0 M2082.79 1509.43 L2070.99 1527.88 L2082.79 1527.88 L2082.79 1509.43 M2081.56 1505.36 L2087.44 1505.36 L2087.44 1527.88 L2092.37 1527.88 L2092.37 1531.77 L2087.44 1531.77 L2087.44 1539.92 L2082.79 1539.92 L2082.79 1531.77 L2067.19 1531.77 L2067.19 1527.26 L2081.56 1505.36 Z\" fill=\"#000000\" fill-rule=\"evenodd\" fill-opacity=\"1\" /><path clip-path=\"url(#clip4700)\" d=\"M 0 0 M62.9921 1312.34 L75.4689 1312.34 L75.4689 1316.13 L62.9921 1316.13 L62.9921 1312.34 Z\" fill=\"#000000\" fill-rule=\"evenodd\" fill-opacity=\"1\" /><path clip-path=\"url(#clip4700)\" d=\"M 0 0 M93.3855 1296.74 L81.58 1315.18 L93.3855 1315.18 L93.3855 1296.74 M92.1586 1292.66 L98.0382 1292.66 L98.0382 1315.18 L102.969 1315.18 L102.969 1319.07 L98.0382 1319.07 L98.0382 1327.22 L93.3855 1327.22 L93.3855 1319.07 L77.7837 1319.07 L77.7837 1314.56 L92.1586 1292.66 Z\" fill=\"#000000\" fill-rule=\"evenodd\" fill-opacity=\"1\" /><path clip-path=\"url(#clip4700)\" d=\"M 0 0 M65.0754 1040.79 L77.5522 1040.79 L77.5522 1044.59 L65.0754 1044.59 L65.0754 1040.79 Z\" fill=\"#000000\" fill-rule=\"evenodd\" fill-opacity=\"1\" /><path clip-path=\"url(#clip4700)\" d=\"M 0 0 M86.6494 1051.74 L102.969 1051.74 L102.969 1055.67 L81.0244 1055.67 L81.0244 1051.74 Q83.6865 1048.98 88.2698 1044.35 Q92.8762 1039.7 94.0568 1038.36 Q96.3021 1035.84 97.1818 1034.1 Q98.0845 1032.34 98.0845 1030.65 Q98.0845 1027.9 96.1401 1026.16 Q94.2188 1024.42 91.117 1024.42 Q88.9179 1024.42 86.4642 1025.19 Q84.0337 1025.95 81.2559 1027.5 L81.2559 1022.78 Q84.08 1021.65 86.5337 1021.07 Q88.9874 1020.49 91.0244 1020.49 Q96.3947 1020.49 99.5892 1023.17 Q102.784 1025.86 102.784 1030.35 Q102.784 1032.48 101.973 1034.4 Q101.186 1036.3 99.0799 1038.89 Q98.5012 1039.56 95.3994 1042.78 Q92.2975 1045.97 86.6494 1051.74 Z\" fill=\"#000000\" fill-rule=\"evenodd\" fill-opacity=\"1\" /><path clip-path=\"url(#clip4700)\" d=\"M 0 0 M91.0244 752.645 Q87.4133 752.645 85.5846 756.209 Q83.7791 759.751 83.7791 766.881 Q83.7791 773.987 85.5846 777.552 Q87.4133 781.094 91.0244 781.094 Q94.6586 781.094 96.4642 777.552 Q98.2929 773.987 98.2929 766.881 Q98.2929 759.751 96.4642 756.209 Q94.6586 752.645 91.0244 752.645 M91.0244 748.941 Q96.8345 748.941 99.8901 753.547 Q102.969 758.131 102.969 766.881 Q102.969 775.608 99.8901 780.214 Q96.8345 784.797 91.0244 784.797 Q85.2142 784.797 82.1355 780.214 Q79.08 775.608 79.08 766.881 Q79.08 758.131 82.1355 753.547 Q85.2142 748.941 91.0244 748.941 Z\" fill=\"#000000\" fill-rule=\"evenodd\" fill-opacity=\"1\" /><path clip-path=\"url(#clip4700)\" d=\"M 0 0 M86.6494 508.643 L102.969 508.643 L102.969 512.578 L81.0244 512.578 L81.0244 508.643 Q83.6865 505.888 88.2698 501.259 Q92.8762 496.606 94.0568 495.263 Q96.3021 492.74 97.1818 491.004 Q98.0845 489.245 98.0845 487.555 Q98.0845 484.8 96.1401 483.064 Q94.2188 481.328 91.117 481.328 Q88.9179 481.328 86.4642 482.092 Q84.0337 482.856 81.2559 484.407 L81.2559 479.685 Q84.08 478.551 86.5337 477.972 Q88.9874 477.393 91.0244 477.393 Q96.3947 477.393 99.5892 480.078 Q102.784 482.763 102.784 487.254 Q102.784 489.384 101.973 491.305 Q101.186 493.203 99.0799 495.796 Q98.5012 496.467 95.3994 499.685 Q92.2975 502.879 86.6494 508.643 Z\" fill=\"#000000\" fill-rule=\"evenodd\" fill-opacity=\"1\" /><path clip-path=\"url(#clip4700)\" d=\"M 0 0 M93.3855 210.544 L81.58 228.993 L93.3855 228.993 L93.3855 210.544 M92.1586 206.47 L98.0382 206.47 L98.0382 228.993 L102.969 228.993 L102.969 232.882 L98.0382 232.882 L98.0382 241.03 L93.3855 241.03 L93.3855 232.882 L77.7837 232.882 L77.7837 228.368 L92.1586 206.47 Z\" fill=\"#000000\" fill-rule=\"evenodd\" fill-opacity=\"1\" /><polyline clip-path=\"url(#clip4702)\" style=\"stroke:#009af9; stroke-width:4; stroke-opacity:1; fill:none\" points=\"\n",
       "  189.963,1445.72 210.469,1432.46 400.079,1309.85 514.027,1236.17 610.368,1173.88 715.022,1106.21 811.503,1043.82 914.941,976.941 1034.78,899.45 1141.29,830.585 \n",
       "  1234.68,770.196 1336.5,704.357 1438.93,638.126 1552.18,564.899 1659.93,495.226 1771.97,422.781 1866.28,361.799 1981.43,287.346 2089.67,217.358 2263.08,105.232 \n",
       "  2289.76,87.9763 \n",
       "  \"/>\n",
       "<path clip-path=\"url(#clip4700)\" d=\"\n",
       "M1989.74 251.724 L2280.76 251.724 L2280.76 130.764 L1989.74 130.764  Z\n",
       "  \" fill=\"#ffffff\" fill-rule=\"evenodd\" fill-opacity=\"1\"/>\n",
       "<polyline clip-path=\"url(#clip4700)\" style=\"stroke:#000000; stroke-width:4; stroke-opacity:1; fill:none\" points=\"\n",
       "  1989.74,251.724 2280.76,251.724 2280.76,130.764 1989.74,130.764 1989.74,251.724 \n",
       "  \"/>\n",
       "<polyline clip-path=\"url(#clip4700)\" style=\"stroke:#009af9; stroke-width:4; stroke-opacity:1; fill:none\" points=\"\n",
       "  2013.74,191.244 2157.74,191.244 \n",
       "  \"/>\n",
       "<path clip-path=\"url(#clip4700)\" d=\"M 0 0 M2195.58 210.931 Q2193.77 215.561 2192.06 216.973 Q2190.35 218.385 2187.48 218.385 L2184.08 218.385 L2184.08 214.82 L2186.58 214.82 Q2188.33 214.82 2189.31 213.987 Q2190.28 213.154 2191.46 210.052 L2192.22 208.107 L2181.74 182.598 L2186.25 182.598 L2194.35 202.876 L2202.46 182.598 L2206.97 182.598 L2195.58 210.931 Z\" fill=\"#000000\" fill-rule=\"evenodd\" fill-opacity=\"1\" /><path clip-path=\"url(#clip4700)\" d=\"M 0 0 M2212.85 204.589 L2220.49 204.589 L2220.49 178.223 L2212.18 179.89 L2212.18 175.631 L2220.44 173.964 L2225.12 173.964 L2225.12 204.589 L2232.76 204.589 L2232.76 208.524 L2212.85 208.524 L2212.85 204.589 Z\" fill=\"#000000\" fill-rule=\"evenodd\" fill-opacity=\"1\" /></svg>\n"
      ]
     },
     "execution_count": 67,
     "metadata": {},
     "output_type": "execute_result"
    }
   ],
   "source": [
    "plot(x->foo(x)())"
   ]
  },
  {
   "cell_type": "code",
   "execution_count": 99,
   "id": "9fee457f-44b8-4ccc-a8dd-1c781fed617e",
   "metadata": {
    "execution": {
     "iopub.execute_input": "2021-04-25T23:18:12.126000-07:00",
     "iopub.status.busy": "2021-04-25T23:18:12.126000-07:00",
     "iopub.status.idle": "2021-04-25T23:18:12.128000-07:00",
     "shell.execute_reply": "2021-04-25T23:18:12.128000-07:00"
    },
    "tags": []
   },
   "outputs": [
    {
     "data": {
      "text/plain": [
       "#51 (generic function with 1 method)"
      ]
     },
     "execution_count": 99,
     "metadata": {},
     "output_type": "execute_result"
    }
   ],
   "source": [
    "bar2 = foo(1)"
   ]
  },
  {
   "cell_type": "code",
   "execution_count": 69,
   "id": "280a5b88-de5c-4d84-b107-a45887df5379",
   "metadata": {
    "execution": {
     "iopub.execute_input": "2021-04-25T23:06:14.728000-07:00",
     "iopub.status.busy": "2021-04-25T23:06:14.727000-07:00",
     "iopub.status.idle": "2021-04-25T23:06:14.730000-07:00",
     "shell.execute_reply": "2021-04-25T23:06:14.730000-07:00"
    },
    "tags": []
   },
   "outputs": [
    {
     "data": {
      "text/plain": [
       "foo (generic function with 1 method)"
      ]
     },
     "execution_count": 69,
     "metadata": {},
     "output_type": "execute_result"
    }
   ],
   "source": [
    "foo(y) = x -> y*x"
   ]
  },
  {
   "cell_type": "code",
   "execution_count": 97,
   "id": "23ce0466-0253-4f3d-8e81-b40b8575557d",
   "metadata": {
    "execution": {
     "iopub.execute_input": "2021-04-25T23:17:30.831000-07:00",
     "iopub.status.busy": "2021-04-25T23:17:30.830000-07:00",
     "iopub.status.idle": "2021-04-25T23:17:33.856000-07:00",
     "shell.execute_reply": "2021-04-25T23:17:33.856000-07:00"
    },
    "tags": []
   },
   "outputs": [
    {
     "data": {
      "text/plain": [
       "Animation(\"/tmp/jl_PhAbgr\", [\"000001.png\", \"000002.png\", \"000003.png\", \"000004.png\", \"000005.png\", \"000006.png\", \"000007.png\", \"000008.png\", \"000009.png\", \"000010.png\"  …  \"000091.png\", \"000092.png\", \"000093.png\", \"000094.png\", \"000095.png\", \"000096.png\", \"000097.png\", \"000098.png\", \"000099.png\", \"000100.png\"])"
      ]
     },
     "execution_count": 97,
     "metadata": {},
     "output_type": "execute_result"
    }
   ],
   "source": [
    "# fig = plot(x->foo(1)(x))\n",
    "ani = @animate for i in 1:100\n",
    "    plot(x->foo(i)(x),ylims=[-50,50],grid=:none)\n",
    "end"
   ]
  },
  {
   "cell_type": "code",
   "execution_count": 98,
   "id": "21742988-63bd-4baa-b1e6-8e6e00f08e2e",
   "metadata": {
    "execution": {
     "iopub.execute_input": "2021-04-25T23:17:33.858000-07:00",
     "iopub.status.busy": "2021-04-25T23:17:33.858000-07:00",
     "iopub.status.idle": "2021-04-25T23:17:34.799000-07:00",
     "shell.execute_reply": "2021-04-25T23:17:34.799000-07:00"
    },
    "tags": []
   },
   "outputs": [
    {
     "name": "stderr",
     "output_type": "stream",
     "text": [
      "┌ Info: Saved animation to \n",
      "│   fn = /home/me/code/Julia/ThinkJulia/tmp.gif\n",
      "└ @ Plots /home/me/.julia/packages/Plots/8GUYs/src/animation.jl:102\n"
     ]
    },
    {
     "data": {
      "text/html": [
       "<img src=\"data:image/gif;base64,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\" />"
      ],
      "text/plain": [
       "Plots.AnimatedGif(\"/home/me/code/Julia/ThinkJulia/tmp.gif\")"
      ]
     },
     "execution_count": 98,
     "metadata": {},
     "output_type": "execute_result"
    }
   ],
   "source": [
    "gif(ani)"
   ]
  },
  {
   "cell_type": "markdown",
   "id": "09ae2cc6-1d9a-49a4-b621-4c0292598e2d",
   "metadata": {},
   "source": [
    "## Blocks\n",
    "```julia\n",
    "begin\n",
    "    ......\n",
    "end\n",
    "```"
   ]
  },
  {
   "cell_type": "code",
   "execution_count": 103,
   "id": "14298428-194f-4a34-b169-1edb5c217f9b",
   "metadata": {
    "execution": {
     "iopub.execute_input": "2021-04-25T23:20:09.550000-07:00",
     "iopub.status.busy": "2021-04-25T23:20:09.549000-07:00",
     "iopub.status.idle": "2021-04-25T23:20:15.700000-07:00",
     "shell.execute_reply": "2021-04-25T23:20:15.699000-07:00"
    },
    "tags": []
   },
   "outputs": [
    {
     "name": "stderr",
     "output_type": "stream",
     "text": [
      "┌ Info: Precompiling ThinkJulia [a7f2b756-c18b-4c7f-87da-faca9ac81b29]\n",
      "└ @ Base loading.jl:1317\n",
      "┌ Info: Skipping precompilation since __precompile__(false). Importing ThinkJulia [a7f2b756-c18b-4c7f-87da-faca9ac81b29].\n",
      "└ @ Base loading.jl:1025\n"
     ]
    }
   ],
   "source": [
    "using ThinkJulia"
   ]
  },
  {
   "cell_type": "code",
   "execution_count": 104,
   "id": "cb9cb446-d514-44ac-b46d-6ab51b7f3932",
   "metadata": {
    "execution": {
     "iopub.execute_input": "2021-04-25T23:20:17.848000-07:00",
     "iopub.status.busy": "2021-04-25T23:20:17.713000-07:00",
     "iopub.status.idle": "2021-04-25T23:20:18.294000-07:00",
     "shell.execute_reply": "2021-04-25T23:20:18.293000-07:00"
    },
    "tags": []
   },
   "outputs": [
    {
     "data": {
      "text/plain": [
       "Turtle(0.0, 0.0, true, 0.0, (0.0, 0.0, 0.0))"
      ]
     },
     "execution_count": 104,
     "metadata": {},
     "output_type": "execute_result"
    }
   ],
   "source": [
    "t = Turtle()"
   ]
  },
  {
   "cell_type": "code",
   "execution_count": 131,
   "id": "348301fd-4df8-4b7d-b7e3-c91de84fcde5",
   "metadata": {
    "execution": {
     "iopub.execute_input": "2021-04-25T23:28:33.123000-07:00",
     "iopub.status.busy": "2021-04-25T23:28:33.123000-07:00",
     "iopub.status.idle": "2021-04-25T23:28:33.126000-07:00",
     "shell.execute_reply": "2021-04-25T23:28:33.125000-07:00"
    },
    "tags": []
   },
   "outputs": [
    {
     "data": {
      "image/svg+xml": [
       "<?xml version=\"1.0\" encoding=\"UTF-8\"?>\n",
       "<svg xmlns=\"http://www.w3.org/2000/svg\" xmlns:xlink=\"http://www.w3.org/1999/xlink\" width=\"600pt\" height=\"600pt\" viewBox=\"0 0 600 600\" version=\"1.1\">\n",
       "<g id=\"surface16\">\n",
       "<rect x=\"0\" y=\"0\" width=\"600\" height=\"600\" style=\"fill:rgb(100%,100%,100%);fill-opacity:1;stroke:none;\"/>\n",
       "<path style=\"fill:none;stroke-width:2;stroke-linecap:butt;stroke-linejoin:miter;stroke:rgb(0%,0%,0%);stroke-opacity:1;stroke-miterlimit:10;\" d=\"M 335.222656 317.972656 L 331.800781 327.371094 \"/>\n",
       "<path style=\"fill:none;stroke-width:2;stroke-linecap:butt;stroke-linejoin:miter;stroke:rgb(0%,0%,0%);stroke-opacity:1;stroke-miterlimit:10;\" d=\"M 331.800781 327.371094 L 322.40625 323.949219 \"/>\n",
       "</g>\n",
       "</svg>\n"
      ]
     },
     "metadata": {},
     "output_type": "display_data"
    }
   ],
   "source": [
    "@svg begin\n",
    "    forward(t,10)\n",
    "    turn(t,90)\n",
    "    forward(t,10)\n",
    "end"
   ]
  },
  {
   "cell_type": "code",
   "execution_count": 132,
   "id": "46a3d3af-5f7c-4335-945e-cf0c0865882a",
   "metadata": {
    "execution": {
     "iopub.execute_input": "2021-04-25T23:28:37.123000-07:00",
     "iopub.status.busy": "2021-04-25T23:28:37.123000-07:00",
     "iopub.status.idle": "2021-04-25T23:28:37.161000-07:00",
     "shell.execute_reply": "2021-04-25T23:28:37.159000-07:00"
    },
    "tags": []
   },
   "outputs": [],
   "source": [
    "for i in readdir(pwd())\n",
    "    if length(i) > 3\n",
    "        if i[(end-3):end]==\".svg\"\n",
    "            rm(i)\n",
    "        end\n",
    "    end\n",
    "end"
   ]
  },
  {
   "cell_type": "markdown",
   "id": "c5f5e0a4-2527-4b65-a1e7-ad4092fb1e58",
   "metadata": {},
   "source": [
    "### let Blocks\n",
    "```julia\n",
    "let\n",
    "    ......\n",
    "end\n",
    "```"
   ]
  },
  {
   "cell_type": "code",
   "execution_count": 134,
   "id": "0cd3579c-8752-4036-8059-a54ead153c19",
   "metadata": {
    "execution": {
     "iopub.execute_input": "2021-04-25T23:31:02.123000-07:00",
     "iopub.status.busy": "2021-04-25T23:31:02.122000-07:00",
     "iopub.status.idle": "2021-04-25T23:31:02.571000-07:00",
     "shell.execute_reply": "2021-04-25T23:31:02.570000-07:00"
    },
    "tags": []
   },
   "outputs": [
    {
     "data": {
      "text/plain": [
       "(-1, -1, -1)"
      ]
     },
     "execution_count": 134,
     "metadata": {},
     "output_type": "execute_result"
    }
   ],
   "source": [
    "x, y, z = -1, -1, -1"
   ]
  },
  {
   "cell_type": "markdown",
   "id": "66efcaf3-bc18-411d-a9f7-0e5d22871e5c",
   "metadata": {},
   "source": [
    "* not `let x=(1,z)` but `let (x = 1), z`, therefore `local z` is undefined"
   ]
  },
  {
   "cell_type": "code",
   "execution_count": 139,
   "id": "ac3eb676-a771-484f-9ee0-418479ffb517",
   "metadata": {
    "execution": {
     "iopub.execute_input": "2021-04-25T23:32:02.722000-07:00",
     "iopub.status.busy": "2021-04-25T23:32:02.722000-07:00",
     "iopub.status.idle": "2021-04-25T23:32:02.738000-07:00",
     "shell.execute_reply": "2021-04-25T23:32:02.737000-07:00"
    },
    "tags": []
   },
   "outputs": [
    {
     "name": "stdout",
     "output_type": "stream",
     "text": [
      "x = 1\n",
      "y = -1\n"
     ]
    },
    {
     "ename": "LoadError",
     "evalue": "UndefVarError: z not defined",
     "output_type": "error",
     "traceback": [
      "UndefVarError: z not defined",
      "",
      "Stacktrace:",
      " [1] macro expansion",
      "   @ show.jl:955 [inlined]",
      " [2] top-level scope",
      "   @ In[139]:2",
      " [3] eval",
      "   @ ./boot.jl:360 [inlined]",
      " [4] include_string(mapexpr::typeof(REPL.softscope), mod::Module, code::String, filename::String)",
      "   @ Base ./loading.jl:1094"
     ]
    }
   ],
   "source": [
    "let x = 1, z\n",
    "    @show x y z\n",
    "end"
   ]
  },
  {
   "cell_type": "code",
   "execution_count": 140,
   "id": "0b9da532-759d-4764-b29c-80b6968b2a3b",
   "metadata": {
    "execution": {
     "iopub.execute_input": "2021-04-25T23:33:04.674000-07:00",
     "iopub.status.busy": "2021-04-25T23:33:04.674000-07:00",
     "iopub.status.idle": "2021-04-25T23:33:04.676000-07:00",
     "shell.execute_reply": "2021-04-25T23:33:04.676000-07:00"
    },
    "tags": []
   },
   "outputs": [
    {
     "name": "stdout",
     "output_type": "stream",
     "text": [
      "x = -1\n",
      "y = -1\n",
      "z = -1\n"
     ]
    },
    {
     "data": {
      "text/plain": [
       "-1"
      ]
     },
     "execution_count": 140,
     "metadata": {},
     "output_type": "execute_result"
    }
   ],
   "source": [
    "@show x y z"
   ]
  },
  {
   "cell_type": "markdown",
   "id": "f24d15b8-6cae-4156-ae5c-48859472198b",
   "metadata": {},
   "source": [
    "### do Blocks\n",
    "```julia\n",
    "open() do f\n",
    "    write(f,args...)\n",
    "end\n",
    "```"
   ]
  },
  {
   "cell_type": "code",
   "execution_count": 173,
   "id": "6a1d5f6e-f5a5-4ae2-8baa-8b54e98bbfeb",
   "metadata": {
    "execution": {
     "iopub.execute_input": "2021-04-26T00:04:17.934000-07:00",
     "iopub.status.busy": "2021-04-26T00:04:17.934000-07:00",
     "iopub.status.idle": "2021-04-26T00:04:17.960000-07:00",
     "shell.execute_reply": "2021-04-26T00:04:17.959000-07:00"
    },
    "tags": []
   },
   "outputs": [
    {
     "data": {
      "text/plain": [
       "49"
      ]
     },
     "execution_count": 173,
     "metadata": {},
     "output_type": "execute_result"
    }
   ],
   "source": [
    "data = \"There here's the wattle,\\nthe emblem of our land.\\n\";\n",
    "open(\"Chap14/output.txt\",\"w\") do fout\n",
    "    write(fout,data)\n",
    "end"
   ]
  },
  {
   "cell_type": "markdown",
   "id": "60489c09-2dca-44d7-92c7-cd441bd79747",
   "metadata": {},
   "source": [
    "is equal to"
   ]
  },
  {
   "cell_type": "code",
   "execution_count": 174,
   "id": "65bd2530-0f03-46ca-9084-18c8a026a0ff",
   "metadata": {
    "execution": {
     "iopub.execute_input": "2021-04-26T00:04:22.280000-07:00",
     "iopub.status.busy": "2021-04-26T00:04:22.279000-07:00",
     "iopub.status.idle": "2021-04-26T00:04:22.420000-07:00",
     "shell.execute_reply": "2021-04-26T00:04:22.420000-07:00"
    },
    "tags": []
   },
   "outputs": [
    {
     "data": {
      "text/plain": [
       "#113 (generic function with 1 method)"
      ]
     },
     "execution_count": 174,
     "metadata": {},
     "output_type": "execute_result"
    }
   ],
   "source": [
    "f2 = fout -> begin\n",
    "    write(fout, data)\n",
    "end"
   ]
  },
  {
   "cell_type": "code",
   "execution_count": null,
   "id": "52d7763a-2b63-4017-a5ab-fb306e9d91ee",
   "metadata": {
    "tags": []
   },
   "outputs": [],
   "source": [
    "open(f2,\"Chap14/output.txt\",\"w\")"
   ]
  },
  {
   "cell_type": "markdown",
   "id": "427cb133-c738-4324-8f77-f4fc0dfed6a7",
   "metadata": {},
   "source": [
    "`open(f::Founction, arg...)` ==\n",
    "```julia\n",
    "f_open = open(arg...)\n",
    "try\n",
    "    f(f_open)\n",
    "finally\n",
    "    close(f_open)\n",
    "end\n",
    "```"
   ]
  },
  {
   "cell_type": "code",
   "execution_count": 175,
   "id": "5dfbda48-1431-4812-b719-91b5fada5dae",
   "metadata": {
    "execution": {
     "iopub.execute_input": "2021-04-26T00:04:23.308000-07:00",
     "iopub.status.busy": "2021-04-26T00:04:23.308000-07:00",
     "iopub.status.idle": "2021-04-26T00:04:23.333000-07:00",
     "shell.execute_reply": "2021-04-26T00:04:23.333000-07:00"
    },
    "tags": []
   },
   "outputs": [
    {
     "data": {
      "text/plain": [
       "49"
      ]
     },
     "execution_count": 175,
     "metadata": {},
     "output_type": "execute_result"
    }
   ],
   "source": [
    "open(ff -> write(ff,data),\"output.txt\",\"w\")"
   ]
  },
  {
   "cell_type": "markdown",
   "id": "8ab05edd-de6a-4724-8a8e-0352f1166ce5",
   "metadata": {},
   "source": [
    "## Control Flow\n",
    "### Ternary Operator\n",
    "* `?:`"
   ]
  },
  {
   "cell_type": "code",
   "execution_count": 178,
   "id": "849f296f-974b-4442-8ba6-882f6040e576",
   "metadata": {
    "execution": {
     "iopub.execute_input": "2021-04-26T00:05:40.575000-07:00",
     "iopub.status.busy": "2021-04-26T00:05:40.575000-07:00",
     "iopub.status.idle": "2021-04-26T00:05:40.576000-07:00",
     "shell.execute_reply": "2021-04-26T00:05:40.576000-07:00"
    },
    "tags": []
   },
   "outputs": [
    {
     "name": "stdout",
     "output_type": "stream",
     "text": [
      "even\n"
     ]
    }
   ],
   "source": [
    "a = 150\n",
    "a % 2 == 0 ? println(\"even\") : println(\"odd\")"
   ]
  },
  {
   "cell_type": "markdown",
   "id": "3db142b5-215d-4dda-af5d-7c45510a8e51",
   "metadata": {},
   "source": [
    "### Short-Circuit Evaluation\n",
    "* `&&` and `||`\n",
    "    * `d1 || d2` \n",
    "    ```julia\n",
    "\n",
    "        if !(d1)\n",
    "            d2\n",
    "        end\n",
    "    ```\n",
    "    \n",
    "    * `d1 && d2`\n",
    "    ```julia\n",
    "\n",
    "        if d1\n",
    "            d2\n",
    "        end\n",
    "    ```"
   ]
  },
  {
   "cell_type": "code",
   "execution_count": 179,
   "id": "a20e8ee9-22a8-47ad-819e-9f95831d99b4",
   "metadata": {
    "execution": {
     "iopub.execute_input": "2021-04-26T00:07:49.121000-07:00",
     "iopub.status.busy": "2021-04-26T00:07:49.121000-07:00",
     "iopub.status.idle": "2021-04-26T00:07:49.272000-07:00",
     "shell.execute_reply": "2021-04-26T00:07:49.271000-07:00"
    },
    "tags": []
   },
   "outputs": [
    {
     "data": {
      "text/plain": [
       "fact (generic function with 1 method)"
      ]
     },
     "execution_count": 179,
     "metadata": {},
     "output_type": "execute_result"
    }
   ],
   "source": [
    "function fact(n)\n",
    "    n >= 0 || error(\"n must be non-negative\")\n",
    "    n == 0 && return 1\n",
    "    n * fact(n-1)\n",
    "end"
   ]
  },
  {
   "cell_type": "code",
   "execution_count": 180,
   "id": "59a79579-2a43-4070-943a-c02c0678cf56",
   "metadata": {
    "execution": {
     "iopub.execute_input": "2021-04-26T00:07:54.871000-07:00",
     "iopub.status.busy": "2021-04-26T00:07:54.870000-07:00",
     "iopub.status.idle": "2021-04-26T00:07:54.898000-07:00",
     "shell.execute_reply": "2021-04-26T00:07:54.897000-07:00"
    },
    "tags": []
   },
   "outputs": [
    {
     "ename": "LoadError",
     "evalue": "n must be non-negative",
     "output_type": "error",
     "traceback": [
      "n must be non-negative",
      "",
      "Stacktrace:",
      " [1] error(s::String)",
      "   @ Base ./error.jl:33",
      " [2] fact(n::Int64)",
      "   @ Main ./In[179]:2",
      " [3] top-level scope",
      "   @ In[180]:1",
      " [4] eval",
      "   @ ./boot.jl:360 [inlined]",
      " [5] include_string(mapexpr::typeof(REPL.softscope), mod::Module, code::String, filename::String)",
      "   @ Base ./loading.jl:1094"
     ]
    }
   ],
   "source": [
    "fact(-1)"
   ]
  },
  {
   "cell_type": "code",
   "execution_count": 181,
   "id": "8f8e51fe-801e-451a-a283-6a4c9b82e6c4",
   "metadata": {
    "execution": {
     "iopub.execute_input": "2021-04-26T00:07:58.185000-07:00",
     "iopub.status.busy": "2021-04-26T00:07:58.185000-07:00",
     "iopub.status.idle": "2021-04-26T00:07:58.186000-07:00",
     "shell.execute_reply": "2021-04-26T00:07:58.186000-07:00"
    },
    "tags": []
   },
   "outputs": [
    {
     "data": {
      "text/plain": [
       "3628800"
      ]
     },
     "execution_count": 181,
     "metadata": {},
     "output_type": "execute_result"
    }
   ],
   "source": [
    "fact(10)"
   ]
  },
  {
   "cell_type": "markdown",
   "id": "cd93ac73-4575-4c81-a4c4-c53ab2b00e91",
   "metadata": {},
   "source": [
    "### Tasks\n",
    "* like **generator** in python\n",
    "* `::Channel` Type\n",
    "* `put!(::Channel,::Any)`\n",
    "* `Channel()` ==> Create a task\n",
    "* `take!(Channel(Tasks))`"
   ]
  },
  {
   "cell_type": "code",
   "execution_count": 183,
   "id": "f26cef2a-11bf-4bfc-a524-a56efe221a17",
   "metadata": {
    "execution": {
     "iopub.execute_input": "2021-04-26T00:14:53.190000-07:00",
     "iopub.status.busy": "2021-04-26T00:14:53.190000-07:00",
     "iopub.status.idle": "2021-04-26T00:14:53.322000-07:00",
     "shell.execute_reply": "2021-04-26T00:14:53.321000-07:00"
    },
    "tags": []
   },
   "outputs": [
    {
     "data": {
      "text/plain": [
       "fib (generic function with 1 method)"
      ]
     },
     "execution_count": 183,
     "metadata": {},
     "output_type": "execute_result"
    }
   ],
   "source": [
    "function fib(c::Channel)\n",
    "    a = 0\n",
    "    b = 1\n",
    "    put!(c,a)\n",
    "    while true\n",
    "        put!(c,b)\n",
    "        (a,b) = (b,a+b)\n",
    "    end\n",
    "end"
   ]
  },
  {
   "cell_type": "code",
   "execution_count": 215,
   "id": "8e595a69-939b-419c-833e-333c95b28942",
   "metadata": {
    "execution": {
     "iopub.execute_input": "2021-04-26T00:26:54.691000-07:00",
     "iopub.status.busy": "2021-04-26T00:26:54.691000-07:00",
     "iopub.status.idle": "2021-04-26T00:26:54.693000-07:00",
     "shell.execute_reply": "2021-04-26T00:26:54.693000-07:00"
    },
    "tags": []
   },
   "outputs": [
    {
     "data": {
      "text/plain": [
       "Channel{Any}(0) (1 item available)"
      ]
     },
     "execution_count": 215,
     "metadata": {},
     "output_type": "execute_result"
    }
   ],
   "source": [
    "fib_gen=Channel(fib)"
   ]
  },
  {
   "cell_type": "code",
   "execution_count": 193,
   "id": "c03b9341-79df-4699-8c23-871f1c2f0faa",
   "metadata": {
    "execution": {
     "iopub.execute_input": "2021-04-26T00:15:14.122000-07:00",
     "iopub.status.busy": "2021-04-26T00:15:14.122000-07:00",
     "iopub.status.idle": "2021-04-26T00:15:14.124000-07:00",
     "shell.execute_reply": "2021-04-26T00:15:14.123000-07:00"
    },
    "tags": []
   },
   "outputs": [
    {
     "data": {
      "text/plain": [
       "21"
      ]
     },
     "execution_count": 193,
     "metadata": {},
     "output_type": "execute_result"
    }
   ],
   "source": [
    "take!(fib_gen)"
   ]
  },
  {
   "cell_type": "code",
   "execution_count": 202,
   "id": "31103821-256a-4689-a8a0-77b578b0e15c",
   "metadata": {
    "execution": {
     "iopub.execute_input": "2021-04-26T00:18:46.121000-07:00",
     "iopub.status.busy": "2021-04-26T00:18:46.121000-07:00",
     "iopub.status.idle": "2021-04-26T00:18:46.126000-07:00",
     "shell.execute_reply": "2021-04-26T00:18:46.125000-07:00"
    },
    "tags": []
   },
   "outputs": [
    {
     "data": {
      "text/plain": [
       "upper (generic function with 1 method)"
      ]
     },
     "execution_count": 202,
     "metadata": {},
     "output_type": "execute_result"
    }
   ],
   "source": [
    "function upper(c::Channel)\n",
    "    a = 1\n",
    "    while true\n",
    "        put!(c,a)\n",
    "        a+=1\n",
    "    end\n",
    "end\n",
    "    "
   ]
  },
  {
   "cell_type": "code",
   "execution_count": 218,
   "id": "bd748bd2-b0f3-4701-9b25-215c1186a10c",
   "metadata": {
    "execution": {
     "iopub.execute_input": "2021-04-26T00:28:00.566000-07:00",
     "iopub.status.busy": "2021-04-26T00:28:00.566000-07:00",
     "iopub.status.idle": "2021-04-26T00:28:00.568000-07:00",
     "shell.execute_reply": "2021-04-26T00:28:00.568000-07:00"
    },
    "tags": []
   },
   "outputs": [
    {
     "data": {
      "text/plain": [
       "Channel{Any}(0) (1 item available)"
      ]
     },
     "execution_count": 218,
     "metadata": {},
     "output_type": "execute_result"
    }
   ],
   "source": [
    "upper_gen = Channel(upper)"
   ]
  },
  {
   "cell_type": "markdown",
   "id": "95654032-346c-4fed-b53d-3a85c1a32ca1",
   "metadata": {},
   "source": [
    "* `for` loop to task"
   ]
  },
  {
   "cell_type": "code",
   "execution_count": 222,
   "id": "570f433b-73da-41fa-b34a-bb904761a27f",
   "metadata": {
    "execution": {
     "iopub.execute_input": "2021-04-26T00:28:07.799000-07:00",
     "iopub.status.busy": "2021-04-26T00:28:07.799000-07:00",
     "iopub.status.idle": "2021-04-26T00:28:07.819000-07:00",
     "shell.execute_reply": "2021-04-26T00:28:07.819000-07:00"
    },
    "tags": []
   },
   "outputs": [
    {
     "name": "stdout",
     "output_type": "stream",
     "text": [
      "23 "
     ]
    }
   ],
   "source": [
    "for i in upper_gen\n",
    "    print(i,\" \")\n",
    "    i >= 20 && break\n",
    "end"
   ]
  },
  {
   "cell_type": "markdown",
   "id": "cd7bef0f-bbc6-40ef-aa0e-aa61dd8aae45",
   "metadata": {},
   "source": [
    "## Types\n",
    "### Primitive Types\n",
    "* could be defined by self"
   ]
  },
  {
   "cell_type": "code",
   "execution_count": 228,
   "id": "336102c8-557b-43b4-809f-63a06fa90e31",
   "metadata": {
    "execution": {
     "iopub.execute_input": "2021-04-26T00:32:17.796000-07:00",
     "iopub.status.busy": "2021-04-26T00:32:17.795000-07:00",
     "iopub.status.idle": "2021-04-26T00:32:17.796000-07:00",
     "shell.execute_reply": "2021-04-26T00:32:17.796000-07:00"
    },
    "tags": []
   },
   "outputs": [],
   "source": [
    "primitive type Byte 8 end"
   ]
  },
  {
   "cell_type": "code",
   "execution_count": 229,
   "id": "0a26c0e3-7339-413f-aff8-0bfe24fb306b",
   "metadata": {
    "execution": {
     "iopub.execute_input": "2021-04-26T00:32:45.122000-07:00",
     "iopub.status.busy": "2021-04-26T00:32:45.122000-07:00",
     "iopub.status.idle": "2021-04-26T00:32:45.126000-07:00",
     "shell.execute_reply": "2021-04-26T00:32:45.125000-07:00"
    },
    "tags": []
   },
   "outputs": [
    {
     "data": {
      "text/plain": [
       "Byte"
      ]
     },
     "execution_count": 229,
     "metadata": {},
     "output_type": "execute_result"
    }
   ],
   "source": [
    "Byte(val::UInt8) = reinterpret(Byte,val)"
   ]
  },
  {
   "cell_type": "code",
   "execution_count": 241,
   "id": "fdf3a459-f4fb-4847-85bd-14a78b37d740",
   "metadata": {
    "execution": {
     "iopub.execute_input": "2021-04-26T00:36:27.124000-07:00",
     "iopub.status.busy": "2021-04-26T00:36:27.124000-07:00",
     "iopub.status.idle": "2021-04-26T00:36:27.125000-07:00",
     "shell.execute_reply": "2021-04-26T00:36:27.125000-07:00"
    },
    "tags": []
   },
   "outputs": [
    {
     "data": {
      "text/plain": [
       "Byte(0x22)"
      ]
     },
     "execution_count": 241,
     "metadata": {},
     "output_type": "execute_result"
    }
   ],
   "source": [
    "b = Byte(0x22)"
   ]
  },
  {
   "cell_type": "markdown",
   "id": "c23ff23c-2352-4639-97da-f75ea7032974",
   "metadata": {},
   "source": [
    "### Parametric Types"
   ]
  },
  {
   "cell_type": "code",
   "execution_count": 1,
   "id": "7004e232-8d20-41c5-a851-861e1cd2b48a",
   "metadata": {
    "execution": {
     "iopub.execute_input": "2021-04-26T00:49:59.099000-07:00",
     "iopub.status.busy": "2021-04-26T00:49:58.410000-07:00",
     "iopub.status.idle": "2021-04-26T00:49:59.381000-07:00",
     "shell.execute_reply": "2021-04-26T00:49:59.303000-07:00"
    },
    "tags": []
   },
   "outputs": [],
   "source": [
    "struct Point{T<:Real}\n",
    "    x::T\n",
    "    y::T\n",
    "end"
   ]
  },
  {
   "cell_type": "code",
   "execution_count": 4,
   "id": "a6bc7d97-2098-4a3b-b91a-b82c0ddd7b62",
   "metadata": {
    "execution": {
     "iopub.execute_input": "2021-04-26T00:50:06.184000-07:00",
     "iopub.status.busy": "2021-04-26T00:50:06.184000-07:00",
     "iopub.status.idle": "2021-04-26T00:50:06.201000-07:00",
     "shell.execute_reply": "2021-04-26T00:50:06.201000-07:00"
    },
    "tags": []
   },
   "outputs": [
    {
     "ename": "LoadError",
     "evalue": "MethodError: no method matching Point(::Float64, ::Int64)\n\u001b[0mClosest candidates are:\n\u001b[0m  Point(::T, \u001b[91m::T\u001b[39m) where T<:Real at In[1]:2",
     "output_type": "error",
     "traceback": [
      "MethodError: no method matching Point(::Float64, ::Int64)\n\u001b[0mClosest candidates are:\n\u001b[0m  Point(::T, \u001b[91m::T\u001b[39m) where T<:Real at In[1]:2",
      "",
      "Stacktrace:",
      " [1] top-level scope",
      "   @ In[4]:1",
      " [2] eval",
      "   @ ./boot.jl:360 [inlined]",
      " [3] include_string(mapexpr::typeof(REPL.softscope), mod::Module, code::String, filename::String)",
      "   @ Base ./loading.jl:1094"
     ]
    }
   ],
   "source": [
    "Point(1.0,2)"
   ]
  },
  {
   "cell_type": "code",
   "execution_count": 2,
   "id": "9765105f-df5e-470a-bb0c-0288a457c91a",
   "metadata": {
    "execution": {
     "iopub.execute_input": "2021-04-26T00:50:00.875000-07:00",
     "iopub.status.busy": "2021-04-26T00:50:00.874000-07:00",
     "iopub.status.idle": "2021-04-26T00:50:00.881000-07:00",
     "shell.execute_reply": "2021-04-26T00:50:00.880000-07:00"
    },
    "tags": []
   },
   "outputs": [],
   "source": [
    "struct Point2{T1<:Real,T2<:Real}\n",
    "    x::T1\n",
    "    y::T2\n",
    "end"
   ]
  },
  {
   "cell_type": "code",
   "execution_count": 5,
   "id": "b151867a-f18b-49b2-aedd-a0b50885222e",
   "metadata": {
    "execution": {
     "iopub.execute_input": "2021-04-26T00:50:16.157000-07:00",
     "iopub.status.busy": "2021-04-26T00:50:16.156000-07:00",
     "iopub.status.idle": "2021-04-26T00:50:16.863000-07:00",
     "shell.execute_reply": "2021-04-26T00:50:16.862000-07:00"
    },
    "tags": []
   },
   "outputs": [
    {
     "data": {
      "text/plain": [
       "Point2{Float64, Int64}(1.0, 2)"
      ]
     },
     "execution_count": 5,
     "metadata": {},
     "output_type": "execute_result"
    }
   ],
   "source": [
    "Point2(1.0,2)"
   ]
  },
  {
   "cell_type": "markdown",
   "id": "59dfd257-b86f-4882-bbea-153f6efea62a",
   "metadata": {
    "execution": {
     "iopub.execute_input": "2021-04-26T00:40:44.339000-07:00",
     "iopub.status.busy": "2021-04-26T00:40:44.338000-07:00",
     "iopub.status.idle": "2021-04-26T00:40:44.422000-07:00",
     "shell.execute_reply": "2021-04-26T00:40:44.421000-07:00"
    },
    "tags": []
   },
   "source": [
    "### Type Unions\n",
    "* `Union{Type1,Type2...}`"
   ]
  },
  {
   "cell_type": "code",
   "execution_count": 7,
   "id": "b767a8ce-bdae-4289-b678-979164afe87a",
   "metadata": {
    "execution": {
     "iopub.execute_input": "2021-04-26T00:43:18.714000-07:00",
     "iopub.status.busy": "2021-04-26T00:43:18.714000-07:00",
     "iopub.status.idle": "2021-04-26T00:43:19.295000-07:00",
     "shell.execute_reply": "2021-04-26T00:43:19.294000-07:00"
    },
    "tags": []
   },
   "outputs": [
    {
     "data": {
      "text/plain": [
       "Union{Int64, String}"
      ]
     },
     "execution_count": 7,
     "metadata": {},
     "output_type": "execute_result"
    }
   ],
   "source": [
    "IntOrString = Union{Int64,String}"
   ]
  },
  {
   "cell_type": "code",
   "execution_count": 8,
   "id": "fd3cda6a-7d56-41a6-8508-6a21f4890258",
   "metadata": {
    "execution": {
     "iopub.execute_input": "2021-04-26T00:43:34.104000-07:00",
     "iopub.status.busy": "2021-04-26T00:43:34.103000-07:00",
     "iopub.status.idle": "2021-04-26T00:43:34.402000-07:00",
     "shell.execute_reply": "2021-04-26T00:43:34.402000-07:00"
    },
    "tags": []
   },
   "outputs": [
    {
     "data": {
      "text/plain": [
       "150"
      ]
     },
     "execution_count": 8,
     "metadata": {},
     "output_type": "execute_result"
    }
   ],
   "source": [
    "150 :: IntOrString"
   ]
  },
  {
   "cell_type": "code",
   "execution_count": 9,
   "id": "402e77f9-e18a-4244-ba59-8904b838de22",
   "metadata": {
    "execution": {
     "iopub.execute_input": "2021-04-26T00:43:46.652000-07:00",
     "iopub.status.busy": "2021-04-26T00:43:46.651000-07:00",
     "iopub.status.idle": "2021-04-26T00:43:46.993000-07:00",
     "shell.execute_reply": "2021-04-26T00:43:46.993000-07:00"
    },
    "tags": []
   },
   "outputs": [
    {
     "data": {
      "text/plain": [
       "\"Julia\""
      ]
     },
     "execution_count": 9,
     "metadata": {},
     "output_type": "execute_result"
    }
   ],
   "source": [
    "\"Julia\" :: IntOrString"
   ]
  },
  {
   "cell_type": "markdown",
   "id": "38456df9-bd08-4b1f-bb61-c50166dcd49c",
   "metadata": {},
   "source": [
    "## Methods\n",
    "### Parametric Methods\n",
    "`{f(p::Point{T}) where {T} }= ...`"
   ]
  },
  {
   "cell_type": "code",
   "execution_count": 6,
   "id": "aae4d04c-4fb5-441f-a5a0-932fd9194375",
   "metadata": {
    "execution": {
     "iopub.execute_input": "2021-04-26T00:50:26.610000-07:00",
     "iopub.status.busy": "2021-04-26T00:50:26.610000-07:00",
     "iopub.status.idle": "2021-04-26T00:50:27-07:00",
     "shell.execute_reply": "2021-04-26T00:50:27-07:00"
    },
    "tags": []
   },
   "outputs": [
    {
     "data": {
      "text/plain": [
       "isintpoint (generic function with 1 method)"
      ]
     },
     "execution_count": 6,
     "metadata": {},
     "output_type": "execute_result"
    }
   ],
   "source": [
    "isintpoint(p::Point{T}) where {T} = (T===Int64)"
   ]
  },
  {
   "cell_type": "code",
   "execution_count": 12,
   "id": "1d808a24-30a8-4872-adce-aa33c3c12d92",
   "metadata": {
    "execution": {
     "iopub.execute_input": "2021-04-26T01:26:27.287000-07:00",
     "iopub.status.busy": "2021-04-26T01:26:27.287000-07:00",
     "iopub.status.idle": "2021-04-26T01:26:27.304000-07:00",
     "shell.execute_reply": "2021-04-26T01:26:27.303000-07:00"
    },
    "tags": []
   },
   "outputs": [
    {
     "ename": "LoadError",
     "evalue": "UndefVarError: Point not defined",
     "output_type": "error",
     "traceback": [
      "UndefVarError: Point not defined",
      "",
      "Stacktrace:",
      " [1] top-level scope",
      "   @ In[12]:1",
      " [2] eval",
      "   @ ./boot.jl:360 [inlined]",
      " [3] include_string(mapexpr::typeof(REPL.softscope), mod::Module, code::String, filename::String)",
      "   @ Base ./loading.jl:1094"
     ]
    }
   ],
   "source": [
    "testpoint(p::Point{T}) where {T} = (T === Float64)"
   ]
  },
  {
   "cell_type": "code",
   "execution_count": 7,
   "id": "56a3a8ca-fc0e-419a-814c-2c475fe054e9",
   "metadata": {
    "execution": {
     "iopub.execute_input": "2021-04-26T00:50:37.743000-07:00",
     "iopub.status.busy": "2021-04-26T00:50:37.742000-07:00",
     "iopub.status.idle": "2021-04-26T00:50:38.091000-07:00",
     "shell.execute_reply": "2021-04-26T00:50:38.091000-07:00"
    },
    "tags": []
   },
   "outputs": [
    {
     "data": {
      "text/plain": [
       "true"
      ]
     },
     "execution_count": 7,
     "metadata": {},
     "output_type": "execute_result"
    }
   ],
   "source": [
    "isintpoint(Point(1,2))"
   ]
  },
  {
   "cell_type": "markdown",
   "id": "67740be2-a2ef-40e8-ba9f-e0f1489db6b1",
   "metadata": {
    "execution": {
     "iopub.execute_input": "2021-04-26T00:51:47.073000-07:00",
     "iopub.status.busy": "2021-04-26T00:51:47.073000-07:00",
     "iopub.status.idle": "2021-04-26T00:51:47.147000-07:00",
     "shell.execute_reply": "2021-04-26T00:51:47.146000-07:00"
    },
    "tags": []
   },
   "source": [
    "### Function-like Objects"
   ]
  },
  {
   "cell_type": "code",
   "execution_count": 1,
   "id": "52495d03-f7ec-4112-a509-ff219c32d4ac",
   "metadata": {
    "execution": {
     "iopub.execute_input": "2021-04-26T00:54:04.888000-07:00",
     "iopub.status.busy": "2021-04-26T00:54:04.229000-07:00",
     "iopub.status.idle": "2021-04-26T00:54:05.186000-07:00",
     "shell.execute_reply": "2021-04-26T00:54:05.110000-07:00"
    },
    "tags": []
   },
   "outputs": [],
   "source": [
    "struct Polynomial{R}\n",
    "    coeff::Vector{R}\n",
    "end"
   ]
  },
  {
   "cell_type": "markdown",
   "id": "7bfc377e-4321-4309-81cd-cb0f3cdc982e",
   "metadata": {},
   "source": [
    "* val = a\\[end\\]\n",
    "* val = a\\[end\\] * x + a\\[end-1\\]\n",
    "* val = a\\[end\\] * x^2 + a\\[end-1\\] * x + a\\[end-2\\]"
   ]
  },
  {
   "cell_type": "code",
   "execution_count": 2,
   "id": "26994e59-47f0-48ef-868b-576990121753",
   "metadata": {
    "execution": {
     "iopub.execute_input": "2021-04-26T00:54:46.079000-07:00",
     "iopub.status.busy": "2021-04-26T00:54:46.079000-07:00",
     "iopub.status.idle": "2021-04-26T00:54:46.081000-07:00",
     "shell.execute_reply": "2021-04-26T00:54:46.081000-07:00"
    },
    "tags": []
   },
   "outputs": [],
   "source": [
    "function (p::Polynomial)(x)\n",
    "    val = p.coeff[end]\n",
    "    for coeff in p.coeff[end-1:-1:1]\n",
    "        val = val * x + coeff\n",
    "    end\n",
    "    val\n",
    "end"
   ]
  },
  {
   "cell_type": "code",
   "execution_count": 3,
   "id": "ed4d09fd-70a9-430d-b03c-527ed0cb290f",
   "metadata": {
    "execution": {
     "iopub.execute_input": "2021-04-26T00:55:09.337000-07:00",
     "iopub.status.busy": "2021-04-26T00:55:09.337000-07:00",
     "iopub.status.idle": "2021-04-26T00:55:10.156000-07:00",
     "shell.execute_reply": "2021-04-26T00:55:10.155000-07:00"
    },
    "tags": []
   },
   "outputs": [
    {
     "data": {
      "text/plain": [
       "Polynomial{Int64}([1, 100, 20])"
      ]
     },
     "execution_count": 3,
     "metadata": {},
     "output_type": "execute_result"
    }
   ],
   "source": [
    "p = Polynomial([1,100,20])"
   ]
  },
  {
   "cell_type": "code",
   "execution_count": 8,
   "id": "f0ae904f-0252-4f94-bdec-3cfe62088d0a",
   "metadata": {
    "execution": {
     "iopub.execute_input": "2021-04-26T01:22:57.968000-07:00",
     "iopub.status.busy": "2021-04-26T01:22:53.906000-07:00",
     "iopub.status.idle": "2021-04-26T01:22:58.912000-07:00",
     "shell.execute_reply": "2021-04-26T01:22:58.912000-07:00"
    },
    "tags": []
   },
   "outputs": [
    {
     "data": {
      "image/svg+xml": [
       "<?xml version=\"1.0\" encoding=\"utf-8\"?>\n",
       "<svg xmlns=\"http://www.w3.org/2000/svg\" xmlns:xlink=\"http://www.w3.org/1999/xlink\" width=\"600\" height=\"400\" viewBox=\"0 0 2400 1600\">\n",
       "<defs>\n",
       "  <clipPath id=\"clip6300\">\n",
       "    <rect x=\"0\" y=\"0\" width=\"2400\" height=\"1600\"/>\n",
       "  </clipPath>\n",
       "</defs>\n",
       "<path clip-path=\"url(#clip6300)\" d=\"\n",
       "M0 1600 L2400 1600 L2400 0 L0 0  Z\n",
       "  \" fill=\"#ffffff\" fill-rule=\"evenodd\" fill-opacity=\"1\"/>\n",
       "<defs>\n",
       "  <clipPath id=\"clip6301\">\n",
       "    <rect x=\"480\" y=\"0\" width=\"1681\" height=\"1600\"/>\n",
       "  </clipPath>\n",
       "</defs>\n",
       "<path clip-path=\"url(#clip6300)\" d=\"\n",
       "M188.612 1486.45 L2352.76 1486.45 L2352.76 47.2441 L188.612 47.2441  Z\n",
       "  \" fill=\"#ffffff\" fill-rule=\"evenodd\" fill-opacity=\"1\"/>\n",
       "<defs>\n",
       "  <clipPath id=\"clip6302\">\n",
       "    <rect x=\"188\" y=\"47\" width=\"2165\" height=\"1440\"/>\n",
       "  </clipPath>\n",
       "</defs>\n",
       "<polyline clip-path=\"url(#clip6300)\" style=\"stroke:#000000; stroke-width:4; stroke-opacity:1; fill:none\" points=\"\n",
       "  188.612,1486.45 2352.76,1486.45 \n",
       "  \"/>\n",
       "<polyline clip-path=\"url(#clip6300)\" style=\"stroke:#000000; stroke-width:4; stroke-opacity:1; fill:none\" points=\"\n",
       "  188.612,1486.45 188.612,47.2441 \n",
       "  \"/>\n",
       "<polyline clip-path=\"url(#clip6300)\" style=\"stroke:#000000; stroke-width:4; stroke-opacity:1; fill:none\" points=\"\n",
       "  454.026,1486.45 454.026,1469.18 \n",
       "  \"/>\n",
       "<polyline clip-path=\"url(#clip6300)\" style=\"stroke:#000000; stroke-width:4; stroke-opacity:1; fill:none\" points=\"\n",
       "  862.355,1486.45 862.355,1469.18 \n",
       "  \"/>\n",
       "<polyline clip-path=\"url(#clip6300)\" style=\"stroke:#000000; stroke-width:4; stroke-opacity:1; fill:none\" points=\"\n",
       "  1270.68,1486.45 1270.68,1469.18 \n",
       "  \"/>\n",
       "<polyline clip-path=\"url(#clip6300)\" style=\"stroke:#000000; stroke-width:4; stroke-opacity:1; fill:none\" points=\"\n",
       "  1679.01,1486.45 1679.01,1469.18 \n",
       "  \"/>\n",
       "<polyline clip-path=\"url(#clip6300)\" style=\"stroke:#000000; stroke-width:4; stroke-opacity:1; fill:none\" points=\"\n",
       "  2087.34,1486.45 2087.34,1469.18 \n",
       "  \"/>\n",
       "<polyline clip-path=\"url(#clip6300)\" style=\"stroke:#000000; stroke-width:4; stroke-opacity:1; fill:none\" points=\"\n",
       "  188.612,1296.06 214.582,1296.06 \n",
       "  \"/>\n",
       "<polyline clip-path=\"url(#clip6300)\" style=\"stroke:#000000; stroke-width:4; stroke-opacity:1; fill:none\" points=\"\n",
       "  188.612,994.343 214.582,994.343 \n",
       "  \"/>\n",
       "<polyline clip-path=\"url(#clip6300)\" style=\"stroke:#000000; stroke-width:4; stroke-opacity:1; fill:none\" points=\"\n",
       "  188.612,692.623 214.582,692.623 \n",
       "  \"/>\n",
       "<polyline clip-path=\"url(#clip6300)\" style=\"stroke:#000000; stroke-width:4; stroke-opacity:1; fill:none\" points=\"\n",
       "  188.612,390.903 214.582,390.903 \n",
       "  \"/>\n",
       "<polyline clip-path=\"url(#clip6300)\" style=\"stroke:#000000; stroke-width:4; stroke-opacity:1; fill:none\" points=\"\n",
       "  188.612,89.1832 214.582,89.1832 \n",
       "  \"/>\n",
       "<path clip-path=\"url(#clip6300)\" d=\"M 0 0 M434.038 1525.04 L446.514 1525.04 L446.514 1528.83 L434.038 1528.83 L434.038 1525.04 Z\" fill=\"#000000\" fill-rule=\"evenodd\" fill-opacity=\"1\" /><path clip-path=\"url(#clip6300)\" d=\"M 0 0 M464.431 1509.43 L452.625 1527.88 L464.431 1527.88 L464.431 1509.43 M463.204 1505.36 L469.084 1505.36 L469.084 1527.88 L474.014 1527.88 L474.014 1531.77 L469.084 1531.77 L469.084 1539.92 L464.431 1539.92 L464.431 1531.77 L448.829 1531.77 L448.829 1527.26 L463.204 1505.36 Z\" fill=\"#000000\" fill-rule=\"evenodd\" fill-opacity=\"1\" /><path clip-path=\"url(#clip6300)\" d=\"M 0 0 M843.408 1525.04 L855.885 1525.04 L855.885 1528.83 L843.408 1528.83 L843.408 1525.04 Z\" fill=\"#000000\" fill-rule=\"evenodd\" fill-opacity=\"1\" /><path clip-path=\"url(#clip6300)\" d=\"M 0 0 M864.982 1535.98 L881.302 1535.98 L881.302 1539.92 L859.357 1539.92 L859.357 1535.98 Q862.019 1533.23 866.603 1528.6 Q871.209 1523.95 872.39 1522.61 Q874.635 1520.08 875.515 1518.35 Q876.417 1516.59 876.417 1514.9 Q876.417 1512.14 874.473 1510.41 Q872.552 1508.67 869.45 1508.67 Q867.251 1508.67 864.797 1509.43 Q862.366 1510.2 859.589 1511.75 L859.589 1507.03 Q862.413 1505.89 864.866 1505.31 Q867.32 1504.73 869.357 1504.73 Q874.727 1504.73 877.922 1507.42 Q881.116 1510.11 881.116 1514.6 Q881.116 1516.73 880.306 1518.65 Q879.519 1520.54 877.413 1523.14 Q876.834 1523.81 873.732 1527.03 Q870.63 1530.22 864.982 1535.98 Z\" fill=\"#000000\" fill-rule=\"evenodd\" fill-opacity=\"1\" /><path clip-path=\"url(#clip6300)\" d=\"M 0 0 M1270.68 1508.44 Q1267.07 1508.44 1265.24 1512 Q1263.44 1515.55 1263.44 1522.67 Q1263.44 1529.78 1265.24 1533.35 Q1267.07 1536.89 1270.68 1536.89 Q1274.32 1536.89 1276.12 1533.35 Q1277.95 1529.78 1277.95 1522.67 Q1277.95 1515.55 1276.12 1512 Q1274.32 1508.44 1270.68 1508.44 M1270.68 1504.73 Q1276.49 1504.73 1279.55 1509.34 Q1282.63 1513.92 1282.63 1522.67 Q1282.63 1531.4 1279.55 1536.01 Q1276.49 1540.59 1270.68 1540.59 Q1264.87 1540.59 1261.8 1536.01 Q1258.74 1531.4 1258.74 1522.67 Q1258.74 1513.92 1261.8 1509.34 Q1264.87 1504.73 1270.68 1504.73 Z\" fill=\"#000000\" fill-rule=\"evenodd\" fill-opacity=\"1\" /><path clip-path=\"url(#clip6300)\" d=\"M 0 0 M1673.67 1535.98 L1689.99 1535.98 L1689.99 1539.92 L1668.04 1539.92 L1668.04 1535.98 Q1670.7 1533.23 1675.29 1528.6 Q1679.89 1523.95 1681.07 1522.61 Q1683.32 1520.08 1684.2 1518.35 Q1685.1 1516.59 1685.1 1514.9 Q1685.1 1512.14 1683.16 1510.41 Q1681.24 1508.67 1678.13 1508.67 Q1675.93 1508.67 1673.48 1509.43 Q1671.05 1510.2 1668.27 1511.75 L1668.27 1507.03 Q1671.1 1505.89 1673.55 1505.31 Q1676 1504.73 1678.04 1504.73 Q1683.41 1504.73 1686.61 1507.42 Q1689.8 1510.11 1689.8 1514.6 Q1689.8 1516.73 1688.99 1518.65 Q1688.2 1520.54 1686.1 1523.14 Q1685.52 1523.81 1682.42 1527.03 Q1679.31 1530.22 1673.67 1535.98 Z\" fill=\"#000000\" fill-rule=\"evenodd\" fill-opacity=\"1\" /><path clip-path=\"url(#clip6300)\" d=\"M 0 0 M2090.35 1509.43 L2078.55 1527.88 L2090.35 1527.88 L2090.35 1509.43 M2089.12 1505.36 L2095 1505.36 L2095 1527.88 L2099.93 1527.88 L2099.93 1531.77 L2095 1531.77 L2095 1539.92 L2090.35 1539.92 L2090.35 1531.77 L2074.75 1531.77 L2074.75 1527.26 L2089.12 1505.36 Z\" fill=\"#000000\" fill-rule=\"evenodd\" fill-opacity=\"1\" /><path clip-path=\"url(#clip6300)\" d=\"M 0 0 M152.668 1281.86 Q149.056 1281.86 147.228 1285.43 Q145.422 1288.97 145.422 1296.1 Q145.422 1303.2 147.228 1306.77 Q149.056 1310.31 152.668 1310.31 Q156.302 1310.31 158.107 1306.77 Q159.936 1303.2 159.936 1296.1 Q159.936 1288.97 158.107 1285.43 Q156.302 1281.86 152.668 1281.86 M152.668 1278.16 Q158.478 1278.16 161.533 1282.76 Q164.612 1287.35 164.612 1296.1 Q164.612 1304.82 161.533 1309.43 Q158.478 1314.01 152.668 1314.01 Q146.857 1314.01 143.779 1309.43 Q140.723 1304.82 140.723 1296.1 Q140.723 1287.35 143.779 1282.76 Q146.857 1278.16 152.668 1278.16 Z\" fill=\"#000000\" fill-rule=\"evenodd\" fill-opacity=\"1\" /><path clip-path=\"url(#clip6300)\" d=\"M 0 0 M95.2605 1007.69 L111.58 1007.69 L111.58 1011.62 L89.6355 1011.62 L89.6355 1007.69 Q92.2975 1004.93 96.8808 1000.3 Q101.487 995.651 102.668 994.308 Q104.913 991.785 105.793 990.049 Q106.696 988.29 106.696 986.6 Q106.696 983.845 104.751 982.109 Q102.83 980.373 99.728 980.373 Q97.529 980.373 95.0753 981.137 Q92.6447 981.901 89.867 983.452 L89.867 978.729 Q92.691 977.595 95.1447 977.016 Q97.5984 976.438 99.6354 976.438 Q105.006 976.438 108.2 979.123 Q111.395 981.808 111.395 986.299 Q111.395 988.428 110.584 990.35 Q109.797 992.248 107.691 994.84 Q107.112 995.512 104.01 998.729 Q100.909 1001.92 95.2605 1007.69 Z\" fill=\"#000000\" fill-rule=\"evenodd\" fill-opacity=\"1\" /><path clip-path=\"url(#clip6300)\" d=\"M 0 0 M116.696 977.063 L135.052 977.063 L135.052 980.998 L120.978 980.998 L120.978 989.47 Q121.996 989.123 123.015 988.961 Q124.033 988.776 125.052 988.776 Q130.839 988.776 134.219 991.947 Q137.598 995.118 137.598 1000.53 Q137.598 1006.11 134.126 1009.22 Q130.654 1012.29 124.334 1012.29 Q122.158 1012.29 119.89 1011.92 Q117.645 1011.55 115.237 1010.81 L115.237 1006.11 Q117.321 1007.25 119.543 1007.8 Q121.765 1008.36 124.242 1008.36 Q128.246 1008.36 130.584 1006.25 Q132.922 1004.15 132.922 1000.53 Q132.922 996.924 130.584 994.817 Q128.246 992.711 124.242 992.711 Q122.367 992.711 120.492 993.127 Q118.64 993.544 116.696 994.424 L116.696 977.063 Z\" fill=\"#000000\" fill-rule=\"evenodd\" fill-opacity=\"1\" /><path clip-path=\"url(#clip6300)\" d=\"M 0 0 M152.668 980.141 Q149.056 980.141 147.228 983.706 Q145.422 987.248 145.422 994.377 Q145.422 1001.48 147.228 1005.05 Q149.056 1008.59 152.668 1008.59 Q156.302 1008.59 158.107 1005.05 Q159.936 1001.48 159.936 994.377 Q159.936 987.248 158.107 983.706 Q156.302 980.141 152.668 980.141 M152.668 976.438 Q158.478 976.438 161.533 981.044 Q164.612 985.628 164.612 994.377 Q164.612 1003.1 161.533 1007.71 Q158.478 1012.29 152.668 1012.29 Q146.857 1012.29 143.779 1007.71 Q140.723 1003.1 140.723 994.377 Q140.723 985.628 143.779 981.044 Q146.857 976.438 152.668 976.438 Z\" fill=\"#000000\" fill-rule=\"evenodd\" fill-opacity=\"1\" /><path clip-path=\"url(#clip6300)\" d=\"M 0 0 M89.6818 675.343 L108.038 675.343 L108.038 679.278 L93.9642 679.278 L93.9642 687.75 Q94.9827 687.403 96.0012 687.241 Q97.0197 687.056 98.0382 687.056 Q103.825 687.056 107.205 690.227 Q110.584 693.398 110.584 698.815 Q110.584 704.394 107.112 707.496 Q103.64 710.574 97.3206 710.574 Q95.1447 710.574 92.8762 710.204 Q90.6309 709.833 88.2235 709.093 L88.2235 704.394 Q90.3068 705.528 92.529 706.083 Q94.7512 706.639 97.2281 706.639 Q101.233 706.639 103.571 704.533 Q105.909 702.426 105.909 698.815 Q105.909 695.204 103.571 693.097 Q101.233 690.991 97.2281 690.991 Q95.3531 690.991 93.4781 691.408 Q91.6262 691.824 89.6818 692.704 L89.6818 675.343 Z\" fill=\"#000000\" fill-rule=\"evenodd\" fill-opacity=\"1\" /><path clip-path=\"url(#clip6300)\" d=\"M 0 0 M125.654 678.422 Q122.043 678.422 120.214 681.986 Q118.408 685.528 118.408 692.658 Q118.408 699.764 120.214 703.329 Q122.043 706.871 125.654 706.871 Q129.288 706.871 131.094 703.329 Q132.922 699.764 132.922 692.658 Q132.922 685.528 131.094 681.986 Q129.288 678.422 125.654 678.422 M125.654 674.718 Q131.464 674.718 134.52 679.324 Q137.598 683.908 137.598 692.658 Q137.598 701.384 134.52 705.991 Q131.464 710.574 125.654 710.574 Q119.844 710.574 116.765 705.991 Q113.709 701.384 113.709 692.658 Q113.709 683.908 116.765 679.324 Q119.844 674.718 125.654 674.718 Z\" fill=\"#000000\" fill-rule=\"evenodd\" fill-opacity=\"1\" /><path clip-path=\"url(#clip6300)\" d=\"M 0 0 M152.668 678.422 Q149.056 678.422 147.228 681.986 Q145.422 685.528 145.422 692.658 Q145.422 699.764 147.228 703.329 Q149.056 706.871 152.668 706.871 Q156.302 706.871 158.107 703.329 Q159.936 699.764 159.936 692.658 Q159.936 685.528 158.107 681.986 Q156.302 678.422 152.668 678.422 M152.668 674.718 Q158.478 674.718 161.533 679.324 Q164.612 683.908 164.612 692.658 Q164.612 701.384 161.533 705.991 Q158.478 710.574 152.668 710.574 Q146.857 710.574 143.779 705.991 Q140.723 701.384 140.723 692.658 Q140.723 683.908 143.779 679.324 Q146.857 674.718 152.668 674.718 Z\" fill=\"#000000\" fill-rule=\"evenodd\" fill-opacity=\"1\" /><path clip-path=\"url(#clip6300)\" d=\"M 0 0 M89.3577 373.623 L111.58 373.623 L111.58 375.614 L99.0336 408.183 L94.1494 408.183 L105.955 377.558 L89.3577 377.558 L89.3577 373.623 Z\" fill=\"#000000\" fill-rule=\"evenodd\" fill-opacity=\"1\" /><path clip-path=\"url(#clip6300)\" d=\"M 0 0 M116.696 373.623 L135.052 373.623 L135.052 377.558 L120.978 377.558 L120.978 386.03 Q121.996 385.683 123.015 385.521 Q124.033 385.336 125.052 385.336 Q130.839 385.336 134.219 388.507 Q137.598 391.678 137.598 397.095 Q137.598 402.674 134.126 405.776 Q130.654 408.854 124.334 408.854 Q122.158 408.854 119.89 408.484 Q117.645 408.114 115.237 407.373 L115.237 402.674 Q117.321 403.808 119.543 404.364 Q121.765 404.919 124.242 404.919 Q128.246 404.919 130.584 402.813 Q132.922 400.706 132.922 397.095 Q132.922 393.484 130.584 391.378 Q128.246 389.271 124.242 389.271 Q122.367 389.271 120.492 389.688 Q118.64 390.104 116.696 390.984 L116.696 373.623 Z\" fill=\"#000000\" fill-rule=\"evenodd\" fill-opacity=\"1\" /><path clip-path=\"url(#clip6300)\" d=\"M 0 0 M152.668 376.702 Q149.056 376.702 147.228 380.267 Q145.422 383.808 145.422 390.938 Q145.422 398.044 147.228 401.609 Q149.056 405.151 152.668 405.151 Q156.302 405.151 158.107 401.609 Q159.936 398.044 159.936 390.938 Q159.936 383.808 158.107 380.267 Q156.302 376.702 152.668 376.702 M152.668 372.998 Q158.478 372.998 161.533 377.604 Q164.612 382.188 164.612 390.938 Q164.612 399.665 161.533 404.271 Q158.478 408.854 152.668 408.854 Q146.857 408.854 143.779 404.271 Q140.723 399.665 140.723 390.938 Q140.723 382.188 143.779 377.604 Q146.857 372.998 152.668 372.998 Z\" fill=\"#000000\" fill-rule=\"evenodd\" fill-opacity=\"1\" /><path clip-path=\"url(#clip6300)\" d=\"M 0 0 M63.6634 102.528 L71.3023 102.528 L71.3023 76.1624 L62.9921 77.8291 L62.9921 73.5698 L71.256 71.9032 L75.9319 71.9032 L75.9319 102.528 L83.5707 102.528 L83.5707 106.463 L63.6634 106.463 L63.6634 102.528 Z\" fill=\"#000000\" fill-rule=\"evenodd\" fill-opacity=\"1\" /><path clip-path=\"url(#clip6300)\" d=\"M 0 0 M98.6401 74.9818 Q95.029 74.9818 93.2003 78.5466 Q91.3948 82.0883 91.3948 89.2179 Q91.3948 96.3243 93.2003 99.8891 Q95.029 103.431 98.6401 103.431 Q102.274 103.431 104.08 99.8891 Q105.909 96.3243 105.909 89.2179 Q105.909 82.0883 104.08 78.5466 Q102.274 74.9818 98.6401 74.9818 M98.6401 71.2782 Q104.45 71.2782 107.506 75.8846 Q110.584 80.4679 110.584 89.2179 Q110.584 97.9447 107.506 102.551 Q104.45 107.134 98.6401 107.134 Q92.8299 107.134 89.7512 102.551 Q86.6957 97.9447 86.6957 89.2179 Q86.6957 80.4679 89.7512 75.8846 Q92.8299 71.2782 98.6401 71.2782 Z\" fill=\"#000000\" fill-rule=\"evenodd\" fill-opacity=\"1\" /><path clip-path=\"url(#clip6300)\" d=\"M 0 0 M125.654 74.9818 Q122.043 74.9818 120.214 78.5466 Q118.408 82.0883 118.408 89.2179 Q118.408 96.3243 120.214 99.8891 Q122.043 103.431 125.654 103.431 Q129.288 103.431 131.094 99.8891 Q132.922 96.3243 132.922 89.2179 Q132.922 82.0883 131.094 78.5466 Q129.288 74.9818 125.654 74.9818 M125.654 71.2782 Q131.464 71.2782 134.52 75.8846 Q137.598 80.4679 137.598 89.2179 Q137.598 97.9447 134.52 102.551 Q131.464 107.134 125.654 107.134 Q119.844 107.134 116.765 102.551 Q113.709 97.9447 113.709 89.2179 Q113.709 80.4679 116.765 75.8846 Q119.844 71.2782 125.654 71.2782 Z\" fill=\"#000000\" fill-rule=\"evenodd\" fill-opacity=\"1\" /><path clip-path=\"url(#clip6300)\" d=\"M 0 0 M152.668 74.9818 Q149.056 74.9818 147.228 78.5466 Q145.422 82.0883 145.422 89.2179 Q145.422 96.3243 147.228 99.8891 Q149.056 103.431 152.668 103.431 Q156.302 103.431 158.107 99.8891 Q159.936 96.3243 159.936 89.2179 Q159.936 82.0883 158.107 78.5466 Q156.302 74.9818 152.668 74.9818 M152.668 71.2782 Q158.478 71.2782 161.533 75.8846 Q164.612 80.4679 164.612 89.2179 Q164.612 97.9447 161.533 102.551 Q158.478 107.134 152.668 107.134 Q146.857 107.134 143.779 102.551 Q140.723 97.9447 140.723 89.2179 Q140.723 80.4679 143.779 75.8846 Q146.857 71.2782 152.668 71.2782 Z\" fill=\"#000000\" fill-rule=\"evenodd\" fill-opacity=\"1\" /><polyline clip-path=\"url(#clip6302)\" style=\"stroke:#009af9; stroke-width:4; stroke-opacity:1; fill:none\" points=\"\n",
       "  249.861,1294.86 269.8,1306.41 454.158,1391.45 564.95,1423.62 658.623,1439.73 760.379,1445.72 854.188,1440.61 954.762,1423.81 1071.29,1389.7 1174.84,1346.19 \n",
       "  1265.65,1297.82 1364.65,1234.2 1464.24,1158.74 1574.35,1061.95 1679.12,956.813 1788.06,834.017 1879.76,719.995 1991.71,567.584 2096.95,411.076 2265.56,133.602 \n",
       "  2291.51,87.9763 \n",
       "  \"/>\n",
       "<path clip-path=\"url(#clip6300)\" d=\"\n",
       "M1989.74 251.724 L2280.76 251.724 L2280.76 130.764 L1989.74 130.764  Z\n",
       "  \" fill=\"#ffffff\" fill-rule=\"evenodd\" fill-opacity=\"1\"/>\n",
       "<polyline clip-path=\"url(#clip6300)\" style=\"stroke:#000000; stroke-width:4; stroke-opacity:1; fill:none\" points=\"\n",
       "  1989.74,251.724 2280.76,251.724 2280.76,130.764 1989.74,130.764 1989.74,251.724 \n",
       "  \"/>\n",
       "<polyline clip-path=\"url(#clip6300)\" style=\"stroke:#009af9; stroke-width:4; stroke-opacity:1; fill:none\" points=\"\n",
       "  2013.74,191.244 2157.74,191.244 \n",
       "  \"/>\n",
       "<path clip-path=\"url(#clip6300)\" d=\"M 0 0 M2195.58 210.931 Q2193.77 215.561 2192.06 216.973 Q2190.35 218.385 2187.48 218.385 L2184.08 218.385 L2184.08 214.82 L2186.58 214.82 Q2188.33 214.82 2189.31 213.987 Q2190.28 213.154 2191.46 210.052 L2192.22 208.107 L2181.74 182.598 L2186.25 182.598 L2194.35 202.876 L2202.46 182.598 L2206.97 182.598 L2195.58 210.931 Z\" fill=\"#000000\" fill-rule=\"evenodd\" fill-opacity=\"1\" /><path clip-path=\"url(#clip6300)\" d=\"M 0 0 M2212.85 204.589 L2220.49 204.589 L2220.49 178.223 L2212.18 179.89 L2212.18 175.631 L2220.44 173.964 L2225.12 173.964 L2225.12 204.589 L2232.76 204.589 L2232.76 208.524 L2212.85 208.524 L2212.85 204.589 Z\" fill=\"#000000\" fill-rule=\"evenodd\" fill-opacity=\"1\" /></svg>\n"
      ]
     },
     "execution_count": 8,
     "metadata": {},
     "output_type": "execute_result"
    }
   ],
   "source": [
    "using Plots\n",
    "plot(x->p(x),grid = :none)"
   ]
  },
  {
   "cell_type": "markdown",
   "id": "51266dbd-fc80-412b-aa99-1483ef6e4986",
   "metadata": {},
   "source": [
    "## Constructors"
   ]
  },
  {
   "cell_type": "code",
   "execution_count": 26,
   "id": "36562def-7c3b-4119-81ac-af5f103d9a51",
   "metadata": {
    "execution": {
     "iopub.execute_input": "2021-04-26T01:31:41.857000-07:00",
     "iopub.status.busy": "2021-04-26T01:31:41.857000-07:00",
     "iopub.status.idle": "2021-04-26T01:31:41.863000-07:00",
     "shell.execute_reply": "2021-04-26T01:31:41.861000-07:00"
    },
    "tags": []
   },
   "outputs": [],
   "source": [
    "struct Point{T<:Real}\n",
    "    x :: T\n",
    "    y :: T\n",
    "    \n",
    "    Point{T}(x,y) where {T<:Real} = new(x,y)\n",
    "end\n",
    "\n",
    "Point(x::T, y::T) where {T<:Real} = Point{T}(x,y);"
   ]
  },
  {
   "cell_type": "code",
   "execution_count": 28,
   "id": "74a43f10-f265-4183-8b55-92dd6fe75b14",
   "metadata": {
    "execution": {
     "iopub.execute_input": "2021-04-26T01:31:47.073000-07:00",
     "iopub.status.busy": "2021-04-26T01:31:47.073000-07:00",
     "iopub.status.idle": "2021-04-26T01:31:47.183000-07:00",
     "shell.execute_reply": "2021-04-26T01:31:47.183000-07:00"
    },
    "tags": []
   },
   "outputs": [
    {
     "ename": "LoadError",
     "evalue": "MethodError: no method matching Point(::Int64, ::Float64)\n\u001b[0mClosest candidates are:\n\u001b[0m  Point(::T, \u001b[91m::T\u001b[39m) where T<:Real at In[26]:8",
     "output_type": "error",
     "traceback": [
      "MethodError: no method matching Point(::Int64, ::Float64)\n\u001b[0mClosest candidates are:\n\u001b[0m  Point(::T, \u001b[91m::T\u001b[39m) where T<:Real at In[26]:8",
      "",
      "Stacktrace:",
      " [1] top-level scope",
      "   @ In[28]:1",
      " [2] eval",
      "   @ ./boot.jl:360 [inlined]",
      " [3] include_string(mapexpr::typeof(REPL.softscope), mod::Module, code::String, filename::String)",
      "   @ Base ./loading.jl:1094"
     ]
    }
   ],
   "source": [
    "Point(2,2.0)"
   ]
  },
  {
   "cell_type": "code",
   "execution_count": 29,
   "id": "9f18687e-1187-4868-aecd-47e5fd3d0347",
   "metadata": {
    "execution": {
     "iopub.execute_input": "2021-04-26T01:32:53.705000-07:00",
     "iopub.status.busy": "2021-04-26T01:32:53.705000-07:00",
     "iopub.status.idle": "2021-04-26T01:32:54.754000-07:00",
     "shell.execute_reply": "2021-04-26T01:32:54.753000-07:00"
    },
    "tags": []
   },
   "outputs": [
    {
     "data": {
      "text/plain": [
       "Point"
      ]
     },
     "execution_count": 29,
     "metadata": {},
     "output_type": "execute_result"
    }
   ],
   "source": [
    "Point(x::Real,y::Real) = Point(promote(x,y)...)"
   ]
  },
  {
   "cell_type": "markdown",
   "id": "c20f1a14-7da0-42b5-bd72-dae783c41fc8",
   "metadata": {},
   "source": [
    "## Conversion and Promotion\n",
    "### Conversion\n",
    "* `convert(type,value)`\n",
    "* `ans`"
   ]
  },
  {
   "cell_type": "code",
   "execution_count": 34,
   "id": "fd0cfbe4-7f56-4839-ab15-16c0c0f4d3a9",
   "metadata": {
    "execution": {
     "iopub.execute_input": "2021-04-26T01:35:10.820000-07:00",
     "iopub.status.busy": "2021-04-26T01:35:10.820000-07:00",
     "iopub.status.idle": "2021-04-26T01:35:10.968000-07:00",
     "shell.execute_reply": "2021-04-26T01:35:10.968000-07:00"
    },
    "tags": []
   },
   "outputs": [
    {
     "data": {
      "text/plain": [
       "Int64"
      ]
     },
     "execution_count": 34,
     "metadata": {},
     "output_type": "execute_result"
    }
   ],
   "source": [
    "x = 12\n",
    "typeof(x)"
   ]
  },
  {
   "cell_type": "code",
   "execution_count": 38,
   "id": "b06a39c5-8257-4b70-91dc-894d7ab1d949",
   "metadata": {
    "execution": {
     "iopub.execute_input": "2021-04-26T01:35:59.119000-07:00",
     "iopub.status.busy": "2021-04-26T01:35:59.119000-07:00",
     "iopub.status.idle": "2021-04-26T01:35:59.120000-07:00",
     "shell.execute_reply": "2021-04-26T01:35:59.120000-07:00"
    },
    "tags": []
   },
   "outputs": [
    {
     "data": {
      "text/plain": [
       "0x0c"
      ]
     },
     "execution_count": 38,
     "metadata": {},
     "output_type": "execute_result"
    }
   ],
   "source": [
    "convert(UInt8,x)"
   ]
  },
  {
   "cell_type": "code",
   "execution_count": 39,
   "id": "780bc575-4684-4f12-b7b4-571f56d19f04",
   "metadata": {
    "execution": {
     "iopub.execute_input": "2021-04-26T01:36:04.724000-07:00",
     "iopub.status.busy": "2021-04-26T01:36:04.724000-07:00",
     "iopub.status.idle": "2021-04-26T01:36:04.726000-07:00",
     "shell.execute_reply": "2021-04-26T01:36:04.726000-07:00"
    },
    "tags": []
   },
   "outputs": [
    {
     "data": {
      "text/plain": [
       "UInt8"
      ]
     },
     "execution_count": 39,
     "metadata": {},
     "output_type": "execute_result"
    }
   ],
   "source": [
    "typeof(ans)"
   ]
  },
  {
   "cell_type": "code",
   "execution_count": 41,
   "id": "38c8b3c3-0656-4ef1-8aab-a901c22a1b9a",
   "metadata": {
    "execution": {
     "iopub.execute_input": "2021-04-26T01:37:59.654000-07:00",
     "iopub.status.busy": "2021-04-26T01:37:59.653000-07:00",
     "iopub.status.idle": "2021-04-26T01:37:59.656000-07:00",
     "shell.execute_reply": "2021-04-26T01:37:59.656000-07:00"
    },
    "tags": []
   },
   "outputs": [],
   "source": [
    "Base.convert(::Type{Point{T}}, x::Array{T,1}) where {T<:Real} = Point(x...)"
   ]
  },
  {
   "cell_type": "code",
   "execution_count": 64,
   "id": "55fe4088-6347-44d5-87d6-cd0b20142324",
   "metadata": {
    "execution": {
     "iopub.execute_input": "2021-04-26T01:42:08.265000-07:00",
     "iopub.status.busy": "2021-04-26T01:42:08.265000-07:00",
     "iopub.status.idle": "2021-04-26T01:42:09.241000-07:00",
     "shell.execute_reply": "2021-04-26T01:42:09.240000-07:00"
    },
    "tags": []
   },
   "outputs": [
    {
     "data": {
      "text/plain": [
       "Point{Float32}(1.0f0, 2.0f0)"
      ]
     },
     "execution_count": 64,
     "metadata": {},
     "output_type": "execute_result"
    }
   ],
   "source": [
    "convert(Point{Float32},Float32[1.0,2.0])"
   ]
  },
  {
   "cell_type": "markdown",
   "id": "53d4753d-e44e-4066-8447-552a4f2a8ed9",
   "metadata": {},
   "source": [
    "### Promotion\n",
    "* conversion of values of mixed types to a single common type"
   ]
  },
  {
   "cell_type": "code",
   "execution_count": 70,
   "id": "7ceb51e6-9b98-4c3e-959a-e01dc4e70cb7",
   "metadata": {
    "execution": {
     "iopub.execute_input": "2021-04-26T01:44:59.200000-07:00",
     "iopub.status.busy": "2021-04-26T01:44:59.199000-07:00",
     "iopub.status.idle": "2021-04-26T01:44:59.201000-07:00",
     "shell.execute_reply": "2021-04-26T01:44:59.200000-07:00"
    },
    "tags": []
   },
   "outputs": [
    {
     "data": {
      "text/plain": [
       "([1.0, 2.0, 3.4, 0.5],)"
      ]
     },
     "execution_count": 70,
     "metadata": {},
     "output_type": "execute_result"
    }
   ],
   "source": [
    "promote([1,2,3.4,1//2])"
   ]
  },
  {
   "cell_type": "code",
   "execution_count": 73,
   "id": "11490ccc-cbe3-4359-8759-13ba3114807a",
   "metadata": {
    "execution": {
     "iopub.execute_input": "2021-04-26T01:45:19.188000-07:00",
     "iopub.status.busy": "2021-04-26T01:45:19.188000-07:00",
     "iopub.status.idle": "2021-04-26T01:45:19.193000-07:00",
     "shell.execute_reply": "2021-04-26T01:45:19.193000-07:00"
    },
    "tags": []
   },
   "outputs": [
    {
     "data": {
      "text/plain": [
       "Rational{Int64}"
      ]
     },
     "execution_count": 73,
     "metadata": {},
     "output_type": "execute_result"
    }
   ],
   "source": [
    "typeof(1//2)"
   ]
  },
  {
   "cell_type": "code",
   "execution_count": 4,
   "id": "805d69f2-c4e0-4f9a-83a6-b73ba2c4d9de",
   "metadata": {
    "execution": {
     "iopub.execute_input": "2021-04-26T01:52:12.585000-07:00",
     "iopub.status.busy": "2021-04-26T01:52:12.585000-07:00",
     "iopub.status.idle": "2021-04-26T01:52:12.586000-07:00",
     "shell.execute_reply": "2021-04-26T01:52:12.586000-07:00"
    },
    "tags": []
   },
   "outputs": [],
   "source": [
    "Base.promote_rule(::Type{Rational{Int64}},::Type{Float64}) = Rational{Int64}"
   ]
  },
  {
   "cell_type": "code",
   "execution_count": 12,
   "id": "13166a8d-b2f6-4214-9eda-070d519c3dc5",
   "metadata": {
    "execution": {
     "iopub.execute_input": "2021-04-26T01:53:30.016000-07:00",
     "iopub.status.busy": "2021-04-26T01:53:29.960000-07:00",
     "iopub.status.idle": "2021-04-26T01:53:30.115000-07:00",
     "shell.execute_reply": "2021-04-26T01:53:30.106000-07:00"
    },
    "tags": []
   },
   "outputs": [
    {
     "data": {
      "text/plain": [
       "(2//1, 1//2, 21//1, 21//1, 9//2, 1188950301625811//36028797018963968)"
      ]
     },
     "execution_count": 12,
     "metadata": {},
     "output_type": "execute_result"
    }
   ],
   "source": [
    "promote(2.0,1//2,21,21,4.5,0.033)"
   ]
  },
  {
   "cell_type": "markdown",
   "id": "776340e9-d07f-4b5f-99d0-1866230041c7",
   "metadata": {},
   "source": [
    "## Metaprogramming\n",
    "### Expressions\n",
    "* `Meta.parse(String)`\n",
    "* `:(var)`\n",
    "* `Symbol(String)"
   ]
  },
  {
   "cell_type": "code",
   "execution_count": 13,
   "id": "06db657d-3569-40aa-8f57-609c43c68b05",
   "metadata": {
    "execution": {
     "iopub.execute_input": "2021-04-26T01:54:03.381000-07:00",
     "iopub.status.busy": "2021-04-26T01:54:03.380000-07:00",
     "iopub.status.idle": "2021-04-26T01:54:03.792000-07:00",
     "shell.execute_reply": "2021-04-26T01:54:03.791000-07:00"
    },
    "tags": []
   },
   "outputs": [
    {
     "data": {
      "text/plain": [
       "\"1 + 2\""
      ]
     },
     "execution_count": 13,
     "metadata": {},
     "output_type": "execute_result"
    }
   ],
   "source": [
    "prog = \"1 + 2\""
   ]
  },
  {
   "cell_type": "code",
   "execution_count": 14,
   "id": "505bfd04-536b-4858-879e-ece07eb6e150",
   "metadata": {
    "execution": {
     "iopub.execute_input": "2021-04-26T01:54:15.608000-07:00",
     "iopub.status.busy": "2021-04-26T01:54:15.608000-07:00",
     "iopub.status.idle": "2021-04-26T01:54:16.159000-07:00",
     "shell.execute_reply": "2021-04-26T01:54:16.159000-07:00"
    },
    "tags": []
   },
   "outputs": [
    {
     "data": {
      "text/plain": [
       ":(1 + 2)"
      ]
     },
     "execution_count": 14,
     "metadata": {},
     "output_type": "execute_result"
    }
   ],
   "source": [
    "ex = Meta.parse(prog)"
   ]
  },
  {
   "cell_type": "code",
   "execution_count": 15,
   "id": "d818f02e-de44-4d14-a614-e39e11f6b7d7",
   "metadata": {
    "execution": {
     "iopub.execute_input": "2021-04-26T01:54:27.071000-07:00",
     "iopub.status.busy": "2021-04-26T01:54:27.071000-07:00",
     "iopub.status.idle": "2021-04-26T01:54:27.620000-07:00",
     "shell.execute_reply": "2021-04-26T01:54:27.619000-07:00"
    },
    "tags": []
   },
   "outputs": [
    {
     "data": {
      "text/plain": [
       "Expr"
      ]
     },
     "execution_count": 15,
     "metadata": {},
     "output_type": "execute_result"
    }
   ],
   "source": [
    "typeof(ex)"
   ]
  },
  {
   "cell_type": "code",
   "execution_count": 17,
   "id": "97fee5ef-3285-4987-90f3-9349b940f4fe",
   "metadata": {
    "execution": {
     "iopub.execute_input": "2021-04-26T01:54:36.170000-07:00",
     "iopub.status.busy": "2021-04-26T01:54:36.170000-07:00",
     "iopub.status.idle": "2021-04-26T01:54:37.046000-07:00",
     "shell.execute_reply": "2021-04-26T01:54:37.045000-07:00"
    },
    "tags": []
   },
   "outputs": [
    {
     "name": "stdout",
     "output_type": "stream",
     "text": [
      "Expr\n",
      "  head: Symbol call\n",
      "  args: Array{Any}((3,))\n",
      "    1: Symbol +\n",
      "    2: Int64 1\n",
      "    3: Int64 2\n"
     ]
    }
   ],
   "source": [
    "dump(ex)"
   ]
  },
  {
   "cell_type": "code",
   "execution_count": 22,
   "id": "f4413224-3b8d-49c3-bc22-cf6f057c1061",
   "metadata": {
    "execution": {
     "iopub.execute_input": "2021-04-26T01:55:40.315000-07:00",
     "iopub.status.busy": "2021-04-26T01:55:40.315000-07:00",
     "iopub.status.idle": "2021-04-26T01:55:40.316000-07:00",
     "shell.execute_reply": "2021-04-26T01:55:40.316000-07:00"
    },
    "tags": []
   },
   "outputs": [
    {
     "data": {
      "text/plain": [
       "3"
      ]
     },
     "execution_count": 22,
     "metadata": {},
     "output_type": "execute_result"
    }
   ],
   "source": [
    "a = 3"
   ]
  },
  {
   "cell_type": "code",
   "execution_count": 25,
   "id": "737c44c5-b2a8-4848-8df5-b66be3c20461",
   "metadata": {
    "execution": {
     "iopub.execute_input": "2021-04-26T01:56:46.070000-07:00",
     "iopub.status.busy": "2021-04-26T01:56:46.070000-07:00",
     "iopub.status.idle": "2021-04-26T01:56:46.087000-07:00",
     "shell.execute_reply": "2021-04-26T01:56:46.087000-07:00"
    },
    "tags": []
   },
   "outputs": [
    {
     "data": {
      "text/plain": [
       "quote\n",
       "    #= In[25]:2 =#\n",
       "    1 + 2\n",
       "end"
      ]
     },
     "execution_count": 25,
     "metadata": {},
     "output_type": "execute_result"
    }
   ],
   "source": [
    "ex = quote\n",
    "    1 + 2\n",
    "end"
   ]
  },
  {
   "cell_type": "markdown",
   "id": "98787cd9-332e-4c10-a3f1-617e5c2f34bf",
   "metadata": {},
   "source": [
    "* `eval`"
   ]
  },
  {
   "cell_type": "code",
   "execution_count": 33,
   "id": "23a7eaa5-74ed-46d1-bbc2-3c022793e86c",
   "metadata": {
    "execution": {
     "iopub.execute_input": "2021-04-26T01:58:53.312000-07:00",
     "iopub.status.busy": "2021-04-26T01:58:53.312000-07:00",
     "iopub.status.idle": "2021-04-26T01:58:53.313000-07:00",
     "shell.execute_reply": "2021-04-26T01:58:53.313000-07:00"
    },
    "tags": []
   },
   "outputs": [
    {
     "data": {
      "text/plain": [
       "3"
      ]
     },
     "execution_count": 33,
     "metadata": {},
     "output_type": "execute_result"
    }
   ],
   "source": [
    "eval(ex)"
   ]
  },
  {
   "cell_type": "markdown",
   "id": "fd480181-6feb-4e46-a0f5-7fafc42e48bd",
   "metadata": {},
   "source": [
    "### Macros\n",
    "* maps a tuple of *Expr object* directly to a compiled expression."
   ]
  },
  {
   "cell_type": "code",
   "execution_count": 35,
   "id": "a06d95a9-2e06-48a2-887a-1fa87d3744f6",
   "metadata": {
    "execution": {
     "iopub.execute_input": "2021-04-26T02:03:22.075000-07:00",
     "iopub.status.busy": "2021-04-26T02:03:22.075000-07:00",
     "iopub.status.idle": "2021-04-26T02:03:22.449000-07:00",
     "shell.execute_reply": "2021-04-26T02:03:22.448000-07:00"
    },
    "tags": []
   },
   "outputs": [
    {
     "data": {
      "text/plain": [
       "@containervariable (macro with 1 method)"
      ]
     },
     "execution_count": 35,
     "metadata": {},
     "output_type": "execute_result"
    }
   ],
   "source": [
    "macro containervariable(container,element)\n",
    "    return esc(:($(Symbol(container, element)) = $container[$element]))\n",
    "end"
   ]
  },
  {
   "cell_type": "code",
   "execution_count": 65,
   "id": "a15eb07a-a7ba-401e-a915-6ec02d9e6e25",
   "metadata": {
    "execution": {
     "iopub.execute_input": "2021-04-26T02:12:28.830000-07:00",
     "iopub.status.busy": "2021-04-26T02:12:28.830000-07:00",
     "iopub.status.idle": "2021-04-26T02:12:28.831000-07:00",
     "shell.execute_reply": "2021-04-26T02:12:28.831000-07:00"
    },
    "tags": []
   },
   "outputs": [
    {
     "data": {
      "text/plain": [
       "'t': ASCII/Unicode U+0074 (category Ll: Letter, lowercase)"
      ]
     },
     "execution_count": 65,
     "metadata": {},
     "output_type": "execute_result"
    }
   ],
   "source": [
    "@containervariable(\"letters\",4)"
   ]
  },
  {
   "cell_type": "code",
   "execution_count": 66,
   "id": "e1506c64-bd2b-4299-8fda-580fce1d7b8b",
   "metadata": {
    "execution": {
     "iopub.execute_input": "2021-04-26T02:12:29.673000-07:00",
     "iopub.status.busy": "2021-04-26T02:12:29.673000-07:00",
     "iopub.status.idle": "2021-04-26T02:12:29.674000-07:00",
     "shell.execute_reply": "2021-04-26T02:12:29.674000-07:00"
    },
    "tags": []
   },
   "outputs": [
    {
     "data": {
      "text/plain": [
       "'t': ASCII/Unicode U+0074 (category Ll: Letter, lowercase)"
      ]
     },
     "execution_count": 66,
     "metadata": {},
     "output_type": "execute_result"
    }
   ],
   "source": [
    "letters4"
   ]
  },
  {
   "cell_type": "code",
   "execution_count": 68,
   "id": "e7ed8698-473f-49c9-8c83-500cfba05876",
   "metadata": {
    "execution": {
     "iopub.execute_input": "2021-04-26T02:22:49.152000-07:00",
     "iopub.status.busy": "2021-04-26T02:22:49.152000-07:00",
     "iopub.status.idle": "2021-04-26T02:22:49.199000-07:00",
     "shell.execute_reply": "2021-04-26T02:22:49.198000-07:00"
    },
    "tags": []
   },
   "outputs": [
    {
     "data": {
      "text/plain": [
       ":(letters4 = (\"letters\")[4])"
      ]
     },
     "execution_count": 68,
     "metadata": {},
     "output_type": "execute_result"
    }
   ],
   "source": [
    "@macroexpand @containervariable(\"letters\",4)"
   ]
  },
  {
   "cell_type": "code",
   "execution_count": 56,
   "id": "edc6ad61-4e1e-49e3-a984-bb7afcabdf09",
   "metadata": {
    "execution": {
     "iopub.execute_input": "2021-04-26T02:10:04.671000-07:00",
     "iopub.status.busy": "2021-04-26T02:10:04.670000-07:00",
     "iopub.status.idle": "2021-04-26T02:10:04.672000-07:00",
     "shell.execute_reply": "2021-04-26T02:10:04.672000-07:00"
    },
    "tags": []
   },
   "outputs": [
    {
     "data": {
      "text/plain": [
       ":(letters1 = 2)"
      ]
     },
     "execution_count": 56,
     "metadata": {},
     "output_type": "execute_result"
    }
   ],
   "source": [
    ":(letters1 = 2)"
   ]
  },
  {
   "cell_type": "code",
   "execution_count": 60,
   "id": "5563b691-61aa-43e4-b40a-bebd401b1fe1",
   "metadata": {
    "execution": {
     "iopub.execute_input": "2021-04-26T02:11:17.615000-07:00",
     "iopub.status.busy": "2021-04-26T02:11:17.615000-07:00",
     "iopub.status.idle": "2021-04-26T02:11:17.616000-07:00",
     "shell.execute_reply": "2021-04-26T02:11:17.616000-07:00"
    },
    "tags": []
   },
   "outputs": [
    {
     "data": {
      "text/plain": [
       "1"
      ]
     },
     "execution_count": 60,
     "metadata": {},
     "output_type": "execute_result"
    }
   ],
   "source": [
    "a = 1"
   ]
  },
  {
   "cell_type": "code",
   "execution_count": 62,
   "id": "c5249997-721c-473a-ae85-9b3d1830d4e9",
   "metadata": {
    "execution": {
     "iopub.execute_input": "2021-04-26T02:11:40.202000-07:00",
     "iopub.status.busy": "2021-04-26T02:11:40.202000-07:00",
     "iopub.status.idle": "2021-04-26T02:11:40.203000-07:00",
     "shell.execute_reply": "2021-04-26T02:11:40.203000-07:00"
    },
    "tags": []
   },
   "outputs": [
    {
     "data": {
      "text/plain": [
       ":a1"
      ]
     },
     "execution_count": 62,
     "metadata": {},
     "output_type": "execute_result"
    }
   ],
   "source": [
    "Symbol(\"a\",1)"
   ]
  },
  {
   "cell_type": "code",
   "execution_count": 59,
   "id": "4cb31af6-cafb-4f97-82fd-8e0e3e1bcfc7",
   "metadata": {
    "execution": {
     "iopub.execute_input": "2021-04-26T02:10:14.670000-07:00",
     "iopub.status.busy": "2021-04-26T02:10:14.669000-07:00",
     "iopub.status.idle": "2021-04-26T02:10:14.670000-07:00",
     "shell.execute_reply": "2021-04-26T02:10:14.670000-07:00"
    },
    "tags": []
   },
   "outputs": [
    {
     "data": {
      "text/plain": [
       "'l': ASCII/Unicode U+006C (category Ll: Letter, lowercase)"
      ]
     },
     "execution_count": 59,
     "metadata": {},
     "output_type": "execute_result"
    }
   ],
   "source": [
    "letters1"
   ]
  },
  {
   "cell_type": "markdown",
   "id": "0ceda0da-d827-4b56-8ae9-c2e57dff840e",
   "metadata": {},
   "source": [
    "### Generated Functions\n",
    "* could run in Julia but can't run in Jupyter don't know why"
   ]
  },
  {
   "cell_type": "code",
   "execution_count": 1,
   "id": "371d4936-832f-4911-84ca-7b4bb9441906",
   "metadata": {
    "execution": {
     "iopub.execute_input": "2021-04-26T02:30:06.942000-07:00",
     "iopub.status.busy": "2021-04-26T02:30:06.142000-07:00",
     "iopub.status.idle": "2021-04-26T02:30:08.106000-07:00",
     "shell.execute_reply": "2021-04-26T02:30:08.059000-07:00"
    },
    "tags": []
   },
   "outputs": [
    {
     "data": {
      "text/plain": [
       "square (generic function with 1 method)"
      ]
     },
     "execution_count": 1,
     "metadata": {},
     "output_type": "execute_result"
    }
   ],
   "source": [
    "@generated function square(x)\n",
    "    println(x)\n",
    "    :(x * x)\n",
    "end"
   ]
  },
  {
   "cell_type": "code",
   "execution_count": null,
   "id": "660b5cbf-e3cd-4adb-9962-1a7280600a81",
   "metadata": {
    "execution": {
     "iopub.execute_input": "2021-04-26T02:30:08.110000-07:00",
     "iopub.status.busy": "2021-04-26T02:30:08.108000-07:00",
     "iopub.status.idle": "2021-04-26T02:30:10.062000-07:00",
     "shell.execute_reply": "2021-04-26T02:30:10.062000-07:00"
    },
    "tags": []
   },
   "outputs": [],
   "source": [
    "t = square(2);"
   ]
  },
  {
   "cell_type": "markdown",
   "id": "74df70d7-6b47-41b3-9703-0ef77f906f34",
   "metadata": {},
   "source": [
    "## Missing Values\n",
    "* `missing`\n",
    "* `ismissing()`\n",
    "* `skipmissing()`"
   ]
  },
  {
   "cell_type": "code",
   "execution_count": 3,
   "id": "817ed39b-ad0e-4448-b65e-eea98ffe598a",
   "metadata": {
    "execution": {
     "iopub.execute_input": "2021-04-26T02:32:57.346000-07:00",
     "iopub.status.busy": "2021-04-26T02:32:57.345000-07:00",
     "iopub.status.idle": "2021-04-26T02:32:57.572000-07:00",
     "shell.execute_reply": "2021-04-26T02:32:57.571000-07:00"
    },
    "tags": []
   },
   "outputs": [
    {
     "data": {
      "text/plain": [
       "missing"
      ]
     },
     "execution_count": 3,
     "metadata": {},
     "output_type": "execute_result"
    }
   ],
   "source": [
    "c = missing"
   ]
  },
  {
   "cell_type": "code",
   "execution_count": 4,
   "id": "d9bf3046-f9e7-4ee0-aa65-2d274687550f",
   "metadata": {
    "execution": {
     "iopub.execute_input": "2021-04-26T02:33:04.072000-07:00",
     "iopub.status.busy": "2021-04-26T02:33:04.072000-07:00",
     "iopub.status.idle": "2021-04-26T02:33:04.391000-07:00",
     "shell.execute_reply": "2021-04-26T02:33:04.390000-07:00"
    },
    "tags": []
   },
   "outputs": [
    {
     "data": {
      "text/plain": [
       "true"
      ]
     },
     "execution_count": 4,
     "metadata": {},
     "output_type": "execute_result"
    }
   ],
   "source": [
    "ismissing(c)"
   ]
  },
  {
   "cell_type": "code",
   "execution_count": 6,
   "id": "21cce287-b71e-4553-83d1-afca19bc1e0e",
   "metadata": {
    "execution": {
     "iopub.execute_input": "2021-04-26T02:33:26.729000-07:00",
     "iopub.status.busy": "2021-04-26T02:33:26.729000-07:00",
     "iopub.status.idle": "2021-04-26T02:33:27.600000-07:00",
     "shell.execute_reply": "2021-04-26T02:33:27.600000-07:00"
    },
    "tags": []
   },
   "outputs": [
    {
     "data": {
      "text/plain": [
       "2-element Vector{Union{Missing, Int64}}:\n",
       " 1\n",
       "  missing"
      ]
     },
     "execution_count": 6,
     "metadata": {},
     "output_type": "execute_result"
    }
   ],
   "source": [
    "a = [1, missing]"
   ]
  },
  {
   "cell_type": "code",
   "execution_count": 7,
   "id": "2854ff08-27ff-48f2-a907-a0d1a9ea5cda",
   "metadata": {
    "execution": {
     "iopub.execute_input": "2021-04-26T02:33:36.960000-07:00",
     "iopub.status.busy": "2021-04-26T02:33:36.960000-07:00",
     "iopub.status.idle": "2021-04-26T02:33:37.022000-07:00",
     "shell.execute_reply": "2021-04-26T02:33:37.022000-07:00"
    },
    "tags": []
   },
   "outputs": [
    {
     "data": {
      "text/plain": [
       "missing"
      ]
     },
     "execution_count": 7,
     "metadata": {},
     "output_type": "execute_result"
    }
   ],
   "source": [
    "sum(a)"
   ]
  },
  {
   "cell_type": "code",
   "execution_count": 8,
   "id": "ec16f977-1fa6-43b5-8e39-9bdcab58a41f",
   "metadata": {
    "execution": {
     "iopub.execute_input": "2021-04-26T02:33:59.535000-07:00",
     "iopub.status.busy": "2021-04-26T02:33:59.535000-07:00",
     "iopub.status.idle": "2021-04-26T02:33:59.849000-07:00",
     "shell.execute_reply": "2021-04-26T02:33:59.848000-07:00"
    },
    "tags": []
   },
   "outputs": [
    {
     "data": {
      "text/plain": [
       "1"
      ]
     },
     "execution_count": 8,
     "metadata": {},
     "output_type": "execute_result"
    }
   ],
   "source": [
    "sum(skipmissing(a))"
   ]
  },
  {
   "cell_type": "markdown",
   "id": "2f4b8e83-64f5-45ce-b874-225a201c375d",
   "metadata": {},
   "source": [
    "## Calling C and Fortan Code"
   ]
  },
  {
   "cell_type": "code",
   "execution_count": 10,
   "id": "7f85cef9-d8ac-41cd-833e-513f7d4ba5f3",
   "metadata": {
    "execution": {
     "iopub.execute_input": "2021-04-26T02:38:55.072000-07:00",
     "iopub.status.busy": "2021-04-26T02:38:55.072000-07:00",
     "iopub.status.idle": "2021-04-26T02:38:55.186000-07:00",
     "shell.execute_reply": "2021-04-26T02:38:55.185000-07:00"
    },
    "tags": []
   },
   "outputs": [
    {
     "data": {
      "text/plain": [
       "gdbm_close (generic function with 1 method)"
      ]
     },
     "execution_count": 10,
     "metadata": {},
     "output_type": "execute_result"
    }
   ],
   "source": [
    "# Base.close(dbm::DBM) = gdbm_close(dbm.handle)\n",
    "function gdbm_close(handle::Ptr{Cvoid})\n",
    "    ccall((:gdbm_close, \"libgdbm\"),Cvoid, (Ptr{Cvoid},),handle)\n",
    "end"
   ]
  }
 ],
 "metadata": {
  "kernelspec": {
   "display_name": "Julia 1.6.0",
   "language": "julia",
   "name": "julia-1.6"
  },
  "language_info": {
   "file_extension": ".jl",
   "mimetype": "application/julia",
   "name": "julia",
   "version": "1.6.0"
  }
 },
 "nbformat": 4,
 "nbformat_minor": 5
}
