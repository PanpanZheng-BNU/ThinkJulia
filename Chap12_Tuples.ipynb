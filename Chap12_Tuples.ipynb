{
 "cells": [
  {
   "cell_type": "markdown",
   "id": "587084f3-2f3e-40eb-bada-6730959fd135",
   "metadata": {},
   "source": [
    "# Tuples\n",
    "## Immutable"
   ]
  },
  {
   "cell_type": "code",
   "execution_count": 1,
   "id": "70bc26b8-6efb-4651-970d-ef398abb207c",
   "metadata": {
    "execution": {
     "iopub.execute_input": "2021-04-23T06:29:03.368000-07:00",
     "iopub.status.busy": "2021-04-23T06:29:02.514000-07:00",
     "iopub.status.idle": "2021-04-23T06:29:04.605000-07:00",
     "shell.execute_reply": "2021-04-23T06:29:04.548000-07:00"
    },
    "tags": []
   },
   "outputs": [
    {
     "data": {
      "text/plain": [
       "('a', 'b', 'c', 'd', 'e')"
      ]
     },
     "execution_count": 1,
     "metadata": {},
     "output_type": "execute_result"
    }
   ],
   "source": [
    "t = 'a','b','c','d','e'"
   ]
  },
  {
   "cell_type": "code",
   "execution_count": 2,
   "id": "fb1502a6-6d4b-45c1-958b-7d73bfa7dfda",
   "metadata": {
    "execution": {
     "iopub.execute_input": "2021-04-23T06:29:04.607000-07:00",
     "iopub.status.busy": "2021-04-23T06:29:04.606000-07:00",
     "iopub.status.idle": "2021-04-23T06:29:04.666000-07:00",
     "shell.execute_reply": "2021-04-23T06:29:04.665000-07:00"
    },
    "tags": []
   },
   "outputs": [
    {
     "data": {
      "text/plain": [
       "('a', 'b', 'c', 'd', 'e')"
      ]
     },
     "execution_count": 2,
     "metadata": {},
     "output_type": "execute_result"
    }
   ],
   "source": [
    "t = Tuple(Char(x) for x in 97:101)"
   ]
  },
  {
   "cell_type": "code",
   "execution_count": 3,
   "id": "08ed7efa-e0bd-411e-8a18-cedde9b6f681",
   "metadata": {
    "execution": {
     "iopub.execute_input": "2021-04-23T06:29:04.668000-07:00",
     "iopub.status.busy": "2021-04-23T06:29:04.667000-07:00",
     "iopub.status.idle": "2021-04-23T06:29:05.248000-07:00",
     "shell.execute_reply": "2021-04-23T06:29:05.247000-07:00"
    },
    "tags": []
   },
   "outputs": [
    {
     "data": {
      "text/plain": [
       "NTuple{5, Char}"
      ]
     },
     "execution_count": 3,
     "metadata": {},
     "output_type": "execute_result"
    }
   ],
   "source": [
    "typeof(t)"
   ]
  },
  {
   "cell_type": "code",
   "execution_count": 4,
   "id": "98b61979-24a0-46c9-bad5-2873509988d2",
   "metadata": {
    "execution": {
     "iopub.execute_input": "2021-04-23T06:29:05.250000-07:00",
     "iopub.status.busy": "2021-04-23T06:29:05.249000-07:00",
     "iopub.status.idle": "2021-04-23T06:29:06.926000-07:00",
     "shell.execute_reply": "2021-04-23T06:29:06.926000-07:00"
    },
    "tags": []
   },
   "outputs": [
    {
     "ename": "LoadError",
     "evalue": "MethodError: no method matching setindex!(::NTuple{5, Char}, ::Int64, ::Int64)",
     "output_type": "error",
     "traceback": [
      "MethodError: no method matching setindex!(::NTuple{5, Char}, ::Int64, ::Int64)",
      "",
      "Stacktrace:",
      " [1] top-level scope",
      "   @ In[4]:1",
      " [2] eval",
      "   @ ./boot.jl:360 [inlined]",
      " [3] include_string(mapexpr::typeof(REPL.softscope), mod::Module, code::String, filename::String)",
      "   @ Base ./loading.jl:1094"
     ]
    }
   ],
   "source": [
    "t[1] =2"
   ]
  },
  {
   "cell_type": "code",
   "execution_count": 5,
   "id": "afcc86d8-f4fe-4b7f-ad2e-4a0b0b1f10ce",
   "metadata": {
    "execution": {
     "iopub.execute_input": "2021-04-23T06:29:06.929000-07:00",
     "iopub.status.busy": "2021-04-23T06:29:06.928000-07:00",
     "iopub.status.idle": "2021-04-23T06:29:07.327000-07:00",
     "shell.execute_reply": "2021-04-23T06:29:07.326000-07:00"
    },
    "tags": []
   },
   "outputs": [
    {
     "data": {
      "text/plain": [
       "(1, 'a', π)"
      ]
     },
     "execution_count": 5,
     "metadata": {},
     "output_type": "execute_result"
    }
   ],
   "source": [
    "t3 = tuple(1,'a',π)"
   ]
  },
  {
   "cell_type": "code",
   "execution_count": 6,
   "id": "9796f299-f583-4a9d-9f0e-dc5d86eb9b2d",
   "metadata": {
    "execution": {
     "iopub.execute_input": "2021-04-23T06:29:07.329000-07:00",
     "iopub.status.busy": "2021-04-23T06:29:07.328000-07:00",
     "iopub.status.idle": "2021-04-23T06:29:07.335000-07:00",
     "shell.execute_reply": "2021-04-23T06:29:07.334000-07:00"
    },
    "tags": []
   },
   "outputs": [
    {
     "data": {
      "text/plain": [
       "Tuple{Int64, Char, Irrational{:π}}"
      ]
     },
     "execution_count": 6,
     "metadata": {},
     "output_type": "execute_result"
    }
   ],
   "source": [
    "typeof(t3)"
   ]
  },
  {
   "cell_type": "code",
   "execution_count": 7,
   "id": "782237b9-1c0b-409f-8d9b-44b5b9de1706",
   "metadata": {
    "execution": {
     "iopub.execute_input": "2021-04-23T06:29:07.337000-07:00",
     "iopub.status.busy": "2021-04-23T06:29:07.336000-07:00",
     "iopub.status.idle": "2021-04-23T06:29:07.732000-07:00",
     "shell.execute_reply": "2021-04-23T06:29:07.731000-07:00"
    },
    "tags": []
   },
   "outputs": [
    {
     "data": {
      "text/plain": [
       "true"
      ]
     },
     "execution_count": 7,
     "metadata": {},
     "output_type": "execute_result"
    }
   ],
   "source": [
    "(0,1,2) < (0,3,4)"
   ]
  },
  {
   "cell_type": "code",
   "execution_count": 8,
   "id": "80e97b16-806e-4570-b4eb-25c2108215fc",
   "metadata": {
    "execution": {
     "iopub.execute_input": "2021-04-23T06:29:07.734000-07:00",
     "iopub.status.busy": "2021-04-23T06:29:07.733000-07:00",
     "iopub.status.idle": "2021-04-23T06:29:07.737000-07:00",
     "shell.execute_reply": "2021-04-23T06:29:07.737000-07:00"
    },
    "tags": []
   },
   "outputs": [
    {
     "data": {
      "text/plain": [
       "true"
      ]
     },
     "execution_count": 8,
     "metadata": {},
     "output_type": "execute_result"
    }
   ],
   "source": [
    "(0,1,2000000) < (0,3,4)"
   ]
  },
  {
   "cell_type": "markdown",
   "id": "09384edb-aa67-4c73-9579-cb15e029260c",
   "metadata": {},
   "source": [
    "## Tuple Assignment"
   ]
  },
  {
   "cell_type": "code",
   "execution_count": 9,
   "id": "4f01794f-9bfd-4159-b699-f4c0ba621997",
   "metadata": {
    "execution": {
     "iopub.execute_input": "2021-04-23T06:29:07.737000-07:00",
     "iopub.status.busy": "2021-04-23T06:29:07.737000-07:00",
     "iopub.status.idle": "2021-04-23T06:29:07.793000-07:00",
     "shell.execute_reply": "2021-04-23T06:29:07.791000-07:00"
    },
    "tags": []
   },
   "outputs": [
    {
     "name": "stdout",
     "output_type": "stream",
     "text": [
      "a: 1 \n",
      "b: 2\n",
      "\n",
      "a: 2 \n",
      "b: 1\n",
      "\n",
      "a: 1 \n",
      "b: 2\n"
     ]
    }
   ],
   "source": [
    "a = 1;\n",
    "b = 2;\n",
    "println(\"a: $a \\nb: $b\")\n",
    "\n",
    "\n",
    "temp = a;\n",
    "a = b;\n",
    "b = temp;\n",
    "println(\"\\na: $a \\nb: $b\")\n",
    "\n",
    "a,b = b,a\n",
    "println(\"\\na: $a \\nb: $b\")"
   ]
  },
  {
   "cell_type": "code",
   "execution_count": 10,
   "id": "3b819358-7ba2-4caa-8cf3-5a6463322b85",
   "metadata": {
    "execution": {
     "iopub.execute_input": "2021-04-23T06:29:07.796000-07:00",
     "iopub.status.busy": "2021-04-23T06:29:07.794000-07:00",
     "iopub.status.idle": "2021-04-23T06:29:07.814000-07:00",
     "shell.execute_reply": "2021-04-23T06:29:07.813000-07:00"
    },
    "tags": []
   },
   "outputs": [
    {
     "name": "stdout",
     "output_type": "stream",
     "text": [
      "a:\t1\n",
      "b:\t2\n"
     ]
    }
   ],
   "source": [
    "(a, b) = (1,2,3)\n",
    "println(\"a:\\t$a\\nb:\\t$b\")"
   ]
  },
  {
   "cell_type": "code",
   "execution_count": 11,
   "id": "d7a49cdb-213d-4046-bcb1-c112be1cbf5f",
   "metadata": {
    "execution": {
     "iopub.execute_input": "2021-04-23T06:29:07.816000-07:00",
     "iopub.status.busy": "2021-04-23T06:29:07.815000-07:00",
     "iopub.status.idle": "2021-04-23T06:29:08-07:00",
     "shell.execute_reply": "2021-04-23T06:29:07.999000-07:00"
    },
    "tags": []
   },
   "outputs": [
    {
     "ename": "LoadError",
     "evalue": "BoundsError: attempt to access Tuple{Int64, Int64} at index [3]",
     "output_type": "error",
     "traceback": [
      "BoundsError: attempt to access Tuple{Int64, Int64} at index [3]",
      "",
      "Stacktrace:",
      " [1] indexed_iterate(t::Tuple{Int64, Int64}, i::Int64, state::Int64)",
      "   @ Base ./tuple.jl:86",
      " [2] top-level scope",
      "   @ In[11]:1",
      " [3] eval",
      "   @ ./boot.jl:360 [inlined]",
      " [4] include_string(mapexpr::typeof(REPL.softscope), mod::Module, code::String, filename::String)",
      "   @ Base ./loading.jl:1094"
     ]
    }
   ],
   "source": [
    "(a,b,c) = (1,2)"
   ]
  },
  {
   "cell_type": "code",
   "execution_count": 12,
   "id": "030b49e0-b653-46c2-914c-1d75374aeb83",
   "metadata": {
    "execution": {
     "iopub.execute_input": "2021-04-23T06:29:08.002000-07:00",
     "iopub.status.busy": "2021-04-23T06:29:08.001000-07:00",
     "iopub.status.idle": "2021-04-23T06:29:08.393000-07:00",
     "shell.execute_reply": "2021-04-23T06:29:08.393000-07:00"
    },
    "tags": []
   },
   "outputs": [
    {
     "data": {
      "text/plain": [
       "\"Julius.caesar@rome\""
      ]
     },
     "execution_count": 12,
     "metadata": {},
     "output_type": "execute_result"
    }
   ],
   "source": [
    "addr = \"Julius.caesar@rome\""
   ]
  },
  {
   "cell_type": "code",
   "execution_count": 13,
   "id": "310e76ac-cf81-4fc4-9c32-20c13e90648e",
   "metadata": {
    "execution": {
     "iopub.execute_input": "2021-04-23T06:29:08.394000-07:00",
     "iopub.status.busy": "2021-04-23T06:29:08.393000-07:00",
     "iopub.status.idle": "2021-04-23T06:29:10.079000-07:00",
     "shell.execute_reply": "2021-04-23T06:29:10.078000-07:00"
    },
    "tags": []
   },
   "outputs": [
    {
     "data": {
      "text/plain": [
       "2-element Vector{SubString{String}}:\n",
       " \"Julius.caesar\"\n",
       " \"rome\""
      ]
     },
     "execution_count": 13,
     "metadata": {},
     "output_type": "execute_result"
    }
   ],
   "source": [
    "uname, domain = split(addr,\"@\")"
   ]
  },
  {
   "cell_type": "code",
   "execution_count": 14,
   "id": "7d3a6354-802c-4cc8-9ae9-8241cce6c8f4",
   "metadata": {
    "execution": {
     "iopub.execute_input": "2021-04-23T06:29:10.081000-07:00",
     "iopub.status.busy": "2021-04-23T06:29:10.080000-07:00",
     "iopub.status.idle": "2021-04-23T06:29:10.380000-07:00",
     "shell.execute_reply": "2021-04-23T06:29:10.379000-07:00"
    },
    "tags": []
   },
   "outputs": [
    {
     "data": {
      "text/plain": [
       "\"Julius.caesar\""
      ]
     },
     "execution_count": 14,
     "metadata": {},
     "output_type": "execute_result"
    }
   ],
   "source": [
    "uname"
   ]
  },
  {
   "cell_type": "code",
   "execution_count": 15,
   "id": "4c2cd905-dff3-45e5-86ad-9b2edaa7ef11",
   "metadata": {
    "execution": {
     "iopub.execute_input": "2021-04-23T06:29:10.383000-07:00",
     "iopub.status.busy": "2021-04-23T06:29:10.383000-07:00",
     "iopub.status.idle": "2021-04-23T06:29:10.384000-07:00",
     "shell.execute_reply": "2021-04-23T06:29:10.384000-07:00"
    },
    "tags": []
   },
   "outputs": [
    {
     "data": {
      "text/plain": [
       "\"rome\""
      ]
     },
     "execution_count": 15,
     "metadata": {},
     "output_type": "execute_result"
    }
   ],
   "source": [
    "domain"
   ]
  },
  {
   "cell_type": "markdown",
   "id": "51cbc80e-3ed9-4e94-b592-d087d863e262",
   "metadata": {},
   "source": [
    "## Tuple as Return value\n",
    "* `divrem(x,y)`"
   ]
  },
  {
   "cell_type": "code",
   "execution_count": 16,
   "id": "c9f497bb-f9da-46b1-b8fc-f26cd15dd247",
   "metadata": {
    "execution": {
     "iopub.execute_input": "2021-04-23T06:29:10.384000-07:00",
     "iopub.status.busy": "2021-04-23T06:29:10.384000-07:00",
     "iopub.status.idle": "2021-04-23T06:29:10.394000-07:00",
     "shell.execute_reply": "2021-04-23T06:29:10.394000-07:00"
    },
    "tags": []
   },
   "outputs": [],
   "source": [
    "divrem(5,2);"
   ]
  },
  {
   "cell_type": "code",
   "execution_count": 17,
   "id": "8e16d663-c91e-41ce-bb8f-42748f6209f7",
   "metadata": {
    "execution": {
     "iopub.execute_input": "2021-04-23T06:29:10.395000-07:00",
     "iopub.status.busy": "2021-04-23T06:29:10.395000-07:00",
     "iopub.status.idle": "2021-04-23T06:29:10.819000-07:00",
     "shell.execute_reply": "2021-04-23T06:29:10.818000-07:00"
    },
    "tags": []
   },
   "outputs": [
    {
     "data": {
      "text/plain": [
       "(2, 1)"
      ]
     },
     "execution_count": 17,
     "metadata": {},
     "output_type": "execute_result"
    }
   ],
   "source": [
    "q,r = divrem(5,2)"
   ]
  },
  {
   "cell_type": "code",
   "execution_count": 18,
   "id": "50e51805-c153-46c5-8be9-2f5c29804bf4",
   "metadata": {
    "execution": {
     "iopub.execute_input": "2021-04-23T06:29:10.821000-07:00",
     "iopub.status.busy": "2021-04-23T06:29:10.820000-07:00",
     "iopub.status.idle": "2021-04-23T06:29:11.180000-07:00",
     "shell.execute_reply": "2021-04-23T06:29:11.180000-07:00"
    },
    "tags": []
   },
   "outputs": [
    {
     "name": "stdout",
     "output_type": "stream",
     "text": [
      "q = 2\n",
      "r = 1\n"
     ]
    },
    {
     "data": {
      "text/plain": [
       "1"
      ]
     },
     "execution_count": 18,
     "metadata": {},
     "output_type": "execute_result"
    }
   ],
   "source": [
    "@show q r"
   ]
  },
  {
   "cell_type": "code",
   "execution_count": 19,
   "id": "aa83e976-8e38-4f00-b065-e1c945523286",
   "metadata": {
    "execution": {
     "iopub.execute_input": "2021-04-23T06:29:11.183000-07:00",
     "iopub.status.busy": "2021-04-23T06:29:11.182000-07:00",
     "iopub.status.idle": "2021-04-23T06:29:11.578000-07:00",
     "shell.execute_reply": "2021-04-23T06:29:11.578000-07:00"
    },
    "tags": []
   },
   "outputs": [
    {
     "data": {
      "text/plain": [
       "minmaxself (generic function with 1 method)"
      ]
     },
     "execution_count": 19,
     "metadata": {},
     "output_type": "execute_result"
    }
   ],
   "source": [
    "function minmaxself(t)\n",
    "    return minimum(t), maximum(t)\n",
    "end"
   ]
  },
  {
   "cell_type": "code",
   "execution_count": 20,
   "id": "3e2a9843-66d1-4605-ad55-92b36180a21b",
   "metadata": {
    "execution": {
     "iopub.execute_input": "2021-04-23T06:29:11.578000-07:00",
     "iopub.status.busy": "2021-04-23T06:29:11.578000-07:00",
     "iopub.status.idle": "2021-04-23T06:29:11.648000-07:00",
     "shell.execute_reply": "2021-04-23T06:29:11.647000-07:00"
    },
    "tags": []
   },
   "outputs": [
    {
     "data": {
      "text/plain": [
       "(3, 21314)"
      ]
     },
     "execution_count": 20,
     "metadata": {},
     "output_type": "execute_result"
    }
   ],
   "source": [
    "minmaxself([21,213,3,21,21,21314,121])"
   ]
  },
  {
   "cell_type": "markdown",
   "id": "8b937594-03a9-4316-b3e0-3a269e10cf9e",
   "metadata": {},
   "source": [
    "## Variable-length arguments Tuple\n",
    "* `...`: gather variables into a tuple"
   ]
  },
  {
   "cell_type": "code",
   "execution_count": 21,
   "id": "d4f95622-9c0b-451c-93e5-6460145ce03b",
   "metadata": {
    "execution": {
     "iopub.execute_input": "2021-04-23T06:29:11.650000-07:00",
     "iopub.status.busy": "2021-04-23T06:29:11.649000-07:00",
     "iopub.status.idle": "2021-04-23T06:29:11.766000-07:00",
     "shell.execute_reply": "2021-04-23T06:29:11.765000-07:00"
    },
    "tags": []
   },
   "outputs": [
    {
     "data": {
      "text/plain": [
       "printall (generic function with 1 method)"
      ]
     },
     "execution_count": 21,
     "metadata": {},
     "output_type": "execute_result"
    }
   ],
   "source": [
    "function printall(args...)\n",
    "    println(args)\n",
    "end"
   ]
  },
  {
   "cell_type": "code",
   "execution_count": 22,
   "id": "96a78cb6-9d5c-4f75-8c0b-094f2b25c39a",
   "metadata": {
    "execution": {
     "iopub.execute_input": "2021-04-23T06:29:11.768000-07:00",
     "iopub.status.busy": "2021-04-23T06:29:11.767000-07:00",
     "iopub.status.idle": "2021-04-23T06:29:12.010000-07:00",
     "shell.execute_reply": "2021-04-23T06:29:12.010000-07:00"
    },
    "tags": []
   },
   "outputs": [
    {
     "name": "stdout",
     "output_type": "stream",
     "text": [
      "(\"a\", 1, π)\n"
     ]
    }
   ],
   "source": [
    "printall(\"a\",1,π)"
   ]
  },
  {
   "cell_type": "code",
   "execution_count": 23,
   "id": "37afa6cc-4f5c-445e-b9c6-82e5f2337025",
   "metadata": {
    "execution": {
     "iopub.execute_input": "2021-04-23T06:29:12.013000-07:00",
     "iopub.status.busy": "2021-04-23T06:29:12.012000-07:00",
     "iopub.status.idle": "2021-04-23T06:29:12.184000-07:00",
     "shell.execute_reply": "2021-04-23T06:29:12.183000-07:00"
    },
    "tags": []
   },
   "outputs": [
    {
     "ename": "LoadError",
     "evalue": "MethodError: no method matching divrem(::Tuple{Int64, Int64})\n\u001b[0mClosest candidates are:\n\u001b[0m  divrem(::T, \u001b[91m::Base.MultiplicativeInverses.MultiplicativeInverse{T}\u001b[39m) where T at multinverses.jl:152\n\u001b[0m  divrem(::Any, \u001b[91m::Any\u001b[39m) at div.jl:120\n\u001b[0m  divrem(::Any, \u001b[91m::Any\u001b[39m, \u001b[91m::RoundingMode\u001b[39m) at div.jl:121\n\u001b[0m  ...",
     "output_type": "error",
     "traceback": [
      "MethodError: no method matching divrem(::Tuple{Int64, Int64})\n\u001b[0mClosest candidates are:\n\u001b[0m  divrem(::T, \u001b[91m::Base.MultiplicativeInverses.MultiplicativeInverse{T}\u001b[39m) where T at multinverses.jl:152\n\u001b[0m  divrem(::Any, \u001b[91m::Any\u001b[39m) at div.jl:120\n\u001b[0m  divrem(::Any, \u001b[91m::Any\u001b[39m, \u001b[91m::RoundingMode\u001b[39m) at div.jl:121\n\u001b[0m  ...",
      "",
      "Stacktrace:",
      " [1] top-level scope",
      "   @ In[23]:2",
      " [2] eval",
      "   @ ./boot.jl:360 [inlined]",
      " [3] include_string(mapexpr::typeof(REPL.softscope), mod::Module, code::String, filename::String)",
      "   @ Base ./loading.jl:1094"
     ]
    }
   ],
   "source": [
    "t = (7,3);\n",
    "divrem(t)"
   ]
  },
  {
   "cell_type": "code",
   "execution_count": 24,
   "id": "ca5d5ec4-ce8b-479c-a7a6-680e95e61019",
   "metadata": {
    "execution": {
     "iopub.execute_input": "2021-04-23T06:29:12.186000-07:00",
     "iopub.status.busy": "2021-04-23T06:29:12.185000-07:00",
     "iopub.status.idle": "2021-04-23T06:29:12.189000-07:00",
     "shell.execute_reply": "2021-04-23T06:29:12.189000-07:00"
    },
    "tags": []
   },
   "outputs": [
    {
     "data": {
      "text/plain": [
       "(2, 1)"
      ]
     },
     "execution_count": 24,
     "metadata": {},
     "output_type": "execute_result"
    }
   ],
   "source": [
    "divrem(t...)"
   ]
  },
  {
   "cell_type": "code",
   "execution_count": 25,
   "id": "bc99c119-5cf3-4501-9047-a80a148d85eb",
   "metadata": {
    "execution": {
     "iopub.execute_input": "2021-04-23T06:29:12.189000-07:00",
     "iopub.status.busy": "2021-04-23T06:29:12.189000-07:00",
     "iopub.status.idle": "2021-04-23T06:29:12.326000-07:00",
     "shell.execute_reply": "2021-04-23T06:29:12.325000-07:00"
    },
    "tags": []
   },
   "outputs": [
    {
     "data": {
      "text/plain": [
       "sumall (generic function with 1 method)"
      ]
     },
     "execution_count": 25,
     "metadata": {},
     "output_type": "execute_result"
    }
   ],
   "source": [
    "function sumall(args...)\n",
    "    sum(args)\n",
    "end"
   ]
  },
  {
   "cell_type": "code",
   "execution_count": 26,
   "id": "ffc5f803-171d-4043-ad06-f175cf19ed7e",
   "metadata": {
    "execution": {
     "iopub.execute_input": "2021-04-23T06:29:12.328000-07:00",
     "iopub.status.busy": "2021-04-23T06:29:12.327000-07:00",
     "iopub.status.idle": "2021-04-23T06:29:12.341000-07:00",
     "shell.execute_reply": "2021-04-23T06:29:12.340000-07:00"
    },
    "tags": []
   },
   "outputs": [
    {
     "data": {
      "text/plain": [
       "6"
      ]
     },
     "execution_count": 26,
     "metadata": {},
     "output_type": "execute_result"
    }
   ],
   "source": [
    "sumall(1,2,3)"
   ]
  },
  {
   "cell_type": "markdown",
   "id": "5cf3ab08-7d73-43d4-9afa-f3380a9e87c2",
   "metadata": {},
   "source": [
    "### example of `...`\n",
    "* **`argument...`** must be in a function !!!!!"
   ]
  },
  {
   "cell_type": "code",
   "execution_count": 27,
   "id": "4474382b-7a37-45c2-827a-99d9cfb36f66",
   "metadata": {
    "execution": {
     "iopub.execute_input": "2021-04-23T06:29:12.343000-07:00",
     "iopub.status.busy": "2021-04-23T06:29:12.342000-07:00",
     "iopub.status.idle": "2021-04-23T06:29:12.404000-07:00",
     "shell.execute_reply": "2021-04-23T06:29:12.404000-07:00"
    },
    "tags": []
   },
   "outputs": [
    {
     "ename": "LoadError",
     "evalue": "syntax: \"...\" expression outside call around In[27]:1",
     "output_type": "error",
     "traceback": [
      "syntax: \"...\" expression outside call around In[27]:1",
      "",
      "Stacktrace:",
      " [1] top-level scope",
      "   @ In[27]:1",
      " [2] eval",
      "   @ ./boot.jl:360 [inlined]",
      " [3] include_string(mapexpr::typeof(REPL.softscope), mod::Module, code::String, filename::String)",
      "   @ Base ./loading.jl:1094"
     ]
    }
   ],
   "source": [
    "\"array\"..."
   ]
  },
  {
   "cell_type": "code",
   "execution_count": 28,
   "id": "6b1dc13c-7155-41b6-a95f-fe5729a007b0",
   "metadata": {
    "execution": {
     "iopub.execute_input": "2021-04-23T06:29:12.404000-07:00",
     "iopub.status.busy": "2021-04-23T06:29:12.404000-07:00",
     "iopub.status.idle": "2021-04-23T06:29:12.405000-07:00",
     "shell.execute_reply": "2021-04-23T06:29:12.405000-07:00"
    },
    "tags": []
   },
   "outputs": [
    {
     "data": {
      "text/plain": [
       "('a', 'r', 'r', 'a', 'y')"
      ]
     },
     "execution_count": 28,
     "metadata": {},
     "output_type": "execute_result"
    }
   ],
   "source": [
    "tuple(\"array\"...)"
   ]
  },
  {
   "cell_type": "code",
   "execution_count": 29,
   "id": "6ed56ae1-98d0-4db4-879f-7e0074b757a1",
   "metadata": {
    "execution": {
     "iopub.execute_input": "2021-04-23T06:29:12.406000-07:00",
     "iopub.status.busy": "2021-04-23T06:29:12.405000-07:00",
     "iopub.status.idle": "2021-04-23T06:29:13.200000-07:00",
     "shell.execute_reply": "2021-04-23T06:29:13.199000-07:00"
    },
    "tags": []
   },
   "outputs": [
    {
     "data": {
      "text/plain": [
       "5-element Vector{Char}:\n",
       " 'a': ASCII/Unicode U+0061 (category Ll: Letter, lowercase)\n",
       " 'r': ASCII/Unicode U+0072 (category Ll: Letter, lowercase)\n",
       " 'r': ASCII/Unicode U+0072 (category Ll: Letter, lowercase)\n",
       " 'a': ASCII/Unicode U+0061 (category Ll: Letter, lowercase)\n",
       " 'y': ASCII/Unicode U+0079 (category Ll: Letter, lowercase)"
      ]
     },
     "execution_count": 29,
     "metadata": {},
     "output_type": "execute_result"
    }
   ],
   "source": [
    "[\"array\"...]"
   ]
  },
  {
   "cell_type": "markdown",
   "id": "fbe62881-b557-4f4e-88ad-40bb3d030ad9",
   "metadata": {},
   "source": [
    "## Arrays and Tuples\n",
    "* `zip()`\n",
    "    * *zip object* use `for` loop to iteration or use `collect()` to transfer to array."
   ]
  },
  {
   "cell_type": "code",
   "execution_count": 30,
   "id": "63ac235f-d11e-4a52-898a-d5410e8026a5",
   "metadata": {
    "execution": {
     "iopub.execute_input": "2021-04-23T06:29:13.202000-07:00",
     "iopub.status.busy": "2021-04-23T06:29:13.201000-07:00",
     "iopub.status.idle": "2021-04-23T06:29:13.205000-07:00",
     "shell.execute_reply": "2021-04-23T06:29:13.204000-07:00"
    },
    "tags": []
   },
   "outputs": [],
   "source": [
    "s = \"abc\";\n",
    "t = [1,2,3,4];"
   ]
  },
  {
   "cell_type": "code",
   "execution_count": 31,
   "id": "c4ab571c-03e2-414f-b7ce-ca6f63ab5426",
   "metadata": {
    "execution": {
     "iopub.execute_input": "2021-04-23T06:29:13.205000-07:00",
     "iopub.status.busy": "2021-04-23T06:29:13.205000-07:00",
     "iopub.status.idle": "2021-04-23T06:29:13.854000-07:00",
     "shell.execute_reply": "2021-04-23T06:29:13.853000-07:00"
    },
    "tags": []
   },
   "outputs": [
    {
     "data": {
      "text/plain": [
       "zip(\"abc\", [1, 2, 3, 4])"
      ]
     },
     "execution_count": 31,
     "metadata": {},
     "output_type": "execute_result"
    }
   ],
   "source": [
    "z = zip(s,t)"
   ]
  },
  {
   "cell_type": "code",
   "execution_count": 32,
   "id": "107633bb-e530-4ed3-b235-fc6ff8b31ff0",
   "metadata": {
    "execution": {
     "iopub.execute_input": "2021-04-23T06:29:13.856000-07:00",
     "iopub.status.busy": "2021-04-23T06:29:13.855000-07:00",
     "iopub.status.idle": "2021-04-23T06:29:15.017000-07:00",
     "shell.execute_reply": "2021-04-23T06:29:15.016000-07:00"
    },
    "tags": []
   },
   "outputs": [
    {
     "data": {
      "text/plain": [
       "3-element Vector{Tuple{Char, Int64}}:\n",
       " ('a', 1)\n",
       " ('b', 2)\n",
       " ('c', 3)"
      ]
     },
     "execution_count": 32,
     "metadata": {},
     "output_type": "execute_result"
    }
   ],
   "source": [
    "collect(z)"
   ]
  },
  {
   "cell_type": "code",
   "execution_count": 33,
   "id": "a71b830b-b953-46c4-b853-9c84a9d0f5da",
   "metadata": {
    "execution": {
     "iopub.execute_input": "2021-04-23T06:29:15.019000-07:00",
     "iopub.status.busy": "2021-04-23T06:29:15.018000-07:00",
     "iopub.status.idle": "2021-04-23T06:29:15.246000-07:00",
     "shell.execute_reply": "2021-04-23T06:29:15.245000-07:00"
    },
    "tags": []
   },
   "outputs": [
    {
     "name": "stdout",
     "output_type": "stream",
     "text": [
      "('a', 1)\n",
      "('b', 2)\n",
      "('c', 3)\n"
     ]
    }
   ],
   "source": [
    "for i in z\n",
    "    println(i)\n",
    "end"
   ]
  },
  {
   "cell_type": "code",
   "execution_count": 34,
   "id": "74b160e6-be14-4bb7-9253-df8f9ba5217b",
   "metadata": {
    "execution": {
     "iopub.execute_input": "2021-04-23T06:29:15.248000-07:00",
     "iopub.status.busy": "2021-04-23T06:29:15.247000-07:00",
     "iopub.status.idle": "2021-04-23T06:29:15.269000-07:00",
     "shell.execute_reply": "2021-04-23T06:29:15.267000-07:00"
    },
    "tags": []
   },
   "outputs": [],
   "source": [
    "t = [('a',1),('b',2),('c',3)];"
   ]
  },
  {
   "cell_type": "code",
   "execution_count": 35,
   "id": "d3d7667c-dd54-4508-81dc-68076f45ea8a",
   "metadata": {
    "execution": {
     "iopub.execute_input": "2021-04-23T06:29:15.271000-07:00",
     "iopub.status.busy": "2021-04-23T06:29:15.270000-07:00",
     "iopub.status.idle": "2021-04-23T06:29:15.324000-07:00",
     "shell.execute_reply": "2021-04-23T06:29:15.323000-07:00"
    },
    "tags": []
   },
   "outputs": [
    {
     "name": "stdout",
     "output_type": "stream",
     "text": [
      "a 1\n",
      "b 2\n",
      "c 3\n"
     ]
    }
   ],
   "source": [
    "for (letter,num) in t\n",
    "    println(\"$letter $num\")\n",
    "end"
   ]
  },
  {
   "cell_type": "code",
   "execution_count": 36,
   "id": "edb55bd8-26b9-49a3-b403-4a2849794e74",
   "metadata": {
    "execution": {
     "iopub.execute_input": "2021-04-23T06:29:15.327000-07:00",
     "iopub.status.busy": "2021-04-23T06:29:15.326000-07:00",
     "iopub.status.idle": "2021-04-23T06:29:15.464000-07:00",
     "shell.execute_reply": "2021-04-23T06:29:15.463000-07:00"
    },
    "tags": []
   },
   "outputs": [
    {
     "data": {
      "text/plain": [
       "hasmatch (generic function with 1 method)"
      ]
     },
     "execution_count": 36,
     "metadata": {},
     "output_type": "execute_result"
    }
   ],
   "source": [
    "function hasmatch(t1,t2)\n",
    "    for (l1,l2) in zip(t1,t2)\n",
    "        if l1 == l2\n",
    "            return true\n",
    "        end\n",
    "    end\n",
    "    false\n",
    "end"
   ]
  },
  {
   "cell_type": "code",
   "execution_count": 37,
   "id": "f9dc003f-8bd0-4455-bc60-130944eac9e4",
   "metadata": {
    "execution": {
     "iopub.execute_input": "2021-04-23T06:29:15.464000-07:00",
     "iopub.status.busy": "2021-04-23T06:29:15.464000-07:00",
     "iopub.status.idle": "2021-04-23T06:29:15.492000-07:00",
     "shell.execute_reply": "2021-04-23T06:29:15.492000-07:00"
    },
    "tags": []
   },
   "outputs": [
    {
     "data": {
      "text/plain": [
       "true"
      ]
     },
     "execution_count": 37,
     "metadata": {},
     "output_type": "execute_result"
    }
   ],
   "source": [
    "hasmatch(\"appple\",\"apple\")"
   ]
  },
  {
   "cell_type": "markdown",
   "id": "2c5009f8-e3ec-46be-951b-149ba196f027",
   "metadata": {},
   "source": [
    "* `enumerate()`"
   ]
  },
  {
   "cell_type": "code",
   "execution_count": 38,
   "id": "2d67bcc1-92dc-4e9a-a70a-e84f59a0d317",
   "metadata": {
    "execution": {
     "iopub.execute_input": "2021-04-23T06:29:15.492000-07:00",
     "iopub.status.busy": "2021-04-23T06:29:15.492000-07:00",
     "iopub.status.idle": "2021-04-23T06:29:15.570000-07:00",
     "shell.execute_reply": "2021-04-23T06:29:15.570000-07:00"
    },
    "tags": []
   },
   "outputs": [
    {
     "name": "stdout",
     "output_type": "stream",
     "text": [
      "1 a\n",
      "2 b\n",
      "3 c\n"
     ]
    }
   ],
   "source": [
    "for (index,element) in enumerate(\"abc\")\n",
    "    println(index,\" \", element)\n",
    "end"
   ]
  },
  {
   "cell_type": "code",
   "execution_count": 39,
   "id": "fd5995f2-5412-46be-a2bc-0fcb8c3ff431",
   "metadata": {
    "execution": {
     "iopub.execute_input": "2021-04-23T06:29:15.570000-07:00",
     "iopub.status.busy": "2021-04-23T06:29:15.570000-07:00",
     "iopub.status.idle": "2021-04-23T06:29:16.692000-07:00",
     "shell.execute_reply": "2021-04-23T06:29:16.691000-07:00"
    },
    "tags": []
   },
   "outputs": [
    {
     "data": {
      "text/plain": [
       "3-element Vector{Tuple{Int64, Char}}:\n",
       " (1, 'a')\n",
       " (2, 'b')\n",
       " (3, 'c')"
      ]
     },
     "execution_count": 39,
     "metadata": {},
     "output_type": "execute_result"
    }
   ],
   "source": [
    "collect(enumerate(\"abc\"))"
   ]
  },
  {
   "cell_type": "markdown",
   "id": "7621e29d-fe6b-4d82-a975-158b26fb4f12",
   "metadata": {},
   "source": [
    "## Dictionaries and Tuples\n",
    "### Looping Dictionaries\n",
    "* `for (key, value) in DictObj`"
   ]
  },
  {
   "cell_type": "code",
   "execution_count": 40,
   "id": "604db378-37ff-458c-8ceb-ec8211062cd1",
   "metadata": {
    "execution": {
     "iopub.execute_input": "2021-04-23T06:29:16.694000-07:00",
     "iopub.status.busy": "2021-04-23T06:29:16.693000-07:00",
     "iopub.status.idle": "2021-04-23T06:29:17.715000-07:00",
     "shell.execute_reply": "2021-04-23T06:29:17.715000-07:00"
    },
    "tags": []
   },
   "outputs": [
    {
     "data": {
      "text/plain": [
       "Dict{Char, Int64} with 3 entries:\n",
       "  'a' => 1\n",
       "  'c' => 3\n",
       "  'b' => 2"
      ]
     },
     "execution_count": 40,
     "metadata": {},
     "output_type": "execute_result"
    }
   ],
   "source": [
    "d = Dict('a' => 1, 'b' => 2, 'c' => 3)"
   ]
  },
  {
   "cell_type": "code",
   "execution_count": 41,
   "id": "7c78622e-c932-42ea-bdad-4ded73d475c9",
   "metadata": {
    "execution": {
     "iopub.execute_input": "2021-04-23T06:29:17.717000-07:00",
     "iopub.status.busy": "2021-04-23T06:29:17.716000-07:00",
     "iopub.status.idle": "2021-04-23T06:29:17.810000-07:00",
     "shell.execute_reply": "2021-04-23T06:29:17.809000-07:00"
    },
    "tags": []
   },
   "outputs": [
    {
     "name": "stdout",
     "output_type": "stream",
     "text": [
      "a  1\n",
      "c  3\n",
      "b  2\n"
     ]
    }
   ],
   "source": [
    "for (key, value) in d\n",
    "    println(key, \"  \", value)\n",
    "end"
   ]
  },
  {
   "cell_type": "markdown",
   "id": "b71a7808-d606-4d52-bf5a-b2c43ab2efba",
   "metadata": {},
   "source": [
    "### arrays consit of tuples 2 Dictionaries"
   ]
  },
  {
   "cell_type": "code",
   "execution_count": 42,
   "id": "d68181c8-2c8e-4ed0-b65c-ae440607259d",
   "metadata": {
    "execution": {
     "iopub.execute_input": "2021-04-23T06:29:17.812000-07:00",
     "iopub.status.busy": "2021-04-23T06:29:17.811000-07:00",
     "iopub.status.idle": "2021-04-23T06:29:17.815000-07:00",
     "shell.execute_reply": "2021-04-23T06:29:17.813000-07:00"
    },
    "tags": []
   },
   "outputs": [],
   "source": [
    "t = [('a',1),('b',2),('c',3)];"
   ]
  },
  {
   "cell_type": "code",
   "execution_count": 43,
   "id": "1d31f514-2064-4dba-b6b7-450207d71fdc",
   "metadata": {
    "execution": {
     "iopub.execute_input": "2021-04-23T06:29:17.815000-07:00",
     "iopub.status.busy": "2021-04-23T06:29:17.815000-07:00",
     "iopub.status.idle": "2021-04-23T06:29:17.849000-07:00",
     "shell.execute_reply": "2021-04-23T06:29:17.848000-07:00"
    },
    "tags": []
   },
   "outputs": [
    {
     "data": {
      "text/plain": [
       "Dict{Char, Int64} with 3 entries:\n",
       "  'a' => 1\n",
       "  'c' => 3\n",
       "  'b' => 2"
      ]
     },
     "execution_count": 43,
     "metadata": {},
     "output_type": "execute_result"
    }
   ],
   "source": [
    "d_t = Dict(t)"
   ]
  },
  {
   "cell_type": "markdown",
   "id": "64193bea-68d6-45a2-8ab6-e14b144c0894",
   "metadata": {},
   "source": [
    "### Zip2Dictionaries"
   ]
  },
  {
   "cell_type": "code",
   "execution_count": 44,
   "id": "53a37c3f-9d52-4366-bfce-944229380659",
   "metadata": {
    "execution": {
     "iopub.execute_input": "2021-04-23T06:29:17.852000-07:00",
     "iopub.status.busy": "2021-04-23T06:29:17.850000-07:00",
     "iopub.status.idle": "2021-04-23T06:29:17.985000-07:00",
     "shell.execute_reply": "2021-04-23T06:29:17.984000-07:00"
    },
    "tags": []
   },
   "outputs": [
    {
     "data": {
      "text/plain": [
       "Dict{Char, Int64} with 3 entries:\n",
       "  'a' => 1\n",
       "  'c' => 3\n",
       "  'b' => 2"
      ]
     },
     "execution_count": 44,
     "metadata": {},
     "output_type": "execute_result"
    }
   ],
   "source": [
    "d3 = Dict(zip(\"abc\",1:3))"
   ]
  },
  {
   "cell_type": "markdown",
   "id": "9f07c9ee-557a-406c-b5a5-ba750e8f600a",
   "metadata": {},
   "source": [
    "### Use tuple as keys\n",
    "* (FirstName, LastName)"
   ]
  },
  {
   "cell_type": "code",
   "execution_count": 45,
   "id": "bfae148a-b84c-4cea-bccb-e1328e0afe22",
   "metadata": {
    "execution": {
     "iopub.execute_input": "2021-04-23T06:29:17.987000-07:00",
     "iopub.status.busy": "2021-04-23T06:29:17.986000-07:00",
     "iopub.status.idle": "2021-04-23T06:29:20.759000-07:00",
     "shell.execute_reply": "2021-04-23T06:29:20.758000-07:00"
    },
    "tags": []
   },
   "outputs": [
    {
     "data": {
      "text/plain": [
       "Dict{Any, Any}()"
      ]
     },
     "execution_count": 45,
     "metadata": {},
     "output_type": "execute_result"
    }
   ],
   "source": [
    "d4 = Dict()"
   ]
  },
  {
   "cell_type": "code",
   "execution_count": 46,
   "id": "75206258-261f-43a5-90c1-bd2e5e966d80",
   "metadata": {
    "execution": {
     "iopub.execute_input": "2021-04-23T06:29:20.761000-07:00",
     "iopub.status.busy": "2021-04-23T06:29:20.760000-07:00",
     "iopub.status.idle": "2021-04-23T06:29:20.826000-07:00",
     "shell.execute_reply": "2021-04-23T06:29:20.825000-07:00"
    },
    "tags": []
   },
   "outputs": [
    {
     "data": {
      "text/plain": [
       "2"
      ]
     },
     "execution_count": 46,
     "metadata": {},
     "output_type": "execute_result"
    }
   ],
   "source": [
    "d4[\"Zheng\",\"PangPang\"] =2"
   ]
  },
  {
   "cell_type": "code",
   "execution_count": 47,
   "id": "4308bf27-2b36-4ee3-89a7-209bc926cf10",
   "metadata": {
    "execution": {
     "iopub.execute_input": "2021-04-23T06:29:20.828000-07:00",
     "iopub.status.busy": "2021-04-23T06:29:20.827000-07:00",
     "iopub.status.idle": "2021-04-23T06:29:21.315000-07:00",
     "shell.execute_reply": "2021-04-23T06:29:21.314000-07:00"
    },
    "tags": []
   },
   "outputs": [
    {
     "name": "stdout",
     "output_type": "stream",
     "text": [
      "Dict{Any, Any}((\"Zheng\", \"PangPang\") => 2)"
     ]
    }
   ],
   "source": [
    "print(d4)"
   ]
  },
  {
   "cell_type": "markdown",
   "id": "a5074753-0a20-41fa-9b00-45fa3af88fd6",
   "metadata": {},
   "source": [
    "## Why Tuple\n",
    "* `return` statement, simpler than array\n",
    "* passing argument of function, reduces the potential for unexpected behavior due to aliasing.\n",
    "* for **higher performance**"
   ]
  },
  {
   "cell_type": "code",
   "execution_count": 48,
   "id": "5f1a30bc-870b-49f7-91fd-f6d5dfb8ae54",
   "metadata": {
    "execution": {
     "iopub.execute_input": "2021-04-23T06:29:21.317000-07:00",
     "iopub.status.busy": "2021-04-23T06:29:21.316000-07:00",
     "iopub.status.idle": "2021-04-23T06:29:23.259000-07:00",
     "shell.execute_reply": "2021-04-23T06:29:23.259000-07:00"
    },
    "tags": []
   },
   "outputs": [
    {
     "name": "stdout",
     "output_type": "stream",
     "text": [
      "  0.048596 seconds (39.33 k allocations: 2.502 MiB, 99.82% compilation time)\n"
     ]
    },
    {
     "data": {
      "text/plain": [
       "5-element Vector{Any}:\n",
       " 1\n",
       " π = 3.1415926535897...\n",
       "  \"aaa\"\n",
       "  'a': ASCII/Unicode U+0061 (category Ll: Letter, lowercase)\n",
       "  [2121.121, 212.0]"
      ]
     },
     "execution_count": 48,
     "metadata": {},
     "output_type": "execute_result"
    }
   ],
   "source": [
    "@time a = [1,π,\"aaa\",'a',[2121.121,212]]"
   ]
  },
  {
   "cell_type": "code",
   "execution_count": 49,
   "id": "cbfb59c9-7467-4daf-b953-3f4197f6fbc2",
   "metadata": {
    "execution": {
     "iopub.execute_input": "2021-04-23T06:29:23.261000-07:00",
     "iopub.status.busy": "2021-04-23T06:29:23.261000-07:00",
     "iopub.status.idle": "2021-04-23T06:29:23.782000-07:00",
     "shell.execute_reply": "2021-04-23T06:29:23.781000-07:00"
    },
    "tags": []
   },
   "outputs": [
    {
     "name": "stdout",
     "output_type": "stream",
     "text": [
      "  0.000008 seconds (3 allocations: 176 bytes)\n"
     ]
    },
    {
     "data": {
      "text/plain": [
       "(1, π, \"aaa\", 'a', [2121.121, 212.0])"
      ]
     },
     "execution_count": 49,
     "metadata": {},
     "output_type": "execute_result"
    }
   ],
   "source": [
    "@time a = (1,π,\"aaa\",'a',[2121.121,212])"
   ]
  },
  {
   "cell_type": "markdown",
   "id": "98fbf4b4-731b-4087-ac2c-a4e113a0403c",
   "metadata": {},
   "source": [
    "#### Ex12-3\n",
    "* 1"
   ]
  },
  {
   "cell_type": "code",
   "execution_count": 50,
   "id": "4a350686-7776-4c3c-b6bf-cd9dd08ef1be",
   "metadata": {
    "execution": {
     "iopub.execute_input": "2021-04-23T06:29:23.784000-07:00",
     "iopub.status.busy": "2021-04-23T06:29:23.783000-07:00",
     "iopub.status.idle": "2021-04-23T06:29:23.972000-07:00",
     "shell.execute_reply": "2021-04-23T06:29:23.970000-07:00"
    },
    "tags": []
   },
   "outputs": [],
   "source": [
    "f = open(\"Data/words.txt\");\n",
    "d = Dict()\n",
    "for i in readlines(f)\n",
    "    d[i] = sort(collect(i))\n",
    "end"
   ]
  },
  {
   "cell_type": "code",
   "execution_count": 51,
   "id": "045c769f-c3d8-4381-907f-4b5db73a6113",
   "metadata": {
    "execution": {
     "iopub.execute_input": "2021-04-23T06:29:23.974000-07:00",
     "iopub.status.busy": "2021-04-23T06:29:23.973000-07:00",
     "iopub.status.idle": "2021-04-23T06:29:24.014000-07:00",
     "shell.execute_reply": "2021-04-23T06:29:24.013000-07:00"
    },
    "tags": []
   },
   "outputs": [
    {
     "data": {
      "text/plain": [
       "Dict{Any, Any} with 113809 entries:\n",
       "  \"epinaoi\"         => ['a', 'e', 'i', 'i', 'n', 'o', 'p']\n",
       "  \"nimbused\"        => ['b', 'd', 'e', 'i', 'm', 'n', 's', 'u']\n",
       "  \"pintoes\"         => ['e', 'i', 'n', 'o', 'p', 's', 't']\n",
       "  \"interties\"       => ['e', 'e', 'i', 'i', 'n', 'r', 's', 't', 't']\n",
       "  \"inattentive\"     => ['a', 'e', 'e', 'i', 'i', 'n', 'n', 't', 't', 't', 'v']\n",
       "  \"cliquing\"        => ['c', 'g', 'i', 'i', 'l', 'n', 'q', 'u']\n",
       "  \"photosynthesis\"  => ['e', 'h', 'h', 'i', 'n', 'o', 'o', 'p', 's', 's', 's', …\n",
       "  \"sleepwalking\"    => ['a', 'e', 'e', 'g', 'i', 'k', 'l', 'l', 'n', 'p', 's', …\n",
       "  \"chicanes\"        => ['a', 'c', 'c', 'e', 'h', 'i', 'n', 's']\n",
       "  \"lunk\"            => ['k', 'l', 'n', 'u']\n",
       "  \"ethmoids\"        => ['d', 'e', 'h', 'i', 'm', 'o', 's', 't']\n",
       "  \"reemitted\"       => ['d', 'e', 'e', 'e', 'i', 'm', 'r', 't', 't']\n",
       "  \"henry\"           => ['e', 'h', 'n', 'r', 'y']\n",
       "  \"hotheadednesses\" => ['a', 'd', 'd', 'e', 'e', 'e', 'e', 'h', 'h', 'n', 'o', …\n",
       "  \"planches\"        => ['a', 'c', 'e', 'h', 'l', 'n', 'p', 's']\n",
       "  \"entomb\"          => ['b', 'e', 'm', 'n', 'o', 't']\n",
       "  \"whiz\"            => ['h', 'i', 'w', 'z']\n",
       "  \"redresses\"       => ['d', 'e', 'e', 'e', 'r', 'r', 's', 's', 's']\n",
       "  \"wormwoods\"       => ['d', 'm', 'o', 'o', 'o', 'r', 's', 'w', 'w']\n",
       "  \"hipnesses\"       => ['e', 'e', 'h', 'i', 'n', 'p', 's', 's', 's']\n",
       "  \"effacer\"         => ['a', 'c', 'e', 'e', 'f', 'f', 'r']\n",
       "  \"clapboards\"      => ['a', 'a', 'b', 'c', 'd', 'l', 'o', 'p', 'r', 's']\n",
       "  \"overgrew\"        => ['e', 'e', 'g', 'o', 'r', 'r', 'v', 'w']\n",
       "  \"swirliest\"       => ['e', 'i', 'i', 'l', 'r', 's', 's', 't', 'w']\n",
       "  \"doodlers\"        => ['d', 'd', 'e', 'l', 'o', 'o', 'r', 's']\n",
       "  ⋮                 => ⋮"
      ]
     },
     "execution_count": 51,
     "metadata": {},
     "output_type": "execute_result"
    }
   ],
   "source": [
    "d"
   ]
  },
  {
   "cell_type": "code",
   "execution_count": 52,
   "id": "b9e00fc5-a447-4704-bc33-4406b88f21ab",
   "metadata": {
    "execution": {
     "iopub.execute_input": "2021-04-23T06:29:24.016000-07:00",
     "iopub.status.busy": "2021-04-23T06:29:24.015000-07:00",
     "iopub.status.idle": "2021-04-23T06:29:24.176000-07:00",
     "shell.execute_reply": "2021-04-23T06:29:24.176000-07:00"
    },
    "tags": []
   },
   "outputs": [
    {
     "data": {
      "text/plain": [
       "reverseD (generic function with 1 method)"
      ]
     },
     "execution_count": 52,
     "metadata": {},
     "output_type": "execute_result"
    }
   ],
   "source": [
    "function reverseD(d)\n",
    "    reverse_dict = Dict()\n",
    "    for (ks, vs) in d\n",
    "        reverse_dict[vs] = vcat(get(reverse_dict,vs,[]),[ks])\n",
    "    end\n",
    "    map!(zip,values(reverse_dict))\n",
    "    reverse_dict\n",
    "end"
   ]
  },
  {
   "cell_type": "code",
   "execution_count": 53,
   "id": "2fa4b9b0-e58e-4ffc-b12e-ce91d65b9d2b",
   "metadata": {
    "execution": {
     "iopub.execute_input": "2021-04-23T06:29:24.178000-07:00",
     "iopub.status.busy": "2021-04-23T06:29:24.177000-07:00",
     "iopub.status.idle": "2021-04-23T06:29:24.839000-07:00",
     "shell.execute_reply": "2021-04-23T06:29:24.838000-07:00"
    },
    "tags": []
   },
   "outputs": [
    {
     "data": {
      "text/plain": [
       "Dict{Any, Any} with 100097 entries:\n",
       "  ['d', 'd', 'e', 'e', 'e', 'i', 'o', 'p'… => zip(Any[\"redeposited\"])\n",
       "  ['e', 'e', 'i', 'o', 'o', 'r', 'r', 's'… => zip(Any[\"overserious\"])\n",
       "  ['a', 'c', 'i', 'i', 'n', 'n', 's']      => zip(Any[\"niacins\"])\n",
       "  ['a', 'e', 'g', 'i', 'n', 's', 't', 'v'] => zip(Any[\"vintages\"])\n",
       "  ['a', 'b', 'c', 'e', 'l', 's']           => zip(Any[\"cables\"])\n",
       "  ['b', 'e', 'l', 'r', 'r', 's', 'u']      => zip(Any[\"burlers\"])\n",
       "  ['l', 'l', 'o', 'r', 't']                => zip(Any[\"troll\"])\n",
       "  ['n', 'o', 'r']                          => zip(Any[\"nor\"])\n",
       "  ['e', 'j', 'k', 'u']                     => zip(Any[\"juke\"])\n",
       "  ['e', 'i', 'm', 'n', 'n', 'o', 'r', 's'… => zip(Any[\"innermost\"])\n",
       "  ['a', 'e', 'g', 'h', 'i', 'l', 'n', 'o'… => zip(Any[\"overhauling\"])\n",
       "  ['c', 'e', 'g', 'i', 'n', 'n', 'o', 'r'… => zip(Any[\"converting\"])\n",
       "  ['a', 'c', 'd', 'i', 'l', 'n', 'o']      => zip(Any[\"nodical\"])\n",
       "  ['a', 'e', 'i', 'm', 'n', 'n', 'o', 's'… => zip(Any[\"nominates\"])\n",
       "  ['c', 'e', 'i', 'l', 'l', 'o', 'q', 'u'] => zip(Any[\"coquille\"])\n",
       "  ['a', 'b', 'b', 'c', 'o']                => zip(Any[\"cabob\"])\n",
       "  ['i', 'i', 'n', 'n', 's', 't', 't', 'u'] => zip(Any[\"tinnitus\"])\n",
       "  ['a', 'd', 'e', 'i', 'n', 'p', 'r', 's'… => zip(Any[\"dispensary\"])\n",
       "  ['a', 'c', 'c', 'e', 'e', 'h', 'h', 'l'… => zip(Any[\"schoolteachers\"])\n",
       "  ['a', 'a', 'c', 'c', 'e', 'e', 'i', 'r'… => zip(Any[\"cercariae\"])\n",
       "  ['a', 'e', 'g', 'g', 'g', 'i', 'n', 'n'] => zip(Any[\"engaging\"])\n",
       "  ['a', 'a', 'c', 'l', 'n', 'p', 'y']      => zip(Any[\"claypan\"])\n",
       "  ['a', 'd', 'e', 'o', 'p', 'r', 'r', 't'… => zip(Any[\"predatory\", \"portrayed\"])\n",
       "  ['a', 'a', 'c', 'i', 'i', 'l', 'l', 'r'… => zip(Any[\"satirically\"])\n",
       "  ['a', 'a', 'b', 'e', 'h', 'l', 'p', 's'] => zip(Any[\"shapable\"])\n",
       "  ⋮                                        => ⋮"
      ]
     },
     "execution_count": 53,
     "metadata": {},
     "output_type": "execute_result"
    }
   ],
   "source": [
    "reverseD(d)"
   ]
  },
  {
   "cell_type": "code",
   "execution_count": 54,
   "id": "e48509e3-adf2-4e04-9de1-e09c13d5e495",
   "metadata": {
    "execution": {
     "iopub.execute_input": "2021-04-23T06:29:24.841000-07:00",
     "iopub.status.busy": "2021-04-23T06:29:24.840000-07:00",
     "iopub.status.idle": "2021-04-23T06:29:26.109000-07:00",
     "shell.execute_reply": "2021-04-23T06:29:26.108000-07:00"
    },
    "tags": []
   },
   "outputs": [
    {
     "data": {
      "text/plain": [
       "2-element Vector{Tuple{Int64, Int64, Int64}}:\n",
       " (1, 2, 3)\n",
       " (2, 3, 4)"
      ]
     },
     "execution_count": 54,
     "metadata": {},
     "output_type": "execute_result"
    }
   ],
   "source": [
    "collect(zip([1,2],[2,3],[3,4]))"
   ]
  },
  {
   "cell_type": "code",
   "execution_count": 55,
   "id": "be4d76db-ebb1-4de8-bbaa-e5ba5b6a195d",
   "metadata": {
    "execution": {
     "iopub.execute_input": "2021-04-23T06:29:26.111000-07:00",
     "iopub.status.busy": "2021-04-23T06:29:26.110000-07:00",
     "iopub.status.idle": "2021-04-23T06:29:26.469000-07:00",
     "shell.execute_reply": "2021-04-23T06:29:26.469000-07:00"
    },
    "tags": []
   },
   "outputs": [
    {
     "data": {
      "text/plain": [
       "Dict{Any, Any} with 100097 entries:\n",
       "  ['d', 'd', 'e', 'e', 'e', 'i', 'o', 'p'… => zip(Any[\"redeposited\"])\n",
       "  ['e', 'e', 'i', 'o', 'o', 'r', 'r', 's'… => zip(Any[\"overserious\"])\n",
       "  ['a', 'c', 'i', 'i', 'n', 'n', 's']      => zip(Any[\"niacins\"])\n",
       "  ['a', 'e', 'g', 'i', 'n', 's', 't', 'v'] => zip(Any[\"vintages\"])\n",
       "  ['a', 'b', 'c', 'e', 'l', 's']           => zip(Any[\"cables\"])\n",
       "  ['b', 'e', 'l', 'r', 'r', 's', 'u']      => zip(Any[\"burlers\"])\n",
       "  ['l', 'l', 'o', 'r', 't']                => zip(Any[\"troll\"])\n",
       "  ['n', 'o', 'r']                          => zip(Any[\"nor\"])\n",
       "  ['e', 'j', 'k', 'u']                     => zip(Any[\"juke\"])\n",
       "  ['e', 'i', 'm', 'n', 'n', 'o', 'r', 's'… => zip(Any[\"innermost\"])\n",
       "  ['a', 'e', 'g', 'h', 'i', 'l', 'n', 'o'… => zip(Any[\"overhauling\"])\n",
       "  ['c', 'e', 'g', 'i', 'n', 'n', 'o', 'r'… => zip(Any[\"converting\"])\n",
       "  ['a', 'c', 'd', 'i', 'l', 'n', 'o']      => zip(Any[\"nodical\"])\n",
       "  ['a', 'e', 'i', 'm', 'n', 'n', 'o', 's'… => zip(Any[\"nominates\"])\n",
       "  ['c', 'e', 'i', 'l', 'l', 'o', 'q', 'u'] => zip(Any[\"coquille\"])\n",
       "  ['a', 'b', 'b', 'c', 'o']                => zip(Any[\"cabob\"])\n",
       "  ['i', 'i', 'n', 'n', 's', 't', 't', 'u'] => zip(Any[\"tinnitus\"])\n",
       "  ['a', 'd', 'e', 'i', 'n', 'p', 'r', 's'… => zip(Any[\"dispensary\"])\n",
       "  ['a', 'c', 'c', 'e', 'e', 'h', 'h', 'l'… => zip(Any[\"schoolteachers\"])\n",
       "  ['a', 'a', 'c', 'c', 'e', 'e', 'i', 'r'… => zip(Any[\"cercariae\"])\n",
       "  ['a', 'e', 'g', 'g', 'g', 'i', 'n', 'n'] => zip(Any[\"engaging\"])\n",
       "  ['a', 'a', 'c', 'l', 'n', 'p', 'y']      => zip(Any[\"claypan\"])\n",
       "  ['a', 'd', 'e', 'o', 'p', 'r', 'r', 't'… => zip(Any[\"predatory\", \"portrayed\"])\n",
       "  ['a', 'a', 'c', 'i', 'i', 'l', 'l', 'r'… => zip(Any[\"satirically\"])\n",
       "  ['a', 'a', 'b', 'e', 'h', 'l', 'p', 's'] => zip(Any[\"shapable\"])\n",
       "  ⋮                                        => ⋮"
      ]
     },
     "execution_count": 55,
     "metadata": {},
     "output_type": "execute_result"
    }
   ],
   "source": [
    "reverseD(d)"
   ]
  },
  {
   "cell_type": "code",
   "execution_count": 56,
   "id": "b2903ffe-3bed-4db6-8b1e-957ef4e9575d",
   "metadata": {
    "execution": {
     "iopub.execute_input": "2021-04-23T06:29:26.470000-07:00",
     "iopub.status.busy": "2021-04-23T06:29:26.470000-07:00",
     "iopub.status.idle": "2021-04-23T06:29:27.034000-07:00",
     "shell.execute_reply": "2021-04-23T06:29:27.032000-07:00"
    },
    "tags": []
   },
   "outputs": [],
   "source": [
    "open(\"Data/Chap12/words1.txt\", \"w+\") do io\n",
    "    for (ks, vs) in reverseD(d)\n",
    "        if length(vs) > 1\n",
    "            for i in vs\n",
    "                write(io, \"$(i[1]) \\t\")\n",
    "            end\n",
    "            write(io, '\\n')\n",
    "        end\n",
    "    end\n",
    "end"
   ]
  },
  {
   "cell_type": "code",
   "execution_count": 57,
   "id": "d986fba8-e0f7-4fa9-b643-615422992025",
   "metadata": {
    "execution": {
     "iopub.execute_input": "2021-04-23T06:29:27.036000-07:00",
     "iopub.status.busy": "2021-04-23T06:29:27.035000-07:00",
     "iopub.status.idle": "2021-04-23T06:29:28.147000-07:00",
     "shell.execute_reply": "2021-04-23T06:29:28.145000-07:00"
    },
    "tags": []
   },
   "outputs": [],
   "source": [
    "reverseR = reverseD(d);\n",
    "\n",
    "size_array = length.(values(reverseD(d)));\n",
    "size_words = length.(keys(reverseD(d)));"
   ]
  },
  {
   "cell_type": "code",
   "execution_count": 58,
   "id": "cadac4f0-41c1-40b7-bb17-f0b442d5e1ee",
   "metadata": {
    "execution": {
     "iopub.execute_input": "2021-04-23T06:29:28.149000-07:00",
     "iopub.status.busy": "2021-04-23T06:29:28.148000-07:00",
     "iopub.status.idle": "2021-04-23T06:29:35.898000-07:00",
     "shell.execute_reply": "2021-04-23T06:29:35.896000-07:00"
    },
    "tags": []
   },
   "outputs": [],
   "source": [
    "resultzip = zip(values(reverseR),size_array)\n",
    "\n",
    "resultarray = collect(resultzip)\n",
    "\n",
    "rresult = reverseD(Dict(resultarray));"
   ]
  },
  {
   "cell_type": "code",
   "execution_count": 59,
   "id": "581315ce-cbdc-45dc-a916-536696a0332d",
   "metadata": {
    "execution": {
     "iopub.execute_input": "2021-04-23T06:29:35.900000-07:00",
     "iopub.status.busy": "2021-04-23T06:29:35.899000-07:00",
     "iopub.status.idle": "2021-04-23T06:29:36.028000-07:00",
     "shell.execute_reply": "2021-04-23T06:29:36.027000-07:00"
    },
    "tags": []
   },
   "outputs": [
    {
     "data": {
      "text/plain": [
       "writeuntil (generic function with 1 method)"
      ]
     },
     "execution_count": 59,
     "metadata": {},
     "output_type": "execute_result"
    }
   ],
   "source": [
    "function writeuntil(filename,input)\n",
    "    collect(input)\n",
    "    for i in input\n",
    "        if isa(i,Tuple) || isa(i,Array)\n",
    "            writeuntil(filename,i)\n",
    "        else\n",
    "            write(filename, \"$i \\t\")\n",
    "        end\n",
    "    end\n",
    "end"
   ]
  },
  {
   "cell_type": "code",
   "execution_count": 60,
   "id": "964aad61-436e-4ae2-95f6-547434c6b5e6",
   "metadata": {
    "execution": {
     "iopub.execute_input": "2021-04-23T06:29:36.030000-07:00",
     "iopub.status.busy": "2021-04-23T06:29:36.029000-07:00",
     "iopub.status.idle": "2021-04-23T06:29:36.325000-07:00",
     "shell.execute_reply": "2021-04-23T06:29:36.323000-07:00"
    },
    "tags": []
   },
   "outputs": [],
   "source": [
    "open(\"Data/Chap12/word_order_by_size.txt\",\"w+\") do io \n",
    "    for i in reverse(sort(trunc.(Int64,keys(rresult))))\n",
    "        if i > 1\n",
    "            for uz1 in rresult[i]\n",
    "                for uz2 in uz1\n",
    "                    writeuntil(io,uz2)\n",
    "                end\n",
    "                write(io, \"\\n\")\n",
    "            end\n",
    "        end\n",
    "    end\n",
    "end"
   ]
  }
 ],
 "metadata": {
  "kernelspec": {
   "display_name": "Julia 1.6.0",
   "language": "julia",
   "name": "julia-1.6"
  },
  "language_info": {
   "file_extension": ".jl",
   "mimetype": "application/julia",
   "name": "julia",
   "version": "1.6.0"
  }
 },
 "nbformat": 4,
 "nbformat_minor": 5
}
